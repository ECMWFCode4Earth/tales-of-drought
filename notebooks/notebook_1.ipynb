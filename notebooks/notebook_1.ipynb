{
 "cells": [
  {
   "cell_type": "code",
   "execution_count": 1,
   "id": "bbab0e18-10f7-4d7d-b416-86ddb5ef50d1",
   "metadata": {},
   "outputs": [],
   "source": [
    "# pip install numpy xarray netCDF4 matplotlib plotly"
   ]
  },
  {
   "cell_type": "code",
   "execution_count": 2,
   "id": "893df89e-c69a-408c-ac30-5e9fa681f5f9",
   "metadata": {},
   "outputs": [],
   "source": [
    "# pip install \"dask[complete]\" -q"
   ]
  },
  {
   "cell_type": "code",
   "execution_count": 3,
   "id": "023fdab5-0f5d-4a9f-bd2a-1e36e3f7b988",
   "metadata": {},
   "outputs": [],
   "source": [
    "# pip install geopy ipywidgets folium -q"
   ]
  },
  {
   "cell_type": "code",
   "execution_count": 4,
   "id": "70492638-2d8b-4349-8679-4578485f55e2",
   "metadata": {},
   "outputs": [],
   "source": [
    "# !jupyter nbextension enable --py widgetsnbextension"
   ]
  },
  {
   "cell_type": "code",
   "execution_count": 5,
   "id": "e10a3be8-696f-43c6-9776-3980d6ebb7ae",
   "metadata": {},
   "outputs": [],
   "source": [
    "#!jupyter labextension install @jupyter-widgets/jupyterlab-manager"
   ]
  },
  {
   "cell_type": "code",
   "execution_count": 1,
   "id": "1ee6a0a8-84b8-4856-952e-c643cf55eece",
   "metadata": {},
   "outputs": [],
   "source": [
    "import ipywidgets as widgets\n",
    "from IPython.display import display, clear_output\n",
    "import plotly.graph_objects as go\n",
    "import modules.n1_utilities as uti\n",
    "import warnings\n",
    "warnings.filterwarnings(\"ignore\", category=RuntimeWarning)"
   ]
  },
  {
   "cell_type": "code",
   "execution_count": 2,
   "id": "eacead0a-88f3-4ef6-84a8-cfe94faa540a",
   "metadata": {},
   "outputs": [],
   "source": [
    "country_to_subareas = uti.read_json_to_dict('countries.json', True)\n",
    "months = uti.read_json_to_dict('months.json')\n",
    "timescales = uti.read_json_to_dict('timescales.json')\n",
    "area_subset_data = None\n",
    "selected_country = None\n",
    "selected_subarea = None\n",
    "selected_month = None\n",
    "selected_timescale = None"
   ]
  },
  {
   "cell_type": "code",
   "execution_count": 3,
   "id": "b342cf97-5e08-43fa-933b-c64276780c89",
   "metadata": {},
   "outputs": [],
   "source": [
    "placeholder_country = \"Select a country...\"\n",
    "placeholder_subarea = \"Select a subarea...\"\n",
    "placeholder_month = \"Select a month...\"\n",
    "placeholder_timescale = \"Select a timescale...\"\n",
    "\n",
    "# First dropdown for countries\n",
    "country_selector = widgets.Dropdown(\n",
    "    options=[placeholder_country] + list(country_to_subareas.keys()),\n",
    "    description='Country:',\n",
    "    style={'description_width': 'initial'}\n",
    ")\n",
    "\n",
    "# Second dropdown for subareas, initially empty\n",
    "subarea_selector = widgets.Dropdown(\n",
    "    options=[],\n",
    "    description='Subarea:',\n",
    "    style={'description_width': 'initial'}\n",
    ")\n",
    "\n",
    "# Third dropdown for months\n",
    "month_selector = widgets.Dropdown(\n",
    "    options=[placeholder_month] + list(months.keys()),\n",
    "    description='Select a month:',\n",
    "    style={'description_width': 'initial'}\n",
    ")\n",
    "\n",
    "# Fourh dropdown for timescales\n",
    "timescale_selector = widgets.Dropdown(\n",
    "    options=[placeholder_timescale] + list(timescales.keys()),\n",
    "    description='Select a timescale:',\n",
    "    style={'description_width': 'initial'}\n",
    ")\n",
    "\n",
    "# Create dropdown widgets\n",
    "country_selector = widgets.Dropdown(options=[placeholder_country] + list(country_to_subareas.keys()), description='Country:', style={'description_width': 'initial'})\n",
    "subarea_selector = widgets.Dropdown(options=[], description='Subarea:', style={'description_width': 'initial'})\n",
    "month_selector = widgets.Dropdown(options=[placeholder_month] + list(months.keys()), description='Select a month:', style={'description_width': 'initial'})\n",
    "timescale_selector = widgets.Dropdown(options=[placeholder_timescale] + list(timescales.keys()), description='Select a timescale:', style={'description_width': 'initial'})"
   ]
  },
  {
   "cell_type": "code",
   "execution_count": 4,
   "id": "8380fe46-04bc-4af2-8df5-65acbed66974",
   "metadata": {},
   "outputs": [],
   "source": [
    "def on_value_change(change):\n",
    "    \"\"\"\n",
    "    Responds to changes in selection widgets and updates the display accordingly. This function will be linked to the widget's observer\n",
    "\n",
    "    This function is triggered whenever a change occurs in the selection widgets (country, subarea, month, timescale).\n",
    "    It updates global variables based on the new selections, fetches geographical bounds for mapping purposes,\n",
    "    and updates the displayed data and maps. If all selection conditions are met (valid country, month and timescale), \n",
    "    it triggers data processing and updates the displayed output.\n",
    "\n",
    "    Parameters:\n",
    "    change (dict): A dictionary containing details about the change event. It has keys such as 'owner'\n",
    "                   (the widget that triggered the change), 'new' (the new value of the widget), and\n",
    "                   'old' (the previous value of the widget).\n",
    "\n",
    "    The function utilizes global variables to maintain state across different widget interactions. \n",
    "    These variables include:\n",
    "    - area_subset_data: Data specific to the selected geographical and temporal parameters.\n",
    "    - selected_country: The currently selected country.\n",
    "    - selected_subarea: The currently selected subarea within the country.\n",
    "    - selected_month: The currently selected month for data display.\n",
    "    -  selected_timescale: The currently selected timescale for data display.\n",
    "\n",
    "    Outputs are managed via an 'output_area' context manager that handles the display within a designated \n",
    "    Jupyter Notebook output area. This ensures that outputs such as maps and messages are properly managed and updated.\n",
    "    \"\"\"\n",
    "    global area_subset_data, selected_country, selected_subarea, selected_month, selected_timescale\n",
    "\n",
    "    with output_area:\n",
    "        clear_output(wait=True)  # Clear the previous outputs including maps and messages\n",
    "        \n",
    "        # Update global variables and fetch bounds for the map\n",
    "        if change['owner'] == country_selector and change['new'] != placeholder_country:\n",
    "            selected_country = change['new']\n",
    "            bounds = uti.get_country_bounds(selected_country)  # Fetch bounds for the selected country\n",
    "\n",
    "        elif change['owner'] == subarea_selector and change['new'] != placeholder_subarea:\n",
    "            selected_subarea = change['new']\n",
    "            bounds = uti.get_country_bounds(selected_subarea)\n",
    "            map_display = uti.display_map(bounds)\n",
    "            display(map_display)\n",
    "\n",
    "        elif change['owner'] == month_selector and change['new'] != placeholder_month:\n",
    "            selected_month = change['new']\n",
    "            \n",
    "        elif change['owner'] == timescale_selector and change['new'] != placeholder_timescale:\n",
    "            selected_timescale = change['new']\n",
    "            \n",
    "        # Update data if all selections are valid\n",
    "        if country_selector.value != placeholder_country and subarea_selector.value != placeholder_subarea and month_selector.value != placeholder_month and timescale_selector.value != placeholder_timescale:\n",
    "            area_subset_data = uti.update_display(\n",
    "                country_selector, \n",
    "                subarea_selector, \n",
    "                month_selector, \n",
    "                timescale_selector, \n",
    "                months, \n",
    "                timescales, \n",
    "                placeholder_country, \n",
    "                placeholder_subarea, \n",
    "                placeholder_month, \n",
    "                placeholder_timescale\n",
    "            )\n",
    "            print(f\"Data updated for: Country={selected_country}, Subarea={selected_subarea}, Month={selected_month}, Timescale={selected_timescale}\")"
   ]
  },
  {
   "cell_type": "code",
   "execution_count": 5,
   "id": "3f602d1e-5a99-4960-a0e1-22da219a4815",
   "metadata": {},
   "outputs": [
    {
     "data": {
      "application/vnd.jupyter.widget-view+json": {
       "model_id": "6031d453970447fdaa876017b6a0cc26",
       "version_major": 2,
       "version_minor": 0
      },
      "text/plain": [
       "Dropdown(description='Country:', options=('Select a country...', 'Brazil', 'India', 'Italy', 'Madagascar'), st…"
      ]
     },
     "metadata": {},
     "output_type": "display_data"
    },
    {
     "data": {
      "application/vnd.jupyter.widget-view+json": {
       "model_id": "e54c8b27f1e042d18bf01b85d02e4967",
       "version_major": 2,
       "version_minor": 0
      },
      "text/plain": [
       "Dropdown(description='Subarea:', options=(), style=DescriptionStyle(description_width='initial'), value=None)"
      ]
     },
     "metadata": {},
     "output_type": "display_data"
    },
    {
     "data": {
      "application/vnd.jupyter.widget-view+json": {
       "model_id": "2741bd02d7b54a159d0d31c994f3d05b",
       "version_major": 2,
       "version_minor": 0
      },
      "text/plain": [
       "Dropdown(description='Select a month:', options=('Select a month...', 'January', 'February', 'March', 'April',…"
      ]
     },
     "metadata": {},
     "output_type": "display_data"
    },
    {
     "data": {
      "application/vnd.jupyter.widget-view+json": {
       "model_id": "093a90fe44e746499d2e6af3bacd4bc6",
       "version_major": 2,
       "version_minor": 0
      },
      "text/plain": [
       "Dropdown(description='Select a timescale:', options=('Select a timescale...', '1 month', '3 months', '6 months…"
      ]
     },
     "metadata": {},
     "output_type": "display_data"
    },
    {
     "data": {
      "application/vnd.jupyter.widget-view+json": {
       "model_id": "134dd26101b54bab951eeab8b8df0ecf",
       "version_major": 2,
       "version_minor": 0
      },
      "text/plain": [
       "Output()"
      ]
     },
     "metadata": {},
     "output_type": "display_data"
    }
   ],
   "source": [
    "# Output widgets\n",
    "output_area = widgets.Output()\n",
    "\n",
    "# Display widgets\n",
    "display(country_selector, subarea_selector, month_selector, timescale_selector, output_area)\n",
    "\n",
    "\n",
    "# Linking widgets to functions\n",
    "country_selector.observe(\n",
    "    lambda change: uti.update_subarea_selector(\n",
    "        change, \n",
    "        placeholder_country, \n",
    "        placeholder_subarea, \n",
    "        subarea_selector,\n",
    "        country_to_subareas\n",
    "    ), \n",
    "    names='value'\n",
    ")\n",
    "\n",
    "# Attach observers to the widgets\n",
    "# The generated map is just to verify that the selected area is the one of interest\n",
    "country_selector.observe(on_value_change, names='value')\n",
    "subarea_selector.observe(on_value_change, names='value')\n",
    "month_selector.observe(on_value_change, names='value')\n",
    "timescale_selector.observe(on_value_change, names='value')"
   ]
  },
  {
   "cell_type": "code",
   "execution_count": 9,
   "id": "213097ca-0df1-4d67-b180-cbf65aca2917",
   "metadata": {},
   "outputs": [
    {
     "name": "stdout",
     "output_type": "stream",
     "text": [
      "Brazil\n",
      "Amazonas\n",
      "June\n",
      "36 months\n",
      "<xarray.Dataset>\n",
      "Dimensions:  (lat: 234, lon: 257, time: 84)\n",
      "Coordinates:\n",
      "  * time     (time) datetime64[ns] 1940-06-01T06:00:00 ... 2023-06-01T06:00:00\n",
      "  * lon      (lon) float64 -73.75 -73.5 -73.25 -73.0 ... -10.25 -10.0 -9.75\n",
      "  * lat      (lat) float64 -56.0 -55.75 -55.5 -55.25 -55.0 ... 1.5 1.75 2.0 2.25\n",
      "Data variables:\n",
      "    SPEI36   (time, lat, lon) float64 dask.array<chunksize=(1, 234, 257), meta=np.ndarray>\n",
      "Attributes:\n",
      "    CDI:          Climate Data Interface version 2.1.1 (https://mpimet.mpg.de...\n",
      "    Conventions:  CF-1.6\n",
      "    source:       DRYFALL v0.1\n",
      "    institution:  ECMWF\n",
      "    title:        SPEI36\n",
      "    description:  Drought Index: Standardized Drought Index calculated accord...\n",
      "    history:      Thu Feb 29 08:31:22 2024: cdo -selyear,1940 -selmon,6 /scra...\n",
      "    CDO:          Climate Data Operators version 2.1.1 (https://mpimet.mpg.de...\n"
     ]
    }
   ],
   "source": [
    "print(selected_country)\n",
    "print(selected_subarea)\n",
    "print(selected_month)\n",
    "print(selected_timescale)\n",
    "print(area_subset_data)"
   ]
  },
  {
   "cell_type": "code",
   "execution_count": 12,
   "id": "68f69005-00a9-4a2c-8c16-1f13f99aeacd",
   "metadata": {},
   "outputs": [],
   "source": [
    "index = f'SPEI{timescales[selected_timescale]}'\n",
    "# print(area_subset_data[index].values)"
   ]
  },
  {
   "cell_type": "code",
   "execution_count": 13,
   "id": "66a6e2c8-c315-4a88-97f3-ea28da3b23ac",
   "metadata": {},
   "outputs": [],
   "source": [
    "area_subset_data[index] = area_subset_data[index].where(area_subset_data[index] != -9999.0) # Replace -9999.0 with NaN across the dataset"
   ]
  },
  {
   "cell_type": "code",
   "execution_count": 14,
   "id": "04f63fc7-c5ac-4a55-8ef7-8ee7c58d1bcc",
   "metadata": {},
   "outputs": [
    {
     "name": "stdout",
     "output_type": "stream",
     "text": [
      "<xarray.DataArray 'SPEI36' (time: 84)>\n",
      "dask.array<mean_agg-aggregate, shape=(84,), dtype=float64, chunksize=(1,), chunktype=numpy.ndarray>\n",
      "Coordinates:\n",
      "  * time     (time) datetime64[ns] 1940-06-01T06:00:00 ... 2023-06-01T06:00:00\n"
     ]
    }
   ],
   "source": [
    "mean_spei = area_subset_data[index].mean(dim=['lat', 'lon'])\n",
    "print(mean_spei)"
   ]
  },
  {
   "cell_type": "code",
   "execution_count": 15,
   "id": "d418f89d-6e9a-4cc2-a64b-c4049e692dda",
   "metadata": {},
   "outputs": [
    {
     "name": "stdout",
     "output_type": "stream",
     "text": [
      "<xarray.DataArray 'SPEI36' (time: 84)>\n",
      "array([        nan,         nan,         nan, -0.84803995, -0.68192372,\n",
      "       -0.501172  ,  0.08199697,  0.02864267,  0.00584526, -0.74200594,\n",
      "       -0.76545847, -0.67421965, -0.25586179, -0.41344157, -0.16788842,\n",
      "       -0.34292936, -0.38997434, -0.33268278, -0.39505099, -0.45891874,\n",
      "       -0.81320935, -0.99911452, -1.48146306, -1.89827445, -1.83297894,\n",
      "       -1.14677024, -0.88066626, -0.58555592, -0.84654431, -0.96630449,\n",
      "       -0.94094595, -0.6784174 , -0.30816829,  0.02940151,  0.60459959,\n",
      "        0.67137764,  0.69301407,  0.4826037 ,  0.6253808 ,  0.5453685 ,\n",
      "        0.46877692,  0.41867715,  0.36471875,  0.32741584,  0.44253541,\n",
      "        0.91937321,  1.13754711,  0.98314999,  0.74209955,  0.43852244,\n",
      "        0.4946073 ,  0.47956336,  0.43466998,  0.49358082,  0.55614741,\n",
      "        0.49071466,  0.22414868, -0.46412952,  0.00951168,  0.14711899,\n",
      "       -0.047174  ,  0.32390411,  0.26965011,  0.10729508, -0.15581095,\n",
      "       -0.35376578, -0.33951481, -0.38478848, -0.25457946, -0.19643964,\n",
      "       -0.23104507, -0.26573588, -0.42406537, -0.46412952, -0.32025497,\n",
      "       -0.18482819, -0.31054251, -0.36521778, -0.6196105 , -0.26410778,\n",
      "       -0.66828373, -1.13509954, -1.60425953, -1.84189307])\n",
      "Coordinates:\n",
      "  * time     (time) datetime64[ns] 1940-06-01T06:00:00 ... 2023-06-01T06:00:00\n"
     ]
    }
   ],
   "source": [
    "mean_spei_computed = mean_spei.compute()\n",
    "print(mean_spei_computed)"
   ]
  },
  {
   "cell_type": "code",
   "execution_count": 16,
   "id": "7cf9e3bd-f454-4069-96c3-f92fd2728f6f",
   "metadata": {},
   "outputs": [],
   "source": [
    "# Extract times and values for plotting\n",
    "times = mean_spei_computed['time'].values\n",
    "values = mean_spei_computed.values\n",
    "colors = uti.assign_color_spei(values)"
   ]
  },
  {
   "cell_type": "code",
   "execution_count": 18,
   "id": "5292840b-dc16-4c5d-8944-2db0cbf574cd",
   "metadata": {},
   "outputs": [
    {
     "data": {
      "application/vnd.plotly.v1+json": {
       "config": {
        "plotlyServerURL": "https://plot.ly"
       },
       "data": [
        {
         "marker": {
          "color": [
           "#681824",
           "#681824",
           "#681824",
           "#F7BB9F",
           "#F7BB9F",
           "#F7BB9F",
           "#ACD1E5",
           "#ACD1E5",
           "#ACD1E5",
           "#F7BB9F",
           "#F7BB9F",
           "#F7BB9F",
           "#F7BB9F",
           "#F7BB9F",
           "#F7BB9F",
           "#F7BB9F",
           "#F7BB9F",
           "#F7BB9F",
           "#F7BB9F",
           "#F7BB9F",
           "#F7BB9F",
           "#F7BB9F",
           "#D96C59",
           "#AF2331",
           "#AF2331",
           "#D96C59",
           "#F7BB9F",
           "#F7BB9F",
           "#F7BB9F",
           "#F7BB9F",
           "#F7BB9F",
           "#F7BB9F",
           "#F7BB9F",
           "#ACD1E5",
           "#ACD1E5",
           "#ACD1E5",
           "#ACD1E5",
           "#ACD1E5",
           "#ACD1E5",
           "#ACD1E5",
           "#ACD1E5",
           "#ACD1E5",
           "#ACD1E5",
           "#ACD1E5",
           "#ACD1E5",
           "#ACD1E5",
           "#61A5CE",
           "#ACD1E5",
           "#ACD1E5",
           "#ACD1E5",
           "#ACD1E5",
           "#ACD1E5",
           "#ACD1E5",
           "#ACD1E5",
           "#ACD1E5",
           "#ACD1E5",
           "#ACD1E5",
           "#F7BB9F",
           "#ACD1E5",
           "#ACD1E5",
           "#F7BB9F",
           "#ACD1E5",
           "#ACD1E5",
           "#ACD1E5",
           "#F7BB9F",
           "#F7BB9F",
           "#F7BB9F",
           "#F7BB9F",
           "#F7BB9F",
           "#F7BB9F",
           "#F7BB9F",
           "#F7BB9F",
           "#F7BB9F",
           "#F7BB9F",
           "#F7BB9F",
           "#F7BB9F",
           "#F7BB9F",
           "#F7BB9F",
           "#F7BB9F",
           "#F7BB9F",
           "#F7BB9F",
           "#D96C59",
           "#AF2331",
           "#AF2331"
          ],
          "line": {
           "color": "#717BFA",
           "width": 0
          },
          "size": 10
         },
         "mode": "markers",
         "name": "Mean SPEI12",
         "type": "scatter",
         "x": [
          "1940-06-01T06:00:00.000000000",
          "1941-06-01T06:00:00.000000000",
          "1942-06-01T06:00:00.000000000",
          "1943-06-01T06:00:00.000000000",
          "1944-06-01T06:00:00.000000000",
          "1945-06-01T06:00:00.000000000",
          "1946-06-01T06:00:00.000000000",
          "1947-06-01T06:00:00.000000000",
          "1948-06-01T06:00:00.000000000",
          "1949-06-01T06:00:00.000000000",
          "1950-06-01T06:00:00.000000000",
          "1951-06-01T06:00:00.000000000",
          "1952-06-01T06:00:00.000000000",
          "1953-06-01T06:00:00.000000000",
          "1954-06-01T06:00:00.000000000",
          "1955-06-01T06:00:00.000000000",
          "1956-06-01T06:00:00.000000000",
          "1957-06-01T06:00:00.000000000",
          "1958-06-01T06:00:00.000000000",
          "1959-06-01T06:00:00.000000000",
          "1960-06-01T06:00:00.000000000",
          "1961-06-01T06:00:00.000000000",
          "1962-06-01T06:00:00.000000000",
          "1963-06-01T06:00:00.000000000",
          "1964-06-01T06:00:00.000000000",
          "1965-06-01T06:00:00.000000000",
          "1966-06-01T06:00:00.000000000",
          "1967-06-01T06:00:00.000000000",
          "1968-06-01T06:00:00.000000000",
          "1969-06-01T06:00:00.000000000",
          "1970-06-01T06:00:00.000000000",
          "1971-06-01T06:00:00.000000000",
          "1972-06-01T06:00:00.000000000",
          "1973-06-01T06:00:00.000000000",
          "1974-06-01T06:00:00.000000000",
          "1975-06-01T06:00:00.000000000",
          "1976-06-01T06:00:00.000000000",
          "1977-06-01T06:00:00.000000000",
          "1978-06-01T06:00:00.000000000",
          "1979-06-01T06:00:00.000000000",
          "1980-06-01T06:00:00.000000000",
          "1981-06-01T06:00:00.000000000",
          "1982-06-01T06:00:00.000000000",
          "1983-06-01T06:00:00.000000000",
          "1984-06-01T06:00:00.000000000",
          "1985-06-01T06:00:00.000000000",
          "1986-06-01T06:00:00.000000000",
          "1987-06-01T06:00:00.000000000",
          "1988-06-01T06:00:00.000000000",
          "1989-06-01T06:00:00.000000000",
          "1990-06-01T06:00:00.000000000",
          "1991-06-01T06:00:00.000000000",
          "1992-06-01T06:00:00.000000000",
          "1993-06-01T06:00:00.000000000",
          "1994-06-01T06:00:00.000000000",
          "1995-06-01T06:00:00.000000000",
          "1996-06-01T06:00:00.000000000",
          "2013-06-01T06:00:00.000000000",
          "1998-06-01T06:00:00.000000000",
          "1999-06-01T06:00:00.000000000",
          "2000-06-01T06:00:00.000000000",
          "2001-06-01T06:00:00.000000000",
          "2002-06-01T06:00:00.000000000",
          "2003-06-01T06:00:00.000000000",
          "2004-06-01T06:00:00.000000000",
          "2005-06-01T06:00:00.000000000",
          "2006-06-01T06:00:00.000000000",
          "2007-06-01T06:00:00.000000000",
          "2008-06-01T06:00:00.000000000",
          "2009-06-01T06:00:00.000000000",
          "2010-06-01T06:00:00.000000000",
          "2011-06-01T06:00:00.000000000",
          "2012-06-01T06:00:00.000000000",
          "2013-06-01T06:00:00.000000000",
          "2014-06-01T06:00:00.000000000",
          "2015-06-01T06:00:00.000000000",
          "2016-06-01T06:00:00.000000000",
          "2017-06-01T06:00:00.000000000",
          "2018-06-01T06:00:00.000000000",
          "2019-06-01T06:00:00.000000000",
          "2020-06-01T06:00:00.000000000",
          "2021-06-01T06:00:00.000000000",
          "2022-06-01T06:00:00.000000000",
          "2023-06-01T06:00:00.000000000"
         ],
         "y": [
          null,
          null,
          null,
          -0.8480399530472364,
          -0.6819237203415736,
          -0.5011719951673868,
          0.08199697276764722,
          0.028642667903548937,
          0.005845262232176669,
          -0.7420059417842786,
          -0.7654584690576567,
          -0.6742196522787791,
          -0.25586179118446517,
          -0.41344156884910965,
          -0.16788841755182538,
          -0.3429293598898022,
          -0.3899743403315537,
          -0.33268278412598623,
          -0.39505098639330927,
          -0.45891873798931254,
          -0.813209346087566,
          -0.9991145217508687,
          -1.4814630582633423,
          -1.8982744533589113,
          -1.8329789442590263,
          -1.1467702442745344,
          -0.8806662556398209,
          -0.5855559246612774,
          -0.8465443130111366,
          -0.9663044913825293,
          -0.9409459503090152,
          -0.6784173969436601,
          -0.3081682863698437,
          0.029401510426122077,
          0.6045995935667439,
          0.6713776381426275,
          0.6930140677837839,
          0.4826036963779927,
          0.6253807999292211,
          0.5453684979552372,
          0.4687769174899864,
          0.41867714849567006,
          0.3647187472267421,
          0.3274158416619035,
          0.44253540505148825,
          0.919373205376092,
          1.1375471133401143,
          0.983149987490821,
          0.7420995455545738,
          0.4385224404764769,
          0.4946073012774757,
          0.47956336340104516,
          0.4346699778304712,
          0.49358081538687665,
          0.5561474101077083,
          0.49071465561460603,
          0.22414868298235668,
          -0.4641295213290031,
          0.009511683821245395,
          0.1471189911434248,
          -0.047174001461675684,
          0.32390411438136485,
          0.26965010864703803,
          0.10729508435144618,
          -0.15581095272189902,
          -0.35376578224405253,
          -0.33951481414217843,
          -0.3847884764446396,
          -0.2545794600358505,
          -0.19643964282524679,
          -0.231045070495499,
          -0.2657358798560858,
          -0.42406536876325845,
          -0.4641295213290031,
          -0.3202549657705712,
          -0.18482818902483616,
          -0.3105425084661606,
          -0.3652177782970707,
          -0.6196105012067383,
          -0.26410777579808997,
          -0.6682837334519041,
          -1.1350995426274846,
          -1.604259534292308,
          -1.8418930707150165
         ]
        }
       ],
       "layout": {
        "autosize": true,
        "paper_bgcolor": "white",
        "plot_bgcolor": "white",
        "template": {
         "data": {
          "bar": [
           {
            "error_x": {
             "color": "#2a3f5f"
            },
            "error_y": {
             "color": "#2a3f5f"
            },
            "marker": {
             "line": {
              "color": "#E5ECF6",
              "width": 0.5
             },
             "pattern": {
              "fillmode": "overlay",
              "size": 10,
              "solidity": 0.2
             }
            },
            "type": "bar"
           }
          ],
          "barpolar": [
           {
            "marker": {
             "line": {
              "color": "#E5ECF6",
              "width": 0.5
             },
             "pattern": {
              "fillmode": "overlay",
              "size": 10,
              "solidity": 0.2
             }
            },
            "type": "barpolar"
           }
          ],
          "carpet": [
           {
            "aaxis": {
             "endlinecolor": "#2a3f5f",
             "gridcolor": "white",
             "linecolor": "white",
             "minorgridcolor": "white",
             "startlinecolor": "#2a3f5f"
            },
            "baxis": {
             "endlinecolor": "#2a3f5f",
             "gridcolor": "white",
             "linecolor": "white",
             "minorgridcolor": "white",
             "startlinecolor": "#2a3f5f"
            },
            "type": "carpet"
           }
          ],
          "choropleth": [
           {
            "colorbar": {
             "outlinewidth": 0,
             "ticks": ""
            },
            "type": "choropleth"
           }
          ],
          "contour": [
           {
            "colorbar": {
             "outlinewidth": 0,
             "ticks": ""
            },
            "colorscale": [
             [
              0,
              "#0d0887"
             ],
             [
              0.1111111111111111,
              "#46039f"
             ],
             [
              0.2222222222222222,
              "#7201a8"
             ],
             [
              0.3333333333333333,
              "#9c179e"
             ],
             [
              0.4444444444444444,
              "#bd3786"
             ],
             [
              0.5555555555555556,
              "#d8576b"
             ],
             [
              0.6666666666666666,
              "#ed7953"
             ],
             [
              0.7777777777777778,
              "#fb9f3a"
             ],
             [
              0.8888888888888888,
              "#fdca26"
             ],
             [
              1,
              "#f0f921"
             ]
            ],
            "type": "contour"
           }
          ],
          "contourcarpet": [
           {
            "colorbar": {
             "outlinewidth": 0,
             "ticks": ""
            },
            "type": "contourcarpet"
           }
          ],
          "heatmap": [
           {
            "colorbar": {
             "outlinewidth": 0,
             "ticks": ""
            },
            "colorscale": [
             [
              0,
              "#0d0887"
             ],
             [
              0.1111111111111111,
              "#46039f"
             ],
             [
              0.2222222222222222,
              "#7201a8"
             ],
             [
              0.3333333333333333,
              "#9c179e"
             ],
             [
              0.4444444444444444,
              "#bd3786"
             ],
             [
              0.5555555555555556,
              "#d8576b"
             ],
             [
              0.6666666666666666,
              "#ed7953"
             ],
             [
              0.7777777777777778,
              "#fb9f3a"
             ],
             [
              0.8888888888888888,
              "#fdca26"
             ],
             [
              1,
              "#f0f921"
             ]
            ],
            "type": "heatmap"
           }
          ],
          "heatmapgl": [
           {
            "colorbar": {
             "outlinewidth": 0,
             "ticks": ""
            },
            "colorscale": [
             [
              0,
              "#0d0887"
             ],
             [
              0.1111111111111111,
              "#46039f"
             ],
             [
              0.2222222222222222,
              "#7201a8"
             ],
             [
              0.3333333333333333,
              "#9c179e"
             ],
             [
              0.4444444444444444,
              "#bd3786"
             ],
             [
              0.5555555555555556,
              "#d8576b"
             ],
             [
              0.6666666666666666,
              "#ed7953"
             ],
             [
              0.7777777777777778,
              "#fb9f3a"
             ],
             [
              0.8888888888888888,
              "#fdca26"
             ],
             [
              1,
              "#f0f921"
             ]
            ],
            "type": "heatmapgl"
           }
          ],
          "histogram": [
           {
            "marker": {
             "pattern": {
              "fillmode": "overlay",
              "size": 10,
              "solidity": 0.2
             }
            },
            "type": "histogram"
           }
          ],
          "histogram2d": [
           {
            "colorbar": {
             "outlinewidth": 0,
             "ticks": ""
            },
            "colorscale": [
             [
              0,
              "#0d0887"
             ],
             [
              0.1111111111111111,
              "#46039f"
             ],
             [
              0.2222222222222222,
              "#7201a8"
             ],
             [
              0.3333333333333333,
              "#9c179e"
             ],
             [
              0.4444444444444444,
              "#bd3786"
             ],
             [
              0.5555555555555556,
              "#d8576b"
             ],
             [
              0.6666666666666666,
              "#ed7953"
             ],
             [
              0.7777777777777778,
              "#fb9f3a"
             ],
             [
              0.8888888888888888,
              "#fdca26"
             ],
             [
              1,
              "#f0f921"
             ]
            ],
            "type": "histogram2d"
           }
          ],
          "histogram2dcontour": [
           {
            "colorbar": {
             "outlinewidth": 0,
             "ticks": ""
            },
            "colorscale": [
             [
              0,
              "#0d0887"
             ],
             [
              0.1111111111111111,
              "#46039f"
             ],
             [
              0.2222222222222222,
              "#7201a8"
             ],
             [
              0.3333333333333333,
              "#9c179e"
             ],
             [
              0.4444444444444444,
              "#bd3786"
             ],
             [
              0.5555555555555556,
              "#d8576b"
             ],
             [
              0.6666666666666666,
              "#ed7953"
             ],
             [
              0.7777777777777778,
              "#fb9f3a"
             ],
             [
              0.8888888888888888,
              "#fdca26"
             ],
             [
              1,
              "#f0f921"
             ]
            ],
            "type": "histogram2dcontour"
           }
          ],
          "mesh3d": [
           {
            "colorbar": {
             "outlinewidth": 0,
             "ticks": ""
            },
            "type": "mesh3d"
           }
          ],
          "parcoords": [
           {
            "line": {
             "colorbar": {
              "outlinewidth": 0,
              "ticks": ""
             }
            },
            "type": "parcoords"
           }
          ],
          "pie": [
           {
            "automargin": true,
            "type": "pie"
           }
          ],
          "scatter": [
           {
            "fillpattern": {
             "fillmode": "overlay",
             "size": 10,
             "solidity": 0.2
            },
            "type": "scatter"
           }
          ],
          "scatter3d": [
           {
            "line": {
             "colorbar": {
              "outlinewidth": 0,
              "ticks": ""
             }
            },
            "marker": {
             "colorbar": {
              "outlinewidth": 0,
              "ticks": ""
             }
            },
            "type": "scatter3d"
           }
          ],
          "scattercarpet": [
           {
            "marker": {
             "colorbar": {
              "outlinewidth": 0,
              "ticks": ""
             }
            },
            "type": "scattercarpet"
           }
          ],
          "scattergeo": [
           {
            "marker": {
             "colorbar": {
              "outlinewidth": 0,
              "ticks": ""
             }
            },
            "type": "scattergeo"
           }
          ],
          "scattergl": [
           {
            "marker": {
             "colorbar": {
              "outlinewidth": 0,
              "ticks": ""
             }
            },
            "type": "scattergl"
           }
          ],
          "scattermapbox": [
           {
            "marker": {
             "colorbar": {
              "outlinewidth": 0,
              "ticks": ""
             }
            },
            "type": "scattermapbox"
           }
          ],
          "scatterpolar": [
           {
            "marker": {
             "colorbar": {
              "outlinewidth": 0,
              "ticks": ""
             }
            },
            "type": "scatterpolar"
           }
          ],
          "scatterpolargl": [
           {
            "marker": {
             "colorbar": {
              "outlinewidth": 0,
              "ticks": ""
             }
            },
            "type": "scatterpolargl"
           }
          ],
          "scatterternary": [
           {
            "marker": {
             "colorbar": {
              "outlinewidth": 0,
              "ticks": ""
             }
            },
            "type": "scatterternary"
           }
          ],
          "surface": [
           {
            "colorbar": {
             "outlinewidth": 0,
             "ticks": ""
            },
            "colorscale": [
             [
              0,
              "#0d0887"
             ],
             [
              0.1111111111111111,
              "#46039f"
             ],
             [
              0.2222222222222222,
              "#7201a8"
             ],
             [
              0.3333333333333333,
              "#9c179e"
             ],
             [
              0.4444444444444444,
              "#bd3786"
             ],
             [
              0.5555555555555556,
              "#d8576b"
             ],
             [
              0.6666666666666666,
              "#ed7953"
             ],
             [
              0.7777777777777778,
              "#fb9f3a"
             ],
             [
              0.8888888888888888,
              "#fdca26"
             ],
             [
              1,
              "#f0f921"
             ]
            ],
            "type": "surface"
           }
          ],
          "table": [
           {
            "cells": {
             "fill": {
              "color": "#EBF0F8"
             },
             "line": {
              "color": "white"
             }
            },
            "header": {
             "fill": {
              "color": "#C8D4E3"
             },
             "line": {
              "color": "white"
             }
            },
            "type": "table"
           }
          ]
         },
         "layout": {
          "annotationdefaults": {
           "arrowcolor": "#2a3f5f",
           "arrowhead": 0,
           "arrowwidth": 1
          },
          "autotypenumbers": "strict",
          "coloraxis": {
           "colorbar": {
            "outlinewidth": 0,
            "ticks": ""
           }
          },
          "colorscale": {
           "diverging": [
            [
             0,
             "#8e0152"
            ],
            [
             0.1,
             "#c51b7d"
            ],
            [
             0.2,
             "#de77ae"
            ],
            [
             0.3,
             "#f1b6da"
            ],
            [
             0.4,
             "#fde0ef"
            ],
            [
             0.5,
             "#f7f7f7"
            ],
            [
             0.6,
             "#e6f5d0"
            ],
            [
             0.7,
             "#b8e186"
            ],
            [
             0.8,
             "#7fbc41"
            ],
            [
             0.9,
             "#4d9221"
            ],
            [
             1,
             "#276419"
            ]
           ],
           "sequential": [
            [
             0,
             "#0d0887"
            ],
            [
             0.1111111111111111,
             "#46039f"
            ],
            [
             0.2222222222222222,
             "#7201a8"
            ],
            [
             0.3333333333333333,
             "#9c179e"
            ],
            [
             0.4444444444444444,
             "#bd3786"
            ],
            [
             0.5555555555555556,
             "#d8576b"
            ],
            [
             0.6666666666666666,
             "#ed7953"
            ],
            [
             0.7777777777777778,
             "#fb9f3a"
            ],
            [
             0.8888888888888888,
             "#fdca26"
            ],
            [
             1,
             "#f0f921"
            ]
           ],
           "sequentialminus": [
            [
             0,
             "#0d0887"
            ],
            [
             0.1111111111111111,
             "#46039f"
            ],
            [
             0.2222222222222222,
             "#7201a8"
            ],
            [
             0.3333333333333333,
             "#9c179e"
            ],
            [
             0.4444444444444444,
             "#bd3786"
            ],
            [
             0.5555555555555556,
             "#d8576b"
            ],
            [
             0.6666666666666666,
             "#ed7953"
            ],
            [
             0.7777777777777778,
             "#fb9f3a"
            ],
            [
             0.8888888888888888,
             "#fdca26"
            ],
            [
             1,
             "#f0f921"
            ]
           ]
          },
          "colorway": [
           "#636efa",
           "#EF553B",
           "#00cc96",
           "#ab63fa",
           "#FFA15A",
           "#19d3f3",
           "#FF6692",
           "#B6E880",
           "#FF97FF",
           "#FECB52"
          ],
          "font": {
           "color": "#2a3f5f"
          },
          "geo": {
           "bgcolor": "white",
           "lakecolor": "white",
           "landcolor": "#E5ECF6",
           "showlakes": true,
           "showland": true,
           "subunitcolor": "white"
          },
          "hoverlabel": {
           "align": "left"
          },
          "hovermode": "closest",
          "mapbox": {
           "style": "light"
          },
          "paper_bgcolor": "white",
          "plot_bgcolor": "#E5ECF6",
          "polar": {
           "angularaxis": {
            "gridcolor": "white",
            "linecolor": "white",
            "ticks": ""
           },
           "bgcolor": "#E5ECF6",
           "radialaxis": {
            "gridcolor": "white",
            "linecolor": "white",
            "ticks": ""
           }
          },
          "scene": {
           "xaxis": {
            "backgroundcolor": "#E5ECF6",
            "gridcolor": "white",
            "gridwidth": 2,
            "linecolor": "white",
            "showbackground": true,
            "ticks": "",
            "zerolinecolor": "white"
           },
           "yaxis": {
            "backgroundcolor": "#E5ECF6",
            "gridcolor": "white",
            "gridwidth": 2,
            "linecolor": "white",
            "showbackground": true,
            "ticks": "",
            "zerolinecolor": "white"
           },
           "zaxis": {
            "backgroundcolor": "#E5ECF6",
            "gridcolor": "white",
            "gridwidth": 2,
            "linecolor": "white",
            "showbackground": true,
            "ticks": "",
            "zerolinecolor": "white"
           }
          },
          "shapedefaults": {
           "line": {
            "color": "#2a3f5f"
           }
          },
          "ternary": {
           "aaxis": {
            "gridcolor": "white",
            "linecolor": "white",
            "ticks": ""
           },
           "baxis": {
            "gridcolor": "white",
            "linecolor": "white",
            "ticks": ""
           },
           "bgcolor": "#E5ECF6",
           "caxis": {
            "gridcolor": "white",
            "linecolor": "white",
            "ticks": ""
           }
          },
          "title": {
           "x": 0.05
          },
          "xaxis": {
           "automargin": true,
           "gridcolor": "white",
           "linecolor": "white",
           "ticks": "",
           "title": {
            "standoff": 15
           },
           "zerolinecolor": "white",
           "zerolinewidth": 2
          },
          "yaxis": {
           "automargin": true,
           "gridcolor": "white",
           "linecolor": "white",
           "ticks": "",
           "title": {
            "standoff": 15
           },
           "zerolinecolor": "white",
           "zerolinewidth": 2
          }
         }
        },
        "title": {
         "text": "Mean SPEISPEI36 Trends over time in Brazil, Amazonas area, in June"
        },
        "xaxis": {
         "autorange": true,
         "gridcolor": "lightgray",
         "linecolor": "lightgray",
         "range": [
          "1935-04-02 22:21:28.7267",
          "2028-07-30 13:38:31.2733"
         ],
         "showgrid": true,
         "title": {
          "text": "Years"
         },
         "type": "date"
        },
        "yaxis": {
         "autorange": true,
         "gridcolor": "lightgray",
         "linecolor": "lightgray",
         "range": [
          -2.1246113553905075,
          1.3638840153717107
         ],
         "showgrid": true,
         "title": {
          "text": "Mean SPEI36 Index"
         },
         "type": "linear",
         "zeroline": true,
         "zerolinecolor": "black",
         "zerolinewidth": 1
        }
       }
      },
      "image/png": "[encoded data removed]",
      "text/html": [
       "<div>                            <div id=\"c788d9d6-86ec-41a2-836e-0caf9dd4dea0\" class=\"plotly-graph-div\" style=\"height:600px; width:100%;\"></div>            <script type=\"text/javascript\">                require([\"plotly\"], function(Plotly) {                    window.PLOTLYENV=window.PLOTLYENV || {};                                    if (document.getElementById(\"c788d9d6-86ec-41a2-836e-0caf9dd4dea0\")) {                    Plotly.newPlot(                        \"c788d9d6-86ec-41a2-836e-0caf9dd4dea0\",                        [{\"marker\":{\"color\":[\"#681824\",\"#681824\",\"#681824\",\"#F7BB9F\",\"#F7BB9F\",\"#F7BB9F\",\"#ACD1E5\",\"#ACD1E5\",\"#ACD1E5\",\"#F7BB9F\",\"#F7BB9F\",\"#F7BB9F\",\"#F7BB9F\",\"#F7BB9F\",\"#F7BB9F\",\"#F7BB9F\",\"#F7BB9F\",\"#F7BB9F\",\"#F7BB9F\",\"#F7BB9F\",\"#F7BB9F\",\"#F7BB9F\",\"#D96C59\",\"#AF2331\",\"#AF2331\",\"#D96C59\",\"#F7BB9F\",\"#F7BB9F\",\"#F7BB9F\",\"#F7BB9F\",\"#F7BB9F\",\"#F7BB9F\",\"#F7BB9F\",\"#ACD1E5\",\"#ACD1E5\",\"#ACD1E5\",\"#ACD1E5\",\"#ACD1E5\",\"#ACD1E5\",\"#ACD1E5\",\"#ACD1E5\",\"#ACD1E5\",\"#ACD1E5\",\"#ACD1E5\",\"#ACD1E5\",\"#ACD1E5\",\"#61A5CE\",\"#ACD1E5\",\"#ACD1E5\",\"#ACD1E5\",\"#ACD1E5\",\"#ACD1E5\",\"#ACD1E5\",\"#ACD1E5\",\"#ACD1E5\",\"#ACD1E5\",\"#ACD1E5\",\"#F7BB9F\",\"#ACD1E5\",\"#ACD1E5\",\"#F7BB9F\",\"#ACD1E5\",\"#ACD1E5\",\"#ACD1E5\",\"#F7BB9F\",\"#F7BB9F\",\"#F7BB9F\",\"#F7BB9F\",\"#F7BB9F\",\"#F7BB9F\",\"#F7BB9F\",\"#F7BB9F\",\"#F7BB9F\",\"#F7BB9F\",\"#F7BB9F\",\"#F7BB9F\",\"#F7BB9F\",\"#F7BB9F\",\"#F7BB9F\",\"#F7BB9F\",\"#F7BB9F\",\"#D96C59\",\"#AF2331\",\"#AF2331\"],\"line\":{\"color\":\"#717BFA\",\"width\":0},\"size\":10},\"mode\":\"markers\",\"name\":\"Mean SPEI12\",\"x\":[\"1940-06-01T06:00:00.000000000\",\"1941-06-01T06:00:00.000000000\",\"1942-06-01T06:00:00.000000000\",\"1943-06-01T06:00:00.000000000\",\"1944-06-01T06:00:00.000000000\",\"1945-06-01T06:00:00.000000000\",\"1946-06-01T06:00:00.000000000\",\"1947-06-01T06:00:00.000000000\",\"1948-06-01T06:00:00.000000000\",\"1949-06-01T06:00:00.000000000\",\"1950-06-01T06:00:00.000000000\",\"1951-06-01T06:00:00.000000000\",\"1952-06-01T06:00:00.000000000\",\"1953-06-01T06:00:00.000000000\",\"1954-06-01T06:00:00.000000000\",\"1955-06-01T06:00:00.000000000\",\"1956-06-01T06:00:00.000000000\",\"1957-06-01T06:00:00.000000000\",\"1958-06-01T06:00:00.000000000\",\"1959-06-01T06:00:00.000000000\",\"1960-06-01T06:00:00.000000000\",\"1961-06-01T06:00:00.000000000\",\"1962-06-01T06:00:00.000000000\",\"1963-06-01T06:00:00.000000000\",\"1964-06-01T06:00:00.000000000\",\"1965-06-01T06:00:00.000000000\",\"1966-06-01T06:00:00.000000000\",\"1967-06-01T06:00:00.000000000\",\"1968-06-01T06:00:00.000000000\",\"1969-06-01T06:00:00.000000000\",\"1970-06-01T06:00:00.000000000\",\"1971-06-01T06:00:00.000000000\",\"1972-06-01T06:00:00.000000000\",\"1973-06-01T06:00:00.000000000\",\"1974-06-01T06:00:00.000000000\",\"1975-06-01T06:00:00.000000000\",\"1976-06-01T06:00:00.000000000\",\"1977-06-01T06:00:00.000000000\",\"1978-06-01T06:00:00.000000000\",\"1979-06-01T06:00:00.000000000\",\"1980-06-01T06:00:00.000000000\",\"1981-06-01T06:00:00.000000000\",\"1982-06-01T06:00:00.000000000\",\"1983-06-01T06:00:00.000000000\",\"1984-06-01T06:00:00.000000000\",\"1985-06-01T06:00:00.000000000\",\"1986-06-01T06:00:00.000000000\",\"1987-06-01T06:00:00.000000000\",\"1988-06-01T06:00:00.000000000\",\"1989-06-01T06:00:00.000000000\",\"1990-06-01T06:00:00.000000000\",\"1991-06-01T06:00:00.000000000\",\"1992-06-01T06:00:00.000000000\",\"1993-06-01T06:00:00.000000000\",\"1994-06-01T06:00:00.000000000\",\"1995-06-01T06:00:00.000000000\",\"1996-06-01T06:00:00.000000000\",\"2013-06-01T06:00:00.000000000\",\"1998-06-01T06:00:00.000000000\",\"1999-06-01T06:00:00.000000000\",\"2000-06-01T06:00:00.000000000\",\"2001-06-01T06:00:00.000000000\",\"2002-06-01T06:00:00.000000000\",\"2003-06-01T06:00:00.000000000\",\"2004-06-01T06:00:00.000000000\",\"2005-06-01T06:00:00.000000000\",\"2006-06-01T06:00:00.000000000\",\"2007-06-01T06:00:00.000000000\",\"2008-06-01T06:00:00.000000000\",\"2009-06-01T06:00:00.000000000\",\"2010-06-01T06:00:00.000000000\",\"2011-06-01T06:00:00.000000000\",\"2012-06-01T06:00:00.000000000\",\"2013-06-01T06:00:00.000000000\",\"2014-06-01T06:00:00.000000000\",\"2015-06-01T06:00:00.000000000\",\"2016-06-01T06:00:00.000000000\",\"2017-06-01T06:00:00.000000000\",\"2018-06-01T06:00:00.000000000\",\"2019-06-01T06:00:00.000000000\",\"2020-06-01T06:00:00.000000000\",\"2021-06-01T06:00:00.000000000\",\"2022-06-01T06:00:00.000000000\",\"2023-06-01T06:00:00.000000000\"],\"y\":[null,null,null,-0.8480399530472364,-0.6819237203415736,-0.5011719951673868,0.08199697276764722,0.028642667903548937,0.005845262232176669,-0.7420059417842786,-0.7654584690576567,-0.6742196522787791,-0.25586179118446517,-0.41344156884910965,-0.16788841755182538,-0.3429293598898022,-0.3899743403315537,-0.33268278412598623,-0.39505098639330927,-0.45891873798931254,-0.813209346087566,-0.9991145217508687,-1.4814630582633423,-1.8982744533589113,-1.8329789442590263,-1.1467702442745344,-0.8806662556398209,-0.5855559246612774,-0.8465443130111366,-0.9663044913825293,-0.9409459503090152,-0.6784173969436601,-0.3081682863698437,0.029401510426122077,0.6045995935667439,0.6713776381426275,0.6930140677837839,0.4826036963779927,0.6253807999292211,0.5453684979552372,0.4687769174899864,0.41867714849567006,0.3647187472267421,0.3274158416619035,0.44253540505148825,0.919373205376092,1.1375471133401143,0.983149987490821,0.7420995455545738,0.4385224404764769,0.4946073012774757,0.47956336340104516,0.4346699778304712,0.49358081538687665,0.5561474101077083,0.49071465561460603,0.22414868298235668,-0.4641295213290031,0.009511683821245395,0.1471189911434248,-0.047174001461675684,0.32390411438136485,0.26965010864703803,0.10729508435144618,-0.15581095272189902,-0.35376578224405253,-0.33951481414217843,-0.3847884764446396,-0.2545794600358505,-0.19643964282524679,-0.231045070495499,-0.2657358798560858,-0.42406536876325845,-0.4641295213290031,-0.3202549657705712,-0.18482818902483616,-0.3105425084661606,-0.3652177782970707,-0.6196105012067383,-0.26410777579808997,-0.6682837334519041,-1.1350995426274846,-1.604259534292308,-1.8418930707150165],\"type\":\"scatter\"}],                        {\"template\":{\"data\":{\"histogram2dcontour\":[{\"type\":\"histogram2dcontour\",\"colorbar\":{\"outlinewidth\":0,\"ticks\":\"\"},\"colorscale\":[[0.0,\"#0d0887\"],[0.1111111111111111,\"#46039f\"],[0.2222222222222222,\"#7201a8\"],[0.3333333333333333,\"#9c179e\"],[0.4444444444444444,\"#bd3786\"],[0.5555555555555556,\"#d8576b\"],[0.6666666666666666,\"#ed7953\"],[0.7777777777777778,\"#fb9f3a\"],[0.8888888888888888,\"#fdca26\"],[1.0,\"#f0f921\"]]}],\"choropleth\":[{\"type\":\"choropleth\",\"colorbar\":{\"outlinewidth\":0,\"ticks\":\"\"}}],\"histogram2d\":[{\"type\":\"histogram2d\",\"colorbar\":{\"outlinewidth\":0,\"ticks\":\"\"},\"colorscale\":[[0.0,\"#0d0887\"],[0.1111111111111111,\"#46039f\"],[0.2222222222222222,\"#7201a8\"],[0.3333333333333333,\"#9c179e\"],[0.4444444444444444,\"#bd3786\"],[0.5555555555555556,\"#d8576b\"],[0.6666666666666666,\"#ed7953\"],[0.7777777777777778,\"#fb9f3a\"],[0.8888888888888888,\"#fdca26\"],[1.0,\"#f0f921\"]]}],\"heatmap\":[{\"type\":\"heatmap\",\"colorbar\":{\"outlinewidth\":0,\"ticks\":\"\"},\"colorscale\":[[0.0,\"#0d0887\"],[0.1111111111111111,\"#46039f\"],[0.2222222222222222,\"#7201a8\"],[0.3333333333333333,\"#9c179e\"],[0.4444444444444444,\"#bd3786\"],[0.5555555555555556,\"#d8576b\"],[0.6666666666666666,\"#ed7953\"],[0.7777777777777778,\"#fb9f3a\"],[0.8888888888888888,\"#fdca26\"],[1.0,\"#f0f921\"]]}],\"heatmapgl\":[{\"type\":\"heatmapgl\",\"colorbar\":{\"outlinewidth\":0,\"ticks\":\"\"},\"colorscale\":[[0.0,\"#0d0887\"],[0.1111111111111111,\"#46039f\"],[0.2222222222222222,\"#7201a8\"],[0.3333333333333333,\"#9c179e\"],[0.4444444444444444,\"#bd3786\"],[0.5555555555555556,\"#d8576b\"],[0.6666666666666666,\"#ed7953\"],[0.7777777777777778,\"#fb9f3a\"],[0.8888888888888888,\"#fdca26\"],[1.0,\"#f0f921\"]]}],\"contourcarpet\":[{\"type\":\"contourcarpet\",\"colorbar\":{\"outlinewidth\":0,\"ticks\":\"\"}}],\"contour\":[{\"type\":\"contour\",\"colorbar\":{\"outlinewidth\":0,\"ticks\":\"\"},\"colorscale\":[[0.0,\"#0d0887\"],[0.1111111111111111,\"#46039f\"],[0.2222222222222222,\"#7201a8\"],[0.3333333333333333,\"#9c179e\"],[0.4444444444444444,\"#bd3786\"],[0.5555555555555556,\"#d8576b\"],[0.6666666666666666,\"#ed7953\"],[0.7777777777777778,\"#fb9f3a\"],[0.8888888888888888,\"#fdca26\"],[1.0,\"#f0f921\"]]}],\"surface\":[{\"type\":\"surface\",\"colorbar\":{\"outlinewidth\":0,\"ticks\":\"\"},\"colorscale\":[[0.0,\"#0d0887\"],[0.1111111111111111,\"#46039f\"],[0.2222222222222222,\"#7201a8\"],[0.3333333333333333,\"#9c179e\"],[0.4444444444444444,\"#bd3786\"],[0.5555555555555556,\"#d8576b\"],[0.6666666666666666,\"#ed7953\"],[0.7777777777777778,\"#fb9f3a\"],[0.8888888888888888,\"#fdca26\"],[1.0,\"#f0f921\"]]}],\"mesh3d\":[{\"type\":\"mesh3d\",\"colorbar\":{\"outlinewidth\":0,\"ticks\":\"\"}}],\"scatter\":[{\"fillpattern\":{\"fillmode\":\"overlay\",\"size\":10,\"solidity\":0.2},\"type\":\"scatter\"}],\"parcoords\":[{\"type\":\"parcoords\",\"line\":{\"colorbar\":{\"outlinewidth\":0,\"ticks\":\"\"}}}],\"scatterpolargl\":[{\"type\":\"scatterpolargl\",\"marker\":{\"colorbar\":{\"outlinewidth\":0,\"ticks\":\"\"}}}],\"bar\":[{\"error_x\":{\"color\":\"#2a3f5f\"},\"error_y\":{\"color\":\"#2a3f5f\"},\"marker\":{\"line\":{\"color\":\"#E5ECF6\",\"width\":0.5},\"pattern\":{\"fillmode\":\"overlay\",\"size\":10,\"solidity\":0.2}},\"type\":\"bar\"}],\"scattergeo\":[{\"type\":\"scattergeo\",\"marker\":{\"colorbar\":{\"outlinewidth\":0,\"ticks\":\"\"}}}],\"scatterpolar\":[{\"type\":\"scatterpolar\",\"marker\":{\"colorbar\":{\"outlinewidth\":0,\"ticks\":\"\"}}}],\"histogram\":[{\"marker\":{\"pattern\":{\"fillmode\":\"overlay\",\"size\":10,\"solidity\":0.2}},\"type\":\"histogram\"}],\"scattergl\":[{\"type\":\"scattergl\",\"marker\":{\"colorbar\":{\"outlinewidth\":0,\"ticks\":\"\"}}}],\"scatter3d\":[{\"type\":\"scatter3d\",\"line\":{\"colorbar\":{\"outlinewidth\":0,\"ticks\":\"\"}},\"marker\":{\"colorbar\":{\"outlinewidth\":0,\"ticks\":\"\"}}}],\"scattermapbox\":[{\"type\":\"scattermapbox\",\"marker\":{\"colorbar\":{\"outlinewidth\":0,\"ticks\":\"\"}}}],\"scatterternary\":[{\"type\":\"scatterternary\",\"marker\":{\"colorbar\":{\"outlinewidth\":0,\"ticks\":\"\"}}}],\"scattercarpet\":[{\"type\":\"scattercarpet\",\"marker\":{\"colorbar\":{\"outlinewidth\":0,\"ticks\":\"\"}}}],\"carpet\":[{\"aaxis\":{\"endlinecolor\":\"#2a3f5f\",\"gridcolor\":\"white\",\"linecolor\":\"white\",\"minorgridcolor\":\"white\",\"startlinecolor\":\"#2a3f5f\"},\"baxis\":{\"endlinecolor\":\"#2a3f5f\",\"gridcolor\":\"white\",\"linecolor\":\"white\",\"minorgridcolor\":\"white\",\"startlinecolor\":\"#2a3f5f\"},\"type\":\"carpet\"}],\"table\":[{\"cells\":{\"fill\":{\"color\":\"#EBF0F8\"},\"line\":{\"color\":\"white\"}},\"header\":{\"fill\":{\"color\":\"#C8D4E3\"},\"line\":{\"color\":\"white\"}},\"type\":\"table\"}],\"barpolar\":[{\"marker\":{\"line\":{\"color\":\"#E5ECF6\",\"width\":0.5},\"pattern\":{\"fillmode\":\"overlay\",\"size\":10,\"solidity\":0.2}},\"type\":\"barpolar\"}],\"pie\":[{\"automargin\":true,\"type\":\"pie\"}]},\"layout\":{\"autotypenumbers\":\"strict\",\"colorway\":[\"#636efa\",\"#EF553B\",\"#00cc96\",\"#ab63fa\",\"#FFA15A\",\"#19d3f3\",\"#FF6692\",\"#B6E880\",\"#FF97FF\",\"#FECB52\"],\"font\":{\"color\":\"#2a3f5f\"},\"hovermode\":\"closest\",\"hoverlabel\":{\"align\":\"left\"},\"paper_bgcolor\":\"white\",\"plot_bgcolor\":\"#E5ECF6\",\"polar\":{\"bgcolor\":\"#E5ECF6\",\"angularaxis\":{\"gridcolor\":\"white\",\"linecolor\":\"white\",\"ticks\":\"\"},\"radialaxis\":{\"gridcolor\":\"white\",\"linecolor\":\"white\",\"ticks\":\"\"}},\"ternary\":{\"bgcolor\":\"#E5ECF6\",\"aaxis\":{\"gridcolor\":\"white\",\"linecolor\":\"white\",\"ticks\":\"\"},\"baxis\":{\"gridcolor\":\"white\",\"linecolor\":\"white\",\"ticks\":\"\"},\"caxis\":{\"gridcolor\":\"white\",\"linecolor\":\"white\",\"ticks\":\"\"}},\"coloraxis\":{\"colorbar\":{\"outlinewidth\":0,\"ticks\":\"\"}},\"colorscale\":{\"sequential\":[[0.0,\"#0d0887\"],[0.1111111111111111,\"#46039f\"],[0.2222222222222222,\"#7201a8\"],[0.3333333333333333,\"#9c179e\"],[0.4444444444444444,\"#bd3786\"],[0.5555555555555556,\"#d8576b\"],[0.6666666666666666,\"#ed7953\"],[0.7777777777777778,\"#fb9f3a\"],[0.8888888888888888,\"#fdca26\"],[1.0,\"#f0f921\"]],\"sequentialminus\":[[0.0,\"#0d0887\"],[0.1111111111111111,\"#46039f\"],[0.2222222222222222,\"#7201a8\"],[0.3333333333333333,\"#9c179e\"],[0.4444444444444444,\"#bd3786\"],[0.5555555555555556,\"#d8576b\"],[0.6666666666666666,\"#ed7953\"],[0.7777777777777778,\"#fb9f3a\"],[0.8888888888888888,\"#fdca26\"],[1.0,\"#f0f921\"]],\"diverging\":[[0,\"#8e0152\"],[0.1,\"#c51b7d\"],[0.2,\"#de77ae\"],[0.3,\"#f1b6da\"],[0.4,\"#fde0ef\"],[0.5,\"#f7f7f7\"],[0.6,\"#e6f5d0\"],[0.7,\"#b8e186\"],[0.8,\"#7fbc41\"],[0.9,\"#4d9221\"],[1,\"#276419\"]]},\"xaxis\":{\"gridcolor\":\"white\",\"linecolor\":\"white\",\"ticks\":\"\",\"title\":{\"standoff\":15},\"zerolinecolor\":\"white\",\"automargin\":true,\"zerolinewidth\":2},\"yaxis\":{\"gridcolor\":\"white\",\"linecolor\":\"white\",\"ticks\":\"\",\"title\":{\"standoff\":15},\"zerolinecolor\":\"white\",\"automargin\":true,\"zerolinewidth\":2},\"scene\":{\"xaxis\":{\"backgroundcolor\":\"#E5ECF6\",\"gridcolor\":\"white\",\"linecolor\":\"white\",\"showbackground\":true,\"ticks\":\"\",\"zerolinecolor\":\"white\",\"gridwidth\":2},\"yaxis\":{\"backgroundcolor\":\"#E5ECF6\",\"gridcolor\":\"white\",\"linecolor\":\"white\",\"showbackground\":true,\"ticks\":\"\",\"zerolinecolor\":\"white\",\"gridwidth\":2},\"zaxis\":{\"backgroundcolor\":\"#E5ECF6\",\"gridcolor\":\"white\",\"linecolor\":\"white\",\"showbackground\":true,\"ticks\":\"\",\"zerolinecolor\":\"white\",\"gridwidth\":2}},\"shapedefaults\":{\"line\":{\"color\":\"#2a3f5f\"}},\"annotationdefaults\":{\"arrowcolor\":\"#2a3f5f\",\"arrowhead\":0,\"arrowwidth\":1},\"geo\":{\"bgcolor\":\"white\",\"landcolor\":\"#E5ECF6\",\"subunitcolor\":\"white\",\"showland\":true,\"showlakes\":true,\"lakecolor\":\"white\"},\"title\":{\"x\":0.05},\"mapbox\":{\"style\":\"light\"}}},\"xaxis\":{\"title\":{\"text\":\"Years\"},\"showgrid\":true,\"gridcolor\":\"lightgray\",\"linecolor\":\"lightgray\"},\"yaxis\":{\"title\":{\"text\":\"Mean SPEI36 Index\"},\"showgrid\":true,\"gridcolor\":\"lightgray\",\"linecolor\":\"lightgray\",\"zeroline\":true,\"zerolinewidth\":1,\"zerolinecolor\":\"black\"},\"title\":{\"text\":\"Mean SPEISPEI36 Trends over time in Brazil, Amazonas area, in June\"},\"height\":600,\"plot_bgcolor\":\"white\",\"paper_bgcolor\":\"white\"},                        {\"responsive\": true}                    ).then(function(){\n",
       "                            \n",
       "var gd = document.getElementById('c788d9d6-86ec-41a2-836e-0caf9dd4dea0');\n",
       "var x = new MutationObserver(function (mutations, observer) {{\n",
       "        var display = window.getComputedStyle(gd).display;\n",
       "        if (!display || display === 'none') {{\n",
       "            console.log([gd, 'removed!']);\n",
       "            Plotly.purge(gd);\n",
       "            observer.disconnect();\n",
       "        }}\n",
       "}});\n",
       "\n",
       "// Listen for the removal of the full notebook cells\n",
       "var notebookContainer = gd.closest('#notebook-container');\n",
       "if (notebookContainer) {{\n",
       "    x.observe(notebookContainer, {childList: true});\n",
       "}}\n",
       "\n",
       "// Listen for the clearing of the current output cell\n",
       "var outputEl = gd.closest('.output');\n",
       "if (outputEl) {{\n",
       "    x.observe(outputEl, {childList: true});\n",
       "}}\n",
       "\n",
       "                        })                };                });            </script>        </div>"
      ]
     },
     "metadata": {},
     "output_type": "display_data"
    }
   ],
   "source": [
    "trace = go.Scatter(\n",
    "    x=times,\n",
    "    y=values,\n",
    "    mode='markers',\n",
    "    name='Mean SPEI12',\n",
    "    marker=dict(size=10,\n",
    "                color=colors,\n",
    "                line=dict(width=0,\n",
    "                          color='#717BFA')))\n",
    "\n",
    "# Initialize and update the figure\n",
    "fig = go.Figure([trace])\n",
    "fig.update_layout(\n",
    "    title=f\"Mean SPEI{index} Trends over time in {selected_country}, {selected_subarea} area, in {selected_month}\",\n",
    "    xaxis_title='Years',\n",
    "    yaxis_title=f'Mean {index} Index',\n",
    "    height=600,\n",
    "    plot_bgcolor='white',         # Sets the plotting area background color\n",
    "    paper_bgcolor='white',  # Sets the overall background color of the chart\n",
    "    xaxis=dict(\n",
    "        showgrid=True,  # Enable grid (default)\n",
    "        gridcolor='lightgray',  # Set grid color\n",
    "        linecolor='lightgray',  # Set axis line color\n",
    "    ),\n",
    "    yaxis=dict(\n",
    "        showgrid=True,\n",
    "        gridcolor='lightgray',\n",
    "        linecolor='lightgray',\n",
    "                zeroline=True,  # Ensure the zero line is visible\n",
    "        zerolinewidth=1,\n",
    "        zerolinecolor='black'  # Change zero line color to blue\n",
    "    )\n",
    ")\n",
    "\n",
    "fig.show()"
   ]
  },
  {
   "cell_type": "markdown",
   "id": "5a4c0743-0bf9-4ef7-9973-b1e3bde4d4f9",
   "metadata": {},
   "source": [
    "source: https://en.wikipedia.org/wiki/List_of_administrative_divisions_by_country"
   ]
  }
 ],
 "metadata": {
  "kernelspec": {
   "display_name": "Python 3",
   "language": "python",
   "name": "python3"
  },
  "language_info": {
   "codemirror_mode": {
    "name": "ipython",
    "version": 3
   },
   "file_extension": ".py",
   "mimetype": "text/x-python",
   "name": "python",
   "nbconvert_exporter": "python",
   "pygments_lexer": "ipython3",
   "version": "3.6.8"
  }
 },
 "nbformat": 4,
 "nbformat_minor": 5
}
