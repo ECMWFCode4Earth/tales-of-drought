{
 "cells": [
  {
   "cell_type": "code",
   "execution_count": null,
   "id": "bbab0e18-10f7-4d7d-b416-86ddb5ef50d1",
   "metadata": {},
   "outputs": [],
   "source": [
    "# pip install numpy xarray netCDF4 matplotlib plotly"
   ]
  },
  {
   "cell_type": "code",
   "execution_count": null,
   "id": "893df89e-c69a-408c-ac30-5e9fa681f5f9",
   "metadata": {},
   "outputs": [],
   "source": [
    "# pip install \"dask[complete]\" -q"
   ]
  },
  {
   "cell_type": "code",
   "execution_count": null,
   "id": "023fdab5-0f5d-4a9f-bd2a-1e36e3f7b988",
   "metadata": {},
   "outputs": [],
   "source": [
    "# pip install geopy ipywidgets folium -q"
   ]
  },
  {
   "cell_type": "code",
   "execution_count": null,
   "id": "036c903e-15ed-43d4-a897-6f164e931e6d",
   "metadata": {},
   "outputs": [],
   "source": [
    "# pip install pycountry -q"
   ]
  },
  {
   "cell_type": "code",
   "execution_count": null,
   "id": "70492638-2d8b-4349-8679-4578485f55e2",
   "metadata": {},
   "outputs": [],
   "source": [
    "# !jupyter nbextension enable --py widgetsnbextension"
   ]
  },
  {
   "cell_type": "code",
   "execution_count": null,
   "id": "e10a3be8-696f-43c6-9776-3980d6ebb7ae",
   "metadata": {},
   "outputs": [],
   "source": [
    "#!jupyter labextension install @jupyter-widgets/jupyterlab-manager"
   ]
  },
  {
   "cell_type": "code",
   "execution_count": 1,
   "id": "1ee6a0a8-84b8-4856-952e-c643cf55eece",
   "metadata": {},
   "outputs": [],
   "source": [
    "import ipywidgets as widgets\n",
    "from IPython.display import display, clear_output, IFrame\n",
    "import plotly.graph_objects as go\n",
    "from functools import partial\n",
    "import modules.n1_utilities as uti\n",
    "import datetime\n",
    "import warnings\n",
    "warnings.filterwarnings(\"ignore\", category=RuntimeWarning)"
   ]
  },
  {
   "cell_type": "code",
   "execution_count": 2,
   "id": "e40255a8-dc7a-48d5-8300-b226cf7bd26c",
   "metadata": {},
   "outputs": [],
   "source": [
    "country_to_subareas = uti.read_json_to_dict('countries.json', True)\n",
    "months = uti.read_json_to_dict('months.json')\n",
    "timescales = uti.read_json_to_dict('timescales.json')\n",
    "subset = None\n",
    "map_display = None\n",
    "index = None\n",
    "\n",
    "selected = {\n",
    "    \"country\": None,\n",
    "    \"subarea\": None,\n",
    "    \"month\": None,\n",
    "    \"year\": None,\n",
    "    \"year_range\": None,\n",
    "    \"timescale\": None\n",
    "}\n",
    "\n",
    "placeholders = {\n",
    "    \"country\": \"country...\",\n",
    "    \"subarea\": \"subarea...\",\n",
    "    \"month\": \"month...\",\n",
    "    \"year\": \"year...\",\n",
    "    \"timescale\": \"timescale...\"\n",
    "}\n",
    "uti.save_selection(placeholders)  "
   ]
  },
  {
   "cell_type": "code",
   "execution_count": 3,
   "id": "b342cf97-5e08-43fa-933b-c64276780c89",
   "metadata": {},
   "outputs": [],
   "source": [
    "# Dropdown for countries\n",
    "country_selector = widgets.Dropdown(\n",
    "    options=[placeholders['country']] + list(country_to_subareas.keys()),\n",
    "    description='Select a country:',\n",
    "    style={'description_width': 'initial'}\n",
    ")\n",
    "\n",
    "# Dropdown for subareas, initially empty\n",
    "subarea_selector = widgets.Dropdown(\n",
    "    options=[placeholders['subarea']],\n",
    "    description='And a subarea:',\n",
    "    style={'description_width': 'initial'}\n",
    ")\n",
    "\n",
    "# Dropdown for months\n",
    "month_selector = widgets.Dropdown(\n",
    "    options=[placeholders['month']] + list(months.keys()),\n",
    "    description='Select a month:',\n",
    "    style={'description_width': 'initial'}\n",
    ")\n",
    "\n",
    "# Dropdown for years\n",
    "current_year = datetime.datetime.now().year\n",
    "years_options = [str(year) for year in range(1940, current_year + 1)]\n",
    "\n",
    "year_selector = widgets.Dropdown(\n",
    "    options=[placeholders['year']] + years_options,\n",
    "    description='Select a year:',\n",
    "    disabled=False,\n",
    "    style={'description_width': 'initial'}\n",
    ")\n",
    "\n",
    "# SelectionRangeSlider for years\n",
    "year_range_selector = widgets.SelectionRangeSlider(\n",
    "    options=years_options,\n",
    "    index=(len(years_options) - 1, len(years_options) - 1),  # Start and end at the last\n",
    "    description='Select the year range:',\n",
    "    disabled=False,\n",
    "    style={'description_width': 'initial'}\n",
    ")\n",
    "\n",
    "# Dropdown for timescales\n",
    "timescale_selector = widgets.Dropdown(\n",
    "    options=[placeholders['timescale']] + list(timescales.keys()),\n",
    "    description='Select a timescale:',\n",
    "    style={'description_width': 'initial'}\n",
    ")"
   ]
  },
  {
   "cell_type": "code",
   "execution_count": 4,
   "id": "8380fe46-04bc-4af2-8df5-65acbed66974",
   "metadata": {
    "tags": []
   },
   "outputs": [],
   "source": [
    "def update_subarea_selector(change):\n",
    "    \"\"\"\n",
    "    Update the options for the subarea dropdown based on the selected country.\n",
    "\n",
    "    This function is triggered by a change in the country selector. It updates the options available in the subarea selector \n",
    "    dropdown. If the selected country has associated subareas, they will be populated in the subarea dropdown. If the selected\n",
    "    value is the placeholder or if no subareas are available, the dropdown will only show the placeholder for subareas.\n",
    "\n",
    "    Parameters:\n",
    "    change (dict): The change notification received from the widget, containing 'name' and 'new' keys, where\n",
    "                   'name' indicates the attribute that changed ('value' in this case), and 'new' is the new\n",
    "                   value of that attribute.\n",
    "\n",
    "    Effects:\n",
    "    Updates `subarea_selector.options` with either the subareas of the selected country or the default placeholder.\n",
    "    \"\"\"\n",
    "    if change['name'] == 'value' and change['new'] != placeholders['country']:\n",
    "        subareas = country_to_subareas.get(change['new'], [])\n",
    "        subarea_selector.options = [placeholders['subarea']] + subareas\n",
    "    else:\n",
    "        subarea_selector.options = [placeholders['subarea']]\n",
    "\n",
    "        \n",
    "        \n",
    "def handle_time_interactivity(change):\n",
    "    \"\"\"\n",
    "    Handle interactivity for time-related selections in a GUI environment. This function responds to changes in year or month\n",
    "    selectors by adjusting the other's value to a default state and updates the subset of area data displayed accordingly.\n",
    "\n",
    "    This function uses a global variable `subset` which stores the filtered data based on the user's selections.\n",
    "    It updates this data whenever a change is made to either the month or year selectors.\n",
    "\n",
    "    Parameters:\n",
    "    change (dict): A dictionary containing information about the change event. This dictionary includes keys like 'owner',\n",
    "                   which refers to the widget (year_selector or month_selector) that triggered the event, and 'new', which\n",
    "                   indicates the new value selected by the user.\n",
    "\n",
    "    The function expects several external widgets to be defined, including `year_selector`, `month_selector`,\n",
    "    `country_selector`, `subarea_selector`, `timescale_selector`, as well as global placeholders and utility functions.\n",
    "    \"\"\"\n",
    "    global subset\n",
    "    if change['owner'] == year_selector:\n",
    "        if change['new'] != placeholders['year']:  \n",
    "            month_selector.value = placeholders['month']\n",
    "    elif change['owner'] == month_selector:\n",
    "        if change['new'] != placeholders['month']:  \n",
    "            year_selector.value = placeholders['year']\n",
    "    # Update data based on new selection\n",
    "    subset = uti.update_display(country_selector, subarea_selector, month_selector, year_selector, timescale_selector, months, timescales, placeholders)\n",
    "        \n",
    "\n",
    "def on_value_change(change):\n",
    "    \"\"\"\n",
    "    Responds to changes in selection widgets to update map displays and data processing. This function modifies the global\n",
    "    `selected` dictionary, updates the `subset`, and refreshes the `map_display` based on user selections from\n",
    "    various selectors. It provides visual feedback via an output area in the UI.\n",
    "\n",
    "    The function is intended to be connected to widgets that trigger changes. It uses a dictionary `placeholders` \n",
    "    to manage default values and checks against them to filter out default or placeholder selections.\n",
    "\n",
    "    Parameters:\n",
    "    change (dict): Contains details about the widget event that triggered the update, with keys 'type', 'name', and 'new', where \n",
    "                   'new' is the newly selected country value.\n",
    "    \"\"\"\n",
    "    global subset, selected, map_display, index\n",
    "    with output_area:\n",
    "        clear_output(wait=True)\n",
    "        selected.update({\n",
    "            'country': country_selector.value if country_selector.value != placeholders['country'] else None,\n",
    "            'subarea': subarea_selector.value if subarea_selector.value != placeholders['subarea'] else None,\n",
    "            'month': month_selector.value if month_selector.value != placeholders['month'] else None,\n",
    "            'year': year_selector.value if year_selector.value != placeholders['year'] else None,\n",
    "            'timescale': timescale_selector.value if timescale_selector.value != placeholders['timescale'] else None\n",
    "        })\n",
    "        uti.save_selection(selected)\n",
    "        \n",
    "        map_display = None\n",
    "        if selected['country']:\n",
    "            country_code = uti.get_country_code(selected['country'])\n",
    "            bounds = uti.get_bounds(selected['country'], country_code)\n",
    "            if selected['subarea']:\n",
    "                bounds = uti.get_bounds(selected['subarea'], country_code)\n",
    "                map_display = uti.display_map(bounds)\n",
    "                map_iframe = uti.display_map_in_iframe(map_display)\n",
    "                display(map_iframe)\n",
    "        if selected['timescale']:\n",
    "                index = f\"SPEI{timescales[selected['timescale']]}\"\n",
    "\n",
    "        if any(value is not None for value in selected.values()):\n",
    "            subset = uti.update_display(country_selector, subarea_selector, month_selector, year_selector, timescale_selector, months, timescales, placeholders)\n",
    "        if all(value is not None for value in selected.values()):\n",
    "            print(f\"Data updated for: {selected}\")\n",
    "\n",
    "            \n",
    "def on_yr_change(change):\n",
    "    \"\"\"\n",
    "    Responds to changes in selection widgets to update map displays and data processing. This function modifies the global\n",
    "    `selected` dictionary, updates the `subset`, and refreshes the `map_display` based on user selections from\n",
    "    various selectors. It provides visual feedback via an output area in the UI.\n",
    "\n",
    "    The function is intended to be connected to widgets that trigger changes. It uses a dictionary `placeholders` \n",
    "    to manage default values and checks against them to filter out default or placeholder selections.\n",
    "\n",
    "    Parameters:\n",
    "    change (dict): Contains details about the widget event that triggered the update, with keys 'type', 'name', and 'new', where \n",
    "                   'new' is the newly selected country value.\n",
    "    \"\"\"\n",
    "    global subset, selected, map_display, index\n",
    "    with output_area:\n",
    "        clear_output(wait=True)\n",
    "        selected.update({\n",
    "            'country': country_selector.value if country_selector.value != placeholders['country'] else None,\n",
    "            'subarea': subarea_selector.value if subarea_selector.value != placeholders['subarea'] else None,\n",
    "            'month': None,\n",
    "            'year': None,\n",
    "            'timescale': timescale_selector.value if timescale_selector.value != placeholders['timescale'] else None\n",
    "        })\n",
    "        uti.save_selection(selected)\n",
    "        \n",
    "        map_display = None\n",
    "        if selected['country']:\n",
    "            country_code = uti.get_country_code(selected['country'])\n",
    "            bounds = uti.get_bounds(selected['country'], country_code)\n",
    "            if selected['subarea']:\n",
    "                bounds = uti.get_bounds(selected['subarea'], country_code)\n",
    "                map_display = uti.display_map(bounds)\n",
    "                map_iframe = uti.display_map_in_iframe(map_display)\n",
    "                display(map_iframe)\n",
    "        if selected['timescale']:\n",
    "                index = f\"SPEI{timescales[selected['timescale']]}\"\n",
    "\n",
    "        if any(value is not None for value in selected.values()):\n",
    "            subset = uti.update_yr_display(country_selector, subarea_selector, year_range_selector, timescale_selector, months, timescales, placeholders)\n",
    "\n",
    "            \n",
    "def on_selection_change(change, change_type):\n",
    "    \"\"\"\n",
    "    Responds to changes in selection widgets to update map displays and data processing. This function modifies the global\n",
    "    `selected` dictionary, updates the `subset`, and refreshes the `map_display` based on user selections from\n",
    "    various selectors. It provides visual feedback via an output area in the UI.\n",
    "\n",
    "    The function is intended to be connected to widgets that trigger changes. It uses a dictionary `placeholders`\n",
    "    to manage default values and checks against them to filter out default or placeholder selections.\n",
    "\n",
    "    Parameters:\n",
    "    change (dict): Contains details about the widget event that triggered the update, with keys 'type', 'name', and 'new', where \n",
    "                   'new' is the newly selected country value.\n",
    "    change_type (str): Type of the change event, either 'value_change' or 'yr_change'.\n",
    "    \"\"\"\n",
    "    global subset, selected, map_display, index\n",
    "    with output_area:\n",
    "        clear_output(wait=True)\n",
    "        \n",
    "        # Common updates for both types of changes\n",
    "        selected.update({\n",
    "            'country': country_selector.value if country_selector.value != placeholders['country'] else None,\n",
    "            'subarea': subarea_selector.value if subarea_selector.value != placeholders['subarea'] else None,\n",
    "            'timescale': timescale_selector.value if timescale_selector.value != placeholders['timescale'] else None\n",
    "        })\n",
    "\n",
    "        # Differentiated updates based on change type\n",
    "        if change_type == 'yr_change':\n",
    "            selected.update({\n",
    "                'month': None,\n",
    "                'year': None,\n",
    "                'year_range': year_range_selector.value\n",
    "            })\n",
    "        else:\n",
    "            selected.update({\n",
    "                'month': month_selector.value if month_selector.value != placeholders['month'] else None,\n",
    "                'year': year_selector.value if year_selector.value != placeholders['year'] else None,\n",
    "                'year_range': None\n",
    "            })\n",
    "        \n",
    "        uti.save_selection(selected)\n",
    "        \n",
    "        map_display = None\n",
    "        if selected['country']:\n",
    "            country_code = uti.get_country_code(selected['country'])\n",
    "            bounds = uti.get_bounds(selected['country'], country_code)\n",
    "            if selected['subarea']:\n",
    "                bounds = uti.get_bounds(selected['subarea'], country_code)\n",
    "                map_display = uti.display_map(bounds)\n",
    "                map_iframe = uti.display_map_in_iframe(map_display)\n",
    "                display(map_iframe)\n",
    "        if selected['timescale']:\n",
    "            index = f\"SPEI{timescales[selected['timescale']]}\"\n",
    "\n",
    "        if any(value is not None for value in selected.values()):\n",
    "            if change_type == 'yr_change':\n",
    "                subset = uti.update_yr_display(country_selector, subarea_selector, year_range_selector, timescale_selector, months, timescales, placeholders)\n",
    "            else:\n",
    "                subset = uti.update_display(country_selector, subarea_selector, month_selector, year_selector, timescale_selector, months, timescales, placeholders)\n",
    "\n",
    "        if all(value is not None for value in selected.values()):\n",
    "            print(f\"Data updated for: {selected}\")\n",
    "            \n",
    "\n",
    "def setup_observers():\n",
    "    \"\"\"\n",
    "    Sets up observers for UI widgets to handle interactions and updates dynamically in a graphical user interface.\n",
    "    This function ensures that observers are only set once using a function attribute to track whether observers have\n",
    "    already been established, enhancing efficiency and preventing multiple bindings to the same event.\n",
    "\n",
    "    Observers are attached to widgets for month, year, country, subarea, and timescale selections. These observers trigger\n",
    "    specific functions when the 'value' property of the widgets changes, facilitating responsive updates to the user interface\n",
    "    based on user interactions.\n",
    "\n",
    "    The function `handle_time_interactivity`, `on_selection_change`, and `update_subarea_selector` are called depending\n",
    "    on the specific widget interaction, addressing different aspects of the UI and data updates required by the application.\n",
    "\n",
    "    Notes:\n",
    "    - This function uses a custom attribute `observers_set` on itself to ensure observers are set only once.\n",
    "    \"\"\"\n",
    "    if not hasattr(setup_observers, 'observers_set'):\n",
    "        # Observe changes for month selector\n",
    "        month_selector.observe(handle_time_interactivity, names='value')\n",
    "        month_selector.observe(partial(on_selection_change, change_type='value_change'), names='value')\n",
    "        \n",
    "        # Observe changes for year selector\n",
    "        year_selector.observe(handle_time_interactivity, names='value')\n",
    "        year_selector.observe(partial(on_selection_change, change_type='value_change'), names='value')\n",
    "        \n",
    "        country_selector.observe(update_subarea_selector, names='value')\n",
    "        country_selector.observe(partial(on_selection_change, change_type='value_change'), names='value')\n",
    "        subarea_selector.observe(partial(on_selection_change, change_type='value_change'), names='value')\n",
    "        timescale_selector.observe(partial(on_selection_change, change_type='value_change'), names='value')\n",
    "        year_range_selector.observe(partial(on_selection_change, change_type='yr_change'), names='value')\n",
    "        \n",
    "        # Set a flag to indicate observers are set\n",
    "        setup_observers.observers_set = True\n",
    "        \n",
    "setup_observers()\n",
    "# Output area for display updates\n",
    "output_area = widgets.Output()"
   ]
  },
  {
   "cell_type": "code",
   "execution_count": 5,
   "id": "3f602d1e-5a99-4960-a0e1-22da219a4815",
   "metadata": {},
   "outputs": [
    {
     "data": {
      "application/vnd.jupyter.widget-view+json": {
       "model_id": "06a5ab373bf84a8badaa1c951fcce578",
       "version_major": 2,
       "version_minor": 0
      },
      "text/plain": [
       "Dropdown(description='Select a country:', options=('country...', 'Afghanistan', 'Albania', 'Algeria', 'Andorra…"
      ]
     },
     "metadata": {},
     "output_type": "display_data"
    },
    {
     "data": {
      "application/vnd.jupyter.widget-view+json": {
       "model_id": "c750a215e3da4f2ca12e492958dfc3fb",
       "version_major": 2,
       "version_minor": 0
      },
      "text/plain": [
       "Dropdown(description='And a subarea:', options=('subarea...',), style=DescriptionStyle(description_width='init…"
      ]
     },
     "metadata": {},
     "output_type": "display_data"
    },
    {
     "data": {
      "application/vnd.jupyter.widget-view+json": {
       "model_id": "f0f3b98574004b9d8532b7a8a8191aa7",
       "version_major": 2,
       "version_minor": 0
      },
      "text/plain": [
       "Dropdown(description='Select a timescale:', options=('timescale...', '1 month', '3 months', '6 months', '12 mo…"
      ]
     },
     "metadata": {},
     "output_type": "display_data"
    },
    {
     "data": {
      "application/vnd.jupyter.widget-view+json": {
       "model_id": "ff21fb8ee54a4b3197622259b4e5851e",
       "version_major": 2,
       "version_minor": 0
      },
      "text/plain": [
       "Dropdown(description='Select a month:', options=('month...', 'January', 'February', 'March', 'April', 'May', '…"
      ]
     },
     "metadata": {},
     "output_type": "display_data"
    },
    {
     "data": {
      "application/vnd.jupyter.widget-view+json": {
       "model_id": "a147c793cc294eefb2a505396af13de9",
       "version_major": 2,
       "version_minor": 0
      },
      "text/plain": [
       "Output()"
      ]
     },
     "metadata": {},
     "output_type": "display_data"
    }
   ],
   "source": [
    "# Update existing selectors\n",
    "previous_selection = uti.read_json_to_dict('previous_selection.json')\n",
    "\n",
    "# Set up widgets with previous settings\n",
    "country_selector.value = previous_selection.get('country', placeholders['country'])\n",
    "subarea_selector.value = previous_selection.get('subarea', placeholders['subarea'])\n",
    "month_selector.value = previous_selection.get('month', placeholders['month'])\n",
    "timescale_selector.value = previous_selection.get('timescale', placeholders['timescale'])\n",
    "\n",
    "# Display widgets\n",
    "display(country_selector, subarea_selector, timescale_selector, month_selector, output_area)"
   ]
  },
  {
   "cell_type": "code",
   "execution_count": 23,
   "id": "213097ca-0df1-4d67-b180-cbf65aca2917",
   "metadata": {},
   "outputs": [
    {
     "name": "stdout",
     "output_type": "stream",
     "text": [
      "Country:  Angola\n",
      "Subarea:  Cabinda\n",
      "Month:  May\n",
      "Year:  None\n",
      "Year range:  None\n",
      "Timescale:  1 month \n",
      "\n",
      "Time values in the subset: 84\n",
      "Latitude values in the subset: 70\n",
      "Longitude values in the subset: 72 \n",
      "\n",
      "Data sample:  [[-9999. -9999. -9999. -9999. -9999.]\n",
      " [-9999. -9999. -9999. -9999. -9999.]\n",
      " [-9999. -9999. -9999. -9999. -9999.]\n",
      " [-9999. -9999. -9999. -9999. -9999.]\n",
      " [-9999. -9999. -9999. -9999. -9999.]]\n"
     ]
    }
   ],
   "source": [
    "uti.display_data_details(selected, subset[index])"
   ]
  },
  {
   "cell_type": "code",
   "execution_count": 24,
   "id": "62ae67c8-759c-4281-8939-53b6a8e71ff6",
   "metadata": {},
   "outputs": [
    {
     "name": "stdout",
     "output_type": "stream",
     "text": [
      "<xarray.DataArray 'SPEI1' (time: 84, lat: 70, lon: 72)>\n",
      "dask.array<where, shape=(84, 70, 72), dtype=float64, chunksize=(1, 70, 72), chunktype=numpy.ndarray>\n",
      "Coordinates:\n",
      "  * time     (time) datetime64[ns] 1940-05-01T06:00:00 ... 2023-05-01T06:00:00\n",
      "  * lon      (lon) float64 -6.0 -5.75 -5.5 -5.25 -5.0 ... 11.0 11.25 11.5 11.75\n",
      "  * lat      (lat) float64 -4.25 -4.0 -3.75 -3.5 -3.25 ... 12.25 12.5 12.75 13.0\n",
      "Attributes:\n",
      "    long_name:  Standardized Drought Index (SPEI1)\n",
      "    units:      - \n",
      "\n",
      "Change summary:\n",
      "invalid_values_replaced 198744\n",
      "invalid_ratio 0.46944444444444444\n",
      "duplicates_removed 0\n",
      "cftime_conversions 0\n"
     ]
    }
   ],
   "source": [
    "processed_subset, change_summary = uti.process_datarray(subset[index])\n",
    "print(processed_subset, '\\n')\n",
    "print('Change summary:')\n",
    "for key, val in change_summary.items():\n",
    "    print(key, val)"
   ]
  },
  {
   "cell_type": "code",
   "execution_count": 25,
   "id": "7cf9e3bd-f454-4069-96c3-f92fd2728f6f",
   "metadata": {},
   "outputs": [],
   "source": [
    "stat_values = uti.compute_stats(processed_subset)"
   ]
  },
  {
   "cell_type": "code",
   "execution_count": 26,
   "id": "603e5d56-e15b-46b1-b953-8a60d70f2166",
   "metadata": {},
   "outputs": [
    {
     "data": {
      "application/vnd.plotly.v1+json": {
       "config": {
        "plotlyServerURL": "https://plot.ly"
       },
       "data": [
        {
         "hoverinfo": "text",
         "marker": {
          "color": [
           "#ACD1E5",
           "#ACD1E5",
           "#F7BB9F",
           "#ACD1E5",
           "#681824",
           "#ACD1E5",
           "#F7BB9F",
           "#61A5CE",
           "#F7BB9F",
           "#D96C59",
           "#ACD1E5",
           "#ACD1E5",
           "#F7BB9F",
           "#61A5CE",
           "#D96C59",
           "#ACD1E5",
           "#D96C59",
           "#49AEFF",
           "#D96C59",
           "#F7BB9F",
           "#F7BB9F",
           "#F7BB9F",
           "#ACD1E5",
           "#ACD1E5",
           "#D96C59",
           "#F7BB9F",
           "#ACD1E5",
           "#ACD1E5",
           "#61A5CE",
           "#F7BB9F",
           "#ACD1E5",
           "#ACD1E5",
           "#61A5CE",
           "#F7BB9F",
           "#ACD1E5",
           "#ACD1E5",
           "#ACD1E5",
           "#ACD1E5",
           "#ACD1E5",
           "#61A5CE",
           "#61A5CE",
           "#61A5CE",
           "#ACD1E5",
           "#F7BB9F",
           "#ACD1E5",
           "#ACD1E5",
           "#ACD1E5",
           "#D96C59",
           "#ACD1E5",
           "#F7BB9F",
           "#ACD1E5",
           "#49AEFF",
           "#ACD1E5",
           "#F7BB9F",
           "#ACD1E5",
           "#ACD1E5",
           "#ACD1E5",
           "#ACD1E5",
           "#F7BB9F",
           "#ACD1E5",
           "#F7BB9F",
           "#F7BB9F",
           "#F7BB9F",
           "#F7BB9F",
           "#F7BB9F",
           "#F7BB9F",
           "#ACD1E5",
           "#F7BB9F",
           "#F7BB9F",
           "#F7BB9F",
           "#F7BB9F",
           "#F7BB9F",
           "#ACD1E5",
           "#ACD1E5",
           "#ACD1E5",
           "#D96C59",
           "#ACD1E5",
           "#ACD1E5",
           "#ACD1E5",
           "#ACD1E5",
           "#F7BB9F",
           "#681824",
           "#F7BB9F",
           "#D96C59"
          ],
          "line": {
           "color": "black",
           "width": 1
          },
          "size": 10,
          "symbol": "circle"
         },
         "mode": "markers",
         "name": "Mean SPEI",
         "text": [
          "May 1940, mean: 0.22",
          "May 1941, mean: 0.31",
          "May 1942, mean: -0.89",
          "May 1943, mean: 0.17",
          "May 1944, mean: -2.51",
          "May 1945, mean: 0.29",
          "May 1946, mean: -0.36",
          "May 1947, mean: 1.30",
          "May 1948, mean: -0.09",
          "May 1949, mean: -1.04",
          "May 1950, mean: 0.57",
          "May 1951, mean: 0.99",
          "May 1952, mean: -0.30",
          "May 1953, mean: 1.41",
          "May 1954, mean: -1.35",
          "May 1955, mean: 0.12",
          "May 1956, mean: -1.46",
          "May 1957, mean: 1.81",
          "May 1958, mean: -1.10",
          "May 1959, mean: -0.51",
          "May 1960, mean: -0.89",
          "May 1961, mean: -0.51",
          "May 1962, mean: 0.19",
          "May 1963, mean: 0.72",
          "May 1964, mean: -1.26",
          "May 1965, mean: -0.77",
          "May 1966, mean: 0.22",
          "May 1967, mean: 0.33",
          "May 1968, mean: 1.33",
          "May 1969, mean: -0.04",
          "May 1970, mean: 0.91",
          "May 1971, mean: 0.28",
          "May 1972, mean: 1.33",
          "May 1973, mean: -0.45",
          "May 1974, mean: 0.06",
          "May 1975, mean: 0.75",
          "May 1976, mean: 0.93",
          "May 1977, mean: 0.05",
          "May 1978, mean: 0.44",
          "May 1979, mean: 1.09",
          "May 1980, mean: 1.31",
          "May 1981, mean: 1.39",
          "May 1982, mean: 0.86",
          "May 1983, mean: -0.04",
          "May 1984, mean: 0.59",
          "May 1985, mean: 0.39",
          "May 1986, mean: 0.66",
          "May 1987, mean: -1.08",
          "May 1988, mean: 0.00",
          "May 1989, mean: -0.02",
          "May 1990, mean: 0.50",
          "May 1991, mean: 1.72",
          "May 1992, mean: 0.63",
          "May 1993, mean: -0.47",
          "May 1994, mean: 0.41",
          "May 1995, mean: 0.23",
          "May 1996, mean: 0.22",
          "May 1997, mean: 0.41",
          "May 1998, mean: -0.26",
          "May 1999, mean: 0.40",
          "May 2000, mean: -0.18",
          "May 2001, mean: -0.15",
          "May 2002, mean: -0.92",
          "May 2003, mean: -0.83",
          "May 2004, mean: -0.22",
          "May 2005, mean: -0.30",
          "May 2006, mean: 0.09",
          "May 2007, mean: -0.50",
          "May 2008, mean: -0.24",
          "May 2009, mean: -0.31",
          "May 2010, mean: -0.22",
          "May 2011, mean: -0.38",
          "May 2012, mean: 0.68",
          "May 2013, mean: 0.02",
          "May 2014, mean: 0.85",
          "May 2015, mean: -1.10",
          "May 2016, mean: 0.08",
          "May 2017, mean: 0.12",
          "May 2018, mean: 0.01",
          "May 2019, mean: 0.56",
          "May 2020, mean: -0.81",
          "May 2021, mean: -2.29",
          "May 2022, mean: -0.99",
          "May 2023, mean: -1.36"
         ],
         "type": "scatter",
         "x": [
          "1940-05-01T06:00:00.000000000",
          "1941-05-01T06:00:00.000000000",
          "1942-05-01T06:00:00.000000000",
          "1943-05-01T06:00:00.000000000",
          "1944-05-01T06:00:00.000000000",
          "1945-05-01T06:00:00.000000000",
          "1946-05-01T06:00:00.000000000",
          "1947-05-01T06:00:00.000000000",
          "1948-05-01T06:00:00.000000000",
          "1949-05-01T06:00:00.000000000",
          "1950-05-01T06:00:00.000000000",
          "1951-05-01T06:00:00.000000000",
          "1952-05-01T06:00:00.000000000",
          "1953-05-01T06:00:00.000000000",
          "1954-05-01T06:00:00.000000000",
          "1955-05-01T06:00:00.000000000",
          "1956-05-01T06:00:00.000000000",
          "1957-05-01T06:00:00.000000000",
          "1958-05-01T06:00:00.000000000",
          "1959-05-01T06:00:00.000000000",
          "1960-05-01T06:00:00.000000000",
          "1961-05-01T06:00:00.000000000",
          "1962-05-01T06:00:00.000000000",
          "1963-05-01T06:00:00.000000000",
          "1964-05-01T06:00:00.000000000",
          "1965-05-01T06:00:00.000000000",
          "1966-05-01T06:00:00.000000000",
          "1967-05-01T06:00:00.000000000",
          "1968-05-01T06:00:00.000000000",
          "1969-05-01T06:00:00.000000000",
          "1970-05-01T06:00:00.000000000",
          "1971-05-01T06:00:00.000000000",
          "1972-05-01T06:00:00.000000000",
          "1973-05-01T06:00:00.000000000",
          "1974-05-01T06:00:00.000000000",
          "1975-05-01T06:00:00.000000000",
          "1976-05-01T06:00:00.000000000",
          "1977-05-01T06:00:00.000000000",
          "1978-05-01T06:00:00.000000000",
          "1979-05-01T06:00:00.000000000",
          "1980-05-01T06:00:00.000000000",
          "1981-05-01T06:00:00.000000000",
          "1982-05-01T06:00:00.000000000",
          "1983-05-01T06:00:00.000000000",
          "1984-05-01T06:00:00.000000000",
          "1985-05-01T06:00:00.000000000",
          "1986-05-01T06:00:00.000000000",
          "1987-05-01T06:00:00.000000000",
          "1988-05-01T06:00:00.000000000",
          "1989-05-01T06:00:00.000000000",
          "1990-05-01T06:00:00.000000000",
          "1991-05-01T06:00:00.000000000",
          "1992-05-01T06:00:00.000000000",
          "1993-05-01T06:00:00.000000000",
          "1994-05-01T06:00:00.000000000",
          "1995-05-01T06:00:00.000000000",
          "1996-05-01T06:00:00.000000000",
          "1997-05-01T06:00:00.000000000",
          "1998-05-01T06:00:00.000000000",
          "1999-05-01T06:00:00.000000000",
          "2000-05-01T06:00:00.000000000",
          "2001-05-01T06:00:00.000000000",
          "2002-05-01T06:00:00.000000000",
          "2003-05-01T06:00:00.000000000",
          "2004-05-01T06:00:00.000000000",
          "2005-05-01T06:00:00.000000000",
          "2006-05-01T06:00:00.000000000",
          "2007-05-01T06:00:00.000000000",
          "2008-05-01T06:00:00.000000000",
          "2009-05-01T06:00:00.000000000",
          "2010-05-01T06:00:00.000000000",
          "2011-05-01T06:00:00.000000000",
          "2012-05-01T06:00:00.000000000",
          "2013-05-01T06:00:00.000000000",
          "2014-05-01T06:00:00.000000000",
          "2015-05-01T06:00:00.000000000",
          "2016-05-01T06:00:00.000000000",
          "2017-05-01T06:00:00.000000000",
          "2018-05-01T06:00:00.000000000",
          "2019-05-01T06:00:00.000000000",
          "2020-05-01T06:00:00.000000000",
          "2021-05-01T06:00:00.000000000",
          "2022-05-01T06:00:00.000000000",
          "2023-05-01T06:00:00.000000000"
         ],
         "y": [
          0.2160902739015625,
          0.31389747944706126,
          -0.8942168034781273,
          0.17198999048833485,
          -2.509790264626103,
          0.2877675251868521,
          -0.36442678834536046,
          1.303778274641327,
          -0.09394622899435692,
          -1.0402978525702133,
          0.5719830735292136,
          0.9947060764516875,
          -0.3001881882249224,
          1.4113613421332327,
          -1.3472262647003133,
          0.12003094899920884,
          -1.459872154339113,
          1.807661204389543,
          -1.101378345178255,
          -0.5144499086271191,
          -0.8915463762742869,
          -0.5054332101302236,
          0.18927431645233023,
          0.716734851976031,
          -1.2602616392806807,
          -0.772603966859761,
          0.21515396190802866,
          0.3320981040484286,
          1.3342717465662477,
          -0.03724751196885102,
          0.9060336480121894,
          0.28060037888466827,
          1.3326652063509787,
          -0.45439195136046023,
          0.060469074830292235,
          0.7479604653821325,
          0.9322215234380673,
          0.053302624332465215,
          0.4363943105703279,
          1.0850656986465967,
          1.3071957449698062,
          1.3941285409955004,
          0.8575085880699004,
          -0.03614768675598513,
          0.5930858011302435,
          0.39070060322050454,
          0.6563842311488798,
          -1.0789789612233731,
          0.00042838306594238855,
          -0.01839826984110759,
          0.49645134900180565,
          1.718130132596214,
          0.6295945014366393,
          -0.46884237797203177,
          0.40532340318565957,
          0.23379672703241183,
          0.21994439959212217,
          0.4110444568230983,
          -0.2647492506757498,
          0.40364158051477883,
          -0.17902451864355445,
          -0.15028861662812448,
          -0.9168762084222125,
          -0.8327290446564923,
          -0.22226418974394488,
          -0.3031452438744701,
          0.09367280001101236,
          -0.5037426614234012,
          -0.2367081753540543,
          -0.3076473553153708,
          -0.22176494399850516,
          -0.37822890939697107,
          0.6831518910683296,
          0.018014255119316615,
          0.8517445311107703,
          -1.1043191706196673,
          0.07961795029497157,
          0.11934261451945526,
          0.012075611014021773,
          0.560556168791098,
          -0.8058259733633701,
          -2.2929083989767043,
          -0.9924691582548,
          -1.355035282759107
         ]
        },
        {
         "hoverinfo": "text",
         "marker": {
          "color": [
           "#ACD1E5",
           "#ACD1E5",
           "#D96C59",
           "#ACD1E5",
           "#681824",
           "#ACD1E5",
           "#F7BB9F",
           "#61A5CE",
           "#F7BB9F",
           "#D96C59",
           "#ACD1E5",
           "#61A5CE",
           "#F7BB9F",
           "#61A5CE",
           "#D96C59",
           "#ACD1E5",
           "#D96C59",
           "#064A78",
           "#D96C59",
           "#F7BB9F",
           "#F7BB9F",
           "#F7BB9F",
           "#ACD1E5",
           "#ACD1E5",
           "#D96C59",
           "#F7BB9F",
           "#ACD1E5",
           "#ACD1E5",
           "#61A5CE",
           "#ACD1E5",
           "#61A5CE",
           "#ACD1E5",
           "#49AEFF",
           "#F7BB9F",
           "#ACD1E5",
           "#ACD1E5",
           "#61A5CE",
           "#ACD1E5",
           "#ACD1E5",
           "#61A5CE",
           "#61A5CE",
           "#61A5CE",
           "#ACD1E5",
           "#F7BB9F",
           "#ACD1E5",
           "#ACD1E5",
           "#ACD1E5",
           "#D96C59",
           "#ACD1E5",
           "#ACD1E5",
           "#ACD1E5",
           "#49AEFF",
           "#ACD1E5",
           "#F7BB9F",
           "#ACD1E5",
           "#ACD1E5",
           "#ACD1E5",
           "#ACD1E5",
           "#F7BB9F",
           "#ACD1E5",
           "#F7BB9F",
           "#F7BB9F",
           "#F7BB9F",
           "#F7BB9F",
           "#F7BB9F",
           "#F7BB9F",
           "#ACD1E5",
           "#F7BB9F",
           "#F7BB9F",
           "#F7BB9F",
           "#F7BB9F",
           "#F7BB9F",
           "#ACD1E5",
           "#ACD1E5",
           "#ACD1E5",
           "#D96C59",
           "#ACD1E5",
           "#ACD1E5",
           "#F7BB9F",
           "#ACD1E5",
           "#F7BB9F",
           "#681824",
           "#D96C59",
           "#D96C59"
          ],
          "line": {
           "color": "black",
           "width": 1
          },
          "size": 10,
          "symbol": "diamond"
         },
         "mode": "markers",
         "name": "Median SPEI",
         "text": [
          "May 1940, median: 0.33",
          "May 1941, median: 0.29",
          "May 1942, median: -1.16",
          "May 1943, median: 0.14",
          "May 1944, median: -2.58",
          "May 1945, median: 0.38",
          "May 1946, median: -0.42",
          "May 1947, median: 1.27",
          "May 1948, median: -0.03",
          "May 1949, median: -1.19",
          "May 1950, median: 0.58",
          "May 1951, median: 1.10",
          "May 1952, median: -0.24",
          "May 1953, median: 1.43",
          "May 1954, median: -1.20",
          "May 1955, median: 0.18",
          "May 1956, median: -1.29",
          "May 1957, median: 2.15",
          "May 1958, median: -1.08",
          "May 1959, median: -0.46",
          "May 1960, median: -0.90",
          "May 1961, median: -0.46",
          "May 1962, median: 0.21",
          "May 1963, median: 0.73",
          "May 1964, median: -1.15",
          "May 1965, median: -0.60",
          "May 1966, median: 0.41",
          "May 1967, median: 0.31",
          "May 1968, median: 1.45",
          "May 1969, median: 0.01",
          "May 1970, median: 1.06",
          "May 1971, median: 0.41",
          "May 1972, median: 1.54",
          "May 1973, median: -0.39",
          "May 1974, median: 0.11",
          "May 1975, median: 0.86",
          "May 1976, median: 1.11",
          "May 1977, median: 0.08",
          "May 1978, median: 0.60",
          "May 1979, median: 1.29",
          "May 1980, median: 1.37",
          "May 1981, median: 1.50",
          "May 1982, median: 0.97",
          "May 1983, median: -0.00",
          "May 1984, median: 0.79",
          "May 1985, median: 0.36",
          "May 1986, median: 0.70",
          "May 1987, median: -1.07",
          "May 1988, median: 0.04",
          "May 1989, median: 0.00",
          "May 1990, median: 0.51",
          "May 1991, median: 1.87",
          "May 1992, median: 0.81",
          "May 1993, median: -0.47",
          "May 1994, median: 0.39",
          "May 1995, median: 0.21",
          "May 1996, median: 0.26",
          "May 1997, median: 0.70",
          "May 1998, median: -0.25",
          "May 1999, median: 0.43",
          "May 2000, median: -0.25",
          "May 2001, median: -0.17",
          "May 2002, median: -0.88",
          "May 2003, median: -0.81",
          "May 2004, median: -0.08",
          "May 2005, median: -0.13",
          "May 2006, median: 0.09",
          "May 2007, median: -0.63",
          "May 2008, median: -0.23",
          "May 2009, median: -0.35",
          "May 2010, median: -0.26",
          "May 2011, median: -0.37",
          "May 2012, median: 0.72",
          "May 2013, median: 0.02",
          "May 2014, median: 0.90",
          "May 2015, median: -1.36",
          "May 2016, median: 0.03",
          "May 2017, median: 0.16",
          "May 2018, median: -0.11",
          "May 2019, median: 0.57",
          "May 2020, median: -0.91",
          "May 2021, median: -2.26",
          "May 2022, median: -1.17",
          "May 2023, median: -1.21"
         ],
         "type": "scatter",
         "x": [
          "1940-05-01T06:00:00.000000000",
          "1941-05-01T06:00:00.000000000",
          "1942-05-01T06:00:00.000000000",
          "1943-05-01T06:00:00.000000000",
          "1944-05-01T06:00:00.000000000",
          "1945-05-01T06:00:00.000000000",
          "1946-05-01T06:00:00.000000000",
          "1947-05-01T06:00:00.000000000",
          "1948-05-01T06:00:00.000000000",
          "1949-05-01T06:00:00.000000000",
          "1950-05-01T06:00:00.000000000",
          "1951-05-01T06:00:00.000000000",
          "1952-05-01T06:00:00.000000000",
          "1953-05-01T06:00:00.000000000",
          "1954-05-01T06:00:00.000000000",
          "1955-05-01T06:00:00.000000000",
          "1956-05-01T06:00:00.000000000",
          "1957-05-01T06:00:00.000000000",
          "1958-05-01T06:00:00.000000000",
          "1959-05-01T06:00:00.000000000",
          "1960-05-01T06:00:00.000000000",
          "1961-05-01T06:00:00.000000000",
          "1962-05-01T06:00:00.000000000",
          "1963-05-01T06:00:00.000000000",
          "1964-05-01T06:00:00.000000000",
          "1965-05-01T06:00:00.000000000",
          "1966-05-01T06:00:00.000000000",
          "1967-05-01T06:00:00.000000000",
          "1968-05-01T06:00:00.000000000",
          "1969-05-01T06:00:00.000000000",
          "1970-05-01T06:00:00.000000000",
          "1971-05-01T06:00:00.000000000",
          "1972-05-01T06:00:00.000000000",
          "1973-05-01T06:00:00.000000000",
          "1974-05-01T06:00:00.000000000",
          "1975-05-01T06:00:00.000000000",
          "1976-05-01T06:00:00.000000000",
          "1977-05-01T06:00:00.000000000",
          "1978-05-01T06:00:00.000000000",
          "1979-05-01T06:00:00.000000000",
          "1980-05-01T06:00:00.000000000",
          "1981-05-01T06:00:00.000000000",
          "1982-05-01T06:00:00.000000000",
          "1983-05-01T06:00:00.000000000",
          "1984-05-01T06:00:00.000000000",
          "1985-05-01T06:00:00.000000000",
          "1986-05-01T06:00:00.000000000",
          "1987-05-01T06:00:00.000000000",
          "1988-05-01T06:00:00.000000000",
          "1989-05-01T06:00:00.000000000",
          "1990-05-01T06:00:00.000000000",
          "1991-05-01T06:00:00.000000000",
          "1992-05-01T06:00:00.000000000",
          "1993-05-01T06:00:00.000000000",
          "1994-05-01T06:00:00.000000000",
          "1995-05-01T06:00:00.000000000",
          "1996-05-01T06:00:00.000000000",
          "1997-05-01T06:00:00.000000000",
          "1998-05-01T06:00:00.000000000",
          "1999-05-01T06:00:00.000000000",
          "2000-05-01T06:00:00.000000000",
          "2001-05-01T06:00:00.000000000",
          "2002-05-01T06:00:00.000000000",
          "2003-05-01T06:00:00.000000000",
          "2004-05-01T06:00:00.000000000",
          "2005-05-01T06:00:00.000000000",
          "2006-05-01T06:00:00.000000000",
          "2007-05-01T06:00:00.000000000",
          "2008-05-01T06:00:00.000000000",
          "2009-05-01T06:00:00.000000000",
          "2010-05-01T06:00:00.000000000",
          "2011-05-01T06:00:00.000000000",
          "2012-05-01T06:00:00.000000000",
          "2013-05-01T06:00:00.000000000",
          "2014-05-01T06:00:00.000000000",
          "2015-05-01T06:00:00.000000000",
          "2016-05-01T06:00:00.000000000",
          "2017-05-01T06:00:00.000000000",
          "2018-05-01T06:00:00.000000000",
          "2019-05-01T06:00:00.000000000",
          "2020-05-01T06:00:00.000000000",
          "2021-05-01T06:00:00.000000000",
          "2022-05-01T06:00:00.000000000",
          "2023-05-01T06:00:00.000000000"
         ],
         "y": [
          0.3345384029943402,
          0.2892863309020668,
          -1.1573707918340843,
          0.13527641370739069,
          -2.576222132600943,
          0.37721288484808463,
          -0.4183571869099925,
          1.2725986873918707,
          -0.027950287935898384,
          -1.188565557325698,
          0.575972276698705,
          1.098139476345895,
          -0.23690951678998182,
          1.4334911988292416,
          -1.199911638954623,
          0.181184006208496,
          -1.286062721674443,
          2.1512216165164935,
          -1.082975496360846,
          -0.45933420375714784,
          -0.8963554566111382,
          -0.46140138827715904,
          0.20659473129861922,
          0.730562093543258,
          -1.1467652405985291,
          -0.5958338429155379,
          0.4072876632417301,
          0.31475307232675565,
          1.447783902327895,
          0.005916376694908337,
          1.060860074794911,
          0.4112703520971409,
          1.544701172485679,
          -0.3910930386204471,
          0.11187699983564967,
          0.8644443919208262,
          1.114451284369959,
          0.08472343881500219,
          0.6031336406281607,
          1.2906963575015502,
          1.37487002087301,
          1.4955661280777146,
          0.9722652148880886,
          -0.00032880447629957777,
          0.7856942312698969,
          0.3640860448123115,
          0.7004781054548501,
          -1.0703864895421986,
          0.0407677395042744,
          0.0012499347708943192,
          0.5081900826297936,
          1.8713696902533399,
          0.8077986587169875,
          -0.4743813430630543,
          0.39131597537576934,
          0.21158157597453106,
          0.25905177225482223,
          0.6991700886955107,
          -0.2516143341268695,
          0.4321766788871437,
          -0.25273787433415623,
          -0.16712751551317487,
          -0.8816056356507036,
          -0.8072624553547906,
          -0.0777366454832894,
          -0.1271394894596337,
          0.09054474205430457,
          -0.6295304026400994,
          -0.23326681157769996,
          -0.354586720527961,
          -0.26376283621389207,
          -0.3650083266413458,
          0.7208159354064834,
          0.021040621098284494,
          0.8959569703584076,
          -1.355721271006189,
          0.03102674829247202,
          0.16013735274234048,
          -0.11216698446015516,
          0.566493153341632,
          -0.9105615856094502,
          -2.258728172808813,
          -1.1698746206420279,
          -1.2078513492740093
         ]
        }
       ],
       "layout": {
        "autosize": true,
        "plot_bgcolor": "rgba(0, 0, 0, 0)",
        "template": {
         "data": {
          "bar": [
           {
            "error_x": {
             "color": "#2a3f5f"
            },
            "error_y": {
             "color": "#2a3f5f"
            },
            "marker": {
             "line": {
              "color": "white",
              "width": 0.5
             },
             "pattern": {
              "fillmode": "overlay",
              "size": 10,
              "solidity": 0.2
             }
            },
            "type": "bar"
           }
          ],
          "barpolar": [
           {
            "marker": {
             "line": {
              "color": "white",
              "width": 0.5
             },
             "pattern": {
              "fillmode": "overlay",
              "size": 10,
              "solidity": 0.2
             }
            },
            "type": "barpolar"
           }
          ],
          "carpet": [
           {
            "aaxis": {
             "endlinecolor": "#2a3f5f",
             "gridcolor": "#C8D4E3",
             "linecolor": "#C8D4E3",
             "minorgridcolor": "#C8D4E3",
             "startlinecolor": "#2a3f5f"
            },
            "baxis": {
             "endlinecolor": "#2a3f5f",
             "gridcolor": "#C8D4E3",
             "linecolor": "#C8D4E3",
             "minorgridcolor": "#C8D4E3",
             "startlinecolor": "#2a3f5f"
            },
            "type": "carpet"
           }
          ],
          "choropleth": [
           {
            "colorbar": {
             "outlinewidth": 0,
             "ticks": ""
            },
            "type": "choropleth"
           }
          ],
          "contour": [
           {
            "colorbar": {
             "outlinewidth": 0,
             "ticks": ""
            },
            "colorscale": [
             [
              0,
              "#0d0887"
             ],
             [
              0.1111111111111111,
              "#46039f"
             ],
             [
              0.2222222222222222,
              "#7201a8"
             ],
             [
              0.3333333333333333,
              "#9c179e"
             ],
             [
              0.4444444444444444,
              "#bd3786"
             ],
             [
              0.5555555555555556,
              "#d8576b"
             ],
             [
              0.6666666666666666,
              "#ed7953"
             ],
             [
              0.7777777777777778,
              "#fb9f3a"
             ],
             [
              0.8888888888888888,
              "#fdca26"
             ],
             [
              1,
              "#f0f921"
             ]
            ],
            "type": "contour"
           }
          ],
          "contourcarpet": [
           {
            "colorbar": {
             "outlinewidth": 0,
             "ticks": ""
            },
            "type": "contourcarpet"
           }
          ],
          "heatmap": [
           {
            "colorbar": {
             "outlinewidth": 0,
             "ticks": ""
            },
            "colorscale": [
             [
              0,
              "#0d0887"
             ],
             [
              0.1111111111111111,
              "#46039f"
             ],
             [
              0.2222222222222222,
              "#7201a8"
             ],
             [
              0.3333333333333333,
              "#9c179e"
             ],
             [
              0.4444444444444444,
              "#bd3786"
             ],
             [
              0.5555555555555556,
              "#d8576b"
             ],
             [
              0.6666666666666666,
              "#ed7953"
             ],
             [
              0.7777777777777778,
              "#fb9f3a"
             ],
             [
              0.8888888888888888,
              "#fdca26"
             ],
             [
              1,
              "#f0f921"
             ]
            ],
            "type": "heatmap"
           }
          ],
          "heatmapgl": [
           {
            "colorbar": {
             "outlinewidth": 0,
             "ticks": ""
            },
            "colorscale": [
             [
              0,
              "#0d0887"
             ],
             [
              0.1111111111111111,
              "#46039f"
             ],
             [
              0.2222222222222222,
              "#7201a8"
             ],
             [
              0.3333333333333333,
              "#9c179e"
             ],
             [
              0.4444444444444444,
              "#bd3786"
             ],
             [
              0.5555555555555556,
              "#d8576b"
             ],
             [
              0.6666666666666666,
              "#ed7953"
             ],
             [
              0.7777777777777778,
              "#fb9f3a"
             ],
             [
              0.8888888888888888,
              "#fdca26"
             ],
             [
              1,
              "#f0f921"
             ]
            ],
            "type": "heatmapgl"
           }
          ],
          "histogram": [
           {
            "marker": {
             "pattern": {
              "fillmode": "overlay",
              "size": 10,
              "solidity": 0.2
             }
            },
            "type": "histogram"
           }
          ],
          "histogram2d": [
           {
            "colorbar": {
             "outlinewidth": 0,
             "ticks": ""
            },
            "colorscale": [
             [
              0,
              "#0d0887"
             ],
             [
              0.1111111111111111,
              "#46039f"
             ],
             [
              0.2222222222222222,
              "#7201a8"
             ],
             [
              0.3333333333333333,
              "#9c179e"
             ],
             [
              0.4444444444444444,
              "#bd3786"
             ],
             [
              0.5555555555555556,
              "#d8576b"
             ],
             [
              0.6666666666666666,
              "#ed7953"
             ],
             [
              0.7777777777777778,
              "#fb9f3a"
             ],
             [
              0.8888888888888888,
              "#fdca26"
             ],
             [
              1,
              "#f0f921"
             ]
            ],
            "type": "histogram2d"
           }
          ],
          "histogram2dcontour": [
           {
            "colorbar": {
             "outlinewidth": 0,
             "ticks": ""
            },
            "colorscale": [
             [
              0,
              "#0d0887"
             ],
             [
              0.1111111111111111,
              "#46039f"
             ],
             [
              0.2222222222222222,
              "#7201a8"
             ],
             [
              0.3333333333333333,
              "#9c179e"
             ],
             [
              0.4444444444444444,
              "#bd3786"
             ],
             [
              0.5555555555555556,
              "#d8576b"
             ],
             [
              0.6666666666666666,
              "#ed7953"
             ],
             [
              0.7777777777777778,
              "#fb9f3a"
             ],
             [
              0.8888888888888888,
              "#fdca26"
             ],
             [
              1,
              "#f0f921"
             ]
            ],
            "type": "histogram2dcontour"
           }
          ],
          "mesh3d": [
           {
            "colorbar": {
             "outlinewidth": 0,
             "ticks": ""
            },
            "type": "mesh3d"
           }
          ],
          "parcoords": [
           {
            "line": {
             "colorbar": {
              "outlinewidth": 0,
              "ticks": ""
             }
            },
            "type": "parcoords"
           }
          ],
          "pie": [
           {
            "automargin": true,
            "type": "pie"
           }
          ],
          "scatter": [
           {
            "fillpattern": {
             "fillmode": "overlay",
             "size": 10,
             "solidity": 0.2
            },
            "type": "scatter"
           }
          ],
          "scatter3d": [
           {
            "line": {
             "colorbar": {
              "outlinewidth": 0,
              "ticks": ""
             }
            },
            "marker": {
             "colorbar": {
              "outlinewidth": 0,
              "ticks": ""
             }
            },
            "type": "scatter3d"
           }
          ],
          "scattercarpet": [
           {
            "marker": {
             "colorbar": {
              "outlinewidth": 0,
              "ticks": ""
             }
            },
            "type": "scattercarpet"
           }
          ],
          "scattergeo": [
           {
            "marker": {
             "colorbar": {
              "outlinewidth": 0,
              "ticks": ""
             }
            },
            "type": "scattergeo"
           }
          ],
          "scattergl": [
           {
            "marker": {
             "colorbar": {
              "outlinewidth": 0,
              "ticks": ""
             }
            },
            "type": "scattergl"
           }
          ],
          "scattermapbox": [
           {
            "marker": {
             "colorbar": {
              "outlinewidth": 0,
              "ticks": ""
             }
            },
            "type": "scattermapbox"
           }
          ],
          "scatterpolar": [
           {
            "marker": {
             "colorbar": {
              "outlinewidth": 0,
              "ticks": ""
             }
            },
            "type": "scatterpolar"
           }
          ],
          "scatterpolargl": [
           {
            "marker": {
             "colorbar": {
              "outlinewidth": 0,
              "ticks": ""
             }
            },
            "type": "scatterpolargl"
           }
          ],
          "scatterternary": [
           {
            "marker": {
             "colorbar": {
              "outlinewidth": 0,
              "ticks": ""
             }
            },
            "type": "scatterternary"
           }
          ],
          "surface": [
           {
            "colorbar": {
             "outlinewidth": 0,
             "ticks": ""
            },
            "colorscale": [
             [
              0,
              "#0d0887"
             ],
             [
              0.1111111111111111,
              "#46039f"
             ],
             [
              0.2222222222222222,
              "#7201a8"
             ],
             [
              0.3333333333333333,
              "#9c179e"
             ],
             [
              0.4444444444444444,
              "#bd3786"
             ],
             [
              0.5555555555555556,
              "#d8576b"
             ],
             [
              0.6666666666666666,
              "#ed7953"
             ],
             [
              0.7777777777777778,
              "#fb9f3a"
             ],
             [
              0.8888888888888888,
              "#fdca26"
             ],
             [
              1,
              "#f0f921"
             ]
            ],
            "type": "surface"
           }
          ],
          "table": [
           {
            "cells": {
             "fill": {
              "color": "#EBF0F8"
             },
             "line": {
              "color": "white"
             }
            },
            "header": {
             "fill": {
              "color": "#C8D4E3"
             },
             "line": {
              "color": "white"
             }
            },
            "type": "table"
           }
          ]
         },
         "layout": {
          "annotationdefaults": {
           "arrowcolor": "#2a3f5f",
           "arrowhead": 0,
           "arrowwidth": 1
          },
          "autotypenumbers": "strict",
          "coloraxis": {
           "colorbar": {
            "outlinewidth": 0,
            "ticks": ""
           }
          },
          "colorscale": {
           "diverging": [
            [
             0,
             "#8e0152"
            ],
            [
             0.1,
             "#c51b7d"
            ],
            [
             0.2,
             "#de77ae"
            ],
            [
             0.3,
             "#f1b6da"
            ],
            [
             0.4,
             "#fde0ef"
            ],
            [
             0.5,
             "#f7f7f7"
            ],
            [
             0.6,
             "#e6f5d0"
            ],
            [
             0.7,
             "#b8e186"
            ],
            [
             0.8,
             "#7fbc41"
            ],
            [
             0.9,
             "#4d9221"
            ],
            [
             1,
             "#276419"
            ]
           ],
           "sequential": [
            [
             0,
             "#0d0887"
            ],
            [
             0.1111111111111111,
             "#46039f"
            ],
            [
             0.2222222222222222,
             "#7201a8"
            ],
            [
             0.3333333333333333,
             "#9c179e"
            ],
            [
             0.4444444444444444,
             "#bd3786"
            ],
            [
             0.5555555555555556,
             "#d8576b"
            ],
            [
             0.6666666666666666,
             "#ed7953"
            ],
            [
             0.7777777777777778,
             "#fb9f3a"
            ],
            [
             0.8888888888888888,
             "#fdca26"
            ],
            [
             1,
             "#f0f921"
            ]
           ],
           "sequentialminus": [
            [
             0,
             "#0d0887"
            ],
            [
             0.1111111111111111,
             "#46039f"
            ],
            [
             0.2222222222222222,
             "#7201a8"
            ],
            [
             0.3333333333333333,
             "#9c179e"
            ],
            [
             0.4444444444444444,
             "#bd3786"
            ],
            [
             0.5555555555555556,
             "#d8576b"
            ],
            [
             0.6666666666666666,
             "#ed7953"
            ],
            [
             0.7777777777777778,
             "#fb9f3a"
            ],
            [
             0.8888888888888888,
             "#fdca26"
            ],
            [
             1,
             "#f0f921"
            ]
           ]
          },
          "colorway": [
           "#636efa",
           "#EF553B",
           "#00cc96",
           "#ab63fa",
           "#FFA15A",
           "#19d3f3",
           "#FF6692",
           "#B6E880",
           "#FF97FF",
           "#FECB52"
          ],
          "font": {
           "color": "#2a3f5f"
          },
          "geo": {
           "bgcolor": "white",
           "lakecolor": "white",
           "landcolor": "white",
           "showlakes": true,
           "showland": true,
           "subunitcolor": "#C8D4E3"
          },
          "hoverlabel": {
           "align": "left"
          },
          "hovermode": "closest",
          "mapbox": {
           "style": "light"
          },
          "paper_bgcolor": "white",
          "plot_bgcolor": "white",
          "polar": {
           "angularaxis": {
            "gridcolor": "#EBF0F8",
            "linecolor": "#EBF0F8",
            "ticks": ""
           },
           "bgcolor": "white",
           "radialaxis": {
            "gridcolor": "#EBF0F8",
            "linecolor": "#EBF0F8",
            "ticks": ""
           }
          },
          "scene": {
           "xaxis": {
            "backgroundcolor": "white",
            "gridcolor": "#DFE8F3",
            "gridwidth": 2,
            "linecolor": "#EBF0F8",
            "showbackground": true,
            "ticks": "",
            "zerolinecolor": "#EBF0F8"
           },
           "yaxis": {
            "backgroundcolor": "white",
            "gridcolor": "#DFE8F3",
            "gridwidth": 2,
            "linecolor": "#EBF0F8",
            "showbackground": true,
            "ticks": "",
            "zerolinecolor": "#EBF0F8"
           },
           "zaxis": {
            "backgroundcolor": "white",
            "gridcolor": "#DFE8F3",
            "gridwidth": 2,
            "linecolor": "#EBF0F8",
            "showbackground": true,
            "ticks": "",
            "zerolinecolor": "#EBF0F8"
           }
          },
          "shapedefaults": {
           "line": {
            "color": "#2a3f5f"
           }
          },
          "ternary": {
           "aaxis": {
            "gridcolor": "#DFE8F3",
            "linecolor": "#A2B1C6",
            "ticks": ""
           },
           "baxis": {
            "gridcolor": "#DFE8F3",
            "linecolor": "#A2B1C6",
            "ticks": ""
           },
           "bgcolor": "white",
           "caxis": {
            "gridcolor": "#DFE8F3",
            "linecolor": "#A2B1C6",
            "ticks": ""
           }
          },
          "title": {
           "x": 0.05
          },
          "xaxis": {
           "automargin": true,
           "gridcolor": "#EBF0F8",
           "linecolor": "#EBF0F8",
           "ticks": "",
           "title": {
            "standoff": 15
           },
           "zerolinecolor": "#EBF0F8",
           "zerolinewidth": 2
          },
          "yaxis": {
           "automargin": true,
           "gridcolor": "#EBF0F8",
           "linecolor": "#EBF0F8",
           "ticks": "",
           "title": {
            "standoff": 15
           },
           "zerolinecolor": "#EBF0F8",
           "zerolinewidth": 2
          }
         }
        },
        "title": {
         "text": "1 month SPEI Index Trends Over Time in Angola's Cabinda for May"
        },
        "xaxis": {
         "autorange": true,
         "range": [
          "1935-03-05 08:21:24.2505",
          "2028-06-27 03:38:35.7495"
         ],
         "title": {
          "text": "Year"
         },
         "type": "date"
        },
        "yaxis": {
         "autorange": true,
         "range": [
          -2.958021128673041,
          2.5330206125885915
         ],
         "title": {
          "text": "SPEI1 Value"
         },
         "type": "linear",
         "zeroline": true,
         "zerolinecolor": "#D3D3D3",
         "zerolinewidth": 1
        }
       }
      },
      "image/png": "[encoded data removed]",
      "text/html": [
       "<div>                            <div id=\"ace8aabe-1336-443b-8eb6-240cc7f6bb53\" class=\"plotly-graph-div\" style=\"height:500px; width:100%;\"></div>            <script type=\"text/javascript\">                require([\"plotly\"], function(Plotly) {                    window.PLOTLYENV=window.PLOTLYENV || {};                                    if (document.getElementById(\"ace8aabe-1336-443b-8eb6-240cc7f6bb53\")) {                    Plotly.newPlot(                        \"ace8aabe-1336-443b-8eb6-240cc7f6bb53\",                        [{\"hoverinfo\":\"text\",\"marker\":{\"color\":[\"#ACD1E5\",\"#ACD1E5\",\"#F7BB9F\",\"#ACD1E5\",\"#681824\",\"#ACD1E5\",\"#F7BB9F\",\"#61A5CE\",\"#F7BB9F\",\"#D96C59\",\"#ACD1E5\",\"#ACD1E5\",\"#F7BB9F\",\"#61A5CE\",\"#D96C59\",\"#ACD1E5\",\"#D96C59\",\"#49AEFF\",\"#D96C59\",\"#F7BB9F\",\"#F7BB9F\",\"#F7BB9F\",\"#ACD1E5\",\"#ACD1E5\",\"#D96C59\",\"#F7BB9F\",\"#ACD1E5\",\"#ACD1E5\",\"#61A5CE\",\"#F7BB9F\",\"#ACD1E5\",\"#ACD1E5\",\"#61A5CE\",\"#F7BB9F\",\"#ACD1E5\",\"#ACD1E5\",\"#ACD1E5\",\"#ACD1E5\",\"#ACD1E5\",\"#61A5CE\",\"#61A5CE\",\"#61A5CE\",\"#ACD1E5\",\"#F7BB9F\",\"#ACD1E5\",\"#ACD1E5\",\"#ACD1E5\",\"#D96C59\",\"#ACD1E5\",\"#F7BB9F\",\"#ACD1E5\",\"#49AEFF\",\"#ACD1E5\",\"#F7BB9F\",\"#ACD1E5\",\"#ACD1E5\",\"#ACD1E5\",\"#ACD1E5\",\"#F7BB9F\",\"#ACD1E5\",\"#F7BB9F\",\"#F7BB9F\",\"#F7BB9F\",\"#F7BB9F\",\"#F7BB9F\",\"#F7BB9F\",\"#ACD1E5\",\"#F7BB9F\",\"#F7BB9F\",\"#F7BB9F\",\"#F7BB9F\",\"#F7BB9F\",\"#ACD1E5\",\"#ACD1E5\",\"#ACD1E5\",\"#D96C59\",\"#ACD1E5\",\"#ACD1E5\",\"#ACD1E5\",\"#ACD1E5\",\"#F7BB9F\",\"#681824\",\"#F7BB9F\",\"#D96C59\"],\"line\":{\"color\":\"black\",\"width\":1},\"size\":10,\"symbol\":\"circle\"},\"mode\":\"markers\",\"name\":\"Mean SPEI\",\"text\":[\"May 1940, mean: 0.22\",\"May 1941, mean: 0.31\",\"May 1942, mean: -0.89\",\"May 1943, mean: 0.17\",\"May 1944, mean: -2.51\",\"May 1945, mean: 0.29\",\"May 1946, mean: -0.36\",\"May 1947, mean: 1.30\",\"May 1948, mean: -0.09\",\"May 1949, mean: -1.04\",\"May 1950, mean: 0.57\",\"May 1951, mean: 0.99\",\"May 1952, mean: -0.30\",\"May 1953, mean: 1.41\",\"May 1954, mean: -1.35\",\"May 1955, mean: 0.12\",\"May 1956, mean: -1.46\",\"May 1957, mean: 1.81\",\"May 1958, mean: -1.10\",\"May 1959, mean: -0.51\",\"May 1960, mean: -0.89\",\"May 1961, mean: -0.51\",\"May 1962, mean: 0.19\",\"May 1963, mean: 0.72\",\"May 1964, mean: -1.26\",\"May 1965, mean: -0.77\",\"May 1966, mean: 0.22\",\"May 1967, mean: 0.33\",\"May 1968, mean: 1.33\",\"May 1969, mean: -0.04\",\"May 1970, mean: 0.91\",\"May 1971, mean: 0.28\",\"May 1972, mean: 1.33\",\"May 1973, mean: -0.45\",\"May 1974, mean: 0.06\",\"May 1975, mean: 0.75\",\"May 1976, mean: 0.93\",\"May 1977, mean: 0.05\",\"May 1978, mean: 0.44\",\"May 1979, mean: 1.09\",\"May 1980, mean: 1.31\",\"May 1981, mean: 1.39\",\"May 1982, mean: 0.86\",\"May 1983, mean: -0.04\",\"May 1984, mean: 0.59\",\"May 1985, mean: 0.39\",\"May 1986, mean: 0.66\",\"May 1987, mean: -1.08\",\"May 1988, mean: 0.00\",\"May 1989, mean: -0.02\",\"May 1990, mean: 0.50\",\"May 1991, mean: 1.72\",\"May 1992, mean: 0.63\",\"May 1993, mean: -0.47\",\"May 1994, mean: 0.41\",\"May 1995, mean: 0.23\",\"May 1996, mean: 0.22\",\"May 1997, mean: 0.41\",\"May 1998, mean: -0.26\",\"May 1999, mean: 0.40\",\"May 2000, mean: -0.18\",\"May 2001, mean: -0.15\",\"May 2002, mean: -0.92\",\"May 2003, mean: -0.83\",\"May 2004, mean: -0.22\",\"May 2005, mean: -0.30\",\"May 2006, mean: 0.09\",\"May 2007, mean: -0.50\",\"May 2008, mean: -0.24\",\"May 2009, mean: -0.31\",\"May 2010, mean: -0.22\",\"May 2011, mean: -0.38\",\"May 2012, mean: 0.68\",\"May 2013, mean: 0.02\",\"May 2014, mean: 0.85\",\"May 2015, mean: -1.10\",\"May 2016, mean: 0.08\",\"May 2017, mean: 0.12\",\"May 2018, mean: 0.01\",\"May 2019, mean: 0.56\",\"May 2020, mean: -0.81\",\"May 2021, mean: -2.29\",\"May 2022, mean: -0.99\",\"May 2023, mean: -1.36\"],\"x\":[\"1940-05-01T06:00:00.000000000\",\"1941-05-01T06:00:00.000000000\",\"1942-05-01T06:00:00.000000000\",\"1943-05-01T06:00:00.000000000\",\"1944-05-01T06:00:00.000000000\",\"1945-05-01T06:00:00.000000000\",\"1946-05-01T06:00:00.000000000\",\"1947-05-01T06:00:00.000000000\",\"1948-05-01T06:00:00.000000000\",\"1949-05-01T06:00:00.000000000\",\"1950-05-01T06:00:00.000000000\",\"1951-05-01T06:00:00.000000000\",\"1952-05-01T06:00:00.000000000\",\"1953-05-01T06:00:00.000000000\",\"1954-05-01T06:00:00.000000000\",\"1955-05-01T06:00:00.000000000\",\"1956-05-01T06:00:00.000000000\",\"1957-05-01T06:00:00.000000000\",\"1958-05-01T06:00:00.000000000\",\"1959-05-01T06:00:00.000000000\",\"1960-05-01T06:00:00.000000000\",\"1961-05-01T06:00:00.000000000\",\"1962-05-01T06:00:00.000000000\",\"1963-05-01T06:00:00.000000000\",\"1964-05-01T06:00:00.000000000\",\"1965-05-01T06:00:00.000000000\",\"1966-05-01T06:00:00.000000000\",\"1967-05-01T06:00:00.000000000\",\"1968-05-01T06:00:00.000000000\",\"1969-05-01T06:00:00.000000000\",\"1970-05-01T06:00:00.000000000\",\"1971-05-01T06:00:00.000000000\",\"1972-05-01T06:00:00.000000000\",\"1973-05-01T06:00:00.000000000\",\"1974-05-01T06:00:00.000000000\",\"1975-05-01T06:00:00.000000000\",\"1976-05-01T06:00:00.000000000\",\"1977-05-01T06:00:00.000000000\",\"1978-05-01T06:00:00.000000000\",\"1979-05-01T06:00:00.000000000\",\"1980-05-01T06:00:00.000000000\",\"1981-05-01T06:00:00.000000000\",\"1982-05-01T06:00:00.000000000\",\"1983-05-01T06:00:00.000000000\",\"1984-05-01T06:00:00.000000000\",\"1985-05-01T06:00:00.000000000\",\"1986-05-01T06:00:00.000000000\",\"1987-05-01T06:00:00.000000000\",\"1988-05-01T06:00:00.000000000\",\"1989-05-01T06:00:00.000000000\",\"1990-05-01T06:00:00.000000000\",\"1991-05-01T06:00:00.000000000\",\"1992-05-01T06:00:00.000000000\",\"1993-05-01T06:00:00.000000000\",\"1994-05-01T06:00:00.000000000\",\"1995-05-01T06:00:00.000000000\",\"1996-05-01T06:00:00.000000000\",\"1997-05-01T06:00:00.000000000\",\"1998-05-01T06:00:00.000000000\",\"1999-05-01T06:00:00.000000000\",\"2000-05-01T06:00:00.000000000\",\"2001-05-01T06:00:00.000000000\",\"2002-05-01T06:00:00.000000000\",\"2003-05-01T06:00:00.000000000\",\"2004-05-01T06:00:00.000000000\",\"2005-05-01T06:00:00.000000000\",\"2006-05-01T06:00:00.000000000\",\"2007-05-01T06:00:00.000000000\",\"2008-05-01T06:00:00.000000000\",\"2009-05-01T06:00:00.000000000\",\"2010-05-01T06:00:00.000000000\",\"2011-05-01T06:00:00.000000000\",\"2012-05-01T06:00:00.000000000\",\"2013-05-01T06:00:00.000000000\",\"2014-05-01T06:00:00.000000000\",\"2015-05-01T06:00:00.000000000\",\"2016-05-01T06:00:00.000000000\",\"2017-05-01T06:00:00.000000000\",\"2018-05-01T06:00:00.000000000\",\"2019-05-01T06:00:00.000000000\",\"2020-05-01T06:00:00.000000000\",\"2021-05-01T06:00:00.000000000\",\"2022-05-01T06:00:00.000000000\",\"2023-05-01T06:00:00.000000000\"],\"y\":[0.2160902739015625,0.31389747944706126,-0.8942168034781273,0.17198999048833485,-2.509790264626103,0.2877675251868521,-0.36442678834536046,1.303778274641327,-0.09394622899435692,-1.0402978525702133,0.5719830735292136,0.9947060764516875,-0.3001881882249224,1.4113613421332327,-1.3472262647003133,0.12003094899920884,-1.459872154339113,1.807661204389543,-1.101378345178255,-0.5144499086271191,-0.8915463762742869,-0.5054332101302236,0.18927431645233023,0.716734851976031,-1.2602616392806807,-0.772603966859761,0.21515396190802866,0.3320981040484286,1.3342717465662477,-0.03724751196885102,0.9060336480121894,0.28060037888466827,1.3326652063509787,-0.45439195136046023,0.060469074830292235,0.7479604653821325,0.9322215234380673,0.053302624332465215,0.4363943105703279,1.0850656986465967,1.3071957449698062,1.3941285409955004,0.8575085880699004,-0.03614768675598513,0.5930858011302435,0.39070060322050454,0.6563842311488798,-1.0789789612233731,0.00042838306594238855,-0.01839826984110759,0.49645134900180565,1.718130132596214,0.6295945014366393,-0.46884237797203177,0.40532340318565957,0.23379672703241183,0.21994439959212217,0.4110444568230983,-0.2647492506757498,0.40364158051477883,-0.17902451864355445,-0.15028861662812448,-0.9168762084222125,-0.8327290446564923,-0.22226418974394488,-0.3031452438744701,0.09367280001101236,-0.5037426614234012,-0.2367081753540543,-0.3076473553153708,-0.22176494399850516,-0.37822890939697107,0.6831518910683296,0.018014255119316615,0.8517445311107703,-1.1043191706196673,0.07961795029497157,0.11934261451945526,0.012075611014021773,0.560556168791098,-0.8058259733633701,-2.2929083989767043,-0.9924691582548,-1.355035282759107],\"type\":\"scatter\"},{\"hoverinfo\":\"text\",\"marker\":{\"color\":[\"#ACD1E5\",\"#ACD1E5\",\"#D96C59\",\"#ACD1E5\",\"#681824\",\"#ACD1E5\",\"#F7BB9F\",\"#61A5CE\",\"#F7BB9F\",\"#D96C59\",\"#ACD1E5\",\"#61A5CE\",\"#F7BB9F\",\"#61A5CE\",\"#D96C59\",\"#ACD1E5\",\"#D96C59\",\"#064A78\",\"#D96C59\",\"#F7BB9F\",\"#F7BB9F\",\"#F7BB9F\",\"#ACD1E5\",\"#ACD1E5\",\"#D96C59\",\"#F7BB9F\",\"#ACD1E5\",\"#ACD1E5\",\"#61A5CE\",\"#ACD1E5\",\"#61A5CE\",\"#ACD1E5\",\"#49AEFF\",\"#F7BB9F\",\"#ACD1E5\",\"#ACD1E5\",\"#61A5CE\",\"#ACD1E5\",\"#ACD1E5\",\"#61A5CE\",\"#61A5CE\",\"#61A5CE\",\"#ACD1E5\",\"#F7BB9F\",\"#ACD1E5\",\"#ACD1E5\",\"#ACD1E5\",\"#D96C59\",\"#ACD1E5\",\"#ACD1E5\",\"#ACD1E5\",\"#49AEFF\",\"#ACD1E5\",\"#F7BB9F\",\"#ACD1E5\",\"#ACD1E5\",\"#ACD1E5\",\"#ACD1E5\",\"#F7BB9F\",\"#ACD1E5\",\"#F7BB9F\",\"#F7BB9F\",\"#F7BB9F\",\"#F7BB9F\",\"#F7BB9F\",\"#F7BB9F\",\"#ACD1E5\",\"#F7BB9F\",\"#F7BB9F\",\"#F7BB9F\",\"#F7BB9F\",\"#F7BB9F\",\"#ACD1E5\",\"#ACD1E5\",\"#ACD1E5\",\"#D96C59\",\"#ACD1E5\",\"#ACD1E5\",\"#F7BB9F\",\"#ACD1E5\",\"#F7BB9F\",\"#681824\",\"#D96C59\",\"#D96C59\"],\"line\":{\"color\":\"black\",\"width\":1},\"size\":10,\"symbol\":\"diamond\"},\"mode\":\"markers\",\"name\":\"Median SPEI\",\"text\":[\"May 1940, median: 0.33\",\"May 1941, median: 0.29\",\"May 1942, median: -1.16\",\"May 1943, median: 0.14\",\"May 1944, median: -2.58\",\"May 1945, median: 0.38\",\"May 1946, median: -0.42\",\"May 1947, median: 1.27\",\"May 1948, median: -0.03\",\"May 1949, median: -1.19\",\"May 1950, median: 0.58\",\"May 1951, median: 1.10\",\"May 1952, median: -0.24\",\"May 1953, median: 1.43\",\"May 1954, median: -1.20\",\"May 1955, median: 0.18\",\"May 1956, median: -1.29\",\"May 1957, median: 2.15\",\"May 1958, median: -1.08\",\"May 1959, median: -0.46\",\"May 1960, median: -0.90\",\"May 1961, median: -0.46\",\"May 1962, median: 0.21\",\"May 1963, median: 0.73\",\"May 1964, median: -1.15\",\"May 1965, median: -0.60\",\"May 1966, median: 0.41\",\"May 1967, median: 0.31\",\"May 1968, median: 1.45\",\"May 1969, median: 0.01\",\"May 1970, median: 1.06\",\"May 1971, median: 0.41\",\"May 1972, median: 1.54\",\"May 1973, median: -0.39\",\"May 1974, median: 0.11\",\"May 1975, median: 0.86\",\"May 1976, median: 1.11\",\"May 1977, median: 0.08\",\"May 1978, median: 0.60\",\"May 1979, median: 1.29\",\"May 1980, median: 1.37\",\"May 1981, median: 1.50\",\"May 1982, median: 0.97\",\"May 1983, median: -0.00\",\"May 1984, median: 0.79\",\"May 1985, median: 0.36\",\"May 1986, median: 0.70\",\"May 1987, median: -1.07\",\"May 1988, median: 0.04\",\"May 1989, median: 0.00\",\"May 1990, median: 0.51\",\"May 1991, median: 1.87\",\"May 1992, median: 0.81\",\"May 1993, median: -0.47\",\"May 1994, median: 0.39\",\"May 1995, median: 0.21\",\"May 1996, median: 0.26\",\"May 1997, median: 0.70\",\"May 1998, median: -0.25\",\"May 1999, median: 0.43\",\"May 2000, median: -0.25\",\"May 2001, median: -0.17\",\"May 2002, median: -0.88\",\"May 2003, median: -0.81\",\"May 2004, median: -0.08\",\"May 2005, median: -0.13\",\"May 2006, median: 0.09\",\"May 2007, median: -0.63\",\"May 2008, median: -0.23\",\"May 2009, median: -0.35\",\"May 2010, median: -0.26\",\"May 2011, median: -0.37\",\"May 2012, median: 0.72\",\"May 2013, median: 0.02\",\"May 2014, median: 0.90\",\"May 2015, median: -1.36\",\"May 2016, median: 0.03\",\"May 2017, median: 0.16\",\"May 2018, median: -0.11\",\"May 2019, median: 0.57\",\"May 2020, median: -0.91\",\"May 2021, median: -2.26\",\"May 2022, median: -1.17\",\"May 2023, median: -1.21\"],\"x\":[\"1940-05-01T06:00:00.000000000\",\"1941-05-01T06:00:00.000000000\",\"1942-05-01T06:00:00.000000000\",\"1943-05-01T06:00:00.000000000\",\"1944-05-01T06:00:00.000000000\",\"1945-05-01T06:00:00.000000000\",\"1946-05-01T06:00:00.000000000\",\"1947-05-01T06:00:00.000000000\",\"1948-05-01T06:00:00.000000000\",\"1949-05-01T06:00:00.000000000\",\"1950-05-01T06:00:00.000000000\",\"1951-05-01T06:00:00.000000000\",\"1952-05-01T06:00:00.000000000\",\"1953-05-01T06:00:00.000000000\",\"1954-05-01T06:00:00.000000000\",\"1955-05-01T06:00:00.000000000\",\"1956-05-01T06:00:00.000000000\",\"1957-05-01T06:00:00.000000000\",\"1958-05-01T06:00:00.000000000\",\"1959-05-01T06:00:00.000000000\",\"1960-05-01T06:00:00.000000000\",\"1961-05-01T06:00:00.000000000\",\"1962-05-01T06:00:00.000000000\",\"1963-05-01T06:00:00.000000000\",\"1964-05-01T06:00:00.000000000\",\"1965-05-01T06:00:00.000000000\",\"1966-05-01T06:00:00.000000000\",\"1967-05-01T06:00:00.000000000\",\"1968-05-01T06:00:00.000000000\",\"1969-05-01T06:00:00.000000000\",\"1970-05-01T06:00:00.000000000\",\"1971-05-01T06:00:00.000000000\",\"1972-05-01T06:00:00.000000000\",\"1973-05-01T06:00:00.000000000\",\"1974-05-01T06:00:00.000000000\",\"1975-05-01T06:00:00.000000000\",\"1976-05-01T06:00:00.000000000\",\"1977-05-01T06:00:00.000000000\",\"1978-05-01T06:00:00.000000000\",\"1979-05-01T06:00:00.000000000\",\"1980-05-01T06:00:00.000000000\",\"1981-05-01T06:00:00.000000000\",\"1982-05-01T06:00:00.000000000\",\"1983-05-01T06:00:00.000000000\",\"1984-05-01T06:00:00.000000000\",\"1985-05-01T06:00:00.000000000\",\"1986-05-01T06:00:00.000000000\",\"1987-05-01T06:00:00.000000000\",\"1988-05-01T06:00:00.000000000\",\"1989-05-01T06:00:00.000000000\",\"1990-05-01T06:00:00.000000000\",\"1991-05-01T06:00:00.000000000\",\"1992-05-01T06:00:00.000000000\",\"1993-05-01T06:00:00.000000000\",\"1994-05-01T06:00:00.000000000\",\"1995-05-01T06:00:00.000000000\",\"1996-05-01T06:00:00.000000000\",\"1997-05-01T06:00:00.000000000\",\"1998-05-01T06:00:00.000000000\",\"1999-05-01T06:00:00.000000000\",\"2000-05-01T06:00:00.000000000\",\"2001-05-01T06:00:00.000000000\",\"2002-05-01T06:00:00.000000000\",\"2003-05-01T06:00:00.000000000\",\"2004-05-01T06:00:00.000000000\",\"2005-05-01T06:00:00.000000000\",\"2006-05-01T06:00:00.000000000\",\"2007-05-01T06:00:00.000000000\",\"2008-05-01T06:00:00.000000000\",\"2009-05-01T06:00:00.000000000\",\"2010-05-01T06:00:00.000000000\",\"2011-05-01T06:00:00.000000000\",\"2012-05-01T06:00:00.000000000\",\"2013-05-01T06:00:00.000000000\",\"2014-05-01T06:00:00.000000000\",\"2015-05-01T06:00:00.000000000\",\"2016-05-01T06:00:00.000000000\",\"2017-05-01T06:00:00.000000000\",\"2018-05-01T06:00:00.000000000\",\"2019-05-01T06:00:00.000000000\",\"2020-05-01T06:00:00.000000000\",\"2021-05-01T06:00:00.000000000\",\"2022-05-01T06:00:00.000000000\",\"2023-05-01T06:00:00.000000000\"],\"y\":[0.3345384029943402,0.2892863309020668,-1.1573707918340843,0.13527641370739069,-2.576222132600943,0.37721288484808463,-0.4183571869099925,1.2725986873918707,-0.027950287935898384,-1.188565557325698,0.575972276698705,1.098139476345895,-0.23690951678998182,1.4334911988292416,-1.199911638954623,0.181184006208496,-1.286062721674443,2.1512216165164935,-1.082975496360846,-0.45933420375714784,-0.8963554566111382,-0.46140138827715904,0.20659473129861922,0.730562093543258,-1.1467652405985291,-0.5958338429155379,0.4072876632417301,0.31475307232675565,1.447783902327895,0.005916376694908337,1.060860074794911,0.4112703520971409,1.544701172485679,-0.3910930386204471,0.11187699983564967,0.8644443919208262,1.114451284369959,0.08472343881500219,0.6031336406281607,1.2906963575015502,1.37487002087301,1.4955661280777146,0.9722652148880886,-0.00032880447629957777,0.7856942312698969,0.3640860448123115,0.7004781054548501,-1.0703864895421986,0.0407677395042744,0.0012499347708943192,0.5081900826297936,1.8713696902533399,0.8077986587169875,-0.4743813430630543,0.39131597537576934,0.21158157597453106,0.25905177225482223,0.6991700886955107,-0.2516143341268695,0.4321766788871437,-0.25273787433415623,-0.16712751551317487,-0.8816056356507036,-0.8072624553547906,-0.0777366454832894,-0.1271394894596337,0.09054474205430457,-0.6295304026400994,-0.23326681157769996,-0.354586720527961,-0.26376283621389207,-0.3650083266413458,0.7208159354064834,0.021040621098284494,0.8959569703584076,-1.355721271006189,0.03102674829247202,0.16013735274234048,-0.11216698446015516,0.566493153341632,-0.9105615856094502,-2.258728172808813,-1.1698746206420279,-1.2078513492740093],\"type\":\"scatter\"}],                        {\"template\":{\"data\":{\"barpolar\":[{\"marker\":{\"line\":{\"color\":\"white\",\"width\":0.5},\"pattern\":{\"fillmode\":\"overlay\",\"size\":10,\"solidity\":0.2}},\"type\":\"barpolar\"}],\"bar\":[{\"error_x\":{\"color\":\"#2a3f5f\"},\"error_y\":{\"color\":\"#2a3f5f\"},\"marker\":{\"line\":{\"color\":\"white\",\"width\":0.5},\"pattern\":{\"fillmode\":\"overlay\",\"size\":10,\"solidity\":0.2}},\"type\":\"bar\"}],\"carpet\":[{\"aaxis\":{\"endlinecolor\":\"#2a3f5f\",\"gridcolor\":\"#C8D4E3\",\"linecolor\":\"#C8D4E3\",\"minorgridcolor\":\"#C8D4E3\",\"startlinecolor\":\"#2a3f5f\"},\"baxis\":{\"endlinecolor\":\"#2a3f5f\",\"gridcolor\":\"#C8D4E3\",\"linecolor\":\"#C8D4E3\",\"minorgridcolor\":\"#C8D4E3\",\"startlinecolor\":\"#2a3f5f\"},\"type\":\"carpet\"}],\"choropleth\":[{\"colorbar\":{\"outlinewidth\":0,\"ticks\":\"\"},\"type\":\"choropleth\"}],\"contourcarpet\":[{\"colorbar\":{\"outlinewidth\":0,\"ticks\":\"\"},\"type\":\"contourcarpet\"}],\"contour\":[{\"colorbar\":{\"outlinewidth\":0,\"ticks\":\"\"},\"colorscale\":[[0.0,\"#0d0887\"],[0.1111111111111111,\"#46039f\"],[0.2222222222222222,\"#7201a8\"],[0.3333333333333333,\"#9c179e\"],[0.4444444444444444,\"#bd3786\"],[0.5555555555555556,\"#d8576b\"],[0.6666666666666666,\"#ed7953\"],[0.7777777777777778,\"#fb9f3a\"],[0.8888888888888888,\"#fdca26\"],[1.0,\"#f0f921\"]],\"type\":\"contour\"}],\"heatmapgl\":[{\"colorbar\":{\"outlinewidth\":0,\"ticks\":\"\"},\"colorscale\":[[0.0,\"#0d0887\"],[0.1111111111111111,\"#46039f\"],[0.2222222222222222,\"#7201a8\"],[0.3333333333333333,\"#9c179e\"],[0.4444444444444444,\"#bd3786\"],[0.5555555555555556,\"#d8576b\"],[0.6666666666666666,\"#ed7953\"],[0.7777777777777778,\"#fb9f3a\"],[0.8888888888888888,\"#fdca26\"],[1.0,\"#f0f921\"]],\"type\":\"heatmapgl\"}],\"heatmap\":[{\"colorbar\":{\"outlinewidth\":0,\"ticks\":\"\"},\"colorscale\":[[0.0,\"#0d0887\"],[0.1111111111111111,\"#46039f\"],[0.2222222222222222,\"#7201a8\"],[0.3333333333333333,\"#9c179e\"],[0.4444444444444444,\"#bd3786\"],[0.5555555555555556,\"#d8576b\"],[0.6666666666666666,\"#ed7953\"],[0.7777777777777778,\"#fb9f3a\"],[0.8888888888888888,\"#fdca26\"],[1.0,\"#f0f921\"]],\"type\":\"heatmap\"}],\"histogram2dcontour\":[{\"colorbar\":{\"outlinewidth\":0,\"ticks\":\"\"},\"colorscale\":[[0.0,\"#0d0887\"],[0.1111111111111111,\"#46039f\"],[0.2222222222222222,\"#7201a8\"],[0.3333333333333333,\"#9c179e\"],[0.4444444444444444,\"#bd3786\"],[0.5555555555555556,\"#d8576b\"],[0.6666666666666666,\"#ed7953\"],[0.7777777777777778,\"#fb9f3a\"],[0.8888888888888888,\"#fdca26\"],[1.0,\"#f0f921\"]],\"type\":\"histogram2dcontour\"}],\"histogram2d\":[{\"colorbar\":{\"outlinewidth\":0,\"ticks\":\"\"},\"colorscale\":[[0.0,\"#0d0887\"],[0.1111111111111111,\"#46039f\"],[0.2222222222222222,\"#7201a8\"],[0.3333333333333333,\"#9c179e\"],[0.4444444444444444,\"#bd3786\"],[0.5555555555555556,\"#d8576b\"],[0.6666666666666666,\"#ed7953\"],[0.7777777777777778,\"#fb9f3a\"],[0.8888888888888888,\"#fdca26\"],[1.0,\"#f0f921\"]],\"type\":\"histogram2d\"}],\"histogram\":[{\"marker\":{\"pattern\":{\"fillmode\":\"overlay\",\"size\":10,\"solidity\":0.2}},\"type\":\"histogram\"}],\"mesh3d\":[{\"colorbar\":{\"outlinewidth\":0,\"ticks\":\"\"},\"type\":\"mesh3d\"}],\"parcoords\":[{\"line\":{\"colorbar\":{\"outlinewidth\":0,\"ticks\":\"\"}},\"type\":\"parcoords\"}],\"pie\":[{\"automargin\":true,\"type\":\"pie\"}],\"scatter3d\":[{\"line\":{\"colorbar\":{\"outlinewidth\":0,\"ticks\":\"\"}},\"marker\":{\"colorbar\":{\"outlinewidth\":0,\"ticks\":\"\"}},\"type\":\"scatter3d\"}],\"scattercarpet\":[{\"marker\":{\"colorbar\":{\"outlinewidth\":0,\"ticks\":\"\"}},\"type\":\"scattercarpet\"}],\"scattergeo\":[{\"marker\":{\"colorbar\":{\"outlinewidth\":0,\"ticks\":\"\"}},\"type\":\"scattergeo\"}],\"scattergl\":[{\"marker\":{\"colorbar\":{\"outlinewidth\":0,\"ticks\":\"\"}},\"type\":\"scattergl\"}],\"scattermapbox\":[{\"marker\":{\"colorbar\":{\"outlinewidth\":0,\"ticks\":\"\"}},\"type\":\"scattermapbox\"}],\"scatterpolargl\":[{\"marker\":{\"colorbar\":{\"outlinewidth\":0,\"ticks\":\"\"}},\"type\":\"scatterpolargl\"}],\"scatterpolar\":[{\"marker\":{\"colorbar\":{\"outlinewidth\":0,\"ticks\":\"\"}},\"type\":\"scatterpolar\"}],\"scatter\":[{\"fillpattern\":{\"fillmode\":\"overlay\",\"size\":10,\"solidity\":0.2},\"type\":\"scatter\"}],\"scatterternary\":[{\"marker\":{\"colorbar\":{\"outlinewidth\":0,\"ticks\":\"\"}},\"type\":\"scatterternary\"}],\"surface\":[{\"colorbar\":{\"outlinewidth\":0,\"ticks\":\"\"},\"colorscale\":[[0.0,\"#0d0887\"],[0.1111111111111111,\"#46039f\"],[0.2222222222222222,\"#7201a8\"],[0.3333333333333333,\"#9c179e\"],[0.4444444444444444,\"#bd3786\"],[0.5555555555555556,\"#d8576b\"],[0.6666666666666666,\"#ed7953\"],[0.7777777777777778,\"#fb9f3a\"],[0.8888888888888888,\"#fdca26\"],[1.0,\"#f0f921\"]],\"type\":\"surface\"}],\"table\":[{\"cells\":{\"fill\":{\"color\":\"#EBF0F8\"},\"line\":{\"color\":\"white\"}},\"header\":{\"fill\":{\"color\":\"#C8D4E3\"},\"line\":{\"color\":\"white\"}},\"type\":\"table\"}]},\"layout\":{\"annotationdefaults\":{\"arrowcolor\":\"#2a3f5f\",\"arrowhead\":0,\"arrowwidth\":1},\"autotypenumbers\":\"strict\",\"coloraxis\":{\"colorbar\":{\"outlinewidth\":0,\"ticks\":\"\"}},\"colorscale\":{\"diverging\":[[0,\"#8e0152\"],[0.1,\"#c51b7d\"],[0.2,\"#de77ae\"],[0.3,\"#f1b6da\"],[0.4,\"#fde0ef\"],[0.5,\"#f7f7f7\"],[0.6,\"#e6f5d0\"],[0.7,\"#b8e186\"],[0.8,\"#7fbc41\"],[0.9,\"#4d9221\"],[1,\"#276419\"]],\"sequential\":[[0.0,\"#0d0887\"],[0.1111111111111111,\"#46039f\"],[0.2222222222222222,\"#7201a8\"],[0.3333333333333333,\"#9c179e\"],[0.4444444444444444,\"#bd3786\"],[0.5555555555555556,\"#d8576b\"],[0.6666666666666666,\"#ed7953\"],[0.7777777777777778,\"#fb9f3a\"],[0.8888888888888888,\"#fdca26\"],[1.0,\"#f0f921\"]],\"sequentialminus\":[[0.0,\"#0d0887\"],[0.1111111111111111,\"#46039f\"],[0.2222222222222222,\"#7201a8\"],[0.3333333333333333,\"#9c179e\"],[0.4444444444444444,\"#bd3786\"],[0.5555555555555556,\"#d8576b\"],[0.6666666666666666,\"#ed7953\"],[0.7777777777777778,\"#fb9f3a\"],[0.8888888888888888,\"#fdca26\"],[1.0,\"#f0f921\"]]},\"colorway\":[\"#636efa\",\"#EF553B\",\"#00cc96\",\"#ab63fa\",\"#FFA15A\",\"#19d3f3\",\"#FF6692\",\"#B6E880\",\"#FF97FF\",\"#FECB52\"],\"font\":{\"color\":\"#2a3f5f\"},\"geo\":{\"bgcolor\":\"white\",\"lakecolor\":\"white\",\"landcolor\":\"white\",\"showlakes\":true,\"showland\":true,\"subunitcolor\":\"#C8D4E3\"},\"hoverlabel\":{\"align\":\"left\"},\"hovermode\":\"closest\",\"mapbox\":{\"style\":\"light\"},\"paper_bgcolor\":\"white\",\"plot_bgcolor\":\"white\",\"polar\":{\"angularaxis\":{\"gridcolor\":\"#EBF0F8\",\"linecolor\":\"#EBF0F8\",\"ticks\":\"\"},\"bgcolor\":\"white\",\"radialaxis\":{\"gridcolor\":\"#EBF0F8\",\"linecolor\":\"#EBF0F8\",\"ticks\":\"\"}},\"scene\":{\"xaxis\":{\"backgroundcolor\":\"white\",\"gridcolor\":\"#DFE8F3\",\"gridwidth\":2,\"linecolor\":\"#EBF0F8\",\"showbackground\":true,\"ticks\":\"\",\"zerolinecolor\":\"#EBF0F8\"},\"yaxis\":{\"backgroundcolor\":\"white\",\"gridcolor\":\"#DFE8F3\",\"gridwidth\":2,\"linecolor\":\"#EBF0F8\",\"showbackground\":true,\"ticks\":\"\",\"zerolinecolor\":\"#EBF0F8\"},\"zaxis\":{\"backgroundcolor\":\"white\",\"gridcolor\":\"#DFE8F3\",\"gridwidth\":2,\"linecolor\":\"#EBF0F8\",\"showbackground\":true,\"ticks\":\"\",\"zerolinecolor\":\"#EBF0F8\"}},\"shapedefaults\":{\"line\":{\"color\":\"#2a3f5f\"}},\"ternary\":{\"aaxis\":{\"gridcolor\":\"#DFE8F3\",\"linecolor\":\"#A2B1C6\",\"ticks\":\"\"},\"baxis\":{\"gridcolor\":\"#DFE8F3\",\"linecolor\":\"#A2B1C6\",\"ticks\":\"\"},\"bgcolor\":\"white\",\"caxis\":{\"gridcolor\":\"#DFE8F3\",\"linecolor\":\"#A2B1C6\",\"ticks\":\"\"}},\"title\":{\"x\":0.05},\"xaxis\":{\"automargin\":true,\"gridcolor\":\"#EBF0F8\",\"linecolor\":\"#EBF0F8\",\"ticks\":\"\",\"title\":{\"standoff\":15},\"zerolinecolor\":\"#EBF0F8\",\"zerolinewidth\":2},\"yaxis\":{\"automargin\":true,\"gridcolor\":\"#EBF0F8\",\"linecolor\":\"#EBF0F8\",\"ticks\":\"\",\"title\":{\"standoff\":15},\"zerolinecolor\":\"#EBF0F8\",\"zerolinewidth\":2}}},\"yaxis\":{\"title\":{\"text\":\"SPEI1 Value\"},\"zeroline\":true,\"zerolinewidth\":1,\"zerolinecolor\":\"#D3D3D3\"},\"title\":{\"text\":\"1 month SPEI Index Trends Over Time in Angola's Cabinda for May\"},\"xaxis\":{\"title\":{\"text\":\"Year\"}},\"height\":500,\"plot_bgcolor\":\"rgba(0,0,0,0)\"},                        {\"responsive\": true}                    ).then(function(){\n",
       "                            \n",
       "var gd = document.getElementById('ace8aabe-1336-443b-8eb6-240cc7f6bb53');\n",
       "var x = new MutationObserver(function (mutations, observer) {{\n",
       "        var display = window.getComputedStyle(gd).display;\n",
       "        if (!display || display === 'none') {{\n",
       "            console.log([gd, 'removed!']);\n",
       "            Plotly.purge(gd);\n",
       "            observer.disconnect();\n",
       "        }}\n",
       "}});\n",
       "\n",
       "// Listen for the removal of the full notebook cells\n",
       "var notebookContainer = gd.closest('#notebook-container');\n",
       "if (notebookContainer) {{\n",
       "    x.observe(notebookContainer, {childList: true});\n",
       "}}\n",
       "\n",
       "// Listen for the clearing of the current output cell\n",
       "var outputEl = gd.closest('.output');\n",
       "if (outputEl) {{\n",
       "    x.observe(outputEl, {childList: true});\n",
       "}}\n",
       "\n",
       "                        })                };                });            </script>        </div>"
      ]
     },
     "metadata": {},
     "output_type": "display_data"
    }
   ],
   "source": [
    "uti.create_scatterplot(stat_values, timescales, selected)"
   ]
  },
  {
   "cell_type": "code",
   "execution_count": 27,
   "id": "da66d52e-ffd9-4231-ae96-dce4f9a8fb64",
   "metadata": {},
   "outputs": [
    {
     "data": {
      "application/vnd.plotly.v1+json": {
       "config": {
        "plotlyServerURL": "https://plot.ly"
       },
       "data": [
        {
         "lowerfence": [
          -8.222082216130435
         ],
         "marker": {
          "color": "#ACD1E5"
         },
         "median": [
          0.3345384029943402
         ],
         "name": "1940-05-01 06:00:00",
         "q1": [
          -0.3677377922786259
         ],
         "q3": [
          0.809974170171277
         ],
         "type": "box",
         "upperfence": [
          2.816367403938784
         ],
         "whiskerwidth": 0.2,
         "x": [
          "1940-05-01T06:00:00"
         ]
        },
        {
         "lowerfence": [
          -8.222082216130435
         ],
         "marker": {
          "color": "#ACD1E5"
         },
         "median": [
          0.2892863309020668
         ],
         "name": "1941-05-01 06:00:00",
         "q1": [
          -0.38173097901657904
         ],
         "q3": [
          0.9714675171713897
         ],
         "type": "box",
         "upperfence": [
          3.1869346058618997
         ],
         "whiskerwidth": 0.2,
         "x": [
          "1941-05-01T06:00:00"
         ]
        },
        {
         "lowerfence": [
          -8.222082216130435
         ],
         "marker": {
          "color": "#D96C59"
         },
         "median": [
          -1.1573707918340843
         ],
         "name": "1942-05-01 06:00:00",
         "q1": [
          -1.9115218466124904
         ],
         "q3": [
          0.08905888169704336
         ],
         "type": "box",
         "upperfence": [
          3.391007954238888
         ],
         "whiskerwidth": 0.2,
         "x": [
          "1942-05-01T06:00:00"
         ]
        },
        {
         "lowerfence": [
          -8.222082216130435
         ],
         "marker": {
          "color": "#ACD1E5"
         },
         "median": [
          0.13527641370739069
         ],
         "name": "1943-05-01 06:00:00",
         "q1": [
          -0.7977136695644451
         ],
         "q3": [
          1.2904523320525896
         ],
         "type": "box",
         "upperfence": [
          3.9239353394149488
         ],
         "whiskerwidth": 0.2,
         "x": [
          "1943-05-01T06:00:00"
         ]
        },
        {
         "lowerfence": [
          -10.830848614396999
         ],
         "marker": {
          "color": "#681824"
         },
         "median": [
          -2.576222132600943
         ],
         "name": "1944-05-01 06:00:00",
         "q1": [
          -3.435622060593219
         ],
         "q3": [
          -1.662882443183145
         ],
         "type": "box",
         "upperfence": [
          3.112740722105745
         ],
         "whiskerwidth": 0.2,
         "x": [
          "1944-05-01T06:00:00"
         ]
        },
        {
         "lowerfence": [
          -8.222082216130435
         ],
         "marker": {
          "color": "#ACD1E5"
         },
         "median": [
          0.37721288484808463
         ],
         "name": "1945-05-01 06:00:00",
         "q1": [
          -0.2410429772481156
         ],
         "q3": [
          0.9410242202299316
         ],
         "type": "box",
         "upperfence": [
          8.209536151601387
         ],
         "whiskerwidth": 0.2,
         "x": [
          "1945-05-01T06:00:00"
         ]
        },
        {
         "lowerfence": [
          -8.222082216130435
         ],
         "marker": {
          "color": "#F7BB9F"
         },
         "median": [
          -0.4183571869099925
         ],
         "name": "1946-05-01 06:00:00",
         "q1": [
          -1.1181905163083634
         ],
         "q3": [
          0.37858159936530433
         ],
         "type": "box",
         "upperfence": [
          3.497251513936521
         ],
         "whiskerwidth": 0.2,
         "x": [
          "1946-05-01T06:00:00"
         ]
        },
        {
         "lowerfence": [
          -8.222082216130435
         ],
         "marker": {
          "color": "#61A5CE"
         },
         "median": [
          1.2725986873918707
         ],
         "name": "1947-05-01 06:00:00",
         "q1": [
          0.8428257009739146
         ],
         "q3": [
          1.7676398337690236
         ],
         "type": "box",
         "upperfence": [
          8.209536151601387
         ],
         "whiskerwidth": 0.2,
         "x": [
          "1947-05-01T06:00:00"
         ]
        },
        {
         "lowerfence": [
          -8.222082216130435
         ],
         "marker": {
          "color": "#F7BB9F"
         },
         "median": [
          -0.027950287935898384
         ],
         "name": "1948-05-01 06:00:00",
         "q1": [
          -0.5461870229345378
         ],
         "q3": [
          0.41999809777427544
         ],
         "type": "box",
         "upperfence": [
          2.4591429737908372
         ],
         "whiskerwidth": 0.2,
         "x": [
          "1948-05-01T06:00:00"
         ]
        },
        {
         "lowerfence": [
          -8.222082216130435
         ],
         "marker": {
          "color": "#D96C59"
         },
         "median": [
          -1.188565557325698
         ],
         "name": "1949-05-01 06:00:00",
         "q1": [
          -1.725494034947724
         ],
         "q3": [
          -0.38679991278729564
         ],
         "type": "box",
         "upperfence": [
          3.3218425258648487
         ],
         "whiskerwidth": 0.2,
         "x": [
          "1949-05-01T06:00:00"
         ]
        },
        {
         "lowerfence": [
          -8.222082216130435
         ],
         "marker": {
          "color": "#ACD1E5"
         },
         "median": [
          0.575972276698705
         ],
         "name": "1950-05-01 06:00:00",
         "q1": [
          -0.05825977588225253
         ],
         "q3": [
          1.2997732698008337
         ],
         "type": "box",
         "upperfence": [
          3.920012049701446
         ],
         "whiskerwidth": 0.2,
         "x": [
          "1950-05-01T06:00:00"
         ]
        },
        {
         "lowerfence": [
          -8.222082216130435
         ],
         "marker": {
          "color": "#61A5CE"
         },
         "median": [
          1.098139476345895
         ],
         "name": "1951-05-01 06:00:00",
         "q1": [
          0.47868174880902936
         ],
         "q3": [
          1.686810902646329
         ],
         "type": "box",
         "upperfence": [
          3.028609421320034
         ],
         "whiskerwidth": 0.2,
         "x": [
          "1951-05-01T06:00:00"
         ]
        },
        {
         "lowerfence": [
          -8.222082216130435
         ],
         "marker": {
          "color": "#F7BB9F"
         },
         "median": [
          -0.23690951678998182
         ],
         "name": "1952-05-01 06:00:00",
         "q1": [
          -0.8045224297209884
         ],
         "q3": [
          0.357250517207738
         ],
         "type": "box",
         "upperfence": [
          1.921693321487608
         ],
         "whiskerwidth": 0.2,
         "x": [
          "1952-05-01T06:00:00"
         ]
        },
        {
         "lowerfence": [
          -8.222082216130435
         ],
         "marker": {
          "color": "#61A5CE"
         },
         "median": [
          1.4334911988292416
         ],
         "name": "1953-05-01 06:00:00",
         "q1": [
          0.8623171396577608
         ],
         "q3": [
          2.0352634193217445
         ],
         "type": "box",
         "upperfence": [
          8.209536151601387
         ],
         "whiskerwidth": 0.2,
         "x": [
          "1953-05-01T06:00:00"
         ]
        },
        {
         "lowerfence": [
          -8.707781246880678
         ],
         "marker": {
          "color": "#D96C59"
         },
         "median": [
          -1.199911638954623
         ],
         "name": "1954-05-01 06:00:00",
         "q1": [
          -1.7717200753205808
         ],
         "q3": [
          -0.6583208832549806
         ],
         "type": "box",
         "upperfence": [
          1.126829509540294
         ],
         "whiskerwidth": 0.2,
         "x": [
          "1954-05-01T06:00:00"
         ]
        },
        {
         "lowerfence": [
          -8.222082216130435
         ],
         "marker": {
          "color": "#ACD1E5"
         },
         "median": [
          0.181184006208496
         ],
         "name": "1955-05-01 06:00:00",
         "q1": [
          -0.44156665050667154
         ],
         "q3": [
          0.7025551572781195
         ],
         "type": "box",
         "upperfence": [
          3.7572711953349476
         ],
         "whiskerwidth": 0.2,
         "x": [
          "1955-05-01T06:00:00"
         ]
        },
        {
         "lowerfence": [
          -8.222082216130435
         ],
         "marker": {
          "color": "#D96C59"
         },
         "median": [
          -1.286062721674443
         ],
         "name": "1956-05-01 06:00:00",
         "q1": [
          -2.1618629044910858
         ],
         "q3": [
          -0.7785675095227532
         ],
         "type": "box",
         "upperfence": [
          0.7502809211251366
         ],
         "whiskerwidth": 0.2,
         "x": [
          "1956-05-01T06:00:00"
         ]
        },
        {
         "lowerfence": [
          -8.222082216130435
         ],
         "marker": {
          "color": "#064A78"
         },
         "median": [
          2.1512216165164935
         ],
         "name": "1957-05-01 06:00:00",
         "q1": [
          1.1957015628210046
         ],
         "q3": [
          2.62861146889668
         ],
         "type": "box",
         "upperfence": [
          4.805377506533024
         ],
         "whiskerwidth": 0.2,
         "x": [
          "1957-05-01T06:00:00"
         ]
        },
        {
         "lowerfence": [
          -8.222082216130435
         ],
         "marker": {
          "color": "#D96C59"
         },
         "median": [
          -1.082975496360846
         ],
         "name": "1958-05-01 06:00:00",
         "q1": [
          -1.9217921967918143
         ],
         "q3": [
          -0.2564985920432817
         ],
         "type": "box",
         "upperfence": [
          3.079301904583802
         ],
         "whiskerwidth": 0.2,
         "x": [
          "1958-05-01T06:00:00"
         ]
        },
        {
         "lowerfence": [
          -8.222082216130435
         ],
         "marker": {
          "color": "#F7BB9F"
         },
         "median": [
          -0.45933420375714784
         ],
         "name": "1959-05-01 06:00:00",
         "q1": [
          -1.2371454783420872
         ],
         "q3": [
          0.24433879935879968
         ],
         "type": "box",
         "upperfence": [
          2.1437349512538613
         ],
         "whiskerwidth": 0.2,
         "x": [
          "1959-05-01T06:00:00"
         ]
        },
        {
         "lowerfence": [
          -8.222082216130435
         ],
         "marker": {
          "color": "#F7BB9F"
         },
         "median": [
          -0.8963554566111382
         ],
         "name": "1960-05-01 06:00:00",
         "q1": [
          -1.45954683214135
         ],
         "q3": [
          -0.32053862640177166
         ],
         "type": "box",
         "upperfence": [
          8.209536151601387
         ],
         "whiskerwidth": 0.2,
         "x": [
          "1960-05-01T06:00:00"
         ]
        },
        {
         "lowerfence": [
          -8.222082216130435
         ],
         "marker": {
          "color": "#F7BB9F"
         },
         "median": [
          -0.46140138827715904
         ],
         "name": "1961-05-01 06:00:00",
         "q1": [
          -1.0854404462619602
         ],
         "q3": [
          0.09919199088172236
         ],
         "type": "box",
         "upperfence": [
          2.8270677544580884
         ],
         "whiskerwidth": 0.2,
         "x": [
          "1961-05-01T06:00:00"
         ]
        },
        {
         "lowerfence": [
          -8.222082216130435
         ],
         "marker": {
          "color": "#ACD1E5"
         },
         "median": [
          0.20659473129861922
         ],
         "name": "1962-05-01 06:00:00",
         "q1": [
          -0.27144790767567206
         ],
         "q3": [
          0.7060635379641483
         ],
         "type": "box",
         "upperfence": [
          2.194452148051825
         ],
         "whiskerwidth": 0.2,
         "x": [
          "1962-05-01T06:00:00"
         ]
        },
        {
         "lowerfence": [
          -8.222082216130435
         ],
         "marker": {
          "color": "#ACD1E5"
         },
         "median": [
          0.730562093543258
         ],
         "name": "1963-05-01 06:00:00",
         "q1": [
          0.187639454071508
         ],
         "q3": [
          1.2234909891797512
         ],
         "type": "box",
         "upperfence": [
          8.209536151601387
         ],
         "whiskerwidth": 0.2,
         "x": [
          "1963-05-01T06:00:00"
         ]
        },
        {
         "lowerfence": [
          -16.20570302762962
         ],
         "marker": {
          "color": "#D96C59"
         },
         "median": [
          -1.1467652405985291
         ],
         "name": "1964-05-01 06:00:00",
         "q1": [
          -2.246957825168957
         ],
         "q3": [
          -0.12111815734066504
         ],
         "type": "box",
         "upperfence": [
          8.209536151601387
         ],
         "whiskerwidth": 0.2,
         "x": [
          "1964-05-01T06:00:00"
         ]
        },
        {
         "lowerfence": [
          -8.449059763330027
         ],
         "marker": {
          "color": "#F7BB9F"
         },
         "median": [
          -0.5958338429155379
         ],
         "name": "1965-05-01 06:00:00",
         "q1": [
          -1.7809547913938468
         ],
         "q3": [
          0.4045742474791796
         ],
         "type": "box",
         "upperfence": [
          2.9516034991658495
         ],
         "whiskerwidth": 0.2,
         "x": [
          "1965-05-01T06:00:00"
         ]
        },
        {
         "lowerfence": [
          -8.222082216130435
         ],
         "marker": {
          "color": "#ACD1E5"
         },
         "median": [
          0.4072876632417301
         ],
         "name": "1966-05-01 06:00:00",
         "q1": [
          -0.33943136402580704
         ],
         "q3": [
          0.8825912244730855
         ],
         "type": "box",
         "upperfence": [
          8.209536151601387
         ],
         "whiskerwidth": 0.2,
         "x": [
          "1966-05-01T06:00:00"
         ]
        },
        {
         "lowerfence": [
          -8.222082216130435
         ],
         "marker": {
          "color": "#ACD1E5"
         },
         "median": [
          0.31475307232675565
         ],
         "name": "1967-05-01 06:00:00",
         "q1": [
          -0.3196261197876936
         ],
         "q3": [
          1.0508531402868426
         ],
         "type": "box",
         "upperfence": [
          3.2948233900979718
         ],
         "whiskerwidth": 0.2,
         "x": [
          "1967-05-01T06:00:00"
         ]
        },
        {
         "lowerfence": [
          -8.222082216130435
         ],
         "marker": {
          "color": "#61A5CE"
         },
         "median": [
          1.447783902327895
         ],
         "name": "1968-05-01 06:00:00",
         "q1": [
          0.970007895860104
         ],
         "q3": [
          1.813675357861009
         ],
         "type": "box",
         "upperfence": [
          5.0111138292197275
         ],
         "whiskerwidth": 0.2,
         "x": [
          "1968-05-01T06:00:00"
         ]
        },
        {
         "lowerfence": [
          -8.222082216130435
         ],
         "marker": {
          "color": "#ACD1E5"
         },
         "median": [
          0.005916376694908337
         ],
         "name": "1969-05-01 06:00:00",
         "q1": [
          -0.460837879558374
         ],
         "q3": [
          0.4708645731312626
         ],
         "type": "box",
         "upperfence": [
          2.3346438917733807
         ],
         "whiskerwidth": 0.2,
         "x": [
          "1969-05-01T06:00:00"
         ]
        },
        {
         "lowerfence": [
          -8.222082216130435
         ],
         "marker": {
          "color": "#61A5CE"
         },
         "median": [
          1.060860074794911
         ],
         "name": "1970-05-01 06:00:00",
         "q1": [
          0.5309689611628715
         ],
         "q3": [
          1.4139002981905224
         ],
         "type": "box",
         "upperfence": [
          3.8594535002879855
         ],
         "whiskerwidth": 0.2,
         "x": [
          "1970-05-01T06:00:00"
         ]
        },
        {
         "lowerfence": [
          -8.222082216130435
         ],
         "marker": {
          "color": "#ACD1E5"
         },
         "median": [
          0.4112703520971409
         ],
         "name": "1971-05-01 06:00:00",
         "q1": [
          -0.22415319007586426
         ],
         "q3": [
          0.8782617619784883
         ],
         "type": "box",
         "upperfence": [
          3.226547871034159
         ],
         "whiskerwidth": 0.2,
         "x": [
          "1971-05-01T06:00:00"
         ]
        },
        {
         "lowerfence": [
          -8.222082216130435
         ],
         "marker": {
          "color": "#49AEFF"
         },
         "median": [
          1.544701172485679
         ],
         "name": "1972-05-01 06:00:00",
         "q1": [
          0.8915974573773612
         ],
         "q3": [
          1.9504861476589148
         ],
         "type": "box",
         "upperfence": [
          3.913312362183912
         ],
         "whiskerwidth": 0.2,
         "x": [
          "1972-05-01T06:00:00"
         ]
        },
        {
         "lowerfence": [
          -8.222082216130435
         ],
         "marker": {
          "color": "#F7BB9F"
         },
         "median": [
          -0.3910930386204471
         ],
         "name": "1973-05-01 06:00:00",
         "q1": [
          -1.2820013138157704
         ],
         "q3": [
          0.2681565559598595
         ],
         "type": "box",
         "upperfence": [
          4.6140297470660325
         ],
         "whiskerwidth": 0.2,
         "x": [
          "1973-05-01T06:00:00"
         ]
        },
        {
         "lowerfence": [
          -8.222082216130435
         ],
         "marker": {
          "color": "#ACD1E5"
         },
         "median": [
          0.11187699983564967
         ],
         "name": "1974-05-01 06:00:00",
         "q1": [
          -0.5277644198429566
         ],
         "q3": [
          0.6139208866713765
         ],
         "type": "box",
         "upperfence": [
          8.209536151601387
         ],
         "whiskerwidth": 0.2,
         "x": [
          "1974-05-01T06:00:00"
         ]
        },
        {
         "lowerfence": [
          -8.222082216130435
         ],
         "marker": {
          "color": "#ACD1E5"
         },
         "median": [
          0.8644443919208262
         ],
         "name": "1975-05-01 06:00:00",
         "q1": [
          0.32259409497650654
         ],
         "q3": [
          1.3168066598915122
         ],
         "type": "box",
         "upperfence": [
          8.209536151601387
         ],
         "whiskerwidth": 0.2,
         "x": [
          "1975-05-01T06:00:00"
         ]
        },
        {
         "lowerfence": [
          -8.222082216130435
         ],
         "marker": {
          "color": "#61A5CE"
         },
         "median": [
          1.114451284369959
         ],
         "name": "1976-05-01 06:00:00",
         "q1": [
          0.3800320228446356
         ],
         "q3": [
          1.6533415009729362
         ],
         "type": "box",
         "upperfence": [
          8.209536151601387
         ],
         "whiskerwidth": 0.2,
         "x": [
          "1976-05-01T06:00:00"
         ]
        },
        {
         "lowerfence": [
          -8.222082216130435
         ],
         "marker": {
          "color": "#ACD1E5"
         },
         "median": [
          0.08472343881500219
         ],
         "name": "1977-05-01 06:00:00",
         "q1": [
          -0.47919218008822306
         ],
         "q3": [
          0.6203799132882054
         ],
         "type": "box",
         "upperfence": [
          2.4088774917880067
         ],
         "whiskerwidth": 0.2,
         "x": [
          "1977-05-01T06:00:00"
         ]
        },
        {
         "lowerfence": [
          -8.222082216130435
         ],
         "marker": {
          "color": "#ACD1E5"
         },
         "median": [
          0.6031336406281607
         ],
         "name": "1978-05-01 06:00:00",
         "q1": [
          -0.4111205921948167
         ],
         "q3": [
          1.3828007231780215
         ],
         "type": "box",
         "upperfence": [
          2.8752500852297103
         ],
         "whiskerwidth": 0.2,
         "x": [
          "1978-05-01T06:00:00"
         ]
        },
        {
         "lowerfence": [
          -8.222082216130435
         ],
         "marker": {
          "color": "#61A5CE"
         },
         "median": [
          1.2906963575015502
         ],
         "name": "1979-05-01 06:00:00",
         "q1": [
          0.5393297300408267
         ],
         "q3": [
          1.790489786333623
         ],
         "type": "box",
         "upperfence": [
          4.030544627305514
         ],
         "whiskerwidth": 0.2,
         "x": [
          "1979-05-01T06:00:00"
         ]
        },
        {
         "lowerfence": [
          -8.222082216130435
         ],
         "marker": {
          "color": "#61A5CE"
         },
         "median": [
          1.37487002087301
         ],
         "name": "1980-05-01 06:00:00",
         "q1": [
          0.926909951619743
         ],
         "q3": [
          1.8395828822478109
         ],
         "type": "box",
         "upperfence": [
          4.807451236642091
         ],
         "whiskerwidth": 0.2,
         "x": [
          "1980-05-01T06:00:00"
         ]
        },
        {
         "lowerfence": [
          -8.222082216130435
         ],
         "marker": {
          "color": "#61A5CE"
         },
         "median": [
          1.4955661280777146
         ],
         "name": "1981-05-01 06:00:00",
         "q1": [
          1.0629955721565043
         ],
         "q3": [
          1.8660585506085936
         ],
         "type": "box",
         "upperfence": [
          8.209536151601387
         ],
         "whiskerwidth": 0.2,
         "x": [
          "1981-05-01T06:00:00"
         ]
        },
        {
         "lowerfence": [
          -8.222082216130435
         ],
         "marker": {
          "color": "#ACD1E5"
         },
         "median": [
          0.9722652148880886
         ],
         "name": "1982-05-01 06:00:00",
         "q1": [
          0.42232767723740355
         ],
         "q3": [
          1.4463984984734013
         ],
         "type": "box",
         "upperfence": [
          4.060533213567484
         ],
         "whiskerwidth": 0.2,
         "x": [
          "1982-05-01T06:00:00"
         ]
        },
        {
         "lowerfence": [
          -8.222082216130435
         ],
         "marker": {
          "color": "#F7BB9F"
         },
         "median": [
          -0.00032880447629957777
         ],
         "name": "1983-05-01 06:00:00",
         "q1": [
          -0.5145229752848752
         ],
         "q3": [
          0.4989428157313759
         ],
         "type": "box",
         "upperfence": [
          3.9363806851754424
         ],
         "whiskerwidth": 0.2,
         "x": [
          "1983-05-01T06:00:00"
         ]
        },
        {
         "lowerfence": [
          -8.222082216130435
         ],
         "marker": {
          "color": "#ACD1E5"
         },
         "median": [
          0.7856942312698969
         ],
         "name": "1984-05-01 06:00:00",
         "q1": [
          0.11009673437440068
         ],
         "q3": [
          1.2245621111083558
         ],
         "type": "box",
         "upperfence": [
          2.4606114493686926
         ],
         "whiskerwidth": 0.2,
         "x": [
          "1984-05-01T06:00:00"
         ]
        },
        {
         "lowerfence": [
          -8.222082216130435
         ],
         "marker": {
          "color": "#ACD1E5"
         },
         "median": [
          0.3640860448123115
         ],
         "name": "1985-05-01 06:00:00",
         "q1": [
          -0.17760135381986553
         ],
         "q3": [
          0.9494837043747626
         ],
         "type": "box",
         "upperfence": [
          8.209536151601387
         ],
         "whiskerwidth": 0.2,
         "x": [
          "1985-05-01T06:00:00"
         ]
        },
        {
         "lowerfence": [
          -8.222082216130435
         ],
         "marker": {
          "color": "#ACD1E5"
         },
         "median": [
          0.7004781054548501
         ],
         "name": "1986-05-01 06:00:00",
         "q1": [
          0.12841302587539682
         ],
         "q3": [
          1.2934479727996455
         ],
         "type": "box",
         "upperfence": [
          8.209536151601387
         ],
         "whiskerwidth": 0.2,
         "x": [
          "1986-05-01T06:00:00"
         ]
        },
        {
         "lowerfence": [
          -8.222082216130435
         ],
         "marker": {
          "color": "#D96C59"
         },
         "median": [
          -1.0703864895421986
         ],
         "name": "1987-05-01 06:00:00",
         "q1": [
          -1.783922721434269
         ],
         "q3": [
          -0.4005132921771194
         ],
         "type": "box",
         "upperfence": [
          2.8149418687901093
         ],
         "whiskerwidth": 0.2,
         "x": [
          "1987-05-01T06:00:00"
         ]
        },
        {
         "lowerfence": [
          -8.222082216130435
         ],
         "marker": {
          "color": "#ACD1E5"
         },
         "median": [
          0.0407677395042744
         ],
         "name": "1988-05-01 06:00:00",
         "q1": [
          -0.537198766033374
         ],
         "q3": [
          0.5201433569943182
         ],
         "type": "box",
         "upperfence": [
          8.209536151601387
         ],
         "whiskerwidth": 0.2,
         "x": [
          "1988-05-01T06:00:00"
         ]
        },
        {
         "lowerfence": [
          -8.222082216130435
         ],
         "marker": {
          "color": "#ACD1E5"
         },
         "median": [
          0.0012499347708943192
         ],
         "name": "1989-05-01 06:00:00",
         "q1": [
          -0.8390940577412151
         ],
         "q3": [
          0.773289591226668
         ],
         "type": "box",
         "upperfence": [
          8.209536151601387
         ],
         "whiskerwidth": 0.2,
         "x": [
          "1989-05-01T06:00:00"
         ]
        },
        {
         "lowerfence": [
          -8.222082216130435
         ],
         "marker": {
          "color": "#ACD1E5"
         },
         "median": [
          0.5081900826297936
         ],
         "name": "1990-05-01 06:00:00",
         "q1": [
          0.1394554505407069
         ],
         "q3": [
          0.8857512894666373
         ],
         "type": "box",
         "upperfence": [
          3.7387487617316997
         ],
         "whiskerwidth": 0.2,
         "x": [
          "1990-05-01T06:00:00"
         ]
        },
        {
         "lowerfence": [
          -8.222082216130435
         ],
         "marker": {
          "color": "#49AEFF"
         },
         "median": [
          1.8713696902533399
         ],
         "name": "1991-05-01 06:00:00",
         "q1": [
          1.0436309865364541
         ],
         "q3": [
          2.5105869766174047
         ],
         "type": "box",
         "upperfence": [
          4.467825154574689
         ],
         "whiskerwidth": 0.2,
         "x": [
          "1991-05-01T06:00:00"
         ]
        },
        {
         "lowerfence": [
          -8.222082216130435
         ],
         "marker": {
          "color": "#ACD1E5"
         },
         "median": [
          0.8077986587169875
         ],
         "name": "1992-05-01 06:00:00",
         "q1": [
          0.019215374793708336
         ],
         "q3": [
          1.271106596965467
         ],
         "type": "box",
         "upperfence": [
          2.4552848872670925
         ],
         "whiskerwidth": 0.2,
         "x": [
          "1992-05-01T06:00:00"
         ]
        },
        {
         "lowerfence": [
          -8.222082216130435
         ],
         "marker": {
          "color": "#F7BB9F"
         },
         "median": [
          -0.4743813430630543
         ],
         "name": "1993-05-01 06:00:00",
         "q1": [
          -1.045911292791779
         ],
         "q3": [
          0.15543545403975062
         ],
         "type": "box",
         "upperfence": [
          2.010791615214778
         ],
         "whiskerwidth": 0.2,
         "x": [
          "1993-05-01T06:00:00"
         ]
        },
        {
         "lowerfence": [
          -8.222082216130435
         ],
         "marker": {
          "color": "#ACD1E5"
         },
         "median": [
          0.39131597537576934
         ],
         "name": "1994-05-01 06:00:00",
         "q1": [
          0.020358070451382066
         ],
         "q3": [
          0.8216523980867017
         ],
         "type": "box",
         "upperfence": [
          2.92981043855768
         ],
         "whiskerwidth": 0.2,
         "x": [
          "1994-05-01T06:00:00"
         ]
        },
        {
         "lowerfence": [
          -8.222082216130435
         ],
         "marker": {
          "color": "#ACD1E5"
         },
         "median": [
          0.21158157597453106
         ],
         "name": "1995-05-01 06:00:00",
         "q1": [
          -0.31407853971931865
         ],
         "q3": [
          0.7270108351161337
         ],
         "type": "box",
         "upperfence": [
          2.4460348555341747
         ],
         "whiskerwidth": 0.2,
         "x": [
          "1995-05-01T06:00:00"
         ]
        },
        {
         "lowerfence": [
          -8.222082216130435
         ],
         "marker": {
          "color": "#ACD1E5"
         },
         "median": [
          0.25905177225482223
         ],
         "name": "1996-05-01 06:00:00",
         "q1": [
          -0.20297304025990331
         ],
         "q3": [
          0.7019233189242594
         ],
         "type": "box",
         "upperfence": [
          2.238751979708476
         ],
         "whiskerwidth": 0.2,
         "x": [
          "1996-05-01T06:00:00"
         ]
        },
        {
         "lowerfence": [
          -8.222082216130435
         ],
         "marker": {
          "color": "#ACD1E5"
         },
         "median": [
          0.6991700886955107
         ],
         "name": "1997-05-01 06:00:00",
         "q1": [
          -0.2842784658989804
         ],
         "q3": [
          1.2245801509907916
         ],
         "type": "box",
         "upperfence": [
          2.5260828674667644
         ],
         "whiskerwidth": 0.2,
         "x": [
          "1997-05-01T06:00:00"
         ]
        },
        {
         "lowerfence": [
          -8.222082216130435
         ],
         "marker": {
          "color": "#F7BB9F"
         },
         "median": [
          -0.2516143341268695
         ],
         "name": "1998-05-01 06:00:00",
         "q1": [
          -1.000843434500609
         ],
         "q3": [
          0.5231431332428982
         ],
         "type": "box",
         "upperfence": [
          1.944353981300834
         ],
         "whiskerwidth": 0.2,
         "x": [
          "1998-05-01T06:00:00"
         ]
        },
        {
         "lowerfence": [
          -8.222082216130435
         ],
         "marker": {
          "color": "#ACD1E5"
         },
         "median": [
          0.4321766788871437
         ],
         "name": "1999-05-01 06:00:00",
         "q1": [
          -0.17256327213834247
         ],
         "q3": [
          1.0411758051147402
         ],
         "type": "box",
         "upperfence": [
          2.746040919263244
         ],
         "whiskerwidth": 0.2,
         "x": [
          "1999-05-01T06:00:00"
         ]
        },
        {
         "lowerfence": [
          -8.222082216130435
         ],
         "marker": {
          "color": "#F7BB9F"
         },
         "median": [
          -0.25273787433415623
         ],
         "name": "2000-05-01 06:00:00",
         "q1": [
          -0.8443208103435567
         ],
         "q3": [
          0.4538461988174356
         ],
         "type": "box",
         "upperfence": [
          2.497076084846737
         ],
         "whiskerwidth": 0.2,
         "x": [
          "2000-05-01T06:00:00"
         ]
        },
        {
         "lowerfence": [
          -8.222082216130435
         ],
         "marker": {
          "color": "#F7BB9F"
         },
         "median": [
          -0.16712751551317487
         ],
         "name": "2001-05-01 06:00:00",
         "q1": [
          -0.674498069573823
         ],
         "q3": [
          0.38494078855675995
         ],
         "type": "box",
         "upperfence": [
          2.027140777845641
         ],
         "whiskerwidth": 0.2,
         "x": [
          "2001-05-01T06:00:00"
         ]
        },
        {
         "lowerfence": [
          -8.222082216130435
         ],
         "marker": {
          "color": "#F7BB9F"
         },
         "median": [
          -0.8816056356507036
         ],
         "name": "2002-05-01 06:00:00",
         "q1": [
          -1.4636659075658152
         ],
         "q3": [
          -0.4072912962455151
         ],
         "type": "box",
         "upperfence": [
          1.1660679953404172
         ],
         "whiskerwidth": 0.2,
         "x": [
          "2002-05-01T06:00:00"
         ]
        },
        {
         "lowerfence": [
          -8.222082216130435
         ],
         "marker": {
          "color": "#F7BB9F"
         },
         "median": [
          -0.8072624553547906
         ],
         "name": "2003-05-01 06:00:00",
         "q1": [
          -1.4224591069839352
         ],
         "q3": [
          -0.2621882573779341
         ],
         "type": "box",
         "upperfence": [
          1.6987812355302592
         ],
         "whiskerwidth": 0.2,
         "x": [
          "2003-05-01T06:00:00"
         ]
        },
        {
         "lowerfence": [
          -8.222082216130435
         ],
         "marker": {
          "color": "#F7BB9F"
         },
         "median": [
          -0.0777366454832894
         ],
         "name": "2004-05-01 06:00:00",
         "q1": [
          -1.024624798627075
         ],
         "q3": [
          0.5434962277549085
         ],
         "type": "box",
         "upperfence": [
          2.062893763373139
         ],
         "whiskerwidth": 0.2,
         "x": [
          "2004-05-01T06:00:00"
         ]
        },
        {
         "lowerfence": [
          -8.222082216130435
         ],
         "marker": {
          "color": "#F7BB9F"
         },
         "median": [
          -0.1271394894596337
         ],
         "name": "2005-05-01 06:00:00",
         "q1": [
          -0.8299632569745692
         ],
         "q3": [
          0.2870325184832924
         ],
         "type": "box",
         "upperfence": [
          1.9997628463987116
         ],
         "whiskerwidth": 0.2,
         "x": [
          "2005-05-01T06:00:00"
         ]
        },
        {
         "lowerfence": [
          -8.222082216130435
         ],
         "marker": {
          "color": "#ACD1E5"
         },
         "median": [
          0.09054474205430457
         ],
         "name": "2006-05-01 06:00:00",
         "q1": [
          -0.41874070888972104
         ],
         "q3": [
          0.5926850553017347
         ],
         "type": "box",
         "upperfence": [
          3.076441335267249
         ],
         "whiskerwidth": 0.2,
         "x": [
          "2006-05-01T06:00:00"
         ]
        },
        {
         "lowerfence": [
          -8.222082216130435
         ],
         "marker": {
          "color": "#F7BB9F"
         },
         "median": [
          -0.6295304026400994
         ],
         "name": "2007-05-01 06:00:00",
         "q1": [
          -1.1670169519679905
         ],
         "q3": [
          -0.034425488406085974
         ],
         "type": "box",
         "upperfence": [
          4.4476427162609085
         ],
         "whiskerwidth": 0.2,
         "x": [
          "2007-05-01T06:00:00"
         ]
        },
        {
         "lowerfence": [
          -8.222082216130435
         ],
         "marker": {
          "color": "#F7BB9F"
         },
         "median": [
          -0.23326681157769996
         ],
         "name": "2008-05-01 06:00:00",
         "q1": [
          -0.6899114221075722
         ],
         "q3": [
          0.22189166000552893
         ],
         "type": "box",
         "upperfence": [
          2.756768000124056
         ],
         "whiskerwidth": 0.2,
         "x": [
          "2008-05-01T06:00:00"
         ]
        },
        {
         "lowerfence": [
          -8.222082216130435
         ],
         "marker": {
          "color": "#F7BB9F"
         },
         "median": [
          -0.354586720527961
         ],
         "name": "2009-05-01 06:00:00",
         "q1": [
          -0.9319721658995618
         ],
         "q3": [
          0.2712104699163967
         ],
         "type": "box",
         "upperfence": [
          4.643672892008151
         ],
         "whiskerwidth": 0.2,
         "x": [
          "2009-05-01T06:00:00"
         ]
        },
        {
         "lowerfence": [
          -8.222082216130435
         ],
         "marker": {
          "color": "#F7BB9F"
         },
         "median": [
          -0.26376283621389207
         ],
         "name": "2010-05-01 06:00:00",
         "q1": [
          -0.6444265189696143
         ],
         "q3": [
          0.14414099657469404
         ],
         "type": "box",
         "upperfence": [
          3.600326769062279
         ],
         "whiskerwidth": 0.2,
         "x": [
          "2010-05-01T06:00:00"
         ]
        },
        {
         "lowerfence": [
          -8.222082216130435
         ],
         "marker": {
          "color": "#F7BB9F"
         },
         "median": [
          -0.3650083266413458
         ],
         "name": "2011-05-01 06:00:00",
         "q1": [
          -0.9323829002434412
         ],
         "q3": [
          0.1569938595861613
         ],
         "type": "box",
         "upperfence": [
          2.4213944093210262
         ],
         "whiskerwidth": 0.2,
         "x": [
          "2011-05-01T06:00:00"
         ]
        },
        {
         "lowerfence": [
          -8.222082216130435
         ],
         "marker": {
          "color": "#ACD1E5"
         },
         "median": [
          0.7208159354064834
         ],
         "name": "2012-05-01 06:00:00",
         "q1": [
          0.39293477709279956
         ],
         "q3": [
          1.0219271607352105
         ],
         "type": "box",
         "upperfence": [
          4.593269378838244
         ],
         "whiskerwidth": 0.2,
         "x": [
          "2012-05-01T06:00:00"
         ]
        },
        {
         "lowerfence": [
          -8.222082216130435
         ],
         "marker": {
          "color": "#ACD1E5"
         },
         "median": [
          0.021040621098284494
         ],
         "name": "2013-05-01 06:00:00",
         "q1": [
          -0.4549590904975533
         ],
         "q3": [
          0.49313352826765267
         ],
         "type": "box",
         "upperfence": [
          2.7025044790013677
         ],
         "whiskerwidth": 0.2,
         "x": [
          "2013-05-01T06:00:00"
         ]
        },
        {
         "lowerfence": [
          -8.222082216130435
         ],
         "marker": {
          "color": "#ACD1E5"
         },
         "median": [
          0.8959569703584076
         ],
         "name": "2014-05-01 06:00:00",
         "q1": [
          0.4527025275718657
         ],
         "q3": [
          1.2996964781907097
         ],
         "type": "box",
         "upperfence": [
          3.161428676743928
         ],
         "whiskerwidth": 0.2,
         "x": [
          "2014-05-01T06:00:00"
         ]
        },
        {
         "lowerfence": [
          -8.222082216130435
         ],
         "marker": {
          "color": "#D96C59"
         },
         "median": [
          -1.355721271006189
         ],
         "name": "2015-05-01 06:00:00",
         "q1": [
          -2.008529037030972
         ],
         "q3": [
          -0.28743808967562895
         ],
         "type": "box",
         "upperfence": [
          2.2743613418532314
         ],
         "whiskerwidth": 0.2,
         "x": [
          "2015-05-01T06:00:00"
         ]
        },
        {
         "lowerfence": [
          -8.222082216130435
         ],
         "marker": {
          "color": "#ACD1E5"
         },
         "median": [
          0.03102674829247202
         ],
         "name": "2016-05-01 06:00:00",
         "q1": [
          -0.541270956691131
         ],
         "q3": [
          0.6412405967482477
         ],
         "type": "box",
         "upperfence": [
          3.390525197177835
         ],
         "whiskerwidth": 0.2,
         "x": [
          "2016-05-01T06:00:00"
         ]
        },
        {
         "lowerfence": [
          -8.222082216130435
         ],
         "marker": {
          "color": "#ACD1E5"
         },
         "median": [
          0.16013735274234048
         ],
         "name": "2017-05-01 06:00:00",
         "q1": [
          -0.4192156671740859
         ],
         "q3": [
          0.6395261062952683
         ],
         "type": "box",
         "upperfence": [
          4.662515978323724
         ],
         "whiskerwidth": 0.2,
         "x": [
          "2017-05-01T06:00:00"
         ]
        },
        {
         "lowerfence": [
          -8.222082216130435
         ],
         "marker": {
          "color": "#F7BB9F"
         },
         "median": [
          -0.11216698446015516
         ],
         "name": "2018-05-01 06:00:00",
         "q1": [
          -0.5225455192657196
         ],
         "q3": [
          0.5042204374179741
         ],
         "type": "box",
         "upperfence": [
          3.216247763755467
         ],
         "whiskerwidth": 0.2,
         "x": [
          "2018-05-01T06:00:00"
         ]
        },
        {
         "lowerfence": [
          -8.222082216130435
         ],
         "marker": {
          "color": "#ACD1E5"
         },
         "median": [
          0.566493153341632
         ],
         "name": "2019-05-01 06:00:00",
         "q1": [
          0.12009426655861605
         ],
         "q3": [
          1.0499088515726271
         ],
         "type": "box",
         "upperfence": [
          3.334243819158895
         ],
         "whiskerwidth": 0.2,
         "x": [
          "2019-05-01T06:00:00"
         ]
        },
        {
         "lowerfence": [
          -8.222082216130435
         ],
         "marker": {
          "color": "#F7BB9F"
         },
         "median": [
          -0.9105615856094502
         ],
         "name": "2020-05-01 06:00:00",
         "q1": [
          -1.3642051050357773
         ],
         "q3": [
          -0.40298782710882036
         ],
         "type": "box",
         "upperfence": [
          2.4502057039839777
         ],
         "whiskerwidth": 0.2,
         "x": [
          "2020-05-01T06:00:00"
         ]
        },
        {
         "lowerfence": [
          -11.22016599655448
         ],
         "marker": {
          "color": "#681824"
         },
         "median": [
          -2.258728172808813
         ],
         "name": "2021-05-01 06:00:00",
         "q1": [
          -3.119815428448108
         ],
         "q3": [
          -1.446924206522421
         ],
         "type": "box",
         "upperfence": [
          3.491310951509762
         ],
         "whiskerwidth": 0.2,
         "x": [
          "2021-05-01T06:00:00"
         ]
        },
        {
         "lowerfence": [
          -9.686523847597396
         ],
         "marker": {
          "color": "#D96C59"
         },
         "median": [
          -1.1698746206420279
         ],
         "name": "2022-05-01 06:00:00",
         "q1": [
          -1.812651127546552
         ],
         "q3": [
          -0.19238046347552346
         ],
         "type": "box",
         "upperfence": [
          4.001573652422919
         ],
         "whiskerwidth": 0.2,
         "x": [
          "2022-05-01T06:00:00"
         ]
        },
        {
         "lowerfence": [
          -9.163563146324835
         ],
         "marker": {
          "color": "#D96C59"
         },
         "median": [
          -1.2078513492740093
         ],
         "name": "2023-05-01 06:00:00",
         "q1": [
          -1.9949104927019417
         ],
         "q3": [
          -0.6113136964009757
         ],
         "type": "box",
         "upperfence": [
          2.155873154103828
         ],
         "whiskerwidth": 0.2,
         "x": [
          "2023-05-01T06:00:00"
         ]
        }
       ],
       "layout": {
        "autosize": true,
        "plot_bgcolor": "rgba(0, 0, 0, 0)",
        "showlegend": false,
        "template": {
         "data": {
          "bar": [
           {
            "error_x": {
             "color": "#2a3f5f"
            },
            "error_y": {
             "color": "#2a3f5f"
            },
            "marker": {
             "line": {
              "color": "white",
              "width": 0.5
             },
             "pattern": {
              "fillmode": "overlay",
              "size": 10,
              "solidity": 0.2
             }
            },
            "type": "bar"
           }
          ],
          "barpolar": [
           {
            "marker": {
             "line": {
              "color": "white",
              "width": 0.5
             },
             "pattern": {
              "fillmode": "overlay",
              "size": 10,
              "solidity": 0.2
             }
            },
            "type": "barpolar"
           }
          ],
          "carpet": [
           {
            "aaxis": {
             "endlinecolor": "#2a3f5f",
             "gridcolor": "#C8D4E3",
             "linecolor": "#C8D4E3",
             "minorgridcolor": "#C8D4E3",
             "startlinecolor": "#2a3f5f"
            },
            "baxis": {
             "endlinecolor": "#2a3f5f",
             "gridcolor": "#C8D4E3",
             "linecolor": "#C8D4E3",
             "minorgridcolor": "#C8D4E3",
             "startlinecolor": "#2a3f5f"
            },
            "type": "carpet"
           }
          ],
          "choropleth": [
           {
            "colorbar": {
             "outlinewidth": 0,
             "ticks": ""
            },
            "type": "choropleth"
           }
          ],
          "contour": [
           {
            "colorbar": {
             "outlinewidth": 0,
             "ticks": ""
            },
            "colorscale": [
             [
              0,
              "#0d0887"
             ],
             [
              0.1111111111111111,
              "#46039f"
             ],
             [
              0.2222222222222222,
              "#7201a8"
             ],
             [
              0.3333333333333333,
              "#9c179e"
             ],
             [
              0.4444444444444444,
              "#bd3786"
             ],
             [
              0.5555555555555556,
              "#d8576b"
             ],
             [
              0.6666666666666666,
              "#ed7953"
             ],
             [
              0.7777777777777778,
              "#fb9f3a"
             ],
             [
              0.8888888888888888,
              "#fdca26"
             ],
             [
              1,
              "#f0f921"
             ]
            ],
            "type": "contour"
           }
          ],
          "contourcarpet": [
           {
            "colorbar": {
             "outlinewidth": 0,
             "ticks": ""
            },
            "type": "contourcarpet"
           }
          ],
          "heatmap": [
           {
            "colorbar": {
             "outlinewidth": 0,
             "ticks": ""
            },
            "colorscale": [
             [
              0,
              "#0d0887"
             ],
             [
              0.1111111111111111,
              "#46039f"
             ],
             [
              0.2222222222222222,
              "#7201a8"
             ],
             [
              0.3333333333333333,
              "#9c179e"
             ],
             [
              0.4444444444444444,
              "#bd3786"
             ],
             [
              0.5555555555555556,
              "#d8576b"
             ],
             [
              0.6666666666666666,
              "#ed7953"
             ],
             [
              0.7777777777777778,
              "#fb9f3a"
             ],
             [
              0.8888888888888888,
              "#fdca26"
             ],
             [
              1,
              "#f0f921"
             ]
            ],
            "type": "heatmap"
           }
          ],
          "heatmapgl": [
           {
            "colorbar": {
             "outlinewidth": 0,
             "ticks": ""
            },
            "colorscale": [
             [
              0,
              "#0d0887"
             ],
             [
              0.1111111111111111,
              "#46039f"
             ],
             [
              0.2222222222222222,
              "#7201a8"
             ],
             [
              0.3333333333333333,
              "#9c179e"
             ],
             [
              0.4444444444444444,
              "#bd3786"
             ],
             [
              0.5555555555555556,
              "#d8576b"
             ],
             [
              0.6666666666666666,
              "#ed7953"
             ],
             [
              0.7777777777777778,
              "#fb9f3a"
             ],
             [
              0.8888888888888888,
              "#fdca26"
             ],
             [
              1,
              "#f0f921"
             ]
            ],
            "type": "heatmapgl"
           }
          ],
          "histogram": [
           {
            "marker": {
             "pattern": {
              "fillmode": "overlay",
              "size": 10,
              "solidity": 0.2
             }
            },
            "type": "histogram"
           }
          ],
          "histogram2d": [
           {
            "colorbar": {
             "outlinewidth": 0,
             "ticks": ""
            },
            "colorscale": [
             [
              0,
              "#0d0887"
             ],
             [
              0.1111111111111111,
              "#46039f"
             ],
             [
              0.2222222222222222,
              "#7201a8"
             ],
             [
              0.3333333333333333,
              "#9c179e"
             ],
             [
              0.4444444444444444,
              "#bd3786"
             ],
             [
              0.5555555555555556,
              "#d8576b"
             ],
             [
              0.6666666666666666,
              "#ed7953"
             ],
             [
              0.7777777777777778,
              "#fb9f3a"
             ],
             [
              0.8888888888888888,
              "#fdca26"
             ],
             [
              1,
              "#f0f921"
             ]
            ],
            "type": "histogram2d"
           }
          ],
          "histogram2dcontour": [
           {
            "colorbar": {
             "outlinewidth": 0,
             "ticks": ""
            },
            "colorscale": [
             [
              0,
              "#0d0887"
             ],
             [
              0.1111111111111111,
              "#46039f"
             ],
             [
              0.2222222222222222,
              "#7201a8"
             ],
             [
              0.3333333333333333,
              "#9c179e"
             ],
             [
              0.4444444444444444,
              "#bd3786"
             ],
             [
              0.5555555555555556,
              "#d8576b"
             ],
             [
              0.6666666666666666,
              "#ed7953"
             ],
             [
              0.7777777777777778,
              "#fb9f3a"
             ],
             [
              0.8888888888888888,
              "#fdca26"
             ],
             [
              1,
              "#f0f921"
             ]
            ],
            "type": "histogram2dcontour"
           }
          ],
          "mesh3d": [
           {
            "colorbar": {
             "outlinewidth": 0,
             "ticks": ""
            },
            "type": "mesh3d"
           }
          ],
          "parcoords": [
           {
            "line": {
             "colorbar": {
              "outlinewidth": 0,
              "ticks": ""
             }
            },
            "type": "parcoords"
           }
          ],
          "pie": [
           {
            "automargin": true,
            "type": "pie"
           }
          ],
          "scatter": [
           {
            "fillpattern": {
             "fillmode": "overlay",
             "size": 10,
             "solidity": 0.2
            },
            "type": "scatter"
           }
          ],
          "scatter3d": [
           {
            "line": {
             "colorbar": {
              "outlinewidth": 0,
              "ticks": ""
             }
            },
            "marker": {
             "colorbar": {
              "outlinewidth": 0,
              "ticks": ""
             }
            },
            "type": "scatter3d"
           }
          ],
          "scattercarpet": [
           {
            "marker": {
             "colorbar": {
              "outlinewidth": 0,
              "ticks": ""
             }
            },
            "type": "scattercarpet"
           }
          ],
          "scattergeo": [
           {
            "marker": {
             "colorbar": {
              "outlinewidth": 0,
              "ticks": ""
             }
            },
            "type": "scattergeo"
           }
          ],
          "scattergl": [
           {
            "marker": {
             "colorbar": {
              "outlinewidth": 0,
              "ticks": ""
             }
            },
            "type": "scattergl"
           }
          ],
          "scattermapbox": [
           {
            "marker": {
             "colorbar": {
              "outlinewidth": 0,
              "ticks": ""
             }
            },
            "type": "scattermapbox"
           }
          ],
          "scatterpolar": [
           {
            "marker": {
             "colorbar": {
              "outlinewidth": 0,
              "ticks": ""
             }
            },
            "type": "scatterpolar"
           }
          ],
          "scatterpolargl": [
           {
            "marker": {
             "colorbar": {
              "outlinewidth": 0,
              "ticks": ""
             }
            },
            "type": "scatterpolargl"
           }
          ],
          "scatterternary": [
           {
            "marker": {
             "colorbar": {
              "outlinewidth": 0,
              "ticks": ""
             }
            },
            "type": "scatterternary"
           }
          ],
          "surface": [
           {
            "colorbar": {
             "outlinewidth": 0,
             "ticks": ""
            },
            "colorscale": [
             [
              0,
              "#0d0887"
             ],
             [
              0.1111111111111111,
              "#46039f"
             ],
             [
              0.2222222222222222,
              "#7201a8"
             ],
             [
              0.3333333333333333,
              "#9c179e"
             ],
             [
              0.4444444444444444,
              "#bd3786"
             ],
             [
              0.5555555555555556,
              "#d8576b"
             ],
             [
              0.6666666666666666,
              "#ed7953"
             ],
             [
              0.7777777777777778,
              "#fb9f3a"
             ],
             [
              0.8888888888888888,
              "#fdca26"
             ],
             [
              1,
              "#f0f921"
             ]
            ],
            "type": "surface"
           }
          ],
          "table": [
           {
            "cells": {
             "fill": {
              "color": "#EBF0F8"
             },
             "line": {
              "color": "white"
             }
            },
            "header": {
             "fill": {
              "color": "#C8D4E3"
             },
             "line": {
              "color": "white"
             }
            },
            "type": "table"
           }
          ]
         },
         "layout": {
          "annotationdefaults": {
           "arrowcolor": "#2a3f5f",
           "arrowhead": 0,
           "arrowwidth": 1
          },
          "autotypenumbers": "strict",
          "coloraxis": {
           "colorbar": {
            "outlinewidth": 0,
            "ticks": ""
           }
          },
          "colorscale": {
           "diverging": [
            [
             0,
             "#8e0152"
            ],
            [
             0.1,
             "#c51b7d"
            ],
            [
             0.2,
             "#de77ae"
            ],
            [
             0.3,
             "#f1b6da"
            ],
            [
             0.4,
             "#fde0ef"
            ],
            [
             0.5,
             "#f7f7f7"
            ],
            [
             0.6,
             "#e6f5d0"
            ],
            [
             0.7,
             "#b8e186"
            ],
            [
             0.8,
             "#7fbc41"
            ],
            [
             0.9,
             "#4d9221"
            ],
            [
             1,
             "#276419"
            ]
           ],
           "sequential": [
            [
             0,
             "#0d0887"
            ],
            [
             0.1111111111111111,
             "#46039f"
            ],
            [
             0.2222222222222222,
             "#7201a8"
            ],
            [
             0.3333333333333333,
             "#9c179e"
            ],
            [
             0.4444444444444444,
             "#bd3786"
            ],
            [
             0.5555555555555556,
             "#d8576b"
            ],
            [
             0.6666666666666666,
             "#ed7953"
            ],
            [
             0.7777777777777778,
             "#fb9f3a"
            ],
            [
             0.8888888888888888,
             "#fdca26"
            ],
            [
             1,
             "#f0f921"
            ]
           ],
           "sequentialminus": [
            [
             0,
             "#0d0887"
            ],
            [
             0.1111111111111111,
             "#46039f"
            ],
            [
             0.2222222222222222,
             "#7201a8"
            ],
            [
             0.3333333333333333,
             "#9c179e"
            ],
            [
             0.4444444444444444,
             "#bd3786"
            ],
            [
             0.5555555555555556,
             "#d8576b"
            ],
            [
             0.6666666666666666,
             "#ed7953"
            ],
            [
             0.7777777777777778,
             "#fb9f3a"
            ],
            [
             0.8888888888888888,
             "#fdca26"
            ],
            [
             1,
             "#f0f921"
            ]
           ]
          },
          "colorway": [
           "#636efa",
           "#EF553B",
           "#00cc96",
           "#ab63fa",
           "#FFA15A",
           "#19d3f3",
           "#FF6692",
           "#B6E880",
           "#FF97FF",
           "#FECB52"
          ],
          "font": {
           "color": "#2a3f5f"
          },
          "geo": {
           "bgcolor": "white",
           "lakecolor": "white",
           "landcolor": "white",
           "showlakes": true,
           "showland": true,
           "subunitcolor": "#C8D4E3"
          },
          "hoverlabel": {
           "align": "left"
          },
          "hovermode": "closest",
          "mapbox": {
           "style": "light"
          },
          "paper_bgcolor": "white",
          "plot_bgcolor": "white",
          "polar": {
           "angularaxis": {
            "gridcolor": "#EBF0F8",
            "linecolor": "#EBF0F8",
            "ticks": ""
           },
           "bgcolor": "white",
           "radialaxis": {
            "gridcolor": "#EBF0F8",
            "linecolor": "#EBF0F8",
            "ticks": ""
           }
          },
          "scene": {
           "xaxis": {
            "backgroundcolor": "white",
            "gridcolor": "#DFE8F3",
            "gridwidth": 2,
            "linecolor": "#EBF0F8",
            "showbackground": true,
            "ticks": "",
            "zerolinecolor": "#EBF0F8"
           },
           "yaxis": {
            "backgroundcolor": "white",
            "gridcolor": "#DFE8F3",
            "gridwidth": 2,
            "linecolor": "#EBF0F8",
            "showbackground": true,
            "ticks": "",
            "zerolinecolor": "#EBF0F8"
           },
           "zaxis": {
            "backgroundcolor": "white",
            "gridcolor": "#DFE8F3",
            "gridwidth": 2,
            "linecolor": "#EBF0F8",
            "showbackground": true,
            "ticks": "",
            "zerolinecolor": "#EBF0F8"
           }
          },
          "shapedefaults": {
           "line": {
            "color": "#2a3f5f"
           }
          },
          "ternary": {
           "aaxis": {
            "gridcolor": "#DFE8F3",
            "linecolor": "#A2B1C6",
            "ticks": ""
           },
           "baxis": {
            "gridcolor": "#DFE8F3",
            "linecolor": "#A2B1C6",
            "ticks": ""
           },
           "bgcolor": "white",
           "caxis": {
            "gridcolor": "#DFE8F3",
            "linecolor": "#A2B1C6",
            "ticks": ""
           }
          },
          "title": {
           "x": 0.05
          },
          "xaxis": {
           "automargin": true,
           "gridcolor": "#EBF0F8",
           "linecolor": "#EBF0F8",
           "ticks": "",
           "title": {
            "standoff": 15
           },
           "zerolinecolor": "#EBF0F8",
           "zerolinewidth": 2
          },
          "yaxis": {
           "automargin": true,
           "gridcolor": "#EBF0F8",
           "linecolor": "#EBF0F8",
           "ticks": "",
           "title": {
            "standoff": 15
           },
           "zerolinecolor": "#EBF0F8",
           "zerolinewidth": 2
          }
         }
        },
        "title": {
         "text": "Boxplot of 1 month SPEI Index, trends over time in Angola's Cabinda area for the month of May"
        },
        "xaxis": {
         "autorange": true,
         "range": [
          "1939-10-31 18:00",
          "2023-10-30 18:00"
         ],
         "title": {
          "text": "Years"
         },
         "type": "date"
        },
        "yaxis": {
         "autorange": true,
         "range": [
          -17.562105204253566,
          9.565938328225332
         ],
         "title": {
          "text": "SPEI1"
         },
         "zeroline": true,
         "zerolinecolor": "#D3D3D3",
         "zerolinewidth": 1
        }
       }
      },
      "image/png": "[encoded data removed]",
      "text/html": [
       "<div>                            <div id=\"544f4d96-1732-4f72-8b81-31711c0a4106\" class=\"plotly-graph-div\" style=\"height:500px; width:100%;\"></div>            <script type=\"text/javascript\">                require([\"plotly\"], function(Plotly) {                    window.PLOTLYENV=window.PLOTLYENV || {};                                    if (document.getElementById(\"544f4d96-1732-4f72-8b81-31711c0a4106\")) {                    Plotly.newPlot(                        \"544f4d96-1732-4f72-8b81-31711c0a4106\",                        [{\"lowerfence\":[-8.222082216130435],\"marker\":{\"color\":\"#ACD1E5\"},\"median\":[0.3345384029943402],\"name\":\"1940-05-01 06:00:00\",\"q1\":[-0.3677377922786259],\"q3\":[0.809974170171277],\"upperfence\":[2.816367403938784],\"whiskerwidth\":0.2,\"x\":[\"1940-05-01T06:00:00\"],\"type\":\"box\"},{\"lowerfence\":[-8.222082216130435],\"marker\":{\"color\":\"#ACD1E5\"},\"median\":[0.2892863309020668],\"name\":\"1941-05-01 06:00:00\",\"q1\":[-0.38173097901657904],\"q3\":[0.9714675171713897],\"upperfence\":[3.1869346058618997],\"whiskerwidth\":0.2,\"x\":[\"1941-05-01T06:00:00\"],\"type\":\"box\"},{\"lowerfence\":[-8.222082216130435],\"marker\":{\"color\":\"#D96C59\"},\"median\":[-1.1573707918340843],\"name\":\"1942-05-01 06:00:00\",\"q1\":[-1.9115218466124904],\"q3\":[0.08905888169704336],\"upperfence\":[3.391007954238888],\"whiskerwidth\":0.2,\"x\":[\"1942-05-01T06:00:00\"],\"type\":\"box\"},{\"lowerfence\":[-8.222082216130435],\"marker\":{\"color\":\"#ACD1E5\"},\"median\":[0.13527641370739069],\"name\":\"1943-05-01 06:00:00\",\"q1\":[-0.7977136695644451],\"q3\":[1.2904523320525896],\"upperfence\":[3.9239353394149488],\"whiskerwidth\":0.2,\"x\":[\"1943-05-01T06:00:00\"],\"type\":\"box\"},{\"lowerfence\":[-10.830848614396999],\"marker\":{\"color\":\"#681824\"},\"median\":[-2.576222132600943],\"name\":\"1944-05-01 06:00:00\",\"q1\":[-3.435622060593219],\"q3\":[-1.662882443183145],\"upperfence\":[3.112740722105745],\"whiskerwidth\":0.2,\"x\":[\"1944-05-01T06:00:00\"],\"type\":\"box\"},{\"lowerfence\":[-8.222082216130435],\"marker\":{\"color\":\"#ACD1E5\"},\"median\":[0.37721288484808463],\"name\":\"1945-05-01 06:00:00\",\"q1\":[-0.2410429772481156],\"q3\":[0.9410242202299316],\"upperfence\":[8.209536151601387],\"whiskerwidth\":0.2,\"x\":[\"1945-05-01T06:00:00\"],\"type\":\"box\"},{\"lowerfence\":[-8.222082216130435],\"marker\":{\"color\":\"#F7BB9F\"},\"median\":[-0.4183571869099925],\"name\":\"1946-05-01 06:00:00\",\"q1\":[-1.1181905163083634],\"q3\":[0.37858159936530433],\"upperfence\":[3.497251513936521],\"whiskerwidth\":0.2,\"x\":[\"1946-05-01T06:00:00\"],\"type\":\"box\"},{\"lowerfence\":[-8.222082216130435],\"marker\":{\"color\":\"#61A5CE\"},\"median\":[1.2725986873918707],\"name\":\"1947-05-01 06:00:00\",\"q1\":[0.8428257009739146],\"q3\":[1.7676398337690236],\"upperfence\":[8.209536151601387],\"whiskerwidth\":0.2,\"x\":[\"1947-05-01T06:00:00\"],\"type\":\"box\"},{\"lowerfence\":[-8.222082216130435],\"marker\":{\"color\":\"#F7BB9F\"},\"median\":[-0.027950287935898384],\"name\":\"1948-05-01 06:00:00\",\"q1\":[-0.5461870229345378],\"q3\":[0.41999809777427544],\"upperfence\":[2.4591429737908372],\"whiskerwidth\":0.2,\"x\":[\"1948-05-01T06:00:00\"],\"type\":\"box\"},{\"lowerfence\":[-8.222082216130435],\"marker\":{\"color\":\"#D96C59\"},\"median\":[-1.188565557325698],\"name\":\"1949-05-01 06:00:00\",\"q1\":[-1.725494034947724],\"q3\":[-0.38679991278729564],\"upperfence\":[3.3218425258648487],\"whiskerwidth\":0.2,\"x\":[\"1949-05-01T06:00:00\"],\"type\":\"box\"},{\"lowerfence\":[-8.222082216130435],\"marker\":{\"color\":\"#ACD1E5\"},\"median\":[0.575972276698705],\"name\":\"1950-05-01 06:00:00\",\"q1\":[-0.05825977588225253],\"q3\":[1.2997732698008337],\"upperfence\":[3.920012049701446],\"whiskerwidth\":0.2,\"x\":[\"1950-05-01T06:00:00\"],\"type\":\"box\"},{\"lowerfence\":[-8.222082216130435],\"marker\":{\"color\":\"#61A5CE\"},\"median\":[1.098139476345895],\"name\":\"1951-05-01 06:00:00\",\"q1\":[0.47868174880902936],\"q3\":[1.686810902646329],\"upperfence\":[3.028609421320034],\"whiskerwidth\":0.2,\"x\":[\"1951-05-01T06:00:00\"],\"type\":\"box\"},{\"lowerfence\":[-8.222082216130435],\"marker\":{\"color\":\"#F7BB9F\"},\"median\":[-0.23690951678998182],\"name\":\"1952-05-01 06:00:00\",\"q1\":[-0.8045224297209884],\"q3\":[0.357250517207738],\"upperfence\":[1.921693321487608],\"whiskerwidth\":0.2,\"x\":[\"1952-05-01T06:00:00\"],\"type\":\"box\"},{\"lowerfence\":[-8.222082216130435],\"marker\":{\"color\":\"#61A5CE\"},\"median\":[1.4334911988292416],\"name\":\"1953-05-01 06:00:00\",\"q1\":[0.8623171396577608],\"q3\":[2.0352634193217445],\"upperfence\":[8.209536151601387],\"whiskerwidth\":0.2,\"x\":[\"1953-05-01T06:00:00\"],\"type\":\"box\"},{\"lowerfence\":[-8.707781246880678],\"marker\":{\"color\":\"#D96C59\"},\"median\":[-1.199911638954623],\"name\":\"1954-05-01 06:00:00\",\"q1\":[-1.7717200753205808],\"q3\":[-0.6583208832549806],\"upperfence\":[1.126829509540294],\"whiskerwidth\":0.2,\"x\":[\"1954-05-01T06:00:00\"],\"type\":\"box\"},{\"lowerfence\":[-8.222082216130435],\"marker\":{\"color\":\"#ACD1E5\"},\"median\":[0.181184006208496],\"name\":\"1955-05-01 06:00:00\",\"q1\":[-0.44156665050667154],\"q3\":[0.7025551572781195],\"upperfence\":[3.7572711953349476],\"whiskerwidth\":0.2,\"x\":[\"1955-05-01T06:00:00\"],\"type\":\"box\"},{\"lowerfence\":[-8.222082216130435],\"marker\":{\"color\":\"#D96C59\"},\"median\":[-1.286062721674443],\"name\":\"1956-05-01 06:00:00\",\"q1\":[-2.1618629044910858],\"q3\":[-0.7785675095227532],\"upperfence\":[0.7502809211251366],\"whiskerwidth\":0.2,\"x\":[\"1956-05-01T06:00:00\"],\"type\":\"box\"},{\"lowerfence\":[-8.222082216130435],\"marker\":{\"color\":\"#064A78\"},\"median\":[2.1512216165164935],\"name\":\"1957-05-01 06:00:00\",\"q1\":[1.1957015628210046],\"q3\":[2.62861146889668],\"upperfence\":[4.805377506533024],\"whiskerwidth\":0.2,\"x\":[\"1957-05-01T06:00:00\"],\"type\":\"box\"},{\"lowerfence\":[-8.222082216130435],\"marker\":{\"color\":\"#D96C59\"},\"median\":[-1.082975496360846],\"name\":\"1958-05-01 06:00:00\",\"q1\":[-1.9217921967918143],\"q3\":[-0.2564985920432817],\"upperfence\":[3.079301904583802],\"whiskerwidth\":0.2,\"x\":[\"1958-05-01T06:00:00\"],\"type\":\"box\"},{\"lowerfence\":[-8.222082216130435],\"marker\":{\"color\":\"#F7BB9F\"},\"median\":[-0.45933420375714784],\"name\":\"1959-05-01 06:00:00\",\"q1\":[-1.2371454783420872],\"q3\":[0.24433879935879968],\"upperfence\":[2.1437349512538613],\"whiskerwidth\":0.2,\"x\":[\"1959-05-01T06:00:00\"],\"type\":\"box\"},{\"lowerfence\":[-8.222082216130435],\"marker\":{\"color\":\"#F7BB9F\"},\"median\":[-0.8963554566111382],\"name\":\"1960-05-01 06:00:00\",\"q1\":[-1.45954683214135],\"q3\":[-0.32053862640177166],\"upperfence\":[8.209536151601387],\"whiskerwidth\":0.2,\"x\":[\"1960-05-01T06:00:00\"],\"type\":\"box\"},{\"lowerfence\":[-8.222082216130435],\"marker\":{\"color\":\"#F7BB9F\"},\"median\":[-0.46140138827715904],\"name\":\"1961-05-01 06:00:00\",\"q1\":[-1.0854404462619602],\"q3\":[0.09919199088172236],\"upperfence\":[2.8270677544580884],\"whiskerwidth\":0.2,\"x\":[\"1961-05-01T06:00:00\"],\"type\":\"box\"},{\"lowerfence\":[-8.222082216130435],\"marker\":{\"color\":\"#ACD1E5\"},\"median\":[0.20659473129861922],\"name\":\"1962-05-01 06:00:00\",\"q1\":[-0.27144790767567206],\"q3\":[0.7060635379641483],\"upperfence\":[2.194452148051825],\"whiskerwidth\":0.2,\"x\":[\"1962-05-01T06:00:00\"],\"type\":\"box\"},{\"lowerfence\":[-8.222082216130435],\"marker\":{\"color\":\"#ACD1E5\"},\"median\":[0.730562093543258],\"name\":\"1963-05-01 06:00:00\",\"q1\":[0.187639454071508],\"q3\":[1.2234909891797512],\"upperfence\":[8.209536151601387],\"whiskerwidth\":0.2,\"x\":[\"1963-05-01T06:00:00\"],\"type\":\"box\"},{\"lowerfence\":[-16.20570302762962],\"marker\":{\"color\":\"#D96C59\"},\"median\":[-1.1467652405985291],\"name\":\"1964-05-01 06:00:00\",\"q1\":[-2.246957825168957],\"q3\":[-0.12111815734066504],\"upperfence\":[8.209536151601387],\"whiskerwidth\":0.2,\"x\":[\"1964-05-01T06:00:00\"],\"type\":\"box\"},{\"lowerfence\":[-8.449059763330027],\"marker\":{\"color\":\"#F7BB9F\"},\"median\":[-0.5958338429155379],\"name\":\"1965-05-01 06:00:00\",\"q1\":[-1.7809547913938468],\"q3\":[0.4045742474791796],\"upperfence\":[2.9516034991658495],\"whiskerwidth\":0.2,\"x\":[\"1965-05-01T06:00:00\"],\"type\":\"box\"},{\"lowerfence\":[-8.222082216130435],\"marker\":{\"color\":\"#ACD1E5\"},\"median\":[0.4072876632417301],\"name\":\"1966-05-01 06:00:00\",\"q1\":[-0.33943136402580704],\"q3\":[0.8825912244730855],\"upperfence\":[8.209536151601387],\"whiskerwidth\":0.2,\"x\":[\"1966-05-01T06:00:00\"],\"type\":\"box\"},{\"lowerfence\":[-8.222082216130435],\"marker\":{\"color\":\"#ACD1E5\"},\"median\":[0.31475307232675565],\"name\":\"1967-05-01 06:00:00\",\"q1\":[-0.3196261197876936],\"q3\":[1.0508531402868426],\"upperfence\":[3.2948233900979718],\"whiskerwidth\":0.2,\"x\":[\"1967-05-01T06:00:00\"],\"type\":\"box\"},{\"lowerfence\":[-8.222082216130435],\"marker\":{\"color\":\"#61A5CE\"},\"median\":[1.447783902327895],\"name\":\"1968-05-01 06:00:00\",\"q1\":[0.970007895860104],\"q3\":[1.813675357861009],\"upperfence\":[5.0111138292197275],\"whiskerwidth\":0.2,\"x\":[\"1968-05-01T06:00:00\"],\"type\":\"box\"},{\"lowerfence\":[-8.222082216130435],\"marker\":{\"color\":\"#ACD1E5\"},\"median\":[0.005916376694908337],\"name\":\"1969-05-01 06:00:00\",\"q1\":[-0.460837879558374],\"q3\":[0.4708645731312626],\"upperfence\":[2.3346438917733807],\"whiskerwidth\":0.2,\"x\":[\"1969-05-01T06:00:00\"],\"type\":\"box\"},{\"lowerfence\":[-8.222082216130435],\"marker\":{\"color\":\"#61A5CE\"},\"median\":[1.060860074794911],\"name\":\"1970-05-01 06:00:00\",\"q1\":[0.5309689611628715],\"q3\":[1.4139002981905224],\"upperfence\":[3.8594535002879855],\"whiskerwidth\":0.2,\"x\":[\"1970-05-01T06:00:00\"],\"type\":\"box\"},{\"lowerfence\":[-8.222082216130435],\"marker\":{\"color\":\"#ACD1E5\"},\"median\":[0.4112703520971409],\"name\":\"1971-05-01 06:00:00\",\"q1\":[-0.22415319007586426],\"q3\":[0.8782617619784883],\"upperfence\":[3.226547871034159],\"whiskerwidth\":0.2,\"x\":[\"1971-05-01T06:00:00\"],\"type\":\"box\"},{\"lowerfence\":[-8.222082216130435],\"marker\":{\"color\":\"#49AEFF\"},\"median\":[1.544701172485679],\"name\":\"1972-05-01 06:00:00\",\"q1\":[0.8915974573773612],\"q3\":[1.9504861476589148],\"upperfence\":[3.913312362183912],\"whiskerwidth\":0.2,\"x\":[\"1972-05-01T06:00:00\"],\"type\":\"box\"},{\"lowerfence\":[-8.222082216130435],\"marker\":{\"color\":\"#F7BB9F\"},\"median\":[-0.3910930386204471],\"name\":\"1973-05-01 06:00:00\",\"q1\":[-1.2820013138157704],\"q3\":[0.2681565559598595],\"upperfence\":[4.6140297470660325],\"whiskerwidth\":0.2,\"x\":[\"1973-05-01T06:00:00\"],\"type\":\"box\"},{\"lowerfence\":[-8.222082216130435],\"marker\":{\"color\":\"#ACD1E5\"},\"median\":[0.11187699983564967],\"name\":\"1974-05-01 06:00:00\",\"q1\":[-0.5277644198429566],\"q3\":[0.6139208866713765],\"upperfence\":[8.209536151601387],\"whiskerwidth\":0.2,\"x\":[\"1974-05-01T06:00:00\"],\"type\":\"box\"},{\"lowerfence\":[-8.222082216130435],\"marker\":{\"color\":\"#ACD1E5\"},\"median\":[0.8644443919208262],\"name\":\"1975-05-01 06:00:00\",\"q1\":[0.32259409497650654],\"q3\":[1.3168066598915122],\"upperfence\":[8.209536151601387],\"whiskerwidth\":0.2,\"x\":[\"1975-05-01T06:00:00\"],\"type\":\"box\"},{\"lowerfence\":[-8.222082216130435],\"marker\":{\"color\":\"#61A5CE\"},\"median\":[1.114451284369959],\"name\":\"1976-05-01 06:00:00\",\"q1\":[0.3800320228446356],\"q3\":[1.6533415009729362],\"upperfence\":[8.209536151601387],\"whiskerwidth\":0.2,\"x\":[\"1976-05-01T06:00:00\"],\"type\":\"box\"},{\"lowerfence\":[-8.222082216130435],\"marker\":{\"color\":\"#ACD1E5\"},\"median\":[0.08472343881500219],\"name\":\"1977-05-01 06:00:00\",\"q1\":[-0.47919218008822306],\"q3\":[0.6203799132882054],\"upperfence\":[2.4088774917880067],\"whiskerwidth\":0.2,\"x\":[\"1977-05-01T06:00:00\"],\"type\":\"box\"},{\"lowerfence\":[-8.222082216130435],\"marker\":{\"color\":\"#ACD1E5\"},\"median\":[0.6031336406281607],\"name\":\"1978-05-01 06:00:00\",\"q1\":[-0.4111205921948167],\"q3\":[1.3828007231780215],\"upperfence\":[2.8752500852297103],\"whiskerwidth\":0.2,\"x\":[\"1978-05-01T06:00:00\"],\"type\":\"box\"},{\"lowerfence\":[-8.222082216130435],\"marker\":{\"color\":\"#61A5CE\"},\"median\":[1.2906963575015502],\"name\":\"1979-05-01 06:00:00\",\"q1\":[0.5393297300408267],\"q3\":[1.790489786333623],\"upperfence\":[4.030544627305514],\"whiskerwidth\":0.2,\"x\":[\"1979-05-01T06:00:00\"],\"type\":\"box\"},{\"lowerfence\":[-8.222082216130435],\"marker\":{\"color\":\"#61A5CE\"},\"median\":[1.37487002087301],\"name\":\"1980-05-01 06:00:00\",\"q1\":[0.926909951619743],\"q3\":[1.8395828822478109],\"upperfence\":[4.807451236642091],\"whiskerwidth\":0.2,\"x\":[\"1980-05-01T06:00:00\"],\"type\":\"box\"},{\"lowerfence\":[-8.222082216130435],\"marker\":{\"color\":\"#61A5CE\"},\"median\":[1.4955661280777146],\"name\":\"1981-05-01 06:00:00\",\"q1\":[1.0629955721565043],\"q3\":[1.8660585506085936],\"upperfence\":[8.209536151601387],\"whiskerwidth\":0.2,\"x\":[\"1981-05-01T06:00:00\"],\"type\":\"box\"},{\"lowerfence\":[-8.222082216130435],\"marker\":{\"color\":\"#ACD1E5\"},\"median\":[0.9722652148880886],\"name\":\"1982-05-01 06:00:00\",\"q1\":[0.42232767723740355],\"q3\":[1.4463984984734013],\"upperfence\":[4.060533213567484],\"whiskerwidth\":0.2,\"x\":[\"1982-05-01T06:00:00\"],\"type\":\"box\"},{\"lowerfence\":[-8.222082216130435],\"marker\":{\"color\":\"#F7BB9F\"},\"median\":[-0.00032880447629957777],\"name\":\"1983-05-01 06:00:00\",\"q1\":[-0.5145229752848752],\"q3\":[0.4989428157313759],\"upperfence\":[3.9363806851754424],\"whiskerwidth\":0.2,\"x\":[\"1983-05-01T06:00:00\"],\"type\":\"box\"},{\"lowerfence\":[-8.222082216130435],\"marker\":{\"color\":\"#ACD1E5\"},\"median\":[0.7856942312698969],\"name\":\"1984-05-01 06:00:00\",\"q1\":[0.11009673437440068],\"q3\":[1.2245621111083558],\"upperfence\":[2.4606114493686926],\"whiskerwidth\":0.2,\"x\":[\"1984-05-01T06:00:00\"],\"type\":\"box\"},{\"lowerfence\":[-8.222082216130435],\"marker\":{\"color\":\"#ACD1E5\"},\"median\":[0.3640860448123115],\"name\":\"1985-05-01 06:00:00\",\"q1\":[-0.17760135381986553],\"q3\":[0.9494837043747626],\"upperfence\":[8.209536151601387],\"whiskerwidth\":0.2,\"x\":[\"1985-05-01T06:00:00\"],\"type\":\"box\"},{\"lowerfence\":[-8.222082216130435],\"marker\":{\"color\":\"#ACD1E5\"},\"median\":[0.7004781054548501],\"name\":\"1986-05-01 06:00:00\",\"q1\":[0.12841302587539682],\"q3\":[1.2934479727996455],\"upperfence\":[8.209536151601387],\"whiskerwidth\":0.2,\"x\":[\"1986-05-01T06:00:00\"],\"type\":\"box\"},{\"lowerfence\":[-8.222082216130435],\"marker\":{\"color\":\"#D96C59\"},\"median\":[-1.0703864895421986],\"name\":\"1987-05-01 06:00:00\",\"q1\":[-1.783922721434269],\"q3\":[-0.4005132921771194],\"upperfence\":[2.8149418687901093],\"whiskerwidth\":0.2,\"x\":[\"1987-05-01T06:00:00\"],\"type\":\"box\"},{\"lowerfence\":[-8.222082216130435],\"marker\":{\"color\":\"#ACD1E5\"},\"median\":[0.0407677395042744],\"name\":\"1988-05-01 06:00:00\",\"q1\":[-0.537198766033374],\"q3\":[0.5201433569943182],\"upperfence\":[8.209536151601387],\"whiskerwidth\":0.2,\"x\":[\"1988-05-01T06:00:00\"],\"type\":\"box\"},{\"lowerfence\":[-8.222082216130435],\"marker\":{\"color\":\"#ACD1E5\"},\"median\":[0.0012499347708943192],\"name\":\"1989-05-01 06:00:00\",\"q1\":[-0.8390940577412151],\"q3\":[0.773289591226668],\"upperfence\":[8.209536151601387],\"whiskerwidth\":0.2,\"x\":[\"1989-05-01T06:00:00\"],\"type\":\"box\"},{\"lowerfence\":[-8.222082216130435],\"marker\":{\"color\":\"#ACD1E5\"},\"median\":[0.5081900826297936],\"name\":\"1990-05-01 06:00:00\",\"q1\":[0.1394554505407069],\"q3\":[0.8857512894666373],\"upperfence\":[3.7387487617316997],\"whiskerwidth\":0.2,\"x\":[\"1990-05-01T06:00:00\"],\"type\":\"box\"},{\"lowerfence\":[-8.222082216130435],\"marker\":{\"color\":\"#49AEFF\"},\"median\":[1.8713696902533399],\"name\":\"1991-05-01 06:00:00\",\"q1\":[1.0436309865364541],\"q3\":[2.5105869766174047],\"upperfence\":[4.467825154574689],\"whiskerwidth\":0.2,\"x\":[\"1991-05-01T06:00:00\"],\"type\":\"box\"},{\"lowerfence\":[-8.222082216130435],\"marker\":{\"color\":\"#ACD1E5\"},\"median\":[0.8077986587169875],\"name\":\"1992-05-01 06:00:00\",\"q1\":[0.019215374793708336],\"q3\":[1.271106596965467],\"upperfence\":[2.4552848872670925],\"whiskerwidth\":0.2,\"x\":[\"1992-05-01T06:00:00\"],\"type\":\"box\"},{\"lowerfence\":[-8.222082216130435],\"marker\":{\"color\":\"#F7BB9F\"},\"median\":[-0.4743813430630543],\"name\":\"1993-05-01 06:00:00\",\"q1\":[-1.045911292791779],\"q3\":[0.15543545403975062],\"upperfence\":[2.010791615214778],\"whiskerwidth\":0.2,\"x\":[\"1993-05-01T06:00:00\"],\"type\":\"box\"},{\"lowerfence\":[-8.222082216130435],\"marker\":{\"color\":\"#ACD1E5\"},\"median\":[0.39131597537576934],\"name\":\"1994-05-01 06:00:00\",\"q1\":[0.020358070451382066],\"q3\":[0.8216523980867017],\"upperfence\":[2.92981043855768],\"whiskerwidth\":0.2,\"x\":[\"1994-05-01T06:00:00\"],\"type\":\"box\"},{\"lowerfence\":[-8.222082216130435],\"marker\":{\"color\":\"#ACD1E5\"},\"median\":[0.21158157597453106],\"name\":\"1995-05-01 06:00:00\",\"q1\":[-0.31407853971931865],\"q3\":[0.7270108351161337],\"upperfence\":[2.4460348555341747],\"whiskerwidth\":0.2,\"x\":[\"1995-05-01T06:00:00\"],\"type\":\"box\"},{\"lowerfence\":[-8.222082216130435],\"marker\":{\"color\":\"#ACD1E5\"},\"median\":[0.25905177225482223],\"name\":\"1996-05-01 06:00:00\",\"q1\":[-0.20297304025990331],\"q3\":[0.7019233189242594],\"upperfence\":[2.238751979708476],\"whiskerwidth\":0.2,\"x\":[\"1996-05-01T06:00:00\"],\"type\":\"box\"},{\"lowerfence\":[-8.222082216130435],\"marker\":{\"color\":\"#ACD1E5\"},\"median\":[0.6991700886955107],\"name\":\"1997-05-01 06:00:00\",\"q1\":[-0.2842784658989804],\"q3\":[1.2245801509907916],\"upperfence\":[2.5260828674667644],\"whiskerwidth\":0.2,\"x\":[\"1997-05-01T06:00:00\"],\"type\":\"box\"},{\"lowerfence\":[-8.222082216130435],\"marker\":{\"color\":\"#F7BB9F\"},\"median\":[-0.2516143341268695],\"name\":\"1998-05-01 06:00:00\",\"q1\":[-1.000843434500609],\"q3\":[0.5231431332428982],\"upperfence\":[1.944353981300834],\"whiskerwidth\":0.2,\"x\":[\"1998-05-01T06:00:00\"],\"type\":\"box\"},{\"lowerfence\":[-8.222082216130435],\"marker\":{\"color\":\"#ACD1E5\"},\"median\":[0.4321766788871437],\"name\":\"1999-05-01 06:00:00\",\"q1\":[-0.17256327213834247],\"q3\":[1.0411758051147402],\"upperfence\":[2.746040919263244],\"whiskerwidth\":0.2,\"x\":[\"1999-05-01T06:00:00\"],\"type\":\"box\"},{\"lowerfence\":[-8.222082216130435],\"marker\":{\"color\":\"#F7BB9F\"},\"median\":[-0.25273787433415623],\"name\":\"2000-05-01 06:00:00\",\"q1\":[-0.8443208103435567],\"q3\":[0.4538461988174356],\"upperfence\":[2.497076084846737],\"whiskerwidth\":0.2,\"x\":[\"2000-05-01T06:00:00\"],\"type\":\"box\"},{\"lowerfence\":[-8.222082216130435],\"marker\":{\"color\":\"#F7BB9F\"},\"median\":[-0.16712751551317487],\"name\":\"2001-05-01 06:00:00\",\"q1\":[-0.674498069573823],\"q3\":[0.38494078855675995],\"upperfence\":[2.027140777845641],\"whiskerwidth\":0.2,\"x\":[\"2001-05-01T06:00:00\"],\"type\":\"box\"},{\"lowerfence\":[-8.222082216130435],\"marker\":{\"color\":\"#F7BB9F\"},\"median\":[-0.8816056356507036],\"name\":\"2002-05-01 06:00:00\",\"q1\":[-1.4636659075658152],\"q3\":[-0.4072912962455151],\"upperfence\":[1.1660679953404172],\"whiskerwidth\":0.2,\"x\":[\"2002-05-01T06:00:00\"],\"type\":\"box\"},{\"lowerfence\":[-8.222082216130435],\"marker\":{\"color\":\"#F7BB9F\"},\"median\":[-0.8072624553547906],\"name\":\"2003-05-01 06:00:00\",\"q1\":[-1.4224591069839352],\"q3\":[-0.2621882573779341],\"upperfence\":[1.6987812355302592],\"whiskerwidth\":0.2,\"x\":[\"2003-05-01T06:00:00\"],\"type\":\"box\"},{\"lowerfence\":[-8.222082216130435],\"marker\":{\"color\":\"#F7BB9F\"},\"median\":[-0.0777366454832894],\"name\":\"2004-05-01 06:00:00\",\"q1\":[-1.024624798627075],\"q3\":[0.5434962277549085],\"upperfence\":[2.062893763373139],\"whiskerwidth\":0.2,\"x\":[\"2004-05-01T06:00:00\"],\"type\":\"box\"},{\"lowerfence\":[-8.222082216130435],\"marker\":{\"color\":\"#F7BB9F\"},\"median\":[-0.1271394894596337],\"name\":\"2005-05-01 06:00:00\",\"q1\":[-0.8299632569745692],\"q3\":[0.2870325184832924],\"upperfence\":[1.9997628463987116],\"whiskerwidth\":0.2,\"x\":[\"2005-05-01T06:00:00\"],\"type\":\"box\"},{\"lowerfence\":[-8.222082216130435],\"marker\":{\"color\":\"#ACD1E5\"},\"median\":[0.09054474205430457],\"name\":\"2006-05-01 06:00:00\",\"q1\":[-0.41874070888972104],\"q3\":[0.5926850553017347],\"upperfence\":[3.076441335267249],\"whiskerwidth\":0.2,\"x\":[\"2006-05-01T06:00:00\"],\"type\":\"box\"},{\"lowerfence\":[-8.222082216130435],\"marker\":{\"color\":\"#F7BB9F\"},\"median\":[-0.6295304026400994],\"name\":\"2007-05-01 06:00:00\",\"q1\":[-1.1670169519679905],\"q3\":[-0.034425488406085974],\"upperfence\":[4.4476427162609085],\"whiskerwidth\":0.2,\"x\":[\"2007-05-01T06:00:00\"],\"type\":\"box\"},{\"lowerfence\":[-8.222082216130435],\"marker\":{\"color\":\"#F7BB9F\"},\"median\":[-0.23326681157769996],\"name\":\"2008-05-01 06:00:00\",\"q1\":[-0.6899114221075722],\"q3\":[0.22189166000552893],\"upperfence\":[2.756768000124056],\"whiskerwidth\":0.2,\"x\":[\"2008-05-01T06:00:00\"],\"type\":\"box\"},{\"lowerfence\":[-8.222082216130435],\"marker\":{\"color\":\"#F7BB9F\"},\"median\":[-0.354586720527961],\"name\":\"2009-05-01 06:00:00\",\"q1\":[-0.9319721658995618],\"q3\":[0.2712104699163967],\"upperfence\":[4.643672892008151],\"whiskerwidth\":0.2,\"x\":[\"2009-05-01T06:00:00\"],\"type\":\"box\"},{\"lowerfence\":[-8.222082216130435],\"marker\":{\"color\":\"#F7BB9F\"},\"median\":[-0.26376283621389207],\"name\":\"2010-05-01 06:00:00\",\"q1\":[-0.6444265189696143],\"q3\":[0.14414099657469404],\"upperfence\":[3.600326769062279],\"whiskerwidth\":0.2,\"x\":[\"2010-05-01T06:00:00\"],\"type\":\"box\"},{\"lowerfence\":[-8.222082216130435],\"marker\":{\"color\":\"#F7BB9F\"},\"median\":[-0.3650083266413458],\"name\":\"2011-05-01 06:00:00\",\"q1\":[-0.9323829002434412],\"q3\":[0.1569938595861613],\"upperfence\":[2.4213944093210262],\"whiskerwidth\":0.2,\"x\":[\"2011-05-01T06:00:00\"],\"type\":\"box\"},{\"lowerfence\":[-8.222082216130435],\"marker\":{\"color\":\"#ACD1E5\"},\"median\":[0.7208159354064834],\"name\":\"2012-05-01 06:00:00\",\"q1\":[0.39293477709279956],\"q3\":[1.0219271607352105],\"upperfence\":[4.593269378838244],\"whiskerwidth\":0.2,\"x\":[\"2012-05-01T06:00:00\"],\"type\":\"box\"},{\"lowerfence\":[-8.222082216130435],\"marker\":{\"color\":\"#ACD1E5\"},\"median\":[0.021040621098284494],\"name\":\"2013-05-01 06:00:00\",\"q1\":[-0.4549590904975533],\"q3\":[0.49313352826765267],\"upperfence\":[2.7025044790013677],\"whiskerwidth\":0.2,\"x\":[\"2013-05-01T06:00:00\"],\"type\":\"box\"},{\"lowerfence\":[-8.222082216130435],\"marker\":{\"color\":\"#ACD1E5\"},\"median\":[0.8959569703584076],\"name\":\"2014-05-01 06:00:00\",\"q1\":[0.4527025275718657],\"q3\":[1.2996964781907097],\"upperfence\":[3.161428676743928],\"whiskerwidth\":0.2,\"x\":[\"2014-05-01T06:00:00\"],\"type\":\"box\"},{\"lowerfence\":[-8.222082216130435],\"marker\":{\"color\":\"#D96C59\"},\"median\":[-1.355721271006189],\"name\":\"2015-05-01 06:00:00\",\"q1\":[-2.008529037030972],\"q3\":[-0.28743808967562895],\"upperfence\":[2.2743613418532314],\"whiskerwidth\":0.2,\"x\":[\"2015-05-01T06:00:00\"],\"type\":\"box\"},{\"lowerfence\":[-8.222082216130435],\"marker\":{\"color\":\"#ACD1E5\"},\"median\":[0.03102674829247202],\"name\":\"2016-05-01 06:00:00\",\"q1\":[-0.541270956691131],\"q3\":[0.6412405967482477],\"upperfence\":[3.390525197177835],\"whiskerwidth\":0.2,\"x\":[\"2016-05-01T06:00:00\"],\"type\":\"box\"},{\"lowerfence\":[-8.222082216130435],\"marker\":{\"color\":\"#ACD1E5\"},\"median\":[0.16013735274234048],\"name\":\"2017-05-01 06:00:00\",\"q1\":[-0.4192156671740859],\"q3\":[0.6395261062952683],\"upperfence\":[4.662515978323724],\"whiskerwidth\":0.2,\"x\":[\"2017-05-01T06:00:00\"],\"type\":\"box\"},{\"lowerfence\":[-8.222082216130435],\"marker\":{\"color\":\"#F7BB9F\"},\"median\":[-0.11216698446015516],\"name\":\"2018-05-01 06:00:00\",\"q1\":[-0.5225455192657196],\"q3\":[0.5042204374179741],\"upperfence\":[3.216247763755467],\"whiskerwidth\":0.2,\"x\":[\"2018-05-01T06:00:00\"],\"type\":\"box\"},{\"lowerfence\":[-8.222082216130435],\"marker\":{\"color\":\"#ACD1E5\"},\"median\":[0.566493153341632],\"name\":\"2019-05-01 06:00:00\",\"q1\":[0.12009426655861605],\"q3\":[1.0499088515726271],\"upperfence\":[3.334243819158895],\"whiskerwidth\":0.2,\"x\":[\"2019-05-01T06:00:00\"],\"type\":\"box\"},{\"lowerfence\":[-8.222082216130435],\"marker\":{\"color\":\"#F7BB9F\"},\"median\":[-0.9105615856094502],\"name\":\"2020-05-01 06:00:00\",\"q1\":[-1.3642051050357773],\"q3\":[-0.40298782710882036],\"upperfence\":[2.4502057039839777],\"whiskerwidth\":0.2,\"x\":[\"2020-05-01T06:00:00\"],\"type\":\"box\"},{\"lowerfence\":[-11.22016599655448],\"marker\":{\"color\":\"#681824\"},\"median\":[-2.258728172808813],\"name\":\"2021-05-01 06:00:00\",\"q1\":[-3.119815428448108],\"q3\":[-1.446924206522421],\"upperfence\":[3.491310951509762],\"whiskerwidth\":0.2,\"x\":[\"2021-05-01T06:00:00\"],\"type\":\"box\"},{\"lowerfence\":[-9.686523847597396],\"marker\":{\"color\":\"#D96C59\"},\"median\":[-1.1698746206420279],\"name\":\"2022-05-01 06:00:00\",\"q1\":[-1.812651127546552],\"q3\":[-0.19238046347552346],\"upperfence\":[4.001573652422919],\"whiskerwidth\":0.2,\"x\":[\"2022-05-01T06:00:00\"],\"type\":\"box\"},{\"lowerfence\":[-9.163563146324835],\"marker\":{\"color\":\"#D96C59\"},\"median\":[-1.2078513492740093],\"name\":\"2023-05-01 06:00:00\",\"q1\":[-1.9949104927019417],\"q3\":[-0.6113136964009757],\"upperfence\":[2.155873154103828],\"whiskerwidth\":0.2,\"x\":[\"2023-05-01T06:00:00\"],\"type\":\"box\"}],                        {\"template\":{\"data\":{\"barpolar\":[{\"marker\":{\"line\":{\"color\":\"white\",\"width\":0.5},\"pattern\":{\"fillmode\":\"overlay\",\"size\":10,\"solidity\":0.2}},\"type\":\"barpolar\"}],\"bar\":[{\"error_x\":{\"color\":\"#2a3f5f\"},\"error_y\":{\"color\":\"#2a3f5f\"},\"marker\":{\"line\":{\"color\":\"white\",\"width\":0.5},\"pattern\":{\"fillmode\":\"overlay\",\"size\":10,\"solidity\":0.2}},\"type\":\"bar\"}],\"carpet\":[{\"aaxis\":{\"endlinecolor\":\"#2a3f5f\",\"gridcolor\":\"#C8D4E3\",\"linecolor\":\"#C8D4E3\",\"minorgridcolor\":\"#C8D4E3\",\"startlinecolor\":\"#2a3f5f\"},\"baxis\":{\"endlinecolor\":\"#2a3f5f\",\"gridcolor\":\"#C8D4E3\",\"linecolor\":\"#C8D4E3\",\"minorgridcolor\":\"#C8D4E3\",\"startlinecolor\":\"#2a3f5f\"},\"type\":\"carpet\"}],\"choropleth\":[{\"colorbar\":{\"outlinewidth\":0,\"ticks\":\"\"},\"type\":\"choropleth\"}],\"contourcarpet\":[{\"colorbar\":{\"outlinewidth\":0,\"ticks\":\"\"},\"type\":\"contourcarpet\"}],\"contour\":[{\"colorbar\":{\"outlinewidth\":0,\"ticks\":\"\"},\"colorscale\":[[0.0,\"#0d0887\"],[0.1111111111111111,\"#46039f\"],[0.2222222222222222,\"#7201a8\"],[0.3333333333333333,\"#9c179e\"],[0.4444444444444444,\"#bd3786\"],[0.5555555555555556,\"#d8576b\"],[0.6666666666666666,\"#ed7953\"],[0.7777777777777778,\"#fb9f3a\"],[0.8888888888888888,\"#fdca26\"],[1.0,\"#f0f921\"]],\"type\":\"contour\"}],\"heatmapgl\":[{\"colorbar\":{\"outlinewidth\":0,\"ticks\":\"\"},\"colorscale\":[[0.0,\"#0d0887\"],[0.1111111111111111,\"#46039f\"],[0.2222222222222222,\"#7201a8\"],[0.3333333333333333,\"#9c179e\"],[0.4444444444444444,\"#bd3786\"],[0.5555555555555556,\"#d8576b\"],[0.6666666666666666,\"#ed7953\"],[0.7777777777777778,\"#fb9f3a\"],[0.8888888888888888,\"#fdca26\"],[1.0,\"#f0f921\"]],\"type\":\"heatmapgl\"}],\"heatmap\":[{\"colorbar\":{\"outlinewidth\":0,\"ticks\":\"\"},\"colorscale\":[[0.0,\"#0d0887\"],[0.1111111111111111,\"#46039f\"],[0.2222222222222222,\"#7201a8\"],[0.3333333333333333,\"#9c179e\"],[0.4444444444444444,\"#bd3786\"],[0.5555555555555556,\"#d8576b\"],[0.6666666666666666,\"#ed7953\"],[0.7777777777777778,\"#fb9f3a\"],[0.8888888888888888,\"#fdca26\"],[1.0,\"#f0f921\"]],\"type\":\"heatmap\"}],\"histogram2dcontour\":[{\"colorbar\":{\"outlinewidth\":0,\"ticks\":\"\"},\"colorscale\":[[0.0,\"#0d0887\"],[0.1111111111111111,\"#46039f\"],[0.2222222222222222,\"#7201a8\"],[0.3333333333333333,\"#9c179e\"],[0.4444444444444444,\"#bd3786\"],[0.5555555555555556,\"#d8576b\"],[0.6666666666666666,\"#ed7953\"],[0.7777777777777778,\"#fb9f3a\"],[0.8888888888888888,\"#fdca26\"],[1.0,\"#f0f921\"]],\"type\":\"histogram2dcontour\"}],\"histogram2d\":[{\"colorbar\":{\"outlinewidth\":0,\"ticks\":\"\"},\"colorscale\":[[0.0,\"#0d0887\"],[0.1111111111111111,\"#46039f\"],[0.2222222222222222,\"#7201a8\"],[0.3333333333333333,\"#9c179e\"],[0.4444444444444444,\"#bd3786\"],[0.5555555555555556,\"#d8576b\"],[0.6666666666666666,\"#ed7953\"],[0.7777777777777778,\"#fb9f3a\"],[0.8888888888888888,\"#fdca26\"],[1.0,\"#f0f921\"]],\"type\":\"histogram2d\"}],\"histogram\":[{\"marker\":{\"pattern\":{\"fillmode\":\"overlay\",\"size\":10,\"solidity\":0.2}},\"type\":\"histogram\"}],\"mesh3d\":[{\"colorbar\":{\"outlinewidth\":0,\"ticks\":\"\"},\"type\":\"mesh3d\"}],\"parcoords\":[{\"line\":{\"colorbar\":{\"outlinewidth\":0,\"ticks\":\"\"}},\"type\":\"parcoords\"}],\"pie\":[{\"automargin\":true,\"type\":\"pie\"}],\"scatter3d\":[{\"line\":{\"colorbar\":{\"outlinewidth\":0,\"ticks\":\"\"}},\"marker\":{\"colorbar\":{\"outlinewidth\":0,\"ticks\":\"\"}},\"type\":\"scatter3d\"}],\"scattercarpet\":[{\"marker\":{\"colorbar\":{\"outlinewidth\":0,\"ticks\":\"\"}},\"type\":\"scattercarpet\"}],\"scattergeo\":[{\"marker\":{\"colorbar\":{\"outlinewidth\":0,\"ticks\":\"\"}},\"type\":\"scattergeo\"}],\"scattergl\":[{\"marker\":{\"colorbar\":{\"outlinewidth\":0,\"ticks\":\"\"}},\"type\":\"scattergl\"}],\"scattermapbox\":[{\"marker\":{\"colorbar\":{\"outlinewidth\":0,\"ticks\":\"\"}},\"type\":\"scattermapbox\"}],\"scatterpolargl\":[{\"marker\":{\"colorbar\":{\"outlinewidth\":0,\"ticks\":\"\"}},\"type\":\"scatterpolargl\"}],\"scatterpolar\":[{\"marker\":{\"colorbar\":{\"outlinewidth\":0,\"ticks\":\"\"}},\"type\":\"scatterpolar\"}],\"scatter\":[{\"fillpattern\":{\"fillmode\":\"overlay\",\"size\":10,\"solidity\":0.2},\"type\":\"scatter\"}],\"scatterternary\":[{\"marker\":{\"colorbar\":{\"outlinewidth\":0,\"ticks\":\"\"}},\"type\":\"scatterternary\"}],\"surface\":[{\"colorbar\":{\"outlinewidth\":0,\"ticks\":\"\"},\"colorscale\":[[0.0,\"#0d0887\"],[0.1111111111111111,\"#46039f\"],[0.2222222222222222,\"#7201a8\"],[0.3333333333333333,\"#9c179e\"],[0.4444444444444444,\"#bd3786\"],[0.5555555555555556,\"#d8576b\"],[0.6666666666666666,\"#ed7953\"],[0.7777777777777778,\"#fb9f3a\"],[0.8888888888888888,\"#fdca26\"],[1.0,\"#f0f921\"]],\"type\":\"surface\"}],\"table\":[{\"cells\":{\"fill\":{\"color\":\"#EBF0F8\"},\"line\":{\"color\":\"white\"}},\"header\":{\"fill\":{\"color\":\"#C8D4E3\"},\"line\":{\"color\":\"white\"}},\"type\":\"table\"}]},\"layout\":{\"annotationdefaults\":{\"arrowcolor\":\"#2a3f5f\",\"arrowhead\":0,\"arrowwidth\":1},\"autotypenumbers\":\"strict\",\"coloraxis\":{\"colorbar\":{\"outlinewidth\":0,\"ticks\":\"\"}},\"colorscale\":{\"diverging\":[[0,\"#8e0152\"],[0.1,\"#c51b7d\"],[0.2,\"#de77ae\"],[0.3,\"#f1b6da\"],[0.4,\"#fde0ef\"],[0.5,\"#f7f7f7\"],[0.6,\"#e6f5d0\"],[0.7,\"#b8e186\"],[0.8,\"#7fbc41\"],[0.9,\"#4d9221\"],[1,\"#276419\"]],\"sequential\":[[0.0,\"#0d0887\"],[0.1111111111111111,\"#46039f\"],[0.2222222222222222,\"#7201a8\"],[0.3333333333333333,\"#9c179e\"],[0.4444444444444444,\"#bd3786\"],[0.5555555555555556,\"#d8576b\"],[0.6666666666666666,\"#ed7953\"],[0.7777777777777778,\"#fb9f3a\"],[0.8888888888888888,\"#fdca26\"],[1.0,\"#f0f921\"]],\"sequentialminus\":[[0.0,\"#0d0887\"],[0.1111111111111111,\"#46039f\"],[0.2222222222222222,\"#7201a8\"],[0.3333333333333333,\"#9c179e\"],[0.4444444444444444,\"#bd3786\"],[0.5555555555555556,\"#d8576b\"],[0.6666666666666666,\"#ed7953\"],[0.7777777777777778,\"#fb9f3a\"],[0.8888888888888888,\"#fdca26\"],[1.0,\"#f0f921\"]]},\"colorway\":[\"#636efa\",\"#EF553B\",\"#00cc96\",\"#ab63fa\",\"#FFA15A\",\"#19d3f3\",\"#FF6692\",\"#B6E880\",\"#FF97FF\",\"#FECB52\"],\"font\":{\"color\":\"#2a3f5f\"},\"geo\":{\"bgcolor\":\"white\",\"lakecolor\":\"white\",\"landcolor\":\"white\",\"showlakes\":true,\"showland\":true,\"subunitcolor\":\"#C8D4E3\"},\"hoverlabel\":{\"align\":\"left\"},\"hovermode\":\"closest\",\"mapbox\":{\"style\":\"light\"},\"paper_bgcolor\":\"white\",\"plot_bgcolor\":\"white\",\"polar\":{\"angularaxis\":{\"gridcolor\":\"#EBF0F8\",\"linecolor\":\"#EBF0F8\",\"ticks\":\"\"},\"bgcolor\":\"white\",\"radialaxis\":{\"gridcolor\":\"#EBF0F8\",\"linecolor\":\"#EBF0F8\",\"ticks\":\"\"}},\"scene\":{\"xaxis\":{\"backgroundcolor\":\"white\",\"gridcolor\":\"#DFE8F3\",\"gridwidth\":2,\"linecolor\":\"#EBF0F8\",\"showbackground\":true,\"ticks\":\"\",\"zerolinecolor\":\"#EBF0F8\"},\"yaxis\":{\"backgroundcolor\":\"white\",\"gridcolor\":\"#DFE8F3\",\"gridwidth\":2,\"linecolor\":\"#EBF0F8\",\"showbackground\":true,\"ticks\":\"\",\"zerolinecolor\":\"#EBF0F8\"},\"zaxis\":{\"backgroundcolor\":\"white\",\"gridcolor\":\"#DFE8F3\",\"gridwidth\":2,\"linecolor\":\"#EBF0F8\",\"showbackground\":true,\"ticks\":\"\",\"zerolinecolor\":\"#EBF0F8\"}},\"shapedefaults\":{\"line\":{\"color\":\"#2a3f5f\"}},\"ternary\":{\"aaxis\":{\"gridcolor\":\"#DFE8F3\",\"linecolor\":\"#A2B1C6\",\"ticks\":\"\"},\"baxis\":{\"gridcolor\":\"#DFE8F3\",\"linecolor\":\"#A2B1C6\",\"ticks\":\"\"},\"bgcolor\":\"white\",\"caxis\":{\"gridcolor\":\"#DFE8F3\",\"linecolor\":\"#A2B1C6\",\"ticks\":\"\"}},\"title\":{\"x\":0.05},\"xaxis\":{\"automargin\":true,\"gridcolor\":\"#EBF0F8\",\"linecolor\":\"#EBF0F8\",\"ticks\":\"\",\"title\":{\"standoff\":15},\"zerolinecolor\":\"#EBF0F8\",\"zerolinewidth\":2},\"yaxis\":{\"automargin\":true,\"gridcolor\":\"#EBF0F8\",\"linecolor\":\"#EBF0F8\",\"ticks\":\"\",\"title\":{\"standoff\":15},\"zerolinecolor\":\"#EBF0F8\",\"zerolinewidth\":2}}},\"yaxis\":{\"title\":{\"text\":\"SPEI1\"},\"zeroline\":true,\"zerolinewidth\":1,\"zerolinecolor\":\"#D3D3D3\"},\"title\":{\"text\":\"Boxplot of 1 month SPEI Index, trends over time in Angola's Cabinda area for the month of May\"},\"xaxis\":{\"title\":{\"text\":\"Years\"}},\"height\":500,\"plot_bgcolor\":\"rgba(0,0,0,0)\",\"showlegend\":false},                        {\"responsive\": true}                    ).then(function(){\n",
       "                            \n",
       "var gd = document.getElementById('544f4d96-1732-4f72-8b81-31711c0a4106');\n",
       "var x = new MutationObserver(function (mutations, observer) {{\n",
       "        var display = window.getComputedStyle(gd).display;\n",
       "        if (!display || display === 'none') {{\n",
       "            console.log([gd, 'removed!']);\n",
       "            Plotly.purge(gd);\n",
       "            observer.disconnect();\n",
       "        }}\n",
       "}});\n",
       "\n",
       "// Listen for the removal of the full notebook cells\n",
       "var notebookContainer = gd.closest('#notebook-container');\n",
       "if (notebookContainer) {{\n",
       "    x.observe(notebookContainer, {childList: true});\n",
       "}}\n",
       "\n",
       "// Listen for the clearing of the current output cell\n",
       "var outputEl = gd.closest('.output');\n",
       "if (outputEl) {{\n",
       "    x.observe(outputEl, {childList: true});\n",
       "}}\n",
       "\n",
       "                        })                };                });            </script>        </div>"
      ]
     },
     "metadata": {},
     "output_type": "display_data"
    }
   ],
   "source": [
    "uti.create_boxplot(stat_values, timescales, selected)"
   ]
  },
  {
   "cell_type": "code",
   "execution_count": 12,
   "id": "704a12ae-dc3e-4229-92aa-c3f02faacc1e",
   "metadata": {},
   "outputs": [
    {
     "data": {
      "application/vnd.jupyter.widget-view+json": {
       "model_id": "06a5ab373bf84a8badaa1c951fcce578",
       "version_major": 2,
       "version_minor": 0
      },
      "text/plain": [
       "Dropdown(description='Select a country:', index=5, options=('country...', 'Afghanistan', 'Albania', 'Algeria',…"
      ]
     },
     "metadata": {},
     "output_type": "display_data"
    },
    {
     "data": {
      "application/vnd.jupyter.widget-view+json": {
       "model_id": "c750a215e3da4f2ca12e492958dfc3fb",
       "version_major": 2,
       "version_minor": 0
      },
      "text/plain": [
       "Dropdown(description='And a subarea:', index=4, options=('subarea...', 'Bengo', 'Benguela', 'Bié', 'Cabinda', …"
      ]
     },
     "metadata": {},
     "output_type": "display_data"
    },
    {
     "data": {
      "application/vnd.jupyter.widget-view+json": {
       "model_id": "f0f3b98574004b9d8532b7a8a8191aa7",
       "version_major": 2,
       "version_minor": 0
      },
      "text/plain": [
       "Dropdown(description='Select a timescale:', index=1, options=('timescale...', '1 month', '3 months', '6 months…"
      ]
     },
     "metadata": {},
     "output_type": "display_data"
    },
    {
     "data": {
      "application/vnd.jupyter.widget-view+json": {
       "model_id": "edaa5722f8be4f8f9b7e6c9572949487",
       "version_major": 2,
       "version_minor": 0
      },
      "text/plain": [
       "Dropdown(description='Select a year:', options=('year...', '1940', '1941', '1942', '1943', '1944', '1945', '19…"
      ]
     },
     "metadata": {},
     "output_type": "display_data"
    },
    {
     "data": {
      "application/vnd.jupyter.widget-view+json": {
       "model_id": "a147c793cc294eefb2a505396af13de9",
       "version_major": 2,
       "version_minor": 0
      },
      "text/plain": [
       "Output(outputs=({'output_type': 'display_data', 'data': {'text/plain': '<IPython.lib.display.IFrame at 0x7f20f…"
      ]
     },
     "metadata": {},
     "output_type": "display_data"
    }
   ],
   "source": [
    "# Update existing selectors\n",
    "previous_selection = uti.read_json_to_dict('previous_selection.json')\n",
    "\n",
    "# Set up widgets with previous settings\n",
    "country_selector.value = previous_selection.get('country', placeholders['country'])\n",
    "subarea_selector.value = previous_selection.get('subarea', placeholders['subarea'])\n",
    "year_selector.value = previous_selection.get('year', placeholders['year'])\n",
    "timescale_selector.value = previous_selection.get('timescale', placeholders['timescale'])\n",
    "\n",
    "# Add the new year selector to the display\n",
    "display(country_selector, subarea_selector, timescale_selector, year_selector, output_area)"
   ]
  },
  {
   "cell_type": "code",
   "execution_count": 13,
   "id": "ff180e62-8735-42b9-9fd6-08b6159f6c03",
   "metadata": {},
   "outputs": [
    {
     "name": "stdout",
     "output_type": "stream",
     "text": [
      "Country:  Angola\n",
      "Subarea:  Cabinda\n",
      "Month:  None\n",
      "Year:  1949\n",
      "Year range:  None\n",
      "Timescale:  1 month \n",
      "\n",
      "Time values in the subset: 12\n",
      "Latitude values in the subset: 70\n",
      "Longitude values in the subset: 72 \n",
      "\n",
      "Data sample:  [[-9999. -9999. -9999. -9999. -9999.]\n",
      " [-9999. -9999. -9999. -9999. -9999.]\n",
      " [-9999. -9999. -9999. -9999. -9999.]\n",
      " [-9999. -9999. -9999. -9999. -9999.]\n",
      " [-9999. -9999. -9999. -9999. -9999.]]\n"
     ]
    }
   ],
   "source": [
    "uti.display_data_details(selected, subset[index])"
   ]
  },
  {
   "cell_type": "code",
   "execution_count": 14,
   "id": "4217b710-9f2f-4942-8e9f-3ec610246f3e",
   "metadata": {},
   "outputs": [
    {
     "name": "stdout",
     "output_type": "stream",
     "text": [
      "<xarray.DataArray 'SPEI1' (time: 12, lat: 70, lon: 72)>\n",
      "dask.array<where, shape=(12, 70, 72), dtype=float64, chunksize=(1, 70, 72), chunktype=numpy.ndarray>\n",
      "Coordinates:\n",
      "  * time     (time) datetime64[ns] 1949-01-01T06:00:00 ... 1949-12-01T06:00:00\n",
      "  * lon      (lon) float64 -6.0 -5.75 -5.5 -5.25 -5.0 ... 11.0 11.25 11.5 11.75\n",
      "  * lat      (lat) float64 -4.25 -4.0 -3.75 -3.5 -3.25 ... 12.25 12.5 12.75 13.0\n",
      "Attributes:\n",
      "    long_name:  Standardized Drought Index (SPEI1)\n",
      "    units:      - \n",
      "\n",
      "Change summary:\n",
      "invalid_values_replaced 28392\n",
      "invalid_ratio 0.46944444444444444\n",
      "duplicates_removed 0\n",
      "cftime_conversions 0\n"
     ]
    }
   ],
   "source": [
    "processed_subset, change_summary = uti.process_datarray(subset[index])\n",
    "print(processed_subset, '\\n')\n",
    "print('Change summary:')\n",
    "for key, val in change_summary.items():\n",
    "    print(key, val)"
   ]
  },
  {
   "cell_type": "code",
   "execution_count": 15,
   "id": "2eff3063-03bf-4685-b382-aee245c06f18",
   "metadata": {},
   "outputs": [],
   "source": [
    "stat_values = uti.compute_stats(processed_subset)"
   ]
  },
  {
   "cell_type": "code",
   "execution_count": 16,
   "id": "6bde9279-bcbc-4719-a5c3-938e6378468d",
   "metadata": {},
   "outputs": [
    {
     "data": {
      "application/vnd.plotly.v1+json": {
       "config": {
        "plotlyServerURL": "https://plot.ly"
       },
       "data": [
        {
         "hoverinfo": "text",
         "line": {
          "color": "#B89A7D",
          "width": 2
         },
         "marker": {
          "color": [
           "#F7BB9F",
           "#ACD1E5",
           "#61A5CE",
           "#ACD1E5",
           "#D96C59",
           "#681824",
           "#F7BB9F",
           "#F7BB9F",
           "#AF2331",
           "#D96C59",
           "#ACD1E5",
           "#D96C59"
          ],
          "line": {
           "color": "#B89A7D",
           "width": 2
          },
          "size": 15
         },
         "mode": "lines+markers",
         "name": "Median SPEI",
         "text": [
          "January 1949, median: -0.55",
          "February 1949, median: 0.11",
          "March 1949, median: 1.32",
          "April 1949, median: 0.28",
          "May 1949, median: -1.19",
          "June 1949, median: -2.59",
          "July 1949, median: -0.59",
          "August 1949, median: -0.86",
          "September 1949, median: -1.98",
          "October 1949, median: -1.03",
          "November 1949, median: 0.44",
          "December 1949, median: -1.05"
         ],
         "type": "scatter",
         "x": [
          "1949-01-01T06:00:00.000000000",
          "1949-02-01T06:00:00.000000000",
          "1949-03-01T06:00:00.000000000",
          "1949-04-01T06:00:00.000000000",
          "1949-05-01T06:00:00.000000000",
          "1949-06-01T06:00:00.000000000",
          "1949-07-01T06:00:00.000000000",
          "1949-08-01T06:00:00.000000000",
          "1949-09-01T06:00:00.000000000",
          "1949-10-01T06:00:00.000000000",
          "1949-11-01T06:00:00.000000000",
          "1949-12-01T06:00:00.000000000"
         ],
         "y": [
          -0.5535392564117778,
          0.11495738222710562,
          1.3191508734283757,
          0.27573626294074216,
          -1.188565557325698,
          -2.5940603698040916,
          -0.5885930541303148,
          -0.8640286188223159,
          -1.9811428905449011,
          -1.0304043554419438,
          0.4448293935684199,
          -1.049245413379889
         ]
        }
       ],
       "layout": {
        "autosize": true,
        "plot_bgcolor": "rgba(0, 0, 0, 0)",
        "template": {
         "data": {
          "bar": [
           {
            "error_x": {
             "color": "#2a3f5f"
            },
            "error_y": {
             "color": "#2a3f5f"
            },
            "marker": {
             "line": {
              "color": "white",
              "width": 0.5
             },
             "pattern": {
              "fillmode": "overlay",
              "size": 10,
              "solidity": 0.2
             }
            },
            "type": "bar"
           }
          ],
          "barpolar": [
           {
            "marker": {
             "line": {
              "color": "white",
              "width": 0.5
             },
             "pattern": {
              "fillmode": "overlay",
              "size": 10,
              "solidity": 0.2
             }
            },
            "type": "barpolar"
           }
          ],
          "carpet": [
           {
            "aaxis": {
             "endlinecolor": "#2a3f5f",
             "gridcolor": "#C8D4E3",
             "linecolor": "#C8D4E3",
             "minorgridcolor": "#C8D4E3",
             "startlinecolor": "#2a3f5f"
            },
            "baxis": {
             "endlinecolor": "#2a3f5f",
             "gridcolor": "#C8D4E3",
             "linecolor": "#C8D4E3",
             "minorgridcolor": "#C8D4E3",
             "startlinecolor": "#2a3f5f"
            },
            "type": "carpet"
           }
          ],
          "choropleth": [
           {
            "colorbar": {
             "outlinewidth": 0,
             "ticks": ""
            },
            "type": "choropleth"
           }
          ],
          "contour": [
           {
            "colorbar": {
             "outlinewidth": 0,
             "ticks": ""
            },
            "colorscale": [
             [
              0,
              "#0d0887"
             ],
             [
              0.1111111111111111,
              "#46039f"
             ],
             [
              0.2222222222222222,
              "#7201a8"
             ],
             [
              0.3333333333333333,
              "#9c179e"
             ],
             [
              0.4444444444444444,
              "#bd3786"
             ],
             [
              0.5555555555555556,
              "#d8576b"
             ],
             [
              0.6666666666666666,
              "#ed7953"
             ],
             [
              0.7777777777777778,
              "#fb9f3a"
             ],
             [
              0.8888888888888888,
              "#fdca26"
             ],
             [
              1,
              "#f0f921"
             ]
            ],
            "type": "contour"
           }
          ],
          "contourcarpet": [
           {
            "colorbar": {
             "outlinewidth": 0,
             "ticks": ""
            },
            "type": "contourcarpet"
           }
          ],
          "heatmap": [
           {
            "colorbar": {
             "outlinewidth": 0,
             "ticks": ""
            },
            "colorscale": [
             [
              0,
              "#0d0887"
             ],
             [
              0.1111111111111111,
              "#46039f"
             ],
             [
              0.2222222222222222,
              "#7201a8"
             ],
             [
              0.3333333333333333,
              "#9c179e"
             ],
             [
              0.4444444444444444,
              "#bd3786"
             ],
             [
              0.5555555555555556,
              "#d8576b"
             ],
             [
              0.6666666666666666,
              "#ed7953"
             ],
             [
              0.7777777777777778,
              "#fb9f3a"
             ],
             [
              0.8888888888888888,
              "#fdca26"
             ],
             [
              1,
              "#f0f921"
             ]
            ],
            "type": "heatmap"
           }
          ],
          "heatmapgl": [
           {
            "colorbar": {
             "outlinewidth": 0,
             "ticks": ""
            },
            "colorscale": [
             [
              0,
              "#0d0887"
             ],
             [
              0.1111111111111111,
              "#46039f"
             ],
             [
              0.2222222222222222,
              "#7201a8"
             ],
             [
              0.3333333333333333,
              "#9c179e"
             ],
             [
              0.4444444444444444,
              "#bd3786"
             ],
             [
              0.5555555555555556,
              "#d8576b"
             ],
             [
              0.6666666666666666,
              "#ed7953"
             ],
             [
              0.7777777777777778,
              "#fb9f3a"
             ],
             [
              0.8888888888888888,
              "#fdca26"
             ],
             [
              1,
              "#f0f921"
             ]
            ],
            "type": "heatmapgl"
           }
          ],
          "histogram": [
           {
            "marker": {
             "pattern": {
              "fillmode": "overlay",
              "size": 10,
              "solidity": 0.2
             }
            },
            "type": "histogram"
           }
          ],
          "histogram2d": [
           {
            "colorbar": {
             "outlinewidth": 0,
             "ticks": ""
            },
            "colorscale": [
             [
              0,
              "#0d0887"
             ],
             [
              0.1111111111111111,
              "#46039f"
             ],
             [
              0.2222222222222222,
              "#7201a8"
             ],
             [
              0.3333333333333333,
              "#9c179e"
             ],
             [
              0.4444444444444444,
              "#bd3786"
             ],
             [
              0.5555555555555556,
              "#d8576b"
             ],
             [
              0.6666666666666666,
              "#ed7953"
             ],
             [
              0.7777777777777778,
              "#fb9f3a"
             ],
             [
              0.8888888888888888,
              "#fdca26"
             ],
             [
              1,
              "#f0f921"
             ]
            ],
            "type": "histogram2d"
           }
          ],
          "histogram2dcontour": [
           {
            "colorbar": {
             "outlinewidth": 0,
             "ticks": ""
            },
            "colorscale": [
             [
              0,
              "#0d0887"
             ],
             [
              0.1111111111111111,
              "#46039f"
             ],
             [
              0.2222222222222222,
              "#7201a8"
             ],
             [
              0.3333333333333333,
              "#9c179e"
             ],
             [
              0.4444444444444444,
              "#bd3786"
             ],
             [
              0.5555555555555556,
              "#d8576b"
             ],
             [
              0.6666666666666666,
              "#ed7953"
             ],
             [
              0.7777777777777778,
              "#fb9f3a"
             ],
             [
              0.8888888888888888,
              "#fdca26"
             ],
             [
              1,
              "#f0f921"
             ]
            ],
            "type": "histogram2dcontour"
           }
          ],
          "mesh3d": [
           {
            "colorbar": {
             "outlinewidth": 0,
             "ticks": ""
            },
            "type": "mesh3d"
           }
          ],
          "parcoords": [
           {
            "line": {
             "colorbar": {
              "outlinewidth": 0,
              "ticks": ""
             }
            },
            "type": "parcoords"
           }
          ],
          "pie": [
           {
            "automargin": true,
            "type": "pie"
           }
          ],
          "scatter": [
           {
            "fillpattern": {
             "fillmode": "overlay",
             "size": 10,
             "solidity": 0.2
            },
            "type": "scatter"
           }
          ],
          "scatter3d": [
           {
            "line": {
             "colorbar": {
              "outlinewidth": 0,
              "ticks": ""
             }
            },
            "marker": {
             "colorbar": {
              "outlinewidth": 0,
              "ticks": ""
             }
            },
            "type": "scatter3d"
           }
          ],
          "scattercarpet": [
           {
            "marker": {
             "colorbar": {
              "outlinewidth": 0,
              "ticks": ""
             }
            },
            "type": "scattercarpet"
           }
          ],
          "scattergeo": [
           {
            "marker": {
             "colorbar": {
              "outlinewidth": 0,
              "ticks": ""
             }
            },
            "type": "scattergeo"
           }
          ],
          "scattergl": [
           {
            "marker": {
             "colorbar": {
              "outlinewidth": 0,
              "ticks": ""
             }
            },
            "type": "scattergl"
           }
          ],
          "scattermapbox": [
           {
            "marker": {
             "colorbar": {
              "outlinewidth": 0,
              "ticks": ""
             }
            },
            "type": "scattermapbox"
           }
          ],
          "scatterpolar": [
           {
            "marker": {
             "colorbar": {
              "outlinewidth": 0,
              "ticks": ""
             }
            },
            "type": "scatterpolar"
           }
          ],
          "scatterpolargl": [
           {
            "marker": {
             "colorbar": {
              "outlinewidth": 0,
              "ticks": ""
             }
            },
            "type": "scatterpolargl"
           }
          ],
          "scatterternary": [
           {
            "marker": {
             "colorbar": {
              "outlinewidth": 0,
              "ticks": ""
             }
            },
            "type": "scatterternary"
           }
          ],
          "surface": [
           {
            "colorbar": {
             "outlinewidth": 0,
             "ticks": ""
            },
            "colorscale": [
             [
              0,
              "#0d0887"
             ],
             [
              0.1111111111111111,
              "#46039f"
             ],
             [
              0.2222222222222222,
              "#7201a8"
             ],
             [
              0.3333333333333333,
              "#9c179e"
             ],
             [
              0.4444444444444444,
              "#bd3786"
             ],
             [
              0.5555555555555556,
              "#d8576b"
             ],
             [
              0.6666666666666666,
              "#ed7953"
             ],
             [
              0.7777777777777778,
              "#fb9f3a"
             ],
             [
              0.8888888888888888,
              "#fdca26"
             ],
             [
              1,
              "#f0f921"
             ]
            ],
            "type": "surface"
           }
          ],
          "table": [
           {
            "cells": {
             "fill": {
              "color": "#EBF0F8"
             },
             "line": {
              "color": "white"
             }
            },
            "header": {
             "fill": {
              "color": "#C8D4E3"
             },
             "line": {
              "color": "white"
             }
            },
            "type": "table"
           }
          ]
         },
         "layout": {
          "annotationdefaults": {
           "arrowcolor": "#2a3f5f",
           "arrowhead": 0,
           "arrowwidth": 1
          },
          "autotypenumbers": "strict",
          "coloraxis": {
           "colorbar": {
            "outlinewidth": 0,
            "ticks": ""
           }
          },
          "colorscale": {
           "diverging": [
            [
             0,
             "#8e0152"
            ],
            [
             0.1,
             "#c51b7d"
            ],
            [
             0.2,
             "#de77ae"
            ],
            [
             0.3,
             "#f1b6da"
            ],
            [
             0.4,
             "#fde0ef"
            ],
            [
             0.5,
             "#f7f7f7"
            ],
            [
             0.6,
             "#e6f5d0"
            ],
            [
             0.7,
             "#b8e186"
            ],
            [
             0.8,
             "#7fbc41"
            ],
            [
             0.9,
             "#4d9221"
            ],
            [
             1,
             "#276419"
            ]
           ],
           "sequential": [
            [
             0,
             "#0d0887"
            ],
            [
             0.1111111111111111,
             "#46039f"
            ],
            [
             0.2222222222222222,
             "#7201a8"
            ],
            [
             0.3333333333333333,
             "#9c179e"
            ],
            [
             0.4444444444444444,
             "#bd3786"
            ],
            [
             0.5555555555555556,
             "#d8576b"
            ],
            [
             0.6666666666666666,
             "#ed7953"
            ],
            [
             0.7777777777777778,
             "#fb9f3a"
            ],
            [
             0.8888888888888888,
             "#fdca26"
            ],
            [
             1,
             "#f0f921"
            ]
           ],
           "sequentialminus": [
            [
             0,
             "#0d0887"
            ],
            [
             0.1111111111111111,
             "#46039f"
            ],
            [
             0.2222222222222222,
             "#7201a8"
            ],
            [
             0.3333333333333333,
             "#9c179e"
            ],
            [
             0.4444444444444444,
             "#bd3786"
            ],
            [
             0.5555555555555556,
             "#d8576b"
            ],
            [
             0.6666666666666666,
             "#ed7953"
            ],
            [
             0.7777777777777778,
             "#fb9f3a"
            ],
            [
             0.8888888888888888,
             "#fdca26"
            ],
            [
             1,
             "#f0f921"
            ]
           ]
          },
          "colorway": [
           "#636efa",
           "#EF553B",
           "#00cc96",
           "#ab63fa",
           "#FFA15A",
           "#19d3f3",
           "#FF6692",
           "#B6E880",
           "#FF97FF",
           "#FECB52"
          ],
          "font": {
           "color": "#2a3f5f"
          },
          "geo": {
           "bgcolor": "white",
           "lakecolor": "white",
           "landcolor": "white",
           "showlakes": true,
           "showland": true,
           "subunitcolor": "#C8D4E3"
          },
          "hoverlabel": {
           "align": "left"
          },
          "hovermode": "closest",
          "mapbox": {
           "style": "light"
          },
          "paper_bgcolor": "white",
          "plot_bgcolor": "white",
          "polar": {
           "angularaxis": {
            "gridcolor": "#EBF0F8",
            "linecolor": "#EBF0F8",
            "ticks": ""
           },
           "bgcolor": "white",
           "radialaxis": {
            "gridcolor": "#EBF0F8",
            "linecolor": "#EBF0F8",
            "ticks": ""
           }
          },
          "scene": {
           "xaxis": {
            "backgroundcolor": "white",
            "gridcolor": "#DFE8F3",
            "gridwidth": 2,
            "linecolor": "#EBF0F8",
            "showbackground": true,
            "ticks": "",
            "zerolinecolor": "#EBF0F8"
           },
           "yaxis": {
            "backgroundcolor": "white",
            "gridcolor": "#DFE8F3",
            "gridwidth": 2,
            "linecolor": "#EBF0F8",
            "showbackground": true,
            "ticks": "",
            "zerolinecolor": "#EBF0F8"
           },
           "zaxis": {
            "backgroundcolor": "white",
            "gridcolor": "#DFE8F3",
            "gridwidth": 2,
            "linecolor": "#EBF0F8",
            "showbackground": true,
            "ticks": "",
            "zerolinecolor": "#EBF0F8"
           }
          },
          "shapedefaults": {
           "line": {
            "color": "#2a3f5f"
           }
          },
          "ternary": {
           "aaxis": {
            "gridcolor": "#DFE8F3",
            "linecolor": "#A2B1C6",
            "ticks": ""
           },
           "baxis": {
            "gridcolor": "#DFE8F3",
            "linecolor": "#A2B1C6",
            "ticks": ""
           },
           "bgcolor": "white",
           "caxis": {
            "gridcolor": "#DFE8F3",
            "linecolor": "#A2B1C6",
            "ticks": ""
           }
          },
          "title": {
           "x": 0.05
          },
          "xaxis": {
           "automargin": true,
           "gridcolor": "#EBF0F8",
           "linecolor": "#EBF0F8",
           "ticks": "",
           "title": {
            "standoff": 15
           },
           "zerolinecolor": "#EBF0F8",
           "zerolinewidth": 2
          },
          "yaxis": {
           "automargin": true,
           "gridcolor": "#EBF0F8",
           "linecolor": "#EBF0F8",
           "ticks": "",
           "title": {
            "standoff": 15
           },
           "zerolinecolor": "#EBF0F8",
           "zerolinewidth": 2
          }
         }
        },
        "title": {
         "text": "Median 1 month SPEI Index, trends over time in Angola's Cabinda area in 1949"
        },
        "xaxis": {
         "autorange": true,
         "range": [
          "1948-12-10 13:36:49.8962",
          "1949-12-22 22:23:10.1038"
         ],
         "title": {
          "text": "Months"
         },
         "type": "date"
        },
        "yaxis": {
         "autorange": true,
         "range": [
          -2.962854187063233,
          1.6879446906875173
         ],
         "title": {
          "text": "Median SPEI1"
         },
         "type": "linear",
         "zeroline": true,
         "zerolinecolor": "#D3D3D3",
         "zerolinewidth": 1
        }
       }
      },
      "image/png": "[encoded data removed]",
      "text/html": [
       "<div>                            <div id=\"5ff98296-49a4-4d96-ae67-39ae21da89bd\" class=\"plotly-graph-div\" style=\"height:500px; width:100%;\"></div>            <script type=\"text/javascript\">                require([\"plotly\"], function(Plotly) {                    window.PLOTLYENV=window.PLOTLYENV || {};                                    if (document.getElementById(\"5ff98296-49a4-4d96-ae67-39ae21da89bd\")) {                    Plotly.newPlot(                        \"5ff98296-49a4-4d96-ae67-39ae21da89bd\",                        [{\"hoverinfo\":\"text\",\"line\":{\"color\":\"#B89A7D\",\"width\":2},\"marker\":{\"color\":[\"#F7BB9F\",\"#ACD1E5\",\"#61A5CE\",\"#ACD1E5\",\"#D96C59\",\"#681824\",\"#F7BB9F\",\"#F7BB9F\",\"#AF2331\",\"#D96C59\",\"#ACD1E5\",\"#D96C59\"],\"line\":{\"color\":\"#B89A7D\",\"width\":2},\"size\":15},\"mode\":\"lines+markers\",\"name\":\"Median SPEI\",\"text\":[\"January 1949, median: -0.55\",\"February 1949, median: 0.11\",\"March 1949, median: 1.32\",\"April 1949, median: 0.28\",\"May 1949, median: -1.19\",\"June 1949, median: -2.59\",\"July 1949, median: -0.59\",\"August 1949, median: -0.86\",\"September 1949, median: -1.98\",\"October 1949, median: -1.03\",\"November 1949, median: 0.44\",\"December 1949, median: -1.05\"],\"x\":[\"1949-01-01T06:00:00.000000000\",\"1949-02-01T06:00:00.000000000\",\"1949-03-01T06:00:00.000000000\",\"1949-04-01T06:00:00.000000000\",\"1949-05-01T06:00:00.000000000\",\"1949-06-01T06:00:00.000000000\",\"1949-07-01T06:00:00.000000000\",\"1949-08-01T06:00:00.000000000\",\"1949-09-01T06:00:00.000000000\",\"1949-10-01T06:00:00.000000000\",\"1949-11-01T06:00:00.000000000\",\"1949-12-01T06:00:00.000000000\"],\"y\":[-0.5535392564117778,0.11495738222710562,1.3191508734283757,0.27573626294074216,-1.188565557325698,-2.5940603698040916,-0.5885930541303148,-0.8640286188223159,-1.9811428905449011,-1.0304043554419438,0.4448293935684199,-1.049245413379889],\"type\":\"scatter\"}],                        {\"template\":{\"data\":{\"barpolar\":[{\"marker\":{\"line\":{\"color\":\"white\",\"width\":0.5},\"pattern\":{\"fillmode\":\"overlay\",\"size\":10,\"solidity\":0.2}},\"type\":\"barpolar\"}],\"bar\":[{\"error_x\":{\"color\":\"#2a3f5f\"},\"error_y\":{\"color\":\"#2a3f5f\"},\"marker\":{\"line\":{\"color\":\"white\",\"width\":0.5},\"pattern\":{\"fillmode\":\"overlay\",\"size\":10,\"solidity\":0.2}},\"type\":\"bar\"}],\"carpet\":[{\"aaxis\":{\"endlinecolor\":\"#2a3f5f\",\"gridcolor\":\"#C8D4E3\",\"linecolor\":\"#C8D4E3\",\"minorgridcolor\":\"#C8D4E3\",\"startlinecolor\":\"#2a3f5f\"},\"baxis\":{\"endlinecolor\":\"#2a3f5f\",\"gridcolor\":\"#C8D4E3\",\"linecolor\":\"#C8D4E3\",\"minorgridcolor\":\"#C8D4E3\",\"startlinecolor\":\"#2a3f5f\"},\"type\":\"carpet\"}],\"choropleth\":[{\"colorbar\":{\"outlinewidth\":0,\"ticks\":\"\"},\"type\":\"choropleth\"}],\"contourcarpet\":[{\"colorbar\":{\"outlinewidth\":0,\"ticks\":\"\"},\"type\":\"contourcarpet\"}],\"contour\":[{\"colorbar\":{\"outlinewidth\":0,\"ticks\":\"\"},\"colorscale\":[[0.0,\"#0d0887\"],[0.1111111111111111,\"#46039f\"],[0.2222222222222222,\"#7201a8\"],[0.3333333333333333,\"#9c179e\"],[0.4444444444444444,\"#bd3786\"],[0.5555555555555556,\"#d8576b\"],[0.6666666666666666,\"#ed7953\"],[0.7777777777777778,\"#fb9f3a\"],[0.8888888888888888,\"#fdca26\"],[1.0,\"#f0f921\"]],\"type\":\"contour\"}],\"heatmapgl\":[{\"colorbar\":{\"outlinewidth\":0,\"ticks\":\"\"},\"colorscale\":[[0.0,\"#0d0887\"],[0.1111111111111111,\"#46039f\"],[0.2222222222222222,\"#7201a8\"],[0.3333333333333333,\"#9c179e\"],[0.4444444444444444,\"#bd3786\"],[0.5555555555555556,\"#d8576b\"],[0.6666666666666666,\"#ed7953\"],[0.7777777777777778,\"#fb9f3a\"],[0.8888888888888888,\"#fdca26\"],[1.0,\"#f0f921\"]],\"type\":\"heatmapgl\"}],\"heatmap\":[{\"colorbar\":{\"outlinewidth\":0,\"ticks\":\"\"},\"colorscale\":[[0.0,\"#0d0887\"],[0.1111111111111111,\"#46039f\"],[0.2222222222222222,\"#7201a8\"],[0.3333333333333333,\"#9c179e\"],[0.4444444444444444,\"#bd3786\"],[0.5555555555555556,\"#d8576b\"],[0.6666666666666666,\"#ed7953\"],[0.7777777777777778,\"#fb9f3a\"],[0.8888888888888888,\"#fdca26\"],[1.0,\"#f0f921\"]],\"type\":\"heatmap\"}],\"histogram2dcontour\":[{\"colorbar\":{\"outlinewidth\":0,\"ticks\":\"\"},\"colorscale\":[[0.0,\"#0d0887\"],[0.1111111111111111,\"#46039f\"],[0.2222222222222222,\"#7201a8\"],[0.3333333333333333,\"#9c179e\"],[0.4444444444444444,\"#bd3786\"],[0.5555555555555556,\"#d8576b\"],[0.6666666666666666,\"#ed7953\"],[0.7777777777777778,\"#fb9f3a\"],[0.8888888888888888,\"#fdca26\"],[1.0,\"#f0f921\"]],\"type\":\"histogram2dcontour\"}],\"histogram2d\":[{\"colorbar\":{\"outlinewidth\":0,\"ticks\":\"\"},\"colorscale\":[[0.0,\"#0d0887\"],[0.1111111111111111,\"#46039f\"],[0.2222222222222222,\"#7201a8\"],[0.3333333333333333,\"#9c179e\"],[0.4444444444444444,\"#bd3786\"],[0.5555555555555556,\"#d8576b\"],[0.6666666666666666,\"#ed7953\"],[0.7777777777777778,\"#fb9f3a\"],[0.8888888888888888,\"#fdca26\"],[1.0,\"#f0f921\"]],\"type\":\"histogram2d\"}],\"histogram\":[{\"marker\":{\"pattern\":{\"fillmode\":\"overlay\",\"size\":10,\"solidity\":0.2}},\"type\":\"histogram\"}],\"mesh3d\":[{\"colorbar\":{\"outlinewidth\":0,\"ticks\":\"\"},\"type\":\"mesh3d\"}],\"parcoords\":[{\"line\":{\"colorbar\":{\"outlinewidth\":0,\"ticks\":\"\"}},\"type\":\"parcoords\"}],\"pie\":[{\"automargin\":true,\"type\":\"pie\"}],\"scatter3d\":[{\"line\":{\"colorbar\":{\"outlinewidth\":0,\"ticks\":\"\"}},\"marker\":{\"colorbar\":{\"outlinewidth\":0,\"ticks\":\"\"}},\"type\":\"scatter3d\"}],\"scattercarpet\":[{\"marker\":{\"colorbar\":{\"outlinewidth\":0,\"ticks\":\"\"}},\"type\":\"scattercarpet\"}],\"scattergeo\":[{\"marker\":{\"colorbar\":{\"outlinewidth\":0,\"ticks\":\"\"}},\"type\":\"scattergeo\"}],\"scattergl\":[{\"marker\":{\"colorbar\":{\"outlinewidth\":0,\"ticks\":\"\"}},\"type\":\"scattergl\"}],\"scattermapbox\":[{\"marker\":{\"colorbar\":{\"outlinewidth\":0,\"ticks\":\"\"}},\"type\":\"scattermapbox\"}],\"scatterpolargl\":[{\"marker\":{\"colorbar\":{\"outlinewidth\":0,\"ticks\":\"\"}},\"type\":\"scatterpolargl\"}],\"scatterpolar\":[{\"marker\":{\"colorbar\":{\"outlinewidth\":0,\"ticks\":\"\"}},\"type\":\"scatterpolar\"}],\"scatter\":[{\"fillpattern\":{\"fillmode\":\"overlay\",\"size\":10,\"solidity\":0.2},\"type\":\"scatter\"}],\"scatterternary\":[{\"marker\":{\"colorbar\":{\"outlinewidth\":0,\"ticks\":\"\"}},\"type\":\"scatterternary\"}],\"surface\":[{\"colorbar\":{\"outlinewidth\":0,\"ticks\":\"\"},\"colorscale\":[[0.0,\"#0d0887\"],[0.1111111111111111,\"#46039f\"],[0.2222222222222222,\"#7201a8\"],[0.3333333333333333,\"#9c179e\"],[0.4444444444444444,\"#bd3786\"],[0.5555555555555556,\"#d8576b\"],[0.6666666666666666,\"#ed7953\"],[0.7777777777777778,\"#fb9f3a\"],[0.8888888888888888,\"#fdca26\"],[1.0,\"#f0f921\"]],\"type\":\"surface\"}],\"table\":[{\"cells\":{\"fill\":{\"color\":\"#EBF0F8\"},\"line\":{\"color\":\"white\"}},\"header\":{\"fill\":{\"color\":\"#C8D4E3\"},\"line\":{\"color\":\"white\"}},\"type\":\"table\"}]},\"layout\":{\"annotationdefaults\":{\"arrowcolor\":\"#2a3f5f\",\"arrowhead\":0,\"arrowwidth\":1},\"autotypenumbers\":\"strict\",\"coloraxis\":{\"colorbar\":{\"outlinewidth\":0,\"ticks\":\"\"}},\"colorscale\":{\"diverging\":[[0,\"#8e0152\"],[0.1,\"#c51b7d\"],[0.2,\"#de77ae\"],[0.3,\"#f1b6da\"],[0.4,\"#fde0ef\"],[0.5,\"#f7f7f7\"],[0.6,\"#e6f5d0\"],[0.7,\"#b8e186\"],[0.8,\"#7fbc41\"],[0.9,\"#4d9221\"],[1,\"#276419\"]],\"sequential\":[[0.0,\"#0d0887\"],[0.1111111111111111,\"#46039f\"],[0.2222222222222222,\"#7201a8\"],[0.3333333333333333,\"#9c179e\"],[0.4444444444444444,\"#bd3786\"],[0.5555555555555556,\"#d8576b\"],[0.6666666666666666,\"#ed7953\"],[0.7777777777777778,\"#fb9f3a\"],[0.8888888888888888,\"#fdca26\"],[1.0,\"#f0f921\"]],\"sequentialminus\":[[0.0,\"#0d0887\"],[0.1111111111111111,\"#46039f\"],[0.2222222222222222,\"#7201a8\"],[0.3333333333333333,\"#9c179e\"],[0.4444444444444444,\"#bd3786\"],[0.5555555555555556,\"#d8576b\"],[0.6666666666666666,\"#ed7953\"],[0.7777777777777778,\"#fb9f3a\"],[0.8888888888888888,\"#fdca26\"],[1.0,\"#f0f921\"]]},\"colorway\":[\"#636efa\",\"#EF553B\",\"#00cc96\",\"#ab63fa\",\"#FFA15A\",\"#19d3f3\",\"#FF6692\",\"#B6E880\",\"#FF97FF\",\"#FECB52\"],\"font\":{\"color\":\"#2a3f5f\"},\"geo\":{\"bgcolor\":\"white\",\"lakecolor\":\"white\",\"landcolor\":\"white\",\"showlakes\":true,\"showland\":true,\"subunitcolor\":\"#C8D4E3\"},\"hoverlabel\":{\"align\":\"left\"},\"hovermode\":\"closest\",\"mapbox\":{\"style\":\"light\"},\"paper_bgcolor\":\"white\",\"plot_bgcolor\":\"white\",\"polar\":{\"angularaxis\":{\"gridcolor\":\"#EBF0F8\",\"linecolor\":\"#EBF0F8\",\"ticks\":\"\"},\"bgcolor\":\"white\",\"radialaxis\":{\"gridcolor\":\"#EBF0F8\",\"linecolor\":\"#EBF0F8\",\"ticks\":\"\"}},\"scene\":{\"xaxis\":{\"backgroundcolor\":\"white\",\"gridcolor\":\"#DFE8F3\",\"gridwidth\":2,\"linecolor\":\"#EBF0F8\",\"showbackground\":true,\"ticks\":\"\",\"zerolinecolor\":\"#EBF0F8\"},\"yaxis\":{\"backgroundcolor\":\"white\",\"gridcolor\":\"#DFE8F3\",\"gridwidth\":2,\"linecolor\":\"#EBF0F8\",\"showbackground\":true,\"ticks\":\"\",\"zerolinecolor\":\"#EBF0F8\"},\"zaxis\":{\"backgroundcolor\":\"white\",\"gridcolor\":\"#DFE8F3\",\"gridwidth\":2,\"linecolor\":\"#EBF0F8\",\"showbackground\":true,\"ticks\":\"\",\"zerolinecolor\":\"#EBF0F8\"}},\"shapedefaults\":{\"line\":{\"color\":\"#2a3f5f\"}},\"ternary\":{\"aaxis\":{\"gridcolor\":\"#DFE8F3\",\"linecolor\":\"#A2B1C6\",\"ticks\":\"\"},\"baxis\":{\"gridcolor\":\"#DFE8F3\",\"linecolor\":\"#A2B1C6\",\"ticks\":\"\"},\"bgcolor\":\"white\",\"caxis\":{\"gridcolor\":\"#DFE8F3\",\"linecolor\":\"#A2B1C6\",\"ticks\":\"\"}},\"title\":{\"x\":0.05},\"xaxis\":{\"automargin\":true,\"gridcolor\":\"#EBF0F8\",\"linecolor\":\"#EBF0F8\",\"ticks\":\"\",\"title\":{\"standoff\":15},\"zerolinecolor\":\"#EBF0F8\",\"zerolinewidth\":2},\"yaxis\":{\"automargin\":true,\"gridcolor\":\"#EBF0F8\",\"linecolor\":\"#EBF0F8\",\"ticks\":\"\",\"title\":{\"standoff\":15},\"zerolinecolor\":\"#EBF0F8\",\"zerolinewidth\":2}}},\"yaxis\":{\"title\":{\"text\":\"Median SPEI1\"},\"zeroline\":true,\"zerolinewidth\":1,\"zerolinecolor\":\"#D3D3D3\"},\"title\":{\"text\":\"Median 1 month SPEI Index, trends over time in Angola's Cabinda area in 1949\"},\"xaxis\":{\"title\":{\"text\":\"Months\"}},\"height\":500,\"plot_bgcolor\":\"rgba(0,0,0,0)\"},                        {\"responsive\": true}                    ).then(function(){\n",
       "                            \n",
       "var gd = document.getElementById('5ff98296-49a4-4d96-ae67-39ae21da89bd');\n",
       "var x = new MutationObserver(function (mutations, observer) {{\n",
       "        var display = window.getComputedStyle(gd).display;\n",
       "        if (!display || display === 'none') {{\n",
       "            console.log([gd, 'removed!']);\n",
       "            Plotly.purge(gd);\n",
       "            observer.disconnect();\n",
       "        }}\n",
       "}});\n",
       "\n",
       "// Listen for the removal of the full notebook cells\n",
       "var notebookContainer = gd.closest('#notebook-container');\n",
       "if (notebookContainer) {{\n",
       "    x.observe(notebookContainer, {childList: true});\n",
       "}}\n",
       "\n",
       "// Listen for the clearing of the current output cell\n",
       "var outputEl = gd.closest('.output');\n",
       "if (outputEl) {{\n",
       "    x.observe(outputEl, {childList: true});\n",
       "}}\n",
       "\n",
       "                        })                };                });            </script>        </div>"
      ]
     },
     "metadata": {},
     "output_type": "display_data"
    }
   ],
   "source": [
    "uti.create_linechart(stat_values, timescales, selected)"
   ]
  },
  {
   "cell_type": "code",
   "execution_count": 17,
   "id": "41b6c4b2-0620-4c8c-b0e6-9d078785dc6d",
   "metadata": {},
   "outputs": [
    {
     "data": {
      "application/vnd.jupyter.widget-view+json": {
       "model_id": "06a5ab373bf84a8badaa1c951fcce578",
       "version_major": 2,
       "version_minor": 0
      },
      "text/plain": [
       "Dropdown(description='Select a country:', index=5, options=('country...', 'Afghanistan', 'Albania', 'Algeria',…"
      ]
     },
     "metadata": {},
     "output_type": "display_data"
    },
    {
     "data": {
      "application/vnd.jupyter.widget-view+json": {
       "model_id": "c750a215e3da4f2ca12e492958dfc3fb",
       "version_major": 2,
       "version_minor": 0
      },
      "text/plain": [
       "Dropdown(description='And a subarea:', index=4, options=('subarea...', 'Bengo', 'Benguela', 'Bié', 'Cabinda', …"
      ]
     },
     "metadata": {},
     "output_type": "display_data"
    },
    {
     "data": {
      "application/vnd.jupyter.widget-view+json": {
       "model_id": "f0f3b98574004b9d8532b7a8a8191aa7",
       "version_major": 2,
       "version_minor": 0
      },
      "text/plain": [
       "Dropdown(description='Select a timescale:', index=1, options=('timescale...', '1 month', '3 months', '6 months…"
      ]
     },
     "metadata": {},
     "output_type": "display_data"
    },
    {
     "data": {
      "application/vnd.jupyter.widget-view+json": {
       "model_id": "d8d6dfbd650a4d908471308671433909",
       "version_major": 2,
       "version_minor": 0
      },
      "text/plain": [
       "SelectionRangeSlider(description='Select the year range:', index=(84, 84), options=('1940', '1941', '1942', '1…"
      ]
     },
     "metadata": {},
     "output_type": "display_data"
    },
    {
     "data": {
      "application/vnd.jupyter.widget-view+json": {
       "model_id": "a147c793cc294eefb2a505396af13de9",
       "version_major": 2,
       "version_minor": 0
      },
      "text/plain": [
       "Output(outputs=({'output_type': 'display_data', 'data': {'text/plain': '<IPython.lib.display.IFrame at 0x7f20b…"
      ]
     },
     "metadata": {},
     "output_type": "display_data"
    }
   ],
   "source": [
    "# Update existing selectors\n",
    "previous_selection = uti.read_json_to_dict('previous_selection.json')\n",
    "\n",
    "# Set up widgets with previous settings\n",
    "country_selector.value = previous_selection.get('country', placeholders['country'])\n",
    "subarea_selector.value = previous_selection.get('subarea', placeholders['subarea'])\n",
    "timescale_selector.value = previous_selection.get('timescale', placeholders['timescale'])\n",
    "\n",
    "# Add the new year selector to the display\n",
    "display(country_selector, subarea_selector, timescale_selector, year_range_selector, output_area)\n",
    "uti.save_selection(selected)"
   ]
  },
  {
   "cell_type": "code",
   "execution_count": 18,
   "id": "e205916c-730e-4cd5-9ea2-7037cfd7b75e",
   "metadata": {},
   "outputs": [
    {
     "name": "stdout",
     "output_type": "stream",
     "text": [
      "Country:  Angola\n",
      "Subarea:  Cabinda\n",
      "Month:  None\n",
      "Year:  None\n",
      "Year range:  ('2017', '2024')\n",
      "Timescale:  1 month \n",
      "\n",
      "Time values in the subset: 88\n",
      "Latitude values in the subset: 70\n",
      "Longitude values in the subset: 72 \n",
      "\n",
      "Data sample:  [[-9999. -9999. -9999. -9999. -9999.]\n",
      " [-9999. -9999. -9999. -9999. -9999.]\n",
      " [-9999. -9999. -9999. -9999. -9999.]\n",
      " [-9999. -9999. -9999. -9999. -9999.]\n",
      " [-9999. -9999. -9999. -9999. -9999.]]\n"
     ]
    }
   ],
   "source": [
    "uti.display_data_details(selected, subset[index])"
   ]
  },
  {
   "cell_type": "code",
   "execution_count": 19,
   "id": "765633ff-786a-4834-afa1-7680c850f052",
   "metadata": {},
   "outputs": [
    {
     "name": "stdout",
     "output_type": "stream",
     "text": [
      "<xarray.DataArray 'SPEI1' (time: 86, lat: 70, lon: 72)>\n",
      "dask.array<getitem, shape=(86, 70, 72), dtype=float64, chunksize=(1, 70, 72), chunktype=numpy.ndarray>\n",
      "Coordinates:\n",
      "  * time     (time) datetime64[ns] 2017-12-01T06:00:00 ... 2024-01-01T06:00:00\n",
      "  * lon      (lon) float64 -6.0 -5.75 -5.5 -5.25 -5.0 ... 11.0 11.25 11.5 11.75\n",
      "  * lat      (lat) float64 -4.25 -4.0 -3.75 -3.5 -3.25 ... 12.25 12.5 12.75 13.0\n",
      "Attributes:\n",
      "    long_name:  Standardized Drought Index (SPEI1)\n",
      "    units:      - \n",
      "\n",
      "Change summary:\n",
      "invalid_values_replaced 208208\n",
      "invalid_ratio 0.46944444444444444\n",
      "duplicates_removed 2\n",
      "cftime_conversions 4\n"
     ]
    }
   ],
   "source": [
    "processed_subset, change_summary = uti.process_datarray(subset[index])\n",
    "print(processed_subset, '\\n')\n",
    "print('Change summary:')\n",
    "for key, val in change_summary.items():\n",
    "    print(key, val)"
   ]
  },
  {
   "cell_type": "code",
   "execution_count": 20,
   "id": "66fe84d2-44d0-4c41-b5bf-ed0fe1f51a96",
   "metadata": {},
   "outputs": [],
   "source": [
    "stat_values = uti.compute_stats(processed_subset)"
   ]
  },
  {
   "cell_type": "code",
   "execution_count": 21,
   "id": "8b4b21cc-d97f-4aa1-9d91-bb1ed4cd2093",
   "metadata": {},
   "outputs": [
    {
     "data": {
      "application/vnd.plotly.v1+json": {
       "config": {
        "plotlyServerURL": "https://plot.ly"
       },
       "data": [
        {
         "hoverinfo": "text",
         "hovertext": [
          "January 2017, median: 0.04",
          "February 2017, median: -0.92",
          "March 2017, median: -0.79",
          "April 2017, median: -0.49",
          "May 2017, median: 0.16",
          "June 2017, median: 1.12",
          "July 2017, median: -0.40",
          "August 2017, median: -0.16",
          "September 2017, median: -0.15",
          "October 2017, median: -1.39",
          "November 2017, median: -0.30",
          "December 2017, median: -0.23",
          "January 2018, median: -0.72",
          "February 2018, median: 1.18",
          "March 2018, median: 0.31",
          "April 2018, median: -0.40",
          "May 2018, median: -0.11",
          "June 2018, median: 0.47",
          "July 2018, median: 0.31",
          "August 2018, median: 0.39",
          "September 2018, median: 0.50",
          "October 2018, median: 0.17",
          "November 2018, median: 0.19",
          "December 2018, median: -0.67",
          "January 2019, median: 0.51",
          "February 2019, median: 0.56",
          "March 2019, median: 0.06",
          "April 2019, median: -0.46",
          "May 2019, median: 0.57",
          "June 2019, median: -0.07",
          "July 2019, median: 0.58",
          "August 2019, median: -0.18",
          "September 2019, median: 0.27",
          "October 2019, median: 2.10",
          "November 2019, median: 0.82",
          "December 2019, median: -0.15",
          "January 2020, median: -0.93",
          "February 2020, median: -1.52",
          "March 2020, median: 0.43",
          "April 2020, median: -0.82",
          "May 2020, median: -0.91",
          "June 2020, median: -0.92",
          "July 2020, median: 0.32",
          "August 2020, median: -1.15",
          "September 2020, median: 0.76",
          "October 2020, median: -0.05",
          "November 2020, median: -1.10",
          "December 2020, median: 0.40",
          "January 2021, median: -0.48",
          "February 2021, median: -0.48",
          "March 2021, median: -0.19",
          "April 2021, median: -1.67",
          "May 2021, median: -2.26",
          "June 2021, median: -0.90",
          "July 2021, median: -0.70",
          "August 2021, median: 0.64",
          "September 2021, median: -0.49",
          "October 2021, median: -0.79",
          "November 2021, median: 0.02",
          "December 2021, median: -1.22",
          "January 2022, median: -1.22",
          "February 2022, median: -0.64",
          "March 2022, median: -0.69",
          "April 2022, median: -0.21",
          "May 2022, median: -1.17",
          "June 2022, median: 0.01",
          "July 2022, median: -0.41",
          "August 2022, median: 0.05",
          "September 2022, median: 0.71",
          "October 2022, median: -0.40",
          "November 2022, median: -1.02",
          "December 2022, median: -0.60",
          "January 2023, median: -0.06",
          "February 2023, median: -0.79",
          "March 2023, median: 0.40",
          "April 2023, median: -0.73",
          "May 2023, median: -1.21",
          "June 2023, median: -0.04",
          "July 2023, median: -0.67",
          "August 2023, median: 0.05",
          "September 2023, median: -0.52",
          "October 2023, median: -0.19",
          "November 2023, median: 0.73",
          "December 2023, median: -0.66",
          "January 2024, median: -0.66",
          "February 2024, median: -0.73"
         ],
         "marker": {
          "color": [
           "#ACD1E5",
           "#F7BB9F",
           "#F7BB9F",
           "#F7BB9F",
           "#ACD1E5",
           "#61A5CE",
           "#F7BB9F",
           "#F7BB9F",
           "#F7BB9F",
           "#D96C59",
           "#F7BB9F",
           "#F7BB9F",
           "#F7BB9F",
           "#61A5CE",
           "#ACD1E5",
           "#F7BB9F",
           "#F7BB9F",
           "#ACD1E5",
           "#ACD1E5",
           "#ACD1E5",
           "#ACD1E5",
           "#ACD1E5",
           "#ACD1E5",
           "#F7BB9F",
           "#ACD1E5",
           "#ACD1E5",
           "#ACD1E5",
           "#F7BB9F",
           "#ACD1E5",
           "#F7BB9F",
           "#ACD1E5",
           "#F7BB9F",
           "#ACD1E5",
           "#064A78",
           "#ACD1E5",
           "#F7BB9F",
           "#F7BB9F",
           "#AF2331",
           "#ACD1E5",
           "#F7BB9F",
           "#F7BB9F",
           "#F7BB9F",
           "#ACD1E5",
           "#D96C59",
           "#ACD1E5",
           "#F7BB9F",
           "#D96C59",
           "#ACD1E5",
           "#F7BB9F",
           "#F7BB9F",
           "#F7BB9F",
           "#AF2331",
           "#681824",
           "#F7BB9F",
           "#F7BB9F",
           "#ACD1E5",
           "#F7BB9F",
           "#F7BB9F",
           "#ACD1E5",
           "#D96C59",
           "#D96C59",
           "#F7BB9F",
           "#F7BB9F",
           "#F7BB9F",
           "#D96C59",
           "#ACD1E5",
           "#F7BB9F",
           "#ACD1E5",
           "#ACD1E5",
           "#F7BB9F",
           "#D96C59",
           "#F7BB9F",
           "#F7BB9F",
           "#F7BB9F",
           "#ACD1E5",
           "#F7BB9F",
           "#D96C59",
           "#F7BB9F",
           "#F7BB9F",
           "#ACD1E5",
           "#F7BB9F",
           "#F7BB9F",
           "#ACD1E5",
           "#F7BB9F",
           "#F7BB9F",
           "#F7BB9F"
          ]
         },
         "orientation": "v",
         "type": "bar",
         "width": 1,
         "x": [
          "2017-01",
          "2017-02",
          "2017-03",
          "2017-04",
          "2017-05",
          "2017-06",
          "2017-07",
          "2017-08",
          "2017-09",
          "2017-10",
          "2017-11",
          "2017-12",
          "2018-01",
          "2018-02",
          "2018-03",
          "2018-04",
          "2018-05",
          "2018-06",
          "2018-07",
          "2018-08",
          "2018-09",
          "2018-10",
          "2018-11",
          "2018-12",
          "2019-01",
          "2019-02",
          "2019-03",
          "2019-04",
          "2019-05",
          "2019-06",
          "2019-07",
          "2019-08",
          "2019-09",
          "2019-10",
          "2019-11",
          "2019-12",
          "2020-01",
          "2020-02",
          "2020-03",
          "2020-04",
          "2020-05",
          "2020-06",
          "2020-07",
          "2020-08",
          "2020-09",
          "2020-10",
          "2020-11",
          "2020-12",
          "2021-01",
          "2021-02",
          "2021-03",
          "2021-04",
          "2021-05",
          "2021-06",
          "2021-07",
          "2021-08",
          "2021-09",
          "2021-10",
          "2021-11",
          "2021-12",
          "2022-01",
          "2022-02",
          "2022-03",
          "2022-04",
          "2022-05",
          "2022-06",
          "2022-07",
          "2022-08",
          "2022-09",
          "2022-10",
          "2022-11",
          "2022-12",
          "2023-01",
          "2023-02",
          "2023-03",
          "2023-04",
          "2023-05",
          "2023-06",
          "2023-07",
          "2023-08",
          "2023-09",
          "2023-10",
          "2023-11",
          "2023-12",
          "2024-01",
          "2024-02"
         ],
         "y": [
          1,
          1,
          1,
          1,
          1,
          1,
          1,
          1,
          1,
          1,
          1,
          1,
          1,
          1,
          1,
          1,
          1,
          1,
          1,
          1,
          1,
          1,
          1,
          1,
          1,
          1,
          1,
          1,
          1,
          1,
          1,
          1,
          1,
          1,
          1,
          1,
          1,
          1,
          1,
          1,
          1,
          1,
          1,
          1,
          1,
          1,
          1,
          1,
          1,
          1,
          1,
          1,
          1,
          1,
          1,
          1,
          1,
          1,
          1,
          1,
          1,
          1,
          1,
          1,
          1,
          1,
          1,
          1,
          1,
          1,
          1,
          1,
          1,
          1,
          1,
          1,
          1,
          1,
          1,
          1,
          1,
          1,
          1,
          1,
          1,
          1
         ]
        }
       ],
       "layout": {
        "autosize": true,
        "plot_bgcolor": "rgba(0, 0, 0, 0)",
        "showlegend": false,
        "template": {
         "data": {
          "bar": [
           {
            "error_x": {
             "color": "#2a3f5f"
            },
            "error_y": {
             "color": "#2a3f5f"
            },
            "marker": {
             "line": {
              "color": "white",
              "width": 0.5
             },
             "pattern": {
              "fillmode": "overlay",
              "size": 10,
              "solidity": 0.2
             }
            },
            "type": "bar"
           }
          ],
          "barpolar": [
           {
            "marker": {
             "line": {
              "color": "white",
              "width": 0.5
             },
             "pattern": {
              "fillmode": "overlay",
              "size": 10,
              "solidity": 0.2
             }
            },
            "type": "barpolar"
           }
          ],
          "carpet": [
           {
            "aaxis": {
             "endlinecolor": "#2a3f5f",
             "gridcolor": "#C8D4E3",
             "linecolor": "#C8D4E3",
             "minorgridcolor": "#C8D4E3",
             "startlinecolor": "#2a3f5f"
            },
            "baxis": {
             "endlinecolor": "#2a3f5f",
             "gridcolor": "#C8D4E3",
             "linecolor": "#C8D4E3",
             "minorgridcolor": "#C8D4E3",
             "startlinecolor": "#2a3f5f"
            },
            "type": "carpet"
           }
          ],
          "choropleth": [
           {
            "colorbar": {
             "outlinewidth": 0,
             "ticks": ""
            },
            "type": "choropleth"
           }
          ],
          "contour": [
           {
            "colorbar": {
             "outlinewidth": 0,
             "ticks": ""
            },
            "colorscale": [
             [
              0,
              "#0d0887"
             ],
             [
              0.1111111111111111,
              "#46039f"
             ],
             [
              0.2222222222222222,
              "#7201a8"
             ],
             [
              0.3333333333333333,
              "#9c179e"
             ],
             [
              0.4444444444444444,
              "#bd3786"
             ],
             [
              0.5555555555555556,
              "#d8576b"
             ],
             [
              0.6666666666666666,
              "#ed7953"
             ],
             [
              0.7777777777777778,
              "#fb9f3a"
             ],
             [
              0.8888888888888888,
              "#fdca26"
             ],
             [
              1,
              "#f0f921"
             ]
            ],
            "type": "contour"
           }
          ],
          "contourcarpet": [
           {
            "colorbar": {
             "outlinewidth": 0,
             "ticks": ""
            },
            "type": "contourcarpet"
           }
          ],
          "heatmap": [
           {
            "colorbar": {
             "outlinewidth": 0,
             "ticks": ""
            },
            "colorscale": [
             [
              0,
              "#0d0887"
             ],
             [
              0.1111111111111111,
              "#46039f"
             ],
             [
              0.2222222222222222,
              "#7201a8"
             ],
             [
              0.3333333333333333,
              "#9c179e"
             ],
             [
              0.4444444444444444,
              "#bd3786"
             ],
             [
              0.5555555555555556,
              "#d8576b"
             ],
             [
              0.6666666666666666,
              "#ed7953"
             ],
             [
              0.7777777777777778,
              "#fb9f3a"
             ],
             [
              0.8888888888888888,
              "#fdca26"
             ],
             [
              1,
              "#f0f921"
             ]
            ],
            "type": "heatmap"
           }
          ],
          "heatmapgl": [
           {
            "colorbar": {
             "outlinewidth": 0,
             "ticks": ""
            },
            "colorscale": [
             [
              0,
              "#0d0887"
             ],
             [
              0.1111111111111111,
              "#46039f"
             ],
             [
              0.2222222222222222,
              "#7201a8"
             ],
             [
              0.3333333333333333,
              "#9c179e"
             ],
             [
              0.4444444444444444,
              "#bd3786"
             ],
             [
              0.5555555555555556,
              "#d8576b"
             ],
             [
              0.6666666666666666,
              "#ed7953"
             ],
             [
              0.7777777777777778,
              "#fb9f3a"
             ],
             [
              0.8888888888888888,
              "#fdca26"
             ],
             [
              1,
              "#f0f921"
             ]
            ],
            "type": "heatmapgl"
           }
          ],
          "histogram": [
           {
            "marker": {
             "pattern": {
              "fillmode": "overlay",
              "size": 10,
              "solidity": 0.2
             }
            },
            "type": "histogram"
           }
          ],
          "histogram2d": [
           {
            "colorbar": {
             "outlinewidth": 0,
             "ticks": ""
            },
            "colorscale": [
             [
              0,
              "#0d0887"
             ],
             [
              0.1111111111111111,
              "#46039f"
             ],
             [
              0.2222222222222222,
              "#7201a8"
             ],
             [
              0.3333333333333333,
              "#9c179e"
             ],
             [
              0.4444444444444444,
              "#bd3786"
             ],
             [
              0.5555555555555556,
              "#d8576b"
             ],
             [
              0.6666666666666666,
              "#ed7953"
             ],
             [
              0.7777777777777778,
              "#fb9f3a"
             ],
             [
              0.8888888888888888,
              "#fdca26"
             ],
             [
              1,
              "#f0f921"
             ]
            ],
            "type": "histogram2d"
           }
          ],
          "histogram2dcontour": [
           {
            "colorbar": {
             "outlinewidth": 0,
             "ticks": ""
            },
            "colorscale": [
             [
              0,
              "#0d0887"
             ],
             [
              0.1111111111111111,
              "#46039f"
             ],
             [
              0.2222222222222222,
              "#7201a8"
             ],
             [
              0.3333333333333333,
              "#9c179e"
             ],
             [
              0.4444444444444444,
              "#bd3786"
             ],
             [
              0.5555555555555556,
              "#d8576b"
             ],
             [
              0.6666666666666666,
              "#ed7953"
             ],
             [
              0.7777777777777778,
              "#fb9f3a"
             ],
             [
              0.8888888888888888,
              "#fdca26"
             ],
             [
              1,
              "#f0f921"
             ]
            ],
            "type": "histogram2dcontour"
           }
          ],
          "mesh3d": [
           {
            "colorbar": {
             "outlinewidth": 0,
             "ticks": ""
            },
            "type": "mesh3d"
           }
          ],
          "parcoords": [
           {
            "line": {
             "colorbar": {
              "outlinewidth": 0,
              "ticks": ""
             }
            },
            "type": "parcoords"
           }
          ],
          "pie": [
           {
            "automargin": true,
            "type": "pie"
           }
          ],
          "scatter": [
           {
            "fillpattern": {
             "fillmode": "overlay",
             "size": 10,
             "solidity": 0.2
            },
            "type": "scatter"
           }
          ],
          "scatter3d": [
           {
            "line": {
             "colorbar": {
              "outlinewidth": 0,
              "ticks": ""
             }
            },
            "marker": {
             "colorbar": {
              "outlinewidth": 0,
              "ticks": ""
             }
            },
            "type": "scatter3d"
           }
          ],
          "scattercarpet": [
           {
            "marker": {
             "colorbar": {
              "outlinewidth": 0,
              "ticks": ""
             }
            },
            "type": "scattercarpet"
           }
          ],
          "scattergeo": [
           {
            "marker": {
             "colorbar": {
              "outlinewidth": 0,
              "ticks": ""
             }
            },
            "type": "scattergeo"
           }
          ],
          "scattergl": [
           {
            "marker": {
             "colorbar": {
              "outlinewidth": 0,
              "ticks": ""
             }
            },
            "type": "scattergl"
           }
          ],
          "scattermapbox": [
           {
            "marker": {
             "colorbar": {
              "outlinewidth": 0,
              "ticks": ""
             }
            },
            "type": "scattermapbox"
           }
          ],
          "scatterpolar": [
           {
            "marker": {
             "colorbar": {
              "outlinewidth": 0,
              "ticks": ""
             }
            },
            "type": "scatterpolar"
           }
          ],
          "scatterpolargl": [
           {
            "marker": {
             "colorbar": {
              "outlinewidth": 0,
              "ticks": ""
             }
            },
            "type": "scatterpolargl"
           }
          ],
          "scatterternary": [
           {
            "marker": {
             "colorbar": {
              "outlinewidth": 0,
              "ticks": ""
             }
            },
            "type": "scatterternary"
           }
          ],
          "surface": [
           {
            "colorbar": {
             "outlinewidth": 0,
             "ticks": ""
            },
            "colorscale": [
             [
              0,
              "#0d0887"
             ],
             [
              0.1111111111111111,
              "#46039f"
             ],
             [
              0.2222222222222222,
              "#7201a8"
             ],
             [
              0.3333333333333333,
              "#9c179e"
             ],
             [
              0.4444444444444444,
              "#bd3786"
             ],
             [
              0.5555555555555556,
              "#d8576b"
             ],
             [
              0.6666666666666666,
              "#ed7953"
             ],
             [
              0.7777777777777778,
              "#fb9f3a"
             ],
             [
              0.8888888888888888,
              "#fdca26"
             ],
             [
              1,
              "#f0f921"
             ]
            ],
            "type": "surface"
           }
          ],
          "table": [
           {
            "cells": {
             "fill": {
              "color": "#EBF0F8"
             },
             "line": {
              "color": "white"
             }
            },
            "header": {
             "fill": {
              "color": "#C8D4E3"
             },
             "line": {
              "color": "white"
             }
            },
            "type": "table"
           }
          ]
         },
         "layout": {
          "annotationdefaults": {
           "arrowcolor": "#2a3f5f",
           "arrowhead": 0,
           "arrowwidth": 1
          },
          "autotypenumbers": "strict",
          "coloraxis": {
           "colorbar": {
            "outlinewidth": 0,
            "ticks": ""
           }
          },
          "colorscale": {
           "diverging": [
            [
             0,
             "#8e0152"
            ],
            [
             0.1,
             "#c51b7d"
            ],
            [
             0.2,
             "#de77ae"
            ],
            [
             0.3,
             "#f1b6da"
            ],
            [
             0.4,
             "#fde0ef"
            ],
            [
             0.5,
             "#f7f7f7"
            ],
            [
             0.6,
             "#e6f5d0"
            ],
            [
             0.7,
             "#b8e186"
            ],
            [
             0.8,
             "#7fbc41"
            ],
            [
             0.9,
             "#4d9221"
            ],
            [
             1,
             "#276419"
            ]
           ],
           "sequential": [
            [
             0,
             "#0d0887"
            ],
            [
             0.1111111111111111,
             "#46039f"
            ],
            [
             0.2222222222222222,
             "#7201a8"
            ],
            [
             0.3333333333333333,
             "#9c179e"
            ],
            [
             0.4444444444444444,
             "#bd3786"
            ],
            [
             0.5555555555555556,
             "#d8576b"
            ],
            [
             0.6666666666666666,
             "#ed7953"
            ],
            [
             0.7777777777777778,
             "#fb9f3a"
            ],
            [
             0.8888888888888888,
             "#fdca26"
            ],
            [
             1,
             "#f0f921"
            ]
           ],
           "sequentialminus": [
            [
             0,
             "#0d0887"
            ],
            [
             0.1111111111111111,
             "#46039f"
            ],
            [
             0.2222222222222222,
             "#7201a8"
            ],
            [
             0.3333333333333333,
             "#9c179e"
            ],
            [
             0.4444444444444444,
             "#bd3786"
            ],
            [
             0.5555555555555556,
             "#d8576b"
            ],
            [
             0.6666666666666666,
             "#ed7953"
            ],
            [
             0.7777777777777778,
             "#fb9f3a"
            ],
            [
             0.8888888888888888,
             "#fdca26"
            ],
            [
             1,
             "#f0f921"
            ]
           ]
          },
          "colorway": [
           "#636efa",
           "#EF553B",
           "#00cc96",
           "#ab63fa",
           "#FFA15A",
           "#19d3f3",
           "#FF6692",
           "#B6E880",
           "#FF97FF",
           "#FECB52"
          ],
          "font": {
           "color": "#2a3f5f"
          },
          "geo": {
           "bgcolor": "white",
           "lakecolor": "white",
           "landcolor": "white",
           "showlakes": true,
           "showland": true,
           "subunitcolor": "#C8D4E3"
          },
          "hoverlabel": {
           "align": "left"
          },
          "hovermode": "closest",
          "mapbox": {
           "style": "light"
          },
          "paper_bgcolor": "white",
          "plot_bgcolor": "white",
          "polar": {
           "angularaxis": {
            "gridcolor": "#EBF0F8",
            "linecolor": "#EBF0F8",
            "ticks": ""
           },
           "bgcolor": "white",
           "radialaxis": {
            "gridcolor": "#EBF0F8",
            "linecolor": "#EBF0F8",
            "ticks": ""
           }
          },
          "scene": {
           "xaxis": {
            "backgroundcolor": "white",
            "gridcolor": "#DFE8F3",
            "gridwidth": 2,
            "linecolor": "#EBF0F8",
            "showbackground": true,
            "ticks": "",
            "zerolinecolor": "#EBF0F8"
           },
           "yaxis": {
            "backgroundcolor": "white",
            "gridcolor": "#DFE8F3",
            "gridwidth": 2,
            "linecolor": "#EBF0F8",
            "showbackground": true,
            "ticks": "",
            "zerolinecolor": "#EBF0F8"
           },
           "zaxis": {
            "backgroundcolor": "white",
            "gridcolor": "#DFE8F3",
            "gridwidth": 2,
            "linecolor": "#EBF0F8",
            "showbackground": true,
            "ticks": "",
            "zerolinecolor": "#EBF0F8"
           }
          },
          "shapedefaults": {
           "line": {
            "color": "#2a3f5f"
           }
          },
          "ternary": {
           "aaxis": {
            "gridcolor": "#DFE8F3",
            "linecolor": "#A2B1C6",
            "ticks": ""
           },
           "baxis": {
            "gridcolor": "#DFE8F3",
            "linecolor": "#A2B1C6",
            "ticks": ""
           },
           "bgcolor": "white",
           "caxis": {
            "gridcolor": "#DFE8F3",
            "linecolor": "#A2B1C6",
            "ticks": ""
           }
          },
          "title": {
           "x": 0.05
          },
          "xaxis": {
           "automargin": true,
           "gridcolor": "#EBF0F8",
           "linecolor": "#EBF0F8",
           "ticks": "",
           "title": {
            "standoff": 15
           },
           "zerolinecolor": "#EBF0F8",
           "zerolinewidth": 2
          },
          "yaxis": {
           "automargin": true,
           "gridcolor": "#EBF0F8",
           "linecolor": "#EBF0F8",
           "ticks": "",
           "title": {
            "standoff": 15
           },
           "zerolinecolor": "#EBF0F8",
           "zerolinewidth": 2
          }
         }
        },
        "title": {
         "text": "Median 1 month SPEI Index, trends over time in Angola's Cabinda area from 2017 to 2024"
        },
        "xaxis": {
         "autorange": true,
         "range": [
          -0.5,
          85.5
         ],
         "tickangle": 0,
         "tickmode": "array",
         "ticktext": [
          "2017",
          "",
          "",
          "",
          "",
          "",
          "",
          "",
          "",
          "",
          "",
          "",
          "",
          "",
          "",
          "",
          "",
          "",
          "",
          "",
          "",
          "",
          "",
          "",
          "",
          "",
          "",
          "",
          "",
          "",
          "",
          "",
          "",
          "",
          "",
          "",
          "2020",
          "",
          "",
          "",
          "",
          "",
          "",
          "",
          "",
          "",
          "",
          "",
          "",
          "",
          "",
          "",
          "",
          "",
          "",
          "",
          "",
          "",
          "",
          "",
          "",
          "",
          "",
          "",
          "",
          "",
          "",
          "",
          "",
          "",
          "",
          "",
          "2023",
          "",
          "",
          "",
          "",
          "",
          "",
          "",
          "",
          "",
          "",
          "",
          "",
          ""
         ],
         "tickvals": [
          "2017-01",
          "2017-02",
          "2017-03",
          "2017-04",
          "2017-05",
          "2017-06",
          "2017-07",
          "2017-08",
          "2017-09",
          "2017-10",
          "2017-11",
          "2017-12",
          "2018-01",
          "2018-02",
          "2018-03",
          "2018-04",
          "2018-05",
          "2018-06",
          "2018-07",
          "2018-08",
          "2018-09",
          "2018-10",
          "2018-11",
          "2018-12",
          "2019-01",
          "2019-02",
          "2019-03",
          "2019-04",
          "2019-05",
          "2019-06",
          "2019-07",
          "2019-08",
          "2019-09",
          "2019-10",
          "2019-11",
          "2019-12",
          "2020-01",
          "2020-02",
          "2020-03",
          "2020-04",
          "2020-05",
          "2020-06",
          "2020-07",
          "2020-08",
          "2020-09",
          "2020-10",
          "2020-11",
          "2020-12",
          "2021-01",
          "2021-02",
          "2021-03",
          "2021-04",
          "2021-05",
          "2021-06",
          "2021-07",
          "2021-08",
          "2021-09",
          "2021-10",
          "2021-11",
          "2021-12",
          "2022-01",
          "2022-02",
          "2022-03",
          "2022-04",
          "2022-05",
          "2022-06",
          "2022-07",
          "2022-08",
          "2022-09",
          "2022-10",
          "2022-11",
          "2022-12",
          "2023-01",
          "2023-02",
          "2023-03",
          "2023-04",
          "2023-05",
          "2023-06",
          "2023-07",
          "2023-08",
          "2023-09",
          "2023-10",
          "2023-11",
          "2023-12",
          "2024-01",
          "2024-02"
         ],
         "title": {
          "text": "Years"
         },
         "type": "category"
        },
        "yaxis": {
         "autorange": true,
         "range": [
          0,
          1.0526315789473684
         ],
         "showgrid": false,
         "showticklabels": false,
         "title": {
          "text": "Median SPEI1"
         },
         "type": "linear",
         "visible": false,
         "zeroline": false
        }
       }
      },
      "image/png": "[encoded data removed]",
      "text/html": [
       "<div>                            <div id=\"71bc86d0-9342-4761-a302-060b25d768b2\" class=\"plotly-graph-div\" style=\"height:500px; width:100%;\"></div>            <script type=\"text/javascript\">                require([\"plotly\"], function(Plotly) {                    window.PLOTLYENV=window.PLOTLYENV || {};                                    if (document.getElementById(\"71bc86d0-9342-4761-a302-060b25d768b2\")) {                    Plotly.newPlot(                        \"71bc86d0-9342-4761-a302-060b25d768b2\",                        [{\"hoverinfo\":\"text\",\"hovertext\":[\"January 2017, median: 0.04\",\"February 2017, median: -0.92\",\"March 2017, median: -0.79\",\"April 2017, median: -0.49\",\"May 2017, median: 0.16\",\"June 2017, median: 1.12\",\"July 2017, median: -0.40\",\"August 2017, median: -0.16\",\"September 2017, median: -0.15\",\"October 2017, median: -1.39\",\"November 2017, median: -0.30\",\"December 2017, median: -0.23\",\"January 2018, median: -0.72\",\"February 2018, median: 1.18\",\"March 2018, median: 0.31\",\"April 2018, median: -0.40\",\"May 2018, median: -0.11\",\"June 2018, median: 0.47\",\"July 2018, median: 0.31\",\"August 2018, median: 0.39\",\"September 2018, median: 0.50\",\"October 2018, median: 0.17\",\"November 2018, median: 0.19\",\"December 2018, median: -0.67\",\"January 2019, median: 0.51\",\"February 2019, median: 0.56\",\"March 2019, median: 0.06\",\"April 2019, median: -0.46\",\"May 2019, median: 0.57\",\"June 2019, median: -0.07\",\"July 2019, median: 0.58\",\"August 2019, median: -0.18\",\"September 2019, median: 0.27\",\"October 2019, median: 2.10\",\"November 2019, median: 0.82\",\"December 2019, median: -0.15\",\"January 2020, median: -0.93\",\"February 2020, median: -1.52\",\"March 2020, median: 0.43\",\"April 2020, median: -0.82\",\"May 2020, median: -0.91\",\"June 2020, median: -0.92\",\"July 2020, median: 0.32\",\"August 2020, median: -1.15\",\"September 2020, median: 0.76\",\"October 2020, median: -0.05\",\"November 2020, median: -1.10\",\"December 2020, median: 0.40\",\"January 2021, median: -0.48\",\"February 2021, median: -0.48\",\"March 2021, median: -0.19\",\"April 2021, median: -1.67\",\"May 2021, median: -2.26\",\"June 2021, median: -0.90\",\"July 2021, median: -0.70\",\"August 2021, median: 0.64\",\"September 2021, median: -0.49\",\"October 2021, median: -0.79\",\"November 2021, median: 0.02\",\"December 2021, median: -1.22\",\"January 2022, median: -1.22\",\"February 2022, median: -0.64\",\"March 2022, median: -0.69\",\"April 2022, median: -0.21\",\"May 2022, median: -1.17\",\"June 2022, median: 0.01\",\"July 2022, median: -0.41\",\"August 2022, median: 0.05\",\"September 2022, median: 0.71\",\"October 2022, median: -0.40\",\"November 2022, median: -1.02\",\"December 2022, median: -0.60\",\"January 2023, median: -0.06\",\"February 2023, median: -0.79\",\"March 2023, median: 0.40\",\"April 2023, median: -0.73\",\"May 2023, median: -1.21\",\"June 2023, median: -0.04\",\"July 2023, median: -0.67\",\"August 2023, median: 0.05\",\"September 2023, median: -0.52\",\"October 2023, median: -0.19\",\"November 2023, median: 0.73\",\"December 2023, median: -0.66\",\"January 2024, median: -0.66\",\"February 2024, median: -0.73\"],\"marker\":{\"color\":[\"#ACD1E5\",\"#F7BB9F\",\"#F7BB9F\",\"#F7BB9F\",\"#ACD1E5\",\"#61A5CE\",\"#F7BB9F\",\"#F7BB9F\",\"#F7BB9F\",\"#D96C59\",\"#F7BB9F\",\"#F7BB9F\",\"#F7BB9F\",\"#61A5CE\",\"#ACD1E5\",\"#F7BB9F\",\"#F7BB9F\",\"#ACD1E5\",\"#ACD1E5\",\"#ACD1E5\",\"#ACD1E5\",\"#ACD1E5\",\"#ACD1E5\",\"#F7BB9F\",\"#ACD1E5\",\"#ACD1E5\",\"#ACD1E5\",\"#F7BB9F\",\"#ACD1E5\",\"#F7BB9F\",\"#ACD1E5\",\"#F7BB9F\",\"#ACD1E5\",\"#064A78\",\"#ACD1E5\",\"#F7BB9F\",\"#F7BB9F\",\"#AF2331\",\"#ACD1E5\",\"#F7BB9F\",\"#F7BB9F\",\"#F7BB9F\",\"#ACD1E5\",\"#D96C59\",\"#ACD1E5\",\"#F7BB9F\",\"#D96C59\",\"#ACD1E5\",\"#F7BB9F\",\"#F7BB9F\",\"#F7BB9F\",\"#AF2331\",\"#681824\",\"#F7BB9F\",\"#F7BB9F\",\"#ACD1E5\",\"#F7BB9F\",\"#F7BB9F\",\"#ACD1E5\",\"#D96C59\",\"#D96C59\",\"#F7BB9F\",\"#F7BB9F\",\"#F7BB9F\",\"#D96C59\",\"#ACD1E5\",\"#F7BB9F\",\"#ACD1E5\",\"#ACD1E5\",\"#F7BB9F\",\"#D96C59\",\"#F7BB9F\",\"#F7BB9F\",\"#F7BB9F\",\"#ACD1E5\",\"#F7BB9F\",\"#D96C59\",\"#F7BB9F\",\"#F7BB9F\",\"#ACD1E5\",\"#F7BB9F\",\"#F7BB9F\",\"#ACD1E5\",\"#F7BB9F\",\"#F7BB9F\",\"#F7BB9F\"]},\"orientation\":\"v\",\"width\":1.0,\"x\":[\"2017-01\",\"2017-02\",\"2017-03\",\"2017-04\",\"2017-05\",\"2017-06\",\"2017-07\",\"2017-08\",\"2017-09\",\"2017-10\",\"2017-11\",\"2017-12\",\"2018-01\",\"2018-02\",\"2018-03\",\"2018-04\",\"2018-05\",\"2018-06\",\"2018-07\",\"2018-08\",\"2018-09\",\"2018-10\",\"2018-11\",\"2018-12\",\"2019-01\",\"2019-02\",\"2019-03\",\"2019-04\",\"2019-05\",\"2019-06\",\"2019-07\",\"2019-08\",\"2019-09\",\"2019-10\",\"2019-11\",\"2019-12\",\"2020-01\",\"2020-02\",\"2020-03\",\"2020-04\",\"2020-05\",\"2020-06\",\"2020-07\",\"2020-08\",\"2020-09\",\"2020-10\",\"2020-11\",\"2020-12\",\"2021-01\",\"2021-02\",\"2021-03\",\"2021-04\",\"2021-05\",\"2021-06\",\"2021-07\",\"2021-08\",\"2021-09\",\"2021-10\",\"2021-11\",\"2021-12\",\"2022-01\",\"2022-02\",\"2022-03\",\"2022-04\",\"2022-05\",\"2022-06\",\"2022-07\",\"2022-08\",\"2022-09\",\"2022-10\",\"2022-11\",\"2022-12\",\"2023-01\",\"2023-02\",\"2023-03\",\"2023-04\",\"2023-05\",\"2023-06\",\"2023-07\",\"2023-08\",\"2023-09\",\"2023-10\",\"2023-11\",\"2023-12\",\"2024-01\",\"2024-02\"],\"y\":[1,1,1,1,1,1,1,1,1,1,1,1,1,1,1,1,1,1,1,1,1,1,1,1,1,1,1,1,1,1,1,1,1,1,1,1,1,1,1,1,1,1,1,1,1,1,1,1,1,1,1,1,1,1,1,1,1,1,1,1,1,1,1,1,1,1,1,1,1,1,1,1,1,1,1,1,1,1,1,1,1,1,1,1,1,1],\"type\":\"bar\"}],                        {\"template\":{\"data\":{\"barpolar\":[{\"marker\":{\"line\":{\"color\":\"white\",\"width\":0.5},\"pattern\":{\"fillmode\":\"overlay\",\"size\":10,\"solidity\":0.2}},\"type\":\"barpolar\"}],\"bar\":[{\"error_x\":{\"color\":\"#2a3f5f\"},\"error_y\":{\"color\":\"#2a3f5f\"},\"marker\":{\"line\":{\"color\":\"white\",\"width\":0.5},\"pattern\":{\"fillmode\":\"overlay\",\"size\":10,\"solidity\":0.2}},\"type\":\"bar\"}],\"carpet\":[{\"aaxis\":{\"endlinecolor\":\"#2a3f5f\",\"gridcolor\":\"#C8D4E3\",\"linecolor\":\"#C8D4E3\",\"minorgridcolor\":\"#C8D4E3\",\"startlinecolor\":\"#2a3f5f\"},\"baxis\":{\"endlinecolor\":\"#2a3f5f\",\"gridcolor\":\"#C8D4E3\",\"linecolor\":\"#C8D4E3\",\"minorgridcolor\":\"#C8D4E3\",\"startlinecolor\":\"#2a3f5f\"},\"type\":\"carpet\"}],\"choropleth\":[{\"colorbar\":{\"outlinewidth\":0,\"ticks\":\"\"},\"type\":\"choropleth\"}],\"contourcarpet\":[{\"colorbar\":{\"outlinewidth\":0,\"ticks\":\"\"},\"type\":\"contourcarpet\"}],\"contour\":[{\"colorbar\":{\"outlinewidth\":0,\"ticks\":\"\"},\"colorscale\":[[0.0,\"#0d0887\"],[0.1111111111111111,\"#46039f\"],[0.2222222222222222,\"#7201a8\"],[0.3333333333333333,\"#9c179e\"],[0.4444444444444444,\"#bd3786\"],[0.5555555555555556,\"#d8576b\"],[0.6666666666666666,\"#ed7953\"],[0.7777777777777778,\"#fb9f3a\"],[0.8888888888888888,\"#fdca26\"],[1.0,\"#f0f921\"]],\"type\":\"contour\"}],\"heatmapgl\":[{\"colorbar\":{\"outlinewidth\":0,\"ticks\":\"\"},\"colorscale\":[[0.0,\"#0d0887\"],[0.1111111111111111,\"#46039f\"],[0.2222222222222222,\"#7201a8\"],[0.3333333333333333,\"#9c179e\"],[0.4444444444444444,\"#bd3786\"],[0.5555555555555556,\"#d8576b\"],[0.6666666666666666,\"#ed7953\"],[0.7777777777777778,\"#fb9f3a\"],[0.8888888888888888,\"#fdca26\"],[1.0,\"#f0f921\"]],\"type\":\"heatmapgl\"}],\"heatmap\":[{\"colorbar\":{\"outlinewidth\":0,\"ticks\":\"\"},\"colorscale\":[[0.0,\"#0d0887\"],[0.1111111111111111,\"#46039f\"],[0.2222222222222222,\"#7201a8\"],[0.3333333333333333,\"#9c179e\"],[0.4444444444444444,\"#bd3786\"],[0.5555555555555556,\"#d8576b\"],[0.6666666666666666,\"#ed7953\"],[0.7777777777777778,\"#fb9f3a\"],[0.8888888888888888,\"#fdca26\"],[1.0,\"#f0f921\"]],\"type\":\"heatmap\"}],\"histogram2dcontour\":[{\"colorbar\":{\"outlinewidth\":0,\"ticks\":\"\"},\"colorscale\":[[0.0,\"#0d0887\"],[0.1111111111111111,\"#46039f\"],[0.2222222222222222,\"#7201a8\"],[0.3333333333333333,\"#9c179e\"],[0.4444444444444444,\"#bd3786\"],[0.5555555555555556,\"#d8576b\"],[0.6666666666666666,\"#ed7953\"],[0.7777777777777778,\"#fb9f3a\"],[0.8888888888888888,\"#fdca26\"],[1.0,\"#f0f921\"]],\"type\":\"histogram2dcontour\"}],\"histogram2d\":[{\"colorbar\":{\"outlinewidth\":0,\"ticks\":\"\"},\"colorscale\":[[0.0,\"#0d0887\"],[0.1111111111111111,\"#46039f\"],[0.2222222222222222,\"#7201a8\"],[0.3333333333333333,\"#9c179e\"],[0.4444444444444444,\"#bd3786\"],[0.5555555555555556,\"#d8576b\"],[0.6666666666666666,\"#ed7953\"],[0.7777777777777778,\"#fb9f3a\"],[0.8888888888888888,\"#fdca26\"],[1.0,\"#f0f921\"]],\"type\":\"histogram2d\"}],\"histogram\":[{\"marker\":{\"pattern\":{\"fillmode\":\"overlay\",\"size\":10,\"solidity\":0.2}},\"type\":\"histogram\"}],\"mesh3d\":[{\"colorbar\":{\"outlinewidth\":0,\"ticks\":\"\"},\"type\":\"mesh3d\"}],\"parcoords\":[{\"line\":{\"colorbar\":{\"outlinewidth\":0,\"ticks\":\"\"}},\"type\":\"parcoords\"}],\"pie\":[{\"automargin\":true,\"type\":\"pie\"}],\"scatter3d\":[{\"line\":{\"colorbar\":{\"outlinewidth\":0,\"ticks\":\"\"}},\"marker\":{\"colorbar\":{\"outlinewidth\":0,\"ticks\":\"\"}},\"type\":\"scatter3d\"}],\"scattercarpet\":[{\"marker\":{\"colorbar\":{\"outlinewidth\":0,\"ticks\":\"\"}},\"type\":\"scattercarpet\"}],\"scattergeo\":[{\"marker\":{\"colorbar\":{\"outlinewidth\":0,\"ticks\":\"\"}},\"type\":\"scattergeo\"}],\"scattergl\":[{\"marker\":{\"colorbar\":{\"outlinewidth\":0,\"ticks\":\"\"}},\"type\":\"scattergl\"}],\"scattermapbox\":[{\"marker\":{\"colorbar\":{\"outlinewidth\":0,\"ticks\":\"\"}},\"type\":\"scattermapbox\"}],\"scatterpolargl\":[{\"marker\":{\"colorbar\":{\"outlinewidth\":0,\"ticks\":\"\"}},\"type\":\"scatterpolargl\"}],\"scatterpolar\":[{\"marker\":{\"colorbar\":{\"outlinewidth\":0,\"ticks\":\"\"}},\"type\":\"scatterpolar\"}],\"scatter\":[{\"fillpattern\":{\"fillmode\":\"overlay\",\"size\":10,\"solidity\":0.2},\"type\":\"scatter\"}],\"scatterternary\":[{\"marker\":{\"colorbar\":{\"outlinewidth\":0,\"ticks\":\"\"}},\"type\":\"scatterternary\"}],\"surface\":[{\"colorbar\":{\"outlinewidth\":0,\"ticks\":\"\"},\"colorscale\":[[0.0,\"#0d0887\"],[0.1111111111111111,\"#46039f\"],[0.2222222222222222,\"#7201a8\"],[0.3333333333333333,\"#9c179e\"],[0.4444444444444444,\"#bd3786\"],[0.5555555555555556,\"#d8576b\"],[0.6666666666666666,\"#ed7953\"],[0.7777777777777778,\"#fb9f3a\"],[0.8888888888888888,\"#fdca26\"],[1.0,\"#f0f921\"]],\"type\":\"surface\"}],\"table\":[{\"cells\":{\"fill\":{\"color\":\"#EBF0F8\"},\"line\":{\"color\":\"white\"}},\"header\":{\"fill\":{\"color\":\"#C8D4E3\"},\"line\":{\"color\":\"white\"}},\"type\":\"table\"}]},\"layout\":{\"annotationdefaults\":{\"arrowcolor\":\"#2a3f5f\",\"arrowhead\":0,\"arrowwidth\":1},\"autotypenumbers\":\"strict\",\"coloraxis\":{\"colorbar\":{\"outlinewidth\":0,\"ticks\":\"\"}},\"colorscale\":{\"diverging\":[[0,\"#8e0152\"],[0.1,\"#c51b7d\"],[0.2,\"#de77ae\"],[0.3,\"#f1b6da\"],[0.4,\"#fde0ef\"],[0.5,\"#f7f7f7\"],[0.6,\"#e6f5d0\"],[0.7,\"#b8e186\"],[0.8,\"#7fbc41\"],[0.9,\"#4d9221\"],[1,\"#276419\"]],\"sequential\":[[0.0,\"#0d0887\"],[0.1111111111111111,\"#46039f\"],[0.2222222222222222,\"#7201a8\"],[0.3333333333333333,\"#9c179e\"],[0.4444444444444444,\"#bd3786\"],[0.5555555555555556,\"#d8576b\"],[0.6666666666666666,\"#ed7953\"],[0.7777777777777778,\"#fb9f3a\"],[0.8888888888888888,\"#fdca26\"],[1.0,\"#f0f921\"]],\"sequentialminus\":[[0.0,\"#0d0887\"],[0.1111111111111111,\"#46039f\"],[0.2222222222222222,\"#7201a8\"],[0.3333333333333333,\"#9c179e\"],[0.4444444444444444,\"#bd3786\"],[0.5555555555555556,\"#d8576b\"],[0.6666666666666666,\"#ed7953\"],[0.7777777777777778,\"#fb9f3a\"],[0.8888888888888888,\"#fdca26\"],[1.0,\"#f0f921\"]]},\"colorway\":[\"#636efa\",\"#EF553B\",\"#00cc96\",\"#ab63fa\",\"#FFA15A\",\"#19d3f3\",\"#FF6692\",\"#B6E880\",\"#FF97FF\",\"#FECB52\"],\"font\":{\"color\":\"#2a3f5f\"},\"geo\":{\"bgcolor\":\"white\",\"lakecolor\":\"white\",\"landcolor\":\"white\",\"showlakes\":true,\"showland\":true,\"subunitcolor\":\"#C8D4E3\"},\"hoverlabel\":{\"align\":\"left\"},\"hovermode\":\"closest\",\"mapbox\":{\"style\":\"light\"},\"paper_bgcolor\":\"white\",\"plot_bgcolor\":\"white\",\"polar\":{\"angularaxis\":{\"gridcolor\":\"#EBF0F8\",\"linecolor\":\"#EBF0F8\",\"ticks\":\"\"},\"bgcolor\":\"white\",\"radialaxis\":{\"gridcolor\":\"#EBF0F8\",\"linecolor\":\"#EBF0F8\",\"ticks\":\"\"}},\"scene\":{\"xaxis\":{\"backgroundcolor\":\"white\",\"gridcolor\":\"#DFE8F3\",\"gridwidth\":2,\"linecolor\":\"#EBF0F8\",\"showbackground\":true,\"ticks\":\"\",\"zerolinecolor\":\"#EBF0F8\"},\"yaxis\":{\"backgroundcolor\":\"white\",\"gridcolor\":\"#DFE8F3\",\"gridwidth\":2,\"linecolor\":\"#EBF0F8\",\"showbackground\":true,\"ticks\":\"\",\"zerolinecolor\":\"#EBF0F8\"},\"zaxis\":{\"backgroundcolor\":\"white\",\"gridcolor\":\"#DFE8F3\",\"gridwidth\":2,\"linecolor\":\"#EBF0F8\",\"showbackground\":true,\"ticks\":\"\",\"zerolinecolor\":\"#EBF0F8\"}},\"shapedefaults\":{\"line\":{\"color\":\"#2a3f5f\"}},\"ternary\":{\"aaxis\":{\"gridcolor\":\"#DFE8F3\",\"linecolor\":\"#A2B1C6\",\"ticks\":\"\"},\"baxis\":{\"gridcolor\":\"#DFE8F3\",\"linecolor\":\"#A2B1C6\",\"ticks\":\"\"},\"bgcolor\":\"white\",\"caxis\":{\"gridcolor\":\"#DFE8F3\",\"linecolor\":\"#A2B1C6\",\"ticks\":\"\"}},\"title\":{\"x\":0.05},\"xaxis\":{\"automargin\":true,\"gridcolor\":\"#EBF0F8\",\"linecolor\":\"#EBF0F8\",\"ticks\":\"\",\"title\":{\"standoff\":15},\"zerolinecolor\":\"#EBF0F8\",\"zerolinewidth\":2},\"yaxis\":{\"automargin\":true,\"gridcolor\":\"#EBF0F8\",\"linecolor\":\"#EBF0F8\",\"ticks\":\"\",\"title\":{\"standoff\":15},\"zerolinecolor\":\"#EBF0F8\",\"zerolinewidth\":2}}},\"yaxis\":{\"title\":{\"text\":\"Median SPEI1\"},\"showticklabels\":false,\"showgrid\":false,\"zeroline\":false,\"visible\":false},\"xaxis\":{\"title\":{\"text\":\"Years\"},\"type\":\"category\",\"tickmode\":\"array\",\"tickvals\":[\"2017-01\",\"2017-02\",\"2017-03\",\"2017-04\",\"2017-05\",\"2017-06\",\"2017-07\",\"2017-08\",\"2017-09\",\"2017-10\",\"2017-11\",\"2017-12\",\"2018-01\",\"2018-02\",\"2018-03\",\"2018-04\",\"2018-05\",\"2018-06\",\"2018-07\",\"2018-08\",\"2018-09\",\"2018-10\",\"2018-11\",\"2018-12\",\"2019-01\",\"2019-02\",\"2019-03\",\"2019-04\",\"2019-05\",\"2019-06\",\"2019-07\",\"2019-08\",\"2019-09\",\"2019-10\",\"2019-11\",\"2019-12\",\"2020-01\",\"2020-02\",\"2020-03\",\"2020-04\",\"2020-05\",\"2020-06\",\"2020-07\",\"2020-08\",\"2020-09\",\"2020-10\",\"2020-11\",\"2020-12\",\"2021-01\",\"2021-02\",\"2021-03\",\"2021-04\",\"2021-05\",\"2021-06\",\"2021-07\",\"2021-08\",\"2021-09\",\"2021-10\",\"2021-11\",\"2021-12\",\"2022-01\",\"2022-02\",\"2022-03\",\"2022-04\",\"2022-05\",\"2022-06\",\"2022-07\",\"2022-08\",\"2022-09\",\"2022-10\",\"2022-11\",\"2022-12\",\"2023-01\",\"2023-02\",\"2023-03\",\"2023-04\",\"2023-05\",\"2023-06\",\"2023-07\",\"2023-08\",\"2023-09\",\"2023-10\",\"2023-11\",\"2023-12\",\"2024-01\",\"2024-02\"],\"ticktext\":[\"2017\",\"\",\"\",\"\",\"\",\"\",\"\",\"\",\"\",\"\",\"\",\"\",\"\",\"\",\"\",\"\",\"\",\"\",\"\",\"\",\"\",\"\",\"\",\"\",\"\",\"\",\"\",\"\",\"\",\"\",\"\",\"\",\"\",\"\",\"\",\"\",\"2020\",\"\",\"\",\"\",\"\",\"\",\"\",\"\",\"\",\"\",\"\",\"\",\"\",\"\",\"\",\"\",\"\",\"\",\"\",\"\",\"\",\"\",\"\",\"\",\"\",\"\",\"\",\"\",\"\",\"\",\"\",\"\",\"\",\"\",\"\",\"\",\"2023\",\"\",\"\",\"\",\"\",\"\",\"\",\"\",\"\",\"\",\"\",\"\",\"\",\"\"],\"tickangle\":0},\"title\":{\"text\":\"Median 1 month SPEI Index, trends over time in Angola's Cabinda area from 2017 to 2024\"},\"height\":500,\"plot_bgcolor\":\"rgba(0,0,0,0)\",\"showlegend\":false},                        {\"responsive\": true}                    ).then(function(){\n",
       "                            \n",
       "var gd = document.getElementById('71bc86d0-9342-4761-a302-060b25d768b2');\n",
       "var x = new MutationObserver(function (mutations, observer) {{\n",
       "        var display = window.getComputedStyle(gd).display;\n",
       "        if (!display || display === 'none') {{\n",
       "            console.log([gd, 'removed!']);\n",
       "            Plotly.purge(gd);\n",
       "            observer.disconnect();\n",
       "        }}\n",
       "}});\n",
       "\n",
       "// Listen for the removal of the full notebook cells\n",
       "var notebookContainer = gd.closest('#notebook-container');\n",
       "if (notebookContainer) {{\n",
       "    x.observe(notebookContainer, {childList: true});\n",
       "}}\n",
       "\n",
       "// Listen for the clearing of the current output cell\n",
       "var outputEl = gd.closest('.output');\n",
       "if (outputEl) {{\n",
       "    x.observe(outputEl, {childList: true});\n",
       "}}\n",
       "\n",
       "                        })                };                });            </script>        </div>"
      ]
     },
     "metadata": {},
     "output_type": "display_data"
    }
   ],
   "source": [
    "uti.create_stripechart(stat_values, timescales, selected, int(year_range_selector.value[0]), int(year_range_selector.value[1]))"
   ]
  },
  {
   "cell_type": "code",
   "execution_count": 22,
   "id": "bec3a084-60a8-4a95-ad8f-e38ca374362b",
   "metadata": {},
   "outputs": [
    {
     "data": {
      "application/vnd.plotly.v1+json": {
       "config": {
        "plotlyServerURL": "https://plot.ly"
       },
       "data": [
        {
         "hoverinfo": "text",
         "hovertext": [
          "January 2017, median: 0.04",
          "February 2017, median: -0.92",
          "March 2017, median: -0.79",
          "April 2017, median: -0.49",
          "May 2017, median: 0.16",
          "June 2017, median: 1.12",
          "July 2017, median: -0.40",
          "August 2017, median: -0.16",
          "September 2017, median: -0.15",
          "October 2017, median: -1.39",
          "November 2017, median: -0.30",
          "December 2017, median: -0.23",
          "January 2018, median: -0.72",
          "February 2018, median: 1.18",
          "March 2018, median: 0.31",
          "April 2018, median: -0.40",
          "May 2018, median: -0.11",
          "June 2018, median: 0.47",
          "July 2018, median: 0.31",
          "August 2018, median: 0.39",
          "September 2018, median: 0.50",
          "October 2018, median: 0.17",
          "November 2018, median: 0.19",
          "December 2018, median: -0.67",
          "January 2019, median: 0.51",
          "February 2019, median: 0.56",
          "March 2019, median: 0.06",
          "April 2019, median: -0.46",
          "May 2019, median: 0.57",
          "June 2019, median: -0.07",
          "July 2019, median: 0.58",
          "August 2019, median: -0.18",
          "September 2019, median: 0.27",
          "October 2019, median: 2.10",
          "November 2019, median: 0.82",
          "December 2019, median: -0.15",
          "January 2020, median: -0.93",
          "February 2020, median: -1.52",
          "March 2020, median: 0.43",
          "April 2020, median: -0.82",
          "May 2020, median: -0.91",
          "June 2020, median: -0.92",
          "July 2020, median: 0.32",
          "August 2020, median: -1.15",
          "September 2020, median: 0.76",
          "October 2020, median: -0.05",
          "November 2020, median: -1.10",
          "December 2020, median: 0.40",
          "January 2021, median: -0.48",
          "February 2021, median: -0.48",
          "March 2021, median: -0.19",
          "April 2021, median: -1.67",
          "May 2021, median: -2.26",
          "June 2021, median: -0.90",
          "July 2021, median: -0.70",
          "August 2021, median: 0.64",
          "September 2021, median: -0.49",
          "October 2021, median: -0.79",
          "November 2021, median: 0.02",
          "December 2021, median: -1.22",
          "January 2022, median: -1.22",
          "February 2022, median: -0.64",
          "March 2022, median: -0.69",
          "April 2022, median: -0.21",
          "May 2022, median: -1.17",
          "June 2022, median: 0.01",
          "July 2022, median: -0.41",
          "August 2022, median: 0.05",
          "September 2022, median: 0.71",
          "October 2022, median: -0.40",
          "November 2022, median: -1.02",
          "December 2022, median: -0.60",
          "January 2023, median: -0.06",
          "February 2023, median: -0.79",
          "March 2023, median: 0.40",
          "April 2023, median: -0.73",
          "May 2023, median: -1.21",
          "June 2023, median: -0.04",
          "July 2023, median: -0.67",
          "August 2023, median: 0.05",
          "September 2023, median: -0.52",
          "October 2023, median: -0.19",
          "November 2023, median: 0.73",
          "December 2023, median: -0.66",
          "January 2024, median: -0.66",
          "February 2024, median: -0.73"
         ],
         "marker": {
          "color": [
           "#ACD1E5",
           "#F7BB9F",
           "#F7BB9F",
           "#F7BB9F",
           "#ACD1E5",
           "#61A5CE",
           "#F7BB9F",
           "#F7BB9F",
           "#F7BB9F",
           "#D96C59",
           "#F7BB9F",
           "#F7BB9F",
           "#F7BB9F",
           "#61A5CE",
           "#ACD1E5",
           "#F7BB9F",
           "#F7BB9F",
           "#ACD1E5",
           "#ACD1E5",
           "#ACD1E5",
           "#ACD1E5",
           "#ACD1E5",
           "#ACD1E5",
           "#F7BB9F",
           "#ACD1E5",
           "#ACD1E5",
           "#ACD1E5",
           "#F7BB9F",
           "#ACD1E5",
           "#F7BB9F",
           "#ACD1E5",
           "#F7BB9F",
           "#ACD1E5",
           "#064A78",
           "#ACD1E5",
           "#F7BB9F",
           "#F7BB9F",
           "#AF2331",
           "#ACD1E5",
           "#F7BB9F",
           "#F7BB9F",
           "#F7BB9F",
           "#ACD1E5",
           "#D96C59",
           "#ACD1E5",
           "#F7BB9F",
           "#D96C59",
           "#ACD1E5",
           "#F7BB9F",
           "#F7BB9F",
           "#F7BB9F",
           "#AF2331",
           "#681824",
           "#F7BB9F",
           "#F7BB9F",
           "#ACD1E5",
           "#F7BB9F",
           "#F7BB9F",
           "#ACD1E5",
           "#D96C59",
           "#D96C59",
           "#F7BB9F",
           "#F7BB9F",
           "#F7BB9F",
           "#D96C59",
           "#ACD1E5",
           "#F7BB9F",
           "#ACD1E5",
           "#ACD1E5",
           "#F7BB9F",
           "#D96C59",
           "#F7BB9F",
           "#F7BB9F",
           "#F7BB9F",
           "#ACD1E5",
           "#F7BB9F",
           "#D96C59",
           "#F7BB9F",
           "#F7BB9F",
           "#ACD1E5",
           "#F7BB9F",
           "#F7BB9F",
           "#ACD1E5",
           "#F7BB9F",
           "#F7BB9F",
           "#F7BB9F"
          ]
         },
         "orientation": "v",
         "type": "bar",
         "width": 0.8,
         "x": [
          "2017",
          "2017",
          "2017",
          "2017",
          "2017",
          "2017",
          "2017",
          "2017",
          "2017",
          "2017",
          "2017",
          "2017",
          "2018",
          "2018",
          "2018",
          "2018",
          "2018",
          "2018",
          "2018",
          "2018",
          "2018",
          "2018",
          "2018",
          "2018",
          "2019",
          "2019",
          "2019",
          "2019",
          "2019",
          "2019",
          "2019",
          "2019",
          "2019",
          "2019",
          "2019",
          "2019",
          "2020",
          "2020",
          "2020",
          "2020",
          "2020",
          "2020",
          "2020",
          "2020",
          "2020",
          "2020",
          "2020",
          "2020",
          "2021",
          "2021",
          "2021",
          "2021",
          "2021",
          "2021",
          "2021",
          "2021",
          "2021",
          "2021",
          "2021",
          "2021",
          "2022",
          "2022",
          "2022",
          "2022",
          "2022",
          "2022",
          "2022",
          "2022",
          "2022",
          "2022",
          "2022",
          "2022",
          "2023",
          "2023",
          "2023",
          "2023",
          "2023",
          "2023",
          "2023",
          "2023",
          "2023",
          "2023",
          "2023",
          "2023",
          "2024",
          "2024"
         ],
         "y": [
          1,
          1,
          1,
          1,
          1,
          1,
          1,
          1,
          1,
          1,
          1,
          1,
          1,
          1,
          1,
          1,
          1,
          1,
          1,
          1,
          1,
          1,
          1,
          1,
          1,
          1,
          1,
          1,
          1,
          1,
          1,
          1,
          1,
          1,
          1,
          1,
          1,
          1,
          1,
          1,
          1,
          1,
          1,
          1,
          1,
          1,
          1,
          1,
          1,
          1,
          1,
          1,
          1,
          1,
          1,
          1,
          1,
          1,
          1,
          1,
          1,
          1,
          1,
          1,
          1,
          1,
          1,
          1,
          1,
          1,
          1,
          1,
          1,
          1,
          1,
          1,
          1,
          1,
          1,
          1,
          1,
          1,
          1,
          1,
          1,
          1
         ]
        }
       ],
       "layout": {
        "autosize": true,
        "plot_bgcolor": "rgba(0, 0, 0, 0)",
        "showlegend": false,
        "template": {
         "data": {
          "bar": [
           {
            "error_x": {
             "color": "#2a3f5f"
            },
            "error_y": {
             "color": "#2a3f5f"
            },
            "marker": {
             "line": {
              "color": "white",
              "width": 0.5
             },
             "pattern": {
              "fillmode": "overlay",
              "size": 10,
              "solidity": 0.2
             }
            },
            "type": "bar"
           }
          ],
          "barpolar": [
           {
            "marker": {
             "line": {
              "color": "white",
              "width": 0.5
             },
             "pattern": {
              "fillmode": "overlay",
              "size": 10,
              "solidity": 0.2
             }
            },
            "type": "barpolar"
           }
          ],
          "carpet": [
           {
            "aaxis": {
             "endlinecolor": "#2a3f5f",
             "gridcolor": "#C8D4E3",
             "linecolor": "#C8D4E3",
             "minorgridcolor": "#C8D4E3",
             "startlinecolor": "#2a3f5f"
            },
            "baxis": {
             "endlinecolor": "#2a3f5f",
             "gridcolor": "#C8D4E3",
             "linecolor": "#C8D4E3",
             "minorgridcolor": "#C8D4E3",
             "startlinecolor": "#2a3f5f"
            },
            "type": "carpet"
           }
          ],
          "choropleth": [
           {
            "colorbar": {
             "outlinewidth": 0,
             "ticks": ""
            },
            "type": "choropleth"
           }
          ],
          "contour": [
           {
            "colorbar": {
             "outlinewidth": 0,
             "ticks": ""
            },
            "colorscale": [
             [
              0,
              "#0d0887"
             ],
             [
              0.1111111111111111,
              "#46039f"
             ],
             [
              0.2222222222222222,
              "#7201a8"
             ],
             [
              0.3333333333333333,
              "#9c179e"
             ],
             [
              0.4444444444444444,
              "#bd3786"
             ],
             [
              0.5555555555555556,
              "#d8576b"
             ],
             [
              0.6666666666666666,
              "#ed7953"
             ],
             [
              0.7777777777777778,
              "#fb9f3a"
             ],
             [
              0.8888888888888888,
              "#fdca26"
             ],
             [
              1,
              "#f0f921"
             ]
            ],
            "type": "contour"
           }
          ],
          "contourcarpet": [
           {
            "colorbar": {
             "outlinewidth": 0,
             "ticks": ""
            },
            "type": "contourcarpet"
           }
          ],
          "heatmap": [
           {
            "colorbar": {
             "outlinewidth": 0,
             "ticks": ""
            },
            "colorscale": [
             [
              0,
              "#0d0887"
             ],
             [
              0.1111111111111111,
              "#46039f"
             ],
             [
              0.2222222222222222,
              "#7201a8"
             ],
             [
              0.3333333333333333,
              "#9c179e"
             ],
             [
              0.4444444444444444,
              "#bd3786"
             ],
             [
              0.5555555555555556,
              "#d8576b"
             ],
             [
              0.6666666666666666,
              "#ed7953"
             ],
             [
              0.7777777777777778,
              "#fb9f3a"
             ],
             [
              0.8888888888888888,
              "#fdca26"
             ],
             [
              1,
              "#f0f921"
             ]
            ],
            "type": "heatmap"
           }
          ],
          "heatmapgl": [
           {
            "colorbar": {
             "outlinewidth": 0,
             "ticks": ""
            },
            "colorscale": [
             [
              0,
              "#0d0887"
             ],
             [
              0.1111111111111111,
              "#46039f"
             ],
             [
              0.2222222222222222,
              "#7201a8"
             ],
             [
              0.3333333333333333,
              "#9c179e"
             ],
             [
              0.4444444444444444,
              "#bd3786"
             ],
             [
              0.5555555555555556,
              "#d8576b"
             ],
             [
              0.6666666666666666,
              "#ed7953"
             ],
             [
              0.7777777777777778,
              "#fb9f3a"
             ],
             [
              0.8888888888888888,
              "#fdca26"
             ],
             [
              1,
              "#f0f921"
             ]
            ],
            "type": "heatmapgl"
           }
          ],
          "histogram": [
           {
            "marker": {
             "pattern": {
              "fillmode": "overlay",
              "size": 10,
              "solidity": 0.2
             }
            },
            "type": "histogram"
           }
          ],
          "histogram2d": [
           {
            "colorbar": {
             "outlinewidth": 0,
             "ticks": ""
            },
            "colorscale": [
             [
              0,
              "#0d0887"
             ],
             [
              0.1111111111111111,
              "#46039f"
             ],
             [
              0.2222222222222222,
              "#7201a8"
             ],
             [
              0.3333333333333333,
              "#9c179e"
             ],
             [
              0.4444444444444444,
              "#bd3786"
             ],
             [
              0.5555555555555556,
              "#d8576b"
             ],
             [
              0.6666666666666666,
              "#ed7953"
             ],
             [
              0.7777777777777778,
              "#fb9f3a"
             ],
             [
              0.8888888888888888,
              "#fdca26"
             ],
             [
              1,
              "#f0f921"
             ]
            ],
            "type": "histogram2d"
           }
          ],
          "histogram2dcontour": [
           {
            "colorbar": {
             "outlinewidth": 0,
             "ticks": ""
            },
            "colorscale": [
             [
              0,
              "#0d0887"
             ],
             [
              0.1111111111111111,
              "#46039f"
             ],
             [
              0.2222222222222222,
              "#7201a8"
             ],
             [
              0.3333333333333333,
              "#9c179e"
             ],
             [
              0.4444444444444444,
              "#bd3786"
             ],
             [
              0.5555555555555556,
              "#d8576b"
             ],
             [
              0.6666666666666666,
              "#ed7953"
             ],
             [
              0.7777777777777778,
              "#fb9f3a"
             ],
             [
              0.8888888888888888,
              "#fdca26"
             ],
             [
              1,
              "#f0f921"
             ]
            ],
            "type": "histogram2dcontour"
           }
          ],
          "mesh3d": [
           {
            "colorbar": {
             "outlinewidth": 0,
             "ticks": ""
            },
            "type": "mesh3d"
           }
          ],
          "parcoords": [
           {
            "line": {
             "colorbar": {
              "outlinewidth": 0,
              "ticks": ""
             }
            },
            "type": "parcoords"
           }
          ],
          "pie": [
           {
            "automargin": true,
            "type": "pie"
           }
          ],
          "scatter": [
           {
            "fillpattern": {
             "fillmode": "overlay",
             "size": 10,
             "solidity": 0.2
            },
            "type": "scatter"
           }
          ],
          "scatter3d": [
           {
            "line": {
             "colorbar": {
              "outlinewidth": 0,
              "ticks": ""
             }
            },
            "marker": {
             "colorbar": {
              "outlinewidth": 0,
              "ticks": ""
             }
            },
            "type": "scatter3d"
           }
          ],
          "scattercarpet": [
           {
            "marker": {
             "colorbar": {
              "outlinewidth": 0,
              "ticks": ""
             }
            },
            "type": "scattercarpet"
           }
          ],
          "scattergeo": [
           {
            "marker": {
             "colorbar": {
              "outlinewidth": 0,
              "ticks": ""
             }
            },
            "type": "scattergeo"
           }
          ],
          "scattergl": [
           {
            "marker": {
             "colorbar": {
              "outlinewidth": 0,
              "ticks": ""
             }
            },
            "type": "scattergl"
           }
          ],
          "scattermapbox": [
           {
            "marker": {
             "colorbar": {
              "outlinewidth": 0,
              "ticks": ""
             }
            },
            "type": "scattermapbox"
           }
          ],
          "scatterpolar": [
           {
            "marker": {
             "colorbar": {
              "outlinewidth": 0,
              "ticks": ""
             }
            },
            "type": "scatterpolar"
           }
          ],
          "scatterpolargl": [
           {
            "marker": {
             "colorbar": {
              "outlinewidth": 0,
              "ticks": ""
             }
            },
            "type": "scatterpolargl"
           }
          ],
          "scatterternary": [
           {
            "marker": {
             "colorbar": {
              "outlinewidth": 0,
              "ticks": ""
             }
            },
            "type": "scatterternary"
           }
          ],
          "surface": [
           {
            "colorbar": {
             "outlinewidth": 0,
             "ticks": ""
            },
            "colorscale": [
             [
              0,
              "#0d0887"
             ],
             [
              0.1111111111111111,
              "#46039f"
             ],
             [
              0.2222222222222222,
              "#7201a8"
             ],
             [
              0.3333333333333333,
              "#9c179e"
             ],
             [
              0.4444444444444444,
              "#bd3786"
             ],
             [
              0.5555555555555556,
              "#d8576b"
             ],
             [
              0.6666666666666666,
              "#ed7953"
             ],
             [
              0.7777777777777778,
              "#fb9f3a"
             ],
             [
              0.8888888888888888,
              "#fdca26"
             ],
             [
              1,
              "#f0f921"
             ]
            ],
            "type": "surface"
           }
          ],
          "table": [
           {
            "cells": {
             "fill": {
              "color": "#EBF0F8"
             },
             "line": {
              "color": "white"
             }
            },
            "header": {
             "fill": {
              "color": "#C8D4E3"
             },
             "line": {
              "color": "white"
             }
            },
            "type": "table"
           }
          ]
         },
         "layout": {
          "annotationdefaults": {
           "arrowcolor": "#2a3f5f",
           "arrowhead": 0,
           "arrowwidth": 1
          },
          "autotypenumbers": "strict",
          "coloraxis": {
           "colorbar": {
            "outlinewidth": 0,
            "ticks": ""
           }
          },
          "colorscale": {
           "diverging": [
            [
             0,
             "#8e0152"
            ],
            [
             0.1,
             "#c51b7d"
            ],
            [
             0.2,
             "#de77ae"
            ],
            [
             0.3,
             "#f1b6da"
            ],
            [
             0.4,
             "#fde0ef"
            ],
            [
             0.5,
             "#f7f7f7"
            ],
            [
             0.6,
             "#e6f5d0"
            ],
            [
             0.7,
             "#b8e186"
            ],
            [
             0.8,
             "#7fbc41"
            ],
            [
             0.9,
             "#4d9221"
            ],
            [
             1,
             "#276419"
            ]
           ],
           "sequential": [
            [
             0,
             "#0d0887"
            ],
            [
             0.1111111111111111,
             "#46039f"
            ],
            [
             0.2222222222222222,
             "#7201a8"
            ],
            [
             0.3333333333333333,
             "#9c179e"
            ],
            [
             0.4444444444444444,
             "#bd3786"
            ],
            [
             0.5555555555555556,
             "#d8576b"
            ],
            [
             0.6666666666666666,
             "#ed7953"
            ],
            [
             0.7777777777777778,
             "#fb9f3a"
            ],
            [
             0.8888888888888888,
             "#fdca26"
            ],
            [
             1,
             "#f0f921"
            ]
           ],
           "sequentialminus": [
            [
             0,
             "#0d0887"
            ],
            [
             0.1111111111111111,
             "#46039f"
            ],
            [
             0.2222222222222222,
             "#7201a8"
            ],
            [
             0.3333333333333333,
             "#9c179e"
            ],
            [
             0.4444444444444444,
             "#bd3786"
            ],
            [
             0.5555555555555556,
             "#d8576b"
            ],
            [
             0.6666666666666666,
             "#ed7953"
            ],
            [
             0.7777777777777778,
             "#fb9f3a"
            ],
            [
             0.8888888888888888,
             "#fdca26"
            ],
            [
             1,
             "#f0f921"
            ]
           ]
          },
          "colorway": [
           "#636efa",
           "#EF553B",
           "#00cc96",
           "#ab63fa",
           "#FFA15A",
           "#19d3f3",
           "#FF6692",
           "#B6E880",
           "#FF97FF",
           "#FECB52"
          ],
          "font": {
           "color": "#2a3f5f"
          },
          "geo": {
           "bgcolor": "white",
           "lakecolor": "white",
           "landcolor": "white",
           "showlakes": true,
           "showland": true,
           "subunitcolor": "#C8D4E3"
          },
          "hoverlabel": {
           "align": "left"
          },
          "hovermode": "closest",
          "mapbox": {
           "style": "light"
          },
          "paper_bgcolor": "white",
          "plot_bgcolor": "white",
          "polar": {
           "angularaxis": {
            "gridcolor": "#EBF0F8",
            "linecolor": "#EBF0F8",
            "ticks": ""
           },
           "bgcolor": "white",
           "radialaxis": {
            "gridcolor": "#EBF0F8",
            "linecolor": "#EBF0F8",
            "ticks": ""
           }
          },
          "scene": {
           "xaxis": {
            "backgroundcolor": "white",
            "gridcolor": "#DFE8F3",
            "gridwidth": 2,
            "linecolor": "#EBF0F8",
            "showbackground": true,
            "ticks": "",
            "zerolinecolor": "#EBF0F8"
           },
           "yaxis": {
            "backgroundcolor": "white",
            "gridcolor": "#DFE8F3",
            "gridwidth": 2,
            "linecolor": "#EBF0F8",
            "showbackground": true,
            "ticks": "",
            "zerolinecolor": "#EBF0F8"
           },
           "zaxis": {
            "backgroundcolor": "white",
            "gridcolor": "#DFE8F3",
            "gridwidth": 2,
            "linecolor": "#EBF0F8",
            "showbackground": true,
            "ticks": "",
            "zerolinecolor": "#EBF0F8"
           }
          },
          "shapedefaults": {
           "line": {
            "color": "#2a3f5f"
           }
          },
          "ternary": {
           "aaxis": {
            "gridcolor": "#DFE8F3",
            "linecolor": "#A2B1C6",
            "ticks": ""
           },
           "baxis": {
            "gridcolor": "#DFE8F3",
            "linecolor": "#A2B1C6",
            "ticks": ""
           },
           "bgcolor": "white",
           "caxis": {
            "gridcolor": "#DFE8F3",
            "linecolor": "#A2B1C6",
            "ticks": ""
           }
          },
          "title": {
           "x": 0.05
          },
          "xaxis": {
           "automargin": true,
           "gridcolor": "#EBF0F8",
           "linecolor": "#EBF0F8",
           "ticks": "",
           "title": {
            "standoff": 15
           },
           "zerolinecolor": "#EBF0F8",
           "zerolinewidth": 2
          },
          "yaxis": {
           "automargin": true,
           "gridcolor": "#EBF0F8",
           "linecolor": "#EBF0F8",
           "ticks": "",
           "title": {
            "standoff": 15
           },
           "zerolinecolor": "#EBF0F8",
           "zerolinewidth": 2
          }
         }
        },
        "title": {
         "text": "Median 1 month SPEI Index, trends over time in Angola's Cabinda area from 2017 to 2024"
        },
        "xaxis": {
         "autorange": true,
         "range": [
          -0.5,
          7.5
         ],
         "tickangle": 0,
         "tickmode": "array",
         "ticktext": [
          "2017",
          "2017",
          "2017",
          "2017",
          "2017",
          "2017",
          "2017",
          "2017",
          "2017",
          "2017",
          "2017",
          "2017",
          "2018",
          "2018",
          "2018",
          "2018",
          "2018",
          "2018",
          "2018",
          "2018",
          "2018",
          "2018",
          "2018",
          "2018",
          "2019",
          "2019",
          "2019",
          "2019",
          "2019",
          "2019",
          "2019",
          "2019",
          "2019",
          "2019",
          "2019",
          "2019",
          "2020",
          "2020",
          "2020",
          "2020",
          "2020",
          "2020",
          "2020",
          "2020",
          "2020",
          "2020",
          "2020",
          "2020",
          "2021",
          "2021",
          "2021",
          "2021",
          "2021",
          "2021",
          "2021",
          "2021",
          "2021",
          "2021",
          "2021",
          "2021",
          "2022",
          "2022",
          "2022",
          "2022",
          "2022",
          "2022",
          "2022",
          "2022",
          "2022",
          "2022",
          "2022",
          "2022",
          "2023",
          "2023",
          "2023",
          "2023",
          "2023",
          "2023",
          "2023",
          "2023",
          "2023",
          "2023",
          "2023",
          "2023",
          "2024",
          "2024"
         ],
         "tickvals": [
          "2017",
          "2017",
          "2017",
          "2017",
          "2017",
          "2017",
          "2017",
          "2017",
          "2017",
          "2017",
          "2017",
          "2017",
          "2018",
          "2018",
          "2018",
          "2018",
          "2018",
          "2018",
          "2018",
          "2018",
          "2018",
          "2018",
          "2018",
          "2018",
          "2019",
          "2019",
          "2019",
          "2019",
          "2019",
          "2019",
          "2019",
          "2019",
          "2019",
          "2019",
          "2019",
          "2019",
          "2020",
          "2020",
          "2020",
          "2020",
          "2020",
          "2020",
          "2020",
          "2020",
          "2020",
          "2020",
          "2020",
          "2020",
          "2021",
          "2021",
          "2021",
          "2021",
          "2021",
          "2021",
          "2021",
          "2021",
          "2021",
          "2021",
          "2021",
          "2021",
          "2022",
          "2022",
          "2022",
          "2022",
          "2022",
          "2022",
          "2022",
          "2022",
          "2022",
          "2022",
          "2022",
          "2022",
          "2023",
          "2023",
          "2023",
          "2023",
          "2023",
          "2023",
          "2023",
          "2023",
          "2023",
          "2023",
          "2023",
          "2023",
          "2024",
          "2024"
         ],
         "title": {
          "text": "Years"
         },
         "type": "category"
        },
        "yaxis": {
         "autorange": true,
         "range": [
          0,
          12.631578947368421
         ],
         "showgrid": false,
         "showticklabels": false,
         "title": {
          "text": "Median SPEI1"
         },
         "type": "linear",
         "visible": false,
         "zeroline": false
        }
       }
      },
      "image/png": "[encoded data removed]",
      "text/html": [
       "<div>                            <div id=\"afca1be2-af99-477b-af27-2171b673dba3\" class=\"plotly-graph-div\" style=\"height:500px; width:100%;\"></div>            <script type=\"text/javascript\">                require([\"plotly\"], function(Plotly) {                    window.PLOTLYENV=window.PLOTLYENV || {};                                    if (document.getElementById(\"afca1be2-af99-477b-af27-2171b673dba3\")) {                    Plotly.newPlot(                        \"afca1be2-af99-477b-af27-2171b673dba3\",                        [{\"hoverinfo\":\"text\",\"hovertext\":[\"January 2017, median: 0.04\",\"February 2017, median: -0.92\",\"March 2017, median: -0.79\",\"April 2017, median: -0.49\",\"May 2017, median: 0.16\",\"June 2017, median: 1.12\",\"July 2017, median: -0.40\",\"August 2017, median: -0.16\",\"September 2017, median: -0.15\",\"October 2017, median: -1.39\",\"November 2017, median: -0.30\",\"December 2017, median: -0.23\",\"January 2018, median: -0.72\",\"February 2018, median: 1.18\",\"March 2018, median: 0.31\",\"April 2018, median: -0.40\",\"May 2018, median: -0.11\",\"June 2018, median: 0.47\",\"July 2018, median: 0.31\",\"August 2018, median: 0.39\",\"September 2018, median: 0.50\",\"October 2018, median: 0.17\",\"November 2018, median: 0.19\",\"December 2018, median: -0.67\",\"January 2019, median: 0.51\",\"February 2019, median: 0.56\",\"March 2019, median: 0.06\",\"April 2019, median: -0.46\",\"May 2019, median: 0.57\",\"June 2019, median: -0.07\",\"July 2019, median: 0.58\",\"August 2019, median: -0.18\",\"September 2019, median: 0.27\",\"October 2019, median: 2.10\",\"November 2019, median: 0.82\",\"December 2019, median: -0.15\",\"January 2020, median: -0.93\",\"February 2020, median: -1.52\",\"March 2020, median: 0.43\",\"April 2020, median: -0.82\",\"May 2020, median: -0.91\",\"June 2020, median: -0.92\",\"July 2020, median: 0.32\",\"August 2020, median: -1.15\",\"September 2020, median: 0.76\",\"October 2020, median: -0.05\",\"November 2020, median: -1.10\",\"December 2020, median: 0.40\",\"January 2021, median: -0.48\",\"February 2021, median: -0.48\",\"March 2021, median: -0.19\",\"April 2021, median: -1.67\",\"May 2021, median: -2.26\",\"June 2021, median: -0.90\",\"July 2021, median: -0.70\",\"August 2021, median: 0.64\",\"September 2021, median: -0.49\",\"October 2021, median: -0.79\",\"November 2021, median: 0.02\",\"December 2021, median: -1.22\",\"January 2022, median: -1.22\",\"February 2022, median: -0.64\",\"March 2022, median: -0.69\",\"April 2022, median: -0.21\",\"May 2022, median: -1.17\",\"June 2022, median: 0.01\",\"July 2022, median: -0.41\",\"August 2022, median: 0.05\",\"September 2022, median: 0.71\",\"October 2022, median: -0.40\",\"November 2022, median: -1.02\",\"December 2022, median: -0.60\",\"January 2023, median: -0.06\",\"February 2023, median: -0.79\",\"March 2023, median: 0.40\",\"April 2023, median: -0.73\",\"May 2023, median: -1.21\",\"June 2023, median: -0.04\",\"July 2023, median: -0.67\",\"August 2023, median: 0.05\",\"September 2023, median: -0.52\",\"October 2023, median: -0.19\",\"November 2023, median: 0.73\",\"December 2023, median: -0.66\",\"January 2024, median: -0.66\",\"February 2024, median: -0.73\"],\"marker\":{\"color\":[\"#ACD1E5\",\"#F7BB9F\",\"#F7BB9F\",\"#F7BB9F\",\"#ACD1E5\",\"#61A5CE\",\"#F7BB9F\",\"#F7BB9F\",\"#F7BB9F\",\"#D96C59\",\"#F7BB9F\",\"#F7BB9F\",\"#F7BB9F\",\"#61A5CE\",\"#ACD1E5\",\"#F7BB9F\",\"#F7BB9F\",\"#ACD1E5\",\"#ACD1E5\",\"#ACD1E5\",\"#ACD1E5\",\"#ACD1E5\",\"#ACD1E5\",\"#F7BB9F\",\"#ACD1E5\",\"#ACD1E5\",\"#ACD1E5\",\"#F7BB9F\",\"#ACD1E5\",\"#F7BB9F\",\"#ACD1E5\",\"#F7BB9F\",\"#ACD1E5\",\"#064A78\",\"#ACD1E5\",\"#F7BB9F\",\"#F7BB9F\",\"#AF2331\",\"#ACD1E5\",\"#F7BB9F\",\"#F7BB9F\",\"#F7BB9F\",\"#ACD1E5\",\"#D96C59\",\"#ACD1E5\",\"#F7BB9F\",\"#D96C59\",\"#ACD1E5\",\"#F7BB9F\",\"#F7BB9F\",\"#F7BB9F\",\"#AF2331\",\"#681824\",\"#F7BB9F\",\"#F7BB9F\",\"#ACD1E5\",\"#F7BB9F\",\"#F7BB9F\",\"#ACD1E5\",\"#D96C59\",\"#D96C59\",\"#F7BB9F\",\"#F7BB9F\",\"#F7BB9F\",\"#D96C59\",\"#ACD1E5\",\"#F7BB9F\",\"#ACD1E5\",\"#ACD1E5\",\"#F7BB9F\",\"#D96C59\",\"#F7BB9F\",\"#F7BB9F\",\"#F7BB9F\",\"#ACD1E5\",\"#F7BB9F\",\"#D96C59\",\"#F7BB9F\",\"#F7BB9F\",\"#ACD1E5\",\"#F7BB9F\",\"#F7BB9F\",\"#ACD1E5\",\"#F7BB9F\",\"#F7BB9F\",\"#F7BB9F\"]},\"orientation\":\"v\",\"width\":0.8,\"x\":[\"2017\",\"2017\",\"2017\",\"2017\",\"2017\",\"2017\",\"2017\",\"2017\",\"2017\",\"2017\",\"2017\",\"2017\",\"2018\",\"2018\",\"2018\",\"2018\",\"2018\",\"2018\",\"2018\",\"2018\",\"2018\",\"2018\",\"2018\",\"2018\",\"2019\",\"2019\",\"2019\",\"2019\",\"2019\",\"2019\",\"2019\",\"2019\",\"2019\",\"2019\",\"2019\",\"2019\",\"2020\",\"2020\",\"2020\",\"2020\",\"2020\",\"2020\",\"2020\",\"2020\",\"2020\",\"2020\",\"2020\",\"2020\",\"2021\",\"2021\",\"2021\",\"2021\",\"2021\",\"2021\",\"2021\",\"2021\",\"2021\",\"2021\",\"2021\",\"2021\",\"2022\",\"2022\",\"2022\",\"2022\",\"2022\",\"2022\",\"2022\",\"2022\",\"2022\",\"2022\",\"2022\",\"2022\",\"2023\",\"2023\",\"2023\",\"2023\",\"2023\",\"2023\",\"2023\",\"2023\",\"2023\",\"2023\",\"2023\",\"2023\",\"2024\",\"2024\"],\"y\":[1,1,1,1,1,1,1,1,1,1,1,1,1,1,1,1,1,1,1,1,1,1,1,1,1,1,1,1,1,1,1,1,1,1,1,1,1,1,1,1,1,1,1,1,1,1,1,1,1,1,1,1,1,1,1,1,1,1,1,1,1,1,1,1,1,1,1,1,1,1,1,1,1,1,1,1,1,1,1,1,1,1,1,1,1,1],\"type\":\"bar\"}],                        {\"template\":{\"data\":{\"barpolar\":[{\"marker\":{\"line\":{\"color\":\"white\",\"width\":0.5},\"pattern\":{\"fillmode\":\"overlay\",\"size\":10,\"solidity\":0.2}},\"type\":\"barpolar\"}],\"bar\":[{\"error_x\":{\"color\":\"#2a3f5f\"},\"error_y\":{\"color\":\"#2a3f5f\"},\"marker\":{\"line\":{\"color\":\"white\",\"width\":0.5},\"pattern\":{\"fillmode\":\"overlay\",\"size\":10,\"solidity\":0.2}},\"type\":\"bar\"}],\"carpet\":[{\"aaxis\":{\"endlinecolor\":\"#2a3f5f\",\"gridcolor\":\"#C8D4E3\",\"linecolor\":\"#C8D4E3\",\"minorgridcolor\":\"#C8D4E3\",\"startlinecolor\":\"#2a3f5f\"},\"baxis\":{\"endlinecolor\":\"#2a3f5f\",\"gridcolor\":\"#C8D4E3\",\"linecolor\":\"#C8D4E3\",\"minorgridcolor\":\"#C8D4E3\",\"startlinecolor\":\"#2a3f5f\"},\"type\":\"carpet\"}],\"choropleth\":[{\"colorbar\":{\"outlinewidth\":0,\"ticks\":\"\"},\"type\":\"choropleth\"}],\"contourcarpet\":[{\"colorbar\":{\"outlinewidth\":0,\"ticks\":\"\"},\"type\":\"contourcarpet\"}],\"contour\":[{\"colorbar\":{\"outlinewidth\":0,\"ticks\":\"\"},\"colorscale\":[[0.0,\"#0d0887\"],[0.1111111111111111,\"#46039f\"],[0.2222222222222222,\"#7201a8\"],[0.3333333333333333,\"#9c179e\"],[0.4444444444444444,\"#bd3786\"],[0.5555555555555556,\"#d8576b\"],[0.6666666666666666,\"#ed7953\"],[0.7777777777777778,\"#fb9f3a\"],[0.8888888888888888,\"#fdca26\"],[1.0,\"#f0f921\"]],\"type\":\"contour\"}],\"heatmapgl\":[{\"colorbar\":{\"outlinewidth\":0,\"ticks\":\"\"},\"colorscale\":[[0.0,\"#0d0887\"],[0.1111111111111111,\"#46039f\"],[0.2222222222222222,\"#7201a8\"],[0.3333333333333333,\"#9c179e\"],[0.4444444444444444,\"#bd3786\"],[0.5555555555555556,\"#d8576b\"],[0.6666666666666666,\"#ed7953\"],[0.7777777777777778,\"#fb9f3a\"],[0.8888888888888888,\"#fdca26\"],[1.0,\"#f0f921\"]],\"type\":\"heatmapgl\"}],\"heatmap\":[{\"colorbar\":{\"outlinewidth\":0,\"ticks\":\"\"},\"colorscale\":[[0.0,\"#0d0887\"],[0.1111111111111111,\"#46039f\"],[0.2222222222222222,\"#7201a8\"],[0.3333333333333333,\"#9c179e\"],[0.4444444444444444,\"#bd3786\"],[0.5555555555555556,\"#d8576b\"],[0.6666666666666666,\"#ed7953\"],[0.7777777777777778,\"#fb9f3a\"],[0.8888888888888888,\"#fdca26\"],[1.0,\"#f0f921\"]],\"type\":\"heatmap\"}],\"histogram2dcontour\":[{\"colorbar\":{\"outlinewidth\":0,\"ticks\":\"\"},\"colorscale\":[[0.0,\"#0d0887\"],[0.1111111111111111,\"#46039f\"],[0.2222222222222222,\"#7201a8\"],[0.3333333333333333,\"#9c179e\"],[0.4444444444444444,\"#bd3786\"],[0.5555555555555556,\"#d8576b\"],[0.6666666666666666,\"#ed7953\"],[0.7777777777777778,\"#fb9f3a\"],[0.8888888888888888,\"#fdca26\"],[1.0,\"#f0f921\"]],\"type\":\"histogram2dcontour\"}],\"histogram2d\":[{\"colorbar\":{\"outlinewidth\":0,\"ticks\":\"\"},\"colorscale\":[[0.0,\"#0d0887\"],[0.1111111111111111,\"#46039f\"],[0.2222222222222222,\"#7201a8\"],[0.3333333333333333,\"#9c179e\"],[0.4444444444444444,\"#bd3786\"],[0.5555555555555556,\"#d8576b\"],[0.6666666666666666,\"#ed7953\"],[0.7777777777777778,\"#fb9f3a\"],[0.8888888888888888,\"#fdca26\"],[1.0,\"#f0f921\"]],\"type\":\"histogram2d\"}],\"histogram\":[{\"marker\":{\"pattern\":{\"fillmode\":\"overlay\",\"size\":10,\"solidity\":0.2}},\"type\":\"histogram\"}],\"mesh3d\":[{\"colorbar\":{\"outlinewidth\":0,\"ticks\":\"\"},\"type\":\"mesh3d\"}],\"parcoords\":[{\"line\":{\"colorbar\":{\"outlinewidth\":0,\"ticks\":\"\"}},\"type\":\"parcoords\"}],\"pie\":[{\"automargin\":true,\"type\":\"pie\"}],\"scatter3d\":[{\"line\":{\"colorbar\":{\"outlinewidth\":0,\"ticks\":\"\"}},\"marker\":{\"colorbar\":{\"outlinewidth\":0,\"ticks\":\"\"}},\"type\":\"scatter3d\"}],\"scattercarpet\":[{\"marker\":{\"colorbar\":{\"outlinewidth\":0,\"ticks\":\"\"}},\"type\":\"scattercarpet\"}],\"scattergeo\":[{\"marker\":{\"colorbar\":{\"outlinewidth\":0,\"ticks\":\"\"}},\"type\":\"scattergeo\"}],\"scattergl\":[{\"marker\":{\"colorbar\":{\"outlinewidth\":0,\"ticks\":\"\"}},\"type\":\"scattergl\"}],\"scattermapbox\":[{\"marker\":{\"colorbar\":{\"outlinewidth\":0,\"ticks\":\"\"}},\"type\":\"scattermapbox\"}],\"scatterpolargl\":[{\"marker\":{\"colorbar\":{\"outlinewidth\":0,\"ticks\":\"\"}},\"type\":\"scatterpolargl\"}],\"scatterpolar\":[{\"marker\":{\"colorbar\":{\"outlinewidth\":0,\"ticks\":\"\"}},\"type\":\"scatterpolar\"}],\"scatter\":[{\"fillpattern\":{\"fillmode\":\"overlay\",\"size\":10,\"solidity\":0.2},\"type\":\"scatter\"}],\"scatterternary\":[{\"marker\":{\"colorbar\":{\"outlinewidth\":0,\"ticks\":\"\"}},\"type\":\"scatterternary\"}],\"surface\":[{\"colorbar\":{\"outlinewidth\":0,\"ticks\":\"\"},\"colorscale\":[[0.0,\"#0d0887\"],[0.1111111111111111,\"#46039f\"],[0.2222222222222222,\"#7201a8\"],[0.3333333333333333,\"#9c179e\"],[0.4444444444444444,\"#bd3786\"],[0.5555555555555556,\"#d8576b\"],[0.6666666666666666,\"#ed7953\"],[0.7777777777777778,\"#fb9f3a\"],[0.8888888888888888,\"#fdca26\"],[1.0,\"#f0f921\"]],\"type\":\"surface\"}],\"table\":[{\"cells\":{\"fill\":{\"color\":\"#EBF0F8\"},\"line\":{\"color\":\"white\"}},\"header\":{\"fill\":{\"color\":\"#C8D4E3\"},\"line\":{\"color\":\"white\"}},\"type\":\"table\"}]},\"layout\":{\"annotationdefaults\":{\"arrowcolor\":\"#2a3f5f\",\"arrowhead\":0,\"arrowwidth\":1},\"autotypenumbers\":\"strict\",\"coloraxis\":{\"colorbar\":{\"outlinewidth\":0,\"ticks\":\"\"}},\"colorscale\":{\"diverging\":[[0,\"#8e0152\"],[0.1,\"#c51b7d\"],[0.2,\"#de77ae\"],[0.3,\"#f1b6da\"],[0.4,\"#fde0ef\"],[0.5,\"#f7f7f7\"],[0.6,\"#e6f5d0\"],[0.7,\"#b8e186\"],[0.8,\"#7fbc41\"],[0.9,\"#4d9221\"],[1,\"#276419\"]],\"sequential\":[[0.0,\"#0d0887\"],[0.1111111111111111,\"#46039f\"],[0.2222222222222222,\"#7201a8\"],[0.3333333333333333,\"#9c179e\"],[0.4444444444444444,\"#bd3786\"],[0.5555555555555556,\"#d8576b\"],[0.6666666666666666,\"#ed7953\"],[0.7777777777777778,\"#fb9f3a\"],[0.8888888888888888,\"#fdca26\"],[1.0,\"#f0f921\"]],\"sequentialminus\":[[0.0,\"#0d0887\"],[0.1111111111111111,\"#46039f\"],[0.2222222222222222,\"#7201a8\"],[0.3333333333333333,\"#9c179e\"],[0.4444444444444444,\"#bd3786\"],[0.5555555555555556,\"#d8576b\"],[0.6666666666666666,\"#ed7953\"],[0.7777777777777778,\"#fb9f3a\"],[0.8888888888888888,\"#fdca26\"],[1.0,\"#f0f921\"]]},\"colorway\":[\"#636efa\",\"#EF553B\",\"#00cc96\",\"#ab63fa\",\"#FFA15A\",\"#19d3f3\",\"#FF6692\",\"#B6E880\",\"#FF97FF\",\"#FECB52\"],\"font\":{\"color\":\"#2a3f5f\"},\"geo\":{\"bgcolor\":\"white\",\"lakecolor\":\"white\",\"landcolor\":\"white\",\"showlakes\":true,\"showland\":true,\"subunitcolor\":\"#C8D4E3\"},\"hoverlabel\":{\"align\":\"left\"},\"hovermode\":\"closest\",\"mapbox\":{\"style\":\"light\"},\"paper_bgcolor\":\"white\",\"plot_bgcolor\":\"white\",\"polar\":{\"angularaxis\":{\"gridcolor\":\"#EBF0F8\",\"linecolor\":\"#EBF0F8\",\"ticks\":\"\"},\"bgcolor\":\"white\",\"radialaxis\":{\"gridcolor\":\"#EBF0F8\",\"linecolor\":\"#EBF0F8\",\"ticks\":\"\"}},\"scene\":{\"xaxis\":{\"backgroundcolor\":\"white\",\"gridcolor\":\"#DFE8F3\",\"gridwidth\":2,\"linecolor\":\"#EBF0F8\",\"showbackground\":true,\"ticks\":\"\",\"zerolinecolor\":\"#EBF0F8\"},\"yaxis\":{\"backgroundcolor\":\"white\",\"gridcolor\":\"#DFE8F3\",\"gridwidth\":2,\"linecolor\":\"#EBF0F8\",\"showbackground\":true,\"ticks\":\"\",\"zerolinecolor\":\"#EBF0F8\"},\"zaxis\":{\"backgroundcolor\":\"white\",\"gridcolor\":\"#DFE8F3\",\"gridwidth\":2,\"linecolor\":\"#EBF0F8\",\"showbackground\":true,\"ticks\":\"\",\"zerolinecolor\":\"#EBF0F8\"}},\"shapedefaults\":{\"line\":{\"color\":\"#2a3f5f\"}},\"ternary\":{\"aaxis\":{\"gridcolor\":\"#DFE8F3\",\"linecolor\":\"#A2B1C6\",\"ticks\":\"\"},\"baxis\":{\"gridcolor\":\"#DFE8F3\",\"linecolor\":\"#A2B1C6\",\"ticks\":\"\"},\"bgcolor\":\"white\",\"caxis\":{\"gridcolor\":\"#DFE8F3\",\"linecolor\":\"#A2B1C6\",\"ticks\":\"\"}},\"title\":{\"x\":0.05},\"xaxis\":{\"automargin\":true,\"gridcolor\":\"#EBF0F8\",\"linecolor\":\"#EBF0F8\",\"ticks\":\"\",\"title\":{\"standoff\":15},\"zerolinecolor\":\"#EBF0F8\",\"zerolinewidth\":2},\"yaxis\":{\"automargin\":true,\"gridcolor\":\"#EBF0F8\",\"linecolor\":\"#EBF0F8\",\"ticks\":\"\",\"title\":{\"standoff\":15},\"zerolinecolor\":\"#EBF0F8\",\"zerolinewidth\":2}}},\"yaxis\":{\"title\":{\"text\":\"Median SPEI1\"},\"showticklabels\":false,\"showgrid\":false,\"zeroline\":false,\"visible\":false},\"xaxis\":{\"title\":{\"text\":\"Years\"},\"type\":\"category\",\"tickmode\":\"array\",\"tickvals\":[\"2017\",\"2017\",\"2017\",\"2017\",\"2017\",\"2017\",\"2017\",\"2017\",\"2017\",\"2017\",\"2017\",\"2017\",\"2018\",\"2018\",\"2018\",\"2018\",\"2018\",\"2018\",\"2018\",\"2018\",\"2018\",\"2018\",\"2018\",\"2018\",\"2019\",\"2019\",\"2019\",\"2019\",\"2019\",\"2019\",\"2019\",\"2019\",\"2019\",\"2019\",\"2019\",\"2019\",\"2020\",\"2020\",\"2020\",\"2020\",\"2020\",\"2020\",\"2020\",\"2020\",\"2020\",\"2020\",\"2020\",\"2020\",\"2021\",\"2021\",\"2021\",\"2021\",\"2021\",\"2021\",\"2021\",\"2021\",\"2021\",\"2021\",\"2021\",\"2021\",\"2022\",\"2022\",\"2022\",\"2022\",\"2022\",\"2022\",\"2022\",\"2022\",\"2022\",\"2022\",\"2022\",\"2022\",\"2023\",\"2023\",\"2023\",\"2023\",\"2023\",\"2023\",\"2023\",\"2023\",\"2023\",\"2023\",\"2023\",\"2023\",\"2024\",\"2024\"],\"ticktext\":[\"2017\",\"2017\",\"2017\",\"2017\",\"2017\",\"2017\",\"2017\",\"2017\",\"2017\",\"2017\",\"2017\",\"2017\",\"2018\",\"2018\",\"2018\",\"2018\",\"2018\",\"2018\",\"2018\",\"2018\",\"2018\",\"2018\",\"2018\",\"2018\",\"2019\",\"2019\",\"2019\",\"2019\",\"2019\",\"2019\",\"2019\",\"2019\",\"2019\",\"2019\",\"2019\",\"2019\",\"2020\",\"2020\",\"2020\",\"2020\",\"2020\",\"2020\",\"2020\",\"2020\",\"2020\",\"2020\",\"2020\",\"2020\",\"2021\",\"2021\",\"2021\",\"2021\",\"2021\",\"2021\",\"2021\",\"2021\",\"2021\",\"2021\",\"2021\",\"2021\",\"2022\",\"2022\",\"2022\",\"2022\",\"2022\",\"2022\",\"2022\",\"2022\",\"2022\",\"2022\",\"2022\",\"2022\",\"2023\",\"2023\",\"2023\",\"2023\",\"2023\",\"2023\",\"2023\",\"2023\",\"2023\",\"2023\",\"2023\",\"2023\",\"2024\",\"2024\"],\"tickangle\":0},\"title\":{\"text\":\"Median 1 month SPEI Index, trends over time in Angola's Cabinda area from 2017 to 2024\"},\"height\":500,\"plot_bgcolor\":\"rgba(0,0,0,0)\",\"showlegend\":false},                        {\"responsive\": true}                    ).then(function(){\n",
       "                            \n",
       "var gd = document.getElementById('afca1be2-af99-477b-af27-2171b673dba3');\n",
       "var x = new MutationObserver(function (mutations, observer) {{\n",
       "        var display = window.getComputedStyle(gd).display;\n",
       "        if (!display || display === 'none') {{\n",
       "            console.log([gd, 'removed!']);\n",
       "            Plotly.purge(gd);\n",
       "            observer.disconnect();\n",
       "        }}\n",
       "}});\n",
       "\n",
       "// Listen for the removal of the full notebook cells\n",
       "var notebookContainer = gd.closest('#notebook-container');\n",
       "if (notebookContainer) {{\n",
       "    x.observe(notebookContainer, {childList: true});\n",
       "}}\n",
       "\n",
       "// Listen for the clearing of the current output cell\n",
       "var outputEl = gd.closest('.output');\n",
       "if (outputEl) {{\n",
       "    x.observe(outputEl, {childList: true});\n",
       "}}\n",
       "\n",
       "                        })                };                });            </script>        </div>"
      ]
     },
     "metadata": {},
     "output_type": "display_data"
    }
   ],
   "source": [
    "uti.create_stripechart(stat_values, timescales, selected, int(year_range_selector.value[0]), int(year_range_selector.value[1]), 'year')"
   ]
  },
  {
   "cell_type": "markdown",
   "id": "5a4c0743-0bf9-4ef7-9973-b1e3bde4d4f9",
   "metadata": {},
   "source": [
    "source: https://en.wikipedia.org/wiki/List_of_administrative_divisions_by_country"
   ]
  },
  {
   "cell_type": "code",
   "execution_count": null,
   "id": "4fbec24c-3aa1-42af-904f-c19f738e09bc",
   "metadata": {},
   "outputs": [],
   "source": []
  }
 ],
 "metadata": {
  "kernelspec": {
   "display_name": "Python 3",
   "language": "python",
   "name": "python3"
  },
  "language_info": {
   "codemirror_mode": {
    "name": "ipython",
    "version": 3
   },
   "file_extension": ".py",
   "mimetype": "text/x-python",
   "name": "python",
   "nbconvert_exporter": "python",
   "pygments_lexer": "ipython3",
   "version": "3.6.8"
  }
 },
 "nbformat": 4,
 "nbformat_minor": 5
}
