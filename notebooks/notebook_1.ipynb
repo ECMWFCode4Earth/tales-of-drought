{
 "cells": [
  {
   "cell_type": "code",
   "execution_count": null,
   "id": "bbab0e18-10f7-4d7d-b416-86ddb5ef50d1",
   "metadata": {},
   "outputs": [],
   "source": [
    "# pip install numpy xarray netCDF4 matplotlib plotly"
   ]
  },
  {
   "cell_type": "code",
   "execution_count": null,
   "id": "893df89e-c69a-408c-ac30-5e9fa681f5f9",
   "metadata": {},
   "outputs": [],
   "source": [
    "# pip install \"dask[complete]\" -q"
   ]
  },
  {
   "cell_type": "code",
   "execution_count": null,
   "id": "023fdab5-0f5d-4a9f-bd2a-1e36e3f7b988",
   "metadata": {},
   "outputs": [],
   "source": [
    "# pip install geopy ipywidgets folium -q"
   ]
  },
  {
   "cell_type": "code",
   "execution_count": null,
   "id": "70492638-2d8b-4349-8679-4578485f55e2",
   "metadata": {},
   "outputs": [],
   "source": [
    "# !jupyter nbextension enable --py widgetsnbextension"
   ]
  },
  {
   "cell_type": "code",
   "execution_count": null,
   "id": "e10a3be8-696f-43c6-9776-3980d6ebb7ae",
   "metadata": {},
   "outputs": [],
   "source": [
    "#!jupyter labextension install @jupyter-widgets/jupyterlab-manager"
   ]
  },
  {
   "cell_type": "code",
   "execution_count": null,
   "id": "1ee6a0a8-84b8-4856-952e-c643cf55eece",
   "metadata": {},
   "outputs": [],
   "source": [
    "import ipywidgets as widgets\n",
    "from IPython.display import display, clear_output, IFrame\n",
    "import plotly.graph_objects as go\n",
    "import modules.n1_utilities as uti\n",
    "import datetime\n",
    "import warnings\n",
    "warnings.filterwarnings(\"ignore\", category=RuntimeWarning)"
   ]
  },
  {
   "cell_type": "code",
   "execution_count": 4,
   "id": "eacead0a-88f3-4ef6-84a8-cfe94faa540a",
   "metadata": {},
   "outputs": [],
   "source": [
    "country_to_subareas = uti.read_json_to_dict('countries.json', True)\n",
    "months = uti.read_json_to_dict('months.json')\n",
    "timescales = uti.read_json_to_dict('timescales.json')\n",
    "area_subset_data = None\n",
    "map_display = None\n",
    "\n",
    "selected = {\n",
    "    \"country\": None,\n",
    "    \"subarea\": None,\n",
    "    \"month\": None,\n",
    "    \"year\": None,\n",
    "    \"timescale\": None\n",
    "}\n",
    "\n",
    "placeholders = {\n",
    "    \"country\": \"country...\",\n",
    "    \"subarea\": \"subarea...\",\n",
    "    \"month\": \"month...\",\n",
    "    \"year\": \"year...\",\n",
    "    \"timescale\": \"timescale...\"\n",
    "}\n",
    "uti.save_selection(placeholders)"
   ]
  },
  {
   "cell_type": "code",
   "execution_count": 5,
   "id": "b342cf97-5e08-43fa-933b-c64276780c89",
   "metadata": {},
   "outputs": [],
   "source": [
    "# Dropdown for countries\n",
    "country_selector = widgets.Dropdown(\n",
    "    options=[placeholders['country']] + list(country_to_subareas.keys()),\n",
    "    description='Select a country:',\n",
    "    style={'description_width': 'initial'}\n",
    ")\n",
    "\n",
    "# Dropdown for subareas, initially empty\n",
    "subarea_selector = widgets.Dropdown(\n",
    "    options=[placeholders['subarea']],\n",
    "    description='And a subarea:',\n",
    "    style={'description_width': 'initial'}\n",
    ")\n",
    "\n",
    "# Dropdown for months\n",
    "month_selector = widgets.Dropdown(\n",
    "    options=[placeholders['month']] + list(months.keys()),\n",
    "    description='Select a month:',\n",
    "    style={'description_width': 'initial'}\n",
    ")\n",
    "\n",
    "# Dropdown for years\n",
    "current_year = datetime.datetime.now().year\n",
    "year_selector = widgets.Dropdown(\n",
    "    options=[placeholders['year']] + [str(year) for year in range(1940, current_year + 1)],\n",
    "    description='Select a year:',\n",
    "    disabled=False,\n",
    "    style={'description_width': 'initial'}\n",
    ")\n",
    "\n",
    "# Dropdown for timescales\n",
    "timescale_selector = widgets.Dropdown(\n",
    "    options=[placeholders['timescale']] + list(timescales.keys()),\n",
    "    description='Select a timescale:',\n",
    "    style={'description_width': 'initial'}\n",
    ")"
   ]
  },
  {
   "cell_type": "code",
   "execution_count": 8,
   "id": "8380fe46-04bc-4af2-8df5-65acbed66974",
   "metadata": {
    "tags": []
   },
   "outputs": [],
   "source": [
    "def update_subarea_selector(change):\n",
    "    \"\"\"\n",
    "    Update the options for the subarea dropdown based on the selected country.\n",
    "\n",
    "    This function is triggered by a change in the country selector. It updates the options available in the subarea selector \n",
    "    dropdown. If the selected country has associated subareas, they will be populated in the subarea dropdown. If the selected\n",
    "    value is the placeholder or if no subareas are available, the dropdown will only show the placeholder for subareas.\n",
    "\n",
    "    Parameters:\n",
    "    change (dict): The change notification received from the widget, containing 'name' and 'new' keys, where\n",
    "                   'name' indicates the attribute that changed ('value' in this case), and 'new' is the new\n",
    "                   value of that attribute.\n",
    "\n",
    "    Effects:\n",
    "    Updates `subarea_selector.options` with either the subareas of the selected country or the default placeholder.\n",
    "    \"\"\"\n",
    "    if change['name'] == 'value' and change['new'] != placeholders['country']:\n",
    "        subareas = country_to_subareas.get(change['new'], [])\n",
    "        subarea_selector.options = [placeholders['subarea']] + subareas\n",
    "    else:\n",
    "        subarea_selector.options = [placeholders['subarea']]\n",
    "\n",
    "        \n",
    "        \n",
    "def handle_time_interactivity(change):\n",
    "    \"\"\"\n",
    "    Handle interactivity for time-related selections in a GUI environment. This function responds to changes in year or month\n",
    "    selectors by adjusting the other's value to a default state and updates the subset of area data displayed accordingly.\n",
    "\n",
    "    This function uses a global variable `area_subset_data` which stores the filtered data based on the user's selections.\n",
    "    It updates this data whenever a change is made to either the month or year selectors.\n",
    "\n",
    "    Parameters:\n",
    "    change (dict): A dictionary containing information about the change event. This dictionary includes keys like 'owner',\n",
    "                   which refers to the widget (year_selector or month_selector) that triggered the event, and 'new', which\n",
    "                   indicates the new value selected by the user.\n",
    "\n",
    "    The function expects several external widgets to be defined, including `year_selector`, `month_selector`,\n",
    "    `country_selector`, `subarea_selector`, `timescale_selector`, as well as global placeholders and utility functions.\n",
    "    \"\"\"\n",
    "    global area_subset_data\n",
    "    if change['owner'] == year_selector:\n",
    "        if change['new'] != placeholders['year']:  \n",
    "            month_selector.value = placeholders['month']  \n",
    "    elif change['owner'] == month_selector:\n",
    "        if change['new'] != placeholders['month']:  \n",
    "            year_selector.value = placeholders['year']  \n",
    "    # Update data based on new selection\n",
    "    area_subset_data = uti.update_display(country_selector, subarea_selector, month_selector, year_selector, timescale_selector, months, timescales, placeholders)\n",
    "        \n",
    "\n",
    "def on_value_change(change):\n",
    "    \"\"\"\n",
    "    Responds to changes in selection widgets to update map displays and data processing. This function modifies the global\n",
    "    `selected` dictionary, updates the `area_subset_data`, and refreshes the `map_display` based on user selections from\n",
    "    various selectors. It provides visual feedback via an output area in the UI.\n",
    "\n",
    "    The function is intended to be connected to widgets that trigger changes. It uses a dictionary `placeholders` \n",
    "    to manage default values and checks against them to filter out default or placeholder selections.\n",
    "\n",
    "    Parameters:\n",
    "    change (dict): Contains details about the widget event that triggered the update, with keys 'type', 'name', and 'new', where \n",
    "                   'new' is the newly selected country value.\n",
    "    \"\"\"\n",
    "    global area_subset_data, selected, map_display\n",
    "    with output_area:\n",
    "        clear_output(wait=True)\n",
    "        selected.update({\n",
    "            'country': country_selector.value if country_selector.value != placeholders['country'] else None,\n",
    "            'subarea': subarea_selector.value if subarea_selector.value != placeholders['subarea'] else None,\n",
    "            'month': month_selector.value if month_selector.value != placeholders['month'] else None,\n",
    "            'year': year_selector.value if year_selector.value != placeholders['year'] else None,\n",
    "            'timescale': timescale_selector.value if timescale_selector.value != placeholders['timescale'] else None\n",
    "        })\n",
    "\n",
    "        uti.save_selection(selected)\n",
    "        map_display = None\n",
    "        if selected['country']:\n",
    "            bounds = uti.get_bounds(selected['country'])\n",
    "            if selected['subarea']:\n",
    "                bounds = uti.get_bounds(selected['subarea'])\n",
    "            map_display = uti.display_map(bounds)\n",
    "\n",
    "        if any(value is not None for value in selected.values()):\n",
    "            area_subset_data = uti.update_display(country_selector, subarea_selector, month_selector, year_selector, timescale_selector, months, timescales, placeholders)\n",
    "            print(f\"Data updated for: {selected}\")\n",
    "        else:\n",
    "            print(\"Selection incomplete. Please select all required options.\")\n",
    "        if map_display:\n",
    "            map_iframe = uti.display_map_in_iframe(map_display)\n",
    "            display(map_iframe)\n",
    "\n",
    "            \n",
    "\n",
    "def setup_observers():\n",
    "    \"\"\"\n",
    "    Sets up observers for UI widgets to handle interactions and updates dynamically in a graphical user interface.\n",
    "    This function ensures that observers are only set once using a function attribute to track whether observers have\n",
    "    already been established, enhancing efficiency and preventing multiple bindings to the same event.\n",
    "\n",
    "    Observers are attached to widgets for month, year, country, subarea, and timescale selections. These observers trigger\n",
    "    specific functions when the 'value' property of the widgets changes, facilitating responsive updates to the user interface\n",
    "    based on user interactions.\n",
    "\n",
    "    The function `handle_time_interactivity`, `on_value_change`, and `update_subarea_selector` are called depending\n",
    "    on the specific widget interaction, addressing different aspects of the UI and data updates required by the application.\n",
    "\n",
    "    Notes:\n",
    "    - This function uses a custom attribute `observers_set` on itself to ensure observers are set only once.\n",
    "    \"\"\"\n",
    "    if not hasattr(setup_observers, 'observers_set'):\n",
    "        # Observe changes for month selector\n",
    "        month_selector.observe(handle_time_interactivity, names='value')\n",
    "        month_selector.observe(on_value_change, names='value')\n",
    "        \n",
    "        # Observe changes for year selector\n",
    "        year_selector.observe(handle_time_interactivity, names='value')\n",
    "        year_selector.observe(on_value_change, names='value')\n",
    "        \n",
    "        country_selector.observe(update_subarea_selector, names='value')\n",
    "        country_selector.observe(on_value_change, names='value')\n",
    "        subarea_selector.observe(on_value_change, names='value')\n",
    "        timescale_selector.observe(on_value_change, names='value')\n",
    "\n",
    "        # Set a flag to indicate observers are set\n",
    "        setup_observers.observers_set = True\n",
    "        \n",
    "setup_observers()\n",
    "# Output area for display updates\n",
    "output_area = widgets.Output()"
   ]
  },
  {
   "cell_type": "code",
   "execution_count": null,
   "id": "3f602d1e-5a99-4960-a0e1-22da219a4815",
   "metadata": {},
   "outputs": [],
   "source": [
    "# Update existing selectors\n",
    "previous_selection = uti.read_json_to_dict('previous_selection.json')\n",
    "\n",
    "# Set up widgets with previous settings\n",
    "country_selector.value = previous_selection.get('country', placeholders['country'])\n",
    "subarea_selector.value = previous_selection.get('subarea', placeholders['subarea'])\n",
    "month_selector.value = previous_selection.get('month', placeholders['month'])\n",
    "timescale_selector.value = previous_selection.get('timescale', placeholders['timescale'])\n",
    "\n",
    "# Display widgets\n",
    "display(country_selector, subarea_selector, timescale_selector, month_selector, output_area)"
   ]
  },
  {
   "cell_type": "code",
   "execution_count": null,
   "id": "68f69005-00a9-4a2c-8c16-1f13f99aeacd",
   "metadata": {},
   "outputs": [],
   "source": [
    "index = f\"SPEI{timescales[selected['timescale']]}\"\n",
    "# print(area_subset_data[index].values)"
   ]
  },
  {
   "cell_type": "code",
   "execution_count": null,
   "id": "213097ca-0df1-4d67-b180-cbf65aca2917",
   "metadata": {},
   "outputs": [],
   "source": [
    "print(\"Country: \", selected['country'])\n",
    "print(\"Subarea: \", selected['subarea'])\n",
    "print(\"Month: \", selected['month'])\n",
    "print(\"Timescale: \", selected['timescale'])\n",
    "print(\"Latitude values in the subset:\", area_subset_data[index].lat.values.shape[0])\n",
    "print(\"Longitude values in the subset:\", area_subset_data[index].lon.values.shape[0])\n",
    "print(\"Data: \", area_subset_data)"
   ]
  },
  {
   "cell_type": "code",
   "execution_count": null,
   "id": "66a6e2c8-c315-4a88-97f3-ea28da3b23ac",
   "metadata": {},
   "outputs": [],
   "source": [
    "area_subset_data[index] = uti.replace_invalid_values(area_subset_data[index])"
   ]
  },
  {
   "cell_type": "code",
   "execution_count": null,
   "id": "7cf9e3bd-f454-4069-96c3-f92fd2728f6f",
   "metadata": {},
   "outputs": [],
   "source": [
    "mean_values = uti.compute_means(area_subset_data[index])"
   ]
  },
  {
   "cell_type": "code",
   "execution_count": null,
   "id": "603e5d56-e15b-46b1-b953-8a60d70f2166",
   "metadata": {},
   "outputs": [],
   "source": [
    "uti.create_scatterplot(mean_values, timescales, selected)"
   ]
  },
  {
   "cell_type": "code",
   "execution_count": null,
   "id": "7f56dc59-1624-4b27-b5b0-57f3934404e9",
   "metadata": {},
   "outputs": [],
   "source": [
    "boxplot_stats = uti.compute_boxplot_stats(area_subset_data[index])"
   ]
  },
  {
   "cell_type": "code",
   "execution_count": null,
   "id": "da66d52e-ffd9-4231-ae96-dce4f9a8fb64",
   "metadata": {},
   "outputs": [],
   "source": [
    "uti.create_boxplot(boxplot_stats, timescales, selected)"
   ]
  },
  {
   "cell_type": "code",
   "execution_count": null,
   "id": "704a12ae-dc3e-4229-92aa-c3f02faacc1e",
   "metadata": {},
   "outputs": [],
   "source": [
    "# Update existing selectors\n",
    "previous_selection = uti.read_json_to_dict('previous_selection.json')\n",
    "\n",
    "# Set up widgets with previous settings\n",
    "country_selector.value = previous_selection.get('country', placeholders['country'])\n",
    "subarea_selector.value = previous_selection.get('subarea', placeholders['subarea'])\n",
    "year_selector.value = previous_selection.get('year', placeholders['year'])\n",
    "timescale_selector.value = previous_selection.get('timescale', placeholders['timescale'])\n",
    "\n",
    "# Add the new year selector to the display\n",
    "display(country_selector, subarea_selector, timescale_selector, year_selector, output_area)"
   ]
  },
  {
   "cell_type": "code",
   "execution_count": 62,
   "id": "504833ac-0a2a-434b-b21a-b7393b8e453a",
   "metadata": {},
   "outputs": [],
   "source": [
    "index = f\"SPEI{timescales[selected['timescale']]}\""
   ]
  },
  {
   "cell_type": "code",
   "execution_count": 80,
   "id": "ff180e62-8735-42b9-9fd6-08b6159f6c03",
   "metadata": {},
   "outputs": [
    {
     "name": "stdout",
     "output_type": "stream",
     "text": [
      "Country:  Italy\n",
      "Subarea:  Emilia-Romagna\n",
      "Month:  None\n",
      "Timescale:  1 month\n",
      "Latitude values in the subset: 131\n",
      "Longitude values in the subset: 139\n",
      "[[1.83803506 1.92490055 2.05360618 1.92028756 1.91839116]\n",
      " [1.27425792 1.43355603 1.50096742 1.4800947  1.46066785]\n",
      " [0.56577193 0.70935765 0.69132173 0.70450052 0.76826711]\n",
      " [0.18781828 0.15544314 0.18814953 0.17482951 0.26855511]\n",
      " [0.02107444 0.01288017 0.15828877 0.1302039  0.19633518]]\n"
     ]
    }
   ],
   "source": [
    "print(\"Country: \", selected['country'])\n",
    "print(\"Subarea: \", selected['subarea'])\n",
    "print(\"Month: \", selected['month'])\n",
    "print(\"Timescale: \", selected['timescale'])\n",
    "print(\"Latitude values in the subset:\", area_subset_data[index].lat.values.shape[0])\n",
    "print(\"Longitude values in the subset:\", area_subset_data[index].lon.values.shape[0])\n",
    "# print(\"Data: \", area_subset_data)\n",
    "print(area_subset_data[index].isel(time=0, lat=slice(0, 5), lon=slice(0, 5)).values)"
   ]
  },
  {
   "cell_type": "code",
   "execution_count": 81,
   "id": "4217b710-9f2f-4942-8e9f-3ec610246f3e",
   "metadata": {},
   "outputs": [],
   "source": [
    "area_subset_data[index] = uti.replace_invalid_values(area_subset_data[index])"
   ]
  },
  {
   "cell_type": "code",
   "execution_count": 85,
   "id": "2eff3063-03bf-4685-b382-aee245c06f18",
   "metadata": {},
   "outputs": [],
   "source": [
    "mean_values = uti.compute_means(area_subset_data[index])"
   ]
  },
  {
   "cell_type": "code",
   "execution_count": 83,
   "id": "3644fc67-95cd-4364-b965-86f0a6fba412",
   "metadata": {},
   "outputs": [],
   "source": []
  },
  {
   "cell_type": "code",
   "execution_count": 84,
   "id": "6bde9279-bcbc-4719-a5c3-938e6378468d",
   "metadata": {},
   "outputs": [
    {
     "data": {
      "application/vnd.plotly.v1+json": {
       "config": {
        "plotlyServerURL": "https://plot.ly"
       },
       "data": [
        {
         "line": {
          "color": "#B89A7D",
          "width": 2
         },
         "marker": {
          "color": [
           "#F7BB9F",
           "#F7BB9F",
           "#ACD1E5",
           "#ACD1E5",
           "#ACD1E5",
           "#61A5CE",
           "#D96C59",
           "#F7BB9F",
           "#F7BB9F",
           "#F7BB9F",
           "#F7BB9F",
           "#F7BB9F",
           "#F7BB9F"
          ],
          "size": 20
         },
         "mode": "lines+markers",
         "name": "Mean SPEI",
         "type": "scatter",
         "x": [
          "2023-01-01T06:00:00",
          "2023-02-01T06:00:00",
          "2023-03-01T06:00:00",
          "2023-04-01T06:00:00",
          "2023-05-01T06:00:00",
          "2023-06-01T06:00:00",
          "2023-07-01T06:00:00",
          "2023-08-01T06:00:00",
          "2023-09-01T06:00:00",
          "2023-10-01T06:00:00",
          "2023-11-01T06:00:00",
          "2023-12-01T06:00:00",
          "2023-12-01T06:00:00"
         ],
         "y": [
          -0.21885466312444693,
          -0.37428102849452155,
          0.06015523660841286,
          0.2666728825081279,
          0.34321660419529193,
          1.3455790629189197,
          -1.1893375053572612,
          -0.8458458814343593,
          -0.5995932305223584,
          -0.08835679628593184,
          -0.05217404558205126,
          -0.2210284007774447,
          -0.2210284007774447
         ]
        }
       ],
       "layout": {
        "autosize": true,
        "paper_bgcolor": "white",
        "plot_bgcolor": "white",
        "template": {
         "data": {
          "bar": [
           {
            "error_x": {
             "color": "#2a3f5f"
            },
            "error_y": {
             "color": "#2a3f5f"
            },
            "marker": {
             "line": {
              "color": "#E5ECF6",
              "width": 0.5
             },
             "pattern": {
              "fillmode": "overlay",
              "size": 10,
              "solidity": 0.2
             }
            },
            "type": "bar"
           }
          ],
          "barpolar": [
           {
            "marker": {
             "line": {
              "color": "#E5ECF6",
              "width": 0.5
             },
             "pattern": {
              "fillmode": "overlay",
              "size": 10,
              "solidity": 0.2
             }
            },
            "type": "barpolar"
           }
          ],
          "carpet": [
           {
            "aaxis": {
             "endlinecolor": "#2a3f5f",
             "gridcolor": "white",
             "linecolor": "white",
             "minorgridcolor": "white",
             "startlinecolor": "#2a3f5f"
            },
            "baxis": {
             "endlinecolor": "#2a3f5f",
             "gridcolor": "white",
             "linecolor": "white",
             "minorgridcolor": "white",
             "startlinecolor": "#2a3f5f"
            },
            "type": "carpet"
           }
          ],
          "choropleth": [
           {
            "colorbar": {
             "outlinewidth": 0,
             "ticks": ""
            },
            "type": "choropleth"
           }
          ],
          "contour": [
           {
            "colorbar": {
             "outlinewidth": 0,
             "ticks": ""
            },
            "colorscale": [
             [
              0,
              "#0d0887"
             ],
             [
              0.1111111111111111,
              "#46039f"
             ],
             [
              0.2222222222222222,
              "#7201a8"
             ],
             [
              0.3333333333333333,
              "#9c179e"
             ],
             [
              0.4444444444444444,
              "#bd3786"
             ],
             [
              0.5555555555555556,
              "#d8576b"
             ],
             [
              0.6666666666666666,
              "#ed7953"
             ],
             [
              0.7777777777777778,
              "#fb9f3a"
             ],
             [
              0.8888888888888888,
              "#fdca26"
             ],
             [
              1,
              "#f0f921"
             ]
            ],
            "type": "contour"
           }
          ],
          "contourcarpet": [
           {
            "colorbar": {
             "outlinewidth": 0,
             "ticks": ""
            },
            "type": "contourcarpet"
           }
          ],
          "heatmap": [
           {
            "colorbar": {
             "outlinewidth": 0,
             "ticks": ""
            },
            "colorscale": [
             [
              0,
              "#0d0887"
             ],
             [
              0.1111111111111111,
              "#46039f"
             ],
             [
              0.2222222222222222,
              "#7201a8"
             ],
             [
              0.3333333333333333,
              "#9c179e"
             ],
             [
              0.4444444444444444,
              "#bd3786"
             ],
             [
              0.5555555555555556,
              "#d8576b"
             ],
             [
              0.6666666666666666,
              "#ed7953"
             ],
             [
              0.7777777777777778,
              "#fb9f3a"
             ],
             [
              0.8888888888888888,
              "#fdca26"
             ],
             [
              1,
              "#f0f921"
             ]
            ],
            "type": "heatmap"
           }
          ],
          "heatmapgl": [
           {
            "colorbar": {
             "outlinewidth": 0,
             "ticks": ""
            },
            "colorscale": [
             [
              0,
              "#0d0887"
             ],
             [
              0.1111111111111111,
              "#46039f"
             ],
             [
              0.2222222222222222,
              "#7201a8"
             ],
             [
              0.3333333333333333,
              "#9c179e"
             ],
             [
              0.4444444444444444,
              "#bd3786"
             ],
             [
              0.5555555555555556,
              "#d8576b"
             ],
             [
              0.6666666666666666,
              "#ed7953"
             ],
             [
              0.7777777777777778,
              "#fb9f3a"
             ],
             [
              0.8888888888888888,
              "#fdca26"
             ],
             [
              1,
              "#f0f921"
             ]
            ],
            "type": "heatmapgl"
           }
          ],
          "histogram": [
           {
            "marker": {
             "pattern": {
              "fillmode": "overlay",
              "size": 10,
              "solidity": 0.2
             }
            },
            "type": "histogram"
           }
          ],
          "histogram2d": [
           {
            "colorbar": {
             "outlinewidth": 0,
             "ticks": ""
            },
            "colorscale": [
             [
              0,
              "#0d0887"
             ],
             [
              0.1111111111111111,
              "#46039f"
             ],
             [
              0.2222222222222222,
              "#7201a8"
             ],
             [
              0.3333333333333333,
              "#9c179e"
             ],
             [
              0.4444444444444444,
              "#bd3786"
             ],
             [
              0.5555555555555556,
              "#d8576b"
             ],
             [
              0.6666666666666666,
              "#ed7953"
             ],
             [
              0.7777777777777778,
              "#fb9f3a"
             ],
             [
              0.8888888888888888,
              "#fdca26"
             ],
             [
              1,
              "#f0f921"
             ]
            ],
            "type": "histogram2d"
           }
          ],
          "histogram2dcontour": [
           {
            "colorbar": {
             "outlinewidth": 0,
             "ticks": ""
            },
            "colorscale": [
             [
              0,
              "#0d0887"
             ],
             [
              0.1111111111111111,
              "#46039f"
             ],
             [
              0.2222222222222222,
              "#7201a8"
             ],
             [
              0.3333333333333333,
              "#9c179e"
             ],
             [
              0.4444444444444444,
              "#bd3786"
             ],
             [
              0.5555555555555556,
              "#d8576b"
             ],
             [
              0.6666666666666666,
              "#ed7953"
             ],
             [
              0.7777777777777778,
              "#fb9f3a"
             ],
             [
              0.8888888888888888,
              "#fdca26"
             ],
             [
              1,
              "#f0f921"
             ]
            ],
            "type": "histogram2dcontour"
           }
          ],
          "mesh3d": [
           {
            "colorbar": {
             "outlinewidth": 0,
             "ticks": ""
            },
            "type": "mesh3d"
           }
          ],
          "parcoords": [
           {
            "line": {
             "colorbar": {
              "outlinewidth": 0,
              "ticks": ""
             }
            },
            "type": "parcoords"
           }
          ],
          "pie": [
           {
            "automargin": true,
            "type": "pie"
           }
          ],
          "scatter": [
           {
            "fillpattern": {
             "fillmode": "overlay",
             "size": 10,
             "solidity": 0.2
            },
            "type": "scatter"
           }
          ],
          "scatter3d": [
           {
            "line": {
             "colorbar": {
              "outlinewidth": 0,
              "ticks": ""
             }
            },
            "marker": {
             "colorbar": {
              "outlinewidth": 0,
              "ticks": ""
             }
            },
            "type": "scatter3d"
           }
          ],
          "scattercarpet": [
           {
            "marker": {
             "colorbar": {
              "outlinewidth": 0,
              "ticks": ""
             }
            },
            "type": "scattercarpet"
           }
          ],
          "scattergeo": [
           {
            "marker": {
             "colorbar": {
              "outlinewidth": 0,
              "ticks": ""
             }
            },
            "type": "scattergeo"
           }
          ],
          "scattergl": [
           {
            "marker": {
             "colorbar": {
              "outlinewidth": 0,
              "ticks": ""
             }
            },
            "type": "scattergl"
           }
          ],
          "scattermapbox": [
           {
            "marker": {
             "colorbar": {
              "outlinewidth": 0,
              "ticks": ""
             }
            },
            "type": "scattermapbox"
           }
          ],
          "scatterpolar": [
           {
            "marker": {
             "colorbar": {
              "outlinewidth": 0,
              "ticks": ""
             }
            },
            "type": "scatterpolar"
           }
          ],
          "scatterpolargl": [
           {
            "marker": {
             "colorbar": {
              "outlinewidth": 0,
              "ticks": ""
             }
            },
            "type": "scatterpolargl"
           }
          ],
          "scatterternary": [
           {
            "marker": {
             "colorbar": {
              "outlinewidth": 0,
              "ticks": ""
             }
            },
            "type": "scatterternary"
           }
          ],
          "surface": [
           {
            "colorbar": {
             "outlinewidth": 0,
             "ticks": ""
            },
            "colorscale": [
             [
              0,
              "#0d0887"
             ],
             [
              0.1111111111111111,
              "#46039f"
             ],
             [
              0.2222222222222222,
              "#7201a8"
             ],
             [
              0.3333333333333333,
              "#9c179e"
             ],
             [
              0.4444444444444444,
              "#bd3786"
             ],
             [
              0.5555555555555556,
              "#d8576b"
             ],
             [
              0.6666666666666666,
              "#ed7953"
             ],
             [
              0.7777777777777778,
              "#fb9f3a"
             ],
             [
              0.8888888888888888,
              "#fdca26"
             ],
             [
              1,
              "#f0f921"
             ]
            ],
            "type": "surface"
           }
          ],
          "table": [
           {
            "cells": {
             "fill": {
              "color": "#EBF0F8"
             },
             "line": {
              "color": "white"
             }
            },
            "header": {
             "fill": {
              "color": "#C8D4E3"
             },
             "line": {
              "color": "white"
             }
            },
            "type": "table"
           }
          ]
         },
         "layout": {
          "annotationdefaults": {
           "arrowcolor": "#2a3f5f",
           "arrowhead": 0,
           "arrowwidth": 1
          },
          "autotypenumbers": "strict",
          "coloraxis": {
           "colorbar": {
            "outlinewidth": 0,
            "ticks": ""
           }
          },
          "colorscale": {
           "diverging": [
            [
             0,
             "#8e0152"
            ],
            [
             0.1,
             "#c51b7d"
            ],
            [
             0.2,
             "#de77ae"
            ],
            [
             0.3,
             "#f1b6da"
            ],
            [
             0.4,
             "#fde0ef"
            ],
            [
             0.5,
             "#f7f7f7"
            ],
            [
             0.6,
             "#e6f5d0"
            ],
            [
             0.7,
             "#b8e186"
            ],
            [
             0.8,
             "#7fbc41"
            ],
            [
             0.9,
             "#4d9221"
            ],
            [
             1,
             "#276419"
            ]
           ],
           "sequential": [
            [
             0,
             "#0d0887"
            ],
            [
             0.1111111111111111,
             "#46039f"
            ],
            [
             0.2222222222222222,
             "#7201a8"
            ],
            [
             0.3333333333333333,
             "#9c179e"
            ],
            [
             0.4444444444444444,
             "#bd3786"
            ],
            [
             0.5555555555555556,
             "#d8576b"
            ],
            [
             0.6666666666666666,
             "#ed7953"
            ],
            [
             0.7777777777777778,
             "#fb9f3a"
            ],
            [
             0.8888888888888888,
             "#fdca26"
            ],
            [
             1,
             "#f0f921"
            ]
           ],
           "sequentialminus": [
            [
             0,
             "#0d0887"
            ],
            [
             0.1111111111111111,
             "#46039f"
            ],
            [
             0.2222222222222222,
             "#7201a8"
            ],
            [
             0.3333333333333333,
             "#9c179e"
            ],
            [
             0.4444444444444444,
             "#bd3786"
            ],
            [
             0.5555555555555556,
             "#d8576b"
            ],
            [
             0.6666666666666666,
             "#ed7953"
            ],
            [
             0.7777777777777778,
             "#fb9f3a"
            ],
            [
             0.8888888888888888,
             "#fdca26"
            ],
            [
             1,
             "#f0f921"
            ]
           ]
          },
          "colorway": [
           "#636efa",
           "#EF553B",
           "#00cc96",
           "#ab63fa",
           "#FFA15A",
           "#19d3f3",
           "#FF6692",
           "#B6E880",
           "#FF97FF",
           "#FECB52"
          ],
          "font": {
           "color": "#2a3f5f"
          },
          "geo": {
           "bgcolor": "white",
           "lakecolor": "white",
           "landcolor": "#E5ECF6",
           "showlakes": true,
           "showland": true,
           "subunitcolor": "white"
          },
          "hoverlabel": {
           "align": "left"
          },
          "hovermode": "closest",
          "mapbox": {
           "style": "light"
          },
          "paper_bgcolor": "white",
          "plot_bgcolor": "#E5ECF6",
          "polar": {
           "angularaxis": {
            "gridcolor": "white",
            "linecolor": "white",
            "ticks": ""
           },
           "bgcolor": "#E5ECF6",
           "radialaxis": {
            "gridcolor": "white",
            "linecolor": "white",
            "ticks": ""
           }
          },
          "scene": {
           "xaxis": {
            "backgroundcolor": "#E5ECF6",
            "gridcolor": "white",
            "gridwidth": 2,
            "linecolor": "white",
            "showbackground": true,
            "ticks": "",
            "zerolinecolor": "white"
           },
           "yaxis": {
            "backgroundcolor": "#E5ECF6",
            "gridcolor": "white",
            "gridwidth": 2,
            "linecolor": "white",
            "showbackground": true,
            "ticks": "",
            "zerolinecolor": "white"
           },
           "zaxis": {
            "backgroundcolor": "#E5ECF6",
            "gridcolor": "white",
            "gridwidth": 2,
            "linecolor": "white",
            "showbackground": true,
            "ticks": "",
            "zerolinecolor": "white"
           }
          },
          "shapedefaults": {
           "line": {
            "color": "#2a3f5f"
           }
          },
          "ternary": {
           "aaxis": {
            "gridcolor": "white",
            "linecolor": "white",
            "ticks": ""
           },
           "baxis": {
            "gridcolor": "white",
            "linecolor": "white",
            "ticks": ""
           },
           "bgcolor": "#E5ECF6",
           "caxis": {
            "gridcolor": "white",
            "linecolor": "white",
            "ticks": ""
           }
          },
          "title": {
           "x": 0.05
          },
          "xaxis": {
           "automargin": true,
           "gridcolor": "white",
           "linecolor": "white",
           "ticks": "",
           "title": {
            "standoff": 15
           },
           "zerolinecolor": "white",
           "zerolinewidth": 2
          },
          "yaxis": {
           "automargin": true,
           "gridcolor": "white",
           "linecolor": "white",
           "ticks": "",
           "title": {
            "standoff": 15
           },
           "zerolinecolor": "white",
           "zerolinewidth": 2
          }
         }
        },
        "title": {
         "text": "Mean 1 month SPEI Index, trends over time in Italy's Emilia-Romagna area in 2023"
        },
        "xaxis": {
         "autorange": true,
         "gridcolor": "#D3D3D3",
         "linecolor": "#D3D3D3",
         "range": [
          "2022-12-09 20:50:43.299",
          "2023-12-23 15:09:16.701"
         ],
         "showgrid": true,
         "title": {
          "text": "Months"
         },
         "type": "date"
        },
        "yaxis": {
         "autorange": true,
         "gridcolor": "#D3D3D3",
         "linecolor": "#D3D3D3",
         "range": [
          -1.4640337874708398,
          1.6202753450324983
         ],
         "showgrid": true,
         "title": {
          "text": "Mean SPEI1"
         },
         "type": "linear",
         "zeroline": true,
         "zerolinecolor": "black",
         "zerolinewidth": 1
        }
       }
      },
      "image/png": "[encoded data removed]",
      "text/html": [
       "<div>                            <div id=\"69621ed3-8053-43a5-8a3c-6181ee9217d2\" class=\"plotly-graph-div\" style=\"height:500px; width:100%;\"></div>            <script type=\"text/javascript\">                require([\"plotly\"], function(Plotly) {                    window.PLOTLYENV=window.PLOTLYENV || {};                                    if (document.getElementById(\"69621ed3-8053-43a5-8a3c-6181ee9217d2\")) {                    Plotly.newPlot(                        \"69621ed3-8053-43a5-8a3c-6181ee9217d2\",                        [{\"line\":{\"color\":\"#B89A7D\",\"width\":2},\"marker\":{\"color\":[\"#F7BB9F\",\"#F7BB9F\",\"#ACD1E5\",\"#ACD1E5\",\"#ACD1E5\",\"#61A5CE\",\"#D96C59\",\"#F7BB9F\",\"#F7BB9F\",\"#F7BB9F\",\"#F7BB9F\",\"#F7BB9F\",\"#F7BB9F\"],\"size\":20},\"mode\":\"lines+markers\",\"name\":\"Mean SPEI\",\"x\":[\"2023-01-01T06:00:00\",\"2023-02-01T06:00:00\",\"2023-03-01T06:00:00\",\"2023-04-01T06:00:00\",\"2023-05-01T06:00:00\",\"2023-06-01T06:00:00\",\"2023-07-01T06:00:00\",\"2023-08-01T06:00:00\",\"2023-09-01T06:00:00\",\"2023-10-01T06:00:00\",\"2023-11-01T06:00:00\",\"2023-12-01T06:00:00\",\"2023-12-01T06:00:00\"],\"y\":[-0.21885466312444693,-0.37428102849452155,0.06015523660841286,0.2666728825081279,0.34321660419529193,1.3455790629189197,-1.1893375053572612,-0.8458458814343593,-0.5995932305223584,-0.08835679628593184,-0.05217404558205126,-0.2210284007774447,-0.2210284007774447],\"type\":\"scatter\"}],                        {\"template\":{\"data\":{\"histogram2dcontour\":[{\"type\":\"histogram2dcontour\",\"colorbar\":{\"outlinewidth\":0,\"ticks\":\"\"},\"colorscale\":[[0.0,\"#0d0887\"],[0.1111111111111111,\"#46039f\"],[0.2222222222222222,\"#7201a8\"],[0.3333333333333333,\"#9c179e\"],[0.4444444444444444,\"#bd3786\"],[0.5555555555555556,\"#d8576b\"],[0.6666666666666666,\"#ed7953\"],[0.7777777777777778,\"#fb9f3a\"],[0.8888888888888888,\"#fdca26\"],[1.0,\"#f0f921\"]]}],\"choropleth\":[{\"type\":\"choropleth\",\"colorbar\":{\"outlinewidth\":0,\"ticks\":\"\"}}],\"histogram2d\":[{\"type\":\"histogram2d\",\"colorbar\":{\"outlinewidth\":0,\"ticks\":\"\"},\"colorscale\":[[0.0,\"#0d0887\"],[0.1111111111111111,\"#46039f\"],[0.2222222222222222,\"#7201a8\"],[0.3333333333333333,\"#9c179e\"],[0.4444444444444444,\"#bd3786\"],[0.5555555555555556,\"#d8576b\"],[0.6666666666666666,\"#ed7953\"],[0.7777777777777778,\"#fb9f3a\"],[0.8888888888888888,\"#fdca26\"],[1.0,\"#f0f921\"]]}],\"heatmap\":[{\"type\":\"heatmap\",\"colorbar\":{\"outlinewidth\":0,\"ticks\":\"\"},\"colorscale\":[[0.0,\"#0d0887\"],[0.1111111111111111,\"#46039f\"],[0.2222222222222222,\"#7201a8\"],[0.3333333333333333,\"#9c179e\"],[0.4444444444444444,\"#bd3786\"],[0.5555555555555556,\"#d8576b\"],[0.6666666666666666,\"#ed7953\"],[0.7777777777777778,\"#fb9f3a\"],[0.8888888888888888,\"#fdca26\"],[1.0,\"#f0f921\"]]}],\"heatmapgl\":[{\"type\":\"heatmapgl\",\"colorbar\":{\"outlinewidth\":0,\"ticks\":\"\"},\"colorscale\":[[0.0,\"#0d0887\"],[0.1111111111111111,\"#46039f\"],[0.2222222222222222,\"#7201a8\"],[0.3333333333333333,\"#9c179e\"],[0.4444444444444444,\"#bd3786\"],[0.5555555555555556,\"#d8576b\"],[0.6666666666666666,\"#ed7953\"],[0.7777777777777778,\"#fb9f3a\"],[0.8888888888888888,\"#fdca26\"],[1.0,\"#f0f921\"]]}],\"contourcarpet\":[{\"type\":\"contourcarpet\",\"colorbar\":{\"outlinewidth\":0,\"ticks\":\"\"}}],\"contour\":[{\"type\":\"contour\",\"colorbar\":{\"outlinewidth\":0,\"ticks\":\"\"},\"colorscale\":[[0.0,\"#0d0887\"],[0.1111111111111111,\"#46039f\"],[0.2222222222222222,\"#7201a8\"],[0.3333333333333333,\"#9c179e\"],[0.4444444444444444,\"#bd3786\"],[0.5555555555555556,\"#d8576b\"],[0.6666666666666666,\"#ed7953\"],[0.7777777777777778,\"#fb9f3a\"],[0.8888888888888888,\"#fdca26\"],[1.0,\"#f0f921\"]]}],\"surface\":[{\"type\":\"surface\",\"colorbar\":{\"outlinewidth\":0,\"ticks\":\"\"},\"colorscale\":[[0.0,\"#0d0887\"],[0.1111111111111111,\"#46039f\"],[0.2222222222222222,\"#7201a8\"],[0.3333333333333333,\"#9c179e\"],[0.4444444444444444,\"#bd3786\"],[0.5555555555555556,\"#d8576b\"],[0.6666666666666666,\"#ed7953\"],[0.7777777777777778,\"#fb9f3a\"],[0.8888888888888888,\"#fdca26\"],[1.0,\"#f0f921\"]]}],\"mesh3d\":[{\"type\":\"mesh3d\",\"colorbar\":{\"outlinewidth\":0,\"ticks\":\"\"}}],\"scatter\":[{\"fillpattern\":{\"fillmode\":\"overlay\",\"size\":10,\"solidity\":0.2},\"type\":\"scatter\"}],\"parcoords\":[{\"type\":\"parcoords\",\"line\":{\"colorbar\":{\"outlinewidth\":0,\"ticks\":\"\"}}}],\"scatterpolargl\":[{\"type\":\"scatterpolargl\",\"marker\":{\"colorbar\":{\"outlinewidth\":0,\"ticks\":\"\"}}}],\"bar\":[{\"error_x\":{\"color\":\"#2a3f5f\"},\"error_y\":{\"color\":\"#2a3f5f\"},\"marker\":{\"line\":{\"color\":\"#E5ECF6\",\"width\":0.5},\"pattern\":{\"fillmode\":\"overlay\",\"size\":10,\"solidity\":0.2}},\"type\":\"bar\"}],\"scattergeo\":[{\"type\":\"scattergeo\",\"marker\":{\"colorbar\":{\"outlinewidth\":0,\"ticks\":\"\"}}}],\"scatterpolar\":[{\"type\":\"scatterpolar\",\"marker\":{\"colorbar\":{\"outlinewidth\":0,\"ticks\":\"\"}}}],\"histogram\":[{\"marker\":{\"pattern\":{\"fillmode\":\"overlay\",\"size\":10,\"solidity\":0.2}},\"type\":\"histogram\"}],\"scattergl\":[{\"type\":\"scattergl\",\"marker\":{\"colorbar\":{\"outlinewidth\":0,\"ticks\":\"\"}}}],\"scatter3d\":[{\"type\":\"scatter3d\",\"line\":{\"colorbar\":{\"outlinewidth\":0,\"ticks\":\"\"}},\"marker\":{\"colorbar\":{\"outlinewidth\":0,\"ticks\":\"\"}}}],\"scattermapbox\":[{\"type\":\"scattermapbox\",\"marker\":{\"colorbar\":{\"outlinewidth\":0,\"ticks\":\"\"}}}],\"scatterternary\":[{\"type\":\"scatterternary\",\"marker\":{\"colorbar\":{\"outlinewidth\":0,\"ticks\":\"\"}}}],\"scattercarpet\":[{\"type\":\"scattercarpet\",\"marker\":{\"colorbar\":{\"outlinewidth\":0,\"ticks\":\"\"}}}],\"carpet\":[{\"aaxis\":{\"endlinecolor\":\"#2a3f5f\",\"gridcolor\":\"white\",\"linecolor\":\"white\",\"minorgridcolor\":\"white\",\"startlinecolor\":\"#2a3f5f\"},\"baxis\":{\"endlinecolor\":\"#2a3f5f\",\"gridcolor\":\"white\",\"linecolor\":\"white\",\"minorgridcolor\":\"white\",\"startlinecolor\":\"#2a3f5f\"},\"type\":\"carpet\"}],\"table\":[{\"cells\":{\"fill\":{\"color\":\"#EBF0F8\"},\"line\":{\"color\":\"white\"}},\"header\":{\"fill\":{\"color\":\"#C8D4E3\"},\"line\":{\"color\":\"white\"}},\"type\":\"table\"}],\"barpolar\":[{\"marker\":{\"line\":{\"color\":\"#E5ECF6\",\"width\":0.5},\"pattern\":{\"fillmode\":\"overlay\",\"size\":10,\"solidity\":0.2}},\"type\":\"barpolar\"}],\"pie\":[{\"automargin\":true,\"type\":\"pie\"}]},\"layout\":{\"autotypenumbers\":\"strict\",\"colorway\":[\"#636efa\",\"#EF553B\",\"#00cc96\",\"#ab63fa\",\"#FFA15A\",\"#19d3f3\",\"#FF6692\",\"#B6E880\",\"#FF97FF\",\"#FECB52\"],\"font\":{\"color\":\"#2a3f5f\"},\"hovermode\":\"closest\",\"hoverlabel\":{\"align\":\"left\"},\"paper_bgcolor\":\"white\",\"plot_bgcolor\":\"#E5ECF6\",\"polar\":{\"bgcolor\":\"#E5ECF6\",\"angularaxis\":{\"gridcolor\":\"white\",\"linecolor\":\"white\",\"ticks\":\"\"},\"radialaxis\":{\"gridcolor\":\"white\",\"linecolor\":\"white\",\"ticks\":\"\"}},\"ternary\":{\"bgcolor\":\"#E5ECF6\",\"aaxis\":{\"gridcolor\":\"white\",\"linecolor\":\"white\",\"ticks\":\"\"},\"baxis\":{\"gridcolor\":\"white\",\"linecolor\":\"white\",\"ticks\":\"\"},\"caxis\":{\"gridcolor\":\"white\",\"linecolor\":\"white\",\"ticks\":\"\"}},\"coloraxis\":{\"colorbar\":{\"outlinewidth\":0,\"ticks\":\"\"}},\"colorscale\":{\"sequential\":[[0.0,\"#0d0887\"],[0.1111111111111111,\"#46039f\"],[0.2222222222222222,\"#7201a8\"],[0.3333333333333333,\"#9c179e\"],[0.4444444444444444,\"#bd3786\"],[0.5555555555555556,\"#d8576b\"],[0.6666666666666666,\"#ed7953\"],[0.7777777777777778,\"#fb9f3a\"],[0.8888888888888888,\"#fdca26\"],[1.0,\"#f0f921\"]],\"sequentialminus\":[[0.0,\"#0d0887\"],[0.1111111111111111,\"#46039f\"],[0.2222222222222222,\"#7201a8\"],[0.3333333333333333,\"#9c179e\"],[0.4444444444444444,\"#bd3786\"],[0.5555555555555556,\"#d8576b\"],[0.6666666666666666,\"#ed7953\"],[0.7777777777777778,\"#fb9f3a\"],[0.8888888888888888,\"#fdca26\"],[1.0,\"#f0f921\"]],\"diverging\":[[0,\"#8e0152\"],[0.1,\"#c51b7d\"],[0.2,\"#de77ae\"],[0.3,\"#f1b6da\"],[0.4,\"#fde0ef\"],[0.5,\"#f7f7f7\"],[0.6,\"#e6f5d0\"],[0.7,\"#b8e186\"],[0.8,\"#7fbc41\"],[0.9,\"#4d9221\"],[1,\"#276419\"]]},\"xaxis\":{\"gridcolor\":\"white\",\"linecolor\":\"white\",\"ticks\":\"\",\"title\":{\"standoff\":15},\"zerolinecolor\":\"white\",\"automargin\":true,\"zerolinewidth\":2},\"yaxis\":{\"gridcolor\":\"white\",\"linecolor\":\"white\",\"ticks\":\"\",\"title\":{\"standoff\":15},\"zerolinecolor\":\"white\",\"automargin\":true,\"zerolinewidth\":2},\"scene\":{\"xaxis\":{\"backgroundcolor\":\"#E5ECF6\",\"gridcolor\":\"white\",\"linecolor\":\"white\",\"showbackground\":true,\"ticks\":\"\",\"zerolinecolor\":\"white\",\"gridwidth\":2},\"yaxis\":{\"backgroundcolor\":\"#E5ECF6\",\"gridcolor\":\"white\",\"linecolor\":\"white\",\"showbackground\":true,\"ticks\":\"\",\"zerolinecolor\":\"white\",\"gridwidth\":2},\"zaxis\":{\"backgroundcolor\":\"#E5ECF6\",\"gridcolor\":\"white\",\"linecolor\":\"white\",\"showbackground\":true,\"ticks\":\"\",\"zerolinecolor\":\"white\",\"gridwidth\":2}},\"shapedefaults\":{\"line\":{\"color\":\"#2a3f5f\"}},\"annotationdefaults\":{\"arrowcolor\":\"#2a3f5f\",\"arrowhead\":0,\"arrowwidth\":1},\"geo\":{\"bgcolor\":\"white\",\"landcolor\":\"#E5ECF6\",\"subunitcolor\":\"white\",\"showland\":true,\"showlakes\":true,\"lakecolor\":\"white\"},\"title\":{\"x\":0.05},\"mapbox\":{\"style\":\"light\"}}},\"xaxis\":{\"title\":{\"text\":\"Months\"},\"showgrid\":true,\"gridcolor\":\"#D3D3D3\",\"linecolor\":\"#D3D3D3\"},\"yaxis\":{\"title\":{\"text\":\"Mean SPEI1\"},\"showgrid\":true,\"gridcolor\":\"#D3D3D3\",\"linecolor\":\"#D3D3D3\",\"zeroline\":true,\"zerolinewidth\":1,\"zerolinecolor\":\"black\"},\"title\":{\"text\":\"Mean 1 month SPEI Index, trends over time in Italy's Emilia-Romagna area in 2023\"},\"height\":500,\"plot_bgcolor\":\"white\",\"paper_bgcolor\":\"white\"},                        {\"responsive\": true}                    ).then(function(){\n",
       "                            \n",
       "var gd = document.getElementById('69621ed3-8053-43a5-8a3c-6181ee9217d2');\n",
       "var x = new MutationObserver(function (mutations, observer) {{\n",
       "        var display = window.getComputedStyle(gd).display;\n",
       "        if (!display || display === 'none') {{\n",
       "            console.log([gd, 'removed!']);\n",
       "            Plotly.purge(gd);\n",
       "            observer.disconnect();\n",
       "        }}\n",
       "}});\n",
       "\n",
       "// Listen for the removal of the full notebook cells\n",
       "var notebookContainer = gd.closest('#notebook-container');\n",
       "if (notebookContainer) {{\n",
       "    x.observe(notebookContainer, {childList: true});\n",
       "}}\n",
       "\n",
       "// Listen for the clearing of the current output cell\n",
       "var outputEl = gd.closest('.output');\n",
       "if (outputEl) {{\n",
       "    x.observe(outputEl, {childList: true});\n",
       "}}\n",
       "\n",
       "                        })                };                });            </script>        </div>"
      ]
     },
     "metadata": {},
     "output_type": "display_data"
    }
   ],
   "source": [
    "uti.create_linechart(mean_values, timescales, selected)"
   ]
  },
  {
   "cell_type": "markdown",
   "id": "5a4c0743-0bf9-4ef7-9973-b1e3bde4d4f9",
   "metadata": {},
   "source": [
    "source: https://en.wikipedia.org/wiki/List_of_administrative_divisions_by_country"
   ]
  }
 ],
 "metadata": {
  "kernelspec": {
   "display_name": "Python 3",
   "language": "python",
   "name": "python3"
  },
  "language_info": {
   "codemirror_mode": {
    "name": "ipython",
    "version": 3
   },
   "file_extension": ".py",
   "mimetype": "text/x-python",
   "name": "python",
   "nbconvert_exporter": "python",
   "pygments_lexer": "ipython3",
   "version": "3.6.8"
  }
 },
 "nbformat": 4,
 "nbformat_minor": 5
}
