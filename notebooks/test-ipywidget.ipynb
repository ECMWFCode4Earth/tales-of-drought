{
 "cells": [
  {
   "cell_type": "code",
   "execution_count": 1,
   "id": "bbab0e18-10f7-4d7d-b416-86ddb5ef50d1",
   "metadata": {},
   "outputs": [],
   "source": [
    "# pip install numpy xarray netCDF4 matplotlib plotly"
   ]
  },
  {
   "cell_type": "code",
   "execution_count": 2,
   "id": "893df89e-c69a-408c-ac30-5e9fa681f5f9",
   "metadata": {},
   "outputs": [],
   "source": [
    "# pip install \"dask[complete]\" -q"
   ]
  },
  {
   "cell_type": "code",
   "execution_count": 3,
   "id": "023fdab5-0f5d-4a9f-bd2a-1e36e3f7b988",
   "metadata": {},
   "outputs": [],
   "source": [
    "# pip install geopy ipywidgets folium -q"
   ]
  },
  {
   "cell_type": "code",
   "execution_count": 4,
   "id": "70492638-2d8b-4349-8679-4578485f55e2",
   "metadata": {},
   "outputs": [],
   "source": [
    "# !jupyter nbextension enable --py widgetsnbextension"
   ]
  },
  {
   "cell_type": "code",
   "execution_count": 5,
   "id": "e10a3be8-696f-43c6-9776-3980d6ebb7ae",
   "metadata": {},
   "outputs": [],
   "source": [
    "#!jupyter labextension install @jupyter-widgets/jupyterlab-manager"
   ]
  },
  {
   "cell_type": "code",
   "execution_count": 6,
   "id": "b92ed7bb-f921-4574-97d5-ca960b6af20d",
   "metadata": {},
   "outputs": [],
   "source": [
    "import xarray as xr\n",
    "import dask\n",
    "import numpy as np\n",
    "import pandas as pd\n",
    "import plotly.graph_objects as go\n",
    "import glob\n",
    "import os\n",
    "import cftime\n",
    "import folium\n",
    "import warnings\n",
    "import ipywidgets as widgets\n",
    "from IPython.display import display, clear_output\n",
    "from geopy.geocoders import Nominatim\n",
    "from geopy.exc import GeocoderTimedOut\n",
    "import time\n",
    "warnings.filterwarnings(\"ignore\", category=RuntimeWarning)"
   ]
  },
  {
   "cell_type": "code",
   "execution_count": 17,
   "id": "eacead0a-88f3-4ef6-84a8-cfe94faa540a",
   "metadata": {},
   "outputs": [
    {
     "name": "stderr",
     "output_type": "stream",
     "text": [
      "Exception ignored in: <bound method CachingFileManager.__del__ of CachingFileManager(<class 'netCDF4._netCDF4.Dataset'>, '/data1/drought_dataset/spei/spei12/SPEI12_genlogistic_global_era5_moda_ref1991to2020_198301.nc', mode='r', kwargs={'clobber': True, 'diskless': False, 'persist': False, 'format': 'NETCDF4'})>\n",
      "Traceback (most recent call last):\n",
      "  File \"/home/marina/tales-of-drought/lib64/python3.6/site-packages/xarray/backends/file_manager.py\", line 244, in __del__\n",
      "    self.close(needs_lock=False)\n",
      "  File \"/home/marina/tales-of-drought/lib64/python3.6/site-packages/xarray/backends/file_manager.py\", line 222, in close\n",
      "    file.close()\n",
      "  File \"src/netCDF4/_netCDF4.pyx\", line 2624, in netCDF4._netCDF4.Dataset.close\n",
      "  File \"src/netCDF4/_netCDF4.pyx\", line 2587, in netCDF4._netCDF4.Dataset._close\n",
      "  File \"src/netCDF4/_netCDF4.pyx\", line 2028, in netCDF4._netCDF4._ensure_nc_success\n",
      "RuntimeError: NetCDF: Not a valid ID\n",
      "Exception ignored in: <bound method CachingFileManager.__del__ of CachingFileManager(<class 'netCDF4._netCDF4.Dataset'>, '/data1/drought_dataset/spei/spei12/SPEI12_genlogistic_global_era5_moda_ref1991to2020_200701.nc', mode='r', kwargs={'clobber': True, 'diskless': False, 'persist': False, 'format': 'NETCDF4'})>\n",
      "Traceback (most recent call last):\n",
      "  File \"/home/marina/tales-of-drought/lib64/python3.6/site-packages/xarray/backends/file_manager.py\", line 244, in __del__\n",
      "    self.close(needs_lock=False)\n",
      "  File \"/home/marina/tales-of-drought/lib64/python3.6/site-packages/xarray/backends/file_manager.py\", line 222, in close\n",
      "    file.close()\n",
      "  File \"src/netCDF4/_netCDF4.pyx\", line 2624, in netCDF4._netCDF4.Dataset.close\n",
      "  File \"src/netCDF4/_netCDF4.pyx\", line 2587, in netCDF4._netCDF4.Dataset._close\n",
      "  File \"src/netCDF4/_netCDF4.pyx\", line 2028, in netCDF4._netCDF4._ensure_nc_success\n",
      "RuntimeError: NetCDF: Not a valid ID\n",
      "Exception ignored in: <bound method CachingFileManager.__del__ of CachingFileManager(<class 'netCDF4._netCDF4.Dataset'>, '/data1/drought_dataset/spei/spei12/SPEI12_genlogistic_global_era5_moda_ref1991to2020_201501.nc', mode='r', kwargs={'clobber': True, 'diskless': False, 'persist': False, 'format': 'NETCDF4'})>\n",
      "Traceback (most recent call last):\n",
      "  File \"/home/marina/tales-of-drought/lib64/python3.6/site-packages/xarray/backends/file_manager.py\", line 244, in __del__\n",
      "    self.close(needs_lock=False)\n",
      "  File \"/home/marina/tales-of-drought/lib64/python3.6/site-packages/xarray/backends/file_manager.py\", line 222, in close\n",
      "    file.close()\n",
      "  File \"src/netCDF4/_netCDF4.pyx\", line 2624, in netCDF4._netCDF4.Dataset.close\n",
      "  File \"src/netCDF4/_netCDF4.pyx\", line 2587, in netCDF4._netCDF4.Dataset._close\n",
      "  File \"src/netCDF4/_netCDF4.pyx\", line 2028, in netCDF4._netCDF4._ensure_nc_success\n",
      "RuntimeError: NetCDF: Not a valid ID\n"
     ]
    }
   ],
   "source": [
    "# Data structure for country to subareas mapping\n",
    "# https://en.wikipedia.org/wiki/List_of_administrative_divisions_by_country\n",
    "country_to_subareas = {\n",
    "    \"Madagascar\": [\n",
    "                    'Alaotra-Mangoro',\n",
    "                     \"Amoron'i Mania\",\n",
    "                     'Analamanga',\n",
    "                     'Analanjirofo',\n",
    "                     'Androy',\n",
    "                     'Anosy',\n",
    "                     'Atsimo-Andrefana',\n",
    "                     'Atsimo-Atsinanana',\n",
    "                     'Atsinanana',\n",
    "                     'Betsiboka',\n",
    "                     'Boeny',\n",
    "                     'Bongolava',\n",
    "                     'Diana',\n",
    "                     'Fitovinany',\n",
    "                     'Ihorombe',\n",
    "                     'Itasy',\n",
    "                     'Matsiatra Ambony',\n",
    "                     'Melaky',\n",
    "                     'Menabe',\n",
    "                     'Sava',\n",
    "                     'Sofia',\n",
    "                     'Vakinankaratra',\n",
    "                     'Vatovavy'\n",
    "                  ],\n",
    "    \"Italy\": [\n",
    "        \"Apulia\",\n",
    "        \"Abruzzo\",\n",
    "        \"Basilicata\",\n",
    "        \"Calabria\",\n",
    "        \"Campania\",\n",
    "        \"Emilia-Romagna\",\n",
    "        \"Friuli Venezia Giulia\",\n",
    "        \"Latium\",\n",
    "        \"Liguria\",\n",
    "        \"Lombardia\",\n",
    "        \"Marche\",\n",
    "        \"Molise\",\n",
    "        \"Piedmont\",\n",
    "        \"Sardinia\",\n",
    "        \"Sicily\",\n",
    "        \"Trentino-Alto Adige\",\n",
    "        \"Tuscany\",\n",
    "        \"Umbria\",\n",
    "        \"Valle d'Aosta\",\n",
    "        \"Veneto\" \n",
    "    ],\n",
    "    \"Brazil\": [\"São Paulo\", \"Rio de Janeiro\", \"Bahia\", \"Minas Gerais\"],\n",
    "    \"India\": [\"Maharashtra\", \"Tamil Nadu\", \"Delhi\", \"Karnataka\"],\n",
    "}\n",
    "\n",
    "area_subset_data = None"
   ]
  },
  {
   "cell_type": "code",
   "execution_count": 8,
   "id": "75f67135-be9e-4cbf-be5e-848e15d3363a",
   "metadata": {},
   "outputs": [],
   "source": [
    "def adjust_to_nearest_025(coord):\n",
    "    \"\"\"\n",
    "    Adjust the given coordinate value to the nearest multiple of 0.25.\n",
    "    \n",
    "    Args:\n",
    "    coord (float): The coordinate value to adjust.\n",
    "    \n",
    "    Returns:\n",
    "    float: Adjusted coordinate value, rounded to the nearest multiple of 0.25.\n",
    "    \"\"\"\n",
    "    return np.round(coord * 4) / 4"
   ]
  },
  {
   "cell_type": "code",
   "execution_count": 9,
   "id": "c7355296-d9d5-4972-aa75-eeffd8ac3565",
   "metadata": {},
   "outputs": [],
   "source": [
    "# This function is because ds.sel(lat=slice(min_lat, max_lat), lon=slice(min_lon, max_lon)) seems not working\n",
    "def generate_coordinate_values(start_coord, end_coord):\n",
    "    \"\"\"\n",
    "    Generate a list of coordinate values from start to end, adjusted to the nearest 0.25 increment.\n",
    "    \n",
    "    Args:\n",
    "    start_coord (float): The starting coordinate.\n",
    "    end_coord (float): The ending coordinate.\n",
    "    \n",
    "    Returns:\n",
    "    list: A list of coordinates from start to end, adjusted to 0.25 increments.\n",
    "    \"\"\"\n",
    "    adjusted_start = adjust_to_nearest_025(start_coord)\n",
    "    adjusted_end = adjust_to_nearest_025(end_coord)\n",
    "    \n",
    "    # Ensure start is less than end\n",
    "    adjusted_start, adjusted_end = min(adjusted_start, adjusted_end), max(adjusted_start, adjusted_end)\n",
    "    \n",
    "    # Generate values within the range\n",
    "    coordinate_values = np.arange(adjusted_start, adjusted_end + 0.25, 0.25)\n",
    "    return coordinate_values.tolist()"
   ]
  },
  {
   "cell_type": "code",
   "execution_count": 10,
   "id": "d90e60ab-0293-4782-a3ac-c712f29f5a7b",
   "metadata": {},
   "outputs": [],
   "source": [
    "# Map to verify that the selected area is the one of interest\n",
    "def display_map(bounds):\n",
    "    # Create a map centered around the middle of the bounds\n",
    "    center_lat = (bounds[0] + bounds[1]) / 2\n",
    "    center_lon = (bounds[2] + bounds[3]) / 2\n",
    "    folium_map = folium.Map(location=[center_lat, center_lon], zoom_start=6)\n",
    "    \n",
    "    # Add a rectangle to represent the bounding box\n",
    "    folium.Rectangle(\n",
    "        bounds=[(bounds[0], bounds[2]), (bounds[1], bounds[3])],\n",
    "        color='blue',\n",
    "        fill=True,\n",
    "        fill_opacity=0.5\n",
    "    ).add_to(folium_map)\n",
    "    \n",
    "    return folium_map"
   ]
  },
  {
   "cell_type": "code",
   "execution_count": 11,
   "id": "9803f1ae-77e1-40aa-9c3c-6df54d0fa64d",
   "metadata": {},
   "outputs": [],
   "source": [
    "def preprocess(ds, bounds):\n",
    "    min_lon, min_lat, max_lon, max_lat = bounds\n",
    "    latitude_list = generate_coordinate_values(min_lat, max_lat)\n",
    "    longitude_list = generate_coordinate_values(min_lon, max_lon)\n",
    "    ds_subset = ds.sel(lat=latitude_list, lon=longitude_list)\n",
    "    return ds_subset"
   ]
  },
  {
   "cell_type": "code",
   "execution_count": 12,
   "id": "7d46e874-6301-491d-b296-0f8de783aa26",
   "metadata": {},
   "outputs": [],
   "source": [
    "def handle_area_change(bounds):\n",
    "    # Function to open and process data files based on selected bounds\n",
    "    global area_subset_data\n",
    "    data_path = '/data1/drought_dataset/spei/spei12/'\n",
    "    file_list = sorted(glob.glob(os.path.join(data_path, 'SPEI12_*01.nc')))\n",
    "    area_subset_data = xr.open_mfdataset(\n",
    "        file_list,\n",
    "        concat_dim='time',\n",
    "        combine='nested',\n",
    "        parallel=True,\n",
    "        preprocess=lambda ds: preprocess(ds, bounds)\n",
    "    )\n",
    "    #print(\"Subsetted latitude values:\", subset.lat.values)\n",
    "    #print(\"Subsetted longitude values:\", subset.lon.values)\n",
    "    return area_subset_data"
   ]
  },
  {
   "cell_type": "code",
   "execution_count": 13,
   "id": "80dc6137-8b74-42b8-a0ba-b748ef3aaf70",
   "metadata": {},
   "outputs": [],
   "source": [
    "# Initialize the Nominatim client\n",
    "geolocator = Nominatim(user_agent=\"talesofdrought\")\n",
    "\n",
    "def get_country_bounds(country):\n",
    "    try:\n",
    "        # Use geocode to query the country with the parameter for getting bounding box\n",
    "        location = geolocator.geocode(country, exactly_one=True, timeout=10)\n",
    "        if location:\n",
    "            # Extract the bounding box\n",
    "            bounding_box = location.raw['boundingbox']\n",
    "            bounds = (float(bounding_box[0]), float(bounding_box[1]),\n",
    "                      float(bounding_box[2]), float(bounding_box[3]))\n",
    "            return bounds\n",
    "        else:\n",
    "            return \"No data found.\"\n",
    "    except GeocoderTimedOut:\n",
    "        print(f\"Geocoding timed out for {country}; retrying...\")\n",
    "        time.sleep(1)\n",
    "        return get_country_bounds(country)  # Retry for this country\n",
    "    except Exception as e:\n",
    "        return f\"Error retrieving data for {country}: {e}\""
   ]
  },
  {
   "cell_type": "code",
   "execution_count": 14,
   "id": "61b5660b-5d9b-4438-ba63-679f3fd218d7",
   "metadata": {},
   "outputs": [],
   "source": [
    "# Update the function to handle changes\n",
    "def update_subarea_selector(*args):\n",
    "    country = country_selector.value\n",
    "    bounds = get_country_bounds(country)  # Fetch bounds when a country is selected\n",
    "    subareas = country_to_subareas.get(country, [])\n",
    "    subarea_selector.options = [placeholder_subarea] + subareas\n",
    "    with country_output:\n",
    "        clear_output(wait=True)\n",
    "        if isinstance(bounds, tuple):\n",
    "            print(f\"Selected Country: {country}\")\n",
    "            print(f\"Latitude Range: {bounds[0]} to {bounds[1]}\")\n",
    "            print(f\"Longitude Range: {bounds[2]} to {bounds[3]}\")\n",
    "            # display(display_map(bounds))\n",
    "        else:\n",
    "            print(bounds)"
   ]
  },
  {
   "cell_type": "code",
   "execution_count": 15,
   "id": "211086cf-3660-4022-b923-cb7054d97445",
   "metadata": {},
   "outputs": [],
   "source": [
    "def on_subarea_change(change):\n",
    "    if change['type'] == 'change' and change['name'] == 'value':\n",
    "        subarea = change['new']\n",
    "        bounds = get_country_bounds(subarea)\n",
    "        with subarea_output:\n",
    "            clear_output(wait=True)\n",
    "            if isinstance(bounds, tuple):\n",
    "                print(f\"Selected subarea: {subarea}\")\n",
    "                print(f\"Latitude Range: {bounds[0]} to {bounds[1]}\")\n",
    "                print(f\"Longitude Range: {bounds[2]} to {bounds[3]}\")\n",
    "                handle_area_change(bounds)\n",
    "                display(display_map(bounds)) \n",
    "            else:\n",
    "                print(bounds)"
   ]
  },
  {
   "cell_type": "code",
   "execution_count": 16,
   "id": "b342cf97-5e08-43fa-933b-c64276780c89",
   "metadata": {},
   "outputs": [
    {
     "data": {
      "application/vnd.jupyter.widget-view+json": {
       "model_id": "cea503bc2e50488682486708416ca882",
       "version_major": 2,
       "version_minor": 0
      },
      "text/plain": [
       "Dropdown(description='Country:', options=('Select a country...', 'Madagascar', 'Italy', 'Brazil', 'India'), st…"
      ]
     },
     "metadata": {},
     "output_type": "display_data"
    },
    {
     "data": {
      "application/vnd.jupyter.widget-view+json": {
       "model_id": "831ccdb000d5499291d79aeb208f41db",
       "version_major": 2,
       "version_minor": 0
      },
      "text/plain": [
       "Output()"
      ]
     },
     "metadata": {},
     "output_type": "display_data"
    },
    {
     "data": {
      "application/vnd.jupyter.widget-view+json": {
       "model_id": "646132d9c24d4e97bad8810103d1a634",
       "version_major": 2,
       "version_minor": 0
      },
      "text/plain": [
       "Dropdown(description='Subarea:', options=(), style=DescriptionStyle(description_width='initial'), value=None)"
      ]
     },
     "metadata": {},
     "output_type": "display_data"
    },
    {
     "data": {
      "application/vnd.jupyter.widget-view+json": {
       "model_id": "4758c37384f54d8d959e9a6971aefc49",
       "version_major": 2,
       "version_minor": 0
      },
      "text/plain": [
       "Output()"
      ]
     },
     "metadata": {},
     "output_type": "display_data"
    }
   ],
   "source": [
    "placeholder_country = \"Select a country...\"\n",
    "placeholder_subarea = \"Select a subarea...\"\n",
    "\n",
    "\n",
    "# First dropdown for countries\n",
    "country_selector = widgets.Dropdown(\n",
    "    options=[placeholder_country] + list(country_to_subareas.keys()),\n",
    "    description='Country:',\n",
    "    style={'description_width': 'initial'}\n",
    ")\n",
    "\n",
    "# Second dropdown for subareas, initially empty\n",
    "subarea_selector = widgets.Dropdown(\n",
    "    options=[],\n",
    "    description='Subarea:',\n",
    "    style={'description_width': 'initial'}\n",
    ")\n",
    "\n",
    "# Output widgets to display results\n",
    "country_output = widgets.Output()\n",
    "subarea_output = widgets.Output()\n",
    "\n",
    "# Watch the country/subarea selectors for changes\n",
    "country_selector.observe(update_subarea_selector, names='value')\n",
    "subarea_selector.observe(on_subarea_change, names='value')\n",
    "\n",
    "# Display widgets\n",
    "display(country_selector, country_output)\n",
    "display(subarea_selector, subarea_output)"
   ]
  },
  {
   "cell_type": "code",
   "execution_count": 42,
   "id": "213097ca-0df1-4d67-b180-cbf65aca2917",
   "metadata": {},
   "outputs": [
    {
     "name": "stdout",
     "output_type": "stream",
     "text": [
      "<xarray.Dataset>\n",
      "Dimensions:  (lat: 257, lon: 263, time: 86)\n",
      "Coordinates:\n",
      "  * time     (time) object 1940-01-01T06:00:00 ... 2024-01-01 06:00:00\n",
      "  * lon      (lon) float64 -22.0 -21.75 -21.5 -21.25 ... 42.75 43.0 43.25 43.5\n",
      "  * lat      (lat) float64 -18.25 -18.0 -17.75 -17.5 ... 45.0 45.25 45.5 45.75\n",
      "Data variables:\n",
      "    SPEI12   (time, lat, lon) float64 dask.array<chunksize=(1, 257, 263), meta=np.ndarray>\n",
      "Attributes:\n",
      "    CDI:          Climate Data Interface version 2.1.1 (https://mpimet.mpg.de...\n",
      "    Conventions:  CF-1.6\n",
      "    source:       DRYFALL v0.1\n",
      "    institution:  ECMWF\n",
      "    title:        SPEI12\n",
      "    description:  Drought Index: Standardized Drought Index calculated accord...\n",
      "    history:      Thu Feb 15 13:45:57 2024: cdo -selyear,1940 -selmon,1 /scra...\n",
      "    CDO:          Climate Data Operators version 2.1.1 (https://mpimet.mpg.de...\n"
     ]
    }
   ],
   "source": [
    "print(area_subset_data)"
   ]
  },
  {
   "cell_type": "code",
   "execution_count": 43,
   "id": "68f69005-00a9-4a2c-8c16-1f13f99aeacd",
   "metadata": {},
   "outputs": [],
   "source": [
    "# print(area_subset_data['SPEI12'].values)"
   ]
  },
  {
   "cell_type": "code",
   "execution_count": 44,
   "id": "66a6e2c8-c315-4a88-97f3-ea28da3b23ac",
   "metadata": {},
   "outputs": [],
   "source": [
    "area_subset_data['SPEI12'] = area_subset_data['SPEI12'].where(area_subset_data['SPEI12'] != -9999.0) # Replace -9999.0 with NaN across the dataset"
   ]
  },
  {
   "cell_type": "code",
   "execution_count": 45,
   "id": "04f63fc7-c5ac-4a55-8ef7-8ee7c58d1bcc",
   "metadata": {},
   "outputs": [
    {
     "name": "stdout",
     "output_type": "stream",
     "text": [
      "<xarray.DataArray 'SPEI12' (time: 86)>\n",
      "dask.array<mean_agg-aggregate, shape=(86,), dtype=float64, chunksize=(1,), chunktype=numpy.ndarray>\n",
      "Coordinates:\n",
      "  * time     (time) object 1940-01-01T06:00:00 ... 2024-01-01 06:00:00\n"
     ]
    }
   ],
   "source": [
    "mean_spei = area_subset_data['SPEI12'].mean(dim=['lat', 'lon'])\n",
    "print(mean_spei)"
   ]
  },
  {
   "cell_type": "code",
   "execution_count": 46,
   "id": "6c05bd21-3411-41a5-a7ef-fc5190b6dc0f",
   "metadata": {},
   "outputs": [],
   "source": [
    "def assign_color(spei_values):\n",
    "    colors = []\n",
    "    for spei in spei_values:\n",
    "        if spei > 2.0:\n",
    "            colors.append('#064A78')  # extremely wet\n",
    "        elif 1.5 < spei <= 2.0:\n",
    "            colors.append('#49AEFF')  # severely wet\n",
    "        elif 1.0 < spei <= 1.5:\n",
    "            colors.append('#61A5CE')  # moderately wet\n",
    "        elif 0 < spei <= 1.0:\n",
    "            colors.append('#ACD1E5')  # near-normal / mildly wet\n",
    "        elif -1.0 < spei <= 0:\n",
    "            colors.append('#F7BB9F')  # near-normal / mildly dry\n",
    "        elif -1.5 < spei <= -1.0:\n",
    "            colors.append('#D96C59')  # moderately dry\n",
    "        elif -2.0 < spei <= -1.5:\n",
    "            colors.append('#AF2331')  # severely dry\n",
    "        else:\n",
    "            colors.append('#681824')  # extremely dry\n",
    "    return colors"
   ]
  },
  {
   "cell_type": "code",
   "execution_count": 47,
   "id": "d418f89d-6e9a-4cc2-a64b-c4049e692dda",
   "metadata": {},
   "outputs": [
    {
     "name": "stdout",
     "output_type": "stream",
     "text": [
      "<xarray.DataArray 'SPEI12' (time: 86)>\n",
      "array([            nan, -1.88334359e-01, -1.01265885e+00,  1.11587715e-02,\n",
      "        4.66473307e-02,  3.33240163e-01, -8.94684213e-02, -1.83762389e-01,\n",
      "        1.02154753e+00,  6.44047712e-01,  1.49892162e-01,  9.22614354e-01,\n",
      "        1.19461630e+00,  9.99021429e-01,  1.42808166e+00, -1.88334359e-01,\n",
      "        3.74426124e-01,  8.97591208e-01,  1.32847162e+00,  3.17849894e-01,\n",
      "        4.00271999e-01,  4.65484944e-01,  5.66015350e-01,  8.74667421e-01,\n",
      "        1.22584917e+00,  6.11329748e-01,  4.11801900e-01,  4.98747063e-01,\n",
      "        1.40624281e+00,  1.02398697e+00,  1.20363617e+00,  4.77698326e-01,\n",
      "        9.45050377e-01,  1.15937825e+00,  3.85222871e-01,  9.28642579e-01,\n",
      "        9.53758512e-01, -1.88334359e-01,  6.45806224e-01,  1.05727368e+00,\n",
      "        8.66790049e-01,  7.05783152e-01,  4.33658278e-01,  7.67107453e-01,\n",
      "       -1.29891874e-01,  2.29036309e-01,  7.59986799e-01,  6.58613113e-01,\n",
      "        2.65396826e-01,  8.66673603e-01,  4.57488999e-01, -4.41561103e-02,\n",
      "        6.53591288e-01,  3.84689407e-01,  2.88300860e-01,  5.99301881e-01,\n",
      "        4.40730921e-01,  3.42233847e-01,  6.20728362e-01,  3.92900743e-02,\n",
      "        4.43331573e-01, -3.07350335e-01, -4.03536808e-01, -1.69563437e-01,\n",
      "        2.68877829e-02, -4.13448218e-01, -1.55970677e-01, -1.30549029e-04,\n",
      "       -1.94916624e-01, -3.92997592e-01, -3.82433372e-01, -2.61717279e-02,\n",
      "       -3.68878035e-01, -1.37634813e-01, -3.75899128e-01, -1.28947356e-01,\n",
      "       -3.04979930e-01, -4.40622784e-01, -5.47490635e-01,  2.38006840e-01,\n",
      "        2.43121258e-01, -4.18109493e-01, -1.29070552e+00, -1.88334359e-01,\n",
      "       -7.48909837e-01, -7.48909837e-01])\n",
      "Coordinates:\n",
      "  * time     (time) object 1940-01-01T06:00:00 ... 2024-01-01 06:00:00\n"
     ]
    }
   ],
   "source": [
    "mean_spei_computed = mean_spei.compute()\n",
    "print(mean_spei_computed)"
   ]
  },
  {
   "cell_type": "code",
   "execution_count": 48,
   "id": "7cf9e3bd-f454-4069-96c3-f92fd2728f6f",
   "metadata": {},
   "outputs": [],
   "source": [
    "# Extract times and values for plotting\n",
    "times = mean_spei_computed['time'].values\n",
    "values = mean_spei_computed.values\n",
    "colors = assign_color(values)"
   ]
  },
  {
   "cell_type": "code",
   "execution_count": 49,
   "id": "5292840b-dc16-4c5d-8944-2db0cbf574cd",
   "metadata": {},
   "outputs": [
    {
     "data": {
      "application/vnd.plotly.v1+json": {
       "config": {
        "plotlyServerURL": "https://plot.ly"
       },
       "data": [
        {
         "marker": {
          "color": [
           "#681824",
           "#F7BB9F",
           "#D96C59",
           "#ACD1E5",
           "#ACD1E5",
           "#ACD1E5",
           "#F7BB9F",
           "#F7BB9F",
           "#61A5CE",
           "#ACD1E5",
           "#ACD1E5",
           "#ACD1E5",
           "#61A5CE",
           "#ACD1E5",
           "#61A5CE",
           "#F7BB9F",
           "#ACD1E5",
           "#ACD1E5",
           "#61A5CE",
           "#ACD1E5",
           "#ACD1E5",
           "#ACD1E5",
           "#ACD1E5",
           "#ACD1E5",
           "#61A5CE",
           "#ACD1E5",
           "#ACD1E5",
           "#ACD1E5",
           "#61A5CE",
           "#61A5CE",
           "#61A5CE",
           "#ACD1E5",
           "#ACD1E5",
           "#61A5CE",
           "#ACD1E5",
           "#ACD1E5",
           "#ACD1E5",
           "#F7BB9F",
           "#ACD1E5",
           "#61A5CE",
           "#ACD1E5",
           "#ACD1E5",
           "#ACD1E5",
           "#ACD1E5",
           "#F7BB9F",
           "#ACD1E5",
           "#ACD1E5",
           "#ACD1E5",
           "#ACD1E5",
           "#ACD1E5",
           "#ACD1E5",
           "#F7BB9F",
           "#ACD1E5",
           "#ACD1E5",
           "#ACD1E5",
           "#ACD1E5",
           "#ACD1E5",
           "#ACD1E5",
           "#ACD1E5",
           "#ACD1E5",
           "#ACD1E5",
           "#F7BB9F",
           "#F7BB9F",
           "#F7BB9F",
           "#ACD1E5",
           "#F7BB9F",
           "#F7BB9F",
           "#F7BB9F",
           "#F7BB9F",
           "#F7BB9F",
           "#F7BB9F",
           "#F7BB9F",
           "#F7BB9F",
           "#F7BB9F",
           "#F7BB9F",
           "#F7BB9F",
           "#F7BB9F",
           "#F7BB9F",
           "#F7BB9F",
           "#ACD1E5",
           "#ACD1E5",
           "#F7BB9F",
           "#D96C59",
           "#F7BB9F",
           "#F7BB9F",
           "#F7BB9F"
          ],
          "line": {
           "color": "#717BFA",
           "width": 0
          },
          "size": 10
         },
         "mode": "markers",
         "name": "Mean SPEI12",
         "type": "scatter",
         "x": [
          "1940-01-01T06:00:00",
          "1941-01-01T06:00:00",
          "1942-01-01T06:00:00",
          "1943-01-01T06:00:00",
          "1944-01-01T06:00:00",
          "1945-01-01T06:00:00",
          "1946-01-01T06:00:00",
          "1947-01-01T06:00:00",
          "1948-01-01T06:00:00",
          "1949-01-01T06:00:00",
          "1950-01-01T06:00:00",
          "1951-01-01T06:00:00",
          "1952-01-01T06:00:00",
          "1953-01-01T06:00:00",
          "1954-01-01T06:00:00",
          "1941-01-01T06:00:00",
          "1956-01-01T06:00:00",
          "1957-01-01T06:00:00",
          "1958-01-01T06:00:00",
          "1959-01-01T06:00:00",
          "1960-01-01T06:00:00",
          "1961-01-01T06:00:00",
          "1962-01-01T06:00:00",
          "1963-01-01T06:00:00",
          "1964-01-01T06:00:00",
          "1965-01-01T06:00:00",
          "1966-01-01T06:00:00",
          "1967-01-01T06:00:00",
          "1968-01-01T06:00:00",
          "1969-01-01T06:00:00",
          "1970-01-01T06:00:00",
          "1971-01-01T06:00:00",
          "1972-01-01T06:00:00",
          "1973-01-01T06:00:00",
          "1974-01-01T06:00:00",
          "1975-01-01T06:00:00",
          "1976-01-01T06:00:00",
          "1941-01-01T06:00:00",
          "1978-01-01T06:00:00",
          "1979-01-01T06:00:00",
          "1980-01-01T06:00:00",
          "1981-01-01T06:00:00",
          "1982-01-01T06:00:00",
          "1983-01-01T06:00:00",
          "1984-01-01T06:00:00",
          "1985-01-01T06:00:00",
          "1986-01-01T06:00:00",
          "1987-01-01T06:00:00",
          "1988-01-01T06:00:00",
          "1989-01-01T06:00:00",
          "1990-01-01T06:00:00",
          "1991-01-01T06:00:00",
          "1992-01-01T06:00:00",
          "1993-01-01T06:00:00",
          "1994-01-01T06:00:00",
          "1995-01-01T06:00:00",
          "1996-01-01T06:00:00",
          "1997-01-01T06:00:00",
          "1998-01-01T06:00:00",
          "1999-01-01T06:00:00",
          "2000-01-01T06:00:00",
          "2001-01-01T06:00:00",
          "2002-01-01T06:00:00",
          "2003-01-01T06:00:00",
          "2004-01-01T06:00:00",
          "2005-01-01T06:00:00",
          "2006-01-01T06:00:00",
          "2007-01-01T06:00:00",
          "2008-01-01T06:00:00",
          "2009-01-01T06:00:00",
          "2010-01-01T06:00:00",
          "2011-01-01T06:00:00",
          "2012-01-01T06:00:00",
          "2013-01-01T06:00:00",
          "2014-01-01T06:00:00",
          "2015-01-01T06:00:00",
          "2016-01-01T06:00:00",
          "2017-01-01T06:00:00",
          "2018-01-01T06:00:00",
          "2019-01-01T06:00:00",
          "2020-01-01T06:00:00",
          "2021-01-01T06:00:00",
          "2022-01-01T06:00:00",
          "1941-01-01T06:00:00",
          "2024-01-01T06:00:00",
          "2024-01-01T06:00:00"
         ],
         "y": [
          null,
          -0.18833435908523521,
          -1.0126588498988485,
          0.011158771508563972,
          0.046647330673909006,
          0.3332401632424409,
          -0.08946842134711974,
          -0.18376238913889426,
          1.0215475268738887,
          0.6440477124280867,
          0.14989216150908316,
          0.922614354430322,
          1.1946163047140275,
          0.9990214292951385,
          1.4280816614777323,
          -0.18833435908523521,
          0.37442612390973773,
          0.8975912081650746,
          1.3284716232835474,
          0.31784989365147237,
          0.4002719985578447,
          0.4654849435051057,
          0.5660153498418015,
          0.8746674205688543,
          1.2258491748411318,
          0.611329748260081,
          0.41180190015685625,
          0.49874706269174834,
          1.4062428053045624,
          1.0239869732568732,
          1.2036361652020777,
          0.4776983260187881,
          0.9450503769396887,
          1.1593782517418139,
          0.38522287082484324,
          0.9286425786416254,
          0.9537585123874723,
          -0.18833435908523521,
          0.6458062239590426,
          1.0572736830421043,
          0.866790048767754,
          0.7057831516161686,
          0.43365827825975367,
          0.7671074526186229,
          -0.1298918742140118,
          0.22903630898561314,
          0.7599867985547719,
          0.6586131131419519,
          0.26539682649412755,
          0.8666736027988409,
          0.4574889987033684,
          -0.04415611033289153,
          0.6535912882879878,
          0.3846894070521803,
          0.2883008596148667,
          0.5993018812720204,
          0.44073092057088475,
          0.3422338474756795,
          0.6207283620953337,
          0.03929007428143988,
          0.4433315734863212,
          -0.3073503351297366,
          -0.4035368082360787,
          -0.16956343731902487,
          0.026887782946042646,
          -0.413448218377015,
          -0.15597067677099444,
          -0.00013054902939503145,
          -0.19491662381542604,
          -0.39299759153552594,
          -0.3824333723934617,
          -0.02617172788765801,
          -0.36887803473924535,
          -0.13763481345899253,
          -0.3758991276169769,
          -0.1289473557871343,
          -0.304979930295746,
          -0.44062278448394443,
          -0.5474906353470765,
          0.23800684018359575,
          0.2431212578196283,
          -0.41810949266156616,
          -1.2907055179662945,
          -0.18833435908523521,
          -0.7489098369391894,
          -0.7489098369391894
         ]
        }
       ],
       "layout": {
        "autosize": true,
        "paper_bgcolor": "white",
        "plot_bgcolor": "white",
        "template": {
         "data": {
          "bar": [
           {
            "error_x": {
             "color": "#2a3f5f"
            },
            "error_y": {
             "color": "#2a3f5f"
            },
            "marker": {
             "line": {
              "color": "#E5ECF6",
              "width": 0.5
             },
             "pattern": {
              "fillmode": "overlay",
              "size": 10,
              "solidity": 0.2
             }
            },
            "type": "bar"
           }
          ],
          "barpolar": [
           {
            "marker": {
             "line": {
              "color": "#E5ECF6",
              "width": 0.5
             },
             "pattern": {
              "fillmode": "overlay",
              "size": 10,
              "solidity": 0.2
             }
            },
            "type": "barpolar"
           }
          ],
          "carpet": [
           {
            "aaxis": {
             "endlinecolor": "#2a3f5f",
             "gridcolor": "white",
             "linecolor": "white",
             "minorgridcolor": "white",
             "startlinecolor": "#2a3f5f"
            },
            "baxis": {
             "endlinecolor": "#2a3f5f",
             "gridcolor": "white",
             "linecolor": "white",
             "minorgridcolor": "white",
             "startlinecolor": "#2a3f5f"
            },
            "type": "carpet"
           }
          ],
          "choropleth": [
           {
            "colorbar": {
             "outlinewidth": 0,
             "ticks": ""
            },
            "type": "choropleth"
           }
          ],
          "contour": [
           {
            "colorbar": {
             "outlinewidth": 0,
             "ticks": ""
            },
            "colorscale": [
             [
              0,
              "#0d0887"
             ],
             [
              0.1111111111111111,
              "#46039f"
             ],
             [
              0.2222222222222222,
              "#7201a8"
             ],
             [
              0.3333333333333333,
              "#9c179e"
             ],
             [
              0.4444444444444444,
              "#bd3786"
             ],
             [
              0.5555555555555556,
              "#d8576b"
             ],
             [
              0.6666666666666666,
              "#ed7953"
             ],
             [
              0.7777777777777778,
              "#fb9f3a"
             ],
             [
              0.8888888888888888,
              "#fdca26"
             ],
             [
              1,
              "#f0f921"
             ]
            ],
            "type": "contour"
           }
          ],
          "contourcarpet": [
           {
            "colorbar": {
             "outlinewidth": 0,
             "ticks": ""
            },
            "type": "contourcarpet"
           }
          ],
          "heatmap": [
           {
            "colorbar": {
             "outlinewidth": 0,
             "ticks": ""
            },
            "colorscale": [
             [
              0,
              "#0d0887"
             ],
             [
              0.1111111111111111,
              "#46039f"
             ],
             [
              0.2222222222222222,
              "#7201a8"
             ],
             [
              0.3333333333333333,
              "#9c179e"
             ],
             [
              0.4444444444444444,
              "#bd3786"
             ],
             [
              0.5555555555555556,
              "#d8576b"
             ],
             [
              0.6666666666666666,
              "#ed7953"
             ],
             [
              0.7777777777777778,
              "#fb9f3a"
             ],
             [
              0.8888888888888888,
              "#fdca26"
             ],
             [
              1,
              "#f0f921"
             ]
            ],
            "type": "heatmap"
           }
          ],
          "heatmapgl": [
           {
            "colorbar": {
             "outlinewidth": 0,
             "ticks": ""
            },
            "colorscale": [
             [
              0,
              "#0d0887"
             ],
             [
              0.1111111111111111,
              "#46039f"
             ],
             [
              0.2222222222222222,
              "#7201a8"
             ],
             [
              0.3333333333333333,
              "#9c179e"
             ],
             [
              0.4444444444444444,
              "#bd3786"
             ],
             [
              0.5555555555555556,
              "#d8576b"
             ],
             [
              0.6666666666666666,
              "#ed7953"
             ],
             [
              0.7777777777777778,
              "#fb9f3a"
             ],
             [
              0.8888888888888888,
              "#fdca26"
             ],
             [
              1,
              "#f0f921"
             ]
            ],
            "type": "heatmapgl"
           }
          ],
          "histogram": [
           {
            "marker": {
             "pattern": {
              "fillmode": "overlay",
              "size": 10,
              "solidity": 0.2
             }
            },
            "type": "histogram"
           }
          ],
          "histogram2d": [
           {
            "colorbar": {
             "outlinewidth": 0,
             "ticks": ""
            },
            "colorscale": [
             [
              0,
              "#0d0887"
             ],
             [
              0.1111111111111111,
              "#46039f"
             ],
             [
              0.2222222222222222,
              "#7201a8"
             ],
             [
              0.3333333333333333,
              "#9c179e"
             ],
             [
              0.4444444444444444,
              "#bd3786"
             ],
             [
              0.5555555555555556,
              "#d8576b"
             ],
             [
              0.6666666666666666,
              "#ed7953"
             ],
             [
              0.7777777777777778,
              "#fb9f3a"
             ],
             [
              0.8888888888888888,
              "#fdca26"
             ],
             [
              1,
              "#f0f921"
             ]
            ],
            "type": "histogram2d"
           }
          ],
          "histogram2dcontour": [
           {
            "colorbar": {
             "outlinewidth": 0,
             "ticks": ""
            },
            "colorscale": [
             [
              0,
              "#0d0887"
             ],
             [
              0.1111111111111111,
              "#46039f"
             ],
             [
              0.2222222222222222,
              "#7201a8"
             ],
             [
              0.3333333333333333,
              "#9c179e"
             ],
             [
              0.4444444444444444,
              "#bd3786"
             ],
             [
              0.5555555555555556,
              "#d8576b"
             ],
             [
              0.6666666666666666,
              "#ed7953"
             ],
             [
              0.7777777777777778,
              "#fb9f3a"
             ],
             [
              0.8888888888888888,
              "#fdca26"
             ],
             [
              1,
              "#f0f921"
             ]
            ],
            "type": "histogram2dcontour"
           }
          ],
          "mesh3d": [
           {
            "colorbar": {
             "outlinewidth": 0,
             "ticks": ""
            },
            "type": "mesh3d"
           }
          ],
          "parcoords": [
           {
            "line": {
             "colorbar": {
              "outlinewidth": 0,
              "ticks": ""
             }
            },
            "type": "parcoords"
           }
          ],
          "pie": [
           {
            "automargin": true,
            "type": "pie"
           }
          ],
          "scatter": [
           {
            "fillpattern": {
             "fillmode": "overlay",
             "size": 10,
             "solidity": 0.2
            },
            "type": "scatter"
           }
          ],
          "scatter3d": [
           {
            "line": {
             "colorbar": {
              "outlinewidth": 0,
              "ticks": ""
             }
            },
            "marker": {
             "colorbar": {
              "outlinewidth": 0,
              "ticks": ""
             }
            },
            "type": "scatter3d"
           }
          ],
          "scattercarpet": [
           {
            "marker": {
             "colorbar": {
              "outlinewidth": 0,
              "ticks": ""
             }
            },
            "type": "scattercarpet"
           }
          ],
          "scattergeo": [
           {
            "marker": {
             "colorbar": {
              "outlinewidth": 0,
              "ticks": ""
             }
            },
            "type": "scattergeo"
           }
          ],
          "scattergl": [
           {
            "marker": {
             "colorbar": {
              "outlinewidth": 0,
              "ticks": ""
             }
            },
            "type": "scattergl"
           }
          ],
          "scattermapbox": [
           {
            "marker": {
             "colorbar": {
              "outlinewidth": 0,
              "ticks": ""
             }
            },
            "type": "scattermapbox"
           }
          ],
          "scatterpolar": [
           {
            "marker": {
             "colorbar": {
              "outlinewidth": 0,
              "ticks": ""
             }
            },
            "type": "scatterpolar"
           }
          ],
          "scatterpolargl": [
           {
            "marker": {
             "colorbar": {
              "outlinewidth": 0,
              "ticks": ""
             }
            },
            "type": "scatterpolargl"
           }
          ],
          "scatterternary": [
           {
            "marker": {
             "colorbar": {
              "outlinewidth": 0,
              "ticks": ""
             }
            },
            "type": "scatterternary"
           }
          ],
          "surface": [
           {
            "colorbar": {
             "outlinewidth": 0,
             "ticks": ""
            },
            "colorscale": [
             [
              0,
              "#0d0887"
             ],
             [
              0.1111111111111111,
              "#46039f"
             ],
             [
              0.2222222222222222,
              "#7201a8"
             ],
             [
              0.3333333333333333,
              "#9c179e"
             ],
             [
              0.4444444444444444,
              "#bd3786"
             ],
             [
              0.5555555555555556,
              "#d8576b"
             ],
             [
              0.6666666666666666,
              "#ed7953"
             ],
             [
              0.7777777777777778,
              "#fb9f3a"
             ],
             [
              0.8888888888888888,
              "#fdca26"
             ],
             [
              1,
              "#f0f921"
             ]
            ],
            "type": "surface"
           }
          ],
          "table": [
           {
            "cells": {
             "fill": {
              "color": "#EBF0F8"
             },
             "line": {
              "color": "white"
             }
            },
            "header": {
             "fill": {
              "color": "#C8D4E3"
             },
             "line": {
              "color": "white"
             }
            },
            "type": "table"
           }
          ]
         },
         "layout": {
          "annotationdefaults": {
           "arrowcolor": "#2a3f5f",
           "arrowhead": 0,
           "arrowwidth": 1
          },
          "autotypenumbers": "strict",
          "coloraxis": {
           "colorbar": {
            "outlinewidth": 0,
            "ticks": ""
           }
          },
          "colorscale": {
           "diverging": [
            [
             0,
             "#8e0152"
            ],
            [
             0.1,
             "#c51b7d"
            ],
            [
             0.2,
             "#de77ae"
            ],
            [
             0.3,
             "#f1b6da"
            ],
            [
             0.4,
             "#fde0ef"
            ],
            [
             0.5,
             "#f7f7f7"
            ],
            [
             0.6,
             "#e6f5d0"
            ],
            [
             0.7,
             "#b8e186"
            ],
            [
             0.8,
             "#7fbc41"
            ],
            [
             0.9,
             "#4d9221"
            ],
            [
             1,
             "#276419"
            ]
           ],
           "sequential": [
            [
             0,
             "#0d0887"
            ],
            [
             0.1111111111111111,
             "#46039f"
            ],
            [
             0.2222222222222222,
             "#7201a8"
            ],
            [
             0.3333333333333333,
             "#9c179e"
            ],
            [
             0.4444444444444444,
             "#bd3786"
            ],
            [
             0.5555555555555556,
             "#d8576b"
            ],
            [
             0.6666666666666666,
             "#ed7953"
            ],
            [
             0.7777777777777778,
             "#fb9f3a"
            ],
            [
             0.8888888888888888,
             "#fdca26"
            ],
            [
             1,
             "#f0f921"
            ]
           ],
           "sequentialminus": [
            [
             0,
             "#0d0887"
            ],
            [
             0.1111111111111111,
             "#46039f"
            ],
            [
             0.2222222222222222,
             "#7201a8"
            ],
            [
             0.3333333333333333,
             "#9c179e"
            ],
            [
             0.4444444444444444,
             "#bd3786"
            ],
            [
             0.5555555555555556,
             "#d8576b"
            ],
            [
             0.6666666666666666,
             "#ed7953"
            ],
            [
             0.7777777777777778,
             "#fb9f3a"
            ],
            [
             0.8888888888888888,
             "#fdca26"
            ],
            [
             1,
             "#f0f921"
            ]
           ]
          },
          "colorway": [
           "#636efa",
           "#EF553B",
           "#00cc96",
           "#ab63fa",
           "#FFA15A",
           "#19d3f3",
           "#FF6692",
           "#B6E880",
           "#FF97FF",
           "#FECB52"
          ],
          "font": {
           "color": "#2a3f5f"
          },
          "geo": {
           "bgcolor": "white",
           "lakecolor": "white",
           "landcolor": "#E5ECF6",
           "showlakes": true,
           "showland": true,
           "subunitcolor": "white"
          },
          "hoverlabel": {
           "align": "left"
          },
          "hovermode": "closest",
          "mapbox": {
           "style": "light"
          },
          "paper_bgcolor": "white",
          "plot_bgcolor": "#E5ECF6",
          "polar": {
           "angularaxis": {
            "gridcolor": "white",
            "linecolor": "white",
            "ticks": ""
           },
           "bgcolor": "#E5ECF6",
           "radialaxis": {
            "gridcolor": "white",
            "linecolor": "white",
            "ticks": ""
           }
          },
          "scene": {
           "xaxis": {
            "backgroundcolor": "#E5ECF6",
            "gridcolor": "white",
            "gridwidth": 2,
            "linecolor": "white",
            "showbackground": true,
            "ticks": "",
            "zerolinecolor": "white"
           },
           "yaxis": {
            "backgroundcolor": "#E5ECF6",
            "gridcolor": "white",
            "gridwidth": 2,
            "linecolor": "white",
            "showbackground": true,
            "ticks": "",
            "zerolinecolor": "white"
           },
           "zaxis": {
            "backgroundcolor": "#E5ECF6",
            "gridcolor": "white",
            "gridwidth": 2,
            "linecolor": "white",
            "showbackground": true,
            "ticks": "",
            "zerolinecolor": "white"
           }
          },
          "shapedefaults": {
           "line": {
            "color": "#2a3f5f"
           }
          },
          "ternary": {
           "aaxis": {
            "gridcolor": "white",
            "linecolor": "white",
            "ticks": ""
           },
           "baxis": {
            "gridcolor": "white",
            "linecolor": "white",
            "ticks": ""
           },
           "bgcolor": "#E5ECF6",
           "caxis": {
            "gridcolor": "white",
            "linecolor": "white",
            "ticks": ""
           }
          },
          "title": {
           "x": 0.05
          },
          "xaxis": {
           "automargin": true,
           "gridcolor": "white",
           "linecolor": "white",
           "ticks": "",
           "title": {
            "standoff": 15
           },
           "zerolinecolor": "white",
           "zerolinewidth": 2
          },
          "yaxis": {
           "automargin": true,
           "gridcolor": "white",
           "linecolor": "white",
           "ticks": "",
           "title": {
            "standoff": 15
           },
           "zerolinecolor": "white",
           "zerolinewidth": 2
          }
         }
        },
        "title": {
         "text": "Mean SPEI12 Trends over time in January"
        },
        "xaxis": {
         "autorange": true,
         "gridcolor": "lightgray",
         "linecolor": "lightgray",
         "range": [
          "1934-10-24 07:28:40.8438",
          "2029-03-10 04:31:19.1562"
         ],
         "showgrid": true,
         "title": {
          "text": "Years"
         },
         "type": "date"
        },
        "yaxis": {
         "autorange": true,
         "gridcolor": "lightgray",
         "linecolor": "lightgray",
         "range": [
          -1.4934057933147207,
          1.6307819368261582
         ],
         "showgrid": true,
         "title": {
          "text": "Mean SPEI12 Index"
         },
         "type": "linear",
         "zeroline": true,
         "zerolinecolor": "black",
         "zerolinewidth": 1
        }
       }
      },
      "image/png": "[encoded data removed]",
      "text/html": [
       "<div>                            <div id=\"21df650c-aab6-4e60-9112-12e5875e0256\" class=\"plotly-graph-div\" style=\"height:600px; width:100%;\"></div>            <script type=\"text/javascript\">                require([\"plotly\"], function(Plotly) {                    window.PLOTLYENV=window.PLOTLYENV || {};                                    if (document.getElementById(\"21df650c-aab6-4e60-9112-12e5875e0256\")) {                    Plotly.newPlot(                        \"21df650c-aab6-4e60-9112-12e5875e0256\",                        [{\"marker\":{\"color\":[\"#681824\",\"#F7BB9F\",\"#D96C59\",\"#ACD1E5\",\"#ACD1E5\",\"#ACD1E5\",\"#F7BB9F\",\"#F7BB9F\",\"#61A5CE\",\"#ACD1E5\",\"#ACD1E5\",\"#ACD1E5\",\"#61A5CE\",\"#ACD1E5\",\"#61A5CE\",\"#F7BB9F\",\"#ACD1E5\",\"#ACD1E5\",\"#61A5CE\",\"#ACD1E5\",\"#ACD1E5\",\"#ACD1E5\",\"#ACD1E5\",\"#ACD1E5\",\"#61A5CE\",\"#ACD1E5\",\"#ACD1E5\",\"#ACD1E5\",\"#61A5CE\",\"#61A5CE\",\"#61A5CE\",\"#ACD1E5\",\"#ACD1E5\",\"#61A5CE\",\"#ACD1E5\",\"#ACD1E5\",\"#ACD1E5\",\"#F7BB9F\",\"#ACD1E5\",\"#61A5CE\",\"#ACD1E5\",\"#ACD1E5\",\"#ACD1E5\",\"#ACD1E5\",\"#F7BB9F\",\"#ACD1E5\",\"#ACD1E5\",\"#ACD1E5\",\"#ACD1E5\",\"#ACD1E5\",\"#ACD1E5\",\"#F7BB9F\",\"#ACD1E5\",\"#ACD1E5\",\"#ACD1E5\",\"#ACD1E5\",\"#ACD1E5\",\"#ACD1E5\",\"#ACD1E5\",\"#ACD1E5\",\"#ACD1E5\",\"#F7BB9F\",\"#F7BB9F\",\"#F7BB9F\",\"#ACD1E5\",\"#F7BB9F\",\"#F7BB9F\",\"#F7BB9F\",\"#F7BB9F\",\"#F7BB9F\",\"#F7BB9F\",\"#F7BB9F\",\"#F7BB9F\",\"#F7BB9F\",\"#F7BB9F\",\"#F7BB9F\",\"#F7BB9F\",\"#F7BB9F\",\"#F7BB9F\",\"#ACD1E5\",\"#ACD1E5\",\"#F7BB9F\",\"#D96C59\",\"#F7BB9F\",\"#F7BB9F\",\"#F7BB9F\"],\"line\":{\"color\":\"#717BFA\",\"width\":0},\"size\":10},\"mode\":\"markers\",\"name\":\"Mean SPEI12\",\"x\":[\"1940-01-01T06:00:00\",\"1941-01-01T06:00:00\",\"1942-01-01T06:00:00\",\"1943-01-01T06:00:00\",\"1944-01-01T06:00:00\",\"1945-01-01T06:00:00\",\"1946-01-01T06:00:00\",\"1947-01-01T06:00:00\",\"1948-01-01T06:00:00\",\"1949-01-01T06:00:00\",\"1950-01-01T06:00:00\",\"1951-01-01T06:00:00\",\"1952-01-01T06:00:00\",\"1953-01-01T06:00:00\",\"1954-01-01T06:00:00\",\"1941-01-01T06:00:00\",\"1956-01-01T06:00:00\",\"1957-01-01T06:00:00\",\"1958-01-01T06:00:00\",\"1959-01-01T06:00:00\",\"1960-01-01T06:00:00\",\"1961-01-01T06:00:00\",\"1962-01-01T06:00:00\",\"1963-01-01T06:00:00\",\"1964-01-01T06:00:00\",\"1965-01-01T06:00:00\",\"1966-01-01T06:00:00\",\"1967-01-01T06:00:00\",\"1968-01-01T06:00:00\",\"1969-01-01T06:00:00\",\"1970-01-01T06:00:00\",\"1971-01-01T06:00:00\",\"1972-01-01T06:00:00\",\"1973-01-01T06:00:00\",\"1974-01-01T06:00:00\",\"1975-01-01T06:00:00\",\"1976-01-01T06:00:00\",\"1941-01-01T06:00:00\",\"1978-01-01T06:00:00\",\"1979-01-01T06:00:00\",\"1980-01-01T06:00:00\",\"1981-01-01T06:00:00\",\"1982-01-01T06:00:00\",\"1983-01-01T06:00:00\",\"1984-01-01T06:00:00\",\"1985-01-01T06:00:00\",\"1986-01-01T06:00:00\",\"1987-01-01T06:00:00\",\"1988-01-01T06:00:00\",\"1989-01-01T06:00:00\",\"1990-01-01T06:00:00\",\"1991-01-01T06:00:00\",\"1992-01-01T06:00:00\",\"1993-01-01T06:00:00\",\"1994-01-01T06:00:00\",\"1995-01-01T06:00:00\",\"1996-01-01T06:00:00\",\"1997-01-01T06:00:00\",\"1998-01-01T06:00:00\",\"1999-01-01T06:00:00\",\"2000-01-01T06:00:00\",\"2001-01-01T06:00:00\",\"2002-01-01T06:00:00\",\"2003-01-01T06:00:00\",\"2004-01-01T06:00:00\",\"2005-01-01T06:00:00\",\"2006-01-01T06:00:00\",\"2007-01-01T06:00:00\",\"2008-01-01T06:00:00\",\"2009-01-01T06:00:00\",\"2010-01-01T06:00:00\",\"2011-01-01T06:00:00\",\"2012-01-01T06:00:00\",\"2013-01-01T06:00:00\",\"2014-01-01T06:00:00\",\"2015-01-01T06:00:00\",\"2016-01-01T06:00:00\",\"2017-01-01T06:00:00\",\"2018-01-01T06:00:00\",\"2019-01-01T06:00:00\",\"2020-01-01T06:00:00\",\"2021-01-01T06:00:00\",\"2022-01-01T06:00:00\",\"1941-01-01T06:00:00\",\"2024-01-01T06:00:00\",\"2024-01-01T06:00:00\"],\"y\":[null,-0.18833435908523521,-1.0126588498988485,0.011158771508563972,0.046647330673909006,0.3332401632424409,-0.08946842134711974,-0.18376238913889426,1.0215475268738887,0.6440477124280867,0.14989216150908316,0.922614354430322,1.1946163047140275,0.9990214292951385,1.4280816614777323,-0.18833435908523521,0.37442612390973773,0.8975912081650746,1.3284716232835474,0.31784989365147237,0.4002719985578447,0.4654849435051057,0.5660153498418015,0.8746674205688543,1.2258491748411318,0.611329748260081,0.41180190015685625,0.49874706269174834,1.4062428053045624,1.0239869732568732,1.2036361652020777,0.4776983260187881,0.9450503769396887,1.1593782517418139,0.38522287082484324,0.9286425786416254,0.9537585123874723,-0.18833435908523521,0.6458062239590426,1.0572736830421043,0.866790048767754,0.7057831516161686,0.43365827825975367,0.7671074526186229,-0.1298918742140118,0.22903630898561314,0.7599867985547719,0.6586131131419519,0.26539682649412755,0.8666736027988409,0.4574889987033684,-0.04415611033289153,0.6535912882879878,0.3846894070521803,0.2883008596148667,0.5993018812720204,0.44073092057088475,0.3422338474756795,0.6207283620953337,0.03929007428143988,0.4433315734863212,-0.3073503351297366,-0.4035368082360787,-0.16956343731902487,0.026887782946042646,-0.413448218377015,-0.15597067677099444,-0.00013054902939503145,-0.19491662381542604,-0.39299759153552594,-0.3824333723934617,-0.02617172788765801,-0.36887803473924535,-0.13763481345899253,-0.3758991276169769,-0.1289473557871343,-0.304979930295746,-0.44062278448394443,-0.5474906353470765,0.23800684018359575,0.2431212578196283,-0.41810949266156616,-1.2907055179662945,-0.18833435908523521,-0.7489098369391894,-0.7489098369391894],\"type\":\"scatter\"}],                        {\"template\":{\"data\":{\"histogram2dcontour\":[{\"type\":\"histogram2dcontour\",\"colorbar\":{\"outlinewidth\":0,\"ticks\":\"\"},\"colorscale\":[[0.0,\"#0d0887\"],[0.1111111111111111,\"#46039f\"],[0.2222222222222222,\"#7201a8\"],[0.3333333333333333,\"#9c179e\"],[0.4444444444444444,\"#bd3786\"],[0.5555555555555556,\"#d8576b\"],[0.6666666666666666,\"#ed7953\"],[0.7777777777777778,\"#fb9f3a\"],[0.8888888888888888,\"#fdca26\"],[1.0,\"#f0f921\"]]}],\"choropleth\":[{\"type\":\"choropleth\",\"colorbar\":{\"outlinewidth\":0,\"ticks\":\"\"}}],\"histogram2d\":[{\"type\":\"histogram2d\",\"colorbar\":{\"outlinewidth\":0,\"ticks\":\"\"},\"colorscale\":[[0.0,\"#0d0887\"],[0.1111111111111111,\"#46039f\"],[0.2222222222222222,\"#7201a8\"],[0.3333333333333333,\"#9c179e\"],[0.4444444444444444,\"#bd3786\"],[0.5555555555555556,\"#d8576b\"],[0.6666666666666666,\"#ed7953\"],[0.7777777777777778,\"#fb9f3a\"],[0.8888888888888888,\"#fdca26\"],[1.0,\"#f0f921\"]]}],\"heatmap\":[{\"type\":\"heatmap\",\"colorbar\":{\"outlinewidth\":0,\"ticks\":\"\"},\"colorscale\":[[0.0,\"#0d0887\"],[0.1111111111111111,\"#46039f\"],[0.2222222222222222,\"#7201a8\"],[0.3333333333333333,\"#9c179e\"],[0.4444444444444444,\"#bd3786\"],[0.5555555555555556,\"#d8576b\"],[0.6666666666666666,\"#ed7953\"],[0.7777777777777778,\"#fb9f3a\"],[0.8888888888888888,\"#fdca26\"],[1.0,\"#f0f921\"]]}],\"heatmapgl\":[{\"type\":\"heatmapgl\",\"colorbar\":{\"outlinewidth\":0,\"ticks\":\"\"},\"colorscale\":[[0.0,\"#0d0887\"],[0.1111111111111111,\"#46039f\"],[0.2222222222222222,\"#7201a8\"],[0.3333333333333333,\"#9c179e\"],[0.4444444444444444,\"#bd3786\"],[0.5555555555555556,\"#d8576b\"],[0.6666666666666666,\"#ed7953\"],[0.7777777777777778,\"#fb9f3a\"],[0.8888888888888888,\"#fdca26\"],[1.0,\"#f0f921\"]]}],\"contourcarpet\":[{\"type\":\"contourcarpet\",\"colorbar\":{\"outlinewidth\":0,\"ticks\":\"\"}}],\"contour\":[{\"type\":\"contour\",\"colorbar\":{\"outlinewidth\":0,\"ticks\":\"\"},\"colorscale\":[[0.0,\"#0d0887\"],[0.1111111111111111,\"#46039f\"],[0.2222222222222222,\"#7201a8\"],[0.3333333333333333,\"#9c179e\"],[0.4444444444444444,\"#bd3786\"],[0.5555555555555556,\"#d8576b\"],[0.6666666666666666,\"#ed7953\"],[0.7777777777777778,\"#fb9f3a\"],[0.8888888888888888,\"#fdca26\"],[1.0,\"#f0f921\"]]}],\"surface\":[{\"type\":\"surface\",\"colorbar\":{\"outlinewidth\":0,\"ticks\":\"\"},\"colorscale\":[[0.0,\"#0d0887\"],[0.1111111111111111,\"#46039f\"],[0.2222222222222222,\"#7201a8\"],[0.3333333333333333,\"#9c179e\"],[0.4444444444444444,\"#bd3786\"],[0.5555555555555556,\"#d8576b\"],[0.6666666666666666,\"#ed7953\"],[0.7777777777777778,\"#fb9f3a\"],[0.8888888888888888,\"#fdca26\"],[1.0,\"#f0f921\"]]}],\"mesh3d\":[{\"type\":\"mesh3d\",\"colorbar\":{\"outlinewidth\":0,\"ticks\":\"\"}}],\"scatter\":[{\"fillpattern\":{\"fillmode\":\"overlay\",\"size\":10,\"solidity\":0.2},\"type\":\"scatter\"}],\"parcoords\":[{\"type\":\"parcoords\",\"line\":{\"colorbar\":{\"outlinewidth\":0,\"ticks\":\"\"}}}],\"scatterpolargl\":[{\"type\":\"scatterpolargl\",\"marker\":{\"colorbar\":{\"outlinewidth\":0,\"ticks\":\"\"}}}],\"bar\":[{\"error_x\":{\"color\":\"#2a3f5f\"},\"error_y\":{\"color\":\"#2a3f5f\"},\"marker\":{\"line\":{\"color\":\"#E5ECF6\",\"width\":0.5},\"pattern\":{\"fillmode\":\"overlay\",\"size\":10,\"solidity\":0.2}},\"type\":\"bar\"}],\"scattergeo\":[{\"type\":\"scattergeo\",\"marker\":{\"colorbar\":{\"outlinewidth\":0,\"ticks\":\"\"}}}],\"scatterpolar\":[{\"type\":\"scatterpolar\",\"marker\":{\"colorbar\":{\"outlinewidth\":0,\"ticks\":\"\"}}}],\"histogram\":[{\"marker\":{\"pattern\":{\"fillmode\":\"overlay\",\"size\":10,\"solidity\":0.2}},\"type\":\"histogram\"}],\"scattergl\":[{\"type\":\"scattergl\",\"marker\":{\"colorbar\":{\"outlinewidth\":0,\"ticks\":\"\"}}}],\"scatter3d\":[{\"type\":\"scatter3d\",\"line\":{\"colorbar\":{\"outlinewidth\":0,\"ticks\":\"\"}},\"marker\":{\"colorbar\":{\"outlinewidth\":0,\"ticks\":\"\"}}}],\"scattermapbox\":[{\"type\":\"scattermapbox\",\"marker\":{\"colorbar\":{\"outlinewidth\":0,\"ticks\":\"\"}}}],\"scatterternary\":[{\"type\":\"scatterternary\",\"marker\":{\"colorbar\":{\"outlinewidth\":0,\"ticks\":\"\"}}}],\"scattercarpet\":[{\"type\":\"scattercarpet\",\"marker\":{\"colorbar\":{\"outlinewidth\":0,\"ticks\":\"\"}}}],\"carpet\":[{\"aaxis\":{\"endlinecolor\":\"#2a3f5f\",\"gridcolor\":\"white\",\"linecolor\":\"white\",\"minorgridcolor\":\"white\",\"startlinecolor\":\"#2a3f5f\"},\"baxis\":{\"endlinecolor\":\"#2a3f5f\",\"gridcolor\":\"white\",\"linecolor\":\"white\",\"minorgridcolor\":\"white\",\"startlinecolor\":\"#2a3f5f\"},\"type\":\"carpet\"}],\"table\":[{\"cells\":{\"fill\":{\"color\":\"#EBF0F8\"},\"line\":{\"color\":\"white\"}},\"header\":{\"fill\":{\"color\":\"#C8D4E3\"},\"line\":{\"color\":\"white\"}},\"type\":\"table\"}],\"barpolar\":[{\"marker\":{\"line\":{\"color\":\"#E5ECF6\",\"width\":0.5},\"pattern\":{\"fillmode\":\"overlay\",\"size\":10,\"solidity\":0.2}},\"type\":\"barpolar\"}],\"pie\":[{\"automargin\":true,\"type\":\"pie\"}]},\"layout\":{\"autotypenumbers\":\"strict\",\"colorway\":[\"#636efa\",\"#EF553B\",\"#00cc96\",\"#ab63fa\",\"#FFA15A\",\"#19d3f3\",\"#FF6692\",\"#B6E880\",\"#FF97FF\",\"#FECB52\"],\"font\":{\"color\":\"#2a3f5f\"},\"hovermode\":\"closest\",\"hoverlabel\":{\"align\":\"left\"},\"paper_bgcolor\":\"white\",\"plot_bgcolor\":\"#E5ECF6\",\"polar\":{\"bgcolor\":\"#E5ECF6\",\"angularaxis\":{\"gridcolor\":\"white\",\"linecolor\":\"white\",\"ticks\":\"\"},\"radialaxis\":{\"gridcolor\":\"white\",\"linecolor\":\"white\",\"ticks\":\"\"}},\"ternary\":{\"bgcolor\":\"#E5ECF6\",\"aaxis\":{\"gridcolor\":\"white\",\"linecolor\":\"white\",\"ticks\":\"\"},\"baxis\":{\"gridcolor\":\"white\",\"linecolor\":\"white\",\"ticks\":\"\"},\"caxis\":{\"gridcolor\":\"white\",\"linecolor\":\"white\",\"ticks\":\"\"}},\"coloraxis\":{\"colorbar\":{\"outlinewidth\":0,\"ticks\":\"\"}},\"colorscale\":{\"sequential\":[[0.0,\"#0d0887\"],[0.1111111111111111,\"#46039f\"],[0.2222222222222222,\"#7201a8\"],[0.3333333333333333,\"#9c179e\"],[0.4444444444444444,\"#bd3786\"],[0.5555555555555556,\"#d8576b\"],[0.6666666666666666,\"#ed7953\"],[0.7777777777777778,\"#fb9f3a\"],[0.8888888888888888,\"#fdca26\"],[1.0,\"#f0f921\"]],\"sequentialminus\":[[0.0,\"#0d0887\"],[0.1111111111111111,\"#46039f\"],[0.2222222222222222,\"#7201a8\"],[0.3333333333333333,\"#9c179e\"],[0.4444444444444444,\"#bd3786\"],[0.5555555555555556,\"#d8576b\"],[0.6666666666666666,\"#ed7953\"],[0.7777777777777778,\"#fb9f3a\"],[0.8888888888888888,\"#fdca26\"],[1.0,\"#f0f921\"]],\"diverging\":[[0,\"#8e0152\"],[0.1,\"#c51b7d\"],[0.2,\"#de77ae\"],[0.3,\"#f1b6da\"],[0.4,\"#fde0ef\"],[0.5,\"#f7f7f7\"],[0.6,\"#e6f5d0\"],[0.7,\"#b8e186\"],[0.8,\"#7fbc41\"],[0.9,\"#4d9221\"],[1,\"#276419\"]]},\"xaxis\":{\"gridcolor\":\"white\",\"linecolor\":\"white\",\"ticks\":\"\",\"title\":{\"standoff\":15},\"zerolinecolor\":\"white\",\"automargin\":true,\"zerolinewidth\":2},\"yaxis\":{\"gridcolor\":\"white\",\"linecolor\":\"white\",\"ticks\":\"\",\"title\":{\"standoff\":15},\"zerolinecolor\":\"white\",\"automargin\":true,\"zerolinewidth\":2},\"scene\":{\"xaxis\":{\"backgroundcolor\":\"#E5ECF6\",\"gridcolor\":\"white\",\"linecolor\":\"white\",\"showbackground\":true,\"ticks\":\"\",\"zerolinecolor\":\"white\",\"gridwidth\":2},\"yaxis\":{\"backgroundcolor\":\"#E5ECF6\",\"gridcolor\":\"white\",\"linecolor\":\"white\",\"showbackground\":true,\"ticks\":\"\",\"zerolinecolor\":\"white\",\"gridwidth\":2},\"zaxis\":{\"backgroundcolor\":\"#E5ECF6\",\"gridcolor\":\"white\",\"linecolor\":\"white\",\"showbackground\":true,\"ticks\":\"\",\"zerolinecolor\":\"white\",\"gridwidth\":2}},\"shapedefaults\":{\"line\":{\"color\":\"#2a3f5f\"}},\"annotationdefaults\":{\"arrowcolor\":\"#2a3f5f\",\"arrowhead\":0,\"arrowwidth\":1},\"geo\":{\"bgcolor\":\"white\",\"landcolor\":\"#E5ECF6\",\"subunitcolor\":\"white\",\"showland\":true,\"showlakes\":true,\"lakecolor\":\"white\"},\"title\":{\"x\":0.05},\"mapbox\":{\"style\":\"light\"}}},\"xaxis\":{\"title\":{\"text\":\"Years\"},\"showgrid\":true,\"gridcolor\":\"lightgray\",\"linecolor\":\"lightgray\"},\"yaxis\":{\"title\":{\"text\":\"Mean SPEI12 Index\"},\"showgrid\":true,\"gridcolor\":\"lightgray\",\"linecolor\":\"lightgray\",\"zeroline\":true,\"zerolinewidth\":1,\"zerolinecolor\":\"black\"},\"title\":{\"text\":\"Mean SPEI12 Trends over time in January\"},\"height\":600,\"plot_bgcolor\":\"white\",\"paper_bgcolor\":\"white\"},                        {\"responsive\": true}                    ).then(function(){\n",
       "                            \n",
       "var gd = document.getElementById('21df650c-aab6-4e60-9112-12e5875e0256');\n",
       "var x = new MutationObserver(function (mutations, observer) {{\n",
       "        var display = window.getComputedStyle(gd).display;\n",
       "        if (!display || display === 'none') {{\n",
       "            console.log([gd, 'removed!']);\n",
       "            Plotly.purge(gd);\n",
       "            observer.disconnect();\n",
       "        }}\n",
       "}});\n",
       "\n",
       "// Listen for the removal of the full notebook cells\n",
       "var notebookContainer = gd.closest('#notebook-container');\n",
       "if (notebookContainer) {{\n",
       "    x.observe(notebookContainer, {childList: true});\n",
       "}}\n",
       "\n",
       "// Listen for the clearing of the current output cell\n",
       "var outputEl = gd.closest('.output');\n",
       "if (outputEl) {{\n",
       "    x.observe(outputEl, {childList: true});\n",
       "}}\n",
       "\n",
       "                        })                };                });            </script>        </div>"
      ]
     },
     "metadata": {},
     "output_type": "display_data"
    }
   ],
   "source": [
    "trace = go.Scatter(\n",
    "    x=times,\n",
    "    y=values,\n",
    "    mode='markers',\n",
    "    name='Mean SPEI12',\n",
    "    marker=dict(size=10,\n",
    "                color=colors,\n",
    "                line=dict(width=0,\n",
    "                          color='#717BFA')))\n",
    "\n",
    "# Initialize and update the figure\n",
    "fig = go.Figure([trace])\n",
    "fig.update_layout(\n",
    "    title='Mean SPEI12 Trends over time in January',\n",
    "    xaxis_title='Years',\n",
    "    yaxis_title='Mean SPEI12 Index',\n",
    "    height=600,\n",
    "    plot_bgcolor='white',         # Sets the plotting area background color\n",
    "    paper_bgcolor='white',  # Sets the overall background color of the chart\n",
    "    xaxis=dict(\n",
    "        showgrid=True,  # Enable grid (default)\n",
    "        gridcolor='lightgray',  # Set grid color\n",
    "        linecolor='lightgray',  # Set axis line color\n",
    "    ),\n",
    "    yaxis=dict(\n",
    "        showgrid=True,\n",
    "        gridcolor='lightgray',\n",
    "        linecolor='lightgray',\n",
    "                zeroline=True,  # Ensure the zero line is visible\n",
    "        zerolinewidth=1,\n",
    "        zerolinecolor='black'  # Change zero line color to blue\n",
    "    )\n",
    ")\n",
    "\n",
    "fig.show()"
   ]
  },
  {
   "cell_type": "code",
   "execution_count": null,
   "id": "2bce0f72-ecfd-4d83-81e7-76c8d34b0338",
   "metadata": {},
   "outputs": [],
   "source": []
  }
 ],
 "metadata": {
  "kernelspec": {
   "display_name": "Python 3",
   "language": "python",
   "name": "python3"
  },
  "language_info": {
   "codemirror_mode": {
    "name": "ipython",
    "version": 3
   },
   "file_extension": ".py",
   "mimetype": "text/x-python",
   "name": "python",
   "nbconvert_exporter": "python",
   "pygments_lexer": "ipython3",
   "version": "3.6.8"
  }
 },
 "nbformat": 4,
 "nbformat_minor": 5
}
