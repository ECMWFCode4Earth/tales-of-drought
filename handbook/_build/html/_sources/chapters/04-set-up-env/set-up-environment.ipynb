{
 "cells": [
  {
   "cell_type": "markdown",
   "id": "3c6c7b8a-7412-48aa-8427-4d71131bae8b",
   "metadata": {},
   "source": [
    "# Setting up the environment"
   ]
  },
  {
   "cell_type": "markdown",
   "id": "88657784-fd9d-46b8-87b7-019dd96b8c7a",
   "metadata": {},
   "source": [
    "Before we dive into the data analysis, we need to ensure our notebooks have all the necessary tools and libraries. This step involves installing various Python packages that will help us manipulate data, create visualizations, and interact with our notebook more effectively."
   ]
  },
  {
   "cell_type": "markdown",
   "id": "c6d3aeaa-d3f1-4572-8282-127cb5d8bc4a",
   "metadata": {},
   "source": [
    "## What do you need to install?\n",
    "\n",
    "The installation of these packages and extensions may vary depending on the computing environment you are using. Whether it's Jupyter Notebook, JupyterLab, Google Colab, or another tool like Binder, some steps or commands might be different or unnecessary. Always tailor these installation steps to suit the specific requirements of your chosen platform to ensure smooth operation. \n",
    "\n",
    "\n",
    "Here the list of the packages our notebook needs to works:\n",
    "\n",
    "**Numerical and Data Handling Libraries:**\n",
    "- `numpy`: for numerical computations [[documentation](https://numpy.org/)].\n",
    "- `pandas`: for data manipulation and analysis [[documentation](https://pandas.pydata.org/docs/)].\n",
    "- `geopandas`: a package to work with geospatial data [[documentation](https://geopandas.org/en/stable/)].\n",
    "- `xarray`: for working with multi-dimensional arrays of data [[documentation](https://docs.xarray.dev/en/stable/)].\n",
    "- `netCDF4`: for handling and accessing data stored in .nc files (like our ERA5 data) [[documentation](https://unidata.github.io/netcdf4-python/)].\n",
    "- `dask`: enhances speed and scalability in data processing, useful for large datasets [[documentation](https://www.dask.org/)].\n",
    "\n",
    "\n",
    "**Visualization Libraries:**\n",
    "\n",
    "- `matplotlib`: for creating static graphs [[documentation](https://matplotlib.org/)].\n",
    "- `plotly`: for creating interactive graphs [[documentation](https://plotly.com/python/)].\n",
    "- `kaleido`: for exporting Plotly figures to static images (like PNG) [[documentation](https://github.com/plotly/Kaleido)].\n",
    "- `folium`: for making interactive maps [[documentation](https://python-visualization.github.io/folium/latest/)].\n",
    "- `cartopy`: designed for geospatial data processing in order to produce maps [[documentation](https://scitools.org.uk/cartopy/docs/latest/)].\n",
    "\n",
    "\n",
    "**Enhancing Interactivity:**\n",
    "\n",
    "- `ipywidgets`: allows us to create interactive elements in the notebook (like sliders, dropdown menus and buttons) [[documentation](https://ipywidgets.readthedocs.io/en/stable/)].\n",
    "- `jupyterlab_widgets`: These are necessary just for enabling and managing IPython widgets in JupyterLab [[documentation](https://pypi.org/project/jupyterlab-widgets/)]. So, if you don't use a JupyterLab environment, you do not need to install it.\n",
    "\n",
    "**Dynamic Path Management**\n",
    "- `pyprojroot`: helps us locate the root of our project, enabling consistent referencing of data files and other resources regardless of the computing environment [[documentation](https://pypi.org/project/pyprojroot/)].\n",
    "\n",
    "\n",
    "**Installing and Enabling Extensions**  \n",
    "We use `!pip install package-name` commands to download and install these packages from the Python Package Index (PyPI). The `!` at the beginning of each command tells our Jupyter Notebook to execute these as shell commands. If you want to suppress all output during installation use `!pip install package-name -q`"
   ]
  },
  {
   "cell_type": "code",
   "execution_count": null,
   "id": "bbab0e18-10f7-4d7d-b416-86ddb5ef50d1",
   "metadata": {
    "scrolled": true
   },
   "outputs": [],
   "source": [
    "!pip install numpy\n",
    "!pip install pandas\n",
    "!pip install geopandas \n",
    "!pip install xarray\n",
    "!pip install netCDF4\n",
    "!pip install \"dask[complete]\"\n",
    "!pip install matplotlib\n",
    "!pip install plotly\n",
    "!pip install -U kaleido\n",
    "!pip install folium\n",
    "!pip install cartopy\n",
    "!pip install ipywidgets\n",
    "!pip install pyprojroot\n",
    "!pip install ipywidgets"
   ]
  },
  {
   "cell_type": "code",
   "execution_count": null,
   "id": "2fb1cf67-54cd-4ff1-8d20-f27370fb8cb5",
   "metadata": {},
   "outputs": [],
   "source": [
    "# only for JupyterLab environment\n",
    "!pip install jupyterlab_widgets   "
   ]
  },
  {
   "cell_type": "markdown",
   "id": "8aab175f-c6e0-4539-b9ba-53946240140f",
   "metadata": {},
   "source": [
    "By executing these commands, we are setting up a robust environment tailored for analyzing and visualizing our data. Now our toolkit is ready so we can proceed without any hitches!"
   ]
  }
 ],
 "metadata": {
  "kernelspec": {
   "display_name": "Python 3 (ipykernel)",
   "language": "python",
   "name": "python3"
  },
  "language_info": {
   "codemirror_mode": {
    "name": "ipython",
    "version": 3
   },
   "file_extension": ".py",
   "mimetype": "text/x-python",
   "name": "python",
   "nbconvert_exporter": "python",
   "pygments_lexer": "ipython3",
   "version": "3.11.9"
  }
 },
 "nbformat": 4,
 "nbformat_minor": 5
}
