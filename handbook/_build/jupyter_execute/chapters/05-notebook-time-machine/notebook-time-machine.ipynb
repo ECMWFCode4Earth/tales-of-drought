{
 "cells": [
  {
   "cell_type": "markdown",
   "id": "69bd3d13",
   "metadata": {},
   "source": [
    "# The Time Machine, identify drought events"
   ]
  },
  {
   "cell_type": "code",
   "execution_count": 1,
   "id": "bbab0e18-10f7-4d7d-b416-86ddb5ef50d1",
   "metadata": {
    "ExecuteTime": {
     "end_time": "2024-08-03T18:23:11.605964Z",
     "start_time": "2024-08-03T18:23:11.602828Z"
    }
   },
   "outputs": [],
   "source": [
    "# !pip install numpy xarray netCDF4 matplotlib plotly\n",
    "# !pip install \"dask[complete]\" -q\n",
    "# !pip install geopy ipywidgets folium -q\n",
    "# !pip install pycountry -q\n",
    "# !pip install shapely\n",
    "# !pip install -U kaleido\n",
    "# !jupyter nbextension enable --py widgetsnbextension\n",
    "# !jupyter labextension install @jupyter-widgets/jupyterlab-manager"
   ]
  },
  {
   "cell_type": "code",
   "execution_count": 2,
   "id": "1ee6a0a8-84b8-4856-952e-c643cf55eece",
   "metadata": {
    "ExecuteTime": {
     "end_time": "2024-08-03T18:23:13.592337Z",
     "start_time": "2024-08-03T18:23:13.587765Z"
    }
   },
   "outputs": [
    {
     "ename": "ModuleNotFoundError",
     "evalue": "No module named 'dask'",
     "output_type": "error",
     "traceback": [
      "\u001b[0;31m---------------------------------------------------------------------------\u001b[0m",
      "\u001b[0;31mModuleNotFoundError\u001b[0m                       Traceback (most recent call last)",
      "Cell \u001b[0;32mIn[2], line 8\u001b[0m\n\u001b[1;32m      6\u001b[0m \u001b[38;5;28;01mimport\u001b[39;00m \u001b[38;5;21;01mutils\u001b[39;00m\u001b[38;5;21;01m.\u001b[39;00m\u001b[38;5;21;01mwidgets_handler\u001b[39;00m \u001b[38;5;28;01mas\u001b[39;00m \u001b[38;5;21;01mwidgets_handler\u001b[39;00m\n\u001b[1;32m      7\u001b[0m \u001b[38;5;28;01mimport\u001b[39;00m \u001b[38;5;21;01mutils\u001b[39;00m\u001b[38;5;21;01m.\u001b[39;00m\u001b[38;5;21;01mcoordinates_retriver\u001b[39;00m \u001b[38;5;28;01mas\u001b[39;00m \u001b[38;5;21;01mcoordinates_retriver\u001b[39;00m\n\u001b[0;32m----> 8\u001b[0m \u001b[38;5;28;01mimport\u001b[39;00m \u001b[38;5;21;01mutils\u001b[39;00m\u001b[38;5;21;01m.\u001b[39;00m\u001b[38;5;21;01mdata_preprocess\u001b[39;00m \u001b[38;5;28;01mas\u001b[39;00m \u001b[38;5;21;01mdata_preprocess\u001b[39;00m\n\u001b[1;32m      9\u001b[0m \u001b[38;5;28;01mimport\u001b[39;00m \u001b[38;5;21;01mutils\u001b[39;00m\u001b[38;5;21;01m.\u001b[39;00m\u001b[38;5;21;01mcharts\u001b[39;00m \u001b[38;5;28;01mas\u001b[39;00m \u001b[38;5;21;01mcharts\u001b[39;00m\n\u001b[1;32m     10\u001b[0m \u001b[38;5;28;01mimport\u001b[39;00m \u001b[38;5;21;01mwarnings\u001b[39;00m\n",
      "File \u001b[0;32m~/ECMWF/tales-of-drought/handbook/chapters/05-notebook-time-machine/utils/data_preprocess.py:3\u001b[0m\n\u001b[1;32m      1\u001b[0m \u001b[38;5;28;01mimport\u001b[39;00m \u001b[38;5;21;01mnetCDF4\u001b[39;00m \u001b[38;5;28;01mas\u001b[39;00m \u001b[38;5;21;01mnc\u001b[39;00m\n\u001b[1;32m      2\u001b[0m \u001b[38;5;28;01mimport\u001b[39;00m \u001b[38;5;21;01mxarray\u001b[39;00m \u001b[38;5;28;01mas\u001b[39;00m \u001b[38;5;21;01mxr\u001b[39;00m\n\u001b[0;32m----> 3\u001b[0m \u001b[38;5;28;01mimport\u001b[39;00m \u001b[38;5;21;01mdask\u001b[39;00m\n\u001b[1;32m      4\u001b[0m \u001b[38;5;28;01mimport\u001b[39;00m \u001b[38;5;21;01mnumpy\u001b[39;00m \u001b[38;5;28;01mas\u001b[39;00m \u001b[38;5;21;01mnp\u001b[39;00m\n\u001b[1;32m      5\u001b[0m \u001b[38;5;28;01mimport\u001b[39;00m \u001b[38;5;21;01mpandas\u001b[39;00m \u001b[38;5;28;01mas\u001b[39;00m \u001b[38;5;21;01mpd\u001b[39;00m\n",
      "\u001b[0;31mModuleNotFoundError\u001b[0m: No module named 'dask'"
     ]
    }
   ],
   "source": [
    "from ipywidgets import Layout, Dropdown, widgets\n",
    "from IPython.display import display, clear_output, IFrame\n",
    "from functools import partial\n",
    "import datetime\n",
    "import numpy as np\n",
    "import utils.widgets_handler as widgets_handler\n",
    "import utils.coordinates_retriver as coordinates_retriver\n",
    "import utils.data_preprocess as data_preprocess\n",
    "import utils.charts as charts\n",
    "import warnings\n",
    "import hvplot.xarray\n",
    "import cartopy.crs as ccrs\n",
    "warnings.filterwarnings(\"ignore\", category=RuntimeWarning)"
   ]
  },
  {
   "cell_type": "code",
   "execution_count": 29,
   "id": "e40255a8-dc7a-48d5-8300-b226cf7bd26c",
   "metadata": {
    "ExecuteTime": {
     "end_time": "2024-08-03T18:23:14.333553Z",
     "start_time": "2024-08-03T18:23:14.232113Z"
    }
   },
   "outputs": [],
   "source": [
    "country_list = widgets_handler.read_json_to_sorted_dict('countries.json')\n",
    "months = widgets_handler.read_json_to_dict('months.json')\n",
    "timescales = widgets_handler.read_json_to_dict('timescales.json')\n",
    "subset_area = None\n",
    "index = None\n",
    "bounding_box = (None, None, None, None)\n",
    "active_btn = None\n",
    "\n",
    "selected = {\n",
    "    \"country\": None,\n",
    "    \"adm1_subarea\": None,\n",
    "    \"adm2_subarea\": None,\n",
    "    \"timescale\": None,\n",
    "    \"month\": None,\n",
    "    \"year\": None,\n",
    "    \"year_range\": None\n",
    "}\n",
    "\n",
    "placeholders = {\n",
    "    \"country\": \"no country selected...\",\n",
    "    \"adm1_subarea\": \"no adm1 subarea selected...\",\n",
    "    \"adm2_subarea\": \"no adm2 subarea selected...\",\n",
    "    \"timescale\": \"no timescale selected...\",\n",
    "    \"month\": \"no month selected...\",\n",
    "    \"year\": \"no year selected...\"\n",
    "}\n",
    "widgets_handler.save_selection(placeholders)"
   ]
  },
  {
   "cell_type": "code",
   "execution_count": 30,
   "id": "b342cf97-5e08-43fa-933b-c64276780c89",
   "metadata": {
    "ExecuteTime": {
     "end_time": "2024-08-03T18:23:15.001563Z",
     "start_time": "2024-08-03T18:23:14.976588Z"
    }
   },
   "outputs": [],
   "source": [
    "# Custom style and layout for descriptions and dropdowns\n",
    "style = {'description_width': '150px'}\n",
    "dropdown_layout = Layout(width='400px', display='flex', justify_content='flex-end')\n",
    "range_layout = Layout(width='400px')\n",
    "btn_layout = Layout(width='400px')\n",
    "\n",
    "\n",
    "# Dropdown for countries\n",
    "country_names = [country['name'] for country in country_list]\n",
    "country_selector = widgets.Dropdown(\n",
    "    options=[placeholders['country']] + country_names,\n",
    "    description='Select a country:',\n",
    "    style=style,\n",
    "    layout=dropdown_layout\n",
    ")\n",
    "\n",
    "# Dropdown for subareas, initially empty\n",
    "adm1_subarea_selector = widgets.Dropdown(\n",
    "    options=[placeholders['adm1_subarea']],\n",
    "    description='a subarea of first level:',\n",
    "    style=style,\n",
    "    layout=dropdown_layout\n",
    ")\n",
    "\n",
    "adm2_subarea_selector = widgets.Dropdown(\n",
    "    options=[placeholders['adm2_subarea']],\n",
    "    description='or of second level:',\n",
    "    style=style,\n",
    "    layout=dropdown_layout\n",
    ")\n",
    "\n",
    "# Dropdown for timescales\n",
    "timescale_selector = widgets.Dropdown(\n",
    "    options=[placeholders['timescale']] + list(timescales.keys()),\n",
    "    description='Select a timescale:',\n",
    "    style=style,\n",
    "    layout=dropdown_layout\n",
    ")\n",
    "\n",
    "# Dropdown for months\n",
    "month_selector = widgets.Dropdown(\n",
    "    options=[placeholders['month']] + list(months.keys()),\n",
    "    description='Select a month:',\n",
    "    style=style,\n",
    "    layout=dropdown_layout\n",
    ")\n",
    "\n",
    "# Dropdown for years\n",
    "current_year = datetime.datetime.now().year\n",
    "years_options = [str(year) for year in range(1940, current_year + 1)]\n",
    "\n",
    "year_selector = widgets.Dropdown(\n",
    "    options=[placeholders['year']] + years_options,\n",
    "    description='Select a year:',\n",
    "    disabled=False,\n",
    "    style=style,\n",
    "    layout=dropdown_layout\n",
    ")\n",
    "\n",
    "# SelectionRangeSlider for years\n",
    "year_range_selector = widgets.SelectionRangeSlider(\n",
    "    options=years_options,\n",
    "    index=(len(years_options) - 1, len(years_options) - 1),  # Start and end at the last\n",
    "    description='Select the year range:',\n",
    "    disabled=False,\n",
    "    style=style,\n",
    "    layout=range_layout\n",
    ")\n",
    "\n",
    "selectors = {\n",
    "    \"country\" : country_selector,\n",
    "    \"adm1_subarea\": adm1_subarea_selector,\n",
    "    \"adm2_subarea\": adm2_subarea_selector,\n",
    "    \"timescale\": timescale_selector,\n",
    "    \"month\": month_selector,\n",
    "    \"year\": year_selector,\n",
    "    \"year_range\": year_range_selector    \n",
    "}\n",
    "\n",
    "\n",
    "month_widgets_btn = widgets.Button(\n",
    "    description='Get data',\n",
    "    disabled=False,\n",
    "    button_style='info', # 'success', 'info', 'warning', 'danger' or ''\n",
    "    tooltip='Click me',\n",
    "    icon='filter', # (FontAwesome names without the `fa-` prefix)month\n",
    "    layout=btn_layout\n",
    ")\n",
    "month_widgets_btn.custom_name='month_widgets_btn'\n",
    "\n",
    "\n",
    "year_widgets_btn = widgets.Button(\n",
    "    description='Get data',\n",
    "    disabled=False,\n",
    "    button_style='info', # 'success', 'info', 'warning', 'danger' or ''\n",
    "    tooltip='Click me',\n",
    "    icon='filter', # (FontAwesome names without the `fa-` prefix)\n",
    "    layout=btn_layout\n",
    ")\n",
    "year_widgets_btn.custom_name='year_widgets_btn'\n",
    "\n",
    "year_range_widgets_btn = widgets.Button(\n",
    "    description='Get data',\n",
    "    disabled=False,\n",
    "    button_style='info', # 'success', 'info', 'warning', 'danger' or ''\n",
    "    tooltip='Click me',\n",
    "    icon='filter', # (FontAwesome names without the `fa-` prefix)\n",
    "    layout=btn_layout\n",
    ")\n",
    "year_range_widgets_btn.custom_name='year_range_widgets_btn'\n",
    "\n",
    "# Output area for display updates\n",
    "output_area = widgets.Output()"
   ]
  },
  {
   "cell_type": "code",
   "execution_count": 31,
   "id": "b41cd5f7-0669-445b-ba86-77c599a3a9a8",
   "metadata": {
    "ExecuteTime": {
     "end_time": "2024-08-03T18:23:15.900091Z",
     "start_time": "2024-08-03T18:23:15.890700Z"
    }
   },
   "outputs": [],
   "source": [
    "def setup_observers():\n",
    "    \"\"\"\n",
    "    Sets up observers for UI widgets to handle interactions and updates dynamically in a graphical user interface.\n",
    "    This function ensures that observers are only set once using a function attribute to track whether observers have\n",
    "    already been established, enhancing efficiency and preventing multiple bindings to the same event.\n",
    "\n",
    "    Observer is attached to widgets for country selection. This observer triggers specific functions when the 'value' property \n",
    "    of the widgets changes, facilitating responsive updates to the user interface\n",
    "    based on user interactions.\n",
    "\n",
    "    Notes:\n",
    "    - This function uses a custom attribute `observers_set` on itself to ensure observers are set only once.\n",
    "    \"\"\"\n",
    "    if not hasattr(setup_observers, 'observers_set'):      \n",
    "            # When 'value' changes, update_subareas function will be called to update the dropdown menus\n",
    "            # Create a partial function that includes the additional parameters\n",
    "            country_selector.observe(partial(widgets_handler.update_subareas, \n",
    "                                         country_list=country_list, \n",
    "                                         placeholders=placeholders,\n",
    "                                         adm1_subarea_selector=adm1_subarea_selector, \n",
    "                                         adm2_subarea_selector=adm2_subarea_selector), 'value')\n",
    "            # Set a flag to indicate observers are set\n",
    "            setup_observers.observers_set = True\n",
    "\n",
    "\n",
    "            \n",
    "\n",
    "def update_and_get_data(btn_name):\n",
    "    \"\"\"\n",
    "    Update and retrieve data based on user interactions and selections.\n",
    "\n",
    "    This function handles user interactions, validates selections, calculates geographic bounding boxes,\n",
    "    fetches the corresponding data subset, and updates the output area with relevant information and a map display.\n",
    "\n",
    "    Parameters:\n",
    "    btn_name (str): The name of the button that triggered the interaction.\n",
    "\n",
    "    Global Variables:\n",
    "    selected (dict): Dictionary containing current selections for various parameters.\n",
    "    placeholders (dict): Dictionary of placeholder values.\n",
    "    output_area (OutputArea): The output area widget to display messages and results.\n",
    "    subset_data (xarray.DataArray): Subset of data fetched based on the bounding box.\n",
    "    index (str): Index for the subset data, constructed from timescale value.\n",
    "    bounding_box (tuple): Bounding box coordinates (min_lon, min_lat, max_lon, max_lat) for the selected area.\n",
    "    active_btn (str): The name of the currently active button.\n",
    "\n",
    "    Steps:\n",
    "    1. Set the active button name.\n",
    "    2. Update the month and year selections based on the button interaction.\n",
    "    3. Validate the current selections.\n",
    "    4. If selections are valid:\n",
    "       a. Clear the output area.\n",
    "       b. Retrieve the geographic boundaries for the selected area.\n",
    "       c. Calculate the bounding box for the selected area.\n",
    "       d. Fetch the data subset based on the bounding box.\n",
    "       e. Determine the administrative level, selected area name, timescale, and time period.\n",
    "       f. Print information about the uploaded subset data.\n",
    "       g. Display the map with the bounding box and appropriate zoom level.\n",
    "\n",
    "\n",
    "    Notes:\n",
    "    - The function assumes the existence of utility functions within the 'uti' module for handling interactions, validations, \n",
    "      data fetching, and map display.\n",
    "    - The global variables should be properly initialized before calling this function.\n",
    "    \"\"\"\n",
    "    global selected, placeholders, output_area, subset_data, index, bounding_box, active_btn\n",
    "    map_display = None\n",
    "    active_btn = btn_name\n",
    "    widgets_handler.month_year_interaction(btn_name, month_selector, year_selector, selected, placeholders)\n",
    "    if widgets_handler.validate_selections(btn_name, selected, selectors, placeholders, output_area):\n",
    "        with output_area:\n",
    "            output_area.clear_output(wait=True)\n",
    "            coordinates = coordinates_retriver.get_boundaries(selected, country_list, placeholders)\n",
    "            # print(coordinates)\n",
    "            bounding_box = coordinates_retriver.calculate_bounding_box(coordinates)\n",
    "            # print(bounding_box)            \n",
    "                        \n",
    "            # sample_coordinates = coordinates[:3] # Showing first 3 coordinates for brevity            \n",
    "            # print('Original Coordinates Sample: ', sample_coordinates)  \n",
    "            # print('Bounding Box: ', bounding_box)\n",
    "                        \n",
    "            # Fetching data using the bounding box\n",
    "            subset_data = data_preprocess.get_xarray_data(btn_name, bounding_box, selectors, placeholders, months, timescales)\n",
    "            index = f\"SPEI{timescales[selectors['timescale'].value]}\"\n",
    "            adm_level, selected_area = widgets_handler.get_adm_level_and_area_name(selected, placeholders)\n",
    "            timescale = selected['timescale']\n",
    "            time_period = widgets_handler.get_period_of_time(btn_name, selected, placeholders)\n",
    "                \n",
    "            print(f\"SPEI subset data uploaded for {selected_area}, administrative level {adm_level}, timescale {timescale}, period {time_period}\")\n",
    "            zoom_start = 4\n",
    "            if adm_level == 'ADM1' or adm_level == 'ADM2':\n",
    "                zoom_start = 8  \n",
    "            map_display = coordinates_retriver.display_map(bounding_box, zoom_start)\n",
    "            map_iframe = coordinates_retriver.display_map_in_iframe(map_display)\n",
    "            display(map_iframe)\n",
    "\n",
    "            \n",
    "# Set up widget interaction\n",
    "def on_button_clicked(btn):\n",
    "    update_and_get_data(btn.custom_name)\n",
    "\n",
    "\n",
    "# Setup observers\n",
    "setup_observers()"
   ]
  },
  {
   "cell_type": "code",
   "execution_count": 32,
   "id": "421dcff7-acda-4d8d-850a-9cb2c3e412f1",
   "metadata": {
    "ExecuteTime": {
     "end_time": "2024-08-03T18:23:17.322309Z",
     "start_time": "2024-08-03T18:23:17.306325Z"
    }
   },
   "outputs": [
    {
     "data": {
      "application/vnd.jupyter.widget-view+json": {
       "model_id": "af77d6ce57a5463e8db92f79c9cd1835",
       "version_major": 2,
       "version_minor": 0
      },
      "text/plain": [
       "Dropdown(description='Select a country:', layout=Layout(display='flex', justify_content='flex-end', width='400…"
      ]
     },
     "metadata": {},
     "output_type": "display_data"
    },
    {
     "data": {
      "application/vnd.jupyter.widget-view+json": {
       "model_id": "dc329ece32124dcdbc0f11f664fb0cdf",
       "version_major": 2,
       "version_minor": 0
      },
      "text/plain": [
       "Dropdown(description='a subarea of first level:', layout=Layout(display='flex', justify_content='flex-end', wi…"
      ]
     },
     "metadata": {},
     "output_type": "display_data"
    },
    {
     "data": {
      "application/vnd.jupyter.widget-view+json": {
       "model_id": "d8b16033d9cc489c8a7e22f088494876",
       "version_major": 2,
       "version_minor": 0
      },
      "text/plain": [
       "Dropdown(description='or of second level:', layout=Layout(display='flex', justify_content='flex-end', width='4…"
      ]
     },
     "metadata": {},
     "output_type": "display_data"
    },
    {
     "data": {
      "application/vnd.jupyter.widget-view+json": {
       "model_id": "d3c42cc72947417480549f87b50db137",
       "version_major": 2,
       "version_minor": 0
      },
      "text/plain": [
       "Dropdown(description='Select a timescale:', layout=Layout(display='flex', justify_content='flex-end', width='4…"
      ]
     },
     "metadata": {},
     "output_type": "display_data"
    },
    {
     "data": {
      "application/vnd.jupyter.widget-view+json": {
       "model_id": "63c7d55c545144ed85dcc8516ac1d843",
       "version_major": 2,
       "version_minor": 0
      },
      "text/plain": [
       "Dropdown(description='Select a month:', layout=Layout(display='flex', justify_content='flex-end', width='400px…"
      ]
     },
     "metadata": {},
     "output_type": "display_data"
    },
    {
     "data": {
      "application/vnd.jupyter.widget-view+json": {
       "model_id": "a661c4769f434c0f89f0d2ad06e6ac49",
       "version_major": 2,
       "version_minor": 0
      },
      "text/plain": [
       "Button(button_style='info', description='Get data', icon='filter', layout=Layout(width='400px'), style=ButtonS…"
      ]
     },
     "metadata": {},
     "output_type": "display_data"
    },
    {
     "data": {
      "application/vnd.jupyter.widget-view+json": {
       "model_id": "6edb8d9e781d4a38a434ab6a6d27cf20",
       "version_major": 2,
       "version_minor": 0
      },
      "text/plain": [
       "Output()"
      ]
     },
     "metadata": {},
     "output_type": "display_data"
    }
   ],
   "source": [
    "# Update existing selectors\n",
    "subset_data = None\n",
    "previous_selection = widgets_handler.read_json_to_dict('selection.json')\n",
    "\n",
    "# Set up widgets with previous settings\n",
    "country_selector.value = previous_selection.get('country', placeholders['country'])\n",
    "adm1_subarea_selector.value = previous_selection.get('adm1_subarea', placeholders['adm1_subarea'])\n",
    "adm2_subarea_selector.value = previous_selection.get('adm2_subarea', placeholders['adm2_subarea'])\n",
    "timescale_selector.value = previous_selection.get('timescale', placeholders['timescale'])\n",
    "month_selector.value = previous_selection.get('month', placeholders['month'])\n",
    "month_widgets_btn.on_click(on_button_clicked)\n",
    "\n",
    "# Display widgets\n",
    "display(country_selector, adm1_subarea_selector, adm2_subarea_selector, timescale_selector, month_selector, month_widgets_btn, output_area)"
   ]
  },
  {
   "cell_type": "code",
   "execution_count": 42,
   "id": "213097ca-0df1-4d67-b180-cbf65aca2917",
   "metadata": {
    "ExecuteTime": {
     "end_time": "2024-08-03T18:30:22.702395Z",
     "start_time": "2024-08-03T18:30:22.680821Z"
    }
   },
   "outputs": [
    {
     "name": "stdout",
     "output_type": "stream",
     "text": [
      "Country:  Italy\n",
      "ADM1 subarea:  no adm1 subarea selected...\n",
      "ADM2 subarea:  no adm2 subarea selected...\n",
      "Month:  January\n",
      "Timescale:  1 month \n",
      "\n",
      "Time values in the subset: 86\n",
      "Latitude values in the subset: 47\n",
      "Longitude values in the subset: 48 \n",
      "\n",
      "Data sample:  [[0.65087384 0.56843294 0.59417689 0.53633146 0.52104073]\n",
      " [0.85870783 0.88981189 0.80478525 0.78766646 0.80362451]\n",
      " [1.07243577 1.15477214 1.16270983 1.14461253 1.16399736]\n",
      " [1.2120848  1.30863014 1.38454161 1.45738932 1.47294426]\n",
      " [1.25195178 1.30156042 1.51925645 1.58850551 1.55541797]]\n"
     ]
    }
   ],
   "source": [
    "if not subset_data:\n",
    "    selected = {\n",
    "        \"country\": 'Greece',\n",
    "        \"adm1_subarea\": None,\n",
    "        \"adm2_subarea\": None,\n",
    "        \"timescale\": '6 months',\n",
    "        \"month\": 'June',\n",
    "        \"year\": None,\n",
    "        \"year_range\": None\n",
    "    }\n",
    "    selectors = {\n",
    "    \"country\" : country_selector,\n",
    "    \"adm1_subarea\": adm1_subarea_selector,\n",
    "    \"adm2_subarea\": adm2_subarea_selector,\n",
    "    \"timescale\": timescale_selector,\n",
    "    \"month\": month_selector,\n",
    "    \"year\": year_selector,\n",
    "    \"year_range\": year_range_selector    \n",
    "}\n",
    "    coordinates = coordinates_retriver.get_boundaries(selected, country_list, placeholders)\n",
    "            # print(coordinates)\n",
    "    bounding_box = coordinates_retriver.calculate_bounding_box(coordinates)\n",
    "    timescale_selector.value = selected['timescale']\n",
    "    country_selector.value = selected['country']\n",
    "    month_selector.value = selected['month']\n",
    "    timescale = selected['timescale']\n",
    "    index = f\"SPEI{timescales[selectors['timescale'].value]}\"\n",
    "    subset_data = data_preprocess.get_xarray_data('month_widgets_btn', bounding_box, selectors, placeholders, months, timescales)\n",
    "data_preprocess.display_data_details('month_widgets_btn', selected, subset_data[index])"
   ]
  },
  {
   "cell_type": "code",
   "execution_count": 43,
   "id": "62ae67c8-759c-4281-8939-53b6a8e71ff6",
   "metadata": {
    "ExecuteTime": {
     "end_time": "2024-08-03T18:30:26.451213Z",
     "start_time": "2024-08-03T18:30:25.948953Z"
    }
   },
   "outputs": [
    {
     "name": "stdout",
     "output_type": "stream",
     "text": [
      "<xarray.DataArray 'SPEI1' (time: 85, lat: 47, lon: 48)> Size: 2MB\n",
      "dask.array<getitem, shape=(85, 47, 48), dtype=float64, chunksize=(1, 47, 48), chunktype=numpy.ndarray>\n",
      "Coordinates:\n",
      "  * lon      (lon) float64 384B 6.75 7.0 7.25 7.5 7.75 ... 17.75 18.0 18.25 18.5\n",
      "  * lat      (lat) float64 376B 35.5 35.75 36.0 36.25 ... 46.25 46.5 46.75 47.0\n",
      "  * time     (time) datetime64[ns] 680B 1940-01-01T06:00:00 ... 2024-01-01T06...\n",
      "Attributes:\n",
      "    long_name:  Standardized Drought Index (SPEI1)\n",
      "    units:      - \n",
      "\n",
      "Change summary:\n",
      "invalid_values_replaced 88322\n",
      "invalid_ratio 45.52\n",
      "duplicates_removed 1\n",
      "cftime_conversions 0\n"
     ]
    }
   ],
   "source": [
    "processed_subset, change_summary = data_preprocess.process_datarray(subset_data[index])\n",
    "print(processed_subset, '\\n')\n",
    "print('Change summary:')\n",
    "for key, val in change_summary.items():\n",
    "    print(key, val)"
   ]
  },
  {
   "cell_type": "code",
   "execution_count": 44,
   "id": "df8bef5a-2c45-4be8-9169-9b63e665247e",
   "metadata": {
    "ExecuteTime": {
     "end_time": "2024-08-03T18:30:28.353666Z",
     "start_time": "2024-08-03T18:30:28.291071Z"
    }
   },
   "outputs": [
    {
     "data": {
      "application/vnd.jupyter.widget-view+json": {
       "model_id": "5ed3da8952f145bbab651081e07350a7",
       "version_major": 2,
       "version_minor": 0
      },
      "text/plain": [
       "interactive(children=(SelectionSlider(continuous_update=False, description='Year:', options=(('1940', 0), ('19…"
      ]
     },
     "metadata": {},
     "output_type": "display_data"
    }
   ],
   "source": [
    "# Convert datetime objects to strings and extract the year for the slider labels\n",
    "maps_year_labels = {i: str(processed_subset.time.values[i].astype('datetime64[Y]')) for i in range(len(processed_subset.time))}\n",
    "\n",
    "maps_year_slider = widgets.SelectionSlider(\n",
    "    options=[(maps_year_labels[i], i) for i in range(len(maps_year_labels))],\n",
    "    value=0,\n",
    "    description='Year:',\n",
    "    disabled=False,\n",
    "    continuous_update=False,\n",
    "    orientation='horizontal',\n",
    "    readout=True\n",
    ")\n",
    "\n",
    "# Use a lambda to pass both ds (processed_subset) and time_index to the function\n",
    "maps_year_slider_plot = widgets.interactive(lambda time_index: charts.plot_spei_geographical_distribution(processed_subset, time_index), time_index=maps_year_slider)\n",
    "display(maps_year_slider_plot)"
   ]
  },
  {
   "cell_type": "code",
   "execution_count": null,
   "id": "fe81a1f88fe60cdf",
   "metadata": {},
   "outputs": [],
   "source": [
    "\n",
    "\n",
    "processed_subset.hvplot(groupby=\"time\",\n",
    "                        clim=(-8,8),\n",
    "                        widget_type=\"scrubber\", \n",
    "                        widget_location=\"bottom\", \n",
    "                        projection=ccrs.PlateCarree(), \n",
    "                        coastline='10m',\n",
    "                       # cnorm='eq_hist',\n",
    "                       cmap='BrBG')"
   ]
  },
  {
   "cell_type": "code",
   "execution_count": 45,
   "id": "7cf9e3bd-f454-4069-96c3-f92fd2728f6f",
   "metadata": {
    "ExecuteTime": {
     "end_time": "2024-08-03T18:30:33.118399Z",
     "start_time": "2024-08-03T18:30:30.913350Z"
    }
   },
   "outputs": [],
   "source": [
    "stat_values = data_preprocess.compute_stats(processed_subset)"
   ]
  },
  {
   "cell_type": "code",
   "execution_count": 46,
   "id": "603e5d56-e15b-46b1-b953-8a60d70f2166",
   "metadata": {
    "ExecuteTime": {
     "end_time": "2024-08-03T18:30:33.154100Z",
     "start_time": "2024-08-03T18:30:33.120452Z"
    }
   },
   "outputs": [
    {
     "data": {
      "application/vnd.plotly.v1+json": {
       "config": {
        "plotlyServerURL": "https://plot.ly"
       },
       "data": [
        {
         "hoverinfo": "text",
         "marker": {
          "color": [
           "#A1F7D5",
           "#A1F7D5",
           "#A1F7D5",
           "#A1F7D5",
           "#FF961F",
           "#A1F7D5",
           "#A1F7D5",
           "#A1F7D5",
           "#A1F7D5",
           "#FFBF69",
           "#A1F7D5",
           "#A1F7D5",
           "#A1F7D5",
           "#FFBF69",
           "#A1F7D5",
           "#A1F7D5",
           "#A1F7D5",
           "#A1F7D5",
           "#A1F7D5",
           "#FFBF69",
           "#A1F7D5",
           "#A1F7D5",
           "#A1F7D5",
           "#A1F7D5",
           "#FF961F",
           "#A1F7D5",
           "#A1F7D5",
           "#FFBF69",
           "#A1F7D5",
           "#A1F7D5",
           "#A1F7D5",
           "#A1F7D5",
           "#43EFAA",
           "#A1F7D5",
           "#FFBF69",
           "#FFBF69",
           "#FFBF69",
           "#A1F7D5",
           "#43EFAA",
           "#A1F7D5",
           "#A1F7D5",
           "#FFBF69",
           "#FFBF69",
           "#FFBF69",
           "#A1F7D5",
           "#A1F7D5",
           "#A1F7D5",
           "#A1F7D5",
           "#A1F7D5",
           "#8F5100",
           "#FFBF69",
           "#FFBF69",
           "#FFBF69",
           "#FF961F",
           "#A1F7D5",
           "#A1F7D5",
           "#A1F7D5",
           "#A1F7D5",
           "#FFBF69",
           "#A1F7D5",
           "#FFBF69",
           "#A1F7D5",
           "#FF961F",
           "#A1F7D5",
           "#A1F7D5",
           "#FFBF69",
           "#A1F7D5",
           "#FFBF69",
           "#FFBF69",
           "#43EFAA",
           "#A1F7D5",
           "#FFBF69",
           "#FFBF69",
           "#A1F7D5",
           "#43EFAA",
           "#A1F7D5",
           "#A1F7D5",
           "#A1F7D5",
           "#FFBF69",
           "#A1F7D5",
           "#FF961F",
           "#A1F7D5",
           "#FFBF69",
           "#A1F7D5",
           "#FFBF69"
          ],
          "line": {
           "color": "black",
           "width": 1
          },
          "size": 10,
          "symbol": "circle"
         },
         "mode": "markers",
         "name": "Mean SPEI",
         "text": [
          "January 1940, mean: 0.49",
          "January 1941, mean: 0.74",
          "January 1942, mean: 0.26",
          "January 1943, mean: 0.06",
          "January 1944, mean: -1.33",
          "January 1945, mean: 0.98",
          "January 1946, mean: 0.43",
          "January 1947, mean: 0.03",
          "January 1948, mean: 0.83",
          "January 1949, mean: -0.16",
          "January 1950, mean: 0.26",
          "January 1951, mean: 0.74",
          "January 1952, mean: 0.52",
          "January 1953, mean: -0.11",
          "January 1954, mean: 0.32",
          "January 1955, mean: 0.39",
          "January 1956, mean: 0.07",
          "January 1957, mean: 0.19",
          "January 1958, mean: 0.21",
          "January 1959, mean: -0.06",
          "January 1960, mean: 0.40",
          "January 1961, mean: 0.62",
          "January 1962, mean: 0.03",
          "January 1963, mean: 0.74",
          "January 1964, mean: -1.04",
          "January 1965, mean: 0.72",
          "January 1966, mean: 0.25",
          "January 1967, mean: -0.19",
          "January 1968, mean: 0.28",
          "January 1969, mean: 0.48",
          "January 1970, mean: 0.68",
          "January 1971, mean: 0.85",
          "January 1972, mean: 1.04",
          "January 1973, mean: 0.82",
          "January 1974, mean: -0.28",
          "January 1975, mean: -0.72",
          "January 1976, mean: -0.48",
          "January 1977, mean: 0.93",
          "January 1978, mean: 1.02",
          "January 1979, mean: 0.88",
          "January 1980, mean: 0.47",
          "January 1981, mean: -0.10",
          "January 1982, mean: -0.32",
          "January 1983, mean: -0.93",
          "January 1984, mean: 0.44",
          "January 1985, mean: 0.78",
          "January 1986, mean: 0.77",
          "January 1987, mean: 0.74",
          "January 1988, mean: 0.41",
          "January 1989, mean: -1.58",
          "January 1990, mean: -0.78",
          "January 1991, mean: -0.54",
          "January 1992, mean: -0.62",
          "January 1993, mean: -1.24",
          "January 1994, mean: 0.49",
          "January 1995, mean: 0.23",
          "January 1996, mean: 0.35",
          "January 1997, mean: 0.03",
          "January 1998, mean: -0.10",
          "January 1999, mean: 0.15",
          "January 2000, mean: -1.00",
          "January 2001, mean: 0.93",
          "January 2002, mean: -1.19",
          "January 2003, mean: 0.87",
          "January 2004, mean: 0.26",
          "January 2005, mean: -0.44",
          "January 2006, mean: 0.21",
          "January 2007, mean: -0.49",
          "January 2008, mean: -0.20",
          "January 2009, mean: 1.24",
          "January 2010, mean: 0.84",
          "January 2011, mean: -0.26",
          "January 2012, mean: -0.37",
          "January 2013, mean: 0.72",
          "January 2014, mean: 1.09",
          "January 2015, mean: 0.37",
          "January 2016, mean: 0.14",
          "January 2017, mean: 0.02",
          "January 2018, mean: -0.17",
          "January 2019, mean: 0.16",
          "January 2020, mean: -1.34",
          "January 2021, mean: 0.86",
          "January 2022, mean: -0.91",
          "January 2023, mean: 0.63",
          "January 2024, mean: -0.09"
         ],
         "type": "scatter",
         "x": [
          "1940-01-01T06:00:00.000000000",
          "1941-01-01T06:00:00.000000000",
          "1942-01-01T06:00:00.000000000",
          "1943-01-01T06:00:00.000000000",
          "1944-01-01T06:00:00.000000000",
          "1945-01-01T06:00:00.000000000",
          "1946-01-01T06:00:00.000000000",
          "1947-01-01T06:00:00.000000000",
          "1948-01-01T06:00:00.000000000",
          "1949-01-01T06:00:00.000000000",
          "1950-01-01T06:00:00.000000000",
          "1951-01-01T06:00:00.000000000",
          "1952-01-01T06:00:00.000000000",
          "1953-01-01T06:00:00.000000000",
          "1954-01-01T06:00:00.000000000",
          "1955-01-01T06:00:00.000000000",
          "1956-01-01T06:00:00.000000000",
          "1957-01-01T06:00:00.000000000",
          "1958-01-01T06:00:00.000000000",
          "1959-01-01T06:00:00.000000000",
          "1960-01-01T06:00:00.000000000",
          "1961-01-01T06:00:00.000000000",
          "1962-01-01T06:00:00.000000000",
          "1963-01-01T06:00:00.000000000",
          "1964-01-01T06:00:00.000000000",
          "1965-01-01T06:00:00.000000000",
          "1966-01-01T06:00:00.000000000",
          "1967-01-01T06:00:00.000000000",
          "1968-01-01T06:00:00.000000000",
          "1969-01-01T06:00:00.000000000",
          "1970-01-01T06:00:00.000000000",
          "1971-01-01T06:00:00.000000000",
          "1972-01-01T06:00:00.000000000",
          "1973-01-01T06:00:00.000000000",
          "1974-01-01T06:00:00.000000000",
          "1975-01-01T06:00:00.000000000",
          "1976-01-01T06:00:00.000000000",
          "1977-01-01T06:00:00.000000000",
          "1978-01-01T06:00:00.000000000",
          "1979-01-01T06:00:00.000000000",
          "1980-01-01T06:00:00.000000000",
          "1981-01-01T06:00:00.000000000",
          "1982-01-01T06:00:00.000000000",
          "1983-01-01T06:00:00.000000000",
          "1984-01-01T06:00:00.000000000",
          "1985-01-01T06:00:00.000000000",
          "1986-01-01T06:00:00.000000000",
          "1987-01-01T06:00:00.000000000",
          "1988-01-01T06:00:00.000000000",
          "1989-01-01T06:00:00.000000000",
          "1990-01-01T06:00:00.000000000",
          "1991-01-01T06:00:00.000000000",
          "1992-01-01T06:00:00.000000000",
          "1993-01-01T06:00:00.000000000",
          "1994-01-01T06:00:00.000000000",
          "1995-01-01T06:00:00.000000000",
          "1996-01-01T06:00:00.000000000",
          "1997-01-01T06:00:00.000000000",
          "1998-01-01T06:00:00.000000000",
          "1999-01-01T06:00:00.000000000",
          "2000-01-01T06:00:00.000000000",
          "2001-01-01T06:00:00.000000000",
          "2002-01-01T06:00:00.000000000",
          "2003-01-01T06:00:00.000000000",
          "2004-01-01T06:00:00.000000000",
          "2005-01-01T06:00:00.000000000",
          "2006-01-01T06:00:00.000000000",
          "2007-01-01T06:00:00.000000000",
          "2008-01-01T06:00:00.000000000",
          "2009-01-01T06:00:00.000000000",
          "2010-01-01T06:00:00.000000000",
          "2011-01-01T06:00:00.000000000",
          "2012-01-01T06:00:00.000000000",
          "2013-01-01T06:00:00.000000000",
          "2014-01-01T06:00:00.000000000",
          "2015-01-01T06:00:00.000000000",
          "2016-01-01T06:00:00.000000000",
          "2017-01-01T06:00:00.000000000",
          "2018-01-01T06:00:00.000000000",
          "2019-01-01T06:00:00.000000000",
          "2020-01-01T06:00:00.000000000",
          "2021-01-01T06:00:00.000000000",
          "2022-01-01T06:00:00.000000000",
          "2023-01-01T06:00:00.000000000",
          "2024-01-01T06:00:00.000000000"
         ],
         "y": [
          0.49421249892090263,
          0.7404064962226432,
          0.26019000827848393,
          0.06010518556341727,
          -1.3310071814063222,
          0.9800789320523753,
          0.4281969563280661,
          0.03301369308791643,
          0.8265750968639941,
          -0.15631111533746214,
          0.2612140955590106,
          0.7401037992397924,
          0.5241947106844994,
          -0.11018151773005071,
          0.3177141251284983,
          0.3893158655074018,
          0.07364410179023903,
          0.18921179750929928,
          0.20773095175088757,
          -0.05821773668316904,
          0.3981299981600699,
          0.6157166793616724,
          0.027826777803133695,
          0.73801811470148,
          -1.0360540577212431,
          0.7176019715530477,
          0.2512530292310452,
          -0.18538142221898168,
          0.280803941312571,
          0.47726075063514356,
          0.6795896219799953,
          0.8479444701330049,
          1.037960116205169,
          0.821295708949165,
          -0.2787489028631449,
          -0.7230567323328373,
          -0.477875310922253,
          0.9279138051155772,
          1.024798061603545,
          0.8845960561304002,
          0.4749629749261207,
          -0.09595405301826018,
          -0.32377290292062266,
          -0.9273150800544332,
          0.44383231528696415,
          0.7783746028131142,
          0.7704311251695541,
          0.7414033786823374,
          0.40666200351074633,
          -1.5796454320801352,
          -0.779194242613004,
          -0.5443904624736321,
          -0.6245577291635196,
          -1.237090440480585,
          0.49488101855819705,
          0.23426266102458243,
          0.3533883929638742,
          0.030342340966458537,
          -0.09678897087925165,
          0.15327035437075404,
          -0.999909960816837,
          0.9314724599787172,
          -1.1900377350376221,
          0.8666233567951642,
          0.264254677084919,
          -0.4399064991980874,
          0.20976086139278927,
          -0.4895000553630983,
          -0.19776254189291004,
          1.2361193186952837,
          0.8380943258470657,
          -0.2585210588222136,
          -0.37412936093239896,
          0.7234088561789942,
          1.0933663297566782,
          0.36840154007306203,
          0.1404150912817384,
          0.01563867481931436,
          -0.17332756809757688,
          0.16343295045825632,
          -1.341133804731812,
          0.8622453225961905,
          -0.9063080365481994,
          0.6335071164960063,
          -0.09005854654972836
         ]
        },
        {
         "hoverinfo": "text",
         "marker": {
          "color": [
           "#A1F7D5",
           "#A1F7D5",
           "#A1F7D5",
           "#A1F7D5",
           "#8F5100",
           "#43EFAA",
           "#A1F7D5",
           "#FFBF69",
           "#43EFAA",
           "#FFBF69",
           "#A1F7D5",
           "#A1F7D5",
           "#A1F7D5",
           "#FFBF69",
           "#A1F7D5",
           "#A1F7D5",
           "#A1F7D5",
           "#A1F7D5",
           "#A1F7D5",
           "#FFBF69",
           "#A1F7D5",
           "#A1F7D5",
           "#A1F7D5",
           "#A1F7D5",
           "#FF961F",
           "#A1F7D5",
           "#A1F7D5",
           "#FFBF69",
           "#A1F7D5",
           "#A1F7D5",
           "#A1F7D5",
           "#A1F7D5",
           "#43EFAA",
           "#A1F7D5",
           "#FFBF69",
           "#FF961F",
           "#FFBF69",
           "#A1F7D5",
           "#43EFAA",
           "#43EFAA",
           "#A1F7D5",
           "#FFBF69",
           "#FFBF69",
           "#FF961F",
           "#A1F7D5",
           "#A1F7D5",
           "#A1F7D5",
           "#A1F7D5",
           "#A1F7D5",
           "#8F5100",
           "#FFBF69",
           "#FFBF69",
           "#FFBF69",
           "#FF961F",
           "#A1F7D5",
           "#A1F7D5",
           "#A1F7D5",
           "#A1F7D5",
           "#FFBF69",
           "#A1F7D5",
           "#FF961F",
           "#A1F7D5",
           "#FF961F",
           "#A1F7D5",
           "#A1F7D5",
           "#FFBF69",
           "#A1F7D5",
           "#FFBF69",
           "#FFBF69",
           "#43EFAA",
           "#A1F7D5",
           "#FFBF69",
           "#FFBF69",
           "#A1F7D5",
           "#A1F7D5",
           "#A1F7D5",
           "#A1F7D5",
           "#FFBF69",
           "#FFBF69",
           "#A1F7D5",
           "#FF961F",
           "#43EFAA",
           "#FFBF69",
           "#A1F7D5",
           "#A1F7D5"
          ],
          "line": {
           "color": "black",
           "width": 1
          },
          "size": 10,
          "symbol": "diamond"
         },
         "mode": "markers",
         "name": "Median SPEI",
         "text": [
          "January 1940, median: 0.45",
          "January 1941, median: 0.94",
          "January 1942, median: 0.45",
          "January 1943, median: 0.12",
          "January 1944, median: -1.53",
          "January 1945, median: 1.06",
          "January 1946, median: 0.39",
          "January 1947, median: -0.06",
          "January 1948, median: 1.22",
          "January 1949, median: -0.10",
          "January 1950, median: 0.20",
          "January 1951, median: 0.71",
          "January 1952, median: 0.53",
          "January 1953, median: -0.07",
          "January 1954, median: 0.25",
          "January 1955, median: 0.31",
          "January 1956, median: 0.05",
          "January 1957, median: 0.13",
          "January 1958, median: 0.20",
          "January 1959, median: -0.07",
          "January 1960, median: 0.37",
          "January 1961, median: 0.69",
          "January 1962, median: 0.04",
          "January 1963, median: 0.78",
          "January 1964, median: -1.46",
          "January 1965, median: 0.76",
          "January 1966, median: 0.41",
          "January 1967, median: -0.13",
          "January 1968, median: 0.31",
          "January 1969, median: 0.53",
          "January 1970, median: 0.71",
          "January 1971, median: 0.96",
          "January 1972, median: 1.09",
          "January 1973, median: 0.86",
          "January 1974, median: -0.35",
          "January 1975, median: -1.01",
          "January 1976, median: -0.64",
          "January 1977, median: 0.84",
          "January 1978, median: 1.09",
          "January 1979, median: 1.04",
          "January 1980, median: 0.57",
          "January 1981, median: -0.10",
          "January 1982, median: -0.41",
          "January 1983, median: -1.10",
          "January 1984, median: 0.44",
          "January 1985, median: 0.76",
          "January 1986, median: 0.71",
          "January 1987, median: 0.80",
          "January 1988, median: 0.46",
          "January 1989, median: -1.67",
          "January 1990, median: -0.94",
          "January 1991, median: -0.49",
          "January 1992, median: -0.81",
          "January 1993, median: -1.36",
          "January 1994, median: 0.51",
          "January 1995, median: 0.29",
          "January 1996, median: 0.38",
          "January 1997, median: 0.06",
          "January 1998, median: -0.16",
          "January 1999, median: 0.01",
          "January 2000, median: -1.13",
          "January 2001, median: 0.97",
          "January 2002, median: -1.24",
          "January 2003, median: 0.82",
          "January 2004, median: 0.26",
          "January 2005, median: -0.42",
          "January 2006, median: 0.05",
          "January 2007, median: -0.37",
          "January 2008, median: -0.30",
          "January 2009, median: 1.25",
          "January 2010, median: 0.92",
          "January 2011, median: -0.36",
          "January 2012, median: -0.52",
          "January 2013, median: 0.87",
          "January 2014, median: 0.99",
          "January 2015, median: 0.41",
          "January 2016, median: 0.15",
          "January 2017, median: -0.11",
          "January 2018, median: -0.11",
          "January 2019, median: 0.28",
          "January 2020, median: -1.34",
          "January 2021, median: 1.18",
          "January 2022, median: -0.90",
          "January 2023, median: 0.84",
          "January 2024, median: 0.01"
         ],
         "type": "scatter",
         "x": [
          "1940-01-01T06:00:00.000000000",
          "1941-01-01T06:00:00.000000000",
          "1942-01-01T06:00:00.000000000",
          "1943-01-01T06:00:00.000000000",
          "1944-01-01T06:00:00.000000000",
          "1945-01-01T06:00:00.000000000",
          "1946-01-01T06:00:00.000000000",
          "1947-01-01T06:00:00.000000000",
          "1948-01-01T06:00:00.000000000",
          "1949-01-01T06:00:00.000000000",
          "1950-01-01T06:00:00.000000000",
          "1951-01-01T06:00:00.000000000",
          "1952-01-01T06:00:00.000000000",
          "1953-01-01T06:00:00.000000000",
          "1954-01-01T06:00:00.000000000",
          "1955-01-01T06:00:00.000000000",
          "1956-01-01T06:00:00.000000000",
          "1957-01-01T06:00:00.000000000",
          "1958-01-01T06:00:00.000000000",
          "1959-01-01T06:00:00.000000000",
          "1960-01-01T06:00:00.000000000",
          "1961-01-01T06:00:00.000000000",
          "1962-01-01T06:00:00.000000000",
          "1963-01-01T06:00:00.000000000",
          "1964-01-01T06:00:00.000000000",
          "1965-01-01T06:00:00.000000000",
          "1966-01-01T06:00:00.000000000",
          "1967-01-01T06:00:00.000000000",
          "1968-01-01T06:00:00.000000000",
          "1969-01-01T06:00:00.000000000",
          "1970-01-01T06:00:00.000000000",
          "1971-01-01T06:00:00.000000000",
          "1972-01-01T06:00:00.000000000",
          "1973-01-01T06:00:00.000000000",
          "1974-01-01T06:00:00.000000000",
          "1975-01-01T06:00:00.000000000",
          "1976-01-01T06:00:00.000000000",
          "1977-01-01T06:00:00.000000000",
          "1978-01-01T06:00:00.000000000",
          "1979-01-01T06:00:00.000000000",
          "1980-01-01T06:00:00.000000000",
          "1981-01-01T06:00:00.000000000",
          "1982-01-01T06:00:00.000000000",
          "1983-01-01T06:00:00.000000000",
          "1984-01-01T06:00:00.000000000",
          "1985-01-01T06:00:00.000000000",
          "1986-01-01T06:00:00.000000000",
          "1987-01-01T06:00:00.000000000",
          "1988-01-01T06:00:00.000000000",
          "1989-01-01T06:00:00.000000000",
          "1990-01-01T06:00:00.000000000",
          "1991-01-01T06:00:00.000000000",
          "1992-01-01T06:00:00.000000000",
          "1993-01-01T06:00:00.000000000",
          "1994-01-01T06:00:00.000000000",
          "1995-01-01T06:00:00.000000000",
          "1996-01-01T06:00:00.000000000",
          "1997-01-01T06:00:00.000000000",
          "1998-01-01T06:00:00.000000000",
          "1999-01-01T06:00:00.000000000",
          "2000-01-01T06:00:00.000000000",
          "2001-01-01T06:00:00.000000000",
          "2002-01-01T06:00:00.000000000",
          "2003-01-01T06:00:00.000000000",
          "2004-01-01T06:00:00.000000000",
          "2005-01-01T06:00:00.000000000",
          "2006-01-01T06:00:00.000000000",
          "2007-01-01T06:00:00.000000000",
          "2008-01-01T06:00:00.000000000",
          "2009-01-01T06:00:00.000000000",
          "2010-01-01T06:00:00.000000000",
          "2011-01-01T06:00:00.000000000",
          "2012-01-01T06:00:00.000000000",
          "2013-01-01T06:00:00.000000000",
          "2014-01-01T06:00:00.000000000",
          "2015-01-01T06:00:00.000000000",
          "2016-01-01T06:00:00.000000000",
          "2017-01-01T06:00:00.000000000",
          "2018-01-01T06:00:00.000000000",
          "2019-01-01T06:00:00.000000000",
          "2020-01-01T06:00:00.000000000",
          "2021-01-01T06:00:00.000000000",
          "2022-01-01T06:00:00.000000000",
          "2023-01-01T06:00:00.000000000",
          "2024-01-01T06:00:00.000000000"
         ],
         "y": [
          0.45099064846545484,
          0.9377315201203988,
          0.44956435235069503,
          0.11813671133153823,
          -1.533136956204275,
          1.061241776740434,
          0.38678100188284686,
          -0.06103367145153026,
          1.2152729415577501,
          -0.10456030189324703,
          0.19554541829159053,
          0.7099894024767669,
          0.5333830462137804,
          -0.06975511902880002,
          0.25095193073846034,
          0.3100435240859004,
          0.051248540749872194,
          0.12601926579255268,
          0.20234908690754747,
          -0.07404914701661043,
          0.36955234716562035,
          0.6947131997610261,
          0.03907808408930163,
          0.7754824794688905,
          -1.4616975571926294,
          0.763578036531255,
          0.41324407803152535,
          -0.13060703127173318,
          0.3066442245751696,
          0.5262496705432781,
          0.7140175812915799,
          0.9576687692578629,
          1.0856659729455655,
          0.8620606304984721,
          -0.34771300857831233,
          -1.0146253354965642,
          -0.6430608823147682,
          0.8386907196197244,
          1.0946380170031413,
          1.0437128486325764,
          0.5679253907049625,
          -0.10184307596326221,
          -0.40700187128956333,
          -1.1003240339015918,
          0.4399590570837723,
          0.7636897053561865,
          0.7120533560744725,
          0.7994408313919787,
          0.45918642990132463,
          -1.6681294033192324,
          -0.9389219229720811,
          -0.4870305437926909,
          -0.8125895009970484,
          -1.3578465506829103,
          0.5097620543169515,
          0.2852863817493013,
          0.3804881983602032,
          0.06228772022404382,
          -0.16134637986651565,
          0.008546030228582465,
          -1.1294951711879186,
          0.9737748792897123,
          -1.241740557654697,
          0.8162461166100526,
          0.2579457671458903,
          -0.4156910042129233,
          0.04658652010109405,
          -0.36947239441099883,
          -0.30123605172183876,
          1.2485146329513483,
          0.9220909582361339,
          -0.3582822466308062,
          -0.5221897150568762,
          0.8659997936570307,
          0.9855533093477599,
          0.41158635611747474,
          0.1521998326784377,
          -0.10867607628621118,
          -0.10678111099011707,
          0.2841393885501778,
          -1.3411526849432767,
          1.184596063068649,
          -0.89570092606041,
          0.8379117909420274,
          0.005638863848528565
         ]
        },
        {
         "hoverinfo": "none",
         "legendgroup": "colors",
         "marker": {
          "color": "#074B30",
          "size": 10
         },
         "mode": "markers",
         "name": "Extremely wet",
         "showlegend": true,
         "type": "scatter",
         "x": [
          null
         ],
         "y": [
          null
         ]
        },
        {
         "hoverinfo": "none",
         "legendgroup": "colors",
         "marker": {
          "color": "#0D965f",
          "size": 10
         },
         "mode": "markers",
         "name": "Severely wet",
         "showlegend": true,
         "type": "scatter",
         "x": [
          null
         ],
         "y": [
          null
         ]
        },
        {
         "hoverinfo": "none",
         "legendgroup": "colors",
         "marker": {
          "color": "#43EFAA",
          "size": 10
         },
         "mode": "markers",
         "name": "Moderately wet",
         "showlegend": true,
         "type": "scatter",
         "x": [
          null
         ],
         "y": [
          null
         ]
        },
        {
         "hoverinfo": "none",
         "legendgroup": "colors",
         "marker": {
          "color": "#A1F7D5",
          "size": 10
         },
         "mode": "markers",
         "name": "Mildly wet",
         "showlegend": true,
         "type": "scatter",
         "x": [
          null
         ],
         "y": [
          null
         ]
        },
        {
         "hoverinfo": "none",
         "legendgroup": "colors",
         "marker": {
          "color": "#FFBF69",
          "size": 10
         },
         "mode": "markers",
         "name": "Mildly dry",
         "showlegend": true,
         "type": "scatter",
         "x": [
          null
         ],
         "y": [
          null
         ]
        },
        {
         "hoverinfo": "none",
         "legendgroup": "colors",
         "marker": {
          "color": "#FF961F",
          "size": 10
         },
         "mode": "markers",
         "name": "Moderately dry",
         "showlegend": true,
         "type": "scatter",
         "x": [
          null
         ],
         "y": [
          null
         ]
        },
        {
         "hoverinfo": "none",
         "legendgroup": "colors",
         "marker": {
          "color": "#8F5100",
          "size": 10
         },
         "mode": "markers",
         "name": "Severely dry",
         "showlegend": true,
         "type": "scatter",
         "x": [
          null
         ],
         "y": [
          null
         ]
        },
        {
         "hoverinfo": "none",
         "legendgroup": "colors",
         "marker": {
          "color": "#3d2100",
          "size": 10
         },
         "mode": "markers",
         "name": "Extremely dry",
         "showlegend": true,
         "type": "scatter",
         "x": [
          null
         ],
         "y": [
          null
         ]
        }
       ],
       "layout": {
        "height": 600,
        "plot_bgcolor": "rgba(0,0,0,0)",
        "template": {
         "data": {
          "bar": [
           {
            "error_x": {
             "color": "#2a3f5f"
            },
            "error_y": {
             "color": "#2a3f5f"
            },
            "marker": {
             "line": {
              "color": "white",
              "width": 0.5
             },
             "pattern": {
              "fillmode": "overlay",
              "size": 10,
              "solidity": 0.2
             }
            },
            "type": "bar"
           }
          ],
          "barpolar": [
           {
            "marker": {
             "line": {
              "color": "white",
              "width": 0.5
             },
             "pattern": {
              "fillmode": "overlay",
              "size": 10,
              "solidity": 0.2
             }
            },
            "type": "barpolar"
           }
          ],
          "carpet": [
           {
            "aaxis": {
             "endlinecolor": "#2a3f5f",
             "gridcolor": "#C8D4E3",
             "linecolor": "#C8D4E3",
             "minorgridcolor": "#C8D4E3",
             "startlinecolor": "#2a3f5f"
            },
            "baxis": {
             "endlinecolor": "#2a3f5f",
             "gridcolor": "#C8D4E3",
             "linecolor": "#C8D4E3",
             "minorgridcolor": "#C8D4E3",
             "startlinecolor": "#2a3f5f"
            },
            "type": "carpet"
           }
          ],
          "choropleth": [
           {
            "colorbar": {
             "outlinewidth": 0,
             "ticks": ""
            },
            "type": "choropleth"
           }
          ],
          "contour": [
           {
            "colorbar": {
             "outlinewidth": 0,
             "ticks": ""
            },
            "colorscale": [
             [
              0,
              "#0d0887"
             ],
             [
              0.1111111111111111,
              "#46039f"
             ],
             [
              0.2222222222222222,
              "#7201a8"
             ],
             [
              0.3333333333333333,
              "#9c179e"
             ],
             [
              0.4444444444444444,
              "#bd3786"
             ],
             [
              0.5555555555555556,
              "#d8576b"
             ],
             [
              0.6666666666666666,
              "#ed7953"
             ],
             [
              0.7777777777777778,
              "#fb9f3a"
             ],
             [
              0.8888888888888888,
              "#fdca26"
             ],
             [
              1,
              "#f0f921"
             ]
            ],
            "type": "contour"
           }
          ],
          "contourcarpet": [
           {
            "colorbar": {
             "outlinewidth": 0,
             "ticks": ""
            },
            "type": "contourcarpet"
           }
          ],
          "heatmap": [
           {
            "colorbar": {
             "outlinewidth": 0,
             "ticks": ""
            },
            "colorscale": [
             [
              0,
              "#0d0887"
             ],
             [
              0.1111111111111111,
              "#46039f"
             ],
             [
              0.2222222222222222,
              "#7201a8"
             ],
             [
              0.3333333333333333,
              "#9c179e"
             ],
             [
              0.4444444444444444,
              "#bd3786"
             ],
             [
              0.5555555555555556,
              "#d8576b"
             ],
             [
              0.6666666666666666,
              "#ed7953"
             ],
             [
              0.7777777777777778,
              "#fb9f3a"
             ],
             [
              0.8888888888888888,
              "#fdca26"
             ],
             [
              1,
              "#f0f921"
             ]
            ],
            "type": "heatmap"
           }
          ],
          "heatmapgl": [
           {
            "colorbar": {
             "outlinewidth": 0,
             "ticks": ""
            },
            "colorscale": [
             [
              0,
              "#0d0887"
             ],
             [
              0.1111111111111111,
              "#46039f"
             ],
             [
              0.2222222222222222,
              "#7201a8"
             ],
             [
              0.3333333333333333,
              "#9c179e"
             ],
             [
              0.4444444444444444,
              "#bd3786"
             ],
             [
              0.5555555555555556,
              "#d8576b"
             ],
             [
              0.6666666666666666,
              "#ed7953"
             ],
             [
              0.7777777777777778,
              "#fb9f3a"
             ],
             [
              0.8888888888888888,
              "#fdca26"
             ],
             [
              1,
              "#f0f921"
             ]
            ],
            "type": "heatmapgl"
           }
          ],
          "histogram": [
           {
            "marker": {
             "pattern": {
              "fillmode": "overlay",
              "size": 10,
              "solidity": 0.2
             }
            },
            "type": "histogram"
           }
          ],
          "histogram2d": [
           {
            "colorbar": {
             "outlinewidth": 0,
             "ticks": ""
            },
            "colorscale": [
             [
              0,
              "#0d0887"
             ],
             [
              0.1111111111111111,
              "#46039f"
             ],
             [
              0.2222222222222222,
              "#7201a8"
             ],
             [
              0.3333333333333333,
              "#9c179e"
             ],
             [
              0.4444444444444444,
              "#bd3786"
             ],
             [
              0.5555555555555556,
              "#d8576b"
             ],
             [
              0.6666666666666666,
              "#ed7953"
             ],
             [
              0.7777777777777778,
              "#fb9f3a"
             ],
             [
              0.8888888888888888,
              "#fdca26"
             ],
             [
              1,
              "#f0f921"
             ]
            ],
            "type": "histogram2d"
           }
          ],
          "histogram2dcontour": [
           {
            "colorbar": {
             "outlinewidth": 0,
             "ticks": ""
            },
            "colorscale": [
             [
              0,
              "#0d0887"
             ],
             [
              0.1111111111111111,
              "#46039f"
             ],
             [
              0.2222222222222222,
              "#7201a8"
             ],
             [
              0.3333333333333333,
              "#9c179e"
             ],
             [
              0.4444444444444444,
              "#bd3786"
             ],
             [
              0.5555555555555556,
              "#d8576b"
             ],
             [
              0.6666666666666666,
              "#ed7953"
             ],
             [
              0.7777777777777778,
              "#fb9f3a"
             ],
             [
              0.8888888888888888,
              "#fdca26"
             ],
             [
              1,
              "#f0f921"
             ]
            ],
            "type": "histogram2dcontour"
           }
          ],
          "mesh3d": [
           {
            "colorbar": {
             "outlinewidth": 0,
             "ticks": ""
            },
            "type": "mesh3d"
           }
          ],
          "parcoords": [
           {
            "line": {
             "colorbar": {
              "outlinewidth": 0,
              "ticks": ""
             }
            },
            "type": "parcoords"
           }
          ],
          "pie": [
           {
            "automargin": true,
            "type": "pie"
           }
          ],
          "scatter": [
           {
            "fillpattern": {
             "fillmode": "overlay",
             "size": 10,
             "solidity": 0.2
            },
            "type": "scatter"
           }
          ],
          "scatter3d": [
           {
            "line": {
             "colorbar": {
              "outlinewidth": 0,
              "ticks": ""
             }
            },
            "marker": {
             "colorbar": {
              "outlinewidth": 0,
              "ticks": ""
             }
            },
            "type": "scatter3d"
           }
          ],
          "scattercarpet": [
           {
            "marker": {
             "colorbar": {
              "outlinewidth": 0,
              "ticks": ""
             }
            },
            "type": "scattercarpet"
           }
          ],
          "scattergeo": [
           {
            "marker": {
             "colorbar": {
              "outlinewidth": 0,
              "ticks": ""
             }
            },
            "type": "scattergeo"
           }
          ],
          "scattergl": [
           {
            "marker": {
             "colorbar": {
              "outlinewidth": 0,
              "ticks": ""
             }
            },
            "type": "scattergl"
           }
          ],
          "scattermapbox": [
           {
            "marker": {
             "colorbar": {
              "outlinewidth": 0,
              "ticks": ""
             }
            },
            "type": "scattermapbox"
           }
          ],
          "scatterpolar": [
           {
            "marker": {
             "colorbar": {
              "outlinewidth": 0,
              "ticks": ""
             }
            },
            "type": "scatterpolar"
           }
          ],
          "scatterpolargl": [
           {
            "marker": {
             "colorbar": {
              "outlinewidth": 0,
              "ticks": ""
             }
            },
            "type": "scatterpolargl"
           }
          ],
          "scatterternary": [
           {
            "marker": {
             "colorbar": {
              "outlinewidth": 0,
              "ticks": ""
             }
            },
            "type": "scatterternary"
           }
          ],
          "surface": [
           {
            "colorbar": {
             "outlinewidth": 0,
             "ticks": ""
            },
            "colorscale": [
             [
              0,
              "#0d0887"
             ],
             [
              0.1111111111111111,
              "#46039f"
             ],
             [
              0.2222222222222222,
              "#7201a8"
             ],
             [
              0.3333333333333333,
              "#9c179e"
             ],
             [
              0.4444444444444444,
              "#bd3786"
             ],
             [
              0.5555555555555556,
              "#d8576b"
             ],
             [
              0.6666666666666666,
              "#ed7953"
             ],
             [
              0.7777777777777778,
              "#fb9f3a"
             ],
             [
              0.8888888888888888,
              "#fdca26"
             ],
             [
              1,
              "#f0f921"
             ]
            ],
            "type": "surface"
           }
          ],
          "table": [
           {
            "cells": {
             "fill": {
              "color": "#EBF0F8"
             },
             "line": {
              "color": "white"
             }
            },
            "header": {
             "fill": {
              "color": "#C8D4E3"
             },
             "line": {
              "color": "white"
             }
            },
            "type": "table"
           }
          ]
         },
         "layout": {
          "annotationdefaults": {
           "arrowcolor": "#2a3f5f",
           "arrowhead": 0,
           "arrowwidth": 1
          },
          "autotypenumbers": "strict",
          "coloraxis": {
           "colorbar": {
            "outlinewidth": 0,
            "ticks": ""
           }
          },
          "colorscale": {
           "diverging": [
            [
             0,
             "#8e0152"
            ],
            [
             0.1,
             "#c51b7d"
            ],
            [
             0.2,
             "#de77ae"
            ],
            [
             0.3,
             "#f1b6da"
            ],
            [
             0.4,
             "#fde0ef"
            ],
            [
             0.5,
             "#f7f7f7"
            ],
            [
             0.6,
             "#e6f5d0"
            ],
            [
             0.7,
             "#b8e186"
            ],
            [
             0.8,
             "#7fbc41"
            ],
            [
             0.9,
             "#4d9221"
            ],
            [
             1,
             "#276419"
            ]
           ],
           "sequential": [
            [
             0,
             "#0d0887"
            ],
            [
             0.1111111111111111,
             "#46039f"
            ],
            [
             0.2222222222222222,
             "#7201a8"
            ],
            [
             0.3333333333333333,
             "#9c179e"
            ],
            [
             0.4444444444444444,
             "#bd3786"
            ],
            [
             0.5555555555555556,
             "#d8576b"
            ],
            [
             0.6666666666666666,
             "#ed7953"
            ],
            [
             0.7777777777777778,
             "#fb9f3a"
            ],
            [
             0.8888888888888888,
             "#fdca26"
            ],
            [
             1,
             "#f0f921"
            ]
           ],
           "sequentialminus": [
            [
             0,
             "#0d0887"
            ],
            [
             0.1111111111111111,
             "#46039f"
            ],
            [
             0.2222222222222222,
             "#7201a8"
            ],
            [
             0.3333333333333333,
             "#9c179e"
            ],
            [
             0.4444444444444444,
             "#bd3786"
            ],
            [
             0.5555555555555556,
             "#d8576b"
            ],
            [
             0.6666666666666666,
             "#ed7953"
            ],
            [
             0.7777777777777778,
             "#fb9f3a"
            ],
            [
             0.8888888888888888,
             "#fdca26"
            ],
            [
             1,
             "#f0f921"
            ]
           ]
          },
          "colorway": [
           "#636efa",
           "#EF553B",
           "#00cc96",
           "#ab63fa",
           "#FFA15A",
           "#19d3f3",
           "#FF6692",
           "#B6E880",
           "#FF97FF",
           "#FECB52"
          ],
          "font": {
           "color": "#2a3f5f"
          },
          "geo": {
           "bgcolor": "white",
           "lakecolor": "white",
           "landcolor": "white",
           "showlakes": true,
           "showland": true,
           "subunitcolor": "#C8D4E3"
          },
          "hoverlabel": {
           "align": "left"
          },
          "hovermode": "closest",
          "mapbox": {
           "style": "light"
          },
          "paper_bgcolor": "white",
          "plot_bgcolor": "white",
          "polar": {
           "angularaxis": {
            "gridcolor": "#EBF0F8",
            "linecolor": "#EBF0F8",
            "ticks": ""
           },
           "bgcolor": "white",
           "radialaxis": {
            "gridcolor": "#EBF0F8",
            "linecolor": "#EBF0F8",
            "ticks": ""
           }
          },
          "scene": {
           "xaxis": {
            "backgroundcolor": "white",
            "gridcolor": "#DFE8F3",
            "gridwidth": 2,
            "linecolor": "#EBF0F8",
            "showbackground": true,
            "ticks": "",
            "zerolinecolor": "#EBF0F8"
           },
           "yaxis": {
            "backgroundcolor": "white",
            "gridcolor": "#DFE8F3",
            "gridwidth": 2,
            "linecolor": "#EBF0F8",
            "showbackground": true,
            "ticks": "",
            "zerolinecolor": "#EBF0F8"
           },
           "zaxis": {
            "backgroundcolor": "white",
            "gridcolor": "#DFE8F3",
            "gridwidth": 2,
            "linecolor": "#EBF0F8",
            "showbackground": true,
            "ticks": "",
            "zerolinecolor": "#EBF0F8"
           }
          },
          "shapedefaults": {
           "line": {
            "color": "#2a3f5f"
           }
          },
          "ternary": {
           "aaxis": {
            "gridcolor": "#DFE8F3",
            "linecolor": "#A2B1C6",
            "ticks": ""
           },
           "baxis": {
            "gridcolor": "#DFE8F3",
            "linecolor": "#A2B1C6",
            "ticks": ""
           },
           "bgcolor": "white",
           "caxis": {
            "gridcolor": "#DFE8F3",
            "linecolor": "#A2B1C6",
            "ticks": ""
           }
          },
          "title": {
           "x": 0.05
          },
          "xaxis": {
           "automargin": true,
           "gridcolor": "#EBF0F8",
           "linecolor": "#EBF0F8",
           "ticks": "",
           "title": {
            "standoff": 15
           },
           "zerolinecolor": "#EBF0F8",
           "zerolinewidth": 2
          },
          "yaxis": {
           "automargin": true,
           "gridcolor": "#EBF0F8",
           "linecolor": "#EBF0F8",
           "ticks": "",
           "title": {
            "standoff": 15
           },
           "zerolinecolor": "#EBF0F8",
           "zerolinewidth": 2
          }
         }
        },
        "title": {
         "text": "1 month SPEI index, trends over time Italy in the month of January"
        },
        "xaxis": {
         "title": {
          "text": "Years"
         }
        },
        "yaxis": {
         "title": {
          "text": "SPEI1 Value"
         },
         "zeroline": true,
         "zerolinecolor": "#D3D3D3",
         "zerolinewidth": 1
        }
       }
      },
      "text/html": [
       "<div>                            <div id=\"2f0d78d8-1768-49b6-9dea-f6aca6f9e3bd\" class=\"plotly-graph-div\" style=\"height:600px; width:100%;\"></div>            <script type=\"text/javascript\">                require([\"plotly\"], function(Plotly) {                    window.PLOTLYENV=window.PLOTLYENV || {};                                    if (document.getElementById(\"2f0d78d8-1768-49b6-9dea-f6aca6f9e3bd\")) {                    Plotly.newPlot(                        \"2f0d78d8-1768-49b6-9dea-f6aca6f9e3bd\",                        [{\"hoverinfo\":\"text\",\"marker\":{\"color\":[\"#A1F7D5\",\"#A1F7D5\",\"#A1F7D5\",\"#A1F7D5\",\"#FF961F\",\"#A1F7D5\",\"#A1F7D5\",\"#A1F7D5\",\"#A1F7D5\",\"#FFBF69\",\"#A1F7D5\",\"#A1F7D5\",\"#A1F7D5\",\"#FFBF69\",\"#A1F7D5\",\"#A1F7D5\",\"#A1F7D5\",\"#A1F7D5\",\"#A1F7D5\",\"#FFBF69\",\"#A1F7D5\",\"#A1F7D5\",\"#A1F7D5\",\"#A1F7D5\",\"#FF961F\",\"#A1F7D5\",\"#A1F7D5\",\"#FFBF69\",\"#A1F7D5\",\"#A1F7D5\",\"#A1F7D5\",\"#A1F7D5\",\"#43EFAA\",\"#A1F7D5\",\"#FFBF69\",\"#FFBF69\",\"#FFBF69\",\"#A1F7D5\",\"#43EFAA\",\"#A1F7D5\",\"#A1F7D5\",\"#FFBF69\",\"#FFBF69\",\"#FFBF69\",\"#A1F7D5\",\"#A1F7D5\",\"#A1F7D5\",\"#A1F7D5\",\"#A1F7D5\",\"#8F5100\",\"#FFBF69\",\"#FFBF69\",\"#FFBF69\",\"#FF961F\",\"#A1F7D5\",\"#A1F7D5\",\"#A1F7D5\",\"#A1F7D5\",\"#FFBF69\",\"#A1F7D5\",\"#FFBF69\",\"#A1F7D5\",\"#FF961F\",\"#A1F7D5\",\"#A1F7D5\",\"#FFBF69\",\"#A1F7D5\",\"#FFBF69\",\"#FFBF69\",\"#43EFAA\",\"#A1F7D5\",\"#FFBF69\",\"#FFBF69\",\"#A1F7D5\",\"#43EFAA\",\"#A1F7D5\",\"#A1F7D5\",\"#A1F7D5\",\"#FFBF69\",\"#A1F7D5\",\"#FF961F\",\"#A1F7D5\",\"#FFBF69\",\"#A1F7D5\",\"#FFBF69\"],\"line\":{\"color\":\"black\",\"width\":1},\"size\":10,\"symbol\":\"circle\"},\"mode\":\"markers\",\"name\":\"Mean SPEI\",\"text\":[\"January 1940, mean: 0.49\",\"January 1941, mean: 0.74\",\"January 1942, mean: 0.26\",\"January 1943, mean: 0.06\",\"January 1944, mean: -1.33\",\"January 1945, mean: 0.98\",\"January 1946, mean: 0.43\",\"January 1947, mean: 0.03\",\"January 1948, mean: 0.83\",\"January 1949, mean: -0.16\",\"January 1950, mean: 0.26\",\"January 1951, mean: 0.74\",\"January 1952, mean: 0.52\",\"January 1953, mean: -0.11\",\"January 1954, mean: 0.32\",\"January 1955, mean: 0.39\",\"January 1956, mean: 0.07\",\"January 1957, mean: 0.19\",\"January 1958, mean: 0.21\",\"January 1959, mean: -0.06\",\"January 1960, mean: 0.40\",\"January 1961, mean: 0.62\",\"January 1962, mean: 0.03\",\"January 1963, mean: 0.74\",\"January 1964, mean: -1.04\",\"January 1965, mean: 0.72\",\"January 1966, mean: 0.25\",\"January 1967, mean: -0.19\",\"January 1968, mean: 0.28\",\"January 1969, mean: 0.48\",\"January 1970, mean: 0.68\",\"January 1971, mean: 0.85\",\"January 1972, mean: 1.04\",\"January 1973, mean: 0.82\",\"January 1974, mean: -0.28\",\"January 1975, mean: -0.72\",\"January 1976, mean: -0.48\",\"January 1977, mean: 0.93\",\"January 1978, mean: 1.02\",\"January 1979, mean: 0.88\",\"January 1980, mean: 0.47\",\"January 1981, mean: -0.10\",\"January 1982, mean: -0.32\",\"January 1983, mean: -0.93\",\"January 1984, mean: 0.44\",\"January 1985, mean: 0.78\",\"January 1986, mean: 0.77\",\"January 1987, mean: 0.74\",\"January 1988, mean: 0.41\",\"January 1989, mean: -1.58\",\"January 1990, mean: -0.78\",\"January 1991, mean: -0.54\",\"January 1992, mean: -0.62\",\"January 1993, mean: -1.24\",\"January 1994, mean: 0.49\",\"January 1995, mean: 0.23\",\"January 1996, mean: 0.35\",\"January 1997, mean: 0.03\",\"January 1998, mean: -0.10\",\"January 1999, mean: 0.15\",\"January 2000, mean: -1.00\",\"January 2001, mean: 0.93\",\"January 2002, mean: -1.19\",\"January 2003, mean: 0.87\",\"January 2004, mean: 0.26\",\"January 2005, mean: -0.44\",\"January 2006, mean: 0.21\",\"January 2007, mean: -0.49\",\"January 2008, mean: -0.20\",\"January 2009, mean: 1.24\",\"January 2010, mean: 0.84\",\"January 2011, mean: -0.26\",\"January 2012, mean: -0.37\",\"January 2013, mean: 0.72\",\"January 2014, mean: 1.09\",\"January 2015, mean: 0.37\",\"January 2016, mean: 0.14\",\"January 2017, mean: 0.02\",\"January 2018, mean: -0.17\",\"January 2019, mean: 0.16\",\"January 2020, mean: -1.34\",\"January 2021, mean: 0.86\",\"January 2022, mean: -0.91\",\"January 2023, mean: 0.63\",\"January 2024, mean: -0.09\"],\"x\":[\"1940-01-01T06:00:00.000000000\",\"1941-01-01T06:00:00.000000000\",\"1942-01-01T06:00:00.000000000\",\"1943-01-01T06:00:00.000000000\",\"1944-01-01T06:00:00.000000000\",\"1945-01-01T06:00:00.000000000\",\"1946-01-01T06:00:00.000000000\",\"1947-01-01T06:00:00.000000000\",\"1948-01-01T06:00:00.000000000\",\"1949-01-01T06:00:00.000000000\",\"1950-01-01T06:00:00.000000000\",\"1951-01-01T06:00:00.000000000\",\"1952-01-01T06:00:00.000000000\",\"1953-01-01T06:00:00.000000000\",\"1954-01-01T06:00:00.000000000\",\"1955-01-01T06:00:00.000000000\",\"1956-01-01T06:00:00.000000000\",\"1957-01-01T06:00:00.000000000\",\"1958-01-01T06:00:00.000000000\",\"1959-01-01T06:00:00.000000000\",\"1960-01-01T06:00:00.000000000\",\"1961-01-01T06:00:00.000000000\",\"1962-01-01T06:00:00.000000000\",\"1963-01-01T06:00:00.000000000\",\"1964-01-01T06:00:00.000000000\",\"1965-01-01T06:00:00.000000000\",\"1966-01-01T06:00:00.000000000\",\"1967-01-01T06:00:00.000000000\",\"1968-01-01T06:00:00.000000000\",\"1969-01-01T06:00:00.000000000\",\"1970-01-01T06:00:00.000000000\",\"1971-01-01T06:00:00.000000000\",\"1972-01-01T06:00:00.000000000\",\"1973-01-01T06:00:00.000000000\",\"1974-01-01T06:00:00.000000000\",\"1975-01-01T06:00:00.000000000\",\"1976-01-01T06:00:00.000000000\",\"1977-01-01T06:00:00.000000000\",\"1978-01-01T06:00:00.000000000\",\"1979-01-01T06:00:00.000000000\",\"1980-01-01T06:00:00.000000000\",\"1981-01-01T06:00:00.000000000\",\"1982-01-01T06:00:00.000000000\",\"1983-01-01T06:00:00.000000000\",\"1984-01-01T06:00:00.000000000\",\"1985-01-01T06:00:00.000000000\",\"1986-01-01T06:00:00.000000000\",\"1987-01-01T06:00:00.000000000\",\"1988-01-01T06:00:00.000000000\",\"1989-01-01T06:00:00.000000000\",\"1990-01-01T06:00:00.000000000\",\"1991-01-01T06:00:00.000000000\",\"1992-01-01T06:00:00.000000000\",\"1993-01-01T06:00:00.000000000\",\"1994-01-01T06:00:00.000000000\",\"1995-01-01T06:00:00.000000000\",\"1996-01-01T06:00:00.000000000\",\"1997-01-01T06:00:00.000000000\",\"1998-01-01T06:00:00.000000000\",\"1999-01-01T06:00:00.000000000\",\"2000-01-01T06:00:00.000000000\",\"2001-01-01T06:00:00.000000000\",\"2002-01-01T06:00:00.000000000\",\"2003-01-01T06:00:00.000000000\",\"2004-01-01T06:00:00.000000000\",\"2005-01-01T06:00:00.000000000\",\"2006-01-01T06:00:00.000000000\",\"2007-01-01T06:00:00.000000000\",\"2008-01-01T06:00:00.000000000\",\"2009-01-01T06:00:00.000000000\",\"2010-01-01T06:00:00.000000000\",\"2011-01-01T06:00:00.000000000\",\"2012-01-01T06:00:00.000000000\",\"2013-01-01T06:00:00.000000000\",\"2014-01-01T06:00:00.000000000\",\"2015-01-01T06:00:00.000000000\",\"2016-01-01T06:00:00.000000000\",\"2017-01-01T06:00:00.000000000\",\"2018-01-01T06:00:00.000000000\",\"2019-01-01T06:00:00.000000000\",\"2020-01-01T06:00:00.000000000\",\"2021-01-01T06:00:00.000000000\",\"2022-01-01T06:00:00.000000000\",\"2023-01-01T06:00:00.000000000\",\"2024-01-01T06:00:00.000000000\"],\"y\":[0.49421249892090263,0.7404064962226432,0.26019000827848393,0.06010518556341727,-1.3310071814063222,0.9800789320523753,0.4281969563280661,0.03301369308791643,0.8265750968639941,-0.15631111533746214,0.2612140955590106,0.7401037992397924,0.5241947106844994,-0.11018151773005071,0.3177141251284983,0.3893158655074018,0.07364410179023903,0.18921179750929928,0.20773095175088757,-0.05821773668316904,0.3981299981600699,0.6157166793616724,0.027826777803133695,0.73801811470148,-1.0360540577212431,0.7176019715530477,0.2512530292310452,-0.18538142221898168,0.280803941312571,0.47726075063514356,0.6795896219799953,0.8479444701330049,1.037960116205169,0.821295708949165,-0.2787489028631449,-0.7230567323328373,-0.477875310922253,0.9279138051155772,1.024798061603545,0.8845960561304002,0.4749629749261207,-0.09595405301826018,-0.32377290292062266,-0.9273150800544332,0.44383231528696415,0.7783746028131142,0.7704311251695541,0.7414033786823374,0.40666200351074633,-1.5796454320801352,-0.779194242613004,-0.5443904624736321,-0.6245577291635196,-1.237090440480585,0.49488101855819705,0.23426266102458243,0.3533883929638742,0.030342340966458537,-0.09678897087925165,0.15327035437075404,-0.999909960816837,0.9314724599787172,-1.1900377350376221,0.8666233567951642,0.264254677084919,-0.4399064991980874,0.20976086139278927,-0.4895000553630983,-0.19776254189291004,1.2361193186952837,0.8380943258470657,-0.2585210588222136,-0.37412936093239896,0.7234088561789942,1.0933663297566782,0.36840154007306203,0.1404150912817384,0.01563867481931436,-0.17332756809757688,0.16343295045825632,-1.341133804731812,0.8622453225961905,-0.9063080365481994,0.6335071164960063,-0.09005854654972836],\"type\":\"scatter\"},{\"hoverinfo\":\"text\",\"marker\":{\"color\":[\"#A1F7D5\",\"#A1F7D5\",\"#A1F7D5\",\"#A1F7D5\",\"#8F5100\",\"#43EFAA\",\"#A1F7D5\",\"#FFBF69\",\"#43EFAA\",\"#FFBF69\",\"#A1F7D5\",\"#A1F7D5\",\"#A1F7D5\",\"#FFBF69\",\"#A1F7D5\",\"#A1F7D5\",\"#A1F7D5\",\"#A1F7D5\",\"#A1F7D5\",\"#FFBF69\",\"#A1F7D5\",\"#A1F7D5\",\"#A1F7D5\",\"#A1F7D5\",\"#FF961F\",\"#A1F7D5\",\"#A1F7D5\",\"#FFBF69\",\"#A1F7D5\",\"#A1F7D5\",\"#A1F7D5\",\"#A1F7D5\",\"#43EFAA\",\"#A1F7D5\",\"#FFBF69\",\"#FF961F\",\"#FFBF69\",\"#A1F7D5\",\"#43EFAA\",\"#43EFAA\",\"#A1F7D5\",\"#FFBF69\",\"#FFBF69\",\"#FF961F\",\"#A1F7D5\",\"#A1F7D5\",\"#A1F7D5\",\"#A1F7D5\",\"#A1F7D5\",\"#8F5100\",\"#FFBF69\",\"#FFBF69\",\"#FFBF69\",\"#FF961F\",\"#A1F7D5\",\"#A1F7D5\",\"#A1F7D5\",\"#A1F7D5\",\"#FFBF69\",\"#A1F7D5\",\"#FF961F\",\"#A1F7D5\",\"#FF961F\",\"#A1F7D5\",\"#A1F7D5\",\"#FFBF69\",\"#A1F7D5\",\"#FFBF69\",\"#FFBF69\",\"#43EFAA\",\"#A1F7D5\",\"#FFBF69\",\"#FFBF69\",\"#A1F7D5\",\"#A1F7D5\",\"#A1F7D5\",\"#A1F7D5\",\"#FFBF69\",\"#FFBF69\",\"#A1F7D5\",\"#FF961F\",\"#43EFAA\",\"#FFBF69\",\"#A1F7D5\",\"#A1F7D5\"],\"line\":{\"color\":\"black\",\"width\":1},\"size\":10,\"symbol\":\"diamond\"},\"mode\":\"markers\",\"name\":\"Median SPEI\",\"text\":[\"January 1940, median: 0.45\",\"January 1941, median: 0.94\",\"January 1942, median: 0.45\",\"January 1943, median: 0.12\",\"January 1944, median: -1.53\",\"January 1945, median: 1.06\",\"January 1946, median: 0.39\",\"January 1947, median: -0.06\",\"January 1948, median: 1.22\",\"January 1949, median: -0.10\",\"January 1950, median: 0.20\",\"January 1951, median: 0.71\",\"January 1952, median: 0.53\",\"January 1953, median: -0.07\",\"January 1954, median: 0.25\",\"January 1955, median: 0.31\",\"January 1956, median: 0.05\",\"January 1957, median: 0.13\",\"January 1958, median: 0.20\",\"January 1959, median: -0.07\",\"January 1960, median: 0.37\",\"January 1961, median: 0.69\",\"January 1962, median: 0.04\",\"January 1963, median: 0.78\",\"January 1964, median: -1.46\",\"January 1965, median: 0.76\",\"January 1966, median: 0.41\",\"January 1967, median: -0.13\",\"January 1968, median: 0.31\",\"January 1969, median: 0.53\",\"January 1970, median: 0.71\",\"January 1971, median: 0.96\",\"January 1972, median: 1.09\",\"January 1973, median: 0.86\",\"January 1974, median: -0.35\",\"January 1975, median: -1.01\",\"January 1976, median: -0.64\",\"January 1977, median: 0.84\",\"January 1978, median: 1.09\",\"January 1979, median: 1.04\",\"January 1980, median: 0.57\",\"January 1981, median: -0.10\",\"January 1982, median: -0.41\",\"January 1983, median: -1.10\",\"January 1984, median: 0.44\",\"January 1985, median: 0.76\",\"January 1986, median: 0.71\",\"January 1987, median: 0.80\",\"January 1988, median: 0.46\",\"January 1989, median: -1.67\",\"January 1990, median: -0.94\",\"January 1991, median: -0.49\",\"January 1992, median: -0.81\",\"January 1993, median: -1.36\",\"January 1994, median: 0.51\",\"January 1995, median: 0.29\",\"January 1996, median: 0.38\",\"January 1997, median: 0.06\",\"January 1998, median: -0.16\",\"January 1999, median: 0.01\",\"January 2000, median: -1.13\",\"January 2001, median: 0.97\",\"January 2002, median: -1.24\",\"January 2003, median: 0.82\",\"January 2004, median: 0.26\",\"January 2005, median: -0.42\",\"January 2006, median: 0.05\",\"January 2007, median: -0.37\",\"January 2008, median: -0.30\",\"January 2009, median: 1.25\",\"January 2010, median: 0.92\",\"January 2011, median: -0.36\",\"January 2012, median: -0.52\",\"January 2013, median: 0.87\",\"January 2014, median: 0.99\",\"January 2015, median: 0.41\",\"January 2016, median: 0.15\",\"January 2017, median: -0.11\",\"January 2018, median: -0.11\",\"January 2019, median: 0.28\",\"January 2020, median: -1.34\",\"January 2021, median: 1.18\",\"January 2022, median: -0.90\",\"January 2023, median: 0.84\",\"January 2024, median: 0.01\"],\"x\":[\"1940-01-01T06:00:00.000000000\",\"1941-01-01T06:00:00.000000000\",\"1942-01-01T06:00:00.000000000\",\"1943-01-01T06:00:00.000000000\",\"1944-01-01T06:00:00.000000000\",\"1945-01-01T06:00:00.000000000\",\"1946-01-01T06:00:00.000000000\",\"1947-01-01T06:00:00.000000000\",\"1948-01-01T06:00:00.000000000\",\"1949-01-01T06:00:00.000000000\",\"1950-01-01T06:00:00.000000000\",\"1951-01-01T06:00:00.000000000\",\"1952-01-01T06:00:00.000000000\",\"1953-01-01T06:00:00.000000000\",\"1954-01-01T06:00:00.000000000\",\"1955-01-01T06:00:00.000000000\",\"1956-01-01T06:00:00.000000000\",\"1957-01-01T06:00:00.000000000\",\"1958-01-01T06:00:00.000000000\",\"1959-01-01T06:00:00.000000000\",\"1960-01-01T06:00:00.000000000\",\"1961-01-01T06:00:00.000000000\",\"1962-01-01T06:00:00.000000000\",\"1963-01-01T06:00:00.000000000\",\"1964-01-01T06:00:00.000000000\",\"1965-01-01T06:00:00.000000000\",\"1966-01-01T06:00:00.000000000\",\"1967-01-01T06:00:00.000000000\",\"1968-01-01T06:00:00.000000000\",\"1969-01-01T06:00:00.000000000\",\"1970-01-01T06:00:00.000000000\",\"1971-01-01T06:00:00.000000000\",\"1972-01-01T06:00:00.000000000\",\"1973-01-01T06:00:00.000000000\",\"1974-01-01T06:00:00.000000000\",\"1975-01-01T06:00:00.000000000\",\"1976-01-01T06:00:00.000000000\",\"1977-01-01T06:00:00.000000000\",\"1978-01-01T06:00:00.000000000\",\"1979-01-01T06:00:00.000000000\",\"1980-01-01T06:00:00.000000000\",\"1981-01-01T06:00:00.000000000\",\"1982-01-01T06:00:00.000000000\",\"1983-01-01T06:00:00.000000000\",\"1984-01-01T06:00:00.000000000\",\"1985-01-01T06:00:00.000000000\",\"1986-01-01T06:00:00.000000000\",\"1987-01-01T06:00:00.000000000\",\"1988-01-01T06:00:00.000000000\",\"1989-01-01T06:00:00.000000000\",\"1990-01-01T06:00:00.000000000\",\"1991-01-01T06:00:00.000000000\",\"1992-01-01T06:00:00.000000000\",\"1993-01-01T06:00:00.000000000\",\"1994-01-01T06:00:00.000000000\",\"1995-01-01T06:00:00.000000000\",\"1996-01-01T06:00:00.000000000\",\"1997-01-01T06:00:00.000000000\",\"1998-01-01T06:00:00.000000000\",\"1999-01-01T06:00:00.000000000\",\"2000-01-01T06:00:00.000000000\",\"2001-01-01T06:00:00.000000000\",\"2002-01-01T06:00:00.000000000\",\"2003-01-01T06:00:00.000000000\",\"2004-01-01T06:00:00.000000000\",\"2005-01-01T06:00:00.000000000\",\"2006-01-01T06:00:00.000000000\",\"2007-01-01T06:00:00.000000000\",\"2008-01-01T06:00:00.000000000\",\"2009-01-01T06:00:00.000000000\",\"2010-01-01T06:00:00.000000000\",\"2011-01-01T06:00:00.000000000\",\"2012-01-01T06:00:00.000000000\",\"2013-01-01T06:00:00.000000000\",\"2014-01-01T06:00:00.000000000\",\"2015-01-01T06:00:00.000000000\",\"2016-01-01T06:00:00.000000000\",\"2017-01-01T06:00:00.000000000\",\"2018-01-01T06:00:00.000000000\",\"2019-01-01T06:00:00.000000000\",\"2020-01-01T06:00:00.000000000\",\"2021-01-01T06:00:00.000000000\",\"2022-01-01T06:00:00.000000000\",\"2023-01-01T06:00:00.000000000\",\"2024-01-01T06:00:00.000000000\"],\"y\":[0.45099064846545484,0.9377315201203988,0.44956435235069503,0.11813671133153823,-1.533136956204275,1.061241776740434,0.38678100188284686,-0.06103367145153026,1.2152729415577501,-0.10456030189324703,0.19554541829159053,0.7099894024767669,0.5333830462137804,-0.06975511902880002,0.25095193073846034,0.3100435240859004,0.051248540749872194,0.12601926579255268,0.20234908690754747,-0.07404914701661043,0.36955234716562035,0.6947131997610261,0.03907808408930163,0.7754824794688905,-1.4616975571926294,0.763578036531255,0.41324407803152535,-0.13060703127173318,0.3066442245751696,0.5262496705432781,0.7140175812915799,0.9576687692578629,1.0856659729455655,0.8620606304984721,-0.34771300857831233,-1.0146253354965642,-0.6430608823147682,0.8386907196197244,1.0946380170031413,1.0437128486325764,0.5679253907049625,-0.10184307596326221,-0.40700187128956333,-1.1003240339015918,0.4399590570837723,0.7636897053561865,0.7120533560744725,0.7994408313919787,0.45918642990132463,-1.6681294033192324,-0.9389219229720811,-0.4870305437926909,-0.8125895009970484,-1.3578465506829103,0.5097620543169515,0.2852863817493013,0.3804881983602032,0.06228772022404382,-0.16134637986651565,0.008546030228582465,-1.1294951711879186,0.9737748792897123,-1.241740557654697,0.8162461166100526,0.2579457671458903,-0.4156910042129233,0.04658652010109405,-0.36947239441099883,-0.30123605172183876,1.2485146329513483,0.9220909582361339,-0.3582822466308062,-0.5221897150568762,0.8659997936570307,0.9855533093477599,0.41158635611747474,0.1521998326784377,-0.10867607628621118,-0.10678111099011707,0.2841393885501778,-1.3411526849432767,1.184596063068649,-0.89570092606041,0.8379117909420274,0.005638863848528565],\"type\":\"scatter\"},{\"hoverinfo\":\"none\",\"legendgroup\":\"colors\",\"marker\":{\"color\":\"#074B30\",\"size\":10},\"mode\":\"markers\",\"name\":\"Extremely wet\",\"showlegend\":true,\"x\":[null],\"y\":[null],\"type\":\"scatter\"},{\"hoverinfo\":\"none\",\"legendgroup\":\"colors\",\"marker\":{\"color\":\"#0D965f\",\"size\":10},\"mode\":\"markers\",\"name\":\"Severely wet\",\"showlegend\":true,\"x\":[null],\"y\":[null],\"type\":\"scatter\"},{\"hoverinfo\":\"none\",\"legendgroup\":\"colors\",\"marker\":{\"color\":\"#43EFAA\",\"size\":10},\"mode\":\"markers\",\"name\":\"Moderately wet\",\"showlegend\":true,\"x\":[null],\"y\":[null],\"type\":\"scatter\"},{\"hoverinfo\":\"none\",\"legendgroup\":\"colors\",\"marker\":{\"color\":\"#A1F7D5\",\"size\":10},\"mode\":\"markers\",\"name\":\"Mildly wet\",\"showlegend\":true,\"x\":[null],\"y\":[null],\"type\":\"scatter\"},{\"hoverinfo\":\"none\",\"legendgroup\":\"colors\",\"marker\":{\"color\":\"#FFBF69\",\"size\":10},\"mode\":\"markers\",\"name\":\"Mildly dry\",\"showlegend\":true,\"x\":[null],\"y\":[null],\"type\":\"scatter\"},{\"hoverinfo\":\"none\",\"legendgroup\":\"colors\",\"marker\":{\"color\":\"#FF961F\",\"size\":10},\"mode\":\"markers\",\"name\":\"Moderately dry\",\"showlegend\":true,\"x\":[null],\"y\":[null],\"type\":\"scatter\"},{\"hoverinfo\":\"none\",\"legendgroup\":\"colors\",\"marker\":{\"color\":\"#8F5100\",\"size\":10},\"mode\":\"markers\",\"name\":\"Severely dry\",\"showlegend\":true,\"x\":[null],\"y\":[null],\"type\":\"scatter\"},{\"hoverinfo\":\"none\",\"legendgroup\":\"colors\",\"marker\":{\"color\":\"#3d2100\",\"size\":10},\"mode\":\"markers\",\"name\":\"Extremely dry\",\"showlegend\":true,\"x\":[null],\"y\":[null],\"type\":\"scatter\"}],                        {\"template\":{\"data\":{\"barpolar\":[{\"marker\":{\"line\":{\"color\":\"white\",\"width\":0.5},\"pattern\":{\"fillmode\":\"overlay\",\"size\":10,\"solidity\":0.2}},\"type\":\"barpolar\"}],\"bar\":[{\"error_x\":{\"color\":\"#2a3f5f\"},\"error_y\":{\"color\":\"#2a3f5f\"},\"marker\":{\"line\":{\"color\":\"white\",\"width\":0.5},\"pattern\":{\"fillmode\":\"overlay\",\"size\":10,\"solidity\":0.2}},\"type\":\"bar\"}],\"carpet\":[{\"aaxis\":{\"endlinecolor\":\"#2a3f5f\",\"gridcolor\":\"#C8D4E3\",\"linecolor\":\"#C8D4E3\",\"minorgridcolor\":\"#C8D4E3\",\"startlinecolor\":\"#2a3f5f\"},\"baxis\":{\"endlinecolor\":\"#2a3f5f\",\"gridcolor\":\"#C8D4E3\",\"linecolor\":\"#C8D4E3\",\"minorgridcolor\":\"#C8D4E3\",\"startlinecolor\":\"#2a3f5f\"},\"type\":\"carpet\"}],\"choropleth\":[{\"colorbar\":{\"outlinewidth\":0,\"ticks\":\"\"},\"type\":\"choropleth\"}],\"contourcarpet\":[{\"colorbar\":{\"outlinewidth\":0,\"ticks\":\"\"},\"type\":\"contourcarpet\"}],\"contour\":[{\"colorbar\":{\"outlinewidth\":0,\"ticks\":\"\"},\"colorscale\":[[0.0,\"#0d0887\"],[0.1111111111111111,\"#46039f\"],[0.2222222222222222,\"#7201a8\"],[0.3333333333333333,\"#9c179e\"],[0.4444444444444444,\"#bd3786\"],[0.5555555555555556,\"#d8576b\"],[0.6666666666666666,\"#ed7953\"],[0.7777777777777778,\"#fb9f3a\"],[0.8888888888888888,\"#fdca26\"],[1.0,\"#f0f921\"]],\"type\":\"contour\"}],\"heatmapgl\":[{\"colorbar\":{\"outlinewidth\":0,\"ticks\":\"\"},\"colorscale\":[[0.0,\"#0d0887\"],[0.1111111111111111,\"#46039f\"],[0.2222222222222222,\"#7201a8\"],[0.3333333333333333,\"#9c179e\"],[0.4444444444444444,\"#bd3786\"],[0.5555555555555556,\"#d8576b\"],[0.6666666666666666,\"#ed7953\"],[0.7777777777777778,\"#fb9f3a\"],[0.8888888888888888,\"#fdca26\"],[1.0,\"#f0f921\"]],\"type\":\"heatmapgl\"}],\"heatmap\":[{\"colorbar\":{\"outlinewidth\":0,\"ticks\":\"\"},\"colorscale\":[[0.0,\"#0d0887\"],[0.1111111111111111,\"#46039f\"],[0.2222222222222222,\"#7201a8\"],[0.3333333333333333,\"#9c179e\"],[0.4444444444444444,\"#bd3786\"],[0.5555555555555556,\"#d8576b\"],[0.6666666666666666,\"#ed7953\"],[0.7777777777777778,\"#fb9f3a\"],[0.8888888888888888,\"#fdca26\"],[1.0,\"#f0f921\"]],\"type\":\"heatmap\"}],\"histogram2dcontour\":[{\"colorbar\":{\"outlinewidth\":0,\"ticks\":\"\"},\"colorscale\":[[0.0,\"#0d0887\"],[0.1111111111111111,\"#46039f\"],[0.2222222222222222,\"#7201a8\"],[0.3333333333333333,\"#9c179e\"],[0.4444444444444444,\"#bd3786\"],[0.5555555555555556,\"#d8576b\"],[0.6666666666666666,\"#ed7953\"],[0.7777777777777778,\"#fb9f3a\"],[0.8888888888888888,\"#fdca26\"],[1.0,\"#f0f921\"]],\"type\":\"histogram2dcontour\"}],\"histogram2d\":[{\"colorbar\":{\"outlinewidth\":0,\"ticks\":\"\"},\"colorscale\":[[0.0,\"#0d0887\"],[0.1111111111111111,\"#46039f\"],[0.2222222222222222,\"#7201a8\"],[0.3333333333333333,\"#9c179e\"],[0.4444444444444444,\"#bd3786\"],[0.5555555555555556,\"#d8576b\"],[0.6666666666666666,\"#ed7953\"],[0.7777777777777778,\"#fb9f3a\"],[0.8888888888888888,\"#fdca26\"],[1.0,\"#f0f921\"]],\"type\":\"histogram2d\"}],\"histogram\":[{\"marker\":{\"pattern\":{\"fillmode\":\"overlay\",\"size\":10,\"solidity\":0.2}},\"type\":\"histogram\"}],\"mesh3d\":[{\"colorbar\":{\"outlinewidth\":0,\"ticks\":\"\"},\"type\":\"mesh3d\"}],\"parcoords\":[{\"line\":{\"colorbar\":{\"outlinewidth\":0,\"ticks\":\"\"}},\"type\":\"parcoords\"}],\"pie\":[{\"automargin\":true,\"type\":\"pie\"}],\"scatter3d\":[{\"line\":{\"colorbar\":{\"outlinewidth\":0,\"ticks\":\"\"}},\"marker\":{\"colorbar\":{\"outlinewidth\":0,\"ticks\":\"\"}},\"type\":\"scatter3d\"}],\"scattercarpet\":[{\"marker\":{\"colorbar\":{\"outlinewidth\":0,\"ticks\":\"\"}},\"type\":\"scattercarpet\"}],\"scattergeo\":[{\"marker\":{\"colorbar\":{\"outlinewidth\":0,\"ticks\":\"\"}},\"type\":\"scattergeo\"}],\"scattergl\":[{\"marker\":{\"colorbar\":{\"outlinewidth\":0,\"ticks\":\"\"}},\"type\":\"scattergl\"}],\"scattermapbox\":[{\"marker\":{\"colorbar\":{\"outlinewidth\":0,\"ticks\":\"\"}},\"type\":\"scattermapbox\"}],\"scatterpolargl\":[{\"marker\":{\"colorbar\":{\"outlinewidth\":0,\"ticks\":\"\"}},\"type\":\"scatterpolargl\"}],\"scatterpolar\":[{\"marker\":{\"colorbar\":{\"outlinewidth\":0,\"ticks\":\"\"}},\"type\":\"scatterpolar\"}],\"scatter\":[{\"fillpattern\":{\"fillmode\":\"overlay\",\"size\":10,\"solidity\":0.2},\"type\":\"scatter\"}],\"scatterternary\":[{\"marker\":{\"colorbar\":{\"outlinewidth\":0,\"ticks\":\"\"}},\"type\":\"scatterternary\"}],\"surface\":[{\"colorbar\":{\"outlinewidth\":0,\"ticks\":\"\"},\"colorscale\":[[0.0,\"#0d0887\"],[0.1111111111111111,\"#46039f\"],[0.2222222222222222,\"#7201a8\"],[0.3333333333333333,\"#9c179e\"],[0.4444444444444444,\"#bd3786\"],[0.5555555555555556,\"#d8576b\"],[0.6666666666666666,\"#ed7953\"],[0.7777777777777778,\"#fb9f3a\"],[0.8888888888888888,\"#fdca26\"],[1.0,\"#f0f921\"]],\"type\":\"surface\"}],\"table\":[{\"cells\":{\"fill\":{\"color\":\"#EBF0F8\"},\"line\":{\"color\":\"white\"}},\"header\":{\"fill\":{\"color\":\"#C8D4E3\"},\"line\":{\"color\":\"white\"}},\"type\":\"table\"}]},\"layout\":{\"annotationdefaults\":{\"arrowcolor\":\"#2a3f5f\",\"arrowhead\":0,\"arrowwidth\":1},\"autotypenumbers\":\"strict\",\"coloraxis\":{\"colorbar\":{\"outlinewidth\":0,\"ticks\":\"\"}},\"colorscale\":{\"diverging\":[[0,\"#8e0152\"],[0.1,\"#c51b7d\"],[0.2,\"#de77ae\"],[0.3,\"#f1b6da\"],[0.4,\"#fde0ef\"],[0.5,\"#f7f7f7\"],[0.6,\"#e6f5d0\"],[0.7,\"#b8e186\"],[0.8,\"#7fbc41\"],[0.9,\"#4d9221\"],[1,\"#276419\"]],\"sequential\":[[0.0,\"#0d0887\"],[0.1111111111111111,\"#46039f\"],[0.2222222222222222,\"#7201a8\"],[0.3333333333333333,\"#9c179e\"],[0.4444444444444444,\"#bd3786\"],[0.5555555555555556,\"#d8576b\"],[0.6666666666666666,\"#ed7953\"],[0.7777777777777778,\"#fb9f3a\"],[0.8888888888888888,\"#fdca26\"],[1.0,\"#f0f921\"]],\"sequentialminus\":[[0.0,\"#0d0887\"],[0.1111111111111111,\"#46039f\"],[0.2222222222222222,\"#7201a8\"],[0.3333333333333333,\"#9c179e\"],[0.4444444444444444,\"#bd3786\"],[0.5555555555555556,\"#d8576b\"],[0.6666666666666666,\"#ed7953\"],[0.7777777777777778,\"#fb9f3a\"],[0.8888888888888888,\"#fdca26\"],[1.0,\"#f0f921\"]]},\"colorway\":[\"#636efa\",\"#EF553B\",\"#00cc96\",\"#ab63fa\",\"#FFA15A\",\"#19d3f3\",\"#FF6692\",\"#B6E880\",\"#FF97FF\",\"#FECB52\"],\"font\":{\"color\":\"#2a3f5f\"},\"geo\":{\"bgcolor\":\"white\",\"lakecolor\":\"white\",\"landcolor\":\"white\",\"showlakes\":true,\"showland\":true,\"subunitcolor\":\"#C8D4E3\"},\"hoverlabel\":{\"align\":\"left\"},\"hovermode\":\"closest\",\"mapbox\":{\"style\":\"light\"},\"paper_bgcolor\":\"white\",\"plot_bgcolor\":\"white\",\"polar\":{\"angularaxis\":{\"gridcolor\":\"#EBF0F8\",\"linecolor\":\"#EBF0F8\",\"ticks\":\"\"},\"bgcolor\":\"white\",\"radialaxis\":{\"gridcolor\":\"#EBF0F8\",\"linecolor\":\"#EBF0F8\",\"ticks\":\"\"}},\"scene\":{\"xaxis\":{\"backgroundcolor\":\"white\",\"gridcolor\":\"#DFE8F3\",\"gridwidth\":2,\"linecolor\":\"#EBF0F8\",\"showbackground\":true,\"ticks\":\"\",\"zerolinecolor\":\"#EBF0F8\"},\"yaxis\":{\"backgroundcolor\":\"white\",\"gridcolor\":\"#DFE8F3\",\"gridwidth\":2,\"linecolor\":\"#EBF0F8\",\"showbackground\":true,\"ticks\":\"\",\"zerolinecolor\":\"#EBF0F8\"},\"zaxis\":{\"backgroundcolor\":\"white\",\"gridcolor\":\"#DFE8F3\",\"gridwidth\":2,\"linecolor\":\"#EBF0F8\",\"showbackground\":true,\"ticks\":\"\",\"zerolinecolor\":\"#EBF0F8\"}},\"shapedefaults\":{\"line\":{\"color\":\"#2a3f5f\"}},\"ternary\":{\"aaxis\":{\"gridcolor\":\"#DFE8F3\",\"linecolor\":\"#A2B1C6\",\"ticks\":\"\"},\"baxis\":{\"gridcolor\":\"#DFE8F3\",\"linecolor\":\"#A2B1C6\",\"ticks\":\"\"},\"bgcolor\":\"white\",\"caxis\":{\"gridcolor\":\"#DFE8F3\",\"linecolor\":\"#A2B1C6\",\"ticks\":\"\"}},\"title\":{\"x\":0.05},\"xaxis\":{\"automargin\":true,\"gridcolor\":\"#EBF0F8\",\"linecolor\":\"#EBF0F8\",\"ticks\":\"\",\"title\":{\"standoff\":15},\"zerolinecolor\":\"#EBF0F8\",\"zerolinewidth\":2},\"yaxis\":{\"automargin\":true,\"gridcolor\":\"#EBF0F8\",\"linecolor\":\"#EBF0F8\",\"ticks\":\"\",\"title\":{\"standoff\":15},\"zerolinecolor\":\"#EBF0F8\",\"zerolinewidth\":2}}},\"yaxis\":{\"title\":{\"text\":\"SPEI1 Value\"},\"zeroline\":true,\"zerolinewidth\":1,\"zerolinecolor\":\"#D3D3D3\"},\"title\":{\"text\":\"1 month SPEI index, trends over time Italy in the month of January\"},\"xaxis\":{\"title\":{\"text\":\"Years\"}},\"height\":600,\"plot_bgcolor\":\"rgba(0,0,0,0)\"},                        {\"responsive\": true}                    ).then(function(){\n",
       "                            \n",
       "var gd = document.getElementById('2f0d78d8-1768-49b6-9dea-f6aca6f9e3bd');\n",
       "var x = new MutationObserver(function (mutations, observer) {{\n",
       "        var display = window.getComputedStyle(gd).display;\n",
       "        if (!display || display === 'none') {{\n",
       "            console.log([gd, 'removed!']);\n",
       "            Plotly.purge(gd);\n",
       "            observer.disconnect();\n",
       "        }}\n",
       "}});\n",
       "\n",
       "// Listen for the removal of the full notebook cells\n",
       "var notebookContainer = gd.closest('#notebook-container');\n",
       "if (notebookContainer) {{\n",
       "    x.observe(notebookContainer, {childList: true});\n",
       "}}\n",
       "\n",
       "// Listen for the clearing of the current output cell\n",
       "var outputEl = gd.closest('.output');\n",
       "if (outputEl) {{\n",
       "    x.observe(outputEl, {childList: true});\n",
       "}}\n",
       "\n",
       "                        })                };                });            </script>        </div>"
      ]
     },
     "metadata": {},
     "output_type": "display_data"
    }
   ],
   "source": [
    "charts.create_scatterplot(stat_values, timescales, selected, placeholders)"
   ]
  },
  {
   "cell_type": "code",
   "execution_count": 11,
   "id": "da66d52e-ffd9-4231-ae96-dce4f9a8fb64",
   "metadata": {},
   "outputs": [
    {
     "data": {
      "application/vnd.plotly.v1+json": {
       "config": {
        "plotlyServerURL": "https://plot.ly"
       },
       "data": [
        {
         "lowerfence": [
          -2.0927101141379283
         ],
         "marker": {
          "color": "#A1F7D5"
         },
         "median": [
          0.8965619813276131
         ],
         "name": "1940-06-01 06:00:00",
         "q1": [
          -0.049095377276323036
         ],
         "q3": [
          1.5020932191649528
         ],
         "showlegend": false,
         "type": "box",
         "upperfence": [
          3.6890257016329713
         ],
         "whiskerwidth": 0.2,
         "x": [
          "1940-06-01T06:00:00"
         ]
        },
        {
         "lowerfence": [
          -6.721101568653156
         ],
         "marker": {
          "color": "#FFBF69"
         },
         "median": [
          -0.956364886169536
         ],
         "name": "1941-06-01 06:00:00",
         "q1": [
          -1.6700446216612521
         ],
         "q3": [
          -0.10015217463514008
         ],
         "showlegend": false,
         "type": "box",
         "upperfence": [
          2.7327591595024305
         ],
         "whiskerwidth": 0.2,
         "x": [
          "1941-06-01T06:00:00"
         ]
        },
        {
         "lowerfence": [
          -2.8072086132197565
         ],
         "marker": {
          "color": "#FFBF69"
         },
         "median": [
          -0.8229516185273019
         ],
         "name": "1942-06-01 06:00:00",
         "q1": [
          -1.412109125680986
         ],
         "q3": [
          -0.06905480868646209
         ],
         "showlegend": false,
         "type": "box",
         "upperfence": [
          4.751182210057856
         ],
         "whiskerwidth": 0.2,
         "x": [
          "1942-06-01T06:00:00"
         ]
        },
        {
         "lowerfence": [
          -1.7574549039245937
         ],
         "marker": {
          "color": "#43EFAA"
         },
         "median": [
          1.2718953868351766
         ],
         "name": "1943-06-01 06:00:00",
         "q1": [
          0.4906982999675446
         ],
         "q3": [
          1.8106049928788652
         ],
         "showlegend": false,
         "type": "box",
         "upperfence": [
          8.209536151601387
         ],
         "whiskerwidth": 0.2,
         "x": [
          "1943-06-01T06:00:00"
         ]
        },
        {
         "lowerfence": [
          -3.3025643191404184
         ],
         "marker": {
          "color": "#FFBF69"
         },
         "median": [
          -0.13484531858228468
         ],
         "name": "1944-06-01 06:00:00",
         "q1": [
          -1.135033486995938
         ],
         "q3": [
          0.7950921779718114
         ],
         "showlegend": false,
         "type": "box",
         "upperfence": [
          8.209536151601387
         ],
         "whiskerwidth": 0.2,
         "x": [
          "1944-06-01T06:00:00"
         ]
        },
        {
         "lowerfence": [
          -2.578788048671074
         ],
         "marker": {
          "color": "#A1F7D5"
         },
         "median": [
          0.19118992887876773
         ],
         "name": "1945-06-01 06:00:00",
         "q1": [
          -0.3808694095313826
         ],
         "q3": [
          0.8939450643589858
         ],
         "showlegend": false,
         "type": "box",
         "upperfence": [
          3.098080719801458
         ],
         "whiskerwidth": 0.2,
         "x": [
          "1945-06-01T06:00:00"
         ]
        },
        {
         "lowerfence": [
          -3.797411073923056
         ],
         "marker": {
          "color": "#FFBF69"
         },
         "median": [
          -0.10712905272065464
         ],
         "name": "1946-06-01 06:00:00",
         "q1": [
          -0.7951247669537784
         ],
         "q3": [
          0.5778188565396304
         ],
         "showlegend": false,
         "type": "box",
         "upperfence": [
          2.8016280887012184
         ],
         "whiskerwidth": 0.2,
         "x": [
          "1946-06-01T06:00:00"
         ]
        },
        {
         "lowerfence": [
          -2.1309498166423495
         ],
         "marker": {
          "color": "#A1F7D5"
         },
         "median": [
          0.8419298584842965
         ],
         "name": "1947-06-01 06:00:00",
         "q1": [
          0.2937029304824878
         ],
         "q3": [
          1.3587898343150773
         ],
         "showlegend": false,
         "type": "box",
         "upperfence": [
          8.209536151601387
         ],
         "whiskerwidth": 0.2,
         "x": [
          "1947-06-01T06:00:00"
         ]
        },
        {
         "lowerfence": [
          -1.887847025008647
         ],
         "marker": {
          "color": "#43EFAA"
         },
         "median": [
          1.257827625013087
         ],
         "name": "1948-06-01 06:00:00",
         "q1": [
          0.6331881933691302
         ],
         "q3": [
          2.3375884809098397
         ],
         "showlegend": false,
         "type": "box",
         "upperfence": [
          5.709032962602233
         ],
         "whiskerwidth": 0.2,
         "x": [
          "1948-06-01T06:00:00"
         ]
        },
        {
         "lowerfence": [
          -1.8535972223263766
         ],
         "marker": {
          "color": "#43EFAA"
         },
         "median": [
          1.451576404234743
         ],
         "name": "1949-06-01 06:00:00",
         "q1": [
          0.7847214784890381
         ],
         "q3": [
          1.8165614849424168
         ],
         "showlegend": false,
         "type": "box",
         "upperfence": [
          8.209536151601387
         ],
         "whiskerwidth": 0.2,
         "x": [
          "1949-06-01T06:00:00"
         ]
        },
        {
         "lowerfence": [
          -1.5439407055062506
         ],
         "marker": {
          "color": "#43EFAA"
         },
         "median": [
          1.2036113182758346
         ],
         "name": "1950-06-01 06:00:00",
         "q1": [
          0.6136367860935465
         ],
         "q3": [
          1.8018504972022873
         ],
         "showlegend": false,
         "type": "box",
         "upperfence": [
          8.209536151601387
         ],
         "whiskerwidth": 0.2,
         "x": [
          "1950-06-01T06:00:00"
         ]
        },
        {
         "lowerfence": [
          -3.0662705068002136
         ],
         "marker": {
          "color": "#A1F7D5"
         },
         "median": [
          0.5256685656920647
         ],
         "name": "1951-06-01 06:00:00",
         "q1": [
          -0.10756621005380186
         ],
         "q3": [
          1.325922983603401
         ],
         "showlegend": false,
         "type": "box",
         "upperfence": [
          4.430303699398505
         ],
         "whiskerwidth": 0.2,
         "x": [
          "1951-06-01T06:00:00"
         ]
        },
        {
         "lowerfence": [
          -2.238197454819027
         ],
         "marker": {
          "color": "#A1F7D5"
         },
         "median": [
          0.4711657684190233
         ],
         "name": "1952-06-01 06:00:00",
         "q1": [
          -0.10815282693126603
         ],
         "q3": [
          1.1299633518105008
         ],
         "showlegend": false,
         "type": "box",
         "upperfence": [
          6.109609239176854
         ],
         "whiskerwidth": 0.2,
         "x": [
          "1952-06-01T06:00:00"
         ]
        },
        {
         "lowerfence": [
          -1.764321537369444
         ],
         "marker": {
          "color": "#A1F7D5"
         },
         "median": [
          0.91887830328355
         ],
         "name": "1953-06-01 06:00:00",
         "q1": [
          0.4180207683312182
         ],
         "q3": [
          1.5701603719773025
         ],
         "showlegend": false,
         "type": "box",
         "upperfence": [
          8.209536151601387
         ],
         "whiskerwidth": 0.2,
         "x": [
          "1953-06-01T06:00:00"
         ]
        },
        {
         "lowerfence": [
          -3.8352305515890346
         ],
         "marker": {
          "color": "#FFBF69"
         },
         "median": [
          -0.03111903998669914
         ],
         "name": "1954-06-01 06:00:00",
         "q1": [
          -0.5928864172040468
         ],
         "q3": [
          0.5470119762854605
         ],
         "showlegend": false,
         "type": "box",
         "upperfence": [
          2.5282336575211097
         ],
         "whiskerwidth": 0.2,
         "x": [
          "1954-06-01T06:00:00"
         ]
        },
        {
         "lowerfence": [
          -3.835399420542476
         ],
         "marker": {
          "color": "#A1F7D5"
         },
         "median": [
          0.40730236696035477
         ],
         "name": "1955-06-01 06:00:00",
         "q1": [
          -0.27624928477441435
         ],
         "q3": [
          1.1304884970742046
         ],
         "showlegend": false,
         "type": "box",
         "upperfence": [
          4.06333104668905
         ],
         "whiskerwidth": 0.2,
         "x": [
          "1955-06-01T06:00:00"
         ]
        },
        {
         "lowerfence": [
          -4.476801869221881
         ],
         "marker": {
          "color": "#FFBF69"
         },
         "median": [
          -0.4747945614135454
         ],
         "name": "1956-06-01 06:00:00",
         "q1": [
          -1.1733878360247543
         ],
         "q3": [
          0.13379910334927853
         ],
         "showlegend": false,
         "type": "box",
         "upperfence": [
          2.8045944512378753
         ],
         "whiskerwidth": 0.2,
         "x": [
          "1956-06-01T06:00:00"
         ]
        },
        {
         "lowerfence": [
          -0.7185645485696115
         ],
         "marker": {
          "color": "#0D965f"
         },
         "median": [
          1.5435714337907522
         ],
         "name": "1957-06-01 06:00:00",
         "q1": [
          1.1942791030986002
         ],
         "q3": [
          1.9345690123931276
         ],
         "showlegend": false,
         "type": "box",
         "upperfence": [
          4.115087621623683
         ],
         "whiskerwidth": 0.2,
         "x": [
          "1957-06-01T06:00:00"
         ]
        },
        {
         "lowerfence": [
          -5.131130322663516
         ],
         "marker": {
          "color": "#FFBF69"
         },
         "median": [
          -0.23481180721808703
         ],
         "name": "1958-06-01 06:00:00",
         "q1": [
          -0.9306466871802277
         ],
         "q3": [
          0.575537799309684
         ],
         "showlegend": false,
         "type": "box",
         "upperfence": [
          2.2354700877308886
         ],
         "whiskerwidth": 0.2,
         "x": [
          "1958-06-01T06:00:00"
         ]
        },
        {
         "lowerfence": [
          -2.3706145980725752
         ],
         "marker": {
          "color": "#A1F7D5"
         },
         "median": [
          0.46694512054202014
         ],
         "name": "1959-06-01 06:00:00",
         "q1": [
          -0.009036381338562988
         ],
         "q3": [
          1.1458777928780015
         ],
         "showlegend": false,
         "type": "box",
         "upperfence": [
          5.71177653087367
         ],
         "whiskerwidth": 0.2,
         "x": [
          "1959-06-01T06:00:00"
         ]
        },
        {
         "lowerfence": [
          -2.611907821548152
         ],
         "marker": {
          "color": "#A1F7D5"
         },
         "median": [
          0.13229877359569017
         ],
         "name": "1960-06-01 06:00:00",
         "q1": [
          -0.4507705654241436
         ],
         "q3": [
          0.9732815872030729
         ],
         "showlegend": false,
         "type": "box",
         "upperfence": [
          3.30765876731602
         ],
         "whiskerwidth": 0.2,
         "x": [
          "1960-06-01T06:00:00"
         ]
        },
        {
         "lowerfence": [
          -2.3495257333092496
         ],
         "marker": {
          "color": "#A1F7D5"
         },
         "median": [
          0.43608807942691613
         ],
         "name": "1961-06-01 06:00:00",
         "q1": [
          -0.11467301837936177
         ],
         "q3": [
          0.8306357693505612
         ],
         "showlegend": false,
         "type": "box",
         "upperfence": [
          4.772326782161533
         ],
         "whiskerwidth": 0.2,
         "x": [
          "1961-06-01T06:00:00"
         ]
        },
        {
         "lowerfence": [
          -3.1307246975860696
         ],
         "marker": {
          "color": "#FFBF69"
         },
         "median": [
          -0.6814641989521755
         ],
         "name": "1962-06-01 06:00:00",
         "q1": [
          -1.0303463975987912
         ],
         "q3": [
          -0.1231454639855119
         ],
         "showlegend": false,
         "type": "box",
         "upperfence": [
          2.4037564152306055
         ],
         "whiskerwidth": 0.2,
         "x": [
          "1962-06-01T06:00:00"
         ]
        },
        {
         "lowerfence": [
          -4.980975294613967
         ],
         "marker": {
          "color": "#A1F7D5"
         },
         "median": [
          0.6993600541119813
         ],
         "name": "1963-06-01 06:00:00",
         "q1": [
          0.06825674111270279
         ],
         "q3": [
          1.3187399022542885
         ],
         "showlegend": false,
         "type": "box",
         "upperfence": [
          8.209536151601387
         ],
         "whiskerwidth": 0.2,
         "x": [
          "1963-06-01T06:00:00"
         ]
        },
        {
         "lowerfence": [
          -3.704830431429575
         ],
         "marker": {
          "color": "#A1F7D5"
         },
         "median": [
          0.30553087379758176
         ],
         "name": "1964-06-01 06:00:00",
         "q1": [
          -0.32481216588153317
         ],
         "q3": [
          0.8984963945612543
         ],
         "showlegend": false,
         "type": "box",
         "upperfence": [
          3.846903812530525
         ],
         "whiskerwidth": 0.2,
         "x": [
          "1964-06-01T06:00:00"
         ]
        },
        {
         "lowerfence": [
          -5.318601603777791
         ],
         "marker": {
          "color": "#A1F7D5"
         },
         "median": [
          0.3939941257411736
         ],
         "name": "1965-06-01 06:00:00",
         "q1": [
          -0.10447907355434179
         ],
         "q3": [
          0.9178860009073565
         ],
         "showlegend": false,
         "type": "box",
         "upperfence": [
          2.8593059081584844
         ],
         "whiskerwidth": 0.2,
         "x": [
          "1965-06-01T06:00:00"
         ]
        },
        {
         "lowerfence": [
          -5.119899298755318
         ],
         "marker": {
          "color": "#A1F7D5"
         },
         "median": [
          0.07344435895652458
         ],
         "name": "1966-06-01 06:00:00",
         "q1": [
          -0.6093987983085369
         ],
         "q3": [
          0.5535372751803335
         ],
         "showlegend": false,
         "type": "box",
         "upperfence": [
          8.209536151601387
         ],
         "whiskerwidth": 0.2,
         "x": [
          "1966-06-01T06:00:00"
         ]
        },
        {
         "lowerfence": [
          -5.035299659182032
         ],
         "marker": {
          "color": "#A1F7D5"
         },
         "median": [
          0.8536898389087799
         ],
         "name": "1967-06-01 06:00:00",
         "q1": [
          0.12963826838802717
         ],
         "q3": [
          1.308402552644532
         ],
         "showlegend": false,
         "type": "box",
         "upperfence": [
          8.209536151601387
         ],
         "whiskerwidth": 0.2,
         "x": [
          "1967-06-01T06:00:00"
         ]
        },
        {
         "lowerfence": [
          -2.551956165246191
         ],
         "marker": {
          "color": "#43EFAA"
         },
         "median": [
          1.2146212885913628
         ],
         "name": "1968-06-01 06:00:00",
         "q1": [
          0.7541619933011917
         ],
         "q3": [
          1.6145725988222228
         ],
         "showlegend": false,
         "type": "box",
         "upperfence": [
          4.868232618777006
         ],
         "whiskerwidth": 0.2,
         "x": [
          "1968-06-01T06:00:00"
         ]
        },
        {
         "lowerfence": [
          -1.2258460160119662
         ],
         "marker": {
          "color": "#A1F7D5"
         },
         "median": [
          0.6983772919983123
         ],
         "name": "1969-06-01 06:00:00",
         "q1": [
          0.20071453587487065
         ],
         "q3": [
          1.1552424264967727
         ],
         "showlegend": false,
         "type": "box",
         "upperfence": [
          3.0461914850062706
         ],
         "whiskerwidth": 0.2,
         "x": [
          "1969-06-01T06:00:00"
         ]
        },
        {
         "lowerfence": [
          -2.331267810737779
         ],
         "marker": {
          "color": "#FFBF69"
         },
         "median": [
          -0.038726449864391485
         ],
         "name": "1970-06-01 06:00:00",
         "q1": [
          -0.5913044506994759
         ],
         "q3": [
          0.42533540714612167
         ],
         "showlegend": false,
         "type": "box",
         "upperfence": [
          2.130615240164028
         ],
         "whiskerwidth": 0.2,
         "x": [
          "1970-06-01T06:00:00"
         ]
        },
        {
         "lowerfence": [
          -1.904453754457876
         ],
         "marker": {
          "color": "#A1F7D5"
         },
         "median": [
          0.8617779972589674
         ],
         "name": "1971-06-01 06:00:00",
         "q1": [
          0.06274824967968246
         ],
         "q3": [
          1.3621037113313192
         ],
         "showlegend": false,
         "type": "box",
         "upperfence": [
          3.6958638334713503
         ],
         "whiskerwidth": 0.2,
         "x": [
          "1971-06-01T06:00:00"
         ]
        },
        {
         "lowerfence": [
          -1.2585368446639085
         ],
         "marker": {
          "color": "#0D965f"
         },
         "median": [
          1.925505162718385
         ],
         "name": "1972-06-01 06:00:00",
         "q1": [
          1.606977601858268
         ],
         "q3": [
          2.2770297503080794
         ],
         "showlegend": false,
         "type": "box",
         "upperfence": [
          4.220561988468365
         ],
         "whiskerwidth": 0.2,
         "x": [
          "1972-06-01T06:00:00"
         ]
        },
        {
         "lowerfence": [
          -2.963220987783426
         ],
         "marker": {
          "color": "#FFBF69"
         },
         "median": [
          -0.7716379547582337
         ],
         "name": "1973-06-01 06:00:00",
         "q1": [
          -1.1705933364929901
         ],
         "q3": [
          -0.36270558497719957
         ],
         "showlegend": false,
         "type": "box",
         "upperfence": [
          3.8365978864773296
         ],
         "whiskerwidth": 0.2,
         "x": [
          "1973-06-01T06:00:00"
         ]
        },
        {
         "lowerfence": [
          -1.3149424071508637
         ],
         "marker": {
          "color": "#0D965f"
         },
         "median": [
          1.5671785830285976
         ],
         "name": "1974-06-01 06:00:00",
         "q1": [
          0.8560043509229881
         ],
         "q3": [
          2.065779699010932
         ],
         "showlegend": false,
         "type": "box",
         "upperfence": [
          4.552167588116217
         ],
         "whiskerwidth": 0.2,
         "x": [
          "1974-06-01T06:00:00"
         ]
        },
        {
         "lowerfence": [
          -1.2604640892950192
         ],
         "marker": {
          "color": "#43EFAA"
         },
         "median": [
          1.3458678174280128
         ],
         "name": "1975-06-01 06:00:00",
         "q1": [
          0.42607339899273355
         ],
         "q3": [
          1.9474791291913767
         ],
         "showlegend": false,
         "type": "box",
         "upperfence": [
          4.1206349963345525
         ],
         "whiskerwidth": 0.2,
         "x": [
          "1975-06-01T06:00:00"
         ]
        },
        {
         "lowerfence": [
          -1.5413404539118944
         ],
         "marker": {
          "color": "#43EFAA"
         },
         "median": [
          1.2830733170180413
         ],
         "name": "1976-06-01 06:00:00",
         "q1": [
          0.7631653849522809
         ],
         "q3": [
          1.6372636675322352
         ],
         "showlegend": false,
         "type": "box",
         "upperfence": [
          2.9021186911737638
         ],
         "whiskerwidth": 0.2,
         "x": [
          "1976-06-01T06:00:00"
         ]
        },
        {
         "lowerfence": [
          -2.048663907513925
         ],
         "marker": {
          "color": "#A1F7D5"
         },
         "median": [
          0.4071321867270246
         ],
         "name": "1977-06-01 06:00:00",
         "q1": [
          -0.21340886072867812
         ],
         "q3": [
          1.0715295176032773
         ],
         "showlegend": false,
         "type": "box",
         "upperfence": [
          3.684335297999481
         ],
         "whiskerwidth": 0.2,
         "x": [
          "1977-06-01T06:00:00"
         ]
        },
        {
         "lowerfence": [
          -3.5363823258221765
         ],
         "marker": {
          "color": "#FFBF69"
         },
         "median": [
          -0.22248402168046813
         ],
         "name": "1978-06-01 06:00:00",
         "q1": [
          -0.8376648328198207
         ],
         "q3": [
          0.3556933206833338
         ],
         "showlegend": false,
         "type": "box",
         "upperfence": [
          3.212534878500336
         ],
         "whiskerwidth": 0.2,
         "x": [
          "1978-06-01T06:00:00"
         ]
        },
        {
         "lowerfence": [
          -1.767965679336727
         ],
         "marker": {
          "color": "#A1F7D5"
         },
         "median": [
          0.14796608537866784
         ],
         "name": "1979-06-01 06:00:00",
         "q1": [
          -0.3222089097779752
         ],
         "q3": [
          0.5967600975479954
         ],
         "showlegend": false,
         "type": "box",
         "upperfence": [
          4.719659290811835
         ],
         "whiskerwidth": 0.2,
         "x": [
          "1979-06-01T06:00:00"
         ]
        },
        {
         "lowerfence": [
          -3.6773959807318235
         ],
         "marker": {
          "color": "#FFBF69"
         },
         "median": [
          -0.18754702089396857
         ],
         "name": "1980-06-01 06:00:00",
         "q1": [
          -0.712399337747734
         ],
         "q3": [
          0.5532549382891864
         ],
         "showlegend": false,
         "type": "box",
         "upperfence": [
          3.250345576571852
         ],
         "whiskerwidth": 0.2,
         "x": [
          "1980-06-01T06:00:00"
         ]
        },
        {
         "lowerfence": [
          -1.601283549352841
         ],
         "marker": {
          "color": "#A1F7D5"
         },
         "median": [
          0.1596316913983147
         ],
         "name": "1981-06-01 06:00:00",
         "q1": [
          -0.27710173695510526
         ],
         "q3": [
          0.6365522719774387
         ],
         "showlegend": false,
         "type": "box",
         "upperfence": [
          2.524815303823073
         ],
         "whiskerwidth": 0.2,
         "x": [
          "1981-06-01T06:00:00"
         ]
        },
        {
         "lowerfence": [
          -1.1995939980833583
         ],
         "marker": {
          "color": "#0D965f"
         },
         "median": [
          1.7870694354464456
         ],
         "name": "1982-06-01 06:00:00",
         "q1": [
          1.2435160441178343
         ],
         "q3": [
          2.258676140113337
         ],
         "showlegend": false,
         "type": "box",
         "upperfence": [
          4.117292014115392
         ],
         "whiskerwidth": 0.2,
         "x": [
          "1982-06-01T06:00:00"
         ]
        },
        {
         "lowerfence": [
          -1.5004183376412763
         ],
         "marker": {
          "color": "#43EFAA"
         },
         "median": [
          1.4790151549720716
         ],
         "name": "1983-06-01 06:00:00",
         "q1": [
          0.9253383670449161
         ],
         "q3": [
          2.3496191157459236
         ],
         "showlegend": false,
         "type": "box",
         "upperfence": [
          4.822567089368522
         ],
         "whiskerwidth": 0.2,
         "x": [
          "1983-06-01T06:00:00"
         ]
        },
        {
         "lowerfence": [
          -2.3898021440654826
         ],
         "marker": {
          "color": "#FFBF69"
         },
         "median": [
          -0.3029346928334627
         ],
         "name": "1984-06-01 06:00:00",
         "q1": [
          -0.7909266030762473
         ],
         "q3": [
          0.11315375027396771
         ],
         "showlegend": false,
         "type": "box",
         "upperfence": [
          2.83829375631541
         ],
         "whiskerwidth": 0.2,
         "x": [
          "1984-06-01T06:00:00"
         ]
        },
        {
         "lowerfence": [
          -1.8747903491740938
         ],
         "marker": {
          "color": "#A1F7D5"
         },
         "median": [
          0.16550233497384764
         ],
         "name": "1985-06-01 06:00:00",
         "q1": [
          -0.5557821038511885
         ],
         "q3": [
          0.7267251813269153
         ],
         "showlegend": false,
         "type": "box",
         "upperfence": [
          3.7629446677629823
         ],
         "whiskerwidth": 0.2,
         "x": [
          "1985-06-01T06:00:00"
         ]
        },
        {
         "lowerfence": [
          -1.311332069226823
         ],
         "marker": {
          "color": "#43EFAA"
         },
         "median": [
          1.0750286009011738
         ],
         "name": "1986-06-01 06:00:00",
         "q1": [
          0.23786985712039121
         ],
         "q3": [
          1.5656185490250745
         ],
         "showlegend": false,
         "type": "box",
         "upperfence": [
          4.037242865868791
         ],
         "whiskerwidth": 0.2,
         "x": [
          "1986-06-01T06:00:00"
         ]
        },
        {
         "lowerfence": [
          -1.8928704124366063
         ],
         "marker": {
          "color": "#A1F7D5"
         },
         "median": [
          0.3646544157351852
         ],
         "name": "1987-06-01 06:00:00",
         "q1": [
          -0.13064162080294608
         ],
         "q3": [
          0.8956668457973276
         ],
         "showlegend": false,
         "type": "box",
         "upperfence": [
          3.7517131348120167
         ],
         "whiskerwidth": 0.2,
         "x": [
          "1987-06-01T06:00:00"
         ]
        },
        {
         "lowerfence": [
          -1.9631724842778793
         ],
         "marker": {
          "color": "#A1F7D5"
         },
         "median": [
          0.5277685528264111
         ],
         "name": "1988-06-01 06:00:00",
         "q1": [
          0.054706139935390787
         ],
         "q3": [
          1.0193244658972636
         ],
         "showlegend": false,
         "type": "box",
         "upperfence": [
          3.613696144181114
         ],
         "whiskerwidth": 0.2,
         "x": [
          "1988-06-01T06:00:00"
         ]
        },
        {
         "lowerfence": [
          -1.9074923546539537
         ],
         "marker": {
          "color": "#A1F7D5"
         },
         "median": [
          0.7419011979876841
         ],
         "name": "1989-06-01 06:00:00",
         "q1": [
          0.13883026848293636
         ],
         "q3": [
          1.3414703978414944
         ],
         "showlegend": false,
         "type": "box",
         "upperfence": [
          3.454658808507869
         ],
         "whiskerwidth": 0.2,
         "x": [
          "1989-06-01T06:00:00"
         ]
        },
        {
         "lowerfence": [
          -1.7591580225385155
         ],
         "marker": {
          "color": "#A1F7D5"
         },
         "median": [
          0.4436856147731569
         ],
         "name": "1990-06-01 06:00:00",
         "q1": [
          -0.09697987993645794
         ],
         "q3": [
          0.842119329496608
         ],
         "showlegend": false,
         "type": "box",
         "upperfence": [
          3.27646574024278
         ],
         "whiskerwidth": 0.2,
         "x": [
          "1990-06-01T06:00:00"
         ]
        },
        {
         "lowerfence": [
          -1.8928371002614155
         ],
         "marker": {
          "color": "#A1F7D5"
         },
         "median": [
          0.7133327101270497
         ],
         "name": "1991-06-01 06:00:00",
         "q1": [
          0.07185753619652031
         ],
         "q3": [
          1.19121164566566
         ],
         "showlegend": false,
         "type": "box",
         "upperfence": [
          2.5964097365539986
         ],
         "whiskerwidth": 0.2,
         "x": [
          "1991-06-01T06:00:00"
         ]
        },
        {
         "lowerfence": [
          -2.4236263139898493
         ],
         "marker": {
          "color": "#43EFAA"
         },
         "median": [
          1.1982740037884505
         ],
         "name": "1992-06-01 06:00:00",
         "q1": [
          0.8601172593684546
         ],
         "q3": [
          1.564902177903334
         ],
         "showlegend": false,
         "type": "box",
         "upperfence": [
          3.065299375391297
         ],
         "whiskerwidth": 0.2,
         "x": [
          "1992-06-01T06:00:00"
         ]
        },
        {
         "lowerfence": [
          -0.9846573043526743
         ],
         "marker": {
          "color": "#0D965f"
         },
         "median": [
          1.6144778794911376
         ],
         "name": "1993-06-01 06:00:00",
         "q1": [
          1.1653278683986656
         ],
         "q3": [
          2.039014023198413
         ],
         "showlegend": false,
         "type": "box",
         "upperfence": [
          3.505493419871236
         ],
         "whiskerwidth": 0.2,
         "x": [
          "1993-06-01T06:00:00"
         ]
        },
        {
         "lowerfence": [
          -2.09526005024412
         ],
         "marker": {
          "color": "#FFBF69"
         },
         "median": [
          -0.2572307578218707
         ],
         "name": "1994-06-01 06:00:00",
         "q1": [
          -0.727109706051582
         ],
         "q3": [
          0.396707595002395
         ],
         "showlegend": false,
         "type": "box",
         "upperfence": [
          3.3858888651559784
         ],
         "whiskerwidth": 0.2,
         "x": [
          "1994-06-01T06:00:00"
         ]
        },
        {
         "lowerfence": [
          -2.0167024240628066
         ],
         "marker": {
          "color": "#A1F7D5"
         },
         "median": [
          0.9838630235945787
         ],
         "name": "1995-06-01 06:00:00",
         "q1": [
          0.580554030394393
         ],
         "q3": [
          1.440812084122236
         ],
         "showlegend": false,
         "type": "box",
         "upperfence": [
          3.790462659756601
         ],
         "whiskerwidth": 0.2,
         "x": [
          "1995-06-01T06:00:00"
         ]
        },
        {
         "lowerfence": [
          -1.531447095196142
         ],
         "marker": {
          "color": "#43EFAA"
         },
         "median": [
          1.1972713848846448
         ],
         "name": "1996-06-01 06:00:00",
         "q1": [
          0.4261247075935178
         ],
         "q3": [
          1.7113517174775636
         ],
         "showlegend": false,
         "type": "box",
         "upperfence": [
          4.882006678206007
         ],
         "whiskerwidth": 0.2,
         "x": [
          "1996-06-01T06:00:00"
         ]
        },
        {
         "lowerfence": [
          -1.4334300769565518
         ],
         "marker": {
          "color": "#A1F7D5"
         },
         "median": [
          0.9038059438872131
         ],
         "name": "1997-06-01 06:00:00",
         "q1": [
          0.524822374540493
         ],
         "q3": [
          1.3607589058777532
         ],
         "showlegend": false,
         "type": "box",
         "upperfence": [
          4.3157600704738766
         ],
         "whiskerwidth": 0.2,
         "x": [
          "1997-06-01T06:00:00"
         ]
        },
        {
         "lowerfence": [
          -2.1488689114651844
         ],
         "marker": {
          "color": "#A1F7D5"
         },
         "median": [
          0.8743732499965919
         ],
         "name": "1998-06-01 06:00:00",
         "q1": [
          0.05465894577645231
         ],
         "q3": [
          1.2452495218424777
         ],
         "showlegend": false,
         "type": "box",
         "upperfence": [
          2.3513119925054227
         ],
         "whiskerwidth": 0.2,
         "x": [
          "1998-06-01T06:00:00"
         ]
        },
        {
         "lowerfence": [
          -2.2476959627298516
         ],
         "marker": {
          "color": "#FFBF69"
         },
         "median": [
          -0.1524826030194606
         ],
         "name": "1999-06-01 06:00:00",
         "q1": [
          -0.6270558745587841
         ],
         "q3": [
          0.4972767359876523
         ],
         "showlegend": false,
         "type": "box",
         "upperfence": [
          3.4174389535734555
         ],
         "whiskerwidth": 0.2,
         "x": [
          "1999-06-01T06:00:00"
         ]
        },
        {
         "lowerfence": [
          -2.5426432959736194
         ],
         "marker": {
          "color": "#FF961F"
         },
         "median": [
          -1.2637504672880897
         ],
         "name": "2000-06-01 06:00:00",
         "q1": [
          -1.6696095726096858
         ],
         "q3": [
          -0.7087369040420215
         ],
         "showlegend": false,
         "type": "box",
         "upperfence": [
          2.927957391648355
         ],
         "whiskerwidth": 0.2,
         "x": [
          "2000-06-01T06:00:00"
         ]
        },
        {
         "lowerfence": [
          -2.4403930230681152
         ],
         "marker": {
          "color": "#FFBF69"
         },
         "median": [
          -0.5232775800166857
         ],
         "name": "2001-06-01 06:00:00",
         "q1": [
          -1.0383686302237618
         ],
         "q3": [
          0.03350605137716407
         ],
         "showlegend": false,
         "type": "box",
         "upperfence": [
          2.413306096445152
         ],
         "whiskerwidth": 0.2,
         "x": [
          "2001-06-01T06:00:00"
         ]
        },
        {
         "lowerfence": [
          -1.9790698407767966
         ],
         "marker": {
          "color": "#A1F7D5"
         },
         "median": [
          0.2465902902280876
         ],
         "name": "2002-06-01 06:00:00",
         "q1": [
          -0.18348003995884563
         ],
         "q3": [
          0.616921713558673
         ],
         "showlegend": false,
         "type": "box",
         "upperfence": [
          3.1764176962109616
         ],
         "whiskerwidth": 0.2,
         "x": [
          "2002-06-01T06:00:00"
         ]
        },
        {
         "lowerfence": [
          -2.0527008977424237
         ],
         "marker": {
          "color": "#FFBF69"
         },
         "median": [
          -0.7172203673427827
         ],
         "name": "2003-06-01 06:00:00",
         "q1": [
          -1.0446411854212243
         ],
         "q3": [
          -0.31389594720254654
         ],
         "showlegend": false,
         "type": "box",
         "upperfence": [
          1.1397464333394565
         ],
         "whiskerwidth": 0.2,
         "x": [
          "2003-06-01T06:00:00"
         ]
        },
        {
         "lowerfence": [
          -2.1994372515804623
         ],
         "marker": {
          "color": "#FFBF69"
         },
         "median": [
          -0.22584145950543427
         ],
         "name": "2004-06-01 06:00:00",
         "q1": [
          -0.714088913315443
         ],
         "q3": [
          0.4345729454149688
         ],
         "showlegend": false,
         "type": "box",
         "upperfence": [
          2.288703044859364
         ],
         "whiskerwidth": 0.2,
         "x": [
          "2004-06-01T06:00:00"
         ]
        },
        {
         "lowerfence": [
          -1.4788111149831955
         ],
         "marker": {
          "color": "#A1F7D5"
         },
         "median": [
          0.3794294798622215
         ],
         "name": "2005-06-01 06:00:00",
         "q1": [
          0.028698399297720174
         ],
         "q3": [
          0.7618554729676487
         ],
         "showlegend": false,
         "type": "box",
         "upperfence": [
          2.0452131012406487
         ],
         "whiskerwidth": 0.2,
         "x": [
          "2005-06-01T06:00:00"
         ]
        },
        {
         "lowerfence": [
          -1.457030097174866
         ],
         "marker": {
          "color": "#A1F7D5"
         },
         "median": [
          0.01131353299905455
         ],
         "name": "2006-06-01 06:00:00",
         "q1": [
          -0.36131449236560104
         ],
         "q3": [
          0.4380144800614055
         ],
         "showlegend": false,
         "type": "box",
         "upperfence": [
          2.973075610608495
         ],
         "whiskerwidth": 0.2,
         "x": [
          "2006-06-01T06:00:00"
         ]
        },
        {
         "lowerfence": [
          -2.4005902354640916
         ],
         "marker": {
          "color": "#FFBF69"
         },
         "median": [
          -0.0945781301556113
         ],
         "name": "2007-06-01 06:00:00",
         "q1": [
          -0.6008547643997515
         ],
         "q3": [
          0.4368047177122907
         ],
         "showlegend": false,
         "type": "box",
         "upperfence": [
          3.0974027237879938
         ],
         "whiskerwidth": 0.2,
         "x": [
          "2007-06-01T06:00:00"
         ]
        },
        {
         "lowerfence": [
          -2.5289110483584976
         ],
         "marker": {
          "color": "#FFBF69"
         },
         "median": [
          -0.9005848152449724
         ],
         "name": "2008-06-01 06:00:00",
         "q1": [
          -1.413615228834149
         ],
         "q3": [
          -0.3817222346023102
         ],
         "showlegend": false,
         "type": "box",
         "upperfence": [
          3.1635145416714026
         ],
         "whiskerwidth": 0.2,
         "x": [
          "2008-06-01T06:00:00"
         ]
        },
        {
         "lowerfence": [
          -2.5662010378277027
         ],
         "marker": {
          "color": "#FFBF69"
         },
         "median": [
          -0.5066602905952156
         ],
         "name": "2009-06-01 06:00:00",
         "q1": [
          -0.9969400753854494
         ],
         "q3": [
          -0.01976022479036973
         ],
         "showlegend": false,
         "type": "box",
         "upperfence": [
          1.9864393877687687
         ],
         "whiskerwidth": 0.2,
         "x": [
          "2009-06-01T06:00:00"
         ]
        },
        {
         "lowerfence": [
          -2.317609055399065
         ],
         "marker": {
          "color": "#FFBF69"
         },
         "median": [
          -0.9261600617348837
         ],
         "name": "2010-06-01 06:00:00",
         "q1": [
          -1.2599721315004866
         ],
         "q3": [
          -0.5712043934545575
         ],
         "showlegend": false,
         "type": "box",
         "upperfence": [
          2.695852630670604
         ],
         "whiskerwidth": 0.2,
         "x": [
          "2010-06-01T06:00:00"
         ]
        },
        {
         "lowerfence": [
          -1.9758426270080556
         ],
         "marker": {
          "color": "#A1F7D5"
         },
         "median": [
          0.023401800022082225
         ],
         "name": "2011-06-01 06:00:00",
         "q1": [
          -0.3848783199988087
         ],
         "q3": [
          0.35469468507587293
         ],
         "showlegend": false,
         "type": "box",
         "upperfence": [
          2.346841612724128
         ],
         "whiskerwidth": 0.2,
         "x": [
          "2011-06-01T06:00:00"
         ]
        },
        {
         "lowerfence": [
          -2.3611689746340003
         ],
         "marker": {
          "color": "#FFBF69"
         },
         "median": [
          -0.9798874532268437
         ],
         "name": "2012-06-01 06:00:00",
         "q1": [
          -1.286079332221719
         ],
         "q3": [
          -0.6214115307510908
         ],
         "showlegend": false,
         "type": "box",
         "upperfence": [
          1.4515496491530366
         ],
         "whiskerwidth": 0.2,
         "x": [
          "2012-06-01T06:00:00"
         ]
        },
        {
         "lowerfence": [
          -2.421314428087023
         ],
         "marker": {
          "color": "#FFBF69"
         },
         "median": [
          -0.06527634350116328
         ],
         "name": "2013-06-01 06:00:00",
         "q1": [
          -0.5727052382032112
         ],
         "q3": [
          0.6286021562789351
         ],
         "showlegend": false,
         "type": "box",
         "upperfence": [
          3.6023605889194403
         ],
         "whiskerwidth": 0.2,
         "x": [
          "2013-06-01T06:00:00"
         ]
        },
        {
         "lowerfence": [
          -2.1472252994897882
         ],
         "marker": {
          "color": "#A1F7D5"
         },
         "median": [
          0.0017761010661504202
         ],
         "name": "2014-06-01 06:00:00",
         "q1": [
          -0.5260193045429016
         ],
         "q3": [
          0.5073825135644783
         ],
         "showlegend": false,
         "type": "box",
         "upperfence": [
          3.1600572634033712
         ],
         "whiskerwidth": 0.2,
         "x": [
          "2014-06-01T06:00:00"
         ]
        },
        {
         "lowerfence": [
          -2.5015351747905243
         ],
         "marker": {
          "color": "#FF961F"
         },
         "median": [
          -1.1653398430566364
         ],
         "name": "2015-06-01 06:00:00",
         "q1": [
          -1.5387405057914116
         ],
         "q3": [
          -0.7217159492194934
         ],
         "showlegend": false,
         "type": "box",
         "upperfence": [
          1.308093915690642
         ],
         "whiskerwidth": 0.2,
         "x": [
          "2015-06-01T06:00:00"
         ]
        },
        {
         "lowerfence": [
          -2.5298555649906724
         ],
         "marker": {
          "color": "#FFBF69"
         },
         "median": [
          -0.11029539628793333
         ],
         "name": "2016-06-01 06:00:00",
         "q1": [
          -0.6665273437892354
         ],
         "q3": [
          0.5627101369927872
         ],
         "showlegend": false,
         "type": "box",
         "upperfence": [
          3.0935949650241477
         ],
         "whiskerwidth": 0.2,
         "x": [
          "2016-06-01T06:00:00"
         ]
        },
        {
         "lowerfence": [
          -2.1666100131754487
         ],
         "marker": {
          "color": "#FFBF69"
         },
         "median": [
          -0.3827883658348536
         ],
         "name": "2017-06-01 06:00:00",
         "q1": [
          -0.9305321044512449
         ],
         "q3": [
          0.5458111291829131
         ],
         "showlegend": false,
         "type": "box",
         "upperfence": [
          3.0574033101899802
         ],
         "whiskerwidth": 0.2,
         "x": [
          "2017-06-01T06:00:00"
         ]
        },
        {
         "lowerfence": [
          -2.5497728698697784
         ],
         "marker": {
          "color": "#FFBF69"
         },
         "median": [
          -0.6418612282564373
         ],
         "name": "2018-06-01 06:00:00",
         "q1": [
          -1.1503396015486735
         ],
         "q3": [
          -0.017280784102786235
         ],
         "showlegend": false,
         "type": "box",
         "upperfence": [
          3.5739693062316817
         ],
         "whiskerwidth": 0.2,
         "x": [
          "2018-06-01T06:00:00"
         ]
        },
        {
         "lowerfence": [
          -2.539659449723513
         ],
         "marker": {
          "color": "#A1F7D5"
         },
         "median": [
          0.28477618274221067
         ],
         "name": "2019-06-01 06:00:00",
         "q1": [
          -0.3207131897632513
         ],
         "q3": [
          0.739907265539561
         ],
         "showlegend": false,
         "type": "box",
         "upperfence": [
          3.166213718098427
         ],
         "whiskerwidth": 0.2,
         "x": [
          "2019-06-01T06:00:00"
         ]
        },
        {
         "lowerfence": [
          -2.2214108363115006
         ],
         "marker": {
          "color": "#FFBF69"
         },
         "median": [
          -0.3261355660245486
         ],
         "name": "2020-06-01 06:00:00",
         "q1": [
          -0.9869870485622224
         ],
         "q3": [
          0.4262534940981184
         ],
         "showlegend": false,
         "type": "box",
         "upperfence": [
          4.76154924087369
         ],
         "whiskerwidth": 0.2,
         "x": [
          "2020-06-01T06:00:00"
         ]
        },
        {
         "lowerfence": [
          -7.1457246593502
         ],
         "marker": {
          "color": "#8F5100"
         },
         "median": [
          -1.6488703355397594
         ],
         "name": "2021-06-01 06:00:00",
         "q1": [
          -2.3870826375680103
         ],
         "q3": [
          -0.9882518554814937
         ],
         "showlegend": false,
         "type": "box",
         "upperfence": [
          3.07804194237946
         ],
         "whiskerwidth": 0.2,
         "x": [
          "2021-06-01T06:00:00"
         ]
        },
        {
         "lowerfence": [
          -4.658109351730646
         ],
         "marker": {
          "color": "#FF961F"
         },
         "median": [
          -1.325391642298555
         ],
         "name": "2022-06-01 06:00:00",
         "q1": [
          -1.7181561207499088
         ],
         "q3": [
          -0.9867319023917688
         ],
         "showlegend": false,
         "type": "box",
         "upperfence": [
          3.546445437038613
         ],
         "whiskerwidth": 0.2,
         "x": [
          "2022-06-01T06:00:00"
         ]
        },
        {
         "lowerfence": [
          -1.4016355630284094
         ],
         "marker": {
          "color": "#A1F7D5"
         },
         "median": [
          0.7359916553269469
         ],
         "name": "2023-06-01 06:00:00",
         "q1": [
          0.09819599875181896
         ],
         "q3": [
          1.2529089740317079
         ],
         "showlegend": false,
         "type": "box",
         "upperfence": [
          3.3964047062042417
         ],
         "whiskerwidth": 0.2,
         "x": [
          "2023-06-01T06:00:00"
         ]
        },
        {
         "hoverinfo": "none",
         "legendgroup": "colors",
         "marker": {
          "color": "#074B30"
         },
         "name": "Extremely wet",
         "showlegend": true,
         "type": "box",
         "x": [
          null
         ],
         "y": [
          null
         ]
        },
        {
         "hoverinfo": "none",
         "legendgroup": "colors",
         "marker": {
          "color": "#0D965f"
         },
         "name": "Severely wet",
         "showlegend": true,
         "type": "box",
         "x": [
          null
         ],
         "y": [
          null
         ]
        },
        {
         "hoverinfo": "none",
         "legendgroup": "colors",
         "marker": {
          "color": "#43EFAA"
         },
         "name": "Moderately wet",
         "showlegend": true,
         "type": "box",
         "x": [
          null
         ],
         "y": [
          null
         ]
        },
        {
         "hoverinfo": "none",
         "legendgroup": "colors",
         "marker": {
          "color": "#A1F7D5"
         },
         "name": "Mildly wet",
         "showlegend": true,
         "type": "box",
         "x": [
          null
         ],
         "y": [
          null
         ]
        },
        {
         "hoverinfo": "none",
         "legendgroup": "colors",
         "marker": {
          "color": "#FFBF69"
         },
         "name": "Mildly dry",
         "showlegend": true,
         "type": "box",
         "x": [
          null
         ],
         "y": [
          null
         ]
        },
        {
         "hoverinfo": "none",
         "legendgroup": "colors",
         "marker": {
          "color": "#FF961F"
         },
         "name": "Moderately dry",
         "showlegend": true,
         "type": "box",
         "x": [
          null
         ],
         "y": [
          null
         ]
        },
        {
         "hoverinfo": "none",
         "legendgroup": "colors",
         "marker": {
          "color": "#8F5100"
         },
         "name": "Severely dry",
         "showlegend": true,
         "type": "box",
         "x": [
          null
         ],
         "y": [
          null
         ]
        },
        {
         "hoverinfo": "none",
         "legendgroup": "colors",
         "marker": {
          "color": "#3d2100"
         },
         "name": "Extremely dry",
         "showlegend": true,
         "type": "box",
         "x": [
          null
         ],
         "y": [
          null
         ]
        }
       ],
       "layout": {
        "autosize": true,
        "legend": {
         "title": {
          "text": "SPEI Categories"
         }
        },
        "plot_bgcolor": "rgba(0, 0, 0, 0)",
        "showlegend": true,
        "template": {
         "data": {
          "bar": [
           {
            "error_x": {
             "color": "#2a3f5f"
            },
            "error_y": {
             "color": "#2a3f5f"
            },
            "marker": {
             "line": {
              "color": "white",
              "width": 0.5
             },
             "pattern": {
              "fillmode": "overlay",
              "size": 10,
              "solidity": 0.2
             }
            },
            "type": "bar"
           }
          ],
          "barpolar": [
           {
            "marker": {
             "line": {
              "color": "white",
              "width": 0.5
             },
             "pattern": {
              "fillmode": "overlay",
              "size": 10,
              "solidity": 0.2
             }
            },
            "type": "barpolar"
           }
          ],
          "carpet": [
           {
            "aaxis": {
             "endlinecolor": "#2a3f5f",
             "gridcolor": "#C8D4E3",
             "linecolor": "#C8D4E3",
             "minorgridcolor": "#C8D4E3",
             "startlinecolor": "#2a3f5f"
            },
            "baxis": {
             "endlinecolor": "#2a3f5f",
             "gridcolor": "#C8D4E3",
             "linecolor": "#C8D4E3",
             "minorgridcolor": "#C8D4E3",
             "startlinecolor": "#2a3f5f"
            },
            "type": "carpet"
           }
          ],
          "choropleth": [
           {
            "colorbar": {
             "outlinewidth": 0,
             "ticks": ""
            },
            "type": "choropleth"
           }
          ],
          "contour": [
           {
            "colorbar": {
             "outlinewidth": 0,
             "ticks": ""
            },
            "colorscale": [
             [
              0,
              "#0d0887"
             ],
             [
              0.1111111111111111,
              "#46039f"
             ],
             [
              0.2222222222222222,
              "#7201a8"
             ],
             [
              0.3333333333333333,
              "#9c179e"
             ],
             [
              0.4444444444444444,
              "#bd3786"
             ],
             [
              0.5555555555555556,
              "#d8576b"
             ],
             [
              0.6666666666666666,
              "#ed7953"
             ],
             [
              0.7777777777777778,
              "#fb9f3a"
             ],
             [
              0.8888888888888888,
              "#fdca26"
             ],
             [
              1,
              "#f0f921"
             ]
            ],
            "type": "contour"
           }
          ],
          "contourcarpet": [
           {
            "colorbar": {
             "outlinewidth": 0,
             "ticks": ""
            },
            "type": "contourcarpet"
           }
          ],
          "heatmap": [
           {
            "colorbar": {
             "outlinewidth": 0,
             "ticks": ""
            },
            "colorscale": [
             [
              0,
              "#0d0887"
             ],
             [
              0.1111111111111111,
              "#46039f"
             ],
             [
              0.2222222222222222,
              "#7201a8"
             ],
             [
              0.3333333333333333,
              "#9c179e"
             ],
             [
              0.4444444444444444,
              "#bd3786"
             ],
             [
              0.5555555555555556,
              "#d8576b"
             ],
             [
              0.6666666666666666,
              "#ed7953"
             ],
             [
              0.7777777777777778,
              "#fb9f3a"
             ],
             [
              0.8888888888888888,
              "#fdca26"
             ],
             [
              1,
              "#f0f921"
             ]
            ],
            "type": "heatmap"
           }
          ],
          "heatmapgl": [
           {
            "colorbar": {
             "outlinewidth": 0,
             "ticks": ""
            },
            "colorscale": [
             [
              0,
              "#0d0887"
             ],
             [
              0.1111111111111111,
              "#46039f"
             ],
             [
              0.2222222222222222,
              "#7201a8"
             ],
             [
              0.3333333333333333,
              "#9c179e"
             ],
             [
              0.4444444444444444,
              "#bd3786"
             ],
             [
              0.5555555555555556,
              "#d8576b"
             ],
             [
              0.6666666666666666,
              "#ed7953"
             ],
             [
              0.7777777777777778,
              "#fb9f3a"
             ],
             [
              0.8888888888888888,
              "#fdca26"
             ],
             [
              1,
              "#f0f921"
             ]
            ],
            "type": "heatmapgl"
           }
          ],
          "histogram": [
           {
            "marker": {
             "pattern": {
              "fillmode": "overlay",
              "size": 10,
              "solidity": 0.2
             }
            },
            "type": "histogram"
           }
          ],
          "histogram2d": [
           {
            "colorbar": {
             "outlinewidth": 0,
             "ticks": ""
            },
            "colorscale": [
             [
              0,
              "#0d0887"
             ],
             [
              0.1111111111111111,
              "#46039f"
             ],
             [
              0.2222222222222222,
              "#7201a8"
             ],
             [
              0.3333333333333333,
              "#9c179e"
             ],
             [
              0.4444444444444444,
              "#bd3786"
             ],
             [
              0.5555555555555556,
              "#d8576b"
             ],
             [
              0.6666666666666666,
              "#ed7953"
             ],
             [
              0.7777777777777778,
              "#fb9f3a"
             ],
             [
              0.8888888888888888,
              "#fdca26"
             ],
             [
              1,
              "#f0f921"
             ]
            ],
            "type": "histogram2d"
           }
          ],
          "histogram2dcontour": [
           {
            "colorbar": {
             "outlinewidth": 0,
             "ticks": ""
            },
            "colorscale": [
             [
              0,
              "#0d0887"
             ],
             [
              0.1111111111111111,
              "#46039f"
             ],
             [
              0.2222222222222222,
              "#7201a8"
             ],
             [
              0.3333333333333333,
              "#9c179e"
             ],
             [
              0.4444444444444444,
              "#bd3786"
             ],
             [
              0.5555555555555556,
              "#d8576b"
             ],
             [
              0.6666666666666666,
              "#ed7953"
             ],
             [
              0.7777777777777778,
              "#fb9f3a"
             ],
             [
              0.8888888888888888,
              "#fdca26"
             ],
             [
              1,
              "#f0f921"
             ]
            ],
            "type": "histogram2dcontour"
           }
          ],
          "mesh3d": [
           {
            "colorbar": {
             "outlinewidth": 0,
             "ticks": ""
            },
            "type": "mesh3d"
           }
          ],
          "parcoords": [
           {
            "line": {
             "colorbar": {
              "outlinewidth": 0,
              "ticks": ""
             }
            },
            "type": "parcoords"
           }
          ],
          "pie": [
           {
            "automargin": true,
            "type": "pie"
           }
          ],
          "scatter": [
           {
            "fillpattern": {
             "fillmode": "overlay",
             "size": 10,
             "solidity": 0.2
            },
            "type": "scatter"
           }
          ],
          "scatter3d": [
           {
            "line": {
             "colorbar": {
              "outlinewidth": 0,
              "ticks": ""
             }
            },
            "marker": {
             "colorbar": {
              "outlinewidth": 0,
              "ticks": ""
             }
            },
            "type": "scatter3d"
           }
          ],
          "scattercarpet": [
           {
            "marker": {
             "colorbar": {
              "outlinewidth": 0,
              "ticks": ""
             }
            },
            "type": "scattercarpet"
           }
          ],
          "scattergeo": [
           {
            "marker": {
             "colorbar": {
              "outlinewidth": 0,
              "ticks": ""
             }
            },
            "type": "scattergeo"
           }
          ],
          "scattergl": [
           {
            "marker": {
             "colorbar": {
              "outlinewidth": 0,
              "ticks": ""
             }
            },
            "type": "scattergl"
           }
          ],
          "scattermapbox": [
           {
            "marker": {
             "colorbar": {
              "outlinewidth": 0,
              "ticks": ""
             }
            },
            "type": "scattermapbox"
           }
          ],
          "scatterpolar": [
           {
            "marker": {
             "colorbar": {
              "outlinewidth": 0,
              "ticks": ""
             }
            },
            "type": "scatterpolar"
           }
          ],
          "scatterpolargl": [
           {
            "marker": {
             "colorbar": {
              "outlinewidth": 0,
              "ticks": ""
             }
            },
            "type": "scatterpolargl"
           }
          ],
          "scatterternary": [
           {
            "marker": {
             "colorbar": {
              "outlinewidth": 0,
              "ticks": ""
             }
            },
            "type": "scatterternary"
           }
          ],
          "surface": [
           {
            "colorbar": {
             "outlinewidth": 0,
             "ticks": ""
            },
            "colorscale": [
             [
              0,
              "#0d0887"
             ],
             [
              0.1111111111111111,
              "#46039f"
             ],
             [
              0.2222222222222222,
              "#7201a8"
             ],
             [
              0.3333333333333333,
              "#9c179e"
             ],
             [
              0.4444444444444444,
              "#bd3786"
             ],
             [
              0.5555555555555556,
              "#d8576b"
             ],
             [
              0.6666666666666666,
              "#ed7953"
             ],
             [
              0.7777777777777778,
              "#fb9f3a"
             ],
             [
              0.8888888888888888,
              "#fdca26"
             ],
             [
              1,
              "#f0f921"
             ]
            ],
            "type": "surface"
           }
          ],
          "table": [
           {
            "cells": {
             "fill": {
              "color": "#EBF0F8"
             },
             "line": {
              "color": "white"
             }
            },
            "header": {
             "fill": {
              "color": "#C8D4E3"
             },
             "line": {
              "color": "white"
             }
            },
            "type": "table"
           }
          ]
         },
         "layout": {
          "annotationdefaults": {
           "arrowcolor": "#2a3f5f",
           "arrowhead": 0,
           "arrowwidth": 1
          },
          "autotypenumbers": "strict",
          "coloraxis": {
           "colorbar": {
            "outlinewidth": 0,
            "ticks": ""
           }
          },
          "colorscale": {
           "diverging": [
            [
             0,
             "#8e0152"
            ],
            [
             0.1,
             "#c51b7d"
            ],
            [
             0.2,
             "#de77ae"
            ],
            [
             0.3,
             "#f1b6da"
            ],
            [
             0.4,
             "#fde0ef"
            ],
            [
             0.5,
             "#f7f7f7"
            ],
            [
             0.6,
             "#e6f5d0"
            ],
            [
             0.7,
             "#b8e186"
            ],
            [
             0.8,
             "#7fbc41"
            ],
            [
             0.9,
             "#4d9221"
            ],
            [
             1,
             "#276419"
            ]
           ],
           "sequential": [
            [
             0,
             "#0d0887"
            ],
            [
             0.1111111111111111,
             "#46039f"
            ],
            [
             0.2222222222222222,
             "#7201a8"
            ],
            [
             0.3333333333333333,
             "#9c179e"
            ],
            [
             0.4444444444444444,
             "#bd3786"
            ],
            [
             0.5555555555555556,
             "#d8576b"
            ],
            [
             0.6666666666666666,
             "#ed7953"
            ],
            [
             0.7777777777777778,
             "#fb9f3a"
            ],
            [
             0.8888888888888888,
             "#fdca26"
            ],
            [
             1,
             "#f0f921"
            ]
           ],
           "sequentialminus": [
            [
             0,
             "#0d0887"
            ],
            [
             0.1111111111111111,
             "#46039f"
            ],
            [
             0.2222222222222222,
             "#7201a8"
            ],
            [
             0.3333333333333333,
             "#9c179e"
            ],
            [
             0.4444444444444444,
             "#bd3786"
            ],
            [
             0.5555555555555556,
             "#d8576b"
            ],
            [
             0.6666666666666666,
             "#ed7953"
            ],
            [
             0.7777777777777778,
             "#fb9f3a"
            ],
            [
             0.8888888888888888,
             "#fdca26"
            ],
            [
             1,
             "#f0f921"
            ]
           ]
          },
          "colorway": [
           "#636efa",
           "#EF553B",
           "#00cc96",
           "#ab63fa",
           "#FFA15A",
           "#19d3f3",
           "#FF6692",
           "#B6E880",
           "#FF97FF",
           "#FECB52"
          ],
          "font": {
           "color": "#2a3f5f"
          },
          "geo": {
           "bgcolor": "white",
           "lakecolor": "white",
           "landcolor": "white",
           "showlakes": true,
           "showland": true,
           "subunitcolor": "#C8D4E3"
          },
          "hoverlabel": {
           "align": "left"
          },
          "hovermode": "closest",
          "mapbox": {
           "style": "light"
          },
          "paper_bgcolor": "white",
          "plot_bgcolor": "white",
          "polar": {
           "angularaxis": {
            "gridcolor": "#EBF0F8",
            "linecolor": "#EBF0F8",
            "ticks": ""
           },
           "bgcolor": "white",
           "radialaxis": {
            "gridcolor": "#EBF0F8",
            "linecolor": "#EBF0F8",
            "ticks": ""
           }
          },
          "scene": {
           "xaxis": {
            "backgroundcolor": "white",
            "gridcolor": "#DFE8F3",
            "gridwidth": 2,
            "linecolor": "#EBF0F8",
            "showbackground": true,
            "ticks": "",
            "zerolinecolor": "#EBF0F8"
           },
           "yaxis": {
            "backgroundcolor": "white",
            "gridcolor": "#DFE8F3",
            "gridwidth": 2,
            "linecolor": "#EBF0F8",
            "showbackground": true,
            "ticks": "",
            "zerolinecolor": "#EBF0F8"
           },
           "zaxis": {
            "backgroundcolor": "white",
            "gridcolor": "#DFE8F3",
            "gridwidth": 2,
            "linecolor": "#EBF0F8",
            "showbackground": true,
            "ticks": "",
            "zerolinecolor": "#EBF0F8"
           }
          },
          "shapedefaults": {
           "line": {
            "color": "#2a3f5f"
           }
          },
          "ternary": {
           "aaxis": {
            "gridcolor": "#DFE8F3",
            "linecolor": "#A2B1C6",
            "ticks": ""
           },
           "baxis": {
            "gridcolor": "#DFE8F3",
            "linecolor": "#A2B1C6",
            "ticks": ""
           },
           "bgcolor": "white",
           "caxis": {
            "gridcolor": "#DFE8F3",
            "linecolor": "#A2B1C6",
            "ticks": ""
           }
          },
          "title": {
           "x": 0.05
          },
          "xaxis": {
           "automargin": true,
           "gridcolor": "#EBF0F8",
           "linecolor": "#EBF0F8",
           "ticks": "",
           "title": {
            "standoff": 15
           },
           "zerolinecolor": "#EBF0F8",
           "zerolinewidth": 2
          },
          "yaxis": {
           "automargin": true,
           "gridcolor": "#EBF0F8",
           "linecolor": "#EBF0F8",
           "ticks": "",
           "title": {
            "standoff": 15
           },
           "zerolinecolor": "#EBF0F8",
           "zerolinewidth": 2
          }
         }
        },
        "title": {
         "text": "6 months SPEI index, trends over time in Saudi Arabia in the month of June"
        },
        "xaxis": {
         "autorange": true,
         "range": [
          "1939-12-01 18:00",
          "2023-11-30 18:00"
         ],
         "title": {
          "text": "Years"
         },
         "type": "date"
        },
        "yaxis": {
         "autorange": true,
         "range": [
          -7.998794704403066,
          9.062606196654253
         ],
         "title": {
          "text": "SPEI6 Value"
         },
         "zeroline": true,
         "zerolinecolor": "#D3D3D3",
         "zerolinewidth": 1
        }
       }
      },
      "image/png": "[encoded data removed]",
      "text/html": [
       "<div>                            <div id=\"3775ad03-5f77-486a-bbdf-0df7a0a19573\" class=\"plotly-graph-div\" style=\"height:600px; width:100%;\"></div>            <script type=\"text/javascript\">                require([\"plotly\"], function(Plotly) {                    window.PLOTLYENV=window.PLOTLYENV || {};                                    if (document.getElementById(\"3775ad03-5f77-486a-bbdf-0df7a0a19573\")) {                    Plotly.newPlot(                        \"3775ad03-5f77-486a-bbdf-0df7a0a19573\",                        [{\"lowerfence\":[-2.0927101141379283],\"marker\":{\"color\":\"#A1F7D5\"},\"median\":[0.8965619813276131],\"name\":\"1940-06-01 06:00:00\",\"q1\":[-0.049095377276323036],\"q3\":[1.5020932191649528],\"showlegend\":false,\"upperfence\":[3.6890257016329713],\"whiskerwidth\":0.2,\"x\":[\"1940-06-01T06:00:00\"],\"type\":\"box\"},{\"lowerfence\":[-6.721101568653156],\"marker\":{\"color\":\"#FFBF69\"},\"median\":[-0.956364886169536],\"name\":\"1941-06-01 06:00:00\",\"q1\":[-1.6700446216612521],\"q3\":[-0.10015217463514008],\"showlegend\":false,\"upperfence\":[2.7327591595024305],\"whiskerwidth\":0.2,\"x\":[\"1941-06-01T06:00:00\"],\"type\":\"box\"},{\"lowerfence\":[-2.8072086132197565],\"marker\":{\"color\":\"#FFBF69\"},\"median\":[-0.8229516185273019],\"name\":\"1942-06-01 06:00:00\",\"q1\":[-1.412109125680986],\"q3\":[-0.06905480868646209],\"showlegend\":false,\"upperfence\":[4.751182210057856],\"whiskerwidth\":0.2,\"x\":[\"1942-06-01T06:00:00\"],\"type\":\"box\"},{\"lowerfence\":[-1.7574549039245937],\"marker\":{\"color\":\"#43EFAA\"},\"median\":[1.2718953868351766],\"name\":\"1943-06-01 06:00:00\",\"q1\":[0.4906982999675446],\"q3\":[1.8106049928788652],\"showlegend\":false,\"upperfence\":[8.209536151601387],\"whiskerwidth\":0.2,\"x\":[\"1943-06-01T06:00:00\"],\"type\":\"box\"},{\"lowerfence\":[-3.3025643191404184],\"marker\":{\"color\":\"#FFBF69\"},\"median\":[-0.13484531858228468],\"name\":\"1944-06-01 06:00:00\",\"q1\":[-1.135033486995938],\"q3\":[0.7950921779718114],\"showlegend\":false,\"upperfence\":[8.209536151601387],\"whiskerwidth\":0.2,\"x\":[\"1944-06-01T06:00:00\"],\"type\":\"box\"},{\"lowerfence\":[-2.578788048671074],\"marker\":{\"color\":\"#A1F7D5\"},\"median\":[0.19118992887876773],\"name\":\"1945-06-01 06:00:00\",\"q1\":[-0.3808694095313826],\"q3\":[0.8939450643589858],\"showlegend\":false,\"upperfence\":[3.098080719801458],\"whiskerwidth\":0.2,\"x\":[\"1945-06-01T06:00:00\"],\"type\":\"box\"},{\"lowerfence\":[-3.797411073923056],\"marker\":{\"color\":\"#FFBF69\"},\"median\":[-0.10712905272065464],\"name\":\"1946-06-01 06:00:00\",\"q1\":[-0.7951247669537784],\"q3\":[0.5778188565396304],\"showlegend\":false,\"upperfence\":[2.8016280887012184],\"whiskerwidth\":0.2,\"x\":[\"1946-06-01T06:00:00\"],\"type\":\"box\"},{\"lowerfence\":[-2.1309498166423495],\"marker\":{\"color\":\"#A1F7D5\"},\"median\":[0.8419298584842965],\"name\":\"1947-06-01 06:00:00\",\"q1\":[0.2937029304824878],\"q3\":[1.3587898343150773],\"showlegend\":false,\"upperfence\":[8.209536151601387],\"whiskerwidth\":0.2,\"x\":[\"1947-06-01T06:00:00\"],\"type\":\"box\"},{\"lowerfence\":[-1.887847025008647],\"marker\":{\"color\":\"#43EFAA\"},\"median\":[1.257827625013087],\"name\":\"1948-06-01 06:00:00\",\"q1\":[0.6331881933691302],\"q3\":[2.3375884809098397],\"showlegend\":false,\"upperfence\":[5.709032962602233],\"whiskerwidth\":0.2,\"x\":[\"1948-06-01T06:00:00\"],\"type\":\"box\"},{\"lowerfence\":[-1.8535972223263766],\"marker\":{\"color\":\"#43EFAA\"},\"median\":[1.451576404234743],\"name\":\"1949-06-01 06:00:00\",\"q1\":[0.7847214784890381],\"q3\":[1.8165614849424168],\"showlegend\":false,\"upperfence\":[8.209536151601387],\"whiskerwidth\":0.2,\"x\":[\"1949-06-01T06:00:00\"],\"type\":\"box\"},{\"lowerfence\":[-1.5439407055062506],\"marker\":{\"color\":\"#43EFAA\"},\"median\":[1.2036113182758346],\"name\":\"1950-06-01 06:00:00\",\"q1\":[0.6136367860935465],\"q3\":[1.8018504972022873],\"showlegend\":false,\"upperfence\":[8.209536151601387],\"whiskerwidth\":0.2,\"x\":[\"1950-06-01T06:00:00\"],\"type\":\"box\"},{\"lowerfence\":[-3.0662705068002136],\"marker\":{\"color\":\"#A1F7D5\"},\"median\":[0.5256685656920647],\"name\":\"1951-06-01 06:00:00\",\"q1\":[-0.10756621005380186],\"q3\":[1.325922983603401],\"showlegend\":false,\"upperfence\":[4.430303699398505],\"whiskerwidth\":0.2,\"x\":[\"1951-06-01T06:00:00\"],\"type\":\"box\"},{\"lowerfence\":[-2.238197454819027],\"marker\":{\"color\":\"#A1F7D5\"},\"median\":[0.4711657684190233],\"name\":\"1952-06-01 06:00:00\",\"q1\":[-0.10815282693126603],\"q3\":[1.1299633518105008],\"showlegend\":false,\"upperfence\":[6.109609239176854],\"whiskerwidth\":0.2,\"x\":[\"1952-06-01T06:00:00\"],\"type\":\"box\"},{\"lowerfence\":[-1.764321537369444],\"marker\":{\"color\":\"#A1F7D5\"},\"median\":[0.91887830328355],\"name\":\"1953-06-01 06:00:00\",\"q1\":[0.4180207683312182],\"q3\":[1.5701603719773025],\"showlegend\":false,\"upperfence\":[8.209536151601387],\"whiskerwidth\":0.2,\"x\":[\"1953-06-01T06:00:00\"],\"type\":\"box\"},{\"lowerfence\":[-3.8352305515890346],\"marker\":{\"color\":\"#FFBF69\"},\"median\":[-0.03111903998669914],\"name\":\"1954-06-01 06:00:00\",\"q1\":[-0.5928864172040468],\"q3\":[0.5470119762854605],\"showlegend\":false,\"upperfence\":[2.5282336575211097],\"whiskerwidth\":0.2,\"x\":[\"1954-06-01T06:00:00\"],\"type\":\"box\"},{\"lowerfence\":[-3.835399420542476],\"marker\":{\"color\":\"#A1F7D5\"},\"median\":[0.40730236696035477],\"name\":\"1955-06-01 06:00:00\",\"q1\":[-0.27624928477441435],\"q3\":[1.1304884970742046],\"showlegend\":false,\"upperfence\":[4.06333104668905],\"whiskerwidth\":0.2,\"x\":[\"1955-06-01T06:00:00\"],\"type\":\"box\"},{\"lowerfence\":[-4.476801869221881],\"marker\":{\"color\":\"#FFBF69\"},\"median\":[-0.4747945614135454],\"name\":\"1956-06-01 06:00:00\",\"q1\":[-1.1733878360247543],\"q3\":[0.13379910334927853],\"showlegend\":false,\"upperfence\":[2.8045944512378753],\"whiskerwidth\":0.2,\"x\":[\"1956-06-01T06:00:00\"],\"type\":\"box\"},{\"lowerfence\":[-0.7185645485696115],\"marker\":{\"color\":\"#0D965f\"},\"median\":[1.5435714337907522],\"name\":\"1957-06-01 06:00:00\",\"q1\":[1.1942791030986002],\"q3\":[1.9345690123931276],\"showlegend\":false,\"upperfence\":[4.115087621623683],\"whiskerwidth\":0.2,\"x\":[\"1957-06-01T06:00:00\"],\"type\":\"box\"},{\"lowerfence\":[-5.131130322663516],\"marker\":{\"color\":\"#FFBF69\"},\"median\":[-0.23481180721808703],\"name\":\"1958-06-01 06:00:00\",\"q1\":[-0.9306466871802277],\"q3\":[0.575537799309684],\"showlegend\":false,\"upperfence\":[2.2354700877308886],\"whiskerwidth\":0.2,\"x\":[\"1958-06-01T06:00:00\"],\"type\":\"box\"},{\"lowerfence\":[-2.3706145980725752],\"marker\":{\"color\":\"#A1F7D5\"},\"median\":[0.46694512054202014],\"name\":\"1959-06-01 06:00:00\",\"q1\":[-0.009036381338562988],\"q3\":[1.1458777928780015],\"showlegend\":false,\"upperfence\":[5.71177653087367],\"whiskerwidth\":0.2,\"x\":[\"1959-06-01T06:00:00\"],\"type\":\"box\"},{\"lowerfence\":[-2.611907821548152],\"marker\":{\"color\":\"#A1F7D5\"},\"median\":[0.13229877359569017],\"name\":\"1960-06-01 06:00:00\",\"q1\":[-0.4507705654241436],\"q3\":[0.9732815872030729],\"showlegend\":false,\"upperfence\":[3.30765876731602],\"whiskerwidth\":0.2,\"x\":[\"1960-06-01T06:00:00\"],\"type\":\"box\"},{\"lowerfence\":[-2.3495257333092496],\"marker\":{\"color\":\"#A1F7D5\"},\"median\":[0.43608807942691613],\"name\":\"1961-06-01 06:00:00\",\"q1\":[-0.11467301837936177],\"q3\":[0.8306357693505612],\"showlegend\":false,\"upperfence\":[4.772326782161533],\"whiskerwidth\":0.2,\"x\":[\"1961-06-01T06:00:00\"],\"type\":\"box\"},{\"lowerfence\":[-3.1307246975860696],\"marker\":{\"color\":\"#FFBF69\"},\"median\":[-0.6814641989521755],\"name\":\"1962-06-01 06:00:00\",\"q1\":[-1.0303463975987912],\"q3\":[-0.1231454639855119],\"showlegend\":false,\"upperfence\":[2.4037564152306055],\"whiskerwidth\":0.2,\"x\":[\"1962-06-01T06:00:00\"],\"type\":\"box\"},{\"lowerfence\":[-4.980975294613967],\"marker\":{\"color\":\"#A1F7D5\"},\"median\":[0.6993600541119813],\"name\":\"1963-06-01 06:00:00\",\"q1\":[0.06825674111270279],\"q3\":[1.3187399022542885],\"showlegend\":false,\"upperfence\":[8.209536151601387],\"whiskerwidth\":0.2,\"x\":[\"1963-06-01T06:00:00\"],\"type\":\"box\"},{\"lowerfence\":[-3.704830431429575],\"marker\":{\"color\":\"#A1F7D5\"},\"median\":[0.30553087379758176],\"name\":\"1964-06-01 06:00:00\",\"q1\":[-0.32481216588153317],\"q3\":[0.8984963945612543],\"showlegend\":false,\"upperfence\":[3.846903812530525],\"whiskerwidth\":0.2,\"x\":[\"1964-06-01T06:00:00\"],\"type\":\"box\"},{\"lowerfence\":[-5.318601603777791],\"marker\":{\"color\":\"#A1F7D5\"},\"median\":[0.3939941257411736],\"name\":\"1965-06-01 06:00:00\",\"q1\":[-0.10447907355434179],\"q3\":[0.9178860009073565],\"showlegend\":false,\"upperfence\":[2.8593059081584844],\"whiskerwidth\":0.2,\"x\":[\"1965-06-01T06:00:00\"],\"type\":\"box\"},{\"lowerfence\":[-5.119899298755318],\"marker\":{\"color\":\"#A1F7D5\"},\"median\":[0.07344435895652458],\"name\":\"1966-06-01 06:00:00\",\"q1\":[-0.6093987983085369],\"q3\":[0.5535372751803335],\"showlegend\":false,\"upperfence\":[8.209536151601387],\"whiskerwidth\":0.2,\"x\":[\"1966-06-01T06:00:00\"],\"type\":\"box\"},{\"lowerfence\":[-5.035299659182032],\"marker\":{\"color\":\"#A1F7D5\"},\"median\":[0.8536898389087799],\"name\":\"1967-06-01 06:00:00\",\"q1\":[0.12963826838802717],\"q3\":[1.308402552644532],\"showlegend\":false,\"upperfence\":[8.209536151601387],\"whiskerwidth\":0.2,\"x\":[\"1967-06-01T06:00:00\"],\"type\":\"box\"},{\"lowerfence\":[-2.551956165246191],\"marker\":{\"color\":\"#43EFAA\"},\"median\":[1.2146212885913628],\"name\":\"1968-06-01 06:00:00\",\"q1\":[0.7541619933011917],\"q3\":[1.6145725988222228],\"showlegend\":false,\"upperfence\":[4.868232618777006],\"whiskerwidth\":0.2,\"x\":[\"1968-06-01T06:00:00\"],\"type\":\"box\"},{\"lowerfence\":[-1.2258460160119662],\"marker\":{\"color\":\"#A1F7D5\"},\"median\":[0.6983772919983123],\"name\":\"1969-06-01 06:00:00\",\"q1\":[0.20071453587487065],\"q3\":[1.1552424264967727],\"showlegend\":false,\"upperfence\":[3.0461914850062706],\"whiskerwidth\":0.2,\"x\":[\"1969-06-01T06:00:00\"],\"type\":\"box\"},{\"lowerfence\":[-2.331267810737779],\"marker\":{\"color\":\"#FFBF69\"},\"median\":[-0.038726449864391485],\"name\":\"1970-06-01 06:00:00\",\"q1\":[-0.5913044506994759],\"q3\":[0.42533540714612167],\"showlegend\":false,\"upperfence\":[2.130615240164028],\"whiskerwidth\":0.2,\"x\":[\"1970-06-01T06:00:00\"],\"type\":\"box\"},{\"lowerfence\":[-1.904453754457876],\"marker\":{\"color\":\"#A1F7D5\"},\"median\":[0.8617779972589674],\"name\":\"1971-06-01 06:00:00\",\"q1\":[0.06274824967968246],\"q3\":[1.3621037113313192],\"showlegend\":false,\"upperfence\":[3.6958638334713503],\"whiskerwidth\":0.2,\"x\":[\"1971-06-01T06:00:00\"],\"type\":\"box\"},{\"lowerfence\":[-1.2585368446639085],\"marker\":{\"color\":\"#0D965f\"},\"median\":[1.925505162718385],\"name\":\"1972-06-01 06:00:00\",\"q1\":[1.606977601858268],\"q3\":[2.2770297503080794],\"showlegend\":false,\"upperfence\":[4.220561988468365],\"whiskerwidth\":0.2,\"x\":[\"1972-06-01T06:00:00\"],\"type\":\"box\"},{\"lowerfence\":[-2.963220987783426],\"marker\":{\"color\":\"#FFBF69\"},\"median\":[-0.7716379547582337],\"name\":\"1973-06-01 06:00:00\",\"q1\":[-1.1705933364929901],\"q3\":[-0.36270558497719957],\"showlegend\":false,\"upperfence\":[3.8365978864773296],\"whiskerwidth\":0.2,\"x\":[\"1973-06-01T06:00:00\"],\"type\":\"box\"},{\"lowerfence\":[-1.3149424071508637],\"marker\":{\"color\":\"#0D965f\"},\"median\":[1.5671785830285976],\"name\":\"1974-06-01 06:00:00\",\"q1\":[0.8560043509229881],\"q3\":[2.065779699010932],\"showlegend\":false,\"upperfence\":[4.552167588116217],\"whiskerwidth\":0.2,\"x\":[\"1974-06-01T06:00:00\"],\"type\":\"box\"},{\"lowerfence\":[-1.2604640892950192],\"marker\":{\"color\":\"#43EFAA\"},\"median\":[1.3458678174280128],\"name\":\"1975-06-01 06:00:00\",\"q1\":[0.42607339899273355],\"q3\":[1.9474791291913767],\"showlegend\":false,\"upperfence\":[4.1206349963345525],\"whiskerwidth\":0.2,\"x\":[\"1975-06-01T06:00:00\"],\"type\":\"box\"},{\"lowerfence\":[-1.5413404539118944],\"marker\":{\"color\":\"#43EFAA\"},\"median\":[1.2830733170180413],\"name\":\"1976-06-01 06:00:00\",\"q1\":[0.7631653849522809],\"q3\":[1.6372636675322352],\"showlegend\":false,\"upperfence\":[2.9021186911737638],\"whiskerwidth\":0.2,\"x\":[\"1976-06-01T06:00:00\"],\"type\":\"box\"},{\"lowerfence\":[-2.048663907513925],\"marker\":{\"color\":\"#A1F7D5\"},\"median\":[0.4071321867270246],\"name\":\"1977-06-01 06:00:00\",\"q1\":[-0.21340886072867812],\"q3\":[1.0715295176032773],\"showlegend\":false,\"upperfence\":[3.684335297999481],\"whiskerwidth\":0.2,\"x\":[\"1977-06-01T06:00:00\"],\"type\":\"box\"},{\"lowerfence\":[-3.5363823258221765],\"marker\":{\"color\":\"#FFBF69\"},\"median\":[-0.22248402168046813],\"name\":\"1978-06-01 06:00:00\",\"q1\":[-0.8376648328198207],\"q3\":[0.3556933206833338],\"showlegend\":false,\"upperfence\":[3.212534878500336],\"whiskerwidth\":0.2,\"x\":[\"1978-06-01T06:00:00\"],\"type\":\"box\"},{\"lowerfence\":[-1.767965679336727],\"marker\":{\"color\":\"#A1F7D5\"},\"median\":[0.14796608537866784],\"name\":\"1979-06-01 06:00:00\",\"q1\":[-0.3222089097779752],\"q3\":[0.5967600975479954],\"showlegend\":false,\"upperfence\":[4.719659290811835],\"whiskerwidth\":0.2,\"x\":[\"1979-06-01T06:00:00\"],\"type\":\"box\"},{\"lowerfence\":[-3.6773959807318235],\"marker\":{\"color\":\"#FFBF69\"},\"median\":[-0.18754702089396857],\"name\":\"1980-06-01 06:00:00\",\"q1\":[-0.712399337747734],\"q3\":[0.5532549382891864],\"showlegend\":false,\"upperfence\":[3.250345576571852],\"whiskerwidth\":0.2,\"x\":[\"1980-06-01T06:00:00\"],\"type\":\"box\"},{\"lowerfence\":[-1.601283549352841],\"marker\":{\"color\":\"#A1F7D5\"},\"median\":[0.1596316913983147],\"name\":\"1981-06-01 06:00:00\",\"q1\":[-0.27710173695510526],\"q3\":[0.6365522719774387],\"showlegend\":false,\"upperfence\":[2.524815303823073],\"whiskerwidth\":0.2,\"x\":[\"1981-06-01T06:00:00\"],\"type\":\"box\"},{\"lowerfence\":[-1.1995939980833583],\"marker\":{\"color\":\"#0D965f\"},\"median\":[1.7870694354464456],\"name\":\"1982-06-01 06:00:00\",\"q1\":[1.2435160441178343],\"q3\":[2.258676140113337],\"showlegend\":false,\"upperfence\":[4.117292014115392],\"whiskerwidth\":0.2,\"x\":[\"1982-06-01T06:00:00\"],\"type\":\"box\"},{\"lowerfence\":[-1.5004183376412763],\"marker\":{\"color\":\"#43EFAA\"},\"median\":[1.4790151549720716],\"name\":\"1983-06-01 06:00:00\",\"q1\":[0.9253383670449161],\"q3\":[2.3496191157459236],\"showlegend\":false,\"upperfence\":[4.822567089368522],\"whiskerwidth\":0.2,\"x\":[\"1983-06-01T06:00:00\"],\"type\":\"box\"},{\"lowerfence\":[-2.3898021440654826],\"marker\":{\"color\":\"#FFBF69\"},\"median\":[-0.3029346928334627],\"name\":\"1984-06-01 06:00:00\",\"q1\":[-0.7909266030762473],\"q3\":[0.11315375027396771],\"showlegend\":false,\"upperfence\":[2.83829375631541],\"whiskerwidth\":0.2,\"x\":[\"1984-06-01T06:00:00\"],\"type\":\"box\"},{\"lowerfence\":[-1.8747903491740938],\"marker\":{\"color\":\"#A1F7D5\"},\"median\":[0.16550233497384764],\"name\":\"1985-06-01 06:00:00\",\"q1\":[-0.5557821038511885],\"q3\":[0.7267251813269153],\"showlegend\":false,\"upperfence\":[3.7629446677629823],\"whiskerwidth\":0.2,\"x\":[\"1985-06-01T06:00:00\"],\"type\":\"box\"},{\"lowerfence\":[-1.311332069226823],\"marker\":{\"color\":\"#43EFAA\"},\"median\":[1.0750286009011738],\"name\":\"1986-06-01 06:00:00\",\"q1\":[0.23786985712039121],\"q3\":[1.5656185490250745],\"showlegend\":false,\"upperfence\":[4.037242865868791],\"whiskerwidth\":0.2,\"x\":[\"1986-06-01T06:00:00\"],\"type\":\"box\"},{\"lowerfence\":[-1.8928704124366063],\"marker\":{\"color\":\"#A1F7D5\"},\"median\":[0.3646544157351852],\"name\":\"1987-06-01 06:00:00\",\"q1\":[-0.13064162080294608],\"q3\":[0.8956668457973276],\"showlegend\":false,\"upperfence\":[3.7517131348120167],\"whiskerwidth\":0.2,\"x\":[\"1987-06-01T06:00:00\"],\"type\":\"box\"},{\"lowerfence\":[-1.9631724842778793],\"marker\":{\"color\":\"#A1F7D5\"},\"median\":[0.5277685528264111],\"name\":\"1988-06-01 06:00:00\",\"q1\":[0.054706139935390787],\"q3\":[1.0193244658972636],\"showlegend\":false,\"upperfence\":[3.613696144181114],\"whiskerwidth\":0.2,\"x\":[\"1988-06-01T06:00:00\"],\"type\":\"box\"},{\"lowerfence\":[-1.9074923546539537],\"marker\":{\"color\":\"#A1F7D5\"},\"median\":[0.7419011979876841],\"name\":\"1989-06-01 06:00:00\",\"q1\":[0.13883026848293636],\"q3\":[1.3414703978414944],\"showlegend\":false,\"upperfence\":[3.454658808507869],\"whiskerwidth\":0.2,\"x\":[\"1989-06-01T06:00:00\"],\"type\":\"box\"},{\"lowerfence\":[-1.7591580225385155],\"marker\":{\"color\":\"#A1F7D5\"},\"median\":[0.4436856147731569],\"name\":\"1990-06-01 06:00:00\",\"q1\":[-0.09697987993645794],\"q3\":[0.842119329496608],\"showlegend\":false,\"upperfence\":[3.27646574024278],\"whiskerwidth\":0.2,\"x\":[\"1990-06-01T06:00:00\"],\"type\":\"box\"},{\"lowerfence\":[-1.8928371002614155],\"marker\":{\"color\":\"#A1F7D5\"},\"median\":[0.7133327101270497],\"name\":\"1991-06-01 06:00:00\",\"q1\":[0.07185753619652031],\"q3\":[1.19121164566566],\"showlegend\":false,\"upperfence\":[2.5964097365539986],\"whiskerwidth\":0.2,\"x\":[\"1991-06-01T06:00:00\"],\"type\":\"box\"},{\"lowerfence\":[-2.4236263139898493],\"marker\":{\"color\":\"#43EFAA\"},\"median\":[1.1982740037884505],\"name\":\"1992-06-01 06:00:00\",\"q1\":[0.8601172593684546],\"q3\":[1.564902177903334],\"showlegend\":false,\"upperfence\":[3.065299375391297],\"whiskerwidth\":0.2,\"x\":[\"1992-06-01T06:00:00\"],\"type\":\"box\"},{\"lowerfence\":[-0.9846573043526743],\"marker\":{\"color\":\"#0D965f\"},\"median\":[1.6144778794911376],\"name\":\"1993-06-01 06:00:00\",\"q1\":[1.1653278683986656],\"q3\":[2.039014023198413],\"showlegend\":false,\"upperfence\":[3.505493419871236],\"whiskerwidth\":0.2,\"x\":[\"1993-06-01T06:00:00\"],\"type\":\"box\"},{\"lowerfence\":[-2.09526005024412],\"marker\":{\"color\":\"#FFBF69\"},\"median\":[-0.2572307578218707],\"name\":\"1994-06-01 06:00:00\",\"q1\":[-0.727109706051582],\"q3\":[0.396707595002395],\"showlegend\":false,\"upperfence\":[3.3858888651559784],\"whiskerwidth\":0.2,\"x\":[\"1994-06-01T06:00:00\"],\"type\":\"box\"},{\"lowerfence\":[-2.0167024240628066],\"marker\":{\"color\":\"#A1F7D5\"},\"median\":[0.9838630235945787],\"name\":\"1995-06-01 06:00:00\",\"q1\":[0.580554030394393],\"q3\":[1.440812084122236],\"showlegend\":false,\"upperfence\":[3.790462659756601],\"whiskerwidth\":0.2,\"x\":[\"1995-06-01T06:00:00\"],\"type\":\"box\"},{\"lowerfence\":[-1.531447095196142],\"marker\":{\"color\":\"#43EFAA\"},\"median\":[1.1972713848846448],\"name\":\"1996-06-01 06:00:00\",\"q1\":[0.4261247075935178],\"q3\":[1.7113517174775636],\"showlegend\":false,\"upperfence\":[4.882006678206007],\"whiskerwidth\":0.2,\"x\":[\"1996-06-01T06:00:00\"],\"type\":\"box\"},{\"lowerfence\":[-1.4334300769565518],\"marker\":{\"color\":\"#A1F7D5\"},\"median\":[0.9038059438872131],\"name\":\"1997-06-01 06:00:00\",\"q1\":[0.524822374540493],\"q3\":[1.3607589058777532],\"showlegend\":false,\"upperfence\":[4.3157600704738766],\"whiskerwidth\":0.2,\"x\":[\"1997-06-01T06:00:00\"],\"type\":\"box\"},{\"lowerfence\":[-2.1488689114651844],\"marker\":{\"color\":\"#A1F7D5\"},\"median\":[0.8743732499965919],\"name\":\"1998-06-01 06:00:00\",\"q1\":[0.05465894577645231],\"q3\":[1.2452495218424777],\"showlegend\":false,\"upperfence\":[2.3513119925054227],\"whiskerwidth\":0.2,\"x\":[\"1998-06-01T06:00:00\"],\"type\":\"box\"},{\"lowerfence\":[-2.2476959627298516],\"marker\":{\"color\":\"#FFBF69\"},\"median\":[-0.1524826030194606],\"name\":\"1999-06-01 06:00:00\",\"q1\":[-0.6270558745587841],\"q3\":[0.4972767359876523],\"showlegend\":false,\"upperfence\":[3.4174389535734555],\"whiskerwidth\":0.2,\"x\":[\"1999-06-01T06:00:00\"],\"type\":\"box\"},{\"lowerfence\":[-2.5426432959736194],\"marker\":{\"color\":\"#FF961F\"},\"median\":[-1.2637504672880897],\"name\":\"2000-06-01 06:00:00\",\"q1\":[-1.6696095726096858],\"q3\":[-0.7087369040420215],\"showlegend\":false,\"upperfence\":[2.927957391648355],\"whiskerwidth\":0.2,\"x\":[\"2000-06-01T06:00:00\"],\"type\":\"box\"},{\"lowerfence\":[-2.4403930230681152],\"marker\":{\"color\":\"#FFBF69\"},\"median\":[-0.5232775800166857],\"name\":\"2001-06-01 06:00:00\",\"q1\":[-1.0383686302237618],\"q3\":[0.03350605137716407],\"showlegend\":false,\"upperfence\":[2.413306096445152],\"whiskerwidth\":0.2,\"x\":[\"2001-06-01T06:00:00\"],\"type\":\"box\"},{\"lowerfence\":[-1.9790698407767966],\"marker\":{\"color\":\"#A1F7D5\"},\"median\":[0.2465902902280876],\"name\":\"2002-06-01 06:00:00\",\"q1\":[-0.18348003995884563],\"q3\":[0.616921713558673],\"showlegend\":false,\"upperfence\":[3.1764176962109616],\"whiskerwidth\":0.2,\"x\":[\"2002-06-01T06:00:00\"],\"type\":\"box\"},{\"lowerfence\":[-2.0527008977424237],\"marker\":{\"color\":\"#FFBF69\"},\"median\":[-0.7172203673427827],\"name\":\"2003-06-01 06:00:00\",\"q1\":[-1.0446411854212243],\"q3\":[-0.31389594720254654],\"showlegend\":false,\"upperfence\":[1.1397464333394565],\"whiskerwidth\":0.2,\"x\":[\"2003-06-01T06:00:00\"],\"type\":\"box\"},{\"lowerfence\":[-2.1994372515804623],\"marker\":{\"color\":\"#FFBF69\"},\"median\":[-0.22584145950543427],\"name\":\"2004-06-01 06:00:00\",\"q1\":[-0.714088913315443],\"q3\":[0.4345729454149688],\"showlegend\":false,\"upperfence\":[2.288703044859364],\"whiskerwidth\":0.2,\"x\":[\"2004-06-01T06:00:00\"],\"type\":\"box\"},{\"lowerfence\":[-1.4788111149831955],\"marker\":{\"color\":\"#A1F7D5\"},\"median\":[0.3794294798622215],\"name\":\"2005-06-01 06:00:00\",\"q1\":[0.028698399297720174],\"q3\":[0.7618554729676487],\"showlegend\":false,\"upperfence\":[2.0452131012406487],\"whiskerwidth\":0.2,\"x\":[\"2005-06-01T06:00:00\"],\"type\":\"box\"},{\"lowerfence\":[-1.457030097174866],\"marker\":{\"color\":\"#A1F7D5\"},\"median\":[0.01131353299905455],\"name\":\"2006-06-01 06:00:00\",\"q1\":[-0.36131449236560104],\"q3\":[0.4380144800614055],\"showlegend\":false,\"upperfence\":[2.973075610608495],\"whiskerwidth\":0.2,\"x\":[\"2006-06-01T06:00:00\"],\"type\":\"box\"},{\"lowerfence\":[-2.4005902354640916],\"marker\":{\"color\":\"#FFBF69\"},\"median\":[-0.0945781301556113],\"name\":\"2007-06-01 06:00:00\",\"q1\":[-0.6008547643997515],\"q3\":[0.4368047177122907],\"showlegend\":false,\"upperfence\":[3.0974027237879938],\"whiskerwidth\":0.2,\"x\":[\"2007-06-01T06:00:00\"],\"type\":\"box\"},{\"lowerfence\":[-2.5289110483584976],\"marker\":{\"color\":\"#FFBF69\"},\"median\":[-0.9005848152449724],\"name\":\"2008-06-01 06:00:00\",\"q1\":[-1.413615228834149],\"q3\":[-0.3817222346023102],\"showlegend\":false,\"upperfence\":[3.1635145416714026],\"whiskerwidth\":0.2,\"x\":[\"2008-06-01T06:00:00\"],\"type\":\"box\"},{\"lowerfence\":[-2.5662010378277027],\"marker\":{\"color\":\"#FFBF69\"},\"median\":[-0.5066602905952156],\"name\":\"2009-06-01 06:00:00\",\"q1\":[-0.9969400753854494],\"q3\":[-0.01976022479036973],\"showlegend\":false,\"upperfence\":[1.9864393877687687],\"whiskerwidth\":0.2,\"x\":[\"2009-06-01T06:00:00\"],\"type\":\"box\"},{\"lowerfence\":[-2.317609055399065],\"marker\":{\"color\":\"#FFBF69\"},\"median\":[-0.9261600617348837],\"name\":\"2010-06-01 06:00:00\",\"q1\":[-1.2599721315004866],\"q3\":[-0.5712043934545575],\"showlegend\":false,\"upperfence\":[2.695852630670604],\"whiskerwidth\":0.2,\"x\":[\"2010-06-01T06:00:00\"],\"type\":\"box\"},{\"lowerfence\":[-1.9758426270080556],\"marker\":{\"color\":\"#A1F7D5\"},\"median\":[0.023401800022082225],\"name\":\"2011-06-01 06:00:00\",\"q1\":[-0.3848783199988087],\"q3\":[0.35469468507587293],\"showlegend\":false,\"upperfence\":[2.346841612724128],\"whiskerwidth\":0.2,\"x\":[\"2011-06-01T06:00:00\"],\"type\":\"box\"},{\"lowerfence\":[-2.3611689746340003],\"marker\":{\"color\":\"#FFBF69\"},\"median\":[-0.9798874532268437],\"name\":\"2012-06-01 06:00:00\",\"q1\":[-1.286079332221719],\"q3\":[-0.6214115307510908],\"showlegend\":false,\"upperfence\":[1.4515496491530366],\"whiskerwidth\":0.2,\"x\":[\"2012-06-01T06:00:00\"],\"type\":\"box\"},{\"lowerfence\":[-2.421314428087023],\"marker\":{\"color\":\"#FFBF69\"},\"median\":[-0.06527634350116328],\"name\":\"2013-06-01 06:00:00\",\"q1\":[-0.5727052382032112],\"q3\":[0.6286021562789351],\"showlegend\":false,\"upperfence\":[3.6023605889194403],\"whiskerwidth\":0.2,\"x\":[\"2013-06-01T06:00:00\"],\"type\":\"box\"},{\"lowerfence\":[-2.1472252994897882],\"marker\":{\"color\":\"#A1F7D5\"},\"median\":[0.0017761010661504202],\"name\":\"2014-06-01 06:00:00\",\"q1\":[-0.5260193045429016],\"q3\":[0.5073825135644783],\"showlegend\":false,\"upperfence\":[3.1600572634033712],\"whiskerwidth\":0.2,\"x\":[\"2014-06-01T06:00:00\"],\"type\":\"box\"},{\"lowerfence\":[-2.5015351747905243],\"marker\":{\"color\":\"#FF961F\"},\"median\":[-1.1653398430566364],\"name\":\"2015-06-01 06:00:00\",\"q1\":[-1.5387405057914116],\"q3\":[-0.7217159492194934],\"showlegend\":false,\"upperfence\":[1.308093915690642],\"whiskerwidth\":0.2,\"x\":[\"2015-06-01T06:00:00\"],\"type\":\"box\"},{\"lowerfence\":[-2.5298555649906724],\"marker\":{\"color\":\"#FFBF69\"},\"median\":[-0.11029539628793333],\"name\":\"2016-06-01 06:00:00\",\"q1\":[-0.6665273437892354],\"q3\":[0.5627101369927872],\"showlegend\":false,\"upperfence\":[3.0935949650241477],\"whiskerwidth\":0.2,\"x\":[\"2016-06-01T06:00:00\"],\"type\":\"box\"},{\"lowerfence\":[-2.1666100131754487],\"marker\":{\"color\":\"#FFBF69\"},\"median\":[-0.3827883658348536],\"name\":\"2017-06-01 06:00:00\",\"q1\":[-0.9305321044512449],\"q3\":[0.5458111291829131],\"showlegend\":false,\"upperfence\":[3.0574033101899802],\"whiskerwidth\":0.2,\"x\":[\"2017-06-01T06:00:00\"],\"type\":\"box\"},{\"lowerfence\":[-2.5497728698697784],\"marker\":{\"color\":\"#FFBF69\"},\"median\":[-0.6418612282564373],\"name\":\"2018-06-01 06:00:00\",\"q1\":[-1.1503396015486735],\"q3\":[-0.017280784102786235],\"showlegend\":false,\"upperfence\":[3.5739693062316817],\"whiskerwidth\":0.2,\"x\":[\"2018-06-01T06:00:00\"],\"type\":\"box\"},{\"lowerfence\":[-2.539659449723513],\"marker\":{\"color\":\"#A1F7D5\"},\"median\":[0.28477618274221067],\"name\":\"2019-06-01 06:00:00\",\"q1\":[-0.3207131897632513],\"q3\":[0.739907265539561],\"showlegend\":false,\"upperfence\":[3.166213718098427],\"whiskerwidth\":0.2,\"x\":[\"2019-06-01T06:00:00\"],\"type\":\"box\"},{\"lowerfence\":[-2.2214108363115006],\"marker\":{\"color\":\"#FFBF69\"},\"median\":[-0.3261355660245486],\"name\":\"2020-06-01 06:00:00\",\"q1\":[-0.9869870485622224],\"q3\":[0.4262534940981184],\"showlegend\":false,\"upperfence\":[4.76154924087369],\"whiskerwidth\":0.2,\"x\":[\"2020-06-01T06:00:00\"],\"type\":\"box\"},{\"lowerfence\":[-7.1457246593502],\"marker\":{\"color\":\"#8F5100\"},\"median\":[-1.6488703355397594],\"name\":\"2021-06-01 06:00:00\",\"q1\":[-2.3870826375680103],\"q3\":[-0.9882518554814937],\"showlegend\":false,\"upperfence\":[3.07804194237946],\"whiskerwidth\":0.2,\"x\":[\"2021-06-01T06:00:00\"],\"type\":\"box\"},{\"lowerfence\":[-4.658109351730646],\"marker\":{\"color\":\"#FF961F\"},\"median\":[-1.325391642298555],\"name\":\"2022-06-01 06:00:00\",\"q1\":[-1.7181561207499088],\"q3\":[-0.9867319023917688],\"showlegend\":false,\"upperfence\":[3.546445437038613],\"whiskerwidth\":0.2,\"x\":[\"2022-06-01T06:00:00\"],\"type\":\"box\"},{\"lowerfence\":[-1.4016355630284094],\"marker\":{\"color\":\"#A1F7D5\"},\"median\":[0.7359916553269469],\"name\":\"2023-06-01 06:00:00\",\"q1\":[0.09819599875181896],\"q3\":[1.2529089740317079],\"showlegend\":false,\"upperfence\":[3.3964047062042417],\"whiskerwidth\":0.2,\"x\":[\"2023-06-01T06:00:00\"],\"type\":\"box\"},{\"hoverinfo\":\"none\",\"legendgroup\":\"colors\",\"marker\":{\"color\":\"#074B30\"},\"name\":\"Extremely wet\",\"showlegend\":true,\"x\":[null],\"y\":[null],\"type\":\"box\"},{\"hoverinfo\":\"none\",\"legendgroup\":\"colors\",\"marker\":{\"color\":\"#0D965f\"},\"name\":\"Severely wet\",\"showlegend\":true,\"x\":[null],\"y\":[null],\"type\":\"box\"},{\"hoverinfo\":\"none\",\"legendgroup\":\"colors\",\"marker\":{\"color\":\"#43EFAA\"},\"name\":\"Moderately wet\",\"showlegend\":true,\"x\":[null],\"y\":[null],\"type\":\"box\"},{\"hoverinfo\":\"none\",\"legendgroup\":\"colors\",\"marker\":{\"color\":\"#A1F7D5\"},\"name\":\"Mildly wet\",\"showlegend\":true,\"x\":[null],\"y\":[null],\"type\":\"box\"},{\"hoverinfo\":\"none\",\"legendgroup\":\"colors\",\"marker\":{\"color\":\"#FFBF69\"},\"name\":\"Mildly dry\",\"showlegend\":true,\"x\":[null],\"y\":[null],\"type\":\"box\"},{\"hoverinfo\":\"none\",\"legendgroup\":\"colors\",\"marker\":{\"color\":\"#FF961F\"},\"name\":\"Moderately dry\",\"showlegend\":true,\"x\":[null],\"y\":[null],\"type\":\"box\"},{\"hoverinfo\":\"none\",\"legendgroup\":\"colors\",\"marker\":{\"color\":\"#8F5100\"},\"name\":\"Severely dry\",\"showlegend\":true,\"x\":[null],\"y\":[null],\"type\":\"box\"},{\"hoverinfo\":\"none\",\"legendgroup\":\"colors\",\"marker\":{\"color\":\"#3d2100\"},\"name\":\"Extremely dry\",\"showlegend\":true,\"x\":[null],\"y\":[null],\"type\":\"box\"}],                        {\"template\":{\"data\":{\"barpolar\":[{\"marker\":{\"line\":{\"color\":\"white\",\"width\":0.5},\"pattern\":{\"fillmode\":\"overlay\",\"size\":10,\"solidity\":0.2}},\"type\":\"barpolar\"}],\"bar\":[{\"error_x\":{\"color\":\"#2a3f5f\"},\"error_y\":{\"color\":\"#2a3f5f\"},\"marker\":{\"line\":{\"color\":\"white\",\"width\":0.5},\"pattern\":{\"fillmode\":\"overlay\",\"size\":10,\"solidity\":0.2}},\"type\":\"bar\"}],\"carpet\":[{\"aaxis\":{\"endlinecolor\":\"#2a3f5f\",\"gridcolor\":\"#C8D4E3\",\"linecolor\":\"#C8D4E3\",\"minorgridcolor\":\"#C8D4E3\",\"startlinecolor\":\"#2a3f5f\"},\"baxis\":{\"endlinecolor\":\"#2a3f5f\",\"gridcolor\":\"#C8D4E3\",\"linecolor\":\"#C8D4E3\",\"minorgridcolor\":\"#C8D4E3\",\"startlinecolor\":\"#2a3f5f\"},\"type\":\"carpet\"}],\"choropleth\":[{\"colorbar\":{\"outlinewidth\":0,\"ticks\":\"\"},\"type\":\"choropleth\"}],\"contourcarpet\":[{\"colorbar\":{\"outlinewidth\":0,\"ticks\":\"\"},\"type\":\"contourcarpet\"}],\"contour\":[{\"colorbar\":{\"outlinewidth\":0,\"ticks\":\"\"},\"colorscale\":[[0.0,\"#0d0887\"],[0.1111111111111111,\"#46039f\"],[0.2222222222222222,\"#7201a8\"],[0.3333333333333333,\"#9c179e\"],[0.4444444444444444,\"#bd3786\"],[0.5555555555555556,\"#d8576b\"],[0.6666666666666666,\"#ed7953\"],[0.7777777777777778,\"#fb9f3a\"],[0.8888888888888888,\"#fdca26\"],[1.0,\"#f0f921\"]],\"type\":\"contour\"}],\"heatmapgl\":[{\"colorbar\":{\"outlinewidth\":0,\"ticks\":\"\"},\"colorscale\":[[0.0,\"#0d0887\"],[0.1111111111111111,\"#46039f\"],[0.2222222222222222,\"#7201a8\"],[0.3333333333333333,\"#9c179e\"],[0.4444444444444444,\"#bd3786\"],[0.5555555555555556,\"#d8576b\"],[0.6666666666666666,\"#ed7953\"],[0.7777777777777778,\"#fb9f3a\"],[0.8888888888888888,\"#fdca26\"],[1.0,\"#f0f921\"]],\"type\":\"heatmapgl\"}],\"heatmap\":[{\"colorbar\":{\"outlinewidth\":0,\"ticks\":\"\"},\"colorscale\":[[0.0,\"#0d0887\"],[0.1111111111111111,\"#46039f\"],[0.2222222222222222,\"#7201a8\"],[0.3333333333333333,\"#9c179e\"],[0.4444444444444444,\"#bd3786\"],[0.5555555555555556,\"#d8576b\"],[0.6666666666666666,\"#ed7953\"],[0.7777777777777778,\"#fb9f3a\"],[0.8888888888888888,\"#fdca26\"],[1.0,\"#f0f921\"]],\"type\":\"heatmap\"}],\"histogram2dcontour\":[{\"colorbar\":{\"outlinewidth\":0,\"ticks\":\"\"},\"colorscale\":[[0.0,\"#0d0887\"],[0.1111111111111111,\"#46039f\"],[0.2222222222222222,\"#7201a8\"],[0.3333333333333333,\"#9c179e\"],[0.4444444444444444,\"#bd3786\"],[0.5555555555555556,\"#d8576b\"],[0.6666666666666666,\"#ed7953\"],[0.7777777777777778,\"#fb9f3a\"],[0.8888888888888888,\"#fdca26\"],[1.0,\"#f0f921\"]],\"type\":\"histogram2dcontour\"}],\"histogram2d\":[{\"colorbar\":{\"outlinewidth\":0,\"ticks\":\"\"},\"colorscale\":[[0.0,\"#0d0887\"],[0.1111111111111111,\"#46039f\"],[0.2222222222222222,\"#7201a8\"],[0.3333333333333333,\"#9c179e\"],[0.4444444444444444,\"#bd3786\"],[0.5555555555555556,\"#d8576b\"],[0.6666666666666666,\"#ed7953\"],[0.7777777777777778,\"#fb9f3a\"],[0.8888888888888888,\"#fdca26\"],[1.0,\"#f0f921\"]],\"type\":\"histogram2d\"}],\"histogram\":[{\"marker\":{\"pattern\":{\"fillmode\":\"overlay\",\"size\":10,\"solidity\":0.2}},\"type\":\"histogram\"}],\"mesh3d\":[{\"colorbar\":{\"outlinewidth\":0,\"ticks\":\"\"},\"type\":\"mesh3d\"}],\"parcoords\":[{\"line\":{\"colorbar\":{\"outlinewidth\":0,\"ticks\":\"\"}},\"type\":\"parcoords\"}],\"pie\":[{\"automargin\":true,\"type\":\"pie\"}],\"scatter3d\":[{\"line\":{\"colorbar\":{\"outlinewidth\":0,\"ticks\":\"\"}},\"marker\":{\"colorbar\":{\"outlinewidth\":0,\"ticks\":\"\"}},\"type\":\"scatter3d\"}],\"scattercarpet\":[{\"marker\":{\"colorbar\":{\"outlinewidth\":0,\"ticks\":\"\"}},\"type\":\"scattercarpet\"}],\"scattergeo\":[{\"marker\":{\"colorbar\":{\"outlinewidth\":0,\"ticks\":\"\"}},\"type\":\"scattergeo\"}],\"scattergl\":[{\"marker\":{\"colorbar\":{\"outlinewidth\":0,\"ticks\":\"\"}},\"type\":\"scattergl\"}],\"scattermapbox\":[{\"marker\":{\"colorbar\":{\"outlinewidth\":0,\"ticks\":\"\"}},\"type\":\"scattermapbox\"}],\"scatterpolargl\":[{\"marker\":{\"colorbar\":{\"outlinewidth\":0,\"ticks\":\"\"}},\"type\":\"scatterpolargl\"}],\"scatterpolar\":[{\"marker\":{\"colorbar\":{\"outlinewidth\":0,\"ticks\":\"\"}},\"type\":\"scatterpolar\"}],\"scatter\":[{\"fillpattern\":{\"fillmode\":\"overlay\",\"size\":10,\"solidity\":0.2},\"type\":\"scatter\"}],\"scatterternary\":[{\"marker\":{\"colorbar\":{\"outlinewidth\":0,\"ticks\":\"\"}},\"type\":\"scatterternary\"}],\"surface\":[{\"colorbar\":{\"outlinewidth\":0,\"ticks\":\"\"},\"colorscale\":[[0.0,\"#0d0887\"],[0.1111111111111111,\"#46039f\"],[0.2222222222222222,\"#7201a8\"],[0.3333333333333333,\"#9c179e\"],[0.4444444444444444,\"#bd3786\"],[0.5555555555555556,\"#d8576b\"],[0.6666666666666666,\"#ed7953\"],[0.7777777777777778,\"#fb9f3a\"],[0.8888888888888888,\"#fdca26\"],[1.0,\"#f0f921\"]],\"type\":\"surface\"}],\"table\":[{\"cells\":{\"fill\":{\"color\":\"#EBF0F8\"},\"line\":{\"color\":\"white\"}},\"header\":{\"fill\":{\"color\":\"#C8D4E3\"},\"line\":{\"color\":\"white\"}},\"type\":\"table\"}]},\"layout\":{\"annotationdefaults\":{\"arrowcolor\":\"#2a3f5f\",\"arrowhead\":0,\"arrowwidth\":1},\"autotypenumbers\":\"strict\",\"coloraxis\":{\"colorbar\":{\"outlinewidth\":0,\"ticks\":\"\"}},\"colorscale\":{\"diverging\":[[0,\"#8e0152\"],[0.1,\"#c51b7d\"],[0.2,\"#de77ae\"],[0.3,\"#f1b6da\"],[0.4,\"#fde0ef\"],[0.5,\"#f7f7f7\"],[0.6,\"#e6f5d0\"],[0.7,\"#b8e186\"],[0.8,\"#7fbc41\"],[0.9,\"#4d9221\"],[1,\"#276419\"]],\"sequential\":[[0.0,\"#0d0887\"],[0.1111111111111111,\"#46039f\"],[0.2222222222222222,\"#7201a8\"],[0.3333333333333333,\"#9c179e\"],[0.4444444444444444,\"#bd3786\"],[0.5555555555555556,\"#d8576b\"],[0.6666666666666666,\"#ed7953\"],[0.7777777777777778,\"#fb9f3a\"],[0.8888888888888888,\"#fdca26\"],[1.0,\"#f0f921\"]],\"sequentialminus\":[[0.0,\"#0d0887\"],[0.1111111111111111,\"#46039f\"],[0.2222222222222222,\"#7201a8\"],[0.3333333333333333,\"#9c179e\"],[0.4444444444444444,\"#bd3786\"],[0.5555555555555556,\"#d8576b\"],[0.6666666666666666,\"#ed7953\"],[0.7777777777777778,\"#fb9f3a\"],[0.8888888888888888,\"#fdca26\"],[1.0,\"#f0f921\"]]},\"colorway\":[\"#636efa\",\"#EF553B\",\"#00cc96\",\"#ab63fa\",\"#FFA15A\",\"#19d3f3\",\"#FF6692\",\"#B6E880\",\"#FF97FF\",\"#FECB52\"],\"font\":{\"color\":\"#2a3f5f\"},\"geo\":{\"bgcolor\":\"white\",\"lakecolor\":\"white\",\"landcolor\":\"white\",\"showlakes\":true,\"showland\":true,\"subunitcolor\":\"#C8D4E3\"},\"hoverlabel\":{\"align\":\"left\"},\"hovermode\":\"closest\",\"mapbox\":{\"style\":\"light\"},\"paper_bgcolor\":\"white\",\"plot_bgcolor\":\"white\",\"polar\":{\"angularaxis\":{\"gridcolor\":\"#EBF0F8\",\"linecolor\":\"#EBF0F8\",\"ticks\":\"\"},\"bgcolor\":\"white\",\"radialaxis\":{\"gridcolor\":\"#EBF0F8\",\"linecolor\":\"#EBF0F8\",\"ticks\":\"\"}},\"scene\":{\"xaxis\":{\"backgroundcolor\":\"white\",\"gridcolor\":\"#DFE8F3\",\"gridwidth\":2,\"linecolor\":\"#EBF0F8\",\"showbackground\":true,\"ticks\":\"\",\"zerolinecolor\":\"#EBF0F8\"},\"yaxis\":{\"backgroundcolor\":\"white\",\"gridcolor\":\"#DFE8F3\",\"gridwidth\":2,\"linecolor\":\"#EBF0F8\",\"showbackground\":true,\"ticks\":\"\",\"zerolinecolor\":\"#EBF0F8\"},\"zaxis\":{\"backgroundcolor\":\"white\",\"gridcolor\":\"#DFE8F3\",\"gridwidth\":2,\"linecolor\":\"#EBF0F8\",\"showbackground\":true,\"ticks\":\"\",\"zerolinecolor\":\"#EBF0F8\"}},\"shapedefaults\":{\"line\":{\"color\":\"#2a3f5f\"}},\"ternary\":{\"aaxis\":{\"gridcolor\":\"#DFE8F3\",\"linecolor\":\"#A2B1C6\",\"ticks\":\"\"},\"baxis\":{\"gridcolor\":\"#DFE8F3\",\"linecolor\":\"#A2B1C6\",\"ticks\":\"\"},\"bgcolor\":\"white\",\"caxis\":{\"gridcolor\":\"#DFE8F3\",\"linecolor\":\"#A2B1C6\",\"ticks\":\"\"}},\"title\":{\"x\":0.05},\"xaxis\":{\"automargin\":true,\"gridcolor\":\"#EBF0F8\",\"linecolor\":\"#EBF0F8\",\"ticks\":\"\",\"title\":{\"standoff\":15},\"zerolinecolor\":\"#EBF0F8\",\"zerolinewidth\":2},\"yaxis\":{\"automargin\":true,\"gridcolor\":\"#EBF0F8\",\"linecolor\":\"#EBF0F8\",\"ticks\":\"\",\"title\":{\"standoff\":15},\"zerolinecolor\":\"#EBF0F8\",\"zerolinewidth\":2}}},\"yaxis\":{\"title\":{\"text\":\"SPEI6 Value\"},\"zeroline\":true,\"zerolinewidth\":1,\"zerolinecolor\":\"#D3D3D3\"},\"title\":{\"text\":\"6 months SPEI index, trends over time in Saudi Arabia in the month of June\"},\"xaxis\":{\"title\":{\"text\":\"Years\"}},\"height\":600,\"plot_bgcolor\":\"rgba(0,0,0,0)\",\"legend\":{\"title\":{\"text\":\"SPEI Categories\"}},\"showlegend\":true},                        {\"responsive\": true}                    ).then(function(){\n",
       "                            \n",
       "var gd = document.getElementById('3775ad03-5f77-486a-bbdf-0df7a0a19573');\n",
       "var x = new MutationObserver(function (mutations, observer) {{\n",
       "        var display = window.getComputedStyle(gd).display;\n",
       "        if (!display || display === 'none') {{\n",
       "            console.log([gd, 'removed!']);\n",
       "            Plotly.purge(gd);\n",
       "            observer.disconnect();\n",
       "        }}\n",
       "}});\n",
       "\n",
       "// Listen for the removal of the full notebook cells\n",
       "var notebookContainer = gd.closest('#notebook-container');\n",
       "if (notebookContainer) {{\n",
       "    x.observe(notebookContainer, {childList: true});\n",
       "}}\n",
       "\n",
       "// Listen for the clearing of the current output cell\n",
       "var outputEl = gd.closest('.output');\n",
       "if (outputEl) {{\n",
       "    x.observe(outputEl, {childList: true});\n",
       "}}\n",
       "\n",
       "                        })                };                });            </script>        </div>"
      ]
     },
     "metadata": {},
     "output_type": "display_data"
    }
   ],
   "source": [
    "charts.create_boxplot(stat_values, timescales, selected, placeholders)"
   ]
  },
  {
   "cell_type": "code",
   "execution_count": 16,
   "id": "f1c0853a-f960-4ab1-b8a2-c74120418966",
   "metadata": {},
   "outputs": [
    {
     "data": {
      "application/vnd.plotly.v1+json": {
       "config": {
        "plotlyServerURL": "https://plot.ly"
       },
       "data": [
        {
         "error_y": {
          "array": [
           1.063841933119824,
           1.217067906637316,
           0.9561208988969988,
           1.4907685084427416,
           1.8007742877962047,
           0.9181399516595359,
           0.8910815197525854,
           1.036862547289817,
           1.2679442346398089,
           1.0340854446902825,
           1.2798741592847414,
           1.0847679116049875,
           1.1446001463598687,
           1.1776201785934124,
           0.777689071810045,
           1.0466371682937365,
           0.8687005101524594,
           0.6068122674064274,
           1.060763048245165,
           1.135777732635319,
           0.9594303335649355,
           0.8041229025766271,
           0.7560412420402629,
           1.052455093713836,
           0.9256713281787748,
           0.8827109823870558,
           1.1768344481057416,
           1.1528610747911892,
           0.7318891601943427,
           0.7159302352039847,
           0.6835031005783783,
           0.8823478262032812,
           0.6371454928907802,
           0.7731798386336323,
           0.9615065202479366,
           0.9662102911491166,
           0.7606298851293825,
           0.9430466010311036,
           1.008682698814867,
           0.8480465910104716,
           0.8463117466284865,
           0.6479405113691167,
           0.745988732575214,
           1.044287002572544,
           0.6389990034803499,
           0.9447702038757323,
           0.8812826340515405,
           0.8329783041094839,
           0.7936680645790933,
           0.9079658316288558,
           0.725760512787051,
           0.7437280839246508,
           0.7451402342527509,
           0.7037966236199863,
           0.7867125082638925,
           0.7016491805359308,
           0.8905945341612445,
           0.7180408065005105,
           0.8185850310902474,
           0.7402173650406235,
           0.7315711970254082,
           0.713958354795507,
           0.7081993110457379,
           0.5502083908374495,
           0.7520462834181729,
           0.5275582139895664,
           0.5872948722678865,
           0.7968851136240763,
           0.743491567845414,
           0.6799526437346602,
           0.6212884781819777,
           0.5637668615837788,
           0.5261376032439864,
           0.9310955100478706,
           0.7361795629586456,
           0.6444203112134,
           0.9715636246654923,
           1.0040974297958467,
           1.032188919015447,
           0.7688699937047795,
           1.0031364275178116,
           1.0888537522070383,
           0.7295343670713651,
           0.8056174585044245
          ],
          "type": "data",
          "visible": true
         },
         "marker": {
          "color": [
           "#A1F7D5",
           "#FFBF69",
           "#FFBF69",
           "#43EFAA",
           "#A1F7D5",
           "#A1F7D5",
           "#FFBF69",
           "#A1F7D5",
           "#0D965f",
           "#43EFAA",
           "#43EFAA",
           "#A1F7D5",
           "#A1F7D5",
           "#43EFAA",
           "#FFBF69",
           "#A1F7D5",
           "#FFBF69",
           "#0D965f",
           "#FFBF69",
           "#A1F7D5",
           "#A1F7D5",
           "#A1F7D5",
           "#FFBF69",
           "#A1F7D5",
           "#A1F7D5",
           "#A1F7D5",
           "#A1F7D5",
           "#A1F7D5",
           "#43EFAA",
           "#A1F7D5",
           "#FFBF69",
           "#A1F7D5",
           "#0D965f",
           "#FFBF69",
           "#43EFAA",
           "#43EFAA",
           "#43EFAA",
           "#A1F7D5",
           "#FFBF69",
           "#A1F7D5",
           "#FFBF69",
           "#A1F7D5",
           "#0D965f",
           "#0D965f",
           "#FFBF69",
           "#A1F7D5",
           "#A1F7D5",
           "#A1F7D5",
           "#A1F7D5",
           "#A1F7D5",
           "#A1F7D5",
           "#A1F7D5",
           "#43EFAA",
           "#0D965f",
           "#FFBF69",
           "#A1F7D5",
           "#43EFAA",
           "#A1F7D5",
           "#A1F7D5",
           "#FFBF69",
           "#FF961F",
           "#FFBF69",
           "#A1F7D5",
           "#FFBF69",
           "#FFBF69",
           "#A1F7D5",
           "#A1F7D5",
           "#FFBF69",
           "#FFBF69",
           "#FFBF69",
           "#FFBF69",
           "#FFBF69",
           "#FFBF69",
           "#A1F7D5",
           "#FFBF69",
           "#FF961F",
           "#FFBF69",
           "#FFBF69",
           "#FFBF69",
           "#A1F7D5",
           "#FFBF69",
           "#8F5100",
           "#FF961F",
           "#A1F7D5"
          ]
         },
         "name": "Monthly SPEI",
         "showlegend": false,
         "type": "bar",
         "x": [
          "1940-06-01T06:00:00",
          "1941-06-01T06:00:00",
          "1942-06-01T06:00:00",
          "1943-06-01T06:00:00",
          "1944-06-01T06:00:00",
          "1945-06-01T06:00:00",
          "1946-06-01T06:00:00",
          "1947-06-01T06:00:00",
          "1948-06-01T06:00:00",
          "1949-06-01T06:00:00",
          "1950-06-01T06:00:00",
          "1951-06-01T06:00:00",
          "1952-06-01T06:00:00",
          "1953-06-01T06:00:00",
          "1954-06-01T06:00:00",
          "1955-06-01T06:00:00",
          "1956-06-01T06:00:00",
          "1957-06-01T06:00:00",
          "1958-06-01T06:00:00",
          "1959-06-01T06:00:00",
          "1960-06-01T06:00:00",
          "1961-06-01T06:00:00",
          "1962-06-01T06:00:00",
          "1963-06-01T06:00:00",
          "1964-06-01T06:00:00",
          "1965-06-01T06:00:00",
          "1966-06-01T06:00:00",
          "1967-06-01T06:00:00",
          "1968-06-01T06:00:00",
          "1969-06-01T06:00:00",
          "1970-06-01T06:00:00",
          "1971-06-01T06:00:00",
          "1972-06-01T06:00:00",
          "1973-06-01T06:00:00",
          "1974-06-01T06:00:00",
          "1975-06-01T06:00:00",
          "1976-06-01T06:00:00",
          "1977-06-01T06:00:00",
          "1978-06-01T06:00:00",
          "1979-06-01T06:00:00",
          "1980-06-01T06:00:00",
          "1981-06-01T06:00:00",
          "1982-06-01T06:00:00",
          "1983-06-01T06:00:00",
          "1984-06-01T06:00:00",
          "1985-06-01T06:00:00",
          "1986-06-01T06:00:00",
          "1987-06-01T06:00:00",
          "1988-06-01T06:00:00",
          "1989-06-01T06:00:00",
          "1990-06-01T06:00:00",
          "1991-06-01T06:00:00",
          "1992-06-01T06:00:00",
          "1993-06-01T06:00:00",
          "1994-06-01T06:00:00",
          "1995-06-01T06:00:00",
          "1996-06-01T06:00:00",
          "1997-06-01T06:00:00",
          "1998-06-01T06:00:00",
          "1999-06-01T06:00:00",
          "2000-06-01T06:00:00",
          "2001-06-01T06:00:00",
          "2002-06-01T06:00:00",
          "2003-06-01T06:00:00",
          "2004-06-01T06:00:00",
          "2005-06-01T06:00:00",
          "2006-06-01T06:00:00",
          "2007-06-01T06:00:00",
          "2008-06-01T06:00:00",
          "2009-06-01T06:00:00",
          "2010-06-01T06:00:00",
          "2011-06-01T06:00:00",
          "2012-06-01T06:00:00",
          "2013-06-01T06:00:00",
          "2014-06-01T06:00:00",
          "2015-06-01T06:00:00",
          "2016-06-01T06:00:00",
          "2017-06-01T06:00:00",
          "2018-06-01T06:00:00",
          "2019-06-01T06:00:00",
          "2020-06-01T06:00:00",
          "2021-06-01T06:00:00",
          "2022-06-01T06:00:00",
          "2023-06-01T06:00:00"
         ],
         "y": [
          0.723066973459697,
          -0.9041065104984578,
          -0.695831383079185,
          1.2963176168090926,
          0.10222686151633517,
          0.22590405130546692,
          -0.09021465187296626,
          0.8993952093526356,
          1.5388823311651278,
          1.359958705632445,
          1.3469142505078426,
          0.6175511419247705,
          0.6711823245876894,
          1.0930735149094215,
          -0.07278335599168913,
          0.36979713753350435,
          -0.5013003876185533,
          1.5264591253123434,
          -0.20560897745066448,
          0.6731247587129285,
          0.2406468033653269,
          0.37259267935636003,
          -0.581688346962602,
          0.704734392980159,
          0.28729931126706293,
          0.38014043096532013,
          0.07097564546958963,
          0.7968869615192561,
          1.1933107844510638,
          0.6650824375482366,
          -0.08082767216637102,
          0.7182147842517755,
          1.897585110292002,
          -0.6848367860811349,
          1.4335443202507836,
          1.1964004933831354,
          1.1352962740435422,
          0.48794116204058524,
          -0.28141315652224697,
          0.21012544997328983,
          -0.08611965324880667,
          0.1758641566866296,
          1.71049912251708,
          1.6160405673507696,
          -0.3128585345794572,
          0.15628227802385208,
          0.9141860242436316,
          0.42054581966681853,
          0.587723559605599,
          0.7440701203347632,
          0.41873199191640564,
          0.6159958348014407,
          1.1693138869474395,
          1.5576633519732426,
          -0.15600447660818026,
          0.9833585330465029,
          1.096901112444033,
          0.9776546920289753,
          0.6388282462599879,
          -0.049607752851312886,
          -1.1428873501468324,
          -0.492411320745736,
          0.26793267893129075,
          -0.6484050317968022,
          -0.13160531767597725,
          0.386594169430293,
          0.06824489229680812,
          -0.03500331583279138,
          -0.8786776027649299,
          -0.5244691544009025,
          -0.8744008467318994,
          -0.03230336501387892,
          -0.9229487696238462,
          0.06598865206029432,
          -0.0025077845652636864,
          -1.0986388002121126,
          -0.02310228256593995,
          -0.17389077231381486,
          -0.47491604723275815,
          0.2212919245926207,
          -0.18451451124634063,
          -1.6939033053203383,
          -1.3330952111189134,
          0.6960720766640109
         ]
        },
        {
         "marker": {
          "color": "#074B30"
         },
         "name": "Extremely wet",
         "showlegend": true,
         "type": "bar",
         "x": [
          null
         ],
         "y": [
          null
         ]
        },
        {
         "marker": {
          "color": "#0D965f"
         },
         "name": "Severely wet",
         "showlegend": true,
         "type": "bar",
         "x": [
          null
         ],
         "y": [
          null
         ]
        },
        {
         "marker": {
          "color": "#43EFAA"
         },
         "name": "Moderately wet",
         "showlegend": true,
         "type": "bar",
         "x": [
          null
         ],
         "y": [
          null
         ]
        },
        {
         "marker": {
          "color": "#A1F7D5"
         },
         "name": "Mildly wet",
         "showlegend": true,
         "type": "bar",
         "x": [
          null
         ],
         "y": [
          null
         ]
        },
        {
         "marker": {
          "color": "#FFBF69"
         },
         "name": "Mildly dry",
         "showlegend": true,
         "type": "bar",
         "x": [
          null
         ],
         "y": [
          null
         ]
        },
        {
         "marker": {
          "color": "#FF961F"
         },
         "name": "Moderately dry",
         "showlegend": true,
         "type": "bar",
         "x": [
          null
         ],
         "y": [
          null
         ]
        },
        {
         "marker": {
          "color": "#8F5100"
         },
         "name": "Severely dry",
         "showlegend": true,
         "type": "bar",
         "x": [
          null
         ],
         "y": [
          null
         ]
        },
        {
         "marker": {
          "color": "#3d2100"
         },
         "name": "Extremely dry",
         "showlegend": true,
         "type": "bar",
         "x": [
          null
         ],
         "y": [
          null
         ]
        }
       ],
       "layout": {
        "autosize": true,
        "legend": {
         "title": {
          "text": "SPEI Categories"
         }
        },
        "plot_bgcolor": "rgba(0, 0, 0, 0)",
        "template": {
         "data": {
          "bar": [
           {
            "error_x": {
             "color": "#2a3f5f"
            },
            "error_y": {
             "color": "#2a3f5f"
            },
            "marker": {
             "line": {
              "color": "white",
              "width": 0.5
             },
             "pattern": {
              "fillmode": "overlay",
              "size": 10,
              "solidity": 0.2
             }
            },
            "type": "bar"
           }
          ],
          "barpolar": [
           {
            "marker": {
             "line": {
              "color": "white",
              "width": 0.5
             },
             "pattern": {
              "fillmode": "overlay",
              "size": 10,
              "solidity": 0.2
             }
            },
            "type": "barpolar"
           }
          ],
          "carpet": [
           {
            "aaxis": {
             "endlinecolor": "#2a3f5f",
             "gridcolor": "#C8D4E3",
             "linecolor": "#C8D4E3",
             "minorgridcolor": "#C8D4E3",
             "startlinecolor": "#2a3f5f"
            },
            "baxis": {
             "endlinecolor": "#2a3f5f",
             "gridcolor": "#C8D4E3",
             "linecolor": "#C8D4E3",
             "minorgridcolor": "#C8D4E3",
             "startlinecolor": "#2a3f5f"
            },
            "type": "carpet"
           }
          ],
          "choropleth": [
           {
            "colorbar": {
             "outlinewidth": 0,
             "ticks": ""
            },
            "type": "choropleth"
           }
          ],
          "contour": [
           {
            "colorbar": {
             "outlinewidth": 0,
             "ticks": ""
            },
            "colorscale": [
             [
              0,
              "#0d0887"
             ],
             [
              0.1111111111111111,
              "#46039f"
             ],
             [
              0.2222222222222222,
              "#7201a8"
             ],
             [
              0.3333333333333333,
              "#9c179e"
             ],
             [
              0.4444444444444444,
              "#bd3786"
             ],
             [
              0.5555555555555556,
              "#d8576b"
             ],
             [
              0.6666666666666666,
              "#ed7953"
             ],
             [
              0.7777777777777778,
              "#fb9f3a"
             ],
             [
              0.8888888888888888,
              "#fdca26"
             ],
             [
              1,
              "#f0f921"
             ]
            ],
            "type": "contour"
           }
          ],
          "contourcarpet": [
           {
            "colorbar": {
             "outlinewidth": 0,
             "ticks": ""
            },
            "type": "contourcarpet"
           }
          ],
          "heatmap": [
           {
            "colorbar": {
             "outlinewidth": 0,
             "ticks": ""
            },
            "colorscale": [
             [
              0,
              "#0d0887"
             ],
             [
              0.1111111111111111,
              "#46039f"
             ],
             [
              0.2222222222222222,
              "#7201a8"
             ],
             [
              0.3333333333333333,
              "#9c179e"
             ],
             [
              0.4444444444444444,
              "#bd3786"
             ],
             [
              0.5555555555555556,
              "#d8576b"
             ],
             [
              0.6666666666666666,
              "#ed7953"
             ],
             [
              0.7777777777777778,
              "#fb9f3a"
             ],
             [
              0.8888888888888888,
              "#fdca26"
             ],
             [
              1,
              "#f0f921"
             ]
            ],
            "type": "heatmap"
           }
          ],
          "heatmapgl": [
           {
            "colorbar": {
             "outlinewidth": 0,
             "ticks": ""
            },
            "colorscale": [
             [
              0,
              "#0d0887"
             ],
             [
              0.1111111111111111,
              "#46039f"
             ],
             [
              0.2222222222222222,
              "#7201a8"
             ],
             [
              0.3333333333333333,
              "#9c179e"
             ],
             [
              0.4444444444444444,
              "#bd3786"
             ],
             [
              0.5555555555555556,
              "#d8576b"
             ],
             [
              0.6666666666666666,
              "#ed7953"
             ],
             [
              0.7777777777777778,
              "#fb9f3a"
             ],
             [
              0.8888888888888888,
              "#fdca26"
             ],
             [
              1,
              "#f0f921"
             ]
            ],
            "type": "heatmapgl"
           }
          ],
          "histogram": [
           {
            "marker": {
             "pattern": {
              "fillmode": "overlay",
              "size": 10,
              "solidity": 0.2
             }
            },
            "type": "histogram"
           }
          ],
          "histogram2d": [
           {
            "colorbar": {
             "outlinewidth": 0,
             "ticks": ""
            },
            "colorscale": [
             [
              0,
              "#0d0887"
             ],
             [
              0.1111111111111111,
              "#46039f"
             ],
             [
              0.2222222222222222,
              "#7201a8"
             ],
             [
              0.3333333333333333,
              "#9c179e"
             ],
             [
              0.4444444444444444,
              "#bd3786"
             ],
             [
              0.5555555555555556,
              "#d8576b"
             ],
             [
              0.6666666666666666,
              "#ed7953"
             ],
             [
              0.7777777777777778,
              "#fb9f3a"
             ],
             [
              0.8888888888888888,
              "#fdca26"
             ],
             [
              1,
              "#f0f921"
             ]
            ],
            "type": "histogram2d"
           }
          ],
          "histogram2dcontour": [
           {
            "colorbar": {
             "outlinewidth": 0,
             "ticks": ""
            },
            "colorscale": [
             [
              0,
              "#0d0887"
             ],
             [
              0.1111111111111111,
              "#46039f"
             ],
             [
              0.2222222222222222,
              "#7201a8"
             ],
             [
              0.3333333333333333,
              "#9c179e"
             ],
             [
              0.4444444444444444,
              "#bd3786"
             ],
             [
              0.5555555555555556,
              "#d8576b"
             ],
             [
              0.6666666666666666,
              "#ed7953"
             ],
             [
              0.7777777777777778,
              "#fb9f3a"
             ],
             [
              0.8888888888888888,
              "#fdca26"
             ],
             [
              1,
              "#f0f921"
             ]
            ],
            "type": "histogram2dcontour"
           }
          ],
          "mesh3d": [
           {
            "colorbar": {
             "outlinewidth": 0,
             "ticks": ""
            },
            "type": "mesh3d"
           }
          ],
          "parcoords": [
           {
            "line": {
             "colorbar": {
              "outlinewidth": 0,
              "ticks": ""
             }
            },
            "type": "parcoords"
           }
          ],
          "pie": [
           {
            "automargin": true,
            "type": "pie"
           }
          ],
          "scatter": [
           {
            "fillpattern": {
             "fillmode": "overlay",
             "size": 10,
             "solidity": 0.2
            },
            "type": "scatter"
           }
          ],
          "scatter3d": [
           {
            "line": {
             "colorbar": {
              "outlinewidth": 0,
              "ticks": ""
             }
            },
            "marker": {
             "colorbar": {
              "outlinewidth": 0,
              "ticks": ""
             }
            },
            "type": "scatter3d"
           }
          ],
          "scattercarpet": [
           {
            "marker": {
             "colorbar": {
              "outlinewidth": 0,
              "ticks": ""
             }
            },
            "type": "scattercarpet"
           }
          ],
          "scattergeo": [
           {
            "marker": {
             "colorbar": {
              "outlinewidth": 0,
              "ticks": ""
             }
            },
            "type": "scattergeo"
           }
          ],
          "scattergl": [
           {
            "marker": {
             "colorbar": {
              "outlinewidth": 0,
              "ticks": ""
             }
            },
            "type": "scattergl"
           }
          ],
          "scattermapbox": [
           {
            "marker": {
             "colorbar": {
              "outlinewidth": 0,
              "ticks": ""
             }
            },
            "type": "scattermapbox"
           }
          ],
          "scatterpolar": [
           {
            "marker": {
             "colorbar": {
              "outlinewidth": 0,
              "ticks": ""
             }
            },
            "type": "scatterpolar"
           }
          ],
          "scatterpolargl": [
           {
            "marker": {
             "colorbar": {
              "outlinewidth": 0,
              "ticks": ""
             }
            },
            "type": "scatterpolargl"
           }
          ],
          "scatterternary": [
           {
            "marker": {
             "colorbar": {
              "outlinewidth": 0,
              "ticks": ""
             }
            },
            "type": "scatterternary"
           }
          ],
          "surface": [
           {
            "colorbar": {
             "outlinewidth": 0,
             "ticks": ""
            },
            "colorscale": [
             [
              0,
              "#0d0887"
             ],
             [
              0.1111111111111111,
              "#46039f"
             ],
             [
              0.2222222222222222,
              "#7201a8"
             ],
             [
              0.3333333333333333,
              "#9c179e"
             ],
             [
              0.4444444444444444,
              "#bd3786"
             ],
             [
              0.5555555555555556,
              "#d8576b"
             ],
             [
              0.6666666666666666,
              "#ed7953"
             ],
             [
              0.7777777777777778,
              "#fb9f3a"
             ],
             [
              0.8888888888888888,
              "#fdca26"
             ],
             [
              1,
              "#f0f921"
             ]
            ],
            "type": "surface"
           }
          ],
          "table": [
           {
            "cells": {
             "fill": {
              "color": "#EBF0F8"
             },
             "line": {
              "color": "white"
             }
            },
            "header": {
             "fill": {
              "color": "#C8D4E3"
             },
             "line": {
              "color": "white"
             }
            },
            "type": "table"
           }
          ]
         },
         "layout": {
          "annotationdefaults": {
           "arrowcolor": "#2a3f5f",
           "arrowhead": 0,
           "arrowwidth": 1
          },
          "autotypenumbers": "strict",
          "coloraxis": {
           "colorbar": {
            "outlinewidth": 0,
            "ticks": ""
           }
          },
          "colorscale": {
           "diverging": [
            [
             0,
             "#8e0152"
            ],
            [
             0.1,
             "#c51b7d"
            ],
            [
             0.2,
             "#de77ae"
            ],
            [
             0.3,
             "#f1b6da"
            ],
            [
             0.4,
             "#fde0ef"
            ],
            [
             0.5,
             "#f7f7f7"
            ],
            [
             0.6,
             "#e6f5d0"
            ],
            [
             0.7,
             "#b8e186"
            ],
            [
             0.8,
             "#7fbc41"
            ],
            [
             0.9,
             "#4d9221"
            ],
            [
             1,
             "#276419"
            ]
           ],
           "sequential": [
            [
             0,
             "#0d0887"
            ],
            [
             0.1111111111111111,
             "#46039f"
            ],
            [
             0.2222222222222222,
             "#7201a8"
            ],
            [
             0.3333333333333333,
             "#9c179e"
            ],
            [
             0.4444444444444444,
             "#bd3786"
            ],
            [
             0.5555555555555556,
             "#d8576b"
            ],
            [
             0.6666666666666666,
             "#ed7953"
            ],
            [
             0.7777777777777778,
             "#fb9f3a"
            ],
            [
             0.8888888888888888,
             "#fdca26"
            ],
            [
             1,
             "#f0f921"
            ]
           ],
           "sequentialminus": [
            [
             0,
             "#0d0887"
            ],
            [
             0.1111111111111111,
             "#46039f"
            ],
            [
             0.2222222222222222,
             "#7201a8"
            ],
            [
             0.3333333333333333,
             "#9c179e"
            ],
            [
             0.4444444444444444,
             "#bd3786"
            ],
            [
             0.5555555555555556,
             "#d8576b"
            ],
            [
             0.6666666666666666,
             "#ed7953"
            ],
            [
             0.7777777777777778,
             "#fb9f3a"
            ],
            [
             0.8888888888888888,
             "#fdca26"
            ],
            [
             1,
             "#f0f921"
            ]
           ]
          },
          "colorway": [
           "#636efa",
           "#EF553B",
           "#00cc96",
           "#ab63fa",
           "#FFA15A",
           "#19d3f3",
           "#FF6692",
           "#B6E880",
           "#FF97FF",
           "#FECB52"
          ],
          "font": {
           "color": "#2a3f5f"
          },
          "geo": {
           "bgcolor": "white",
           "lakecolor": "white",
           "landcolor": "white",
           "showlakes": true,
           "showland": true,
           "subunitcolor": "#C8D4E3"
          },
          "hoverlabel": {
           "align": "left"
          },
          "hovermode": "closest",
          "mapbox": {
           "style": "light"
          },
          "paper_bgcolor": "white",
          "plot_bgcolor": "white",
          "polar": {
           "angularaxis": {
            "gridcolor": "#EBF0F8",
            "linecolor": "#EBF0F8",
            "ticks": ""
           },
           "bgcolor": "white",
           "radialaxis": {
            "gridcolor": "#EBF0F8",
            "linecolor": "#EBF0F8",
            "ticks": ""
           }
          },
          "scene": {
           "xaxis": {
            "backgroundcolor": "white",
            "gridcolor": "#DFE8F3",
            "gridwidth": 2,
            "linecolor": "#EBF0F8",
            "showbackground": true,
            "ticks": "",
            "zerolinecolor": "#EBF0F8"
           },
           "yaxis": {
            "backgroundcolor": "white",
            "gridcolor": "#DFE8F3",
            "gridwidth": 2,
            "linecolor": "#EBF0F8",
            "showbackground": true,
            "ticks": "",
            "zerolinecolor": "#EBF0F8"
           },
           "zaxis": {
            "backgroundcolor": "white",
            "gridcolor": "#DFE8F3",
            "gridwidth": 2,
            "linecolor": "#EBF0F8",
            "showbackground": true,
            "ticks": "",
            "zerolinecolor": "#EBF0F8"
           }
          },
          "shapedefaults": {
           "line": {
            "color": "#2a3f5f"
           }
          },
          "ternary": {
           "aaxis": {
            "gridcolor": "#DFE8F3",
            "linecolor": "#A2B1C6",
            "ticks": ""
           },
           "baxis": {
            "gridcolor": "#DFE8F3",
            "linecolor": "#A2B1C6",
            "ticks": ""
           },
           "bgcolor": "white",
           "caxis": {
            "gridcolor": "#DFE8F3",
            "linecolor": "#A2B1C6",
            "ticks": ""
           }
          },
          "title": {
           "x": 0.05
          },
          "xaxis": {
           "automargin": true,
           "gridcolor": "#EBF0F8",
           "linecolor": "#EBF0F8",
           "ticks": "",
           "title": {
            "standoff": 15
           },
           "zerolinecolor": "#EBF0F8",
           "zerolinewidth": 2
          },
          "yaxis": {
           "automargin": true,
           "gridcolor": "#EBF0F8",
           "linecolor": "#EBF0F8",
           "ticks": "",
           "title": {
            "standoff": 15
           },
           "zerolinecolor": "#EBF0F8",
           "zerolinewidth": 2
          }
         }
        },
        "title": {
         "text": "6 months SPEI for June across years in Saudi Arabia (Saudi Arabia)"
        },
        "xaxis": {
         "autorange": true,
         "range": [
          "1939-12-01 18:00",
          "2023-11-30 18:00"
         ],
         "title": {
          "text": "Year"
         },
         "type": "date"
        },
        "yaxis": {
         "autorange": true,
         "range": [
          -3.0932894810458387,
          3.1173589893233986
         ],
         "title": {
          "text": "SPEI 6"
         },
         "type": "linear",
         "zeroline": true,
         "zerolinecolor": "#D3D3D3",
         "zerolinewidth": 1
        }
       }
      },
      "image/png": "[encoded data removed]",
      "text/html": [
       "<div>                            <div id=\"727c94cc-d756-446b-aa06-0ee694528263\" class=\"plotly-graph-div\" style=\"height:600px; width:100%;\"></div>            <script type=\"text/javascript\">                require([\"plotly\"], function(Plotly) {                    window.PLOTLYENV=window.PLOTLYENV || {};                                    if (document.getElementById(\"727c94cc-d756-446b-aa06-0ee694528263\")) {                    Plotly.newPlot(                        \"727c94cc-d756-446b-aa06-0ee694528263\",                        [{\"error_y\":{\"array\":[1.063841933119824,1.217067906637316,0.9561208988969988,1.4907685084427416,1.8007742877962047,0.9181399516595359,0.8910815197525854,1.036862547289817,1.2679442346398089,1.0340854446902825,1.2798741592847414,1.0847679116049875,1.1446001463598687,1.1776201785934124,0.777689071810045,1.0466371682937365,0.8687005101524594,0.6068122674064274,1.060763048245165,1.135777732635319,0.9594303335649355,0.8041229025766271,0.7560412420402629,1.052455093713836,0.9256713281787748,0.8827109823870558,1.1768344481057416,1.1528610747911892,0.7318891601943427,0.7159302352039847,0.6835031005783783,0.8823478262032812,0.6371454928907802,0.7731798386336323,0.9615065202479366,0.9662102911491166,0.7606298851293825,0.9430466010311036,1.008682698814867,0.8480465910104716,0.8463117466284865,0.6479405113691167,0.745988732575214,1.044287002572544,0.6389990034803499,0.9447702038757323,0.8812826340515405,0.8329783041094839,0.7936680645790933,0.9079658316288558,0.725760512787051,0.7437280839246508,0.7451402342527509,0.7037966236199863,0.7867125082638925,0.7016491805359308,0.8905945341612445,0.7180408065005105,0.8185850310902474,0.7402173650406235,0.7315711970254082,0.713958354795507,0.7081993110457379,0.5502083908374495,0.7520462834181729,0.5275582139895664,0.5872948722678865,0.7968851136240763,0.743491567845414,0.6799526437346602,0.6212884781819777,0.5637668615837788,0.5261376032439864,0.9310955100478706,0.7361795629586456,0.6444203112134,0.9715636246654923,1.0040974297958467,1.032188919015447,0.7688699937047795,1.0031364275178116,1.0888537522070383,0.7295343670713651,0.8056174585044245],\"type\":\"data\",\"visible\":true},\"marker\":{\"color\":[\"#A1F7D5\",\"#FFBF69\",\"#FFBF69\",\"#43EFAA\",\"#A1F7D5\",\"#A1F7D5\",\"#FFBF69\",\"#A1F7D5\",\"#0D965f\",\"#43EFAA\",\"#43EFAA\",\"#A1F7D5\",\"#A1F7D5\",\"#43EFAA\",\"#FFBF69\",\"#A1F7D5\",\"#FFBF69\",\"#0D965f\",\"#FFBF69\",\"#A1F7D5\",\"#A1F7D5\",\"#A1F7D5\",\"#FFBF69\",\"#A1F7D5\",\"#A1F7D5\",\"#A1F7D5\",\"#A1F7D5\",\"#A1F7D5\",\"#43EFAA\",\"#A1F7D5\",\"#FFBF69\",\"#A1F7D5\",\"#0D965f\",\"#FFBF69\",\"#43EFAA\",\"#43EFAA\",\"#43EFAA\",\"#A1F7D5\",\"#FFBF69\",\"#A1F7D5\",\"#FFBF69\",\"#A1F7D5\",\"#0D965f\",\"#0D965f\",\"#FFBF69\",\"#A1F7D5\",\"#A1F7D5\",\"#A1F7D5\",\"#A1F7D5\",\"#A1F7D5\",\"#A1F7D5\",\"#A1F7D5\",\"#43EFAA\",\"#0D965f\",\"#FFBF69\",\"#A1F7D5\",\"#43EFAA\",\"#A1F7D5\",\"#A1F7D5\",\"#FFBF69\",\"#FF961F\",\"#FFBF69\",\"#A1F7D5\",\"#FFBF69\",\"#FFBF69\",\"#A1F7D5\",\"#A1F7D5\",\"#FFBF69\",\"#FFBF69\",\"#FFBF69\",\"#FFBF69\",\"#FFBF69\",\"#FFBF69\",\"#A1F7D5\",\"#FFBF69\",\"#FF961F\",\"#FFBF69\",\"#FFBF69\",\"#FFBF69\",\"#A1F7D5\",\"#FFBF69\",\"#8F5100\",\"#FF961F\",\"#A1F7D5\"]},\"name\":\"Monthly SPEI\",\"x\":[\"1940-06-01T06:00:00\",\"1941-06-01T06:00:00\",\"1942-06-01T06:00:00\",\"1943-06-01T06:00:00\",\"1944-06-01T06:00:00\",\"1945-06-01T06:00:00\",\"1946-06-01T06:00:00\",\"1947-06-01T06:00:00\",\"1948-06-01T06:00:00\",\"1949-06-01T06:00:00\",\"1950-06-01T06:00:00\",\"1951-06-01T06:00:00\",\"1952-06-01T06:00:00\",\"1953-06-01T06:00:00\",\"1954-06-01T06:00:00\",\"1955-06-01T06:00:00\",\"1956-06-01T06:00:00\",\"1957-06-01T06:00:00\",\"1958-06-01T06:00:00\",\"1959-06-01T06:00:00\",\"1960-06-01T06:00:00\",\"1961-06-01T06:00:00\",\"1962-06-01T06:00:00\",\"1963-06-01T06:00:00\",\"1964-06-01T06:00:00\",\"1965-06-01T06:00:00\",\"1966-06-01T06:00:00\",\"1967-06-01T06:00:00\",\"1968-06-01T06:00:00\",\"1969-06-01T06:00:00\",\"1970-06-01T06:00:00\",\"1971-06-01T06:00:00\",\"1972-06-01T06:00:00\",\"1973-06-01T06:00:00\",\"1974-06-01T06:00:00\",\"1975-06-01T06:00:00\",\"1976-06-01T06:00:00\",\"1977-06-01T06:00:00\",\"1978-06-01T06:00:00\",\"1979-06-01T06:00:00\",\"1980-06-01T06:00:00\",\"1981-06-01T06:00:00\",\"1982-06-01T06:00:00\",\"1983-06-01T06:00:00\",\"1984-06-01T06:00:00\",\"1985-06-01T06:00:00\",\"1986-06-01T06:00:00\",\"1987-06-01T06:00:00\",\"1988-06-01T06:00:00\",\"1989-06-01T06:00:00\",\"1990-06-01T06:00:00\",\"1991-06-01T06:00:00\",\"1992-06-01T06:00:00\",\"1993-06-01T06:00:00\",\"1994-06-01T06:00:00\",\"1995-06-01T06:00:00\",\"1996-06-01T06:00:00\",\"1997-06-01T06:00:00\",\"1998-06-01T06:00:00\",\"1999-06-01T06:00:00\",\"2000-06-01T06:00:00\",\"2001-06-01T06:00:00\",\"2002-06-01T06:00:00\",\"2003-06-01T06:00:00\",\"2004-06-01T06:00:00\",\"2005-06-01T06:00:00\",\"2006-06-01T06:00:00\",\"2007-06-01T06:00:00\",\"2008-06-01T06:00:00\",\"2009-06-01T06:00:00\",\"2010-06-01T06:00:00\",\"2011-06-01T06:00:00\",\"2012-06-01T06:00:00\",\"2013-06-01T06:00:00\",\"2014-06-01T06:00:00\",\"2015-06-01T06:00:00\",\"2016-06-01T06:00:00\",\"2017-06-01T06:00:00\",\"2018-06-01T06:00:00\",\"2019-06-01T06:00:00\",\"2020-06-01T06:00:00\",\"2021-06-01T06:00:00\",\"2022-06-01T06:00:00\",\"2023-06-01T06:00:00\"],\"y\":[0.723066973459697,-0.9041065104984578,-0.695831383079185,1.2963176168090926,0.10222686151633517,0.22590405130546692,-0.09021465187296626,0.8993952093526356,1.5388823311651278,1.359958705632445,1.3469142505078426,0.6175511419247705,0.6711823245876894,1.0930735149094215,-0.07278335599168913,0.36979713753350435,-0.5013003876185533,1.5264591253123434,-0.20560897745066448,0.6731247587129285,0.2406468033653269,0.37259267935636003,-0.581688346962602,0.704734392980159,0.28729931126706293,0.38014043096532013,0.07097564546958963,0.7968869615192561,1.1933107844510638,0.6650824375482366,-0.08082767216637102,0.7182147842517755,1.897585110292002,-0.6848367860811349,1.4335443202507836,1.1964004933831354,1.1352962740435422,0.48794116204058524,-0.28141315652224697,0.21012544997328983,-0.08611965324880667,0.1758641566866296,1.71049912251708,1.6160405673507696,-0.3128585345794572,0.15628227802385208,0.9141860242436316,0.42054581966681853,0.587723559605599,0.7440701203347632,0.41873199191640564,0.6159958348014407,1.1693138869474395,1.5576633519732426,-0.15600447660818026,0.9833585330465029,1.096901112444033,0.9776546920289753,0.6388282462599879,-0.049607752851312886,-1.1428873501468324,-0.492411320745736,0.26793267893129075,-0.6484050317968022,-0.13160531767597725,0.386594169430293,0.06824489229680812,-0.03500331583279138,-0.8786776027649299,-0.5244691544009025,-0.8744008467318994,-0.03230336501387892,-0.9229487696238462,0.06598865206029432,-0.0025077845652636864,-1.0986388002121126,-0.02310228256593995,-0.17389077231381486,-0.47491604723275815,0.2212919245926207,-0.18451451124634063,-1.6939033053203383,-1.3330952111189134,0.6960720766640109],\"type\":\"bar\",\"showlegend\":false},{\"marker\":{\"color\":\"#074B30\"},\"name\":\"Extremely wet\",\"showlegend\":true,\"x\":[null],\"y\":[null],\"type\":\"bar\"},{\"marker\":{\"color\":\"#0D965f\"},\"name\":\"Severely wet\",\"showlegend\":true,\"x\":[null],\"y\":[null],\"type\":\"bar\"},{\"marker\":{\"color\":\"#43EFAA\"},\"name\":\"Moderately wet\",\"showlegend\":true,\"x\":[null],\"y\":[null],\"type\":\"bar\"},{\"marker\":{\"color\":\"#A1F7D5\"},\"name\":\"Mildly wet\",\"showlegend\":true,\"x\":[null],\"y\":[null],\"type\":\"bar\"},{\"marker\":{\"color\":\"#FFBF69\"},\"name\":\"Mildly dry\",\"showlegend\":true,\"x\":[null],\"y\":[null],\"type\":\"bar\"},{\"marker\":{\"color\":\"#FF961F\"},\"name\":\"Moderately dry\",\"showlegend\":true,\"x\":[null],\"y\":[null],\"type\":\"bar\"},{\"marker\":{\"color\":\"#8F5100\"},\"name\":\"Severely dry\",\"showlegend\":true,\"x\":[null],\"y\":[null],\"type\":\"bar\"},{\"marker\":{\"color\":\"#3d2100\"},\"name\":\"Extremely dry\",\"showlegend\":true,\"x\":[null],\"y\":[null],\"type\":\"bar\"}],                        {\"template\":{\"data\":{\"barpolar\":[{\"marker\":{\"line\":{\"color\":\"white\",\"width\":0.5},\"pattern\":{\"fillmode\":\"overlay\",\"size\":10,\"solidity\":0.2}},\"type\":\"barpolar\"}],\"bar\":[{\"error_x\":{\"color\":\"#2a3f5f\"},\"error_y\":{\"color\":\"#2a3f5f\"},\"marker\":{\"line\":{\"color\":\"white\",\"width\":0.5},\"pattern\":{\"fillmode\":\"overlay\",\"size\":10,\"solidity\":0.2}},\"type\":\"bar\"}],\"carpet\":[{\"aaxis\":{\"endlinecolor\":\"#2a3f5f\",\"gridcolor\":\"#C8D4E3\",\"linecolor\":\"#C8D4E3\",\"minorgridcolor\":\"#C8D4E3\",\"startlinecolor\":\"#2a3f5f\"},\"baxis\":{\"endlinecolor\":\"#2a3f5f\",\"gridcolor\":\"#C8D4E3\",\"linecolor\":\"#C8D4E3\",\"minorgridcolor\":\"#C8D4E3\",\"startlinecolor\":\"#2a3f5f\"},\"type\":\"carpet\"}],\"choropleth\":[{\"colorbar\":{\"outlinewidth\":0,\"ticks\":\"\"},\"type\":\"choropleth\"}],\"contourcarpet\":[{\"colorbar\":{\"outlinewidth\":0,\"ticks\":\"\"},\"type\":\"contourcarpet\"}],\"contour\":[{\"colorbar\":{\"outlinewidth\":0,\"ticks\":\"\"},\"colorscale\":[[0.0,\"#0d0887\"],[0.1111111111111111,\"#46039f\"],[0.2222222222222222,\"#7201a8\"],[0.3333333333333333,\"#9c179e\"],[0.4444444444444444,\"#bd3786\"],[0.5555555555555556,\"#d8576b\"],[0.6666666666666666,\"#ed7953\"],[0.7777777777777778,\"#fb9f3a\"],[0.8888888888888888,\"#fdca26\"],[1.0,\"#f0f921\"]],\"type\":\"contour\"}],\"heatmapgl\":[{\"colorbar\":{\"outlinewidth\":0,\"ticks\":\"\"},\"colorscale\":[[0.0,\"#0d0887\"],[0.1111111111111111,\"#46039f\"],[0.2222222222222222,\"#7201a8\"],[0.3333333333333333,\"#9c179e\"],[0.4444444444444444,\"#bd3786\"],[0.5555555555555556,\"#d8576b\"],[0.6666666666666666,\"#ed7953\"],[0.7777777777777778,\"#fb9f3a\"],[0.8888888888888888,\"#fdca26\"],[1.0,\"#f0f921\"]],\"type\":\"heatmapgl\"}],\"heatmap\":[{\"colorbar\":{\"outlinewidth\":0,\"ticks\":\"\"},\"colorscale\":[[0.0,\"#0d0887\"],[0.1111111111111111,\"#46039f\"],[0.2222222222222222,\"#7201a8\"],[0.3333333333333333,\"#9c179e\"],[0.4444444444444444,\"#bd3786\"],[0.5555555555555556,\"#d8576b\"],[0.6666666666666666,\"#ed7953\"],[0.7777777777777778,\"#fb9f3a\"],[0.8888888888888888,\"#fdca26\"],[1.0,\"#f0f921\"]],\"type\":\"heatmap\"}],\"histogram2dcontour\":[{\"colorbar\":{\"outlinewidth\":0,\"ticks\":\"\"},\"colorscale\":[[0.0,\"#0d0887\"],[0.1111111111111111,\"#46039f\"],[0.2222222222222222,\"#7201a8\"],[0.3333333333333333,\"#9c179e\"],[0.4444444444444444,\"#bd3786\"],[0.5555555555555556,\"#d8576b\"],[0.6666666666666666,\"#ed7953\"],[0.7777777777777778,\"#fb9f3a\"],[0.8888888888888888,\"#fdca26\"],[1.0,\"#f0f921\"]],\"type\":\"histogram2dcontour\"}],\"histogram2d\":[{\"colorbar\":{\"outlinewidth\":0,\"ticks\":\"\"},\"colorscale\":[[0.0,\"#0d0887\"],[0.1111111111111111,\"#46039f\"],[0.2222222222222222,\"#7201a8\"],[0.3333333333333333,\"#9c179e\"],[0.4444444444444444,\"#bd3786\"],[0.5555555555555556,\"#d8576b\"],[0.6666666666666666,\"#ed7953\"],[0.7777777777777778,\"#fb9f3a\"],[0.8888888888888888,\"#fdca26\"],[1.0,\"#f0f921\"]],\"type\":\"histogram2d\"}],\"histogram\":[{\"marker\":{\"pattern\":{\"fillmode\":\"overlay\",\"size\":10,\"solidity\":0.2}},\"type\":\"histogram\"}],\"mesh3d\":[{\"colorbar\":{\"outlinewidth\":0,\"ticks\":\"\"},\"type\":\"mesh3d\"}],\"parcoords\":[{\"line\":{\"colorbar\":{\"outlinewidth\":0,\"ticks\":\"\"}},\"type\":\"parcoords\"}],\"pie\":[{\"automargin\":true,\"type\":\"pie\"}],\"scatter3d\":[{\"line\":{\"colorbar\":{\"outlinewidth\":0,\"ticks\":\"\"}},\"marker\":{\"colorbar\":{\"outlinewidth\":0,\"ticks\":\"\"}},\"type\":\"scatter3d\"}],\"scattercarpet\":[{\"marker\":{\"colorbar\":{\"outlinewidth\":0,\"ticks\":\"\"}},\"type\":\"scattercarpet\"}],\"scattergeo\":[{\"marker\":{\"colorbar\":{\"outlinewidth\":0,\"ticks\":\"\"}},\"type\":\"scattergeo\"}],\"scattergl\":[{\"marker\":{\"colorbar\":{\"outlinewidth\":0,\"ticks\":\"\"}},\"type\":\"scattergl\"}],\"scattermapbox\":[{\"marker\":{\"colorbar\":{\"outlinewidth\":0,\"ticks\":\"\"}},\"type\":\"scattermapbox\"}],\"scatterpolargl\":[{\"marker\":{\"colorbar\":{\"outlinewidth\":0,\"ticks\":\"\"}},\"type\":\"scatterpolargl\"}],\"scatterpolar\":[{\"marker\":{\"colorbar\":{\"outlinewidth\":0,\"ticks\":\"\"}},\"type\":\"scatterpolar\"}],\"scatter\":[{\"fillpattern\":{\"fillmode\":\"overlay\",\"size\":10,\"solidity\":0.2},\"type\":\"scatter\"}],\"scatterternary\":[{\"marker\":{\"colorbar\":{\"outlinewidth\":0,\"ticks\":\"\"}},\"type\":\"scatterternary\"}],\"surface\":[{\"colorbar\":{\"outlinewidth\":0,\"ticks\":\"\"},\"colorscale\":[[0.0,\"#0d0887\"],[0.1111111111111111,\"#46039f\"],[0.2222222222222222,\"#7201a8\"],[0.3333333333333333,\"#9c179e\"],[0.4444444444444444,\"#bd3786\"],[0.5555555555555556,\"#d8576b\"],[0.6666666666666666,\"#ed7953\"],[0.7777777777777778,\"#fb9f3a\"],[0.8888888888888888,\"#fdca26\"],[1.0,\"#f0f921\"]],\"type\":\"surface\"}],\"table\":[{\"cells\":{\"fill\":{\"color\":\"#EBF0F8\"},\"line\":{\"color\":\"white\"}},\"header\":{\"fill\":{\"color\":\"#C8D4E3\"},\"line\":{\"color\":\"white\"}},\"type\":\"table\"}]},\"layout\":{\"annotationdefaults\":{\"arrowcolor\":\"#2a3f5f\",\"arrowhead\":0,\"arrowwidth\":1},\"autotypenumbers\":\"strict\",\"coloraxis\":{\"colorbar\":{\"outlinewidth\":0,\"ticks\":\"\"}},\"colorscale\":{\"diverging\":[[0,\"#8e0152\"],[0.1,\"#c51b7d\"],[0.2,\"#de77ae\"],[0.3,\"#f1b6da\"],[0.4,\"#fde0ef\"],[0.5,\"#f7f7f7\"],[0.6,\"#e6f5d0\"],[0.7,\"#b8e186\"],[0.8,\"#7fbc41\"],[0.9,\"#4d9221\"],[1,\"#276419\"]],\"sequential\":[[0.0,\"#0d0887\"],[0.1111111111111111,\"#46039f\"],[0.2222222222222222,\"#7201a8\"],[0.3333333333333333,\"#9c179e\"],[0.4444444444444444,\"#bd3786\"],[0.5555555555555556,\"#d8576b\"],[0.6666666666666666,\"#ed7953\"],[0.7777777777777778,\"#fb9f3a\"],[0.8888888888888888,\"#fdca26\"],[1.0,\"#f0f921\"]],\"sequentialminus\":[[0.0,\"#0d0887\"],[0.1111111111111111,\"#46039f\"],[0.2222222222222222,\"#7201a8\"],[0.3333333333333333,\"#9c179e\"],[0.4444444444444444,\"#bd3786\"],[0.5555555555555556,\"#d8576b\"],[0.6666666666666666,\"#ed7953\"],[0.7777777777777778,\"#fb9f3a\"],[0.8888888888888888,\"#fdca26\"],[1.0,\"#f0f921\"]]},\"colorway\":[\"#636efa\",\"#EF553B\",\"#00cc96\",\"#ab63fa\",\"#FFA15A\",\"#19d3f3\",\"#FF6692\",\"#B6E880\",\"#FF97FF\",\"#FECB52\"],\"font\":{\"color\":\"#2a3f5f\"},\"geo\":{\"bgcolor\":\"white\",\"lakecolor\":\"white\",\"landcolor\":\"white\",\"showlakes\":true,\"showland\":true,\"subunitcolor\":\"#C8D4E3\"},\"hoverlabel\":{\"align\":\"left\"},\"hovermode\":\"closest\",\"mapbox\":{\"style\":\"light\"},\"paper_bgcolor\":\"white\",\"plot_bgcolor\":\"white\",\"polar\":{\"angularaxis\":{\"gridcolor\":\"#EBF0F8\",\"linecolor\":\"#EBF0F8\",\"ticks\":\"\"},\"bgcolor\":\"white\",\"radialaxis\":{\"gridcolor\":\"#EBF0F8\",\"linecolor\":\"#EBF0F8\",\"ticks\":\"\"}},\"scene\":{\"xaxis\":{\"backgroundcolor\":\"white\",\"gridcolor\":\"#DFE8F3\",\"gridwidth\":2,\"linecolor\":\"#EBF0F8\",\"showbackground\":true,\"ticks\":\"\",\"zerolinecolor\":\"#EBF0F8\"},\"yaxis\":{\"backgroundcolor\":\"white\",\"gridcolor\":\"#DFE8F3\",\"gridwidth\":2,\"linecolor\":\"#EBF0F8\",\"showbackground\":true,\"ticks\":\"\",\"zerolinecolor\":\"#EBF0F8\"},\"zaxis\":{\"backgroundcolor\":\"white\",\"gridcolor\":\"#DFE8F3\",\"gridwidth\":2,\"linecolor\":\"#EBF0F8\",\"showbackground\":true,\"ticks\":\"\",\"zerolinecolor\":\"#EBF0F8\"}},\"shapedefaults\":{\"line\":{\"color\":\"#2a3f5f\"}},\"ternary\":{\"aaxis\":{\"gridcolor\":\"#DFE8F3\",\"linecolor\":\"#A2B1C6\",\"ticks\":\"\"},\"baxis\":{\"gridcolor\":\"#DFE8F3\",\"linecolor\":\"#A2B1C6\",\"ticks\":\"\"},\"bgcolor\":\"white\",\"caxis\":{\"gridcolor\":\"#DFE8F3\",\"linecolor\":\"#A2B1C6\",\"ticks\":\"\"}},\"title\":{\"x\":0.05},\"xaxis\":{\"automargin\":true,\"gridcolor\":\"#EBF0F8\",\"linecolor\":\"#EBF0F8\",\"ticks\":\"\",\"title\":{\"standoff\":15},\"zerolinecolor\":\"#EBF0F8\",\"zerolinewidth\":2},\"yaxis\":{\"automargin\":true,\"gridcolor\":\"#EBF0F8\",\"linecolor\":\"#EBF0F8\",\"ticks\":\"\",\"title\":{\"standoff\":15},\"zerolinecolor\":\"#EBF0F8\",\"zerolinewidth\":2}}},\"yaxis\":{\"title\":{\"text\":\"SPEI 6\"},\"zeroline\":true,\"zerolinewidth\":1,\"zerolinecolor\":\"#D3D3D3\"},\"title\":{\"text\":\"6 months SPEI for June across years in Saudi Arabia (Saudi Arabia)\"},\"xaxis\":{\"title\":{\"text\":\"Year\"}},\"height\":600,\"plot_bgcolor\":\"rgba(0,0,0,0)\",\"legend\":{\"title\":{\"text\":\"SPEI Categories\"}}},                        {\"responsive\": true}                    ).then(function(){\n",
       "                            \n",
       "var gd = document.getElementById('727c94cc-d756-446b-aa06-0ee694528263');\n",
       "var x = new MutationObserver(function (mutations, observer) {{\n",
       "        var display = window.getComputedStyle(gd).display;\n",
       "        if (!display || display === 'none') {{\n",
       "            console.log([gd, 'removed!']);\n",
       "            Plotly.purge(gd);\n",
       "            observer.disconnect();\n",
       "        }}\n",
       "}});\n",
       "\n",
       "// Listen for the removal of the full notebook cells\n",
       "var notebookContainer = gd.closest('#notebook-container');\n",
       "if (notebookContainer) {{\n",
       "    x.observe(notebookContainer, {childList: true});\n",
       "}}\n",
       "\n",
       "// Listen for the clearing of the current output cell\n",
       "var outputEl = gd.closest('.output');\n",
       "if (outputEl) {{\n",
       "    x.observe(outputEl, {childList: true});\n",
       "}}\n",
       "\n",
       "                        })                };                });            </script>        </div>"
      ]
     },
     "metadata": {},
     "output_type": "display_data"
    }
   ],
   "source": [
    "charts.create_std_dev_bar_chart(stat_values, timescales, selected, placeholders)"
   ]
  },
  {
   "cell_type": "code",
   "execution_count": 13,
   "id": "704a12ae-dc3e-4229-92aa-c3f02faacc1e",
   "metadata": {},
   "outputs": [
    {
     "data": {
      "application/vnd.jupyter.widget-view+json": {
       "model_id": "252bf4c2ad624cc08b1a95533ab67bdf",
       "version_major": 2,
       "version_minor": 0
      },
      "text/plain": [
       "Dropdown(description='Select a country:', index=170, layout=Layout(display='flex', justify_content='flex-end',…"
      ]
     },
     "metadata": {},
     "output_type": "display_data"
    },
    {
     "data": {
      "application/vnd.jupyter.widget-view+json": {
       "model_id": "13f0baea4ade4f1cb4d23b7c9b1d81bb",
       "version_major": 2,
       "version_minor": 0
      },
      "text/plain": [
       "Dropdown(description='a subarea of first level:', layout=Layout(display='flex', justify_content='flex-end', wi…"
      ]
     },
     "metadata": {},
     "output_type": "display_data"
    },
    {
     "data": {
      "application/vnd.jupyter.widget-view+json": {
       "model_id": "ccb448b5d36541d3a0d29f3c87021a6c",
       "version_major": 2,
       "version_minor": 0
      },
      "text/plain": [
       "Dropdown(description='or of second level:', layout=Layout(display='flex', justify_content='flex-end', width='4…"
      ]
     },
     "metadata": {},
     "output_type": "display_data"
    },
    {
     "data": {
      "application/vnd.jupyter.widget-view+json": {
       "model_id": "946a98ad5beb4df3a84950c26d74a323",
       "version_major": 2,
       "version_minor": 0
      },
      "text/plain": [
       "Dropdown(description='Select a timescale:', index=3, layout=Layout(display='flex', justify_content='flex-end',…"
      ]
     },
     "metadata": {},
     "output_type": "display_data"
    },
    {
     "data": {
      "application/vnd.jupyter.widget-view+json": {
       "model_id": "a9f80b8ff4544c27afba7fbcd9535687",
       "version_major": 2,
       "version_minor": 0
      },
      "text/plain": [
       "Dropdown(description='Select a year:', layout=Layout(display='flex', justify_content='flex-end', width='400px'…"
      ]
     },
     "metadata": {},
     "output_type": "display_data"
    },
    {
     "data": {
      "application/vnd.jupyter.widget-view+json": {
       "model_id": "5511459bca1b43cfbe008fc8f9bb9b3b",
       "version_major": 2,
       "version_minor": 0
      },
      "text/plain": [
       "Button(button_style='info', description='Get data', icon='filter', layout=Layout(width='400px'), style=ButtonS…"
      ]
     },
     "metadata": {},
     "output_type": "display_data"
    },
    {
     "data": {
      "application/vnd.jupyter.widget-view+json": {
       "model_id": "5fd74a78957e46088e89a08c73d436e8",
       "version_major": 2,
       "version_minor": 0
      },
      "text/plain": [
       "Output(outputs=({'name': 'stdout', 'text': 'Coordinates retrieved for Saudi Arabia (ADM0) - https://www.geobou…"
      ]
     },
     "metadata": {},
     "output_type": "display_data"
    }
   ],
   "source": [
    "# Update existing selectors\n",
    "previous_selection = widgets_handler.read_json_to_dict('selection.json')\n",
    "\n",
    "# Set up widgets with previous settings\n",
    "country_selector.value = previous_selection.get('country', placeholders['country'])\n",
    "adm1_subarea_selector.value = previous_selection.get('adm1_subarea', placeholders['adm1_subarea'])\n",
    "adm2_subarea_selector.value = previous_selection.get('adm2_subarea', placeholders['adm2_subarea'])\n",
    "timescale_selector.value = previous_selection.get('timescale', placeholders['timescale'])\n",
    "year_selector.value = previous_selection.get('year', placeholders['year'])\n",
    "year_widgets_btn.on_click(on_button_clicked)\n",
    "\n",
    "# Display widgets\n",
    "display(country_selector, adm1_subarea_selector, adm2_subarea_selector, timescale_selector, year_selector, year_widgets_btn, output_area)"
   ]
  },
  {
   "cell_type": "code",
   "execution_count": 12,
   "id": "ff180e62-8735-42b9-9fd6-08b6159f6c03",
   "metadata": {},
   "outputs": [
    {
     "name": "stdout",
     "output_type": "stream",
     "text": [
      "Country:  Israel\n",
      "ADM1 subarea:  no adm1 subarea selected...\n",
      "ADM2 subarea:  Golan\n",
      "Year:  1995\n",
      "Timescale:  3 months \n",
      "\n",
      "Time values in the subset: 12\n",
      "Latitude values in the subset: 3\n",
      "Longitude values in the subset: 3 \n",
      "\n",
      "Data sample:  [[1.34511606 1.54849556 1.56422204]\n",
      " [1.29622062 1.44720167 1.62850052]\n",
      " [1.41875685 1.3545634  1.53487496]]\n"
     ]
    }
   ],
   "source": [
    "data_preprocess.display_data_details(active_btn, selected, subset_data[index])"
   ]
  },
  {
   "cell_type": "code",
   "execution_count": 13,
   "id": "4217b710-9f2f-4942-8e9f-3ec610246f3e",
   "metadata": {},
   "outputs": [
    {
     "name": "stdout",
     "output_type": "stream",
     "text": [
      "<xarray.DataArray 'SPEI3' (time: 12, lat: 3, lon: 3)>\n",
      "dask.array<where, shape=(12, 3, 3), dtype=float64, chunksize=(1, 3, 3), chunktype=numpy.ndarray>\n",
      "Coordinates:\n",
      "  * time     (time) datetime64[ns] 1995-01-01T06:00:00 ... 1995-12-01T06:00:00\n",
      "  * lon      (lon) float64 35.5 35.75 36.0\n",
      "  * lat      (lat) float64 32.75 33.0 33.25\n",
      "Attributes:\n",
      "    long_name:  Standardized Drought Index (SPEI3)\n",
      "    units:      - \n",
      "\n",
      "Change summary:\n",
      "invalid_values_replaced 0\n",
      "invalid_ratio 0.0\n",
      "duplicates_removed 0\n",
      "cftime_conversions 0\n"
     ]
    }
   ],
   "source": [
    "processed_subset, change_summary = data_preprocess.process_datarray(subset_data[index])\n",
    "print(processed_subset, '\\n')\n",
    "print('Change summary:')\n",
    "for key, val in change_summary.items():\n",
    "    print(key, val)"
   ]
  },
  {
   "cell_type": "code",
   "execution_count": 14,
   "id": "2eff3063-03bf-4685-b382-aee245c06f18",
   "metadata": {},
   "outputs": [],
   "source": [
    "stat_values = data_preprocess.compute_stats(processed_subset, full_stats=False)"
   ]
  },
  {
   "cell_type": "code",
   "execution_count": 15,
   "id": "6bde9279-bcbc-4719-a5c3-938e6378468d",
   "metadata": {},
   "outputs": [
    {
     "data": {
      "application/vnd.plotly.v1+json": {
       "config": {
        "plotlyServerURL": "https://plot.ly"
       },
       "data": [
        {
         "hoverinfo": "text",
         "line": {
          "color": "#B89A7D",
          "width": 2
         },
         "marker": {
          "color": [
           "#43EFAA",
           "#A1F7D5",
           "#FF961F",
           "#FFBF69",
           "#FFBF69",
           "#A1F7D5",
           "#A1F7D5",
           "#A1F7D5",
           "#43EFAA",
           "#FFBF69",
           "#A1F7D5",
           "#FFBF69"
          ],
          "line": {
           "color": "#B89A7D",
           "width": 2
          },
          "size": 15
         },
         "mode": "lines+markers",
         "name": "Median SPEI",
         "showlegend": false,
         "text": [
          "January 1995, median: 1.45",
          "February 1995, median: 0.16",
          "March 1995, median: -1.11",
          "April 1995, median: -0.10",
          "May 1995, median: -0.47",
          "June 1995, median: 0.03",
          "July 1995, median: 0.67",
          "August 1995, median: 0.98",
          "September 1995, median: 1.06",
          "October 1995, median: -0.32",
          "November 1995, median: 0.85",
          "December 1995, median: -0.08"
         ],
         "type": "scatter",
         "x": [
          "1995-01-01T06:00:00.000000000",
          "1995-02-01T06:00:00.000000000",
          "1995-03-01T06:00:00.000000000",
          "1995-04-01T06:00:00.000000000",
          "1995-05-01T06:00:00.000000000",
          "1995-06-01T06:00:00.000000000",
          "1995-07-01T06:00:00.000000000",
          "1995-08-01T06:00:00.000000000",
          "1995-09-01T06:00:00.000000000",
          "1995-10-01T06:00:00.000000000",
          "1995-11-01T06:00:00.000000000",
          "1995-12-01T06:00:00.000000000"
         ],
         "y": [
          1.447201670447129,
          0.15850216694834252,
          -1.1104541138937833,
          -0.10139713732943786,
          -0.4707444013443663,
          0.028312627152722158,
          0.6665804745714253,
          0.9751078542286282,
          1.055022234076495,
          -0.31748708797593955,
          0.845925956283302,
          -0.08118347238387476
         ]
        },
        {
         "hoverinfo": "none",
         "legendgroup": "colors",
         "marker": {
          "color": "#074B30",
          "size": 10
         },
         "mode": "markers",
         "name": "Extremely wet",
         "showlegend": true,
         "type": "scatter",
         "x": [
          null
         ],
         "y": [
          null
         ]
        },
        {
         "hoverinfo": "none",
         "legendgroup": "colors",
         "marker": {
          "color": "#0D965f",
          "size": 10
         },
         "mode": "markers",
         "name": "Severely wet",
         "showlegend": true,
         "type": "scatter",
         "x": [
          null
         ],
         "y": [
          null
         ]
        },
        {
         "hoverinfo": "none",
         "legendgroup": "colors",
         "marker": {
          "color": "#43EFAA",
          "size": 10
         },
         "mode": "markers",
         "name": "Moderately wet",
         "showlegend": true,
         "type": "scatter",
         "x": [
          null
         ],
         "y": [
          null
         ]
        },
        {
         "hoverinfo": "none",
         "legendgroup": "colors",
         "marker": {
          "color": "#A1F7D5",
          "size": 10
         },
         "mode": "markers",
         "name": "Mildly wet",
         "showlegend": true,
         "type": "scatter",
         "x": [
          null
         ],
         "y": [
          null
         ]
        },
        {
         "hoverinfo": "none",
         "legendgroup": "colors",
         "marker": {
          "color": "#FFBF69",
          "size": 10
         },
         "mode": "markers",
         "name": "Mildly dry",
         "showlegend": true,
         "type": "scatter",
         "x": [
          null
         ],
         "y": [
          null
         ]
        },
        {
         "hoverinfo": "none",
         "legendgroup": "colors",
         "marker": {
          "color": "#FF961F",
          "size": 10
         },
         "mode": "markers",
         "name": "Moderately dry",
         "showlegend": true,
         "type": "scatter",
         "x": [
          null
         ],
         "y": [
          null
         ]
        },
        {
         "hoverinfo": "none",
         "legendgroup": "colors",
         "marker": {
          "color": "#8F5100",
          "size": 10
         },
         "mode": "markers",
         "name": "Severely dry",
         "showlegend": true,
         "type": "scatter",
         "x": [
          null
         ],
         "y": [
          null
         ]
        },
        {
         "hoverinfo": "none",
         "legendgroup": "colors",
         "marker": {
          "color": "#291700",
          "size": 10
         },
         "mode": "markers",
         "name": "Extremely dry",
         "showlegend": true,
         "type": "scatter",
         "x": [
          null
         ],
         "y": [
          null
         ]
        }
       ],
       "layout": {
        "autosize": true,
        "legend": {
         "title": {
          "text": "SPEI Categories"
         }
        },
        "plot_bgcolor": "rgba(0, 0, 0, 0)",
        "template": {
         "data": {
          "bar": [
           {
            "error_x": {
             "color": "#2a3f5f"
            },
            "error_y": {
             "color": "#2a3f5f"
            },
            "marker": {
             "line": {
              "color": "white",
              "width": 0.5
             },
             "pattern": {
              "fillmode": "overlay",
              "size": 10,
              "solidity": 0.2
             }
            },
            "type": "bar"
           }
          ],
          "barpolar": [
           {
            "marker": {
             "line": {
              "color": "white",
              "width": 0.5
             },
             "pattern": {
              "fillmode": "overlay",
              "size": 10,
              "solidity": 0.2
             }
            },
            "type": "barpolar"
           }
          ],
          "carpet": [
           {
            "aaxis": {
             "endlinecolor": "#2a3f5f",
             "gridcolor": "#C8D4E3",
             "linecolor": "#C8D4E3",
             "minorgridcolor": "#C8D4E3",
             "startlinecolor": "#2a3f5f"
            },
            "baxis": {
             "endlinecolor": "#2a3f5f",
             "gridcolor": "#C8D4E3",
             "linecolor": "#C8D4E3",
             "minorgridcolor": "#C8D4E3",
             "startlinecolor": "#2a3f5f"
            },
            "type": "carpet"
           }
          ],
          "choropleth": [
           {
            "colorbar": {
             "outlinewidth": 0,
             "ticks": ""
            },
            "type": "choropleth"
           }
          ],
          "contour": [
           {
            "colorbar": {
             "outlinewidth": 0,
             "ticks": ""
            },
            "colorscale": [
             [
              0,
              "#0d0887"
             ],
             [
              0.1111111111111111,
              "#46039f"
             ],
             [
              0.2222222222222222,
              "#7201a8"
             ],
             [
              0.3333333333333333,
              "#9c179e"
             ],
             [
              0.4444444444444444,
              "#bd3786"
             ],
             [
              0.5555555555555556,
              "#d8576b"
             ],
             [
              0.6666666666666666,
              "#ed7953"
             ],
             [
              0.7777777777777778,
              "#fb9f3a"
             ],
             [
              0.8888888888888888,
              "#fdca26"
             ],
             [
              1,
              "#f0f921"
             ]
            ],
            "type": "contour"
           }
          ],
          "contourcarpet": [
           {
            "colorbar": {
             "outlinewidth": 0,
             "ticks": ""
            },
            "type": "contourcarpet"
           }
          ],
          "heatmap": [
           {
            "colorbar": {
             "outlinewidth": 0,
             "ticks": ""
            },
            "colorscale": [
             [
              0,
              "#0d0887"
             ],
             [
              0.1111111111111111,
              "#46039f"
             ],
             [
              0.2222222222222222,
              "#7201a8"
             ],
             [
              0.3333333333333333,
              "#9c179e"
             ],
             [
              0.4444444444444444,
              "#bd3786"
             ],
             [
              0.5555555555555556,
              "#d8576b"
             ],
             [
              0.6666666666666666,
              "#ed7953"
             ],
             [
              0.7777777777777778,
              "#fb9f3a"
             ],
             [
              0.8888888888888888,
              "#fdca26"
             ],
             [
              1,
              "#f0f921"
             ]
            ],
            "type": "heatmap"
           }
          ],
          "heatmapgl": [
           {
            "colorbar": {
             "outlinewidth": 0,
             "ticks": ""
            },
            "colorscale": [
             [
              0,
              "#0d0887"
             ],
             [
              0.1111111111111111,
              "#46039f"
             ],
             [
              0.2222222222222222,
              "#7201a8"
             ],
             [
              0.3333333333333333,
              "#9c179e"
             ],
             [
              0.4444444444444444,
              "#bd3786"
             ],
             [
              0.5555555555555556,
              "#d8576b"
             ],
             [
              0.6666666666666666,
              "#ed7953"
             ],
             [
              0.7777777777777778,
              "#fb9f3a"
             ],
             [
              0.8888888888888888,
              "#fdca26"
             ],
             [
              1,
              "#f0f921"
             ]
            ],
            "type": "heatmapgl"
           }
          ],
          "histogram": [
           {
            "marker": {
             "pattern": {
              "fillmode": "overlay",
              "size": 10,
              "solidity": 0.2
             }
            },
            "type": "histogram"
           }
          ],
          "histogram2d": [
           {
            "colorbar": {
             "outlinewidth": 0,
             "ticks": ""
            },
            "colorscale": [
             [
              0,
              "#0d0887"
             ],
             [
              0.1111111111111111,
              "#46039f"
             ],
             [
              0.2222222222222222,
              "#7201a8"
             ],
             [
              0.3333333333333333,
              "#9c179e"
             ],
             [
              0.4444444444444444,
              "#bd3786"
             ],
             [
              0.5555555555555556,
              "#d8576b"
             ],
             [
              0.6666666666666666,
              "#ed7953"
             ],
             [
              0.7777777777777778,
              "#fb9f3a"
             ],
             [
              0.8888888888888888,
              "#fdca26"
             ],
             [
              1,
              "#f0f921"
             ]
            ],
            "type": "histogram2d"
           }
          ],
          "histogram2dcontour": [
           {
            "colorbar": {
             "outlinewidth": 0,
             "ticks": ""
            },
            "colorscale": [
             [
              0,
              "#0d0887"
             ],
             [
              0.1111111111111111,
              "#46039f"
             ],
             [
              0.2222222222222222,
              "#7201a8"
             ],
             [
              0.3333333333333333,
              "#9c179e"
             ],
             [
              0.4444444444444444,
              "#bd3786"
             ],
             [
              0.5555555555555556,
              "#d8576b"
             ],
             [
              0.6666666666666666,
              "#ed7953"
             ],
             [
              0.7777777777777778,
              "#fb9f3a"
             ],
             [
              0.8888888888888888,
              "#fdca26"
             ],
             [
              1,
              "#f0f921"
             ]
            ],
            "type": "histogram2dcontour"
           }
          ],
          "mesh3d": [
           {
            "colorbar": {
             "outlinewidth": 0,
             "ticks": ""
            },
            "type": "mesh3d"
           }
          ],
          "parcoords": [
           {
            "line": {
             "colorbar": {
              "outlinewidth": 0,
              "ticks": ""
             }
            },
            "type": "parcoords"
           }
          ],
          "pie": [
           {
            "automargin": true,
            "type": "pie"
           }
          ],
          "scatter": [
           {
            "fillpattern": {
             "fillmode": "overlay",
             "size": 10,
             "solidity": 0.2
            },
            "type": "scatter"
           }
          ],
          "scatter3d": [
           {
            "line": {
             "colorbar": {
              "outlinewidth": 0,
              "ticks": ""
             }
            },
            "marker": {
             "colorbar": {
              "outlinewidth": 0,
              "ticks": ""
             }
            },
            "type": "scatter3d"
           }
          ],
          "scattercarpet": [
           {
            "marker": {
             "colorbar": {
              "outlinewidth": 0,
              "ticks": ""
             }
            },
            "type": "scattercarpet"
           }
          ],
          "scattergeo": [
           {
            "marker": {
             "colorbar": {
              "outlinewidth": 0,
              "ticks": ""
             }
            },
            "type": "scattergeo"
           }
          ],
          "scattergl": [
           {
            "marker": {
             "colorbar": {
              "outlinewidth": 0,
              "ticks": ""
             }
            },
            "type": "scattergl"
           }
          ],
          "scattermapbox": [
           {
            "marker": {
             "colorbar": {
              "outlinewidth": 0,
              "ticks": ""
             }
            },
            "type": "scattermapbox"
           }
          ],
          "scatterpolar": [
           {
            "marker": {
             "colorbar": {
              "outlinewidth": 0,
              "ticks": ""
             }
            },
            "type": "scatterpolar"
           }
          ],
          "scatterpolargl": [
           {
            "marker": {
             "colorbar": {
              "outlinewidth": 0,
              "ticks": ""
             }
            },
            "type": "scatterpolargl"
           }
          ],
          "scatterternary": [
           {
            "marker": {
             "colorbar": {
              "outlinewidth": 0,
              "ticks": ""
             }
            },
            "type": "scatterternary"
           }
          ],
          "surface": [
           {
            "colorbar": {
             "outlinewidth": 0,
             "ticks": ""
            },
            "colorscale": [
             [
              0,
              "#0d0887"
             ],
             [
              0.1111111111111111,
              "#46039f"
             ],
             [
              0.2222222222222222,
              "#7201a8"
             ],
             [
              0.3333333333333333,
              "#9c179e"
             ],
             [
              0.4444444444444444,
              "#bd3786"
             ],
             [
              0.5555555555555556,
              "#d8576b"
             ],
             [
              0.6666666666666666,
              "#ed7953"
             ],
             [
              0.7777777777777778,
              "#fb9f3a"
             ],
             [
              0.8888888888888888,
              "#fdca26"
             ],
             [
              1,
              "#f0f921"
             ]
            ],
            "type": "surface"
           }
          ],
          "table": [
           {
            "cells": {
             "fill": {
              "color": "#EBF0F8"
             },
             "line": {
              "color": "white"
             }
            },
            "header": {
             "fill": {
              "color": "#C8D4E3"
             },
             "line": {
              "color": "white"
             }
            },
            "type": "table"
           }
          ]
         },
         "layout": {
          "annotationdefaults": {
           "arrowcolor": "#2a3f5f",
           "arrowhead": 0,
           "arrowwidth": 1
          },
          "autotypenumbers": "strict",
          "coloraxis": {
           "colorbar": {
            "outlinewidth": 0,
            "ticks": ""
           }
          },
          "colorscale": {
           "diverging": [
            [
             0,
             "#8e0152"
            ],
            [
             0.1,
             "#c51b7d"
            ],
            [
             0.2,
             "#de77ae"
            ],
            [
             0.3,
             "#f1b6da"
            ],
            [
             0.4,
             "#fde0ef"
            ],
            [
             0.5,
             "#f7f7f7"
            ],
            [
             0.6,
             "#e6f5d0"
            ],
            [
             0.7,
             "#b8e186"
            ],
            [
             0.8,
             "#7fbc41"
            ],
            [
             0.9,
             "#4d9221"
            ],
            [
             1,
             "#276419"
            ]
           ],
           "sequential": [
            [
             0,
             "#0d0887"
            ],
            [
             0.1111111111111111,
             "#46039f"
            ],
            [
             0.2222222222222222,
             "#7201a8"
            ],
            [
             0.3333333333333333,
             "#9c179e"
            ],
            [
             0.4444444444444444,
             "#bd3786"
            ],
            [
             0.5555555555555556,
             "#d8576b"
            ],
            [
             0.6666666666666666,
             "#ed7953"
            ],
            [
             0.7777777777777778,
             "#fb9f3a"
            ],
            [
             0.8888888888888888,
             "#fdca26"
            ],
            [
             1,
             "#f0f921"
            ]
           ],
           "sequentialminus": [
            [
             0,
             "#0d0887"
            ],
            [
             0.1111111111111111,
             "#46039f"
            ],
            [
             0.2222222222222222,
             "#7201a8"
            ],
            [
             0.3333333333333333,
             "#9c179e"
            ],
            [
             0.4444444444444444,
             "#bd3786"
            ],
            [
             0.5555555555555556,
             "#d8576b"
            ],
            [
             0.6666666666666666,
             "#ed7953"
            ],
            [
             0.7777777777777778,
             "#fb9f3a"
            ],
            [
             0.8888888888888888,
             "#fdca26"
            ],
            [
             1,
             "#f0f921"
            ]
           ]
          },
          "colorway": [
           "#636efa",
           "#EF553B",
           "#00cc96",
           "#ab63fa",
           "#FFA15A",
           "#19d3f3",
           "#FF6692",
           "#B6E880",
           "#FF97FF",
           "#FECB52"
          ],
          "font": {
           "color": "#2a3f5f"
          },
          "geo": {
           "bgcolor": "white",
           "lakecolor": "white",
           "landcolor": "white",
           "showlakes": true,
           "showland": true,
           "subunitcolor": "#C8D4E3"
          },
          "hoverlabel": {
           "align": "left"
          },
          "hovermode": "closest",
          "mapbox": {
           "style": "light"
          },
          "paper_bgcolor": "white",
          "plot_bgcolor": "white",
          "polar": {
           "angularaxis": {
            "gridcolor": "#EBF0F8",
            "linecolor": "#EBF0F8",
            "ticks": ""
           },
           "bgcolor": "white",
           "radialaxis": {
            "gridcolor": "#EBF0F8",
            "linecolor": "#EBF0F8",
            "ticks": ""
           }
          },
          "scene": {
           "xaxis": {
            "backgroundcolor": "white",
            "gridcolor": "#DFE8F3",
            "gridwidth": 2,
            "linecolor": "#EBF0F8",
            "showbackground": true,
            "ticks": "",
            "zerolinecolor": "#EBF0F8"
           },
           "yaxis": {
            "backgroundcolor": "white",
            "gridcolor": "#DFE8F3",
            "gridwidth": 2,
            "linecolor": "#EBF0F8",
            "showbackground": true,
            "ticks": "",
            "zerolinecolor": "#EBF0F8"
           },
           "zaxis": {
            "backgroundcolor": "white",
            "gridcolor": "#DFE8F3",
            "gridwidth": 2,
            "linecolor": "#EBF0F8",
            "showbackground": true,
            "ticks": "",
            "zerolinecolor": "#EBF0F8"
           }
          },
          "shapedefaults": {
           "line": {
            "color": "#2a3f5f"
           }
          },
          "ternary": {
           "aaxis": {
            "gridcolor": "#DFE8F3",
            "linecolor": "#A2B1C6",
            "ticks": ""
           },
           "baxis": {
            "gridcolor": "#DFE8F3",
            "linecolor": "#A2B1C6",
            "ticks": ""
           },
           "bgcolor": "white",
           "caxis": {
            "gridcolor": "#DFE8F3",
            "linecolor": "#A2B1C6",
            "ticks": ""
           }
          },
          "title": {
           "x": 0.05
          },
          "xaxis": {
           "automargin": true,
           "gridcolor": "#EBF0F8",
           "linecolor": "#EBF0F8",
           "ticks": "",
           "title": {
            "standoff": 15
           },
           "zerolinecolor": "#EBF0F8",
           "zerolinewidth": 2
          },
          "yaxis": {
           "automargin": true,
           "gridcolor": "#EBF0F8",
           "linecolor": "#EBF0F8",
           "ticks": "",
           "title": {
            "standoff": 15
           },
           "zerolinecolor": "#EBF0F8",
           "zerolinewidth": 2
          }
         }
        },
        "title": {
         "text": "Median 3 months SPEI index, trends over time in Golan in 1995"
        },
        "xaxis": {
         "autorange": true,
         "range": [
          "1994-12-09 23:23:08.6127",
          "1995-12-23 12:36:51.3873"
         ],
         "title": {
          "text": "Months"
         },
         "type": "date"
        },
        "yaxis": {
         "autorange": true,
         "range": [
          -1.3267068472253218,
          1.6634544037786676
         ],
         "title": {
          "text": "Median SPEI3"
         },
         "type": "linear",
         "zeroline": true,
         "zerolinecolor": "#D3D3D3",
         "zerolinewidth": 1
        }
       }
      },
      "image/png": "[encoded data removed]",
      "text/html": [
       "<div>                            <div id=\"6439b99d-7cdd-4b40-b812-03ed9e97573e\" class=\"plotly-graph-div\" style=\"height:600px; width:100%;\"></div>            <script type=\"text/javascript\">                require([\"plotly\"], function(Plotly) {                    window.PLOTLYENV=window.PLOTLYENV || {};                                    if (document.getElementById(\"6439b99d-7cdd-4b40-b812-03ed9e97573e\")) {                    Plotly.newPlot(                        \"6439b99d-7cdd-4b40-b812-03ed9e97573e\",                        [{\"hoverinfo\":\"text\",\"line\":{\"color\":\"#B89A7D\",\"width\":2},\"marker\":{\"color\":[\"#43EFAA\",\"#A1F7D5\",\"#FF961F\",\"#FFBF69\",\"#FFBF69\",\"#A1F7D5\",\"#A1F7D5\",\"#A1F7D5\",\"#43EFAA\",\"#FFBF69\",\"#A1F7D5\",\"#FFBF69\"],\"line\":{\"color\":\"#B89A7D\",\"width\":2},\"size\":15},\"mode\":\"lines+markers\",\"name\":\"Median SPEI\",\"showlegend\":false,\"text\":[\"January 1995, median: 1.45\",\"February 1995, median: 0.16\",\"March 1995, median: -1.11\",\"April 1995, median: -0.10\",\"May 1995, median: -0.47\",\"June 1995, median: 0.03\",\"July 1995, median: 0.67\",\"August 1995, median: 0.98\",\"September 1995, median: 1.06\",\"October 1995, median: -0.32\",\"November 1995, median: 0.85\",\"December 1995, median: -0.08\"],\"x\":[\"1995-01-01T06:00:00.000000000\",\"1995-02-01T06:00:00.000000000\",\"1995-03-01T06:00:00.000000000\",\"1995-04-01T06:00:00.000000000\",\"1995-05-01T06:00:00.000000000\",\"1995-06-01T06:00:00.000000000\",\"1995-07-01T06:00:00.000000000\",\"1995-08-01T06:00:00.000000000\",\"1995-09-01T06:00:00.000000000\",\"1995-10-01T06:00:00.000000000\",\"1995-11-01T06:00:00.000000000\",\"1995-12-01T06:00:00.000000000\"],\"y\":[1.447201670447129,0.15850216694834252,-1.1104541138937833,-0.10139713732943786,-0.4707444013443663,0.028312627152722158,0.6665804745714253,0.9751078542286282,1.055022234076495,-0.31748708797593955,0.845925956283302,-0.08118347238387476],\"type\":\"scatter\"},{\"hoverinfo\":\"none\",\"legendgroup\":\"colors\",\"marker\":{\"color\":\"#074B30\",\"size\":10},\"mode\":\"markers\",\"name\":\"Extremely wet\",\"showlegend\":true,\"x\":[null],\"y\":[null],\"type\":\"scatter\"},{\"hoverinfo\":\"none\",\"legendgroup\":\"colors\",\"marker\":{\"color\":\"#0D965f\",\"size\":10},\"mode\":\"markers\",\"name\":\"Severely wet\",\"showlegend\":true,\"x\":[null],\"y\":[null],\"type\":\"scatter\"},{\"hoverinfo\":\"none\",\"legendgroup\":\"colors\",\"marker\":{\"color\":\"#43EFAA\",\"size\":10},\"mode\":\"markers\",\"name\":\"Moderately wet\",\"showlegend\":true,\"x\":[null],\"y\":[null],\"type\":\"scatter\"},{\"hoverinfo\":\"none\",\"legendgroup\":\"colors\",\"marker\":{\"color\":\"#A1F7D5\",\"size\":10},\"mode\":\"markers\",\"name\":\"Mildly wet\",\"showlegend\":true,\"x\":[null],\"y\":[null],\"type\":\"scatter\"},{\"hoverinfo\":\"none\",\"legendgroup\":\"colors\",\"marker\":{\"color\":\"#FFBF69\",\"size\":10},\"mode\":\"markers\",\"name\":\"Mildly dry\",\"showlegend\":true,\"x\":[null],\"y\":[null],\"type\":\"scatter\"},{\"hoverinfo\":\"none\",\"legendgroup\":\"colors\",\"marker\":{\"color\":\"#FF961F\",\"size\":10},\"mode\":\"markers\",\"name\":\"Moderately dry\",\"showlegend\":true,\"x\":[null],\"y\":[null],\"type\":\"scatter\"},{\"hoverinfo\":\"none\",\"legendgroup\":\"colors\",\"marker\":{\"color\":\"#8F5100\",\"size\":10},\"mode\":\"markers\",\"name\":\"Severely dry\",\"showlegend\":true,\"x\":[null],\"y\":[null],\"type\":\"scatter\"},{\"hoverinfo\":\"none\",\"legendgroup\":\"colors\",\"marker\":{\"color\":\"#291700\",\"size\":10},\"mode\":\"markers\",\"name\":\"Extremely dry\",\"showlegend\":true,\"x\":[null],\"y\":[null],\"type\":\"scatter\"}],                        {\"template\":{\"data\":{\"barpolar\":[{\"marker\":{\"line\":{\"color\":\"white\",\"width\":0.5},\"pattern\":{\"fillmode\":\"overlay\",\"size\":10,\"solidity\":0.2}},\"type\":\"barpolar\"}],\"bar\":[{\"error_x\":{\"color\":\"#2a3f5f\"},\"error_y\":{\"color\":\"#2a3f5f\"},\"marker\":{\"line\":{\"color\":\"white\",\"width\":0.5},\"pattern\":{\"fillmode\":\"overlay\",\"size\":10,\"solidity\":0.2}},\"type\":\"bar\"}],\"carpet\":[{\"aaxis\":{\"endlinecolor\":\"#2a3f5f\",\"gridcolor\":\"#C8D4E3\",\"linecolor\":\"#C8D4E3\",\"minorgridcolor\":\"#C8D4E3\",\"startlinecolor\":\"#2a3f5f\"},\"baxis\":{\"endlinecolor\":\"#2a3f5f\",\"gridcolor\":\"#C8D4E3\",\"linecolor\":\"#C8D4E3\",\"minorgridcolor\":\"#C8D4E3\",\"startlinecolor\":\"#2a3f5f\"},\"type\":\"carpet\"}],\"choropleth\":[{\"colorbar\":{\"outlinewidth\":0,\"ticks\":\"\"},\"type\":\"choropleth\"}],\"contourcarpet\":[{\"colorbar\":{\"outlinewidth\":0,\"ticks\":\"\"},\"type\":\"contourcarpet\"}],\"contour\":[{\"colorbar\":{\"outlinewidth\":0,\"ticks\":\"\"},\"colorscale\":[[0.0,\"#0d0887\"],[0.1111111111111111,\"#46039f\"],[0.2222222222222222,\"#7201a8\"],[0.3333333333333333,\"#9c179e\"],[0.4444444444444444,\"#bd3786\"],[0.5555555555555556,\"#d8576b\"],[0.6666666666666666,\"#ed7953\"],[0.7777777777777778,\"#fb9f3a\"],[0.8888888888888888,\"#fdca26\"],[1.0,\"#f0f921\"]],\"type\":\"contour\"}],\"heatmapgl\":[{\"colorbar\":{\"outlinewidth\":0,\"ticks\":\"\"},\"colorscale\":[[0.0,\"#0d0887\"],[0.1111111111111111,\"#46039f\"],[0.2222222222222222,\"#7201a8\"],[0.3333333333333333,\"#9c179e\"],[0.4444444444444444,\"#bd3786\"],[0.5555555555555556,\"#d8576b\"],[0.6666666666666666,\"#ed7953\"],[0.7777777777777778,\"#fb9f3a\"],[0.8888888888888888,\"#fdca26\"],[1.0,\"#f0f921\"]],\"type\":\"heatmapgl\"}],\"heatmap\":[{\"colorbar\":{\"outlinewidth\":0,\"ticks\":\"\"},\"colorscale\":[[0.0,\"#0d0887\"],[0.1111111111111111,\"#46039f\"],[0.2222222222222222,\"#7201a8\"],[0.3333333333333333,\"#9c179e\"],[0.4444444444444444,\"#bd3786\"],[0.5555555555555556,\"#d8576b\"],[0.6666666666666666,\"#ed7953\"],[0.7777777777777778,\"#fb9f3a\"],[0.8888888888888888,\"#fdca26\"],[1.0,\"#f0f921\"]],\"type\":\"heatmap\"}],\"histogram2dcontour\":[{\"colorbar\":{\"outlinewidth\":0,\"ticks\":\"\"},\"colorscale\":[[0.0,\"#0d0887\"],[0.1111111111111111,\"#46039f\"],[0.2222222222222222,\"#7201a8\"],[0.3333333333333333,\"#9c179e\"],[0.4444444444444444,\"#bd3786\"],[0.5555555555555556,\"#d8576b\"],[0.6666666666666666,\"#ed7953\"],[0.7777777777777778,\"#fb9f3a\"],[0.8888888888888888,\"#fdca26\"],[1.0,\"#f0f921\"]],\"type\":\"histogram2dcontour\"}],\"histogram2d\":[{\"colorbar\":{\"outlinewidth\":0,\"ticks\":\"\"},\"colorscale\":[[0.0,\"#0d0887\"],[0.1111111111111111,\"#46039f\"],[0.2222222222222222,\"#7201a8\"],[0.3333333333333333,\"#9c179e\"],[0.4444444444444444,\"#bd3786\"],[0.5555555555555556,\"#d8576b\"],[0.6666666666666666,\"#ed7953\"],[0.7777777777777778,\"#fb9f3a\"],[0.8888888888888888,\"#fdca26\"],[1.0,\"#f0f921\"]],\"type\":\"histogram2d\"}],\"histogram\":[{\"marker\":{\"pattern\":{\"fillmode\":\"overlay\",\"size\":10,\"solidity\":0.2}},\"type\":\"histogram\"}],\"mesh3d\":[{\"colorbar\":{\"outlinewidth\":0,\"ticks\":\"\"},\"type\":\"mesh3d\"}],\"parcoords\":[{\"line\":{\"colorbar\":{\"outlinewidth\":0,\"ticks\":\"\"}},\"type\":\"parcoords\"}],\"pie\":[{\"automargin\":true,\"type\":\"pie\"}],\"scatter3d\":[{\"line\":{\"colorbar\":{\"outlinewidth\":0,\"ticks\":\"\"}},\"marker\":{\"colorbar\":{\"outlinewidth\":0,\"ticks\":\"\"}},\"type\":\"scatter3d\"}],\"scattercarpet\":[{\"marker\":{\"colorbar\":{\"outlinewidth\":0,\"ticks\":\"\"}},\"type\":\"scattercarpet\"}],\"scattergeo\":[{\"marker\":{\"colorbar\":{\"outlinewidth\":0,\"ticks\":\"\"}},\"type\":\"scattergeo\"}],\"scattergl\":[{\"marker\":{\"colorbar\":{\"outlinewidth\":0,\"ticks\":\"\"}},\"type\":\"scattergl\"}],\"scattermapbox\":[{\"marker\":{\"colorbar\":{\"outlinewidth\":0,\"ticks\":\"\"}},\"type\":\"scattermapbox\"}],\"scatterpolargl\":[{\"marker\":{\"colorbar\":{\"outlinewidth\":0,\"ticks\":\"\"}},\"type\":\"scatterpolargl\"}],\"scatterpolar\":[{\"marker\":{\"colorbar\":{\"outlinewidth\":0,\"ticks\":\"\"}},\"type\":\"scatterpolar\"}],\"scatter\":[{\"fillpattern\":{\"fillmode\":\"overlay\",\"size\":10,\"solidity\":0.2},\"type\":\"scatter\"}],\"scatterternary\":[{\"marker\":{\"colorbar\":{\"outlinewidth\":0,\"ticks\":\"\"}},\"type\":\"scatterternary\"}],\"surface\":[{\"colorbar\":{\"outlinewidth\":0,\"ticks\":\"\"},\"colorscale\":[[0.0,\"#0d0887\"],[0.1111111111111111,\"#46039f\"],[0.2222222222222222,\"#7201a8\"],[0.3333333333333333,\"#9c179e\"],[0.4444444444444444,\"#bd3786\"],[0.5555555555555556,\"#d8576b\"],[0.6666666666666666,\"#ed7953\"],[0.7777777777777778,\"#fb9f3a\"],[0.8888888888888888,\"#fdca26\"],[1.0,\"#f0f921\"]],\"type\":\"surface\"}],\"table\":[{\"cells\":{\"fill\":{\"color\":\"#EBF0F8\"},\"line\":{\"color\":\"white\"}},\"header\":{\"fill\":{\"color\":\"#C8D4E3\"},\"line\":{\"color\":\"white\"}},\"type\":\"table\"}]},\"layout\":{\"annotationdefaults\":{\"arrowcolor\":\"#2a3f5f\",\"arrowhead\":0,\"arrowwidth\":1},\"autotypenumbers\":\"strict\",\"coloraxis\":{\"colorbar\":{\"outlinewidth\":0,\"ticks\":\"\"}},\"colorscale\":{\"diverging\":[[0,\"#8e0152\"],[0.1,\"#c51b7d\"],[0.2,\"#de77ae\"],[0.3,\"#f1b6da\"],[0.4,\"#fde0ef\"],[0.5,\"#f7f7f7\"],[0.6,\"#e6f5d0\"],[0.7,\"#b8e186\"],[0.8,\"#7fbc41\"],[0.9,\"#4d9221\"],[1,\"#276419\"]],\"sequential\":[[0.0,\"#0d0887\"],[0.1111111111111111,\"#46039f\"],[0.2222222222222222,\"#7201a8\"],[0.3333333333333333,\"#9c179e\"],[0.4444444444444444,\"#bd3786\"],[0.5555555555555556,\"#d8576b\"],[0.6666666666666666,\"#ed7953\"],[0.7777777777777778,\"#fb9f3a\"],[0.8888888888888888,\"#fdca26\"],[1.0,\"#f0f921\"]],\"sequentialminus\":[[0.0,\"#0d0887\"],[0.1111111111111111,\"#46039f\"],[0.2222222222222222,\"#7201a8\"],[0.3333333333333333,\"#9c179e\"],[0.4444444444444444,\"#bd3786\"],[0.5555555555555556,\"#d8576b\"],[0.6666666666666666,\"#ed7953\"],[0.7777777777777778,\"#fb9f3a\"],[0.8888888888888888,\"#fdca26\"],[1.0,\"#f0f921\"]]},\"colorway\":[\"#636efa\",\"#EF553B\",\"#00cc96\",\"#ab63fa\",\"#FFA15A\",\"#19d3f3\",\"#FF6692\",\"#B6E880\",\"#FF97FF\",\"#FECB52\"],\"font\":{\"color\":\"#2a3f5f\"},\"geo\":{\"bgcolor\":\"white\",\"lakecolor\":\"white\",\"landcolor\":\"white\",\"showlakes\":true,\"showland\":true,\"subunitcolor\":\"#C8D4E3\"},\"hoverlabel\":{\"align\":\"left\"},\"hovermode\":\"closest\",\"mapbox\":{\"style\":\"light\"},\"paper_bgcolor\":\"white\",\"plot_bgcolor\":\"white\",\"polar\":{\"angularaxis\":{\"gridcolor\":\"#EBF0F8\",\"linecolor\":\"#EBF0F8\",\"ticks\":\"\"},\"bgcolor\":\"white\",\"radialaxis\":{\"gridcolor\":\"#EBF0F8\",\"linecolor\":\"#EBF0F8\",\"ticks\":\"\"}},\"scene\":{\"xaxis\":{\"backgroundcolor\":\"white\",\"gridcolor\":\"#DFE8F3\",\"gridwidth\":2,\"linecolor\":\"#EBF0F8\",\"showbackground\":true,\"ticks\":\"\",\"zerolinecolor\":\"#EBF0F8\"},\"yaxis\":{\"backgroundcolor\":\"white\",\"gridcolor\":\"#DFE8F3\",\"gridwidth\":2,\"linecolor\":\"#EBF0F8\",\"showbackground\":true,\"ticks\":\"\",\"zerolinecolor\":\"#EBF0F8\"},\"zaxis\":{\"backgroundcolor\":\"white\",\"gridcolor\":\"#DFE8F3\",\"gridwidth\":2,\"linecolor\":\"#EBF0F8\",\"showbackground\":true,\"ticks\":\"\",\"zerolinecolor\":\"#EBF0F8\"}},\"shapedefaults\":{\"line\":{\"color\":\"#2a3f5f\"}},\"ternary\":{\"aaxis\":{\"gridcolor\":\"#DFE8F3\",\"linecolor\":\"#A2B1C6\",\"ticks\":\"\"},\"baxis\":{\"gridcolor\":\"#DFE8F3\",\"linecolor\":\"#A2B1C6\",\"ticks\":\"\"},\"bgcolor\":\"white\",\"caxis\":{\"gridcolor\":\"#DFE8F3\",\"linecolor\":\"#A2B1C6\",\"ticks\":\"\"}},\"title\":{\"x\":0.05},\"xaxis\":{\"automargin\":true,\"gridcolor\":\"#EBF0F8\",\"linecolor\":\"#EBF0F8\",\"ticks\":\"\",\"title\":{\"standoff\":15},\"zerolinecolor\":\"#EBF0F8\",\"zerolinewidth\":2},\"yaxis\":{\"automargin\":true,\"gridcolor\":\"#EBF0F8\",\"linecolor\":\"#EBF0F8\",\"ticks\":\"\",\"title\":{\"standoff\":15},\"zerolinecolor\":\"#EBF0F8\",\"zerolinewidth\":2}}},\"yaxis\":{\"title\":{\"text\":\"Median SPEI3\"},\"zeroline\":true,\"zerolinewidth\":1,\"zerolinecolor\":\"#D3D3D3\"},\"title\":{\"text\":\"Median 3 months SPEI index, trends over time in Golan in 1995\"},\"xaxis\":{\"title\":{\"text\":\"Months\"}},\"height\":600,\"plot_bgcolor\":\"rgba(0,0,0,0)\",\"legend\":{\"title\":{\"text\":\"SPEI Categories\"}}},                        {\"responsive\": true}                    ).then(function(){\n",
       "                            \n",
       "var gd = document.getElementById('6439b99d-7cdd-4b40-b812-03ed9e97573e');\n",
       "var x = new MutationObserver(function (mutations, observer) {{\n",
       "        var display = window.getComputedStyle(gd).display;\n",
       "        if (!display || display === 'none') {{\n",
       "            console.log([gd, 'removed!']);\n",
       "            Plotly.purge(gd);\n",
       "            observer.disconnect();\n",
       "        }}\n",
       "}});\n",
       "\n",
       "// Listen for the removal of the full notebook cells\n",
       "var notebookContainer = gd.closest('#notebook-container');\n",
       "if (notebookContainer) {{\n",
       "    x.observe(notebookContainer, {childList: true});\n",
       "}}\n",
       "\n",
       "// Listen for the clearing of the current output cell\n",
       "var outputEl = gd.closest('.output');\n",
       "if (outputEl) {{\n",
       "    x.observe(outputEl, {childList: true});\n",
       "}}\n",
       "\n",
       "                        })                };                });            </script>        </div>"
      ]
     },
     "metadata": {},
     "output_type": "display_data"
    }
   ],
   "source": [
    "charts.create_linechart(stat_values, timescales, selected, placeholders)"
   ]
  },
  {
   "cell_type": "code",
   "execution_count": 16,
   "id": "41b6c4b2-0620-4c8c-b0e6-9d078785dc6d",
   "metadata": {},
   "outputs": [
    {
     "data": {
      "application/vnd.jupyter.widget-view+json": {
       "model_id": "3f8351bbe21643629acd0cdc19942c78",
       "version_major": 2,
       "version_minor": 0
      },
      "text/plain": [
       "Dropdown(description='Select a country:', index=92, layout=Layout(display='flex', justify_content='flex-end', …"
      ]
     },
     "metadata": {},
     "output_type": "display_data"
    },
    {
     "data": {
      "application/vnd.jupyter.widget-view+json": {
       "model_id": "e06562717b1a4f7aba4a0a2f57402afb",
       "version_major": 2,
       "version_minor": 0
      },
      "text/plain": [
       "Dropdown(description='a subarea of first level:', layout=Layout(display='flex', justify_content='flex-end', wi…"
      ]
     },
     "metadata": {},
     "output_type": "display_data"
    },
    {
     "data": {
      "application/vnd.jupyter.widget-view+json": {
       "model_id": "db5d2d7cb4114f6e9375ef41ec54bffa",
       "version_major": 2,
       "version_minor": 0
      },
      "text/plain": [
       "Dropdown(description='or of second level:', index=4, layout=Layout(display='flex', justify_content='flex-end',…"
      ]
     },
     "metadata": {},
     "output_type": "display_data"
    },
    {
     "data": {
      "application/vnd.jupyter.widget-view+json": {
       "model_id": "ba84b9ea649e41dd9a6329ae1f6cbc0f",
       "version_major": 2,
       "version_minor": 0
      },
      "text/plain": [
       "Dropdown(description='Select a timescale:', index=2, layout=Layout(display='flex', justify_content='flex-end',…"
      ]
     },
     "metadata": {},
     "output_type": "display_data"
    },
    {
     "data": {
      "application/vnd.jupyter.widget-view+json": {
       "model_id": "1e81cb8f23974d1ea45509f5a86e7b27",
       "version_major": 2,
       "version_minor": 0
      },
      "text/plain": [
       "SelectionRangeSlider(description='Select the year range:', index=(84, 84), layout=Layout(width='400px'), optio…"
      ]
     },
     "metadata": {},
     "output_type": "display_data"
    },
    {
     "data": {
      "application/vnd.jupyter.widget-view+json": {
       "model_id": "f48bfbd565554155949a1dee78a0bb7e",
       "version_major": 2,
       "version_minor": 0
      },
      "text/plain": [
       "Button(button_style='info', description='Get data', icon='filter', layout=Layout(width='400px'), style=ButtonS…"
      ]
     },
     "metadata": {},
     "output_type": "display_data"
    },
    {
     "data": {
      "application/vnd.jupyter.widget-view+json": {
       "model_id": "8e3879b71da24506bddf04b42a490821",
       "version_major": 2,
       "version_minor": 0
      },
      "text/plain": [
       "Output(outputs=({'name': 'stdout', 'text': 'Coordinates retrieved for Golan (ADM2) - https://www.geoboundaries…"
      ]
     },
     "metadata": {},
     "output_type": "display_data"
    }
   ],
   "source": [
    "# Update existing selectors\n",
    "previous_selection = widgets_handler.read_json_to_dict('selection.json')\n",
    "\n",
    "# Set up widgets with previous settings\n",
    "country_selector.value = previous_selection.get('country', placeholders['country'])\n",
    "adm1_subarea_selector.value = previous_selection.get('adm1_subarea', placeholders['adm1_subarea'])\n",
    "adm2_subarea_selector.value = previous_selection.get('adm2_subarea', placeholders['adm2_subarea'])\n",
    "timescale_selector.value = previous_selection.get('timescale', placeholders['timescale'])\n",
    "year_range_selector.value = previous_selection.get('year_range')\n",
    "year_range_widgets_btn.on_click(on_button_clicked)\n",
    "\n",
    "# Display widgets\n",
    "display(country_selector, adm1_subarea_selector, adm2_subarea_selector, timescale_selector, year_range_selector, year_range_widgets_btn, output_area)"
   ]
  },
  {
   "cell_type": "code",
   "execution_count": 17,
   "id": "e205916c-730e-4cd5-9ea2-7037cfd7b75e",
   "metadata": {},
   "outputs": [
    {
     "name": "stdout",
     "output_type": "stream",
     "text": [
      "Country:  Israel\n",
      "ADM1 subarea:  no adm1 subarea selected...\n",
      "ADM2 subarea:  Golan\n",
      "Year range:  ('2005', '2024')\n",
      "Timescale:  3 months \n",
      "\n",
      "Time values in the subset: 232\n",
      "Latitude values in the subset: 3\n",
      "Longitude values in the subset: 3 \n",
      "\n",
      "Data sample:  [[-0.01584989  0.00781212 -0.04231642]\n",
      " [-0.57952165 -0.47099733 -0.47070313]\n",
      " [-0.01546828  0.11126772  0.03528217]]\n"
     ]
    }
   ],
   "source": [
    "data_preprocess.display_data_details(active_btn, selected, subset_data[index])"
   ]
  },
  {
   "cell_type": "code",
   "execution_count": 18,
   "id": "765633ff-786a-4834-afa1-7680c850f052",
   "metadata": {},
   "outputs": [
    {
     "name": "stdout",
     "output_type": "stream",
     "text": [
      "<xarray.DataArray 'SPEI3' (time: 230, lat: 3, lon: 3)>\n",
      "dask.array<getitem, shape=(230, 3, 3), dtype=float64, chunksize=(1, 3, 3), chunktype=numpy.ndarray>\n",
      "Coordinates:\n",
      "  * time     (time) datetime64[ns] 2005-01-01T06:00:00 ... 2024-02-01T06:00:00\n",
      "  * lon      (lon) float64 35.5 35.75 36.0\n",
      "  * lat      (lat) float64 32.75 33.0 33.25\n",
      "Attributes:\n",
      "    long_name:  Standardized Drought Index (SPEI3)\n",
      "    units:      - \n",
      "\n",
      "Change summary:\n",
      "invalid_values_replaced 0\n",
      "invalid_ratio 0.0\n",
      "duplicates_removed 2\n",
      "cftime_conversions 4\n"
     ]
    }
   ],
   "source": [
    "processed_subset, change_summary = data_preprocess.process_datarray(subset_data[index])\n",
    "print(processed_subset, '\\n')\n",
    "print('Change summary:')\n",
    "for key, val in change_summary.items():\n",
    "    print(key, val)"
   ]
  },
  {
   "cell_type": "code",
   "execution_count": 19,
   "id": "66fe84d2-44d0-4c41-b5bf-ed0fe1f51a96",
   "metadata": {},
   "outputs": [],
   "source": [
    "stat_values = data_preprocess.compute_stats(processed_subset, full_stats=False)"
   ]
  },
  {
   "cell_type": "code",
   "execution_count": 20,
   "id": "8b4b21cc-d97f-4aa1-9d91-bb1ed4cd2093",
   "metadata": {},
   "outputs": [
    {
     "data": {
      "application/vnd.plotly.v1+json": {
       "config": {
        "plotlyServerURL": "https://plot.ly"
       },
       "data": [
        {
         "hoverinfo": "text",
         "hovertext": [
          "January 2005, median: -0.02",
          "February 2005, median: -0.25",
          "March 2005, median: -0.36",
          "April 2005, median: -0.30",
          "May 2005, median: -1.14",
          "June 2005, median: -0.32",
          "July 2005, median: 0.27",
          "August 2005, median: 0.02",
          "September 2005, median: -0.19",
          "October 2005, median: 0.23",
          "November 2005, median: 0.37",
          "December 2005, median: 0.12",
          "January 2006, median: -0.14",
          "February 2006, median: -0.70",
          "March 2006, median: -1.02",
          "April 2006, median: 0.29",
          "May 2006, median: 0.33",
          "June 2006, median: 1.15",
          "July 2006, median: -0.23",
          "August 2006, median: -0.20",
          "September 2006, median: -0.04",
          "October 2006, median: 1.38",
          "November 2006, median: 0.46",
          "December 2006, median: -0.17",
          "January 2007, median: -1.09",
          "February 2007, median: -0.38",
          "March 2007, median: 0.17",
          "April 2007, median: 0.55",
          "May 2007, median: 0.02",
          "June 2007, median: 0.46",
          "July 2007, median: 0.03",
          "August 2007, median: -0.07",
          "September 2007, median: 0.33",
          "October 2007, median: -0.43",
          "November 2007, median: -0.42",
          "December 2007, median: -0.71",
          "January 2008, median: -0.14",
          "February 2008, median: -0.62",
          "March 2008, median: -1.13",
          "April 2008, median: -1.88",
          "May 2008, median: -1.59",
          "June 2008, median: -1.86",
          "July 2008, median: -0.55",
          "August 2008, median: -0.39",
          "September 2008, median: 0.67",
          "October 2008, median: 1.35",
          "November 2008, median: 0.07",
          "December 2008, median: -0.55",
          "January 2009, median: -2.11",
          "February 2009, median: -0.59",
          "March 2009, median: 0.03",
          "April 2009, median: 0.94",
          "May 2009, median: 0.18",
          "June 2009, median: -0.34",
          "July 2009, median: -0.71",
          "August 2009, median: -1.17",
          "September 2009, median: 1.03",
          "October 2009, median: 0.61",
          "November 2009, median: 0.87",
          "December 2009, median: 0.52",
          "January 2010, median: 0.52",
          "February 2010, median: 0.13",
          "March 2010, median: -0.95",
          "April 2010, median: -1.35",
          "May 2010, median: -1.77",
          "June 2010, median: -1.62",
          "July 2010, median: -0.73",
          "August 2010, median: -0.72",
          "September 2010, median: -0.76",
          "October 2010, median: -1.25",
          "November 2010, median: -1.84",
          "December 2010, median: -1.93",
          "January 2011, median: -1.54",
          "February 2011, median: 0.26",
          "March 2011, median: 0.63",
          "April 2011, median: 1.03",
          "May 2011, median: 1.09",
          "June 2011, median: 1.60",
          "July 2011, median: 1.24",
          "August 2011, median: 0.77",
          "September 2011, median: 0.62",
          "October 2011, median: 0.43",
          "November 2011, median: 0.90",
          "December 2011, median: -0.23",
          "January 2012, median: 0.76",
          "February 2012, median: 0.84",
          "March 2012, median: 1.50",
          "April 2012, median: 0.68",
          "May 2012, median: -0.28",
          "June 2012, median: -1.18",
          "July 2012, median: -0.95",
          "August 2012, median: -1.79",
          "September 2012, median: -1.40",
          "October 2012, median: -0.89",
          "November 2012, median: 0.16",
          "December 2012, median: 0.98",
          "January 2013, median: 1.41",
          "February 2013, median: 1.06",
          "March 2013, median: -0.23",
          "April 2013, median: -0.44",
          "May 2013, median: -0.39",
          "June 2013, median: 0.91",
          "July 2013, median: 0.63",
          "August 2013, median: 0.47",
          "September 2013, median: 0.72",
          "October 2013, median: -0.29",
          "November 2013, median: -1.15",
          "December 2013, median: -0.40",
          "January 2014, median: -1.44",
          "February 2014, median: -2.43",
          "March 2014, median: -2.26",
          "April 2014, median: -2.00",
          "May 2014, median: -0.73",
          "June 2014, median: -0.62",
          "July 2014, median: 1.12",
          "August 2014, median: 0.93",
          "September 2014, median: 1.18",
          "October 2014, median: 1.15",
          "November 2014, median: 1.80",
          "December 2014, median: 0.22",
          "January 2015, median: 0.18",
          "February 2015, median: -0.69",
          "March 2015, median: -0.38",
          "April 2015, median: -0.10",
          "May 2015, median: -0.55",
          "June 2015, median: 0.62",
          "July 2015, median: 0.21",
          "August 2015, median: -0.06",
          "September 2015, median: -1.64",
          "October 2015, median: -0.44",
          "November 2015, median: -0.24",
          "December 2015, median: -0.58",
          "January 2016, median: -0.43",
          "February 2016, median: -0.95",
          "March 2016, median: -0.47",
          "April 2016, median: -1.06",
          "May 2016, median: -0.92",
          "June 2016, median: -1.40",
          "July 2016, median: -0.46",
          "August 2016, median: -0.93",
          "September 2016, median: 0.26",
          "October 2016, median: -0.70",
          "November 2016, median: -1.44",
          "December 2016, median: 0.44",
          "January 2017, median: 0.28",
          "February 2017, median: -0.06",
          "March 2017, median: -1.34",
          "April 2017, median: -1.06",
          "May 2017, median: -0.86",
          "June 2017, median: -0.96",
          "July 2017, median: -1.59",
          "August 2017, median: -1.83",
          "September 2017, median: -1.45",
          "October 2017, median: 0.05",
          "November 2017, median: -0.29",
          "December 2017, median: -0.87",
          "January 2018, median: -0.02",
          "February 2018, median: 0.29",
          "March 2018, median: -0.02",
          "April 2018, median: -0.59",
          "May 2018, median: -0.55",
          "June 2018, median: 1.06",
          "July 2018, median: 1.27",
          "August 2018, median: 0.91",
          "September 2018, median: 0.32",
          "October 2018, median: 1.37",
          "November 2018, median: 0.78",
          "December 2018, median: 1.30",
          "January 2019, median: 0.73",
          "February 2019, median: 1.23",
          "March 2019, median: 1.12",
          "April 2019, median: 1.28",
          "May 2019, median: 0.57",
          "June 2019, median: 0.36",
          "July 2019, median: -1.61",
          "August 2019, median: -0.58",
          "September 2019, median: -0.47",
          "October 2019, median: -0.06",
          "November 2019, median: -1.18",
          "December 2019, median: 0.30",
          "January 2020, median: 0.78",
          "February 2020, median: 1.27",
          "March 2020, median: 0.94",
          "April 2020, median: 0.84",
          "May 2020, median: 0.94",
          "June 2020, median: 0.83",
          "July 2020, median: 0.15",
          "August 2020, median: -0.26",
          "September 2020, median: -1.60",
          "October 2020, median: -2.14",
          "November 2020, median: -0.66",
          "December 2020, median: -0.67",
          "January 2021, median: 0.16",
          "February 2021, median: -1.05",
          "March 2021, median: -0.55",
          "April 2021, median: -0.85",
          "May 2021, median: -1.15",
          "June 2021, median: -1.87",
          "July 2021, median: -2.07",
          "August 2021, median: -1.53",
          "September 2021, median: -0.92",
          "October 2021, median: -0.94",
          "November 2021, median: -0.90",
          "December 2021, median: -0.52",
          "January 2022, median: 0.18",
          "February 2022, median: 0.53",
          "March 2022, median: 0.63",
          "April 2022, median: -0.22",
          "May 2022, median: -0.73",
          "June 2022, median: -1.81",
          "July 2022, median: -0.60",
          "August 2022, median: -0.55",
          "September 2022, median: -1.02",
          "October 2022, median: -0.95",
          "November 2022, median: -0.26",
          "December 2022, median: -1.03",
          "January 2023, median: -1.43",
          "February 2023, median: -1.38",
          "March 2023, median: -0.47",
          "April 2023, median: 0.67",
          "May 2023, median: 0.06",
          "June 2023, median: 0.60",
          "July 2023, median: -1.20",
          "August 2023, median: -0.81",
          "September 2023, median: -1.59",
          "October 2023, median: -0.17",
          "November 2023, median: 0.40",
          "December 2023, median: 0.50",
          "January 2024, median: 0.96",
          "February 2024, median: 0.52"
         ],
         "marker": {
          "color": [
           "#FFBF69",
           "#FFBF69",
           "#FFBF69",
           "#FFBF69",
           "#FF961F",
           "#FFBF69",
           "#A1F7D5",
           "#A1F7D5",
           "#FFBF69",
           "#A1F7D5",
           "#A1F7D5",
           "#A1F7D5",
           "#FFBF69",
           "#FFBF69",
           "#FF961F",
           "#A1F7D5",
           "#A1F7D5",
           "#43EFAA",
           "#FFBF69",
           "#FFBF69",
           "#FFBF69",
           "#43EFAA",
           "#A1F7D5",
           "#FFBF69",
           "#FF961F",
           "#FFBF69",
           "#A1F7D5",
           "#A1F7D5",
           "#A1F7D5",
           "#A1F7D5",
           "#A1F7D5",
           "#FFBF69",
           "#A1F7D5",
           "#FFBF69",
           "#FFBF69",
           "#FFBF69",
           "#FFBF69",
           "#FFBF69",
           "#FF961F",
           "#8F5100",
           "#8F5100",
           "#8F5100",
           "#FFBF69",
           "#FFBF69",
           "#A1F7D5",
           "#43EFAA",
           "#A1F7D5",
           "#FFBF69",
           "#291700",
           "#FFBF69",
           "#A1F7D5",
           "#A1F7D5",
           "#A1F7D5",
           "#FFBF69",
           "#FFBF69",
           "#FF961F",
           "#43EFAA",
           "#A1F7D5",
           "#A1F7D5",
           "#A1F7D5",
           "#A1F7D5",
           "#A1F7D5",
           "#FFBF69",
           "#FF961F",
           "#8F5100",
           "#8F5100",
           "#FFBF69",
           "#FFBF69",
           "#FFBF69",
           "#FF961F",
           "#8F5100",
           "#8F5100",
           "#8F5100",
           "#A1F7D5",
           "#A1F7D5",
           "#43EFAA",
           "#43EFAA",
           "#0D965f",
           "#43EFAA",
           "#A1F7D5",
           "#A1F7D5",
           "#A1F7D5",
           "#A1F7D5",
           "#FFBF69",
           "#A1F7D5",
           "#A1F7D5",
           "#0D965f",
           "#A1F7D5",
           "#FFBF69",
           "#FF961F",
           "#FFBF69",
           "#8F5100",
           "#FF961F",
           "#FFBF69",
           "#A1F7D5",
           "#A1F7D5",
           "#43EFAA",
           "#43EFAA",
           "#FFBF69",
           "#FFBF69",
           "#FFBF69",
           "#A1F7D5",
           "#A1F7D5",
           "#A1F7D5",
           "#A1F7D5",
           "#FFBF69",
           "#FF961F",
           "#FFBF69",
           "#FF961F",
           "#291700",
           "#291700",
           "#291700",
           "#FFBF69",
           "#FFBF69",
           "#43EFAA",
           "#A1F7D5",
           "#43EFAA",
           "#43EFAA",
           "#0D965f",
           "#A1F7D5",
           "#A1F7D5",
           "#FFBF69",
           "#FFBF69",
           "#FFBF69",
           "#FFBF69",
           "#A1F7D5",
           "#A1F7D5",
           "#FFBF69",
           "#8F5100",
           "#FFBF69",
           "#FFBF69",
           "#FFBF69",
           "#FFBF69",
           "#FFBF69",
           "#FFBF69",
           "#FF961F",
           "#FFBF69",
           "#FF961F",
           "#FFBF69",
           "#FFBF69",
           "#A1F7D5",
           "#FFBF69",
           "#FF961F",
           "#A1F7D5",
           "#A1F7D5",
           "#FFBF69",
           "#FF961F",
           "#FF961F",
           "#FFBF69",
           "#FFBF69",
           "#8F5100",
           "#8F5100",
           "#FF961F",
           "#A1F7D5",
           "#FFBF69",
           "#FFBF69",
           "#FFBF69",
           "#A1F7D5",
           "#FFBF69",
           "#FFBF69",
           "#FFBF69",
           "#43EFAA",
           "#43EFAA",
           "#A1F7D5",
           "#A1F7D5",
           "#43EFAA",
           "#A1F7D5",
           "#43EFAA",
           "#A1F7D5",
           "#43EFAA",
           "#43EFAA",
           "#43EFAA",
           "#A1F7D5",
           "#A1F7D5",
           "#8F5100",
           "#FFBF69",
           "#FFBF69",
           "#FFBF69",
           "#FF961F",
           "#A1F7D5",
           "#A1F7D5",
           "#43EFAA",
           "#A1F7D5",
           "#A1F7D5",
           "#A1F7D5",
           "#A1F7D5",
           "#A1F7D5",
           "#FFBF69",
           "#8F5100",
           "#291700",
           "#FFBF69",
           "#FFBF69",
           "#A1F7D5",
           "#FF961F",
           "#FFBF69",
           "#FFBF69",
           "#FF961F",
           "#8F5100",
           "#291700",
           "#8F5100",
           "#FFBF69",
           "#FFBF69",
           "#FFBF69",
           "#FFBF69",
           "#A1F7D5",
           "#A1F7D5",
           "#A1F7D5",
           "#FFBF69",
           "#FFBF69",
           "#8F5100",
           "#FFBF69",
           "#FFBF69",
           "#FF961F",
           "#FFBF69",
           "#FFBF69",
           "#FF961F",
           "#FF961F",
           "#FF961F",
           "#FFBF69",
           "#A1F7D5",
           "#A1F7D5",
           "#A1F7D5",
           "#FF961F",
           "#FFBF69",
           "#8F5100",
           "#FFBF69",
           "#A1F7D5",
           "#A1F7D5",
           "#A1F7D5",
           "#A1F7D5"
          ]
         },
         "orientation": "v",
         "type": "bar",
         "width": 1,
         "x": [
          "2005-01",
          "2005-02",
          "2005-03",
          "2005-04",
          "2005-05",
          "2005-06",
          "2005-07",
          "2005-08",
          "2005-09",
          "2005-10",
          "2005-11",
          "2005-12",
          "2006-01",
          "2006-02",
          "2006-03",
          "2006-04",
          "2006-05",
          "2006-06",
          "2006-07",
          "2006-08",
          "2006-09",
          "2006-10",
          "2006-11",
          "2006-12",
          "2007-01",
          "2007-02",
          "2007-03",
          "2007-04",
          "2007-05",
          "2007-06",
          "2007-07",
          "2007-08",
          "2007-09",
          "2007-10",
          "2007-11",
          "2007-12",
          "2008-01",
          "2008-02",
          "2008-03",
          "2008-04",
          "2008-05",
          "2008-06",
          "2008-07",
          "2008-08",
          "2008-09",
          "2008-10",
          "2008-11",
          "2008-12",
          "2009-01",
          "2009-02",
          "2009-03",
          "2009-04",
          "2009-05",
          "2009-06",
          "2009-07",
          "2009-08",
          "2009-09",
          "2009-10",
          "2009-11",
          "2009-12",
          "2010-01",
          "2010-02",
          "2010-03",
          "2010-04",
          "2010-05",
          "2010-06",
          "2010-07",
          "2010-08",
          "2010-09",
          "2010-10",
          "2010-11",
          "2010-12",
          "2011-01",
          "2011-02",
          "2011-03",
          "2011-04",
          "2011-05",
          "2011-06",
          "2011-07",
          "2011-08",
          "2011-09",
          "2011-10",
          "2011-11",
          "2011-12",
          "2012-01",
          "2012-02",
          "2012-03",
          "2012-04",
          "2012-05",
          "2012-06",
          "2012-07",
          "2012-08",
          "2012-09",
          "2012-10",
          "2012-11",
          "2012-12",
          "2013-01",
          "2013-02",
          "2013-03",
          "2013-04",
          "2013-05",
          "2013-06",
          "2013-07",
          "2013-08",
          "2013-09",
          "2013-10",
          "2013-11",
          "2013-12",
          "2014-01",
          "2014-02",
          "2014-03",
          "2014-04",
          "2014-05",
          "2014-06",
          "2014-07",
          "2014-08",
          "2014-09",
          "2014-10",
          "2014-11",
          "2014-12",
          "2015-01",
          "2015-02",
          "2015-03",
          "2015-04",
          "2015-05",
          "2015-06",
          "2015-07",
          "2015-08",
          "2015-09",
          "2015-10",
          "2015-11",
          "2015-12",
          "2016-01",
          "2016-02",
          "2016-03",
          "2016-04",
          "2016-05",
          "2016-06",
          "2016-07",
          "2016-08",
          "2016-09",
          "2016-10",
          "2016-11",
          "2016-12",
          "2017-01",
          "2017-02",
          "2017-03",
          "2017-04",
          "2017-05",
          "2017-06",
          "2017-07",
          "2017-08",
          "2017-09",
          "2017-10",
          "2017-11",
          "2017-12",
          "2018-01",
          "2018-02",
          "2018-03",
          "2018-04",
          "2018-05",
          "2018-06",
          "2018-07",
          "2018-08",
          "2018-09",
          "2018-10",
          "2018-11",
          "2018-12",
          "2019-01",
          "2019-02",
          "2019-03",
          "2019-04",
          "2019-05",
          "2019-06",
          "2019-07",
          "2019-08",
          "2019-09",
          "2019-10",
          "2019-11",
          "2019-12",
          "2020-01",
          "2020-02",
          "2020-03",
          "2020-04",
          "2020-05",
          "2020-06",
          "2020-07",
          "2020-08",
          "2020-09",
          "2020-10",
          "2020-11",
          "2020-12",
          "2021-01",
          "2021-02",
          "2021-03",
          "2021-04",
          "2021-05",
          "2021-06",
          "2021-07",
          "2021-08",
          "2021-09",
          "2021-10",
          "2021-11",
          "2021-12",
          "2022-01",
          "2022-02",
          "2022-03",
          "2022-04",
          "2022-05",
          "2022-06",
          "2022-07",
          "2022-08",
          "2022-09",
          "2022-10",
          "2022-11",
          "2022-12",
          "2023-01",
          "2023-02",
          "2023-03",
          "2023-04",
          "2023-05",
          "2023-06",
          "2023-07",
          "2023-08",
          "2023-09",
          "2023-10",
          "2023-11",
          "2023-12",
          "2024-01",
          "2024-02"
         ],
         "y": [
          1,
          1,
          1,
          1,
          1,
          1,
          1,
          1,
          1,
          1,
          1,
          1,
          1,
          1,
          1,
          1,
          1,
          1,
          1,
          1,
          1,
          1,
          1,
          1,
          1,
          1,
          1,
          1,
          1,
          1,
          1,
          1,
          1,
          1,
          1,
          1,
          1,
          1,
          1,
          1,
          1,
          1,
          1,
          1,
          1,
          1,
          1,
          1,
          1,
          1,
          1,
          1,
          1,
          1,
          1,
          1,
          1,
          1,
          1,
          1,
          1,
          1,
          1,
          1,
          1,
          1,
          1,
          1,
          1,
          1,
          1,
          1,
          1,
          1,
          1,
          1,
          1,
          1,
          1,
          1,
          1,
          1,
          1,
          1,
          1,
          1,
          1,
          1,
          1,
          1,
          1,
          1,
          1,
          1,
          1,
          1,
          1,
          1,
          1,
          1,
          1,
          1,
          1,
          1,
          1,
          1,
          1,
          1,
          1,
          1,
          1,
          1,
          1,
          1,
          1,
          1,
          1,
          1,
          1,
          1,
          1,
          1,
          1,
          1,
          1,
          1,
          1,
          1,
          1,
          1,
          1,
          1,
          1,
          1,
          1,
          1,
          1,
          1,
          1,
          1,
          1,
          1,
          1,
          1,
          1,
          1,
          1,
          1,
          1,
          1,
          1,
          1,
          1,
          1,
          1,
          1,
          1,
          1,
          1,
          1,
          1,
          1,
          1,
          1,
          1,
          1,
          1,
          1,
          1,
          1,
          1,
          1,
          1,
          1,
          1,
          1,
          1,
          1,
          1,
          1,
          1,
          1,
          1,
          1,
          1,
          1,
          1,
          1,
          1,
          1,
          1,
          1,
          1,
          1,
          1,
          1,
          1,
          1,
          1,
          1,
          1,
          1,
          1,
          1,
          1,
          1,
          1,
          1,
          1,
          1,
          1,
          1,
          1,
          1,
          1,
          1,
          1,
          1,
          1,
          1,
          1,
          1,
          1,
          1,
          1,
          1,
          1,
          1,
          1,
          1
         ]
        }
       ],
       "layout": {
        "autosize": true,
        "plot_bgcolor": "rgba(0, 0, 0, 0)",
        "showlegend": false,
        "template": {
         "data": {
          "bar": [
           {
            "error_x": {
             "color": "#2a3f5f"
            },
            "error_y": {
             "color": "#2a3f5f"
            },
            "marker": {
             "line": {
              "color": "white",
              "width": 0.5
             },
             "pattern": {
              "fillmode": "overlay",
              "size": 10,
              "solidity": 0.2
             }
            },
            "type": "bar"
           }
          ],
          "barpolar": [
           {
            "marker": {
             "line": {
              "color": "white",
              "width": 0.5
             },
             "pattern": {
              "fillmode": "overlay",
              "size": 10,
              "solidity": 0.2
             }
            },
            "type": "barpolar"
           }
          ],
          "carpet": [
           {
            "aaxis": {
             "endlinecolor": "#2a3f5f",
             "gridcolor": "#C8D4E3",
             "linecolor": "#C8D4E3",
             "minorgridcolor": "#C8D4E3",
             "startlinecolor": "#2a3f5f"
            },
            "baxis": {
             "endlinecolor": "#2a3f5f",
             "gridcolor": "#C8D4E3",
             "linecolor": "#C8D4E3",
             "minorgridcolor": "#C8D4E3",
             "startlinecolor": "#2a3f5f"
            },
            "type": "carpet"
           }
          ],
          "choropleth": [
           {
            "colorbar": {
             "outlinewidth": 0,
             "ticks": ""
            },
            "type": "choropleth"
           }
          ],
          "contour": [
           {
            "colorbar": {
             "outlinewidth": 0,
             "ticks": ""
            },
            "colorscale": [
             [
              0,
              "#0d0887"
             ],
             [
              0.1111111111111111,
              "#46039f"
             ],
             [
              0.2222222222222222,
              "#7201a8"
             ],
             [
              0.3333333333333333,
              "#9c179e"
             ],
             [
              0.4444444444444444,
              "#bd3786"
             ],
             [
              0.5555555555555556,
              "#d8576b"
             ],
             [
              0.6666666666666666,
              "#ed7953"
             ],
             [
              0.7777777777777778,
              "#fb9f3a"
             ],
             [
              0.8888888888888888,
              "#fdca26"
             ],
             [
              1,
              "#f0f921"
             ]
            ],
            "type": "contour"
           }
          ],
          "contourcarpet": [
           {
            "colorbar": {
             "outlinewidth": 0,
             "ticks": ""
            },
            "type": "contourcarpet"
           }
          ],
          "heatmap": [
           {
            "colorbar": {
             "outlinewidth": 0,
             "ticks": ""
            },
            "colorscale": [
             [
              0,
              "#0d0887"
             ],
             [
              0.1111111111111111,
              "#46039f"
             ],
             [
              0.2222222222222222,
              "#7201a8"
             ],
             [
              0.3333333333333333,
              "#9c179e"
             ],
             [
              0.4444444444444444,
              "#bd3786"
             ],
             [
              0.5555555555555556,
              "#d8576b"
             ],
             [
              0.6666666666666666,
              "#ed7953"
             ],
             [
              0.7777777777777778,
              "#fb9f3a"
             ],
             [
              0.8888888888888888,
              "#fdca26"
             ],
             [
              1,
              "#f0f921"
             ]
            ],
            "type": "heatmap"
           }
          ],
          "heatmapgl": [
           {
            "colorbar": {
             "outlinewidth": 0,
             "ticks": ""
            },
            "colorscale": [
             [
              0,
              "#0d0887"
             ],
             [
              0.1111111111111111,
              "#46039f"
             ],
             [
              0.2222222222222222,
              "#7201a8"
             ],
             [
              0.3333333333333333,
              "#9c179e"
             ],
             [
              0.4444444444444444,
              "#bd3786"
             ],
             [
              0.5555555555555556,
              "#d8576b"
             ],
             [
              0.6666666666666666,
              "#ed7953"
             ],
             [
              0.7777777777777778,
              "#fb9f3a"
             ],
             [
              0.8888888888888888,
              "#fdca26"
             ],
             [
              1,
              "#f0f921"
             ]
            ],
            "type": "heatmapgl"
           }
          ],
          "histogram": [
           {
            "marker": {
             "pattern": {
              "fillmode": "overlay",
              "size": 10,
              "solidity": 0.2
             }
            },
            "type": "histogram"
           }
          ],
          "histogram2d": [
           {
            "colorbar": {
             "outlinewidth": 0,
             "ticks": ""
            },
            "colorscale": [
             [
              0,
              "#0d0887"
             ],
             [
              0.1111111111111111,
              "#46039f"
             ],
             [
              0.2222222222222222,
              "#7201a8"
             ],
             [
              0.3333333333333333,
              "#9c179e"
             ],
             [
              0.4444444444444444,
              "#bd3786"
             ],
             [
              0.5555555555555556,
              "#d8576b"
             ],
             [
              0.6666666666666666,
              "#ed7953"
             ],
             [
              0.7777777777777778,
              "#fb9f3a"
             ],
             [
              0.8888888888888888,
              "#fdca26"
             ],
             [
              1,
              "#f0f921"
             ]
            ],
            "type": "histogram2d"
           }
          ],
          "histogram2dcontour": [
           {
            "colorbar": {
             "outlinewidth": 0,
             "ticks": ""
            },
            "colorscale": [
             [
              0,
              "#0d0887"
             ],
             [
              0.1111111111111111,
              "#46039f"
             ],
             [
              0.2222222222222222,
              "#7201a8"
             ],
             [
              0.3333333333333333,
              "#9c179e"
             ],
             [
              0.4444444444444444,
              "#bd3786"
             ],
             [
              0.5555555555555556,
              "#d8576b"
             ],
             [
              0.6666666666666666,
              "#ed7953"
             ],
             [
              0.7777777777777778,
              "#fb9f3a"
             ],
             [
              0.8888888888888888,
              "#fdca26"
             ],
             [
              1,
              "#f0f921"
             ]
            ],
            "type": "histogram2dcontour"
           }
          ],
          "mesh3d": [
           {
            "colorbar": {
             "outlinewidth": 0,
             "ticks": ""
            },
            "type": "mesh3d"
           }
          ],
          "parcoords": [
           {
            "line": {
             "colorbar": {
              "outlinewidth": 0,
              "ticks": ""
             }
            },
            "type": "parcoords"
           }
          ],
          "pie": [
           {
            "automargin": true,
            "type": "pie"
           }
          ],
          "scatter": [
           {
            "fillpattern": {
             "fillmode": "overlay",
             "size": 10,
             "solidity": 0.2
            },
            "type": "scatter"
           }
          ],
          "scatter3d": [
           {
            "line": {
             "colorbar": {
              "outlinewidth": 0,
              "ticks": ""
             }
            },
            "marker": {
             "colorbar": {
              "outlinewidth": 0,
              "ticks": ""
             }
            },
            "type": "scatter3d"
           }
          ],
          "scattercarpet": [
           {
            "marker": {
             "colorbar": {
              "outlinewidth": 0,
              "ticks": ""
             }
            },
            "type": "scattercarpet"
           }
          ],
          "scattergeo": [
           {
            "marker": {
             "colorbar": {
              "outlinewidth": 0,
              "ticks": ""
             }
            },
            "type": "scattergeo"
           }
          ],
          "scattergl": [
           {
            "marker": {
             "colorbar": {
              "outlinewidth": 0,
              "ticks": ""
             }
            },
            "type": "scattergl"
           }
          ],
          "scattermapbox": [
           {
            "marker": {
             "colorbar": {
              "outlinewidth": 0,
              "ticks": ""
             }
            },
            "type": "scattermapbox"
           }
          ],
          "scatterpolar": [
           {
            "marker": {
             "colorbar": {
              "outlinewidth": 0,
              "ticks": ""
             }
            },
            "type": "scatterpolar"
           }
          ],
          "scatterpolargl": [
           {
            "marker": {
             "colorbar": {
              "outlinewidth": 0,
              "ticks": ""
             }
            },
            "type": "scatterpolargl"
           }
          ],
          "scatterternary": [
           {
            "marker": {
             "colorbar": {
              "outlinewidth": 0,
              "ticks": ""
             }
            },
            "type": "scatterternary"
           }
          ],
          "surface": [
           {
            "colorbar": {
             "outlinewidth": 0,
             "ticks": ""
            },
            "colorscale": [
             [
              0,
              "#0d0887"
             ],
             [
              0.1111111111111111,
              "#46039f"
             ],
             [
              0.2222222222222222,
              "#7201a8"
             ],
             [
              0.3333333333333333,
              "#9c179e"
             ],
             [
              0.4444444444444444,
              "#bd3786"
             ],
             [
              0.5555555555555556,
              "#d8576b"
             ],
             [
              0.6666666666666666,
              "#ed7953"
             ],
             [
              0.7777777777777778,
              "#fb9f3a"
             ],
             [
              0.8888888888888888,
              "#fdca26"
             ],
             [
              1,
              "#f0f921"
             ]
            ],
            "type": "surface"
           }
          ],
          "table": [
           {
            "cells": {
             "fill": {
              "color": "#EBF0F8"
             },
             "line": {
              "color": "white"
             }
            },
            "header": {
             "fill": {
              "color": "#C8D4E3"
             },
             "line": {
              "color": "white"
             }
            },
            "type": "table"
           }
          ]
         },
         "layout": {
          "annotationdefaults": {
           "arrowcolor": "#2a3f5f",
           "arrowhead": 0,
           "arrowwidth": 1
          },
          "autotypenumbers": "strict",
          "coloraxis": {
           "colorbar": {
            "outlinewidth": 0,
            "ticks": ""
           }
          },
          "colorscale": {
           "diverging": [
            [
             0,
             "#8e0152"
            ],
            [
             0.1,
             "#c51b7d"
            ],
            [
             0.2,
             "#de77ae"
            ],
            [
             0.3,
             "#f1b6da"
            ],
            [
             0.4,
             "#fde0ef"
            ],
            [
             0.5,
             "#f7f7f7"
            ],
            [
             0.6,
             "#e6f5d0"
            ],
            [
             0.7,
             "#b8e186"
            ],
            [
             0.8,
             "#7fbc41"
            ],
            [
             0.9,
             "#4d9221"
            ],
            [
             1,
             "#276419"
            ]
           ],
           "sequential": [
            [
             0,
             "#0d0887"
            ],
            [
             0.1111111111111111,
             "#46039f"
            ],
            [
             0.2222222222222222,
             "#7201a8"
            ],
            [
             0.3333333333333333,
             "#9c179e"
            ],
            [
             0.4444444444444444,
             "#bd3786"
            ],
            [
             0.5555555555555556,
             "#d8576b"
            ],
            [
             0.6666666666666666,
             "#ed7953"
            ],
            [
             0.7777777777777778,
             "#fb9f3a"
            ],
            [
             0.8888888888888888,
             "#fdca26"
            ],
            [
             1,
             "#f0f921"
            ]
           ],
           "sequentialminus": [
            [
             0,
             "#0d0887"
            ],
            [
             0.1111111111111111,
             "#46039f"
            ],
            [
             0.2222222222222222,
             "#7201a8"
            ],
            [
             0.3333333333333333,
             "#9c179e"
            ],
            [
             0.4444444444444444,
             "#bd3786"
            ],
            [
             0.5555555555555556,
             "#d8576b"
            ],
            [
             0.6666666666666666,
             "#ed7953"
            ],
            [
             0.7777777777777778,
             "#fb9f3a"
            ],
            [
             0.8888888888888888,
             "#fdca26"
            ],
            [
             1,
             "#f0f921"
            ]
           ]
          },
          "colorway": [
           "#636efa",
           "#EF553B",
           "#00cc96",
           "#ab63fa",
           "#FFA15A",
           "#19d3f3",
           "#FF6692",
           "#B6E880",
           "#FF97FF",
           "#FECB52"
          ],
          "font": {
           "color": "#2a3f5f"
          },
          "geo": {
           "bgcolor": "white",
           "lakecolor": "white",
           "landcolor": "white",
           "showlakes": true,
           "showland": true,
           "subunitcolor": "#C8D4E3"
          },
          "hoverlabel": {
           "align": "left"
          },
          "hovermode": "closest",
          "mapbox": {
           "style": "light"
          },
          "paper_bgcolor": "white",
          "plot_bgcolor": "white",
          "polar": {
           "angularaxis": {
            "gridcolor": "#EBF0F8",
            "linecolor": "#EBF0F8",
            "ticks": ""
           },
           "bgcolor": "white",
           "radialaxis": {
            "gridcolor": "#EBF0F8",
            "linecolor": "#EBF0F8",
            "ticks": ""
           }
          },
          "scene": {
           "xaxis": {
            "backgroundcolor": "white",
            "gridcolor": "#DFE8F3",
            "gridwidth": 2,
            "linecolor": "#EBF0F8",
            "showbackground": true,
            "ticks": "",
            "zerolinecolor": "#EBF0F8"
           },
           "yaxis": {
            "backgroundcolor": "white",
            "gridcolor": "#DFE8F3",
            "gridwidth": 2,
            "linecolor": "#EBF0F8",
            "showbackground": true,
            "ticks": "",
            "zerolinecolor": "#EBF0F8"
           },
           "zaxis": {
            "backgroundcolor": "white",
            "gridcolor": "#DFE8F3",
            "gridwidth": 2,
            "linecolor": "#EBF0F8",
            "showbackground": true,
            "ticks": "",
            "zerolinecolor": "#EBF0F8"
           }
          },
          "shapedefaults": {
           "line": {
            "color": "#2a3f5f"
           }
          },
          "ternary": {
           "aaxis": {
            "gridcolor": "#DFE8F3",
            "linecolor": "#A2B1C6",
            "ticks": ""
           },
           "baxis": {
            "gridcolor": "#DFE8F3",
            "linecolor": "#A2B1C6",
            "ticks": ""
           },
           "bgcolor": "white",
           "caxis": {
            "gridcolor": "#DFE8F3",
            "linecolor": "#A2B1C6",
            "ticks": ""
           }
          },
          "title": {
           "x": 0.05
          },
          "xaxis": {
           "automargin": true,
           "gridcolor": "#EBF0F8",
           "linecolor": "#EBF0F8",
           "ticks": "",
           "title": {
            "standoff": 15
           },
           "zerolinecolor": "#EBF0F8",
           "zerolinewidth": 2
          },
          "yaxis": {
           "automargin": true,
           "gridcolor": "#EBF0F8",
           "linecolor": "#EBF0F8",
           "ticks": "",
           "title": {
            "standoff": 15
           },
           "zerolinecolor": "#EBF0F8",
           "zerolinewidth": 2
          }
         }
        },
        "title": {
         "text": "Median 3 months SPEI index, trends over time in Golan area from 2005 to 2024"
        },
        "xaxis": {
         "autorange": true,
         "range": [
          -0.5,
          229.5
         ],
         "tickangle": 0,
         "tickmode": "array",
         "ticktext": [
          "2005",
          "",
          "",
          "",
          "",
          "",
          "",
          "",
          "",
          "",
          "",
          "",
          "",
          "",
          "",
          "",
          "",
          "",
          "",
          "",
          "",
          "",
          "",
          "",
          "",
          "",
          "",
          "",
          "",
          "",
          "",
          "",
          "",
          "",
          "",
          "",
          "",
          "",
          "",
          "",
          "",
          "",
          "",
          "",
          "",
          "",
          "",
          "",
          "",
          "",
          "",
          "",
          "",
          "",
          "",
          "",
          "",
          "",
          "",
          "",
          "2010",
          "",
          "",
          "",
          "",
          "",
          "",
          "",
          "",
          "",
          "",
          "",
          "",
          "",
          "",
          "",
          "",
          "",
          "",
          "",
          "",
          "",
          "",
          "",
          "",
          "",
          "",
          "",
          "",
          "",
          "",
          "",
          "",
          "",
          "",
          "",
          "",
          "",
          "",
          "",
          "",
          "",
          "",
          "",
          "",
          "",
          "",
          "",
          "",
          "",
          "",
          "",
          "",
          "",
          "",
          "",
          "",
          "",
          "",
          "",
          "2015",
          "",
          "",
          "",
          "",
          "",
          "",
          "",
          "",
          "",
          "",
          "",
          "",
          "",
          "",
          "",
          "",
          "",
          "",
          "",
          "",
          "",
          "",
          "",
          "",
          "",
          "",
          "",
          "",
          "",
          "",
          "",
          "",
          "",
          "",
          "",
          "",
          "",
          "",
          "",
          "",
          "",
          "",
          "",
          "",
          "",
          "",
          "",
          "",
          "",
          "",
          "",
          "",
          "",
          "",
          "",
          "",
          "",
          "",
          "",
          "2020",
          "",
          "",
          "",
          "",
          "",
          "",
          "",
          "",
          "",
          "",
          "",
          "",
          "",
          "",
          "",
          "",
          "",
          "",
          "",
          "",
          "",
          "",
          "",
          "",
          "",
          "",
          "",
          "",
          "",
          "",
          "",
          "",
          "",
          "",
          "",
          "",
          "",
          "",
          "",
          "",
          "",
          "",
          "",
          "",
          "",
          "",
          "",
          "",
          ""
         ],
         "tickvals": [
          "2005-01",
          "2005-02",
          "2005-03",
          "2005-04",
          "2005-05",
          "2005-06",
          "2005-07",
          "2005-08",
          "2005-09",
          "2005-10",
          "2005-11",
          "2005-12",
          "2006-01",
          "2006-02",
          "2006-03",
          "2006-04",
          "2006-05",
          "2006-06",
          "2006-07",
          "2006-08",
          "2006-09",
          "2006-10",
          "2006-11",
          "2006-12",
          "2007-01",
          "2007-02",
          "2007-03",
          "2007-04",
          "2007-05",
          "2007-06",
          "2007-07",
          "2007-08",
          "2007-09",
          "2007-10",
          "2007-11",
          "2007-12",
          "2008-01",
          "2008-02",
          "2008-03",
          "2008-04",
          "2008-05",
          "2008-06",
          "2008-07",
          "2008-08",
          "2008-09",
          "2008-10",
          "2008-11",
          "2008-12",
          "2009-01",
          "2009-02",
          "2009-03",
          "2009-04",
          "2009-05",
          "2009-06",
          "2009-07",
          "2009-08",
          "2009-09",
          "2009-10",
          "2009-11",
          "2009-12",
          "2010-01",
          "2010-02",
          "2010-03",
          "2010-04",
          "2010-05",
          "2010-06",
          "2010-07",
          "2010-08",
          "2010-09",
          "2010-10",
          "2010-11",
          "2010-12",
          "2011-01",
          "2011-02",
          "2011-03",
          "2011-04",
          "2011-05",
          "2011-06",
          "2011-07",
          "2011-08",
          "2011-09",
          "2011-10",
          "2011-11",
          "2011-12",
          "2012-01",
          "2012-02",
          "2012-03",
          "2012-04",
          "2012-05",
          "2012-06",
          "2012-07",
          "2012-08",
          "2012-09",
          "2012-10",
          "2012-11",
          "2012-12",
          "2013-01",
          "2013-02",
          "2013-03",
          "2013-04",
          "2013-05",
          "2013-06",
          "2013-07",
          "2013-08",
          "2013-09",
          "2013-10",
          "2013-11",
          "2013-12",
          "2014-01",
          "2014-02",
          "2014-03",
          "2014-04",
          "2014-05",
          "2014-06",
          "2014-07",
          "2014-08",
          "2014-09",
          "2014-10",
          "2014-11",
          "2014-12",
          "2015-01",
          "2015-02",
          "2015-03",
          "2015-04",
          "2015-05",
          "2015-06",
          "2015-07",
          "2015-08",
          "2015-09",
          "2015-10",
          "2015-11",
          "2015-12",
          "2016-01",
          "2016-02",
          "2016-03",
          "2016-04",
          "2016-05",
          "2016-06",
          "2016-07",
          "2016-08",
          "2016-09",
          "2016-10",
          "2016-11",
          "2016-12",
          "2017-01",
          "2017-02",
          "2017-03",
          "2017-04",
          "2017-05",
          "2017-06",
          "2017-07",
          "2017-08",
          "2017-09",
          "2017-10",
          "2017-11",
          "2017-12",
          "2018-01",
          "2018-02",
          "2018-03",
          "2018-04",
          "2018-05",
          "2018-06",
          "2018-07",
          "2018-08",
          "2018-09",
          "2018-10",
          "2018-11",
          "2018-12",
          "2019-01",
          "2019-02",
          "2019-03",
          "2019-04",
          "2019-05",
          "2019-06",
          "2019-07",
          "2019-08",
          "2019-09",
          "2019-10",
          "2019-11",
          "2019-12",
          "2020-01",
          "2020-02",
          "2020-03",
          "2020-04",
          "2020-05",
          "2020-06",
          "2020-07",
          "2020-08",
          "2020-09",
          "2020-10",
          "2020-11",
          "2020-12",
          "2021-01",
          "2021-02",
          "2021-03",
          "2021-04",
          "2021-05",
          "2021-06",
          "2021-07",
          "2021-08",
          "2021-09",
          "2021-10",
          "2021-11",
          "2021-12",
          "2022-01",
          "2022-02",
          "2022-03",
          "2022-04",
          "2022-05",
          "2022-06",
          "2022-07",
          "2022-08",
          "2022-09",
          "2022-10",
          "2022-11",
          "2022-12",
          "2023-01",
          "2023-02",
          "2023-03",
          "2023-04",
          "2023-05",
          "2023-06",
          "2023-07",
          "2023-08",
          "2023-09",
          "2023-10",
          "2023-11",
          "2023-12",
          "2024-01",
          "2024-02"
         ],
         "title": {
          "text": "Years"
         },
         "type": "category"
        },
        "yaxis": {
         "autorange": true,
         "range": [
          0,
          1.0526315789473684
         ],
         "showgrid": false,
         "showticklabels": false,
         "title": {
          "text": "Median SPEI3"
         },
         "type": "linear",
         "visible": false,
         "zeroline": false
        }
       }
      },
      "image/png": "[encoded data removed]",
      "text/html": [
       "<div>                            <div id=\"a3dffc88-789a-45de-ba1b-4b546b0017d2\" class=\"plotly-graph-div\" style=\"height:600px; width:100%;\"></div>            <script type=\"text/javascript\">                require([\"plotly\"], function(Plotly) {                    window.PLOTLYENV=window.PLOTLYENV || {};                                    if (document.getElementById(\"a3dffc88-789a-45de-ba1b-4b546b0017d2\")) {                    Plotly.newPlot(                        \"a3dffc88-789a-45de-ba1b-4b546b0017d2\",                        [{\"hoverinfo\":\"text\",\"hovertext\":[\"January 2005, median: -0.02\",\"February 2005, median: -0.25\",\"March 2005, median: -0.36\",\"April 2005, median: -0.30\",\"May 2005, median: -1.14\",\"June 2005, median: -0.32\",\"July 2005, median: 0.27\",\"August 2005, median: 0.02\",\"September 2005, median: -0.19\",\"October 2005, median: 0.23\",\"November 2005, median: 0.37\",\"December 2005, median: 0.12\",\"January 2006, median: -0.14\",\"February 2006, median: -0.70\",\"March 2006, median: -1.02\",\"April 2006, median: 0.29\",\"May 2006, median: 0.33\",\"June 2006, median: 1.15\",\"July 2006, median: -0.23\",\"August 2006, median: -0.20\",\"September 2006, median: -0.04\",\"October 2006, median: 1.38\",\"November 2006, median: 0.46\",\"December 2006, median: -0.17\",\"January 2007, median: -1.09\",\"February 2007, median: -0.38\",\"March 2007, median: 0.17\",\"April 2007, median: 0.55\",\"May 2007, median: 0.02\",\"June 2007, median: 0.46\",\"July 2007, median: 0.03\",\"August 2007, median: -0.07\",\"September 2007, median: 0.33\",\"October 2007, median: -0.43\",\"November 2007, median: -0.42\",\"December 2007, median: -0.71\",\"January 2008, median: -0.14\",\"February 2008, median: -0.62\",\"March 2008, median: -1.13\",\"April 2008, median: -1.88\",\"May 2008, median: -1.59\",\"June 2008, median: -1.86\",\"July 2008, median: -0.55\",\"August 2008, median: -0.39\",\"September 2008, median: 0.67\",\"October 2008, median: 1.35\",\"November 2008, median: 0.07\",\"December 2008, median: -0.55\",\"January 2009, median: -2.11\",\"February 2009, median: -0.59\",\"March 2009, median: 0.03\",\"April 2009, median: 0.94\",\"May 2009, median: 0.18\",\"June 2009, median: -0.34\",\"July 2009, median: -0.71\",\"August 2009, median: -1.17\",\"September 2009, median: 1.03\",\"October 2009, median: 0.61\",\"November 2009, median: 0.87\",\"December 2009, median: 0.52\",\"January 2010, median: 0.52\",\"February 2010, median: 0.13\",\"March 2010, median: -0.95\",\"April 2010, median: -1.35\",\"May 2010, median: -1.77\",\"June 2010, median: -1.62\",\"July 2010, median: -0.73\",\"August 2010, median: -0.72\",\"September 2010, median: -0.76\",\"October 2010, median: -1.25\",\"November 2010, median: -1.84\",\"December 2010, median: -1.93\",\"January 2011, median: -1.54\",\"February 2011, median: 0.26\",\"March 2011, median: 0.63\",\"April 2011, median: 1.03\",\"May 2011, median: 1.09\",\"June 2011, median: 1.60\",\"July 2011, median: 1.24\",\"August 2011, median: 0.77\",\"September 2011, median: 0.62\",\"October 2011, median: 0.43\",\"November 2011, median: 0.90\",\"December 2011, median: -0.23\",\"January 2012, median: 0.76\",\"February 2012, median: 0.84\",\"March 2012, median: 1.50\",\"April 2012, median: 0.68\",\"May 2012, median: -0.28\",\"June 2012, median: -1.18\",\"July 2012, median: -0.95\",\"August 2012, median: -1.79\",\"September 2012, median: -1.40\",\"October 2012, median: -0.89\",\"November 2012, median: 0.16\",\"December 2012, median: 0.98\",\"January 2013, median: 1.41\",\"February 2013, median: 1.06\",\"March 2013, median: -0.23\",\"April 2013, median: -0.44\",\"May 2013, median: -0.39\",\"June 2013, median: 0.91\",\"July 2013, median: 0.63\",\"August 2013, median: 0.47\",\"September 2013, median: 0.72\",\"October 2013, median: -0.29\",\"November 2013, median: -1.15\",\"December 2013, median: -0.40\",\"January 2014, median: -1.44\",\"February 2014, median: -2.43\",\"March 2014, median: -2.26\",\"April 2014, median: -2.00\",\"May 2014, median: -0.73\",\"June 2014, median: -0.62\",\"July 2014, median: 1.12\",\"August 2014, median: 0.93\",\"September 2014, median: 1.18\",\"October 2014, median: 1.15\",\"November 2014, median: 1.80\",\"December 2014, median: 0.22\",\"January 2015, median: 0.18\",\"February 2015, median: -0.69\",\"March 2015, median: -0.38\",\"April 2015, median: -0.10\",\"May 2015, median: -0.55\",\"June 2015, median: 0.62\",\"July 2015, median: 0.21\",\"August 2015, median: -0.06\",\"September 2015, median: -1.64\",\"October 2015, median: -0.44\",\"November 2015, median: -0.24\",\"December 2015, median: -0.58\",\"January 2016, median: -0.43\",\"February 2016, median: -0.95\",\"March 2016, median: -0.47\",\"April 2016, median: -1.06\",\"May 2016, median: -0.92\",\"June 2016, median: -1.40\",\"July 2016, median: -0.46\",\"August 2016, median: -0.93\",\"September 2016, median: 0.26\",\"October 2016, median: -0.70\",\"November 2016, median: -1.44\",\"December 2016, median: 0.44\",\"January 2017, median: 0.28\",\"February 2017, median: -0.06\",\"March 2017, median: -1.34\",\"April 2017, median: -1.06\",\"May 2017, median: -0.86\",\"June 2017, median: -0.96\",\"July 2017, median: -1.59\",\"August 2017, median: -1.83\",\"September 2017, median: -1.45\",\"October 2017, median: 0.05\",\"November 2017, median: -0.29\",\"December 2017, median: -0.87\",\"January 2018, median: -0.02\",\"February 2018, median: 0.29\",\"March 2018, median: -0.02\",\"April 2018, median: -0.59\",\"May 2018, median: -0.55\",\"June 2018, median: 1.06\",\"July 2018, median: 1.27\",\"August 2018, median: 0.91\",\"September 2018, median: 0.32\",\"October 2018, median: 1.37\",\"November 2018, median: 0.78\",\"December 2018, median: 1.30\",\"January 2019, median: 0.73\",\"February 2019, median: 1.23\",\"March 2019, median: 1.12\",\"April 2019, median: 1.28\",\"May 2019, median: 0.57\",\"June 2019, median: 0.36\",\"July 2019, median: -1.61\",\"August 2019, median: -0.58\",\"September 2019, median: -0.47\",\"October 2019, median: -0.06\",\"November 2019, median: -1.18\",\"December 2019, median: 0.30\",\"January 2020, median: 0.78\",\"February 2020, median: 1.27\",\"March 2020, median: 0.94\",\"April 2020, median: 0.84\",\"May 2020, median: 0.94\",\"June 2020, median: 0.83\",\"July 2020, median: 0.15\",\"August 2020, median: -0.26\",\"September 2020, median: -1.60\",\"October 2020, median: -2.14\",\"November 2020, median: -0.66\",\"December 2020, median: -0.67\",\"January 2021, median: 0.16\",\"February 2021, median: -1.05\",\"March 2021, median: -0.55\",\"April 2021, median: -0.85\",\"May 2021, median: -1.15\",\"June 2021, median: -1.87\",\"July 2021, median: -2.07\",\"August 2021, median: -1.53\",\"September 2021, median: -0.92\",\"October 2021, median: -0.94\",\"November 2021, median: -0.90\",\"December 2021, median: -0.52\",\"January 2022, median: 0.18\",\"February 2022, median: 0.53\",\"March 2022, median: 0.63\",\"April 2022, median: -0.22\",\"May 2022, median: -0.73\",\"June 2022, median: -1.81\",\"July 2022, median: -0.60\",\"August 2022, median: -0.55\",\"September 2022, median: -1.02\",\"October 2022, median: -0.95\",\"November 2022, median: -0.26\",\"December 2022, median: -1.03\",\"January 2023, median: -1.43\",\"February 2023, median: -1.38\",\"March 2023, median: -0.47\",\"April 2023, median: 0.67\",\"May 2023, median: 0.06\",\"June 2023, median: 0.60\",\"July 2023, median: -1.20\",\"August 2023, median: -0.81\",\"September 2023, median: -1.59\",\"October 2023, median: -0.17\",\"November 2023, median: 0.40\",\"December 2023, median: 0.50\",\"January 2024, median: 0.96\",\"February 2024, median: 0.52\"],\"marker\":{\"color\":[\"#FFBF69\",\"#FFBF69\",\"#FFBF69\",\"#FFBF69\",\"#FF961F\",\"#FFBF69\",\"#A1F7D5\",\"#A1F7D5\",\"#FFBF69\",\"#A1F7D5\",\"#A1F7D5\",\"#A1F7D5\",\"#FFBF69\",\"#FFBF69\",\"#FF961F\",\"#A1F7D5\",\"#A1F7D5\",\"#43EFAA\",\"#FFBF69\",\"#FFBF69\",\"#FFBF69\",\"#43EFAA\",\"#A1F7D5\",\"#FFBF69\",\"#FF961F\",\"#FFBF69\",\"#A1F7D5\",\"#A1F7D5\",\"#A1F7D5\",\"#A1F7D5\",\"#A1F7D5\",\"#FFBF69\",\"#A1F7D5\",\"#FFBF69\",\"#FFBF69\",\"#FFBF69\",\"#FFBF69\",\"#FFBF69\",\"#FF961F\",\"#8F5100\",\"#8F5100\",\"#8F5100\",\"#FFBF69\",\"#FFBF69\",\"#A1F7D5\",\"#43EFAA\",\"#A1F7D5\",\"#FFBF69\",\"#291700\",\"#FFBF69\",\"#A1F7D5\",\"#A1F7D5\",\"#A1F7D5\",\"#FFBF69\",\"#FFBF69\",\"#FF961F\",\"#43EFAA\",\"#A1F7D5\",\"#A1F7D5\",\"#A1F7D5\",\"#A1F7D5\",\"#A1F7D5\",\"#FFBF69\",\"#FF961F\",\"#8F5100\",\"#8F5100\",\"#FFBF69\",\"#FFBF69\",\"#FFBF69\",\"#FF961F\",\"#8F5100\",\"#8F5100\",\"#8F5100\",\"#A1F7D5\",\"#A1F7D5\",\"#43EFAA\",\"#43EFAA\",\"#0D965f\",\"#43EFAA\",\"#A1F7D5\",\"#A1F7D5\",\"#A1F7D5\",\"#A1F7D5\",\"#FFBF69\",\"#A1F7D5\",\"#A1F7D5\",\"#0D965f\",\"#A1F7D5\",\"#FFBF69\",\"#FF961F\",\"#FFBF69\",\"#8F5100\",\"#FF961F\",\"#FFBF69\",\"#A1F7D5\",\"#A1F7D5\",\"#43EFAA\",\"#43EFAA\",\"#FFBF69\",\"#FFBF69\",\"#FFBF69\",\"#A1F7D5\",\"#A1F7D5\",\"#A1F7D5\",\"#A1F7D5\",\"#FFBF69\",\"#FF961F\",\"#FFBF69\",\"#FF961F\",\"#291700\",\"#291700\",\"#291700\",\"#FFBF69\",\"#FFBF69\",\"#43EFAA\",\"#A1F7D5\",\"#43EFAA\",\"#43EFAA\",\"#0D965f\",\"#A1F7D5\",\"#A1F7D5\",\"#FFBF69\",\"#FFBF69\",\"#FFBF69\",\"#FFBF69\",\"#A1F7D5\",\"#A1F7D5\",\"#FFBF69\",\"#8F5100\",\"#FFBF69\",\"#FFBF69\",\"#FFBF69\",\"#FFBF69\",\"#FFBF69\",\"#FFBF69\",\"#FF961F\",\"#FFBF69\",\"#FF961F\",\"#FFBF69\",\"#FFBF69\",\"#A1F7D5\",\"#FFBF69\",\"#FF961F\",\"#A1F7D5\",\"#A1F7D5\",\"#FFBF69\",\"#FF961F\",\"#FF961F\",\"#FFBF69\",\"#FFBF69\",\"#8F5100\",\"#8F5100\",\"#FF961F\",\"#A1F7D5\",\"#FFBF69\",\"#FFBF69\",\"#FFBF69\",\"#A1F7D5\",\"#FFBF69\",\"#FFBF69\",\"#FFBF69\",\"#43EFAA\",\"#43EFAA\",\"#A1F7D5\",\"#A1F7D5\",\"#43EFAA\",\"#A1F7D5\",\"#43EFAA\",\"#A1F7D5\",\"#43EFAA\",\"#43EFAA\",\"#43EFAA\",\"#A1F7D5\",\"#A1F7D5\",\"#8F5100\",\"#FFBF69\",\"#FFBF69\",\"#FFBF69\",\"#FF961F\",\"#A1F7D5\",\"#A1F7D5\",\"#43EFAA\",\"#A1F7D5\",\"#A1F7D5\",\"#A1F7D5\",\"#A1F7D5\",\"#A1F7D5\",\"#FFBF69\",\"#8F5100\",\"#291700\",\"#FFBF69\",\"#FFBF69\",\"#A1F7D5\",\"#FF961F\",\"#FFBF69\",\"#FFBF69\",\"#FF961F\",\"#8F5100\",\"#291700\",\"#8F5100\",\"#FFBF69\",\"#FFBF69\",\"#FFBF69\",\"#FFBF69\",\"#A1F7D5\",\"#A1F7D5\",\"#A1F7D5\",\"#FFBF69\",\"#FFBF69\",\"#8F5100\",\"#FFBF69\",\"#FFBF69\",\"#FF961F\",\"#FFBF69\",\"#FFBF69\",\"#FF961F\",\"#FF961F\",\"#FF961F\",\"#FFBF69\",\"#A1F7D5\",\"#A1F7D5\",\"#A1F7D5\",\"#FF961F\",\"#FFBF69\",\"#8F5100\",\"#FFBF69\",\"#A1F7D5\",\"#A1F7D5\",\"#A1F7D5\",\"#A1F7D5\"]},\"orientation\":\"v\",\"width\":1.0,\"x\":[\"2005-01\",\"2005-02\",\"2005-03\",\"2005-04\",\"2005-05\",\"2005-06\",\"2005-07\",\"2005-08\",\"2005-09\",\"2005-10\",\"2005-11\",\"2005-12\",\"2006-01\",\"2006-02\",\"2006-03\",\"2006-04\",\"2006-05\",\"2006-06\",\"2006-07\",\"2006-08\",\"2006-09\",\"2006-10\",\"2006-11\",\"2006-12\",\"2007-01\",\"2007-02\",\"2007-03\",\"2007-04\",\"2007-05\",\"2007-06\",\"2007-07\",\"2007-08\",\"2007-09\",\"2007-10\",\"2007-11\",\"2007-12\",\"2008-01\",\"2008-02\",\"2008-03\",\"2008-04\",\"2008-05\",\"2008-06\",\"2008-07\",\"2008-08\",\"2008-09\",\"2008-10\",\"2008-11\",\"2008-12\",\"2009-01\",\"2009-02\",\"2009-03\",\"2009-04\",\"2009-05\",\"2009-06\",\"2009-07\",\"2009-08\",\"2009-09\",\"2009-10\",\"2009-11\",\"2009-12\",\"2010-01\",\"2010-02\",\"2010-03\",\"2010-04\",\"2010-05\",\"2010-06\",\"2010-07\",\"2010-08\",\"2010-09\",\"2010-10\",\"2010-11\",\"2010-12\",\"2011-01\",\"2011-02\",\"2011-03\",\"2011-04\",\"2011-05\",\"2011-06\",\"2011-07\",\"2011-08\",\"2011-09\",\"2011-10\",\"2011-11\",\"2011-12\",\"2012-01\",\"2012-02\",\"2012-03\",\"2012-04\",\"2012-05\",\"2012-06\",\"2012-07\",\"2012-08\",\"2012-09\",\"2012-10\",\"2012-11\",\"2012-12\",\"2013-01\",\"2013-02\",\"2013-03\",\"2013-04\",\"2013-05\",\"2013-06\",\"2013-07\",\"2013-08\",\"2013-09\",\"2013-10\",\"2013-11\",\"2013-12\",\"2014-01\",\"2014-02\",\"2014-03\",\"2014-04\",\"2014-05\",\"2014-06\",\"2014-07\",\"2014-08\",\"2014-09\",\"2014-10\",\"2014-11\",\"2014-12\",\"2015-01\",\"2015-02\",\"2015-03\",\"2015-04\",\"2015-05\",\"2015-06\",\"2015-07\",\"2015-08\",\"2015-09\",\"2015-10\",\"2015-11\",\"2015-12\",\"2016-01\",\"2016-02\",\"2016-03\",\"2016-04\",\"2016-05\",\"2016-06\",\"2016-07\",\"2016-08\",\"2016-09\",\"2016-10\",\"2016-11\",\"2016-12\",\"2017-01\",\"2017-02\",\"2017-03\",\"2017-04\",\"2017-05\",\"2017-06\",\"2017-07\",\"2017-08\",\"2017-09\",\"2017-10\",\"2017-11\",\"2017-12\",\"2018-01\",\"2018-02\",\"2018-03\",\"2018-04\",\"2018-05\",\"2018-06\",\"2018-07\",\"2018-08\",\"2018-09\",\"2018-10\",\"2018-11\",\"2018-12\",\"2019-01\",\"2019-02\",\"2019-03\",\"2019-04\",\"2019-05\",\"2019-06\",\"2019-07\",\"2019-08\",\"2019-09\",\"2019-10\",\"2019-11\",\"2019-12\",\"2020-01\",\"2020-02\",\"2020-03\",\"2020-04\",\"2020-05\",\"2020-06\",\"2020-07\",\"2020-08\",\"2020-09\",\"2020-10\",\"2020-11\",\"2020-12\",\"2021-01\",\"2021-02\",\"2021-03\",\"2021-04\",\"2021-05\",\"2021-06\",\"2021-07\",\"2021-08\",\"2021-09\",\"2021-10\",\"2021-11\",\"2021-12\",\"2022-01\",\"2022-02\",\"2022-03\",\"2022-04\",\"2022-05\",\"2022-06\",\"2022-07\",\"2022-08\",\"2022-09\",\"2022-10\",\"2022-11\",\"2022-12\",\"2023-01\",\"2023-02\",\"2023-03\",\"2023-04\",\"2023-05\",\"2023-06\",\"2023-07\",\"2023-08\",\"2023-09\",\"2023-10\",\"2023-11\",\"2023-12\",\"2024-01\",\"2024-02\"],\"y\":[1,1,1,1,1,1,1,1,1,1,1,1,1,1,1,1,1,1,1,1,1,1,1,1,1,1,1,1,1,1,1,1,1,1,1,1,1,1,1,1,1,1,1,1,1,1,1,1,1,1,1,1,1,1,1,1,1,1,1,1,1,1,1,1,1,1,1,1,1,1,1,1,1,1,1,1,1,1,1,1,1,1,1,1,1,1,1,1,1,1,1,1,1,1,1,1,1,1,1,1,1,1,1,1,1,1,1,1,1,1,1,1,1,1,1,1,1,1,1,1,1,1,1,1,1,1,1,1,1,1,1,1,1,1,1,1,1,1,1,1,1,1,1,1,1,1,1,1,1,1,1,1,1,1,1,1,1,1,1,1,1,1,1,1,1,1,1,1,1,1,1,1,1,1,1,1,1,1,1,1,1,1,1,1,1,1,1,1,1,1,1,1,1,1,1,1,1,1,1,1,1,1,1,1,1,1,1,1,1,1,1,1,1,1,1,1,1,1,1,1,1,1,1,1,1,1,1,1,1,1],\"type\":\"bar\"}],                        {\"template\":{\"data\":{\"barpolar\":[{\"marker\":{\"line\":{\"color\":\"white\",\"width\":0.5},\"pattern\":{\"fillmode\":\"overlay\",\"size\":10,\"solidity\":0.2}},\"type\":\"barpolar\"}],\"bar\":[{\"error_x\":{\"color\":\"#2a3f5f\"},\"error_y\":{\"color\":\"#2a3f5f\"},\"marker\":{\"line\":{\"color\":\"white\",\"width\":0.5},\"pattern\":{\"fillmode\":\"overlay\",\"size\":10,\"solidity\":0.2}},\"type\":\"bar\"}],\"carpet\":[{\"aaxis\":{\"endlinecolor\":\"#2a3f5f\",\"gridcolor\":\"#C8D4E3\",\"linecolor\":\"#C8D4E3\",\"minorgridcolor\":\"#C8D4E3\",\"startlinecolor\":\"#2a3f5f\"},\"baxis\":{\"endlinecolor\":\"#2a3f5f\",\"gridcolor\":\"#C8D4E3\",\"linecolor\":\"#C8D4E3\",\"minorgridcolor\":\"#C8D4E3\",\"startlinecolor\":\"#2a3f5f\"},\"type\":\"carpet\"}],\"choropleth\":[{\"colorbar\":{\"outlinewidth\":0,\"ticks\":\"\"},\"type\":\"choropleth\"}],\"contourcarpet\":[{\"colorbar\":{\"outlinewidth\":0,\"ticks\":\"\"},\"type\":\"contourcarpet\"}],\"contour\":[{\"colorbar\":{\"outlinewidth\":0,\"ticks\":\"\"},\"colorscale\":[[0.0,\"#0d0887\"],[0.1111111111111111,\"#46039f\"],[0.2222222222222222,\"#7201a8\"],[0.3333333333333333,\"#9c179e\"],[0.4444444444444444,\"#bd3786\"],[0.5555555555555556,\"#d8576b\"],[0.6666666666666666,\"#ed7953\"],[0.7777777777777778,\"#fb9f3a\"],[0.8888888888888888,\"#fdca26\"],[1.0,\"#f0f921\"]],\"type\":\"contour\"}],\"heatmapgl\":[{\"colorbar\":{\"outlinewidth\":0,\"ticks\":\"\"},\"colorscale\":[[0.0,\"#0d0887\"],[0.1111111111111111,\"#46039f\"],[0.2222222222222222,\"#7201a8\"],[0.3333333333333333,\"#9c179e\"],[0.4444444444444444,\"#bd3786\"],[0.5555555555555556,\"#d8576b\"],[0.6666666666666666,\"#ed7953\"],[0.7777777777777778,\"#fb9f3a\"],[0.8888888888888888,\"#fdca26\"],[1.0,\"#f0f921\"]],\"type\":\"heatmapgl\"}],\"heatmap\":[{\"colorbar\":{\"outlinewidth\":0,\"ticks\":\"\"},\"colorscale\":[[0.0,\"#0d0887\"],[0.1111111111111111,\"#46039f\"],[0.2222222222222222,\"#7201a8\"],[0.3333333333333333,\"#9c179e\"],[0.4444444444444444,\"#bd3786\"],[0.5555555555555556,\"#d8576b\"],[0.6666666666666666,\"#ed7953\"],[0.7777777777777778,\"#fb9f3a\"],[0.8888888888888888,\"#fdca26\"],[1.0,\"#f0f921\"]],\"type\":\"heatmap\"}],\"histogram2dcontour\":[{\"colorbar\":{\"outlinewidth\":0,\"ticks\":\"\"},\"colorscale\":[[0.0,\"#0d0887\"],[0.1111111111111111,\"#46039f\"],[0.2222222222222222,\"#7201a8\"],[0.3333333333333333,\"#9c179e\"],[0.4444444444444444,\"#bd3786\"],[0.5555555555555556,\"#d8576b\"],[0.6666666666666666,\"#ed7953\"],[0.7777777777777778,\"#fb9f3a\"],[0.8888888888888888,\"#fdca26\"],[1.0,\"#f0f921\"]],\"type\":\"histogram2dcontour\"}],\"histogram2d\":[{\"colorbar\":{\"outlinewidth\":0,\"ticks\":\"\"},\"colorscale\":[[0.0,\"#0d0887\"],[0.1111111111111111,\"#46039f\"],[0.2222222222222222,\"#7201a8\"],[0.3333333333333333,\"#9c179e\"],[0.4444444444444444,\"#bd3786\"],[0.5555555555555556,\"#d8576b\"],[0.6666666666666666,\"#ed7953\"],[0.7777777777777778,\"#fb9f3a\"],[0.8888888888888888,\"#fdca26\"],[1.0,\"#f0f921\"]],\"type\":\"histogram2d\"}],\"histogram\":[{\"marker\":{\"pattern\":{\"fillmode\":\"overlay\",\"size\":10,\"solidity\":0.2}},\"type\":\"histogram\"}],\"mesh3d\":[{\"colorbar\":{\"outlinewidth\":0,\"ticks\":\"\"},\"type\":\"mesh3d\"}],\"parcoords\":[{\"line\":{\"colorbar\":{\"outlinewidth\":0,\"ticks\":\"\"}},\"type\":\"parcoords\"}],\"pie\":[{\"automargin\":true,\"type\":\"pie\"}],\"scatter3d\":[{\"line\":{\"colorbar\":{\"outlinewidth\":0,\"ticks\":\"\"}},\"marker\":{\"colorbar\":{\"outlinewidth\":0,\"ticks\":\"\"}},\"type\":\"scatter3d\"}],\"scattercarpet\":[{\"marker\":{\"colorbar\":{\"outlinewidth\":0,\"ticks\":\"\"}},\"type\":\"scattercarpet\"}],\"scattergeo\":[{\"marker\":{\"colorbar\":{\"outlinewidth\":0,\"ticks\":\"\"}},\"type\":\"scattergeo\"}],\"scattergl\":[{\"marker\":{\"colorbar\":{\"outlinewidth\":0,\"ticks\":\"\"}},\"type\":\"scattergl\"}],\"scattermapbox\":[{\"marker\":{\"colorbar\":{\"outlinewidth\":0,\"ticks\":\"\"}},\"type\":\"scattermapbox\"}],\"scatterpolargl\":[{\"marker\":{\"colorbar\":{\"outlinewidth\":0,\"ticks\":\"\"}},\"type\":\"scatterpolargl\"}],\"scatterpolar\":[{\"marker\":{\"colorbar\":{\"outlinewidth\":0,\"ticks\":\"\"}},\"type\":\"scatterpolar\"}],\"scatter\":[{\"fillpattern\":{\"fillmode\":\"overlay\",\"size\":10,\"solidity\":0.2},\"type\":\"scatter\"}],\"scatterternary\":[{\"marker\":{\"colorbar\":{\"outlinewidth\":0,\"ticks\":\"\"}},\"type\":\"scatterternary\"}],\"surface\":[{\"colorbar\":{\"outlinewidth\":0,\"ticks\":\"\"},\"colorscale\":[[0.0,\"#0d0887\"],[0.1111111111111111,\"#46039f\"],[0.2222222222222222,\"#7201a8\"],[0.3333333333333333,\"#9c179e\"],[0.4444444444444444,\"#bd3786\"],[0.5555555555555556,\"#d8576b\"],[0.6666666666666666,\"#ed7953\"],[0.7777777777777778,\"#fb9f3a\"],[0.8888888888888888,\"#fdca26\"],[1.0,\"#f0f921\"]],\"type\":\"surface\"}],\"table\":[{\"cells\":{\"fill\":{\"color\":\"#EBF0F8\"},\"line\":{\"color\":\"white\"}},\"header\":{\"fill\":{\"color\":\"#C8D4E3\"},\"line\":{\"color\":\"white\"}},\"type\":\"table\"}]},\"layout\":{\"annotationdefaults\":{\"arrowcolor\":\"#2a3f5f\",\"arrowhead\":0,\"arrowwidth\":1},\"autotypenumbers\":\"strict\",\"coloraxis\":{\"colorbar\":{\"outlinewidth\":0,\"ticks\":\"\"}},\"colorscale\":{\"diverging\":[[0,\"#8e0152\"],[0.1,\"#c51b7d\"],[0.2,\"#de77ae\"],[0.3,\"#f1b6da\"],[0.4,\"#fde0ef\"],[0.5,\"#f7f7f7\"],[0.6,\"#e6f5d0\"],[0.7,\"#b8e186\"],[0.8,\"#7fbc41\"],[0.9,\"#4d9221\"],[1,\"#276419\"]],\"sequential\":[[0.0,\"#0d0887\"],[0.1111111111111111,\"#46039f\"],[0.2222222222222222,\"#7201a8\"],[0.3333333333333333,\"#9c179e\"],[0.4444444444444444,\"#bd3786\"],[0.5555555555555556,\"#d8576b\"],[0.6666666666666666,\"#ed7953\"],[0.7777777777777778,\"#fb9f3a\"],[0.8888888888888888,\"#fdca26\"],[1.0,\"#f0f921\"]],\"sequentialminus\":[[0.0,\"#0d0887\"],[0.1111111111111111,\"#46039f\"],[0.2222222222222222,\"#7201a8\"],[0.3333333333333333,\"#9c179e\"],[0.4444444444444444,\"#bd3786\"],[0.5555555555555556,\"#d8576b\"],[0.6666666666666666,\"#ed7953\"],[0.7777777777777778,\"#fb9f3a\"],[0.8888888888888888,\"#fdca26\"],[1.0,\"#f0f921\"]]},\"colorway\":[\"#636efa\",\"#EF553B\",\"#00cc96\",\"#ab63fa\",\"#FFA15A\",\"#19d3f3\",\"#FF6692\",\"#B6E880\",\"#FF97FF\",\"#FECB52\"],\"font\":{\"color\":\"#2a3f5f\"},\"geo\":{\"bgcolor\":\"white\",\"lakecolor\":\"white\",\"landcolor\":\"white\",\"showlakes\":true,\"showland\":true,\"subunitcolor\":\"#C8D4E3\"},\"hoverlabel\":{\"align\":\"left\"},\"hovermode\":\"closest\",\"mapbox\":{\"style\":\"light\"},\"paper_bgcolor\":\"white\",\"plot_bgcolor\":\"white\",\"polar\":{\"angularaxis\":{\"gridcolor\":\"#EBF0F8\",\"linecolor\":\"#EBF0F8\",\"ticks\":\"\"},\"bgcolor\":\"white\",\"radialaxis\":{\"gridcolor\":\"#EBF0F8\",\"linecolor\":\"#EBF0F8\",\"ticks\":\"\"}},\"scene\":{\"xaxis\":{\"backgroundcolor\":\"white\",\"gridcolor\":\"#DFE8F3\",\"gridwidth\":2,\"linecolor\":\"#EBF0F8\",\"showbackground\":true,\"ticks\":\"\",\"zerolinecolor\":\"#EBF0F8\"},\"yaxis\":{\"backgroundcolor\":\"white\",\"gridcolor\":\"#DFE8F3\",\"gridwidth\":2,\"linecolor\":\"#EBF0F8\",\"showbackground\":true,\"ticks\":\"\",\"zerolinecolor\":\"#EBF0F8\"},\"zaxis\":{\"backgroundcolor\":\"white\",\"gridcolor\":\"#DFE8F3\",\"gridwidth\":2,\"linecolor\":\"#EBF0F8\",\"showbackground\":true,\"ticks\":\"\",\"zerolinecolor\":\"#EBF0F8\"}},\"shapedefaults\":{\"line\":{\"color\":\"#2a3f5f\"}},\"ternary\":{\"aaxis\":{\"gridcolor\":\"#DFE8F3\",\"linecolor\":\"#A2B1C6\",\"ticks\":\"\"},\"baxis\":{\"gridcolor\":\"#DFE8F3\",\"linecolor\":\"#A2B1C6\",\"ticks\":\"\"},\"bgcolor\":\"white\",\"caxis\":{\"gridcolor\":\"#DFE8F3\",\"linecolor\":\"#A2B1C6\",\"ticks\":\"\"}},\"title\":{\"x\":0.05},\"xaxis\":{\"automargin\":true,\"gridcolor\":\"#EBF0F8\",\"linecolor\":\"#EBF0F8\",\"ticks\":\"\",\"title\":{\"standoff\":15},\"zerolinecolor\":\"#EBF0F8\",\"zerolinewidth\":2},\"yaxis\":{\"automargin\":true,\"gridcolor\":\"#EBF0F8\",\"linecolor\":\"#EBF0F8\",\"ticks\":\"\",\"title\":{\"standoff\":15},\"zerolinecolor\":\"#EBF0F8\",\"zerolinewidth\":2}}},\"yaxis\":{\"title\":{\"text\":\"Median SPEI3\"},\"showticklabels\":false,\"showgrid\":false,\"zeroline\":false,\"visible\":false},\"xaxis\":{\"title\":{\"text\":\"Years\"},\"type\":\"category\",\"tickmode\":\"array\",\"tickvals\":[\"2005-01\",\"2005-02\",\"2005-03\",\"2005-04\",\"2005-05\",\"2005-06\",\"2005-07\",\"2005-08\",\"2005-09\",\"2005-10\",\"2005-11\",\"2005-12\",\"2006-01\",\"2006-02\",\"2006-03\",\"2006-04\",\"2006-05\",\"2006-06\",\"2006-07\",\"2006-08\",\"2006-09\",\"2006-10\",\"2006-11\",\"2006-12\",\"2007-01\",\"2007-02\",\"2007-03\",\"2007-04\",\"2007-05\",\"2007-06\",\"2007-07\",\"2007-08\",\"2007-09\",\"2007-10\",\"2007-11\",\"2007-12\",\"2008-01\",\"2008-02\",\"2008-03\",\"2008-04\",\"2008-05\",\"2008-06\",\"2008-07\",\"2008-08\",\"2008-09\",\"2008-10\",\"2008-11\",\"2008-12\",\"2009-01\",\"2009-02\",\"2009-03\",\"2009-04\",\"2009-05\",\"2009-06\",\"2009-07\",\"2009-08\",\"2009-09\",\"2009-10\",\"2009-11\",\"2009-12\",\"2010-01\",\"2010-02\",\"2010-03\",\"2010-04\",\"2010-05\",\"2010-06\",\"2010-07\",\"2010-08\",\"2010-09\",\"2010-10\",\"2010-11\",\"2010-12\",\"2011-01\",\"2011-02\",\"2011-03\",\"2011-04\",\"2011-05\",\"2011-06\",\"2011-07\",\"2011-08\",\"2011-09\",\"2011-10\",\"2011-11\",\"2011-12\",\"2012-01\",\"2012-02\",\"2012-03\",\"2012-04\",\"2012-05\",\"2012-06\",\"2012-07\",\"2012-08\",\"2012-09\",\"2012-10\",\"2012-11\",\"2012-12\",\"2013-01\",\"2013-02\",\"2013-03\",\"2013-04\",\"2013-05\",\"2013-06\",\"2013-07\",\"2013-08\",\"2013-09\",\"2013-10\",\"2013-11\",\"2013-12\",\"2014-01\",\"2014-02\",\"2014-03\",\"2014-04\",\"2014-05\",\"2014-06\",\"2014-07\",\"2014-08\",\"2014-09\",\"2014-10\",\"2014-11\",\"2014-12\",\"2015-01\",\"2015-02\",\"2015-03\",\"2015-04\",\"2015-05\",\"2015-06\",\"2015-07\",\"2015-08\",\"2015-09\",\"2015-10\",\"2015-11\",\"2015-12\",\"2016-01\",\"2016-02\",\"2016-03\",\"2016-04\",\"2016-05\",\"2016-06\",\"2016-07\",\"2016-08\",\"2016-09\",\"2016-10\",\"2016-11\",\"2016-12\",\"2017-01\",\"2017-02\",\"2017-03\",\"2017-04\",\"2017-05\",\"2017-06\",\"2017-07\",\"2017-08\",\"2017-09\",\"2017-10\",\"2017-11\",\"2017-12\",\"2018-01\",\"2018-02\",\"2018-03\",\"2018-04\",\"2018-05\",\"2018-06\",\"2018-07\",\"2018-08\",\"2018-09\",\"2018-10\",\"2018-11\",\"2018-12\",\"2019-01\",\"2019-02\",\"2019-03\",\"2019-04\",\"2019-05\",\"2019-06\",\"2019-07\",\"2019-08\",\"2019-09\",\"2019-10\",\"2019-11\",\"2019-12\",\"2020-01\",\"2020-02\",\"2020-03\",\"2020-04\",\"2020-05\",\"2020-06\",\"2020-07\",\"2020-08\",\"2020-09\",\"2020-10\",\"2020-11\",\"2020-12\",\"2021-01\",\"2021-02\",\"2021-03\",\"2021-04\",\"2021-05\",\"2021-06\",\"2021-07\",\"2021-08\",\"2021-09\",\"2021-10\",\"2021-11\",\"2021-12\",\"2022-01\",\"2022-02\",\"2022-03\",\"2022-04\",\"2022-05\",\"2022-06\",\"2022-07\",\"2022-08\",\"2022-09\",\"2022-10\",\"2022-11\",\"2022-12\",\"2023-01\",\"2023-02\",\"2023-03\",\"2023-04\",\"2023-05\",\"2023-06\",\"2023-07\",\"2023-08\",\"2023-09\",\"2023-10\",\"2023-11\",\"2023-12\",\"2024-01\",\"2024-02\"],\"ticktext\":[\"2005\",\"\",\"\",\"\",\"\",\"\",\"\",\"\",\"\",\"\",\"\",\"\",\"\",\"\",\"\",\"\",\"\",\"\",\"\",\"\",\"\",\"\",\"\",\"\",\"\",\"\",\"\",\"\",\"\",\"\",\"\",\"\",\"\",\"\",\"\",\"\",\"\",\"\",\"\",\"\",\"\",\"\",\"\",\"\",\"\",\"\",\"\",\"\",\"\",\"\",\"\",\"\",\"\",\"\",\"\",\"\",\"\",\"\",\"\",\"\",\"2010\",\"\",\"\",\"\",\"\",\"\",\"\",\"\",\"\",\"\",\"\",\"\",\"\",\"\",\"\",\"\",\"\",\"\",\"\",\"\",\"\",\"\",\"\",\"\",\"\",\"\",\"\",\"\",\"\",\"\",\"\",\"\",\"\",\"\",\"\",\"\",\"\",\"\",\"\",\"\",\"\",\"\",\"\",\"\",\"\",\"\",\"\",\"\",\"\",\"\",\"\",\"\",\"\",\"\",\"\",\"\",\"\",\"\",\"\",\"\",\"2015\",\"\",\"\",\"\",\"\",\"\",\"\",\"\",\"\",\"\",\"\",\"\",\"\",\"\",\"\",\"\",\"\",\"\",\"\",\"\",\"\",\"\",\"\",\"\",\"\",\"\",\"\",\"\",\"\",\"\",\"\",\"\",\"\",\"\",\"\",\"\",\"\",\"\",\"\",\"\",\"\",\"\",\"\",\"\",\"\",\"\",\"\",\"\",\"\",\"\",\"\",\"\",\"\",\"\",\"\",\"\",\"\",\"\",\"\",\"\",\"2020\",\"\",\"\",\"\",\"\",\"\",\"\",\"\",\"\",\"\",\"\",\"\",\"\",\"\",\"\",\"\",\"\",\"\",\"\",\"\",\"\",\"\",\"\",\"\",\"\",\"\",\"\",\"\",\"\",\"\",\"\",\"\",\"\",\"\",\"\",\"\",\"\",\"\",\"\",\"\",\"\",\"\",\"\",\"\",\"\",\"\",\"\",\"\",\"\",\"\"],\"tickangle\":0},\"title\":{\"text\":\"Median 3 months SPEI index, trends over time in Golan area from 2005 to 2024\"},\"height\":600,\"plot_bgcolor\":\"rgba(0,0,0,0)\",\"showlegend\":false},                        {\"responsive\": true}                    ).then(function(){\n",
       "                            \n",
       "var gd = document.getElementById('a3dffc88-789a-45de-ba1b-4b546b0017d2');\n",
       "var x = new MutationObserver(function (mutations, observer) {{\n",
       "        var display = window.getComputedStyle(gd).display;\n",
       "        if (!display || display === 'none') {{\n",
       "            console.log([gd, 'removed!']);\n",
       "            Plotly.purge(gd);\n",
       "            observer.disconnect();\n",
       "        }}\n",
       "}});\n",
       "\n",
       "// Listen for the removal of the full notebook cells\n",
       "var notebookContainer = gd.closest('#notebook-container');\n",
       "if (notebookContainer) {{\n",
       "    x.observe(notebookContainer, {childList: true});\n",
       "}}\n",
       "\n",
       "// Listen for the clearing of the current output cell\n",
       "var outputEl = gd.closest('.output');\n",
       "if (outputEl) {{\n",
       "    x.observe(outputEl, {childList: true});\n",
       "}}\n",
       "\n",
       "                        })                };                });            </script>        </div>"
      ]
     },
     "metadata": {},
     "output_type": "display_data"
    }
   ],
   "source": [
    "charts.create_stripechart(stat_values, timescales, selected, placeholders)"
   ]
  },
  {
   "cell_type": "code",
   "execution_count": 21,
   "id": "bec3a084-60a8-4a95-ad8f-e38ca374362b",
   "metadata": {},
   "outputs": [
    {
     "data": {
      "application/vnd.plotly.v1+json": {
       "config": {
        "plotlyServerURL": "https://plot.ly"
       },
       "data": [
        {
         "hoverinfo": "text",
         "hovertext": [
          "January 2005, median: -0.02",
          "February 2005, median: -0.25",
          "March 2005, median: -0.36",
          "April 2005, median: -0.30",
          "May 2005, median: -1.14",
          "June 2005, median: -0.32",
          "July 2005, median: 0.27",
          "August 2005, median: 0.02",
          "September 2005, median: -0.19",
          "October 2005, median: 0.23",
          "November 2005, median: 0.37",
          "December 2005, median: 0.12",
          "January 2006, median: -0.14",
          "February 2006, median: -0.70",
          "March 2006, median: -1.02",
          "April 2006, median: 0.29",
          "May 2006, median: 0.33",
          "June 2006, median: 1.15",
          "July 2006, median: -0.23",
          "August 2006, median: -0.20",
          "September 2006, median: -0.04",
          "October 2006, median: 1.38",
          "November 2006, median: 0.46",
          "December 2006, median: -0.17",
          "January 2007, median: -1.09",
          "February 2007, median: -0.38",
          "March 2007, median: 0.17",
          "April 2007, median: 0.55",
          "May 2007, median: 0.02",
          "June 2007, median: 0.46",
          "July 2007, median: 0.03",
          "August 2007, median: -0.07",
          "September 2007, median: 0.33",
          "October 2007, median: -0.43",
          "November 2007, median: -0.42",
          "December 2007, median: -0.71",
          "January 2008, median: -0.14",
          "February 2008, median: -0.62",
          "March 2008, median: -1.13",
          "April 2008, median: -1.88",
          "May 2008, median: -1.59",
          "June 2008, median: -1.86",
          "July 2008, median: -0.55",
          "August 2008, median: -0.39",
          "September 2008, median: 0.67",
          "October 2008, median: 1.35",
          "November 2008, median: 0.07",
          "December 2008, median: -0.55",
          "January 2009, median: -2.11",
          "February 2009, median: -0.59",
          "March 2009, median: 0.03",
          "April 2009, median: 0.94",
          "May 2009, median: 0.18",
          "June 2009, median: -0.34",
          "July 2009, median: -0.71",
          "August 2009, median: -1.17",
          "September 2009, median: 1.03",
          "October 2009, median: 0.61",
          "November 2009, median: 0.87",
          "December 2009, median: 0.52",
          "January 2010, median: 0.52",
          "February 2010, median: 0.13",
          "March 2010, median: -0.95",
          "April 2010, median: -1.35",
          "May 2010, median: -1.77",
          "June 2010, median: -1.62",
          "July 2010, median: -0.73",
          "August 2010, median: -0.72",
          "September 2010, median: -0.76",
          "October 2010, median: -1.25",
          "November 2010, median: -1.84",
          "December 2010, median: -1.93",
          "January 2011, median: -1.54",
          "February 2011, median: 0.26",
          "March 2011, median: 0.63",
          "April 2011, median: 1.03",
          "May 2011, median: 1.09",
          "June 2011, median: 1.60",
          "July 2011, median: 1.24",
          "August 2011, median: 0.77",
          "September 2011, median: 0.62",
          "October 2011, median: 0.43",
          "November 2011, median: 0.90",
          "December 2011, median: -0.23",
          "January 2012, median: 0.76",
          "February 2012, median: 0.84",
          "March 2012, median: 1.50",
          "April 2012, median: 0.68",
          "May 2012, median: -0.28",
          "June 2012, median: -1.18",
          "July 2012, median: -0.95",
          "August 2012, median: -1.79",
          "September 2012, median: -1.40",
          "October 2012, median: -0.89",
          "November 2012, median: 0.16",
          "December 2012, median: 0.98",
          "January 2013, median: 1.41",
          "February 2013, median: 1.06",
          "March 2013, median: -0.23",
          "April 2013, median: -0.44",
          "May 2013, median: -0.39",
          "June 2013, median: 0.91",
          "July 2013, median: 0.63",
          "August 2013, median: 0.47",
          "September 2013, median: 0.72",
          "October 2013, median: -0.29",
          "November 2013, median: -1.15",
          "December 2013, median: -0.40",
          "January 2014, median: -1.44",
          "February 2014, median: -2.43",
          "March 2014, median: -2.26",
          "April 2014, median: -2.00",
          "May 2014, median: -0.73",
          "June 2014, median: -0.62",
          "July 2014, median: 1.12",
          "August 2014, median: 0.93",
          "September 2014, median: 1.18",
          "October 2014, median: 1.15",
          "November 2014, median: 1.80",
          "December 2014, median: 0.22",
          "January 2015, median: 0.18",
          "February 2015, median: -0.69",
          "March 2015, median: -0.38",
          "April 2015, median: -0.10",
          "May 2015, median: -0.55",
          "June 2015, median: 0.62",
          "July 2015, median: 0.21",
          "August 2015, median: -0.06",
          "September 2015, median: -1.64",
          "October 2015, median: -0.44",
          "November 2015, median: -0.24",
          "December 2015, median: -0.58",
          "January 2016, median: -0.43",
          "February 2016, median: -0.95",
          "March 2016, median: -0.47",
          "April 2016, median: -1.06",
          "May 2016, median: -0.92",
          "June 2016, median: -1.40",
          "July 2016, median: -0.46",
          "August 2016, median: -0.93",
          "September 2016, median: 0.26",
          "October 2016, median: -0.70",
          "November 2016, median: -1.44",
          "December 2016, median: 0.44",
          "January 2017, median: 0.28",
          "February 2017, median: -0.06",
          "March 2017, median: -1.34",
          "April 2017, median: -1.06",
          "May 2017, median: -0.86",
          "June 2017, median: -0.96",
          "July 2017, median: -1.59",
          "August 2017, median: -1.83",
          "September 2017, median: -1.45",
          "October 2017, median: 0.05",
          "November 2017, median: -0.29",
          "December 2017, median: -0.87",
          "January 2018, median: -0.02",
          "February 2018, median: 0.29",
          "March 2018, median: -0.02",
          "April 2018, median: -0.59",
          "May 2018, median: -0.55",
          "June 2018, median: 1.06",
          "July 2018, median: 1.27",
          "August 2018, median: 0.91",
          "September 2018, median: 0.32",
          "October 2018, median: 1.37",
          "November 2018, median: 0.78",
          "December 2018, median: 1.30",
          "January 2019, median: 0.73",
          "February 2019, median: 1.23",
          "March 2019, median: 1.12",
          "April 2019, median: 1.28",
          "May 2019, median: 0.57",
          "June 2019, median: 0.36",
          "July 2019, median: -1.61",
          "August 2019, median: -0.58",
          "September 2019, median: -0.47",
          "October 2019, median: -0.06",
          "November 2019, median: -1.18",
          "December 2019, median: 0.30",
          "January 2020, median: 0.78",
          "February 2020, median: 1.27",
          "March 2020, median: 0.94",
          "April 2020, median: 0.84",
          "May 2020, median: 0.94",
          "June 2020, median: 0.83",
          "July 2020, median: 0.15",
          "August 2020, median: -0.26",
          "September 2020, median: -1.60",
          "October 2020, median: -2.14",
          "November 2020, median: -0.66",
          "December 2020, median: -0.67",
          "January 2021, median: 0.16",
          "February 2021, median: -1.05",
          "March 2021, median: -0.55",
          "April 2021, median: -0.85",
          "May 2021, median: -1.15",
          "June 2021, median: -1.87",
          "July 2021, median: -2.07",
          "August 2021, median: -1.53",
          "September 2021, median: -0.92",
          "October 2021, median: -0.94",
          "November 2021, median: -0.90",
          "December 2021, median: -0.52",
          "January 2022, median: 0.18",
          "February 2022, median: 0.53",
          "March 2022, median: 0.63",
          "April 2022, median: -0.22",
          "May 2022, median: -0.73",
          "June 2022, median: -1.81",
          "July 2022, median: -0.60",
          "August 2022, median: -0.55",
          "September 2022, median: -1.02",
          "October 2022, median: -0.95",
          "November 2022, median: -0.26",
          "December 2022, median: -1.03",
          "January 2023, median: -1.43",
          "February 2023, median: -1.38",
          "March 2023, median: -0.47",
          "April 2023, median: 0.67",
          "May 2023, median: 0.06",
          "June 2023, median: 0.60",
          "July 2023, median: -1.20",
          "August 2023, median: -0.81",
          "September 2023, median: -1.59",
          "October 2023, median: -0.17",
          "November 2023, median: 0.40",
          "December 2023, median: 0.50",
          "January 2024, median: 0.96",
          "February 2024, median: 0.52"
         ],
         "marker": {
          "color": [
           "#FFBF69",
           "#FFBF69",
           "#FFBF69",
           "#FFBF69",
           "#FF961F",
           "#FFBF69",
           "#A1F7D5",
           "#A1F7D5",
           "#FFBF69",
           "#A1F7D5",
           "#A1F7D5",
           "#A1F7D5",
           "#FFBF69",
           "#FFBF69",
           "#FF961F",
           "#A1F7D5",
           "#A1F7D5",
           "#43EFAA",
           "#FFBF69",
           "#FFBF69",
           "#FFBF69",
           "#43EFAA",
           "#A1F7D5",
           "#FFBF69",
           "#FF961F",
           "#FFBF69",
           "#A1F7D5",
           "#A1F7D5",
           "#A1F7D5",
           "#A1F7D5",
           "#A1F7D5",
           "#FFBF69",
           "#A1F7D5",
           "#FFBF69",
           "#FFBF69",
           "#FFBF69",
           "#FFBF69",
           "#FFBF69",
           "#FF961F",
           "#8F5100",
           "#8F5100",
           "#8F5100",
           "#FFBF69",
           "#FFBF69",
           "#A1F7D5",
           "#43EFAA",
           "#A1F7D5",
           "#FFBF69",
           "#291700",
           "#FFBF69",
           "#A1F7D5",
           "#A1F7D5",
           "#A1F7D5",
           "#FFBF69",
           "#FFBF69",
           "#FF961F",
           "#43EFAA",
           "#A1F7D5",
           "#A1F7D5",
           "#A1F7D5",
           "#A1F7D5",
           "#A1F7D5",
           "#FFBF69",
           "#FF961F",
           "#8F5100",
           "#8F5100",
           "#FFBF69",
           "#FFBF69",
           "#FFBF69",
           "#FF961F",
           "#8F5100",
           "#8F5100",
           "#8F5100",
           "#A1F7D5",
           "#A1F7D5",
           "#43EFAA",
           "#43EFAA",
           "#0D965f",
           "#43EFAA",
           "#A1F7D5",
           "#A1F7D5",
           "#A1F7D5",
           "#A1F7D5",
           "#FFBF69",
           "#A1F7D5",
           "#A1F7D5",
           "#0D965f",
           "#A1F7D5",
           "#FFBF69",
           "#FF961F",
           "#FFBF69",
           "#8F5100",
           "#FF961F",
           "#FFBF69",
           "#A1F7D5",
           "#A1F7D5",
           "#43EFAA",
           "#43EFAA",
           "#FFBF69",
           "#FFBF69",
           "#FFBF69",
           "#A1F7D5",
           "#A1F7D5",
           "#A1F7D5",
           "#A1F7D5",
           "#FFBF69",
           "#FF961F",
           "#FFBF69",
           "#FF961F",
           "#291700",
           "#291700",
           "#291700",
           "#FFBF69",
           "#FFBF69",
           "#43EFAA",
           "#A1F7D5",
           "#43EFAA",
           "#43EFAA",
           "#0D965f",
           "#A1F7D5",
           "#A1F7D5",
           "#FFBF69",
           "#FFBF69",
           "#FFBF69",
           "#FFBF69",
           "#A1F7D5",
           "#A1F7D5",
           "#FFBF69",
           "#8F5100",
           "#FFBF69",
           "#FFBF69",
           "#FFBF69",
           "#FFBF69",
           "#FFBF69",
           "#FFBF69",
           "#FF961F",
           "#FFBF69",
           "#FF961F",
           "#FFBF69",
           "#FFBF69",
           "#A1F7D5",
           "#FFBF69",
           "#FF961F",
           "#A1F7D5",
           "#A1F7D5",
           "#FFBF69",
           "#FF961F",
           "#FF961F",
           "#FFBF69",
           "#FFBF69",
           "#8F5100",
           "#8F5100",
           "#FF961F",
           "#A1F7D5",
           "#FFBF69",
           "#FFBF69",
           "#FFBF69",
           "#A1F7D5",
           "#FFBF69",
           "#FFBF69",
           "#FFBF69",
           "#43EFAA",
           "#43EFAA",
           "#A1F7D5",
           "#A1F7D5",
           "#43EFAA",
           "#A1F7D5",
           "#43EFAA",
           "#A1F7D5",
           "#43EFAA",
           "#43EFAA",
           "#43EFAA",
           "#A1F7D5",
           "#A1F7D5",
           "#8F5100",
           "#FFBF69",
           "#FFBF69",
           "#FFBF69",
           "#FF961F",
           "#A1F7D5",
           "#A1F7D5",
           "#43EFAA",
           "#A1F7D5",
           "#A1F7D5",
           "#A1F7D5",
           "#A1F7D5",
           "#A1F7D5",
           "#FFBF69",
           "#8F5100",
           "#291700",
           "#FFBF69",
           "#FFBF69",
           "#A1F7D5",
           "#FF961F",
           "#FFBF69",
           "#FFBF69",
           "#FF961F",
           "#8F5100",
           "#291700",
           "#8F5100",
           "#FFBF69",
           "#FFBF69",
           "#FFBF69",
           "#FFBF69",
           "#A1F7D5",
           "#A1F7D5",
           "#A1F7D5",
           "#FFBF69",
           "#FFBF69",
           "#8F5100",
           "#FFBF69",
           "#FFBF69",
           "#FF961F",
           "#FFBF69",
           "#FFBF69",
           "#FF961F",
           "#FF961F",
           "#FF961F",
           "#FFBF69",
           "#A1F7D5",
           "#A1F7D5",
           "#A1F7D5",
           "#FF961F",
           "#FFBF69",
           "#8F5100",
           "#FFBF69",
           "#A1F7D5",
           "#A1F7D5",
           "#A1F7D5",
           "#A1F7D5"
          ]
         },
         "orientation": "v",
         "type": "bar",
         "width": 0.8,
         "x": [
          "2005",
          "2005",
          "2005",
          "2005",
          "2005",
          "2005",
          "2005",
          "2005",
          "2005",
          "2005",
          "2005",
          "2005",
          "2006",
          "2006",
          "2006",
          "2006",
          "2006",
          "2006",
          "2006",
          "2006",
          "2006",
          "2006",
          "2006",
          "2006",
          "2007",
          "2007",
          "2007",
          "2007",
          "2007",
          "2007",
          "2007",
          "2007",
          "2007",
          "2007",
          "2007",
          "2007",
          "2008",
          "2008",
          "2008",
          "2008",
          "2008",
          "2008",
          "2008",
          "2008",
          "2008",
          "2008",
          "2008",
          "2008",
          "2009",
          "2009",
          "2009",
          "2009",
          "2009",
          "2009",
          "2009",
          "2009",
          "2009",
          "2009",
          "2009",
          "2009",
          "2010",
          "2010",
          "2010",
          "2010",
          "2010",
          "2010",
          "2010",
          "2010",
          "2010",
          "2010",
          "2010",
          "2010",
          "2011",
          "2011",
          "2011",
          "2011",
          "2011",
          "2011",
          "2011",
          "2011",
          "2011",
          "2011",
          "2011",
          "2011",
          "2012",
          "2012",
          "2012",
          "2012",
          "2012",
          "2012",
          "2012",
          "2012",
          "2012",
          "2012",
          "2012",
          "2012",
          "2013",
          "2013",
          "2013",
          "2013",
          "2013",
          "2013",
          "2013",
          "2013",
          "2013",
          "2013",
          "2013",
          "2013",
          "2014",
          "2014",
          "2014",
          "2014",
          "2014",
          "2014",
          "2014",
          "2014",
          "2014",
          "2014",
          "2014",
          "2014",
          "2015",
          "2015",
          "2015",
          "2015",
          "2015",
          "2015",
          "2015",
          "2015",
          "2015",
          "2015",
          "2015",
          "2015",
          "2016",
          "2016",
          "2016",
          "2016",
          "2016",
          "2016",
          "2016",
          "2016",
          "2016",
          "2016",
          "2016",
          "2016",
          "2017",
          "2017",
          "2017",
          "2017",
          "2017",
          "2017",
          "2017",
          "2017",
          "2017",
          "2017",
          "2017",
          "2017",
          "2018",
          "2018",
          "2018",
          "2018",
          "2018",
          "2018",
          "2018",
          "2018",
          "2018",
          "2018",
          "2018",
          "2018",
          "2019",
          "2019",
          "2019",
          "2019",
          "2019",
          "2019",
          "2019",
          "2019",
          "2019",
          "2019",
          "2019",
          "2019",
          "2020",
          "2020",
          "2020",
          "2020",
          "2020",
          "2020",
          "2020",
          "2020",
          "2020",
          "2020",
          "2020",
          "2020",
          "2021",
          "2021",
          "2021",
          "2021",
          "2021",
          "2021",
          "2021",
          "2021",
          "2021",
          "2021",
          "2021",
          "2021",
          "2022",
          "2022",
          "2022",
          "2022",
          "2022",
          "2022",
          "2022",
          "2022",
          "2022",
          "2022",
          "2022",
          "2022",
          "2023",
          "2023",
          "2023",
          "2023",
          "2023",
          "2023",
          "2023",
          "2023",
          "2023",
          "2023",
          "2023",
          "2023",
          "2024",
          "2024"
         ],
         "y": [
          1,
          1,
          1,
          1,
          1,
          1,
          1,
          1,
          1,
          1,
          1,
          1,
          1,
          1,
          1,
          1,
          1,
          1,
          1,
          1,
          1,
          1,
          1,
          1,
          1,
          1,
          1,
          1,
          1,
          1,
          1,
          1,
          1,
          1,
          1,
          1,
          1,
          1,
          1,
          1,
          1,
          1,
          1,
          1,
          1,
          1,
          1,
          1,
          1,
          1,
          1,
          1,
          1,
          1,
          1,
          1,
          1,
          1,
          1,
          1,
          1,
          1,
          1,
          1,
          1,
          1,
          1,
          1,
          1,
          1,
          1,
          1,
          1,
          1,
          1,
          1,
          1,
          1,
          1,
          1,
          1,
          1,
          1,
          1,
          1,
          1,
          1,
          1,
          1,
          1,
          1,
          1,
          1,
          1,
          1,
          1,
          1,
          1,
          1,
          1,
          1,
          1,
          1,
          1,
          1,
          1,
          1,
          1,
          1,
          1,
          1,
          1,
          1,
          1,
          1,
          1,
          1,
          1,
          1,
          1,
          1,
          1,
          1,
          1,
          1,
          1,
          1,
          1,
          1,
          1,
          1,
          1,
          1,
          1,
          1,
          1,
          1,
          1,
          1,
          1,
          1,
          1,
          1,
          1,
          1,
          1,
          1,
          1,
          1,
          1,
          1,
          1,
          1,
          1,
          1,
          1,
          1,
          1,
          1,
          1,
          1,
          1,
          1,
          1,
          1,
          1,
          1,
          1,
          1,
          1,
          1,
          1,
          1,
          1,
          1,
          1,
          1,
          1,
          1,
          1,
          1,
          1,
          1,
          1,
          1,
          1,
          1,
          1,
          1,
          1,
          1,
          1,
          1,
          1,
          1,
          1,
          1,
          1,
          1,
          1,
          1,
          1,
          1,
          1,
          1,
          1,
          1,
          1,
          1,
          1,
          1,
          1,
          1,
          1,
          1,
          1,
          1,
          1,
          1,
          1,
          1,
          1,
          1,
          1,
          1,
          1,
          1,
          1,
          1,
          1
         ]
        }
       ],
       "layout": {
        "autosize": true,
        "plot_bgcolor": "rgba(0, 0, 0, 0)",
        "showlegend": false,
        "template": {
         "data": {
          "bar": [
           {
            "error_x": {
             "color": "#2a3f5f"
            },
            "error_y": {
             "color": "#2a3f5f"
            },
            "marker": {
             "line": {
              "color": "white",
              "width": 0.5
             },
             "pattern": {
              "fillmode": "overlay",
              "size": 10,
              "solidity": 0.2
             }
            },
            "type": "bar"
           }
          ],
          "barpolar": [
           {
            "marker": {
             "line": {
              "color": "white",
              "width": 0.5
             },
             "pattern": {
              "fillmode": "overlay",
              "size": 10,
              "solidity": 0.2
             }
            },
            "type": "barpolar"
           }
          ],
          "carpet": [
           {
            "aaxis": {
             "endlinecolor": "#2a3f5f",
             "gridcolor": "#C8D4E3",
             "linecolor": "#C8D4E3",
             "minorgridcolor": "#C8D4E3",
             "startlinecolor": "#2a3f5f"
            },
            "baxis": {
             "endlinecolor": "#2a3f5f",
             "gridcolor": "#C8D4E3",
             "linecolor": "#C8D4E3",
             "minorgridcolor": "#C8D4E3",
             "startlinecolor": "#2a3f5f"
            },
            "type": "carpet"
           }
          ],
          "choropleth": [
           {
            "colorbar": {
             "outlinewidth": 0,
             "ticks": ""
            },
            "type": "choropleth"
           }
          ],
          "contour": [
           {
            "colorbar": {
             "outlinewidth": 0,
             "ticks": ""
            },
            "colorscale": [
             [
              0,
              "#0d0887"
             ],
             [
              0.1111111111111111,
              "#46039f"
             ],
             [
              0.2222222222222222,
              "#7201a8"
             ],
             [
              0.3333333333333333,
              "#9c179e"
             ],
             [
              0.4444444444444444,
              "#bd3786"
             ],
             [
              0.5555555555555556,
              "#d8576b"
             ],
             [
              0.6666666666666666,
              "#ed7953"
             ],
             [
              0.7777777777777778,
              "#fb9f3a"
             ],
             [
              0.8888888888888888,
              "#fdca26"
             ],
             [
              1,
              "#f0f921"
             ]
            ],
            "type": "contour"
           }
          ],
          "contourcarpet": [
           {
            "colorbar": {
             "outlinewidth": 0,
             "ticks": ""
            },
            "type": "contourcarpet"
           }
          ],
          "heatmap": [
           {
            "colorbar": {
             "outlinewidth": 0,
             "ticks": ""
            },
            "colorscale": [
             [
              0,
              "#0d0887"
             ],
             [
              0.1111111111111111,
              "#46039f"
             ],
             [
              0.2222222222222222,
              "#7201a8"
             ],
             [
              0.3333333333333333,
              "#9c179e"
             ],
             [
              0.4444444444444444,
              "#bd3786"
             ],
             [
              0.5555555555555556,
              "#d8576b"
             ],
             [
              0.6666666666666666,
              "#ed7953"
             ],
             [
              0.7777777777777778,
              "#fb9f3a"
             ],
             [
              0.8888888888888888,
              "#fdca26"
             ],
             [
              1,
              "#f0f921"
             ]
            ],
            "type": "heatmap"
           }
          ],
          "heatmapgl": [
           {
            "colorbar": {
             "outlinewidth": 0,
             "ticks": ""
            },
            "colorscale": [
             [
              0,
              "#0d0887"
             ],
             [
              0.1111111111111111,
              "#46039f"
             ],
             [
              0.2222222222222222,
              "#7201a8"
             ],
             [
              0.3333333333333333,
              "#9c179e"
             ],
             [
              0.4444444444444444,
              "#bd3786"
             ],
             [
              0.5555555555555556,
              "#d8576b"
             ],
             [
              0.6666666666666666,
              "#ed7953"
             ],
             [
              0.7777777777777778,
              "#fb9f3a"
             ],
             [
              0.8888888888888888,
              "#fdca26"
             ],
             [
              1,
              "#f0f921"
             ]
            ],
            "type": "heatmapgl"
           }
          ],
          "histogram": [
           {
            "marker": {
             "pattern": {
              "fillmode": "overlay",
              "size": 10,
              "solidity": 0.2
             }
            },
            "type": "histogram"
           }
          ],
          "histogram2d": [
           {
            "colorbar": {
             "outlinewidth": 0,
             "ticks": ""
            },
            "colorscale": [
             [
              0,
              "#0d0887"
             ],
             [
              0.1111111111111111,
              "#46039f"
             ],
             [
              0.2222222222222222,
              "#7201a8"
             ],
             [
              0.3333333333333333,
              "#9c179e"
             ],
             [
              0.4444444444444444,
              "#bd3786"
             ],
             [
              0.5555555555555556,
              "#d8576b"
             ],
             [
              0.6666666666666666,
              "#ed7953"
             ],
             [
              0.7777777777777778,
              "#fb9f3a"
             ],
             [
              0.8888888888888888,
              "#fdca26"
             ],
             [
              1,
              "#f0f921"
             ]
            ],
            "type": "histogram2d"
           }
          ],
          "histogram2dcontour": [
           {
            "colorbar": {
             "outlinewidth": 0,
             "ticks": ""
            },
            "colorscale": [
             [
              0,
              "#0d0887"
             ],
             [
              0.1111111111111111,
              "#46039f"
             ],
             [
              0.2222222222222222,
              "#7201a8"
             ],
             [
              0.3333333333333333,
              "#9c179e"
             ],
             [
              0.4444444444444444,
              "#bd3786"
             ],
             [
              0.5555555555555556,
              "#d8576b"
             ],
             [
              0.6666666666666666,
              "#ed7953"
             ],
             [
              0.7777777777777778,
              "#fb9f3a"
             ],
             [
              0.8888888888888888,
              "#fdca26"
             ],
             [
              1,
              "#f0f921"
             ]
            ],
            "type": "histogram2dcontour"
           }
          ],
          "mesh3d": [
           {
            "colorbar": {
             "outlinewidth": 0,
             "ticks": ""
            },
            "type": "mesh3d"
           }
          ],
          "parcoords": [
           {
            "line": {
             "colorbar": {
              "outlinewidth": 0,
              "ticks": ""
             }
            },
            "type": "parcoords"
           }
          ],
          "pie": [
           {
            "automargin": true,
            "type": "pie"
           }
          ],
          "scatter": [
           {
            "fillpattern": {
             "fillmode": "overlay",
             "size": 10,
             "solidity": 0.2
            },
            "type": "scatter"
           }
          ],
          "scatter3d": [
           {
            "line": {
             "colorbar": {
              "outlinewidth": 0,
              "ticks": ""
             }
            },
            "marker": {
             "colorbar": {
              "outlinewidth": 0,
              "ticks": ""
             }
            },
            "type": "scatter3d"
           }
          ],
          "scattercarpet": [
           {
            "marker": {
             "colorbar": {
              "outlinewidth": 0,
              "ticks": ""
             }
            },
            "type": "scattercarpet"
           }
          ],
          "scattergeo": [
           {
            "marker": {
             "colorbar": {
              "outlinewidth": 0,
              "ticks": ""
             }
            },
            "type": "scattergeo"
           }
          ],
          "scattergl": [
           {
            "marker": {
             "colorbar": {
              "outlinewidth": 0,
              "ticks": ""
             }
            },
            "type": "scattergl"
           }
          ],
          "scattermapbox": [
           {
            "marker": {
             "colorbar": {
              "outlinewidth": 0,
              "ticks": ""
             }
            },
            "type": "scattermapbox"
           }
          ],
          "scatterpolar": [
           {
            "marker": {
             "colorbar": {
              "outlinewidth": 0,
              "ticks": ""
             }
            },
            "type": "scatterpolar"
           }
          ],
          "scatterpolargl": [
           {
            "marker": {
             "colorbar": {
              "outlinewidth": 0,
              "ticks": ""
             }
            },
            "type": "scatterpolargl"
           }
          ],
          "scatterternary": [
           {
            "marker": {
             "colorbar": {
              "outlinewidth": 0,
              "ticks": ""
             }
            },
            "type": "scatterternary"
           }
          ],
          "surface": [
           {
            "colorbar": {
             "outlinewidth": 0,
             "ticks": ""
            },
            "colorscale": [
             [
              0,
              "#0d0887"
             ],
             [
              0.1111111111111111,
              "#46039f"
             ],
             [
              0.2222222222222222,
              "#7201a8"
             ],
             [
              0.3333333333333333,
              "#9c179e"
             ],
             [
              0.4444444444444444,
              "#bd3786"
             ],
             [
              0.5555555555555556,
              "#d8576b"
             ],
             [
              0.6666666666666666,
              "#ed7953"
             ],
             [
              0.7777777777777778,
              "#fb9f3a"
             ],
             [
              0.8888888888888888,
              "#fdca26"
             ],
             [
              1,
              "#f0f921"
             ]
            ],
            "type": "surface"
           }
          ],
          "table": [
           {
            "cells": {
             "fill": {
              "color": "#EBF0F8"
             },
             "line": {
              "color": "white"
             }
            },
            "header": {
             "fill": {
              "color": "#C8D4E3"
             },
             "line": {
              "color": "white"
             }
            },
            "type": "table"
           }
          ]
         },
         "layout": {
          "annotationdefaults": {
           "arrowcolor": "#2a3f5f",
           "arrowhead": 0,
           "arrowwidth": 1
          },
          "autotypenumbers": "strict",
          "coloraxis": {
           "colorbar": {
            "outlinewidth": 0,
            "ticks": ""
           }
          },
          "colorscale": {
           "diverging": [
            [
             0,
             "#8e0152"
            ],
            [
             0.1,
             "#c51b7d"
            ],
            [
             0.2,
             "#de77ae"
            ],
            [
             0.3,
             "#f1b6da"
            ],
            [
             0.4,
             "#fde0ef"
            ],
            [
             0.5,
             "#f7f7f7"
            ],
            [
             0.6,
             "#e6f5d0"
            ],
            [
             0.7,
             "#b8e186"
            ],
            [
             0.8,
             "#7fbc41"
            ],
            [
             0.9,
             "#4d9221"
            ],
            [
             1,
             "#276419"
            ]
           ],
           "sequential": [
            [
             0,
             "#0d0887"
            ],
            [
             0.1111111111111111,
             "#46039f"
            ],
            [
             0.2222222222222222,
             "#7201a8"
            ],
            [
             0.3333333333333333,
             "#9c179e"
            ],
            [
             0.4444444444444444,
             "#bd3786"
            ],
            [
             0.5555555555555556,
             "#d8576b"
            ],
            [
             0.6666666666666666,
             "#ed7953"
            ],
            [
             0.7777777777777778,
             "#fb9f3a"
            ],
            [
             0.8888888888888888,
             "#fdca26"
            ],
            [
             1,
             "#f0f921"
            ]
           ],
           "sequentialminus": [
            [
             0,
             "#0d0887"
            ],
            [
             0.1111111111111111,
             "#46039f"
            ],
            [
             0.2222222222222222,
             "#7201a8"
            ],
            [
             0.3333333333333333,
             "#9c179e"
            ],
            [
             0.4444444444444444,
             "#bd3786"
            ],
            [
             0.5555555555555556,
             "#d8576b"
            ],
            [
             0.6666666666666666,
             "#ed7953"
            ],
            [
             0.7777777777777778,
             "#fb9f3a"
            ],
            [
             0.8888888888888888,
             "#fdca26"
            ],
            [
             1,
             "#f0f921"
            ]
           ]
          },
          "colorway": [
           "#636efa",
           "#EF553B",
           "#00cc96",
           "#ab63fa",
           "#FFA15A",
           "#19d3f3",
           "#FF6692",
           "#B6E880",
           "#FF97FF",
           "#FECB52"
          ],
          "font": {
           "color": "#2a3f5f"
          },
          "geo": {
           "bgcolor": "white",
           "lakecolor": "white",
           "landcolor": "white",
           "showlakes": true,
           "showland": true,
           "subunitcolor": "#C8D4E3"
          },
          "hoverlabel": {
           "align": "left"
          },
          "hovermode": "closest",
          "mapbox": {
           "style": "light"
          },
          "paper_bgcolor": "white",
          "plot_bgcolor": "white",
          "polar": {
           "angularaxis": {
            "gridcolor": "#EBF0F8",
            "linecolor": "#EBF0F8",
            "ticks": ""
           },
           "bgcolor": "white",
           "radialaxis": {
            "gridcolor": "#EBF0F8",
            "linecolor": "#EBF0F8",
            "ticks": ""
           }
          },
          "scene": {
           "xaxis": {
            "backgroundcolor": "white",
            "gridcolor": "#DFE8F3",
            "gridwidth": 2,
            "linecolor": "#EBF0F8",
            "showbackground": true,
            "ticks": "",
            "zerolinecolor": "#EBF0F8"
           },
           "yaxis": {
            "backgroundcolor": "white",
            "gridcolor": "#DFE8F3",
            "gridwidth": 2,
            "linecolor": "#EBF0F8",
            "showbackground": true,
            "ticks": "",
            "zerolinecolor": "#EBF0F8"
           },
           "zaxis": {
            "backgroundcolor": "white",
            "gridcolor": "#DFE8F3",
            "gridwidth": 2,
            "linecolor": "#EBF0F8",
            "showbackground": true,
            "ticks": "",
            "zerolinecolor": "#EBF0F8"
           }
          },
          "shapedefaults": {
           "line": {
            "color": "#2a3f5f"
           }
          },
          "ternary": {
           "aaxis": {
            "gridcolor": "#DFE8F3",
            "linecolor": "#A2B1C6",
            "ticks": ""
           },
           "baxis": {
            "gridcolor": "#DFE8F3",
            "linecolor": "#A2B1C6",
            "ticks": ""
           },
           "bgcolor": "white",
           "caxis": {
            "gridcolor": "#DFE8F3",
            "linecolor": "#A2B1C6",
            "ticks": ""
           }
          },
          "title": {
           "x": 0.05
          },
          "xaxis": {
           "automargin": true,
           "gridcolor": "#EBF0F8",
           "linecolor": "#EBF0F8",
           "ticks": "",
           "title": {
            "standoff": 15
           },
           "zerolinecolor": "#EBF0F8",
           "zerolinewidth": 2
          },
          "yaxis": {
           "automargin": true,
           "gridcolor": "#EBF0F8",
           "linecolor": "#EBF0F8",
           "ticks": "",
           "title": {
            "standoff": 15
           },
           "zerolinecolor": "#EBF0F8",
           "zerolinewidth": 2
          }
         }
        },
        "title": {
         "text": "Median 3 months SPEI index, trends over time in Golan area from 2005 to 2024"
        },
        "xaxis": {
         "autorange": true,
         "range": [
          -0.5,
          19.5
         ],
         "tickangle": 0,
         "tickmode": "array",
         "ticktext": [
          "2005",
          "2005",
          "2005",
          "2005",
          "2005",
          "2005",
          "2005",
          "2005",
          "2005",
          "2005",
          "2005",
          "2005",
          "",
          "",
          "",
          "",
          "",
          "",
          "",
          "",
          "",
          "",
          "",
          "",
          "2007",
          "2007",
          "2007",
          "2007",
          "2007",
          "2007",
          "2007",
          "2007",
          "2007",
          "2007",
          "2007",
          "2007",
          "",
          "",
          "",
          "",
          "",
          "",
          "",
          "",
          "",
          "",
          "",
          "",
          "2009",
          "2009",
          "2009",
          "2009",
          "2009",
          "2009",
          "2009",
          "2009",
          "2009",
          "2009",
          "2009",
          "2009",
          "",
          "",
          "",
          "",
          "",
          "",
          "",
          "",
          "",
          "",
          "",
          "",
          "2011",
          "2011",
          "2011",
          "2011",
          "2011",
          "2011",
          "2011",
          "2011",
          "2011",
          "2011",
          "2011",
          "2011",
          "",
          "",
          "",
          "",
          "",
          "",
          "",
          "",
          "",
          "",
          "",
          "",
          "2013",
          "2013",
          "2013",
          "2013",
          "2013",
          "2013",
          "2013",
          "2013",
          "2013",
          "2013",
          "2013",
          "2013",
          "",
          "",
          "",
          "",
          "",
          "",
          "",
          "",
          "",
          "",
          "",
          "",
          "2015",
          "2015",
          "2015",
          "2015",
          "2015",
          "2015",
          "2015",
          "2015",
          "2015",
          "2015",
          "2015",
          "2015",
          "",
          "",
          "",
          "",
          "",
          "",
          "",
          "",
          "",
          "",
          "",
          "",
          "2017",
          "2017",
          "2017",
          "2017",
          "2017",
          "2017",
          "2017",
          "2017",
          "2017",
          "2017",
          "2017",
          "2017",
          "",
          "",
          "",
          "",
          "",
          "",
          "",
          "",
          "",
          "",
          "",
          "",
          "2019",
          "2019",
          "2019",
          "2019",
          "2019",
          "2019",
          "2019",
          "2019",
          "2019",
          "2019",
          "2019",
          "2019",
          "",
          "",
          "",
          "",
          "",
          "",
          "",
          "",
          "",
          "",
          "",
          "",
          "2021",
          "2021",
          "2021",
          "2021",
          "2021",
          "2021",
          "2021",
          "2021",
          "2021",
          "2021",
          "2021",
          "2021",
          "",
          "",
          "",
          "",
          "",
          "",
          "",
          "",
          "",
          "",
          "",
          "",
          "2023",
          "2023",
          "2023",
          "2023",
          "2023",
          "2023",
          "2023",
          "2023",
          "2023",
          "2023",
          "2023",
          "2023",
          "",
          ""
         ],
         "tickvals": [
          "2005",
          "2005",
          "2005",
          "2005",
          "2005",
          "2005",
          "2005",
          "2005",
          "2005",
          "2005",
          "2005",
          "2005",
          "2006",
          "2006",
          "2006",
          "2006",
          "2006",
          "2006",
          "2006",
          "2006",
          "2006",
          "2006",
          "2006",
          "2006",
          "2007",
          "2007",
          "2007",
          "2007",
          "2007",
          "2007",
          "2007",
          "2007",
          "2007",
          "2007",
          "2007",
          "2007",
          "2008",
          "2008",
          "2008",
          "2008",
          "2008",
          "2008",
          "2008",
          "2008",
          "2008",
          "2008",
          "2008",
          "2008",
          "2009",
          "2009",
          "2009",
          "2009",
          "2009",
          "2009",
          "2009",
          "2009",
          "2009",
          "2009",
          "2009",
          "2009",
          "2010",
          "2010",
          "2010",
          "2010",
          "2010",
          "2010",
          "2010",
          "2010",
          "2010",
          "2010",
          "2010",
          "2010",
          "2011",
          "2011",
          "2011",
          "2011",
          "2011",
          "2011",
          "2011",
          "2011",
          "2011",
          "2011",
          "2011",
          "2011",
          "2012",
          "2012",
          "2012",
          "2012",
          "2012",
          "2012",
          "2012",
          "2012",
          "2012",
          "2012",
          "2012",
          "2012",
          "2013",
          "2013",
          "2013",
          "2013",
          "2013",
          "2013",
          "2013",
          "2013",
          "2013",
          "2013",
          "2013",
          "2013",
          "2014",
          "2014",
          "2014",
          "2014",
          "2014",
          "2014",
          "2014",
          "2014",
          "2014",
          "2014",
          "2014",
          "2014",
          "2015",
          "2015",
          "2015",
          "2015",
          "2015",
          "2015",
          "2015",
          "2015",
          "2015",
          "2015",
          "2015",
          "2015",
          "2016",
          "2016",
          "2016",
          "2016",
          "2016",
          "2016",
          "2016",
          "2016",
          "2016",
          "2016",
          "2016",
          "2016",
          "2017",
          "2017",
          "2017",
          "2017",
          "2017",
          "2017",
          "2017",
          "2017",
          "2017",
          "2017",
          "2017",
          "2017",
          "2018",
          "2018",
          "2018",
          "2018",
          "2018",
          "2018",
          "2018",
          "2018",
          "2018",
          "2018",
          "2018",
          "2018",
          "2019",
          "2019",
          "2019",
          "2019",
          "2019",
          "2019",
          "2019",
          "2019",
          "2019",
          "2019",
          "2019",
          "2019",
          "2020",
          "2020",
          "2020",
          "2020",
          "2020",
          "2020",
          "2020",
          "2020",
          "2020",
          "2020",
          "2020",
          "2020",
          "2021",
          "2021",
          "2021",
          "2021",
          "2021",
          "2021",
          "2021",
          "2021",
          "2021",
          "2021",
          "2021",
          "2021",
          "2022",
          "2022",
          "2022",
          "2022",
          "2022",
          "2022",
          "2022",
          "2022",
          "2022",
          "2022",
          "2022",
          "2022",
          "2023",
          "2023",
          "2023",
          "2023",
          "2023",
          "2023",
          "2023",
          "2023",
          "2023",
          "2023",
          "2023",
          "2023",
          "2024",
          "2024"
         ],
         "title": {
          "text": "Years"
         },
         "type": "category"
        },
        "yaxis": {
         "autorange": true,
         "range": [
          0,
          12.631578947368421
         ],
         "showgrid": false,
         "showticklabels": false,
         "title": {
          "text": "Median SPEI3"
         },
         "type": "linear",
         "visible": false,
         "zeroline": false
        }
       }
      },
      "image/png": "[encoded data removed]",
      "text/html": [
       "<div>                            <div id=\"465223c1-4c71-410b-86f3-87eb7c09ce54\" class=\"plotly-graph-div\" style=\"height:600px; width:100%;\"></div>            <script type=\"text/javascript\">                require([\"plotly\"], function(Plotly) {                    window.PLOTLYENV=window.PLOTLYENV || {};                                    if (document.getElementById(\"465223c1-4c71-410b-86f3-87eb7c09ce54\")) {                    Plotly.newPlot(                        \"465223c1-4c71-410b-86f3-87eb7c09ce54\",                        [{\"hoverinfo\":\"text\",\"hovertext\":[\"January 2005, median: -0.02\",\"February 2005, median: -0.25\",\"March 2005, median: -0.36\",\"April 2005, median: -0.30\",\"May 2005, median: -1.14\",\"June 2005, median: -0.32\",\"July 2005, median: 0.27\",\"August 2005, median: 0.02\",\"September 2005, median: -0.19\",\"October 2005, median: 0.23\",\"November 2005, median: 0.37\",\"December 2005, median: 0.12\",\"January 2006, median: -0.14\",\"February 2006, median: -0.70\",\"March 2006, median: -1.02\",\"April 2006, median: 0.29\",\"May 2006, median: 0.33\",\"June 2006, median: 1.15\",\"July 2006, median: -0.23\",\"August 2006, median: -0.20\",\"September 2006, median: -0.04\",\"October 2006, median: 1.38\",\"November 2006, median: 0.46\",\"December 2006, median: -0.17\",\"January 2007, median: -1.09\",\"February 2007, median: -0.38\",\"March 2007, median: 0.17\",\"April 2007, median: 0.55\",\"May 2007, median: 0.02\",\"June 2007, median: 0.46\",\"July 2007, median: 0.03\",\"August 2007, median: -0.07\",\"September 2007, median: 0.33\",\"October 2007, median: -0.43\",\"November 2007, median: -0.42\",\"December 2007, median: -0.71\",\"January 2008, median: -0.14\",\"February 2008, median: -0.62\",\"March 2008, median: -1.13\",\"April 2008, median: -1.88\",\"May 2008, median: -1.59\",\"June 2008, median: -1.86\",\"July 2008, median: -0.55\",\"August 2008, median: -0.39\",\"September 2008, median: 0.67\",\"October 2008, median: 1.35\",\"November 2008, median: 0.07\",\"December 2008, median: -0.55\",\"January 2009, median: -2.11\",\"February 2009, median: -0.59\",\"March 2009, median: 0.03\",\"April 2009, median: 0.94\",\"May 2009, median: 0.18\",\"June 2009, median: -0.34\",\"July 2009, median: -0.71\",\"August 2009, median: -1.17\",\"September 2009, median: 1.03\",\"October 2009, median: 0.61\",\"November 2009, median: 0.87\",\"December 2009, median: 0.52\",\"January 2010, median: 0.52\",\"February 2010, median: 0.13\",\"March 2010, median: -0.95\",\"April 2010, median: -1.35\",\"May 2010, median: -1.77\",\"June 2010, median: -1.62\",\"July 2010, median: -0.73\",\"August 2010, median: -0.72\",\"September 2010, median: -0.76\",\"October 2010, median: -1.25\",\"November 2010, median: -1.84\",\"December 2010, median: -1.93\",\"January 2011, median: -1.54\",\"February 2011, median: 0.26\",\"March 2011, median: 0.63\",\"April 2011, median: 1.03\",\"May 2011, median: 1.09\",\"June 2011, median: 1.60\",\"July 2011, median: 1.24\",\"August 2011, median: 0.77\",\"September 2011, median: 0.62\",\"October 2011, median: 0.43\",\"November 2011, median: 0.90\",\"December 2011, median: -0.23\",\"January 2012, median: 0.76\",\"February 2012, median: 0.84\",\"March 2012, median: 1.50\",\"April 2012, median: 0.68\",\"May 2012, median: -0.28\",\"June 2012, median: -1.18\",\"July 2012, median: -0.95\",\"August 2012, median: -1.79\",\"September 2012, median: -1.40\",\"October 2012, median: -0.89\",\"November 2012, median: 0.16\",\"December 2012, median: 0.98\",\"January 2013, median: 1.41\",\"February 2013, median: 1.06\",\"March 2013, median: -0.23\",\"April 2013, median: -0.44\",\"May 2013, median: -0.39\",\"June 2013, median: 0.91\",\"July 2013, median: 0.63\",\"August 2013, median: 0.47\",\"September 2013, median: 0.72\",\"October 2013, median: -0.29\",\"November 2013, median: -1.15\",\"December 2013, median: -0.40\",\"January 2014, median: -1.44\",\"February 2014, median: -2.43\",\"March 2014, median: -2.26\",\"April 2014, median: -2.00\",\"May 2014, median: -0.73\",\"June 2014, median: -0.62\",\"July 2014, median: 1.12\",\"August 2014, median: 0.93\",\"September 2014, median: 1.18\",\"October 2014, median: 1.15\",\"November 2014, median: 1.80\",\"December 2014, median: 0.22\",\"January 2015, median: 0.18\",\"February 2015, median: -0.69\",\"March 2015, median: -0.38\",\"April 2015, median: -0.10\",\"May 2015, median: -0.55\",\"June 2015, median: 0.62\",\"July 2015, median: 0.21\",\"August 2015, median: -0.06\",\"September 2015, median: -1.64\",\"October 2015, median: -0.44\",\"November 2015, median: -0.24\",\"December 2015, median: -0.58\",\"January 2016, median: -0.43\",\"February 2016, median: -0.95\",\"March 2016, median: -0.47\",\"April 2016, median: -1.06\",\"May 2016, median: -0.92\",\"June 2016, median: -1.40\",\"July 2016, median: -0.46\",\"August 2016, median: -0.93\",\"September 2016, median: 0.26\",\"October 2016, median: -0.70\",\"November 2016, median: -1.44\",\"December 2016, median: 0.44\",\"January 2017, median: 0.28\",\"February 2017, median: -0.06\",\"March 2017, median: -1.34\",\"April 2017, median: -1.06\",\"May 2017, median: -0.86\",\"June 2017, median: -0.96\",\"July 2017, median: -1.59\",\"August 2017, median: -1.83\",\"September 2017, median: -1.45\",\"October 2017, median: 0.05\",\"November 2017, median: -0.29\",\"December 2017, median: -0.87\",\"January 2018, median: -0.02\",\"February 2018, median: 0.29\",\"March 2018, median: -0.02\",\"April 2018, median: -0.59\",\"May 2018, median: -0.55\",\"June 2018, median: 1.06\",\"July 2018, median: 1.27\",\"August 2018, median: 0.91\",\"September 2018, median: 0.32\",\"October 2018, median: 1.37\",\"November 2018, median: 0.78\",\"December 2018, median: 1.30\",\"January 2019, median: 0.73\",\"February 2019, median: 1.23\",\"March 2019, median: 1.12\",\"April 2019, median: 1.28\",\"May 2019, median: 0.57\",\"June 2019, median: 0.36\",\"July 2019, median: -1.61\",\"August 2019, median: -0.58\",\"September 2019, median: -0.47\",\"October 2019, median: -0.06\",\"November 2019, median: -1.18\",\"December 2019, median: 0.30\",\"January 2020, median: 0.78\",\"February 2020, median: 1.27\",\"March 2020, median: 0.94\",\"April 2020, median: 0.84\",\"May 2020, median: 0.94\",\"June 2020, median: 0.83\",\"July 2020, median: 0.15\",\"August 2020, median: -0.26\",\"September 2020, median: -1.60\",\"October 2020, median: -2.14\",\"November 2020, median: -0.66\",\"December 2020, median: -0.67\",\"January 2021, median: 0.16\",\"February 2021, median: -1.05\",\"March 2021, median: -0.55\",\"April 2021, median: -0.85\",\"May 2021, median: -1.15\",\"June 2021, median: -1.87\",\"July 2021, median: -2.07\",\"August 2021, median: -1.53\",\"September 2021, median: -0.92\",\"October 2021, median: -0.94\",\"November 2021, median: -0.90\",\"December 2021, median: -0.52\",\"January 2022, median: 0.18\",\"February 2022, median: 0.53\",\"March 2022, median: 0.63\",\"April 2022, median: -0.22\",\"May 2022, median: -0.73\",\"June 2022, median: -1.81\",\"July 2022, median: -0.60\",\"August 2022, median: -0.55\",\"September 2022, median: -1.02\",\"October 2022, median: -0.95\",\"November 2022, median: -0.26\",\"December 2022, median: -1.03\",\"January 2023, median: -1.43\",\"February 2023, median: -1.38\",\"March 2023, median: -0.47\",\"April 2023, median: 0.67\",\"May 2023, median: 0.06\",\"June 2023, median: 0.60\",\"July 2023, median: -1.20\",\"August 2023, median: -0.81\",\"September 2023, median: -1.59\",\"October 2023, median: -0.17\",\"November 2023, median: 0.40\",\"December 2023, median: 0.50\",\"January 2024, median: 0.96\",\"February 2024, median: 0.52\"],\"marker\":{\"color\":[\"#FFBF69\",\"#FFBF69\",\"#FFBF69\",\"#FFBF69\",\"#FF961F\",\"#FFBF69\",\"#A1F7D5\",\"#A1F7D5\",\"#FFBF69\",\"#A1F7D5\",\"#A1F7D5\",\"#A1F7D5\",\"#FFBF69\",\"#FFBF69\",\"#FF961F\",\"#A1F7D5\",\"#A1F7D5\",\"#43EFAA\",\"#FFBF69\",\"#FFBF69\",\"#FFBF69\",\"#43EFAA\",\"#A1F7D5\",\"#FFBF69\",\"#FF961F\",\"#FFBF69\",\"#A1F7D5\",\"#A1F7D5\",\"#A1F7D5\",\"#A1F7D5\",\"#A1F7D5\",\"#FFBF69\",\"#A1F7D5\",\"#FFBF69\",\"#FFBF69\",\"#FFBF69\",\"#FFBF69\",\"#FFBF69\",\"#FF961F\",\"#8F5100\",\"#8F5100\",\"#8F5100\",\"#FFBF69\",\"#FFBF69\",\"#A1F7D5\",\"#43EFAA\",\"#A1F7D5\",\"#FFBF69\",\"#291700\",\"#FFBF69\",\"#A1F7D5\",\"#A1F7D5\",\"#A1F7D5\",\"#FFBF69\",\"#FFBF69\",\"#FF961F\",\"#43EFAA\",\"#A1F7D5\",\"#A1F7D5\",\"#A1F7D5\",\"#A1F7D5\",\"#A1F7D5\",\"#FFBF69\",\"#FF961F\",\"#8F5100\",\"#8F5100\",\"#FFBF69\",\"#FFBF69\",\"#FFBF69\",\"#FF961F\",\"#8F5100\",\"#8F5100\",\"#8F5100\",\"#A1F7D5\",\"#A1F7D5\",\"#43EFAA\",\"#43EFAA\",\"#0D965f\",\"#43EFAA\",\"#A1F7D5\",\"#A1F7D5\",\"#A1F7D5\",\"#A1F7D5\",\"#FFBF69\",\"#A1F7D5\",\"#A1F7D5\",\"#0D965f\",\"#A1F7D5\",\"#FFBF69\",\"#FF961F\",\"#FFBF69\",\"#8F5100\",\"#FF961F\",\"#FFBF69\",\"#A1F7D5\",\"#A1F7D5\",\"#43EFAA\",\"#43EFAA\",\"#FFBF69\",\"#FFBF69\",\"#FFBF69\",\"#A1F7D5\",\"#A1F7D5\",\"#A1F7D5\",\"#A1F7D5\",\"#FFBF69\",\"#FF961F\",\"#FFBF69\",\"#FF961F\",\"#291700\",\"#291700\",\"#291700\",\"#FFBF69\",\"#FFBF69\",\"#43EFAA\",\"#A1F7D5\",\"#43EFAA\",\"#43EFAA\",\"#0D965f\",\"#A1F7D5\",\"#A1F7D5\",\"#FFBF69\",\"#FFBF69\",\"#FFBF69\",\"#FFBF69\",\"#A1F7D5\",\"#A1F7D5\",\"#FFBF69\",\"#8F5100\",\"#FFBF69\",\"#FFBF69\",\"#FFBF69\",\"#FFBF69\",\"#FFBF69\",\"#FFBF69\",\"#FF961F\",\"#FFBF69\",\"#FF961F\",\"#FFBF69\",\"#FFBF69\",\"#A1F7D5\",\"#FFBF69\",\"#FF961F\",\"#A1F7D5\",\"#A1F7D5\",\"#FFBF69\",\"#FF961F\",\"#FF961F\",\"#FFBF69\",\"#FFBF69\",\"#8F5100\",\"#8F5100\",\"#FF961F\",\"#A1F7D5\",\"#FFBF69\",\"#FFBF69\",\"#FFBF69\",\"#A1F7D5\",\"#FFBF69\",\"#FFBF69\",\"#FFBF69\",\"#43EFAA\",\"#43EFAA\",\"#A1F7D5\",\"#A1F7D5\",\"#43EFAA\",\"#A1F7D5\",\"#43EFAA\",\"#A1F7D5\",\"#43EFAA\",\"#43EFAA\",\"#43EFAA\",\"#A1F7D5\",\"#A1F7D5\",\"#8F5100\",\"#FFBF69\",\"#FFBF69\",\"#FFBF69\",\"#FF961F\",\"#A1F7D5\",\"#A1F7D5\",\"#43EFAA\",\"#A1F7D5\",\"#A1F7D5\",\"#A1F7D5\",\"#A1F7D5\",\"#A1F7D5\",\"#FFBF69\",\"#8F5100\",\"#291700\",\"#FFBF69\",\"#FFBF69\",\"#A1F7D5\",\"#FF961F\",\"#FFBF69\",\"#FFBF69\",\"#FF961F\",\"#8F5100\",\"#291700\",\"#8F5100\",\"#FFBF69\",\"#FFBF69\",\"#FFBF69\",\"#FFBF69\",\"#A1F7D5\",\"#A1F7D5\",\"#A1F7D5\",\"#FFBF69\",\"#FFBF69\",\"#8F5100\",\"#FFBF69\",\"#FFBF69\",\"#FF961F\",\"#FFBF69\",\"#FFBF69\",\"#FF961F\",\"#FF961F\",\"#FF961F\",\"#FFBF69\",\"#A1F7D5\",\"#A1F7D5\",\"#A1F7D5\",\"#FF961F\",\"#FFBF69\",\"#8F5100\",\"#FFBF69\",\"#A1F7D5\",\"#A1F7D5\",\"#A1F7D5\",\"#A1F7D5\"]},\"orientation\":\"v\",\"width\":0.8,\"x\":[\"2005\",\"2005\",\"2005\",\"2005\",\"2005\",\"2005\",\"2005\",\"2005\",\"2005\",\"2005\",\"2005\",\"2005\",\"2006\",\"2006\",\"2006\",\"2006\",\"2006\",\"2006\",\"2006\",\"2006\",\"2006\",\"2006\",\"2006\",\"2006\",\"2007\",\"2007\",\"2007\",\"2007\",\"2007\",\"2007\",\"2007\",\"2007\",\"2007\",\"2007\",\"2007\",\"2007\",\"2008\",\"2008\",\"2008\",\"2008\",\"2008\",\"2008\",\"2008\",\"2008\",\"2008\",\"2008\",\"2008\",\"2008\",\"2009\",\"2009\",\"2009\",\"2009\",\"2009\",\"2009\",\"2009\",\"2009\",\"2009\",\"2009\",\"2009\",\"2009\",\"2010\",\"2010\",\"2010\",\"2010\",\"2010\",\"2010\",\"2010\",\"2010\",\"2010\",\"2010\",\"2010\",\"2010\",\"2011\",\"2011\",\"2011\",\"2011\",\"2011\",\"2011\",\"2011\",\"2011\",\"2011\",\"2011\",\"2011\",\"2011\",\"2012\",\"2012\",\"2012\",\"2012\",\"2012\",\"2012\",\"2012\",\"2012\",\"2012\",\"2012\",\"2012\",\"2012\",\"2013\",\"2013\",\"2013\",\"2013\",\"2013\",\"2013\",\"2013\",\"2013\",\"2013\",\"2013\",\"2013\",\"2013\",\"2014\",\"2014\",\"2014\",\"2014\",\"2014\",\"2014\",\"2014\",\"2014\",\"2014\",\"2014\",\"2014\",\"2014\",\"2015\",\"2015\",\"2015\",\"2015\",\"2015\",\"2015\",\"2015\",\"2015\",\"2015\",\"2015\",\"2015\",\"2015\",\"2016\",\"2016\",\"2016\",\"2016\",\"2016\",\"2016\",\"2016\",\"2016\",\"2016\",\"2016\",\"2016\",\"2016\",\"2017\",\"2017\",\"2017\",\"2017\",\"2017\",\"2017\",\"2017\",\"2017\",\"2017\",\"2017\",\"2017\",\"2017\",\"2018\",\"2018\",\"2018\",\"2018\",\"2018\",\"2018\",\"2018\",\"2018\",\"2018\",\"2018\",\"2018\",\"2018\",\"2019\",\"2019\",\"2019\",\"2019\",\"2019\",\"2019\",\"2019\",\"2019\",\"2019\",\"2019\",\"2019\",\"2019\",\"2020\",\"2020\",\"2020\",\"2020\",\"2020\",\"2020\",\"2020\",\"2020\",\"2020\",\"2020\",\"2020\",\"2020\",\"2021\",\"2021\",\"2021\",\"2021\",\"2021\",\"2021\",\"2021\",\"2021\",\"2021\",\"2021\",\"2021\",\"2021\",\"2022\",\"2022\",\"2022\",\"2022\",\"2022\",\"2022\",\"2022\",\"2022\",\"2022\",\"2022\",\"2022\",\"2022\",\"2023\",\"2023\",\"2023\",\"2023\",\"2023\",\"2023\",\"2023\",\"2023\",\"2023\",\"2023\",\"2023\",\"2023\",\"2024\",\"2024\"],\"y\":[1,1,1,1,1,1,1,1,1,1,1,1,1,1,1,1,1,1,1,1,1,1,1,1,1,1,1,1,1,1,1,1,1,1,1,1,1,1,1,1,1,1,1,1,1,1,1,1,1,1,1,1,1,1,1,1,1,1,1,1,1,1,1,1,1,1,1,1,1,1,1,1,1,1,1,1,1,1,1,1,1,1,1,1,1,1,1,1,1,1,1,1,1,1,1,1,1,1,1,1,1,1,1,1,1,1,1,1,1,1,1,1,1,1,1,1,1,1,1,1,1,1,1,1,1,1,1,1,1,1,1,1,1,1,1,1,1,1,1,1,1,1,1,1,1,1,1,1,1,1,1,1,1,1,1,1,1,1,1,1,1,1,1,1,1,1,1,1,1,1,1,1,1,1,1,1,1,1,1,1,1,1,1,1,1,1,1,1,1,1,1,1,1,1,1,1,1,1,1,1,1,1,1,1,1,1,1,1,1,1,1,1,1,1,1,1,1,1,1,1,1,1,1,1,1,1,1,1,1,1],\"type\":\"bar\"}],                        {\"template\":{\"data\":{\"barpolar\":[{\"marker\":{\"line\":{\"color\":\"white\",\"width\":0.5},\"pattern\":{\"fillmode\":\"overlay\",\"size\":10,\"solidity\":0.2}},\"type\":\"barpolar\"}],\"bar\":[{\"error_x\":{\"color\":\"#2a3f5f\"},\"error_y\":{\"color\":\"#2a3f5f\"},\"marker\":{\"line\":{\"color\":\"white\",\"width\":0.5},\"pattern\":{\"fillmode\":\"overlay\",\"size\":10,\"solidity\":0.2}},\"type\":\"bar\"}],\"carpet\":[{\"aaxis\":{\"endlinecolor\":\"#2a3f5f\",\"gridcolor\":\"#C8D4E3\",\"linecolor\":\"#C8D4E3\",\"minorgridcolor\":\"#C8D4E3\",\"startlinecolor\":\"#2a3f5f\"},\"baxis\":{\"endlinecolor\":\"#2a3f5f\",\"gridcolor\":\"#C8D4E3\",\"linecolor\":\"#C8D4E3\",\"minorgridcolor\":\"#C8D4E3\",\"startlinecolor\":\"#2a3f5f\"},\"type\":\"carpet\"}],\"choropleth\":[{\"colorbar\":{\"outlinewidth\":0,\"ticks\":\"\"},\"type\":\"choropleth\"}],\"contourcarpet\":[{\"colorbar\":{\"outlinewidth\":0,\"ticks\":\"\"},\"type\":\"contourcarpet\"}],\"contour\":[{\"colorbar\":{\"outlinewidth\":0,\"ticks\":\"\"},\"colorscale\":[[0.0,\"#0d0887\"],[0.1111111111111111,\"#46039f\"],[0.2222222222222222,\"#7201a8\"],[0.3333333333333333,\"#9c179e\"],[0.4444444444444444,\"#bd3786\"],[0.5555555555555556,\"#d8576b\"],[0.6666666666666666,\"#ed7953\"],[0.7777777777777778,\"#fb9f3a\"],[0.8888888888888888,\"#fdca26\"],[1.0,\"#f0f921\"]],\"type\":\"contour\"}],\"heatmapgl\":[{\"colorbar\":{\"outlinewidth\":0,\"ticks\":\"\"},\"colorscale\":[[0.0,\"#0d0887\"],[0.1111111111111111,\"#46039f\"],[0.2222222222222222,\"#7201a8\"],[0.3333333333333333,\"#9c179e\"],[0.4444444444444444,\"#bd3786\"],[0.5555555555555556,\"#d8576b\"],[0.6666666666666666,\"#ed7953\"],[0.7777777777777778,\"#fb9f3a\"],[0.8888888888888888,\"#fdca26\"],[1.0,\"#f0f921\"]],\"type\":\"heatmapgl\"}],\"heatmap\":[{\"colorbar\":{\"outlinewidth\":0,\"ticks\":\"\"},\"colorscale\":[[0.0,\"#0d0887\"],[0.1111111111111111,\"#46039f\"],[0.2222222222222222,\"#7201a8\"],[0.3333333333333333,\"#9c179e\"],[0.4444444444444444,\"#bd3786\"],[0.5555555555555556,\"#d8576b\"],[0.6666666666666666,\"#ed7953\"],[0.7777777777777778,\"#fb9f3a\"],[0.8888888888888888,\"#fdca26\"],[1.0,\"#f0f921\"]],\"type\":\"heatmap\"}],\"histogram2dcontour\":[{\"colorbar\":{\"outlinewidth\":0,\"ticks\":\"\"},\"colorscale\":[[0.0,\"#0d0887\"],[0.1111111111111111,\"#46039f\"],[0.2222222222222222,\"#7201a8\"],[0.3333333333333333,\"#9c179e\"],[0.4444444444444444,\"#bd3786\"],[0.5555555555555556,\"#d8576b\"],[0.6666666666666666,\"#ed7953\"],[0.7777777777777778,\"#fb9f3a\"],[0.8888888888888888,\"#fdca26\"],[1.0,\"#f0f921\"]],\"type\":\"histogram2dcontour\"}],\"histogram2d\":[{\"colorbar\":{\"outlinewidth\":0,\"ticks\":\"\"},\"colorscale\":[[0.0,\"#0d0887\"],[0.1111111111111111,\"#46039f\"],[0.2222222222222222,\"#7201a8\"],[0.3333333333333333,\"#9c179e\"],[0.4444444444444444,\"#bd3786\"],[0.5555555555555556,\"#d8576b\"],[0.6666666666666666,\"#ed7953\"],[0.7777777777777778,\"#fb9f3a\"],[0.8888888888888888,\"#fdca26\"],[1.0,\"#f0f921\"]],\"type\":\"histogram2d\"}],\"histogram\":[{\"marker\":{\"pattern\":{\"fillmode\":\"overlay\",\"size\":10,\"solidity\":0.2}},\"type\":\"histogram\"}],\"mesh3d\":[{\"colorbar\":{\"outlinewidth\":0,\"ticks\":\"\"},\"type\":\"mesh3d\"}],\"parcoords\":[{\"line\":{\"colorbar\":{\"outlinewidth\":0,\"ticks\":\"\"}},\"type\":\"parcoords\"}],\"pie\":[{\"automargin\":true,\"type\":\"pie\"}],\"scatter3d\":[{\"line\":{\"colorbar\":{\"outlinewidth\":0,\"ticks\":\"\"}},\"marker\":{\"colorbar\":{\"outlinewidth\":0,\"ticks\":\"\"}},\"type\":\"scatter3d\"}],\"scattercarpet\":[{\"marker\":{\"colorbar\":{\"outlinewidth\":0,\"ticks\":\"\"}},\"type\":\"scattercarpet\"}],\"scattergeo\":[{\"marker\":{\"colorbar\":{\"outlinewidth\":0,\"ticks\":\"\"}},\"type\":\"scattergeo\"}],\"scattergl\":[{\"marker\":{\"colorbar\":{\"outlinewidth\":0,\"ticks\":\"\"}},\"type\":\"scattergl\"}],\"scattermapbox\":[{\"marker\":{\"colorbar\":{\"outlinewidth\":0,\"ticks\":\"\"}},\"type\":\"scattermapbox\"}],\"scatterpolargl\":[{\"marker\":{\"colorbar\":{\"outlinewidth\":0,\"ticks\":\"\"}},\"type\":\"scatterpolargl\"}],\"scatterpolar\":[{\"marker\":{\"colorbar\":{\"outlinewidth\":0,\"ticks\":\"\"}},\"type\":\"scatterpolar\"}],\"scatter\":[{\"fillpattern\":{\"fillmode\":\"overlay\",\"size\":10,\"solidity\":0.2},\"type\":\"scatter\"}],\"scatterternary\":[{\"marker\":{\"colorbar\":{\"outlinewidth\":0,\"ticks\":\"\"}},\"type\":\"scatterternary\"}],\"surface\":[{\"colorbar\":{\"outlinewidth\":0,\"ticks\":\"\"},\"colorscale\":[[0.0,\"#0d0887\"],[0.1111111111111111,\"#46039f\"],[0.2222222222222222,\"#7201a8\"],[0.3333333333333333,\"#9c179e\"],[0.4444444444444444,\"#bd3786\"],[0.5555555555555556,\"#d8576b\"],[0.6666666666666666,\"#ed7953\"],[0.7777777777777778,\"#fb9f3a\"],[0.8888888888888888,\"#fdca26\"],[1.0,\"#f0f921\"]],\"type\":\"surface\"}],\"table\":[{\"cells\":{\"fill\":{\"color\":\"#EBF0F8\"},\"line\":{\"color\":\"white\"}},\"header\":{\"fill\":{\"color\":\"#C8D4E3\"},\"line\":{\"color\":\"white\"}},\"type\":\"table\"}]},\"layout\":{\"annotationdefaults\":{\"arrowcolor\":\"#2a3f5f\",\"arrowhead\":0,\"arrowwidth\":1},\"autotypenumbers\":\"strict\",\"coloraxis\":{\"colorbar\":{\"outlinewidth\":0,\"ticks\":\"\"}},\"colorscale\":{\"diverging\":[[0,\"#8e0152\"],[0.1,\"#c51b7d\"],[0.2,\"#de77ae\"],[0.3,\"#f1b6da\"],[0.4,\"#fde0ef\"],[0.5,\"#f7f7f7\"],[0.6,\"#e6f5d0\"],[0.7,\"#b8e186\"],[0.8,\"#7fbc41\"],[0.9,\"#4d9221\"],[1,\"#276419\"]],\"sequential\":[[0.0,\"#0d0887\"],[0.1111111111111111,\"#46039f\"],[0.2222222222222222,\"#7201a8\"],[0.3333333333333333,\"#9c179e\"],[0.4444444444444444,\"#bd3786\"],[0.5555555555555556,\"#d8576b\"],[0.6666666666666666,\"#ed7953\"],[0.7777777777777778,\"#fb9f3a\"],[0.8888888888888888,\"#fdca26\"],[1.0,\"#f0f921\"]],\"sequentialminus\":[[0.0,\"#0d0887\"],[0.1111111111111111,\"#46039f\"],[0.2222222222222222,\"#7201a8\"],[0.3333333333333333,\"#9c179e\"],[0.4444444444444444,\"#bd3786\"],[0.5555555555555556,\"#d8576b\"],[0.6666666666666666,\"#ed7953\"],[0.7777777777777778,\"#fb9f3a\"],[0.8888888888888888,\"#fdca26\"],[1.0,\"#f0f921\"]]},\"colorway\":[\"#636efa\",\"#EF553B\",\"#00cc96\",\"#ab63fa\",\"#FFA15A\",\"#19d3f3\",\"#FF6692\",\"#B6E880\",\"#FF97FF\",\"#FECB52\"],\"font\":{\"color\":\"#2a3f5f\"},\"geo\":{\"bgcolor\":\"white\",\"lakecolor\":\"white\",\"landcolor\":\"white\",\"showlakes\":true,\"showland\":true,\"subunitcolor\":\"#C8D4E3\"},\"hoverlabel\":{\"align\":\"left\"},\"hovermode\":\"closest\",\"mapbox\":{\"style\":\"light\"},\"paper_bgcolor\":\"white\",\"plot_bgcolor\":\"white\",\"polar\":{\"angularaxis\":{\"gridcolor\":\"#EBF0F8\",\"linecolor\":\"#EBF0F8\",\"ticks\":\"\"},\"bgcolor\":\"white\",\"radialaxis\":{\"gridcolor\":\"#EBF0F8\",\"linecolor\":\"#EBF0F8\",\"ticks\":\"\"}},\"scene\":{\"xaxis\":{\"backgroundcolor\":\"white\",\"gridcolor\":\"#DFE8F3\",\"gridwidth\":2,\"linecolor\":\"#EBF0F8\",\"showbackground\":true,\"ticks\":\"\",\"zerolinecolor\":\"#EBF0F8\"},\"yaxis\":{\"backgroundcolor\":\"white\",\"gridcolor\":\"#DFE8F3\",\"gridwidth\":2,\"linecolor\":\"#EBF0F8\",\"showbackground\":true,\"ticks\":\"\",\"zerolinecolor\":\"#EBF0F8\"},\"zaxis\":{\"backgroundcolor\":\"white\",\"gridcolor\":\"#DFE8F3\",\"gridwidth\":2,\"linecolor\":\"#EBF0F8\",\"showbackground\":true,\"ticks\":\"\",\"zerolinecolor\":\"#EBF0F8\"}},\"shapedefaults\":{\"line\":{\"color\":\"#2a3f5f\"}},\"ternary\":{\"aaxis\":{\"gridcolor\":\"#DFE8F3\",\"linecolor\":\"#A2B1C6\",\"ticks\":\"\"},\"baxis\":{\"gridcolor\":\"#DFE8F3\",\"linecolor\":\"#A2B1C6\",\"ticks\":\"\"},\"bgcolor\":\"white\",\"caxis\":{\"gridcolor\":\"#DFE8F3\",\"linecolor\":\"#A2B1C6\",\"ticks\":\"\"}},\"title\":{\"x\":0.05},\"xaxis\":{\"automargin\":true,\"gridcolor\":\"#EBF0F8\",\"linecolor\":\"#EBF0F8\",\"ticks\":\"\",\"title\":{\"standoff\":15},\"zerolinecolor\":\"#EBF0F8\",\"zerolinewidth\":2},\"yaxis\":{\"automargin\":true,\"gridcolor\":\"#EBF0F8\",\"linecolor\":\"#EBF0F8\",\"ticks\":\"\",\"title\":{\"standoff\":15},\"zerolinecolor\":\"#EBF0F8\",\"zerolinewidth\":2}}},\"yaxis\":{\"title\":{\"text\":\"Median SPEI3\"},\"showticklabels\":false,\"showgrid\":false,\"zeroline\":false,\"visible\":false},\"xaxis\":{\"title\":{\"text\":\"Years\"},\"type\":\"category\",\"tickmode\":\"array\",\"tickvals\":[\"2005\",\"2005\",\"2005\",\"2005\",\"2005\",\"2005\",\"2005\",\"2005\",\"2005\",\"2005\",\"2005\",\"2005\",\"2006\",\"2006\",\"2006\",\"2006\",\"2006\",\"2006\",\"2006\",\"2006\",\"2006\",\"2006\",\"2006\",\"2006\",\"2007\",\"2007\",\"2007\",\"2007\",\"2007\",\"2007\",\"2007\",\"2007\",\"2007\",\"2007\",\"2007\",\"2007\",\"2008\",\"2008\",\"2008\",\"2008\",\"2008\",\"2008\",\"2008\",\"2008\",\"2008\",\"2008\",\"2008\",\"2008\",\"2009\",\"2009\",\"2009\",\"2009\",\"2009\",\"2009\",\"2009\",\"2009\",\"2009\",\"2009\",\"2009\",\"2009\",\"2010\",\"2010\",\"2010\",\"2010\",\"2010\",\"2010\",\"2010\",\"2010\",\"2010\",\"2010\",\"2010\",\"2010\",\"2011\",\"2011\",\"2011\",\"2011\",\"2011\",\"2011\",\"2011\",\"2011\",\"2011\",\"2011\",\"2011\",\"2011\",\"2012\",\"2012\",\"2012\",\"2012\",\"2012\",\"2012\",\"2012\",\"2012\",\"2012\",\"2012\",\"2012\",\"2012\",\"2013\",\"2013\",\"2013\",\"2013\",\"2013\",\"2013\",\"2013\",\"2013\",\"2013\",\"2013\",\"2013\",\"2013\",\"2014\",\"2014\",\"2014\",\"2014\",\"2014\",\"2014\",\"2014\",\"2014\",\"2014\",\"2014\",\"2014\",\"2014\",\"2015\",\"2015\",\"2015\",\"2015\",\"2015\",\"2015\",\"2015\",\"2015\",\"2015\",\"2015\",\"2015\",\"2015\",\"2016\",\"2016\",\"2016\",\"2016\",\"2016\",\"2016\",\"2016\",\"2016\",\"2016\",\"2016\",\"2016\",\"2016\",\"2017\",\"2017\",\"2017\",\"2017\",\"2017\",\"2017\",\"2017\",\"2017\",\"2017\",\"2017\",\"2017\",\"2017\",\"2018\",\"2018\",\"2018\",\"2018\",\"2018\",\"2018\",\"2018\",\"2018\",\"2018\",\"2018\",\"2018\",\"2018\",\"2019\",\"2019\",\"2019\",\"2019\",\"2019\",\"2019\",\"2019\",\"2019\",\"2019\",\"2019\",\"2019\",\"2019\",\"2020\",\"2020\",\"2020\",\"2020\",\"2020\",\"2020\",\"2020\",\"2020\",\"2020\",\"2020\",\"2020\",\"2020\",\"2021\",\"2021\",\"2021\",\"2021\",\"2021\",\"2021\",\"2021\",\"2021\",\"2021\",\"2021\",\"2021\",\"2021\",\"2022\",\"2022\",\"2022\",\"2022\",\"2022\",\"2022\",\"2022\",\"2022\",\"2022\",\"2022\",\"2022\",\"2022\",\"2023\",\"2023\",\"2023\",\"2023\",\"2023\",\"2023\",\"2023\",\"2023\",\"2023\",\"2023\",\"2023\",\"2023\",\"2024\",\"2024\"],\"ticktext\":[\"2005\",\"2005\",\"2005\",\"2005\",\"2005\",\"2005\",\"2005\",\"2005\",\"2005\",\"2005\",\"2005\",\"2005\",\"\",\"\",\"\",\"\",\"\",\"\",\"\",\"\",\"\",\"\",\"\",\"\",\"2007\",\"2007\",\"2007\",\"2007\",\"2007\",\"2007\",\"2007\",\"2007\",\"2007\",\"2007\",\"2007\",\"2007\",\"\",\"\",\"\",\"\",\"\",\"\",\"\",\"\",\"\",\"\",\"\",\"\",\"2009\",\"2009\",\"2009\",\"2009\",\"2009\",\"2009\",\"2009\",\"2009\",\"2009\",\"2009\",\"2009\",\"2009\",\"\",\"\",\"\",\"\",\"\",\"\",\"\",\"\",\"\",\"\",\"\",\"\",\"2011\",\"2011\",\"2011\",\"2011\",\"2011\",\"2011\",\"2011\",\"2011\",\"2011\",\"2011\",\"2011\",\"2011\",\"\",\"\",\"\",\"\",\"\",\"\",\"\",\"\",\"\",\"\",\"\",\"\",\"2013\",\"2013\",\"2013\",\"2013\",\"2013\",\"2013\",\"2013\",\"2013\",\"2013\",\"2013\",\"2013\",\"2013\",\"\",\"\",\"\",\"\",\"\",\"\",\"\",\"\",\"\",\"\",\"\",\"\",\"2015\",\"2015\",\"2015\",\"2015\",\"2015\",\"2015\",\"2015\",\"2015\",\"2015\",\"2015\",\"2015\",\"2015\",\"\",\"\",\"\",\"\",\"\",\"\",\"\",\"\",\"\",\"\",\"\",\"\",\"2017\",\"2017\",\"2017\",\"2017\",\"2017\",\"2017\",\"2017\",\"2017\",\"2017\",\"2017\",\"2017\",\"2017\",\"\",\"\",\"\",\"\",\"\",\"\",\"\",\"\",\"\",\"\",\"\",\"\",\"2019\",\"2019\",\"2019\",\"2019\",\"2019\",\"2019\",\"2019\",\"2019\",\"2019\",\"2019\",\"2019\",\"2019\",\"\",\"\",\"\",\"\",\"\",\"\",\"\",\"\",\"\",\"\",\"\",\"\",\"2021\",\"2021\",\"2021\",\"2021\",\"2021\",\"2021\",\"2021\",\"2021\",\"2021\",\"2021\",\"2021\",\"2021\",\"\",\"\",\"\",\"\",\"\",\"\",\"\",\"\",\"\",\"\",\"\",\"\",\"2023\",\"2023\",\"2023\",\"2023\",\"2023\",\"2023\",\"2023\",\"2023\",\"2023\",\"2023\",\"2023\",\"2023\",\"\",\"\"],\"tickangle\":0},\"title\":{\"text\":\"Median 3 months SPEI index, trends over time in Golan area from 2005 to 2024\"},\"height\":600,\"plot_bgcolor\":\"rgba(0,0,0,0)\",\"showlegend\":false},                        {\"responsive\": true}                    ).then(function(){\n",
       "                            \n",
       "var gd = document.getElementById('465223c1-4c71-410b-86f3-87eb7c09ce54');\n",
       "var x = new MutationObserver(function (mutations, observer) {{\n",
       "        var display = window.getComputedStyle(gd).display;\n",
       "        if (!display || display === 'none') {{\n",
       "            console.log([gd, 'removed!']);\n",
       "            Plotly.purge(gd);\n",
       "            observer.disconnect();\n",
       "        }}\n",
       "}});\n",
       "\n",
       "// Listen for the removal of the full notebook cells\n",
       "var notebookContainer = gd.closest('#notebook-container');\n",
       "if (notebookContainer) {{\n",
       "    x.observe(notebookContainer, {childList: true});\n",
       "}}\n",
       "\n",
       "// Listen for the clearing of the current output cell\n",
       "var outputEl = gd.closest('.output');\n",
       "if (outputEl) {{\n",
       "    x.observe(outputEl, {childList: true});\n",
       "}}\n",
       "\n",
       "                        })                };                });            </script>        </div>"
      ]
     },
     "metadata": {},
     "output_type": "display_data"
    }
   ],
   "source": [
    "charts.create_stripechart(stat_values, timescales, selected, placeholders, 'year')"
   ]
  },
  {
   "cell_type": "markdown",
   "id": "5a4c0743-0bf9-4ef7-9973-b1e3bde4d4f9",
   "metadata": {},
   "source": [
    "countries' boundaries source: www.geoboundaries.org"
   ]
  },
  {
   "cell_type": "code",
   "execution_count": null,
   "id": "4fbec24c-3aa1-42af-904f-c19f738e09bc",
   "metadata": {},
   "outputs": [],
   "source": []
  }
 ],
 "metadata": {
  "kernelspec": {
   "display_name": "Python 3",
   "language": "python",
   "name": "python3"
  },
  "language_info": {
   "codemirror_mode": {
    "name": "ipython",
    "version": 3
   },
   "file_extension": ".py",
   "mimetype": "text/x-python",
   "name": "python",
   "nbconvert_exporter": "python",
   "pygments_lexer": "ipython3",
   "version": "3.10.12"
  }
 },
 "nbformat": 4,
 "nbformat_minor": 5
}