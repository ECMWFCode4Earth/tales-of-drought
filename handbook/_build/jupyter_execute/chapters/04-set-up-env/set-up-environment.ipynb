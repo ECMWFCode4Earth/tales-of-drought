{
 "cells": [
  {
   "cell_type": "markdown",
   "id": "3c6c7b8a-7412-48aa-8427-4d71131bae8b",
   "metadata": {},
   "source": [
    "# Setting up the environment"
   ]
  },
  {
   "cell_type": "markdown",
   "id": "88657784-fd9d-46b8-87b7-019dd96b8c7a",
   "metadata": {},
   "source": [
    "Before we dive into the data analysis, we need to ensure our notebooks have all the necessary tools and libraries. This step involves installing various Python packages that will help us manipulate data, create visualizations, and interact with our notebook more effectively."
   ]
  },
  {
   "cell_type": "markdown",
   "id": "c6d3aeaa-d3f1-4572-8282-127cb5d8bc4a",
   "metadata": {},
   "source": [
    "## What do you need to install?\n",
    "\n",
    "The installation of these packages and extensions may vary depending on the computing environment you are using. Whether it's Jupyter Notebook, JupyterLab, Google Colab, or another tool like Binder, some steps or commands might be different or unnecessary. Always tailor these installation steps to suit the specific requirements of your chosen platform to ensure smooth operation. \n",
    "\n",
    "\n",
    "Here the list of the packages our notebook needs to works:\n",
    "\n",
    "**Numerical and Data Handling Libraries:**\n",
    "- `numpy`: for numerical computations [[documentation](https://numpy.org/)].\n",
    "- `pandas`: for data manipulation and analysis [[documentation](https://pandas.pydata.org/docs/)].\n",
    "- `geopandas`: a package to work with geospatial data [[documentation](https://geopandas.org/en/stable/)].\n",
    "- `xarray`: for working with multi-dimensional arrays of data [[documentation](https://docs.xarray.dev/en/stable/)].\n",
    "- `netCDF4`: for handling and accessing data stored in .nc files (like our ERA5 data) [[documentation](https://unidata.github.io/netcdf4-python/)].\n",
    "- `dask`: enhances speed and scalability in data processing, useful for large datasets [[documentation](https://www.dask.org/)].\n",
    "\n",
    "\n",
    "**Visualization Libraries:**\n",
    "\n",
    "- `matplotlib`: for creating static graphs [[documentation](https://matplotlib.org/)].\n",
    "- `plotly`: for creating interactive graphs [[documentation](https://plotly.com/python/)].\n",
    "- `kaleido`: for exporting Plotly figures to static images (like PNG) [[documentation](https://github.com/plotly/Kaleido)].\n",
    "- `folium`: for making interactive maps [[documentation](https://python-visualization.github.io/folium/latest/)].\n",
    "- `cartopy`: designed for geospatial data processing in order to produce maps [[documentation](https://scitools.org.uk/cartopy/docs/latest/)].\n",
    "\n",
    "\n",
    "**Enhancing Interactivity:**\n",
    "\n",
    "- `ipywidgets`: allows us to create interactive elements in the notebook (like sliders, dropdown menus and buttons) [[documentation](https://ipywidgets.readthedocs.io/en/stable/)].\n",
    "- `jupyterlab_widgets`: These are necessary just for enabling and managing IPython widgets in JupyterLab [[documentation](https://pypi.org/project/jupyterlab-widgets/)]. So, if you don't use a JupyterLab environment, you do not need to install it.\n",
    "\n",
    "**Dynamic Path Management**\n",
    "- `pyprojroot`: helps us locate the root of our project, enabling consistent referencing of data files and other resources regardless of the computing environment [[documentation](https://pypi.org/project/pyprojroot/)].\n",
    "\n",
    "\n",
    "**Installing and Enabling Extensions**  \n",
    "We use `!pip install package-name` commands to download and install these packages from the Python Package Index (PyPI). The `!` at the beginning of each command tells our Jupyter Notebook to execute these as shell commands. If you want to suppress all output during installation use `!pip install package-name -q`"
   ]
  },
  {
   "cell_type": "code",
   "execution_count": 1,
   "id": "bbab0e18-10f7-4d7d-b416-86ddb5ef50d1",
   "metadata": {
    "scrolled": true
   },
   "outputs": [
    {
     "name": "stdout",
     "output_type": "stream",
     "text": [
      "Requirement already satisfied: numpy in /home/george/drought-311-venv/lib64/python3.11/site-packages (1.26.4)\r\n"
     ]
    },
    {
     "name": "stdout",
     "output_type": "stream",
     "text": [
      "Requirement already satisfied: pandas in /home/george/drought-311-venv/lib64/python3.11/site-packages (2.2.2)\r\n",
      "Requirement already satisfied: numpy>=1.23.2 in /home/george/drought-311-venv/lib64/python3.11/site-packages (from pandas) (1.26.4)\r\n",
      "Requirement already satisfied: python-dateutil>=2.8.2 in /home/george/drought-311-venv/lib64/python3.11/site-packages (from pandas) (2.9.0.post0)\r\n",
      "Requirement already satisfied: pytz>=2020.1 in /home/george/drought-311-venv/lib64/python3.11/site-packages (from pandas) (2024.1)\r\n",
      "Requirement already satisfied: tzdata>=2022.7 in /home/george/drought-311-venv/lib64/python3.11/site-packages (from pandas) (2024.1)\r\n",
      "Requirement already satisfied: six>=1.5 in /home/george/drought-311-venv/lib64/python3.11/site-packages (from python-dateutil>=2.8.2->pandas) (1.16.0)\r\n"
     ]
    },
    {
     "name": "stdout",
     "output_type": "stream",
     "text": [
      "Requirement already satisfied: geopandas in /home/george/drought-311-venv/lib64/python3.11/site-packages (0.14.4)\r\n",
      "Requirement already satisfied: fiona>=1.8.21 in /home/george/drought-311-venv/lib64/python3.11/site-packages (from geopandas) (1.9.6)\r\n",
      "Requirement already satisfied: numpy>=1.22 in /home/george/drought-311-venv/lib64/python3.11/site-packages (from geopandas) (1.26.4)\r\n",
      "Requirement already satisfied: packaging in /home/george/drought-311-venv/lib64/python3.11/site-packages (from geopandas) (24.0)\r\n",
      "Requirement already satisfied: pandas>=1.4.0 in /home/george/drought-311-venv/lib64/python3.11/site-packages (from geopandas) (2.2.2)\r\n",
      "Requirement already satisfied: pyproj>=3.3.0 in /home/george/drought-311-venv/lib64/python3.11/site-packages (from geopandas) (3.6.1)\r\n",
      "Requirement already satisfied: shapely>=1.8.0 in /home/george/drought-311-venv/lib64/python3.11/site-packages (from geopandas) (2.0.4)\r\n",
      "Requirement already satisfied: attrs>=19.2.0 in /home/george/drought-311-venv/lib64/python3.11/site-packages (from fiona>=1.8.21->geopandas) (23.2.0)\r\n",
      "Requirement already satisfied: certifi in /home/george/drought-311-venv/lib64/python3.11/site-packages (from fiona>=1.8.21->geopandas) (2024.2.2)\r\n",
      "Requirement already satisfied: click~=8.0 in /home/george/drought-311-venv/lib64/python3.11/site-packages (from fiona>=1.8.21->geopandas) (8.1.7)\r\n",
      "Requirement already satisfied: click-plugins>=1.0 in /home/george/drought-311-venv/lib64/python3.11/site-packages (from fiona>=1.8.21->geopandas) (1.1.1)\r\n",
      "Requirement already satisfied: cligj>=0.5 in /home/george/drought-311-venv/lib64/python3.11/site-packages (from fiona>=1.8.21->geopandas) (0.7.2)\r\n",
      "Requirement already satisfied: six in /home/george/drought-311-venv/lib64/python3.11/site-packages (from fiona>=1.8.21->geopandas) (1.16.0)\r\n"
     ]
    },
    {
     "name": "stdout",
     "output_type": "stream",
     "text": [
      "Requirement already satisfied: python-dateutil>=2.8.2 in /home/george/drought-311-venv/lib64/python3.11/site-packages (from pandas>=1.4.0->geopandas) (2.9.0.post0)\r\n",
      "Requirement already satisfied: pytz>=2020.1 in /home/george/drought-311-venv/lib64/python3.11/site-packages (from pandas>=1.4.0->geopandas) (2024.1)\r\n",
      "Requirement already satisfied: tzdata>=2022.7 in /home/george/drought-311-venv/lib64/python3.11/site-packages (from pandas>=1.4.0->geopandas) (2024.1)\r\n"
     ]
    },
    {
     "name": "stdout",
     "output_type": "stream",
     "text": [
      "Requirement already satisfied: xarray in /home/george/drought-311-venv/lib64/python3.11/site-packages (2024.7.0)\r\n",
      "Requirement already satisfied: numpy>=1.23 in /home/george/drought-311-venv/lib64/python3.11/site-packages (from xarray) (1.26.4)\r\n",
      "Requirement already satisfied: packaging>=23.1 in /home/george/drought-311-venv/lib64/python3.11/site-packages (from xarray) (24.0)\r\n",
      "Requirement already satisfied: pandas>=2.0 in /home/george/drought-311-venv/lib64/python3.11/site-packages (from xarray) (2.2.2)\r\n",
      "Requirement already satisfied: python-dateutil>=2.8.2 in /home/george/drought-311-venv/lib64/python3.11/site-packages (from pandas>=2.0->xarray) (2.9.0.post0)\r\n",
      "Requirement already satisfied: pytz>=2020.1 in /home/george/drought-311-venv/lib64/python3.11/site-packages (from pandas>=2.0->xarray) (2024.1)\r\n",
      "Requirement already satisfied: tzdata>=2022.7 in /home/george/drought-311-venv/lib64/python3.11/site-packages (from pandas>=2.0->xarray) (2024.1)\r\n",
      "Requirement already satisfied: six>=1.5 in /home/george/drought-311-venv/lib64/python3.11/site-packages (from python-dateutil>=2.8.2->pandas>=2.0->xarray) (1.16.0)\r\n"
     ]
    },
    {
     "name": "stdout",
     "output_type": "stream",
     "text": [
      "Requirement already satisfied: netCDF4 in /home/george/drought-311-venv/lib64/python3.11/site-packages (1.7.1.post2)\r\n",
      "Requirement already satisfied: cftime in /home/george/drought-311-venv/lib64/python3.11/site-packages (from netCDF4) (1.6.3)\r\n",
      "Requirement already satisfied: certifi in /home/george/drought-311-venv/lib64/python3.11/site-packages (from netCDF4) (2024.2.2)\r\n",
      "Requirement already satisfied: numpy in /home/george/drought-311-venv/lib64/python3.11/site-packages (from netCDF4) (1.26.4)\r\n"
     ]
    },
    {
     "name": "stdout",
     "output_type": "stream",
     "text": [
      "Requirement already satisfied: dask[complete] in /home/george/drought-311-venv/lib64/python3.11/site-packages (2024.5.1)\r\n",
      "Requirement already satisfied: click>=8.1 in /home/george/drought-311-venv/lib64/python3.11/site-packages (from dask[complete]) (8.1.7)\r\n",
      "Requirement already satisfied: cloudpickle>=1.5.0 in /home/george/drought-311-venv/lib64/python3.11/site-packages (from dask[complete]) (3.0.0)\r\n",
      "Requirement already satisfied: fsspec>=2021.09.0 in /home/george/drought-311-venv/lib64/python3.11/site-packages (from dask[complete]) (2024.5.0)\r\n",
      "Requirement already satisfied: packaging>=20.0 in /home/george/drought-311-venv/lib64/python3.11/site-packages (from dask[complete]) (24.0)\r\n",
      "Requirement already satisfied: partd>=1.2.0 in /home/george/drought-311-venv/lib64/python3.11/site-packages (from dask[complete]) (1.4.2)\r\n",
      "Requirement already satisfied: pyyaml>=5.3.1 in /home/george/drought-311-venv/lib64/python3.11/site-packages (from dask[complete]) (6.0.1)\r\n",
      "Requirement already satisfied: toolz>=0.10.0 in /home/george/drought-311-venv/lib64/python3.11/site-packages (from dask[complete]) (0.12.1)\r\n",
      "Requirement already satisfied: importlib-metadata>=4.13.0 in /home/george/drought-311-venv/lib64/python3.11/site-packages (from dask[complete]) (7.1.0)\r\n",
      "Requirement already satisfied: pyarrow>=7.0 in /home/george/drought-311-venv/lib64/python3.11/site-packages (from dask[complete]) (16.1.0)\r\n",
      "Requirement already satisfied: pyarrow-hotfix in /home/george/drought-311-venv/lib64/python3.11/site-packages (from dask[complete]) (0.6)\r\n",
      "Requirement already satisfied: lz4>=4.3.2 in /home/george/drought-311-venv/lib64/python3.11/site-packages (from dask[complete]) (4.3.3)\r\n",
      "Requirement already satisfied: zipp>=0.5 in /home/george/drought-311-venv/lib64/python3.11/site-packages (from importlib-metadata>=4.13.0->dask[complete]) (3.18.2)\r\n",
      "Requirement already satisfied: locket in /home/george/drought-311-venv/lib64/python3.11/site-packages (from partd>=1.2.0->dask[complete]) (1.0.0)\r\n",
      "Requirement already satisfied: numpy>=1.16.6 in /home/george/drought-311-venv/lib64/python3.11/site-packages (from pyarrow>=7.0->dask[complete]) (1.26.4)\r\n",
      "Requirement already satisfied: pandas>=1.3 in /home/george/drought-311-venv/lib64/python3.11/site-packages (from dask[complete]) (2.2.2)\r\n"
     ]
    },
    {
     "name": "stdout",
     "output_type": "stream",
     "text": [
      "Requirement already satisfied: dask-expr<1.2,>=1.1 in /home/george/drought-311-venv/lib64/python3.11/site-packages (from dask[complete]) (1.1.1)\r\n",
      "Requirement already satisfied: bokeh>=2.4.2 in /home/george/drought-311-venv/lib64/python3.11/site-packages (from dask[complete]) (3.4.1)\r\n",
      "Requirement already satisfied: jinja2>=2.10.3 in /home/george/drought-311-venv/lib64/python3.11/site-packages (from dask[complete]) (3.1.4)\r\n",
      "Requirement already satisfied: distributed==2024.5.1 in /home/george/drought-311-venv/lib64/python3.11/site-packages (from dask[complete]) (2024.5.1)\r\n",
      "Requirement already satisfied: msgpack>=1.0.0 in /home/george/drought-311-venv/lib64/python3.11/site-packages (from distributed==2024.5.1->dask[complete]) (1.0.8)\r\n",
      "Requirement already satisfied: psutil>=5.7.2 in /home/george/drought-311-venv/lib64/python3.11/site-packages (from distributed==2024.5.1->dask[complete]) (5.9.8)\r\n",
      "Requirement already satisfied: sortedcontainers>=2.0.5 in /home/george/drought-311-venv/lib64/python3.11/site-packages (from distributed==2024.5.1->dask[complete]) (2.4.0)\r\n",
      "Requirement already satisfied: tblib>=1.6.0 in /home/george/drought-311-venv/lib64/python3.11/site-packages (from distributed==2024.5.1->dask[complete]) (3.0.0)\r\n",
      "Requirement already satisfied: tornado>=6.0.4 in /home/george/drought-311-venv/lib64/python3.11/site-packages (from distributed==2024.5.1->dask[complete]) (6.4)\r\n",
      "Requirement already satisfied: urllib3>=1.24.3 in /home/george/drought-311-venv/lib64/python3.11/site-packages (from distributed==2024.5.1->dask[complete]) (2.2.1)\r\n",
      "Requirement already satisfied: zict>=3.0.0 in /home/george/drought-311-venv/lib64/python3.11/site-packages (from distributed==2024.5.1->dask[complete]) (3.0.0)\r\n",
      "Requirement already satisfied: contourpy>=1.2 in /home/george/drought-311-venv/lib64/python3.11/site-packages (from bokeh>=2.4.2->dask[complete]) (1.2.1)\r\n",
      "Requirement already satisfied: pillow>=7.1.0 in /home/george/drought-311-venv/lib64/python3.11/site-packages (from bokeh>=2.4.2->dask[complete]) (10.3.0)\r\n",
      "Requirement already satisfied: xyzservices>=2021.09.1 in /home/george/drought-311-venv/lib64/python3.11/site-packages (from bokeh>=2.4.2->dask[complete]) (2024.4.0)\r\n",
      "Requirement already satisfied: MarkupSafe>=2.0 in /home/george/drought-311-venv/lib64/python3.11/site-packages (from jinja2>=2.10.3->dask[complete]) (2.1.5)\r\n",
      "Requirement already satisfied: python-dateutil>=2.8.2 in /home/george/drought-311-venv/lib64/python3.11/site-packages (from pandas>=1.3->dask[complete]) (2.9.0.post0)\r\n",
      "Requirement already satisfied: pytz>=2020.1 in /home/george/drought-311-venv/lib64/python3.11/site-packages (from pandas>=1.3->dask[complete]) (2024.1)\r\n",
      "Requirement already satisfied: tzdata>=2022.7 in /home/george/drought-311-venv/lib64/python3.11/site-packages (from pandas>=1.3->dask[complete]) (2024.1)\r\n"
     ]
    },
    {
     "name": "stdout",
     "output_type": "stream",
     "text": [
      "Requirement already satisfied: six>=1.5 in /home/george/drought-311-venv/lib64/python3.11/site-packages (from python-dateutil>=2.8.2->pandas>=1.3->dask[complete]) (1.16.0)\r\n"
     ]
    },
    {
     "name": "stdout",
     "output_type": "stream",
     "text": [
      "Requirement already satisfied: matplotlib in /home/george/drought-311-venv/lib64/python3.11/site-packages (3.9.1)\r\n",
      "Requirement already satisfied: contourpy>=1.0.1 in /home/george/drought-311-venv/lib64/python3.11/site-packages (from matplotlib) (1.2.1)\r\n",
      "Requirement already satisfied: cycler>=0.10 in /home/george/drought-311-venv/lib64/python3.11/site-packages (from matplotlib) (0.12.1)\r\n",
      "Requirement already satisfied: fonttools>=4.22.0 in /home/george/drought-311-venv/lib64/python3.11/site-packages (from matplotlib) (4.51.0)\r\n",
      "Requirement already satisfied: kiwisolver>=1.3.1 in /home/george/drought-311-venv/lib64/python3.11/site-packages (from matplotlib) (1.4.5)\r\n",
      "Requirement already satisfied: numpy>=1.23 in /home/george/drought-311-venv/lib64/python3.11/site-packages (from matplotlib) (1.26.4)\r\n",
      "Requirement already satisfied: packaging>=20.0 in /home/george/drought-311-venv/lib64/python3.11/site-packages (from matplotlib) (24.0)\r\n",
      "Requirement already satisfied: pillow>=8 in /home/george/drought-311-venv/lib64/python3.11/site-packages (from matplotlib) (10.3.0)\r\n",
      "Requirement already satisfied: pyparsing>=2.3.1 in /home/george/drought-311-venv/lib64/python3.11/site-packages (from matplotlib) (3.1.2)\r\n",
      "Requirement already satisfied: python-dateutil>=2.7 in /home/george/drought-311-venv/lib64/python3.11/site-packages (from matplotlib) (2.9.0.post0)\r\n",
      "Requirement already satisfied: six>=1.5 in /home/george/drought-311-venv/lib64/python3.11/site-packages (from python-dateutil>=2.7->matplotlib) (1.16.0)\r\n"
     ]
    },
    {
     "name": "stdout",
     "output_type": "stream",
     "text": [
      "Requirement already satisfied: plotly in /home/george/drought-311-venv/lib64/python3.11/site-packages (5.23.0)\r\n",
      "Requirement already satisfied: tenacity>=6.2.0 in /home/george/drought-311-venv/lib64/python3.11/site-packages (from plotly) (9.0.0)\r\n",
      "Requirement already satisfied: packaging in /home/george/drought-311-venv/lib64/python3.11/site-packages (from plotly) (24.0)\r\n"
     ]
    },
    {
     "name": "stdout",
     "output_type": "stream",
     "text": [
      "Requirement already satisfied: kaleido in /home/george/drought-311-venv/lib64/python3.11/site-packages (0.2.1)\r\n"
     ]
    },
    {
     "name": "stdout",
     "output_type": "stream",
     "text": [
      "Requirement already satisfied: folium in /home/george/drought-311-venv/lib64/python3.11/site-packages (0.17.0)\r\n",
      "Requirement already satisfied: branca>=0.6.0 in /home/george/drought-311-venv/lib64/python3.11/site-packages (from folium) (0.7.2)\r\n",
      "Requirement already satisfied: jinja2>=2.9 in /home/george/drought-311-venv/lib64/python3.11/site-packages (from folium) (3.1.4)\r\n",
      "Requirement already satisfied: numpy in /home/george/drought-311-venv/lib64/python3.11/site-packages (from folium) (1.26.4)\r\n",
      "Requirement already satisfied: requests in /home/george/drought-311-venv/lib64/python3.11/site-packages (from folium) (2.31.0)\r\n",
      "Requirement already satisfied: xyzservices in /home/george/drought-311-venv/lib64/python3.11/site-packages (from folium) (2024.4.0)\r\n",
      "Requirement already satisfied: MarkupSafe>=2.0 in /home/george/drought-311-venv/lib64/python3.11/site-packages (from jinja2>=2.9->folium) (2.1.5)\r\n",
      "Requirement already satisfied: charset-normalizer<4,>=2 in /home/george/drought-311-venv/lib64/python3.11/site-packages (from requests->folium) (3.3.2)\r\n",
      "Requirement already satisfied: idna<4,>=2.5 in /home/george/drought-311-venv/lib64/python3.11/site-packages (from requests->folium) (3.7)\r\n",
      "Requirement already satisfied: urllib3<3,>=1.21.1 in /home/george/drought-311-venv/lib64/python3.11/site-packages (from requests->folium) (2.2.1)\r\n",
      "Requirement already satisfied: certifi>=2017.4.17 in /home/george/drought-311-venv/lib64/python3.11/site-packages (from requests->folium) (2024.2.2)\r\n"
     ]
    },
    {
     "name": "stdout",
     "output_type": "stream",
     "text": [
      "Requirement already satisfied: cartopy in /home/george/drought-311-venv/lib64/python3.11/site-packages (0.23.0)\r\n",
      "Requirement already satisfied: numpy>=1.21 in /home/george/drought-311-venv/lib64/python3.11/site-packages (from cartopy) (1.26.4)\r\n",
      "Requirement already satisfied: matplotlib>=3.5 in /home/george/drought-311-venv/lib64/python3.11/site-packages (from cartopy) (3.9.1)\r\n",
      "Requirement already satisfied: shapely>=1.7 in /home/george/drought-311-venv/lib64/python3.11/site-packages (from cartopy) (2.0.4)\r\n",
      "Requirement already satisfied: packaging>=20 in /home/george/drought-311-venv/lib64/python3.11/site-packages (from cartopy) (24.0)\r\n",
      "Requirement already satisfied: pyshp>=2.3 in /home/george/drought-311-venv/lib64/python3.11/site-packages (from cartopy) (2.3.1)\r\n",
      "Requirement already satisfied: pyproj>=3.3.1 in /home/george/drought-311-venv/lib64/python3.11/site-packages (from cartopy) (3.6.1)\r\n",
      "Requirement already satisfied: contourpy>=1.0.1 in /home/george/drought-311-venv/lib64/python3.11/site-packages (from matplotlib>=3.5->cartopy) (1.2.1)\r\n",
      "Requirement already satisfied: cycler>=0.10 in /home/george/drought-311-venv/lib64/python3.11/site-packages (from matplotlib>=3.5->cartopy) (0.12.1)\r\n",
      "Requirement already satisfied: fonttools>=4.22.0 in /home/george/drought-311-venv/lib64/python3.11/site-packages (from matplotlib>=3.5->cartopy) (4.51.0)\r\n",
      "Requirement already satisfied: kiwisolver>=1.3.1 in /home/george/drought-311-venv/lib64/python3.11/site-packages (from matplotlib>=3.5->cartopy) (1.4.5)\r\n",
      "Requirement already satisfied: pillow>=8 in /home/george/drought-311-venv/lib64/python3.11/site-packages (from matplotlib>=3.5->cartopy) (10.3.0)\r\n",
      "Requirement already satisfied: pyparsing>=2.3.1 in /home/george/drought-311-venv/lib64/python3.11/site-packages (from matplotlib>=3.5->cartopy) (3.1.2)\r\n",
      "Requirement already satisfied: python-dateutil>=2.7 in /home/george/drought-311-venv/lib64/python3.11/site-packages (from matplotlib>=3.5->cartopy) (2.9.0.post0)\r\n",
      "Requirement already satisfied: certifi in /home/george/drought-311-venv/lib64/python3.11/site-packages (from pyproj>=3.3.1->cartopy) (2024.2.2)\r\n"
     ]
    },
    {
     "name": "stdout",
     "output_type": "stream",
     "text": [
      "Requirement already satisfied: six>=1.5 in /home/george/drought-311-venv/lib64/python3.11/site-packages (from python-dateutil>=2.7->matplotlib>=3.5->cartopy) (1.16.0)\r\n"
     ]
    },
    {
     "name": "stdout",
     "output_type": "stream",
     "text": [
      "Requirement already satisfied: ipywidgets in /home/george/drought-311-venv/lib64/python3.11/site-packages (8.1.2)\r\n",
      "Requirement already satisfied: comm>=0.1.3 in /home/george/drought-311-venv/lib64/python3.11/site-packages (from ipywidgets) (0.2.2)\r\n",
      "Requirement already satisfied: ipython>=6.1.0 in /home/george/drought-311-venv/lib64/python3.11/site-packages (from ipywidgets) (8.18.1)\r\n",
      "Requirement already satisfied: traitlets>=4.3.1 in /home/george/drought-311-venv/lib64/python3.11/site-packages (from ipywidgets) (5.14.3)\r\n",
      "Requirement already satisfied: widgetsnbextension~=4.0.10 in /home/george/drought-311-venv/lib64/python3.11/site-packages (from ipywidgets) (4.0.10)\r\n",
      "Requirement already satisfied: jupyterlab-widgets~=3.0.10 in /home/george/drought-311-venv/lib64/python3.11/site-packages (from ipywidgets) (3.0.10)\r\n",
      "Requirement already satisfied: decorator in /home/george/drought-311-venv/lib64/python3.11/site-packages (from ipython>=6.1.0->ipywidgets) (5.1.1)\r\n",
      "Requirement already satisfied: jedi>=0.16 in /home/george/drought-311-venv/lib64/python3.11/site-packages (from ipython>=6.1.0->ipywidgets) (0.19.1)\r\n",
      "Requirement already satisfied: matplotlib-inline in /home/george/drought-311-venv/lib64/python3.11/site-packages (from ipython>=6.1.0->ipywidgets) (0.1.7)\r\n",
      "Requirement already satisfied: prompt-toolkit<3.1.0,>=3.0.41 in /home/george/drought-311-venv/lib64/python3.11/site-packages (from ipython>=6.1.0->ipywidgets) (3.0.43)\r\n",
      "Requirement already satisfied: pygments>=2.4.0 in /home/george/drought-311-venv/lib64/python3.11/site-packages (from ipython>=6.1.0->ipywidgets) (2.18.0)\r\n",
      "Requirement already satisfied: stack-data in /home/george/drought-311-venv/lib64/python3.11/site-packages (from ipython>=6.1.0->ipywidgets) (0.6.3)\r\n",
      "Requirement already satisfied: pexpect>4.3 in /home/george/drought-311-venv/lib64/python3.11/site-packages (from ipython>=6.1.0->ipywidgets) (4.9.0)\r\n"
     ]
    },
    {
     "name": "stdout",
     "output_type": "stream",
     "text": [
      "Requirement already satisfied: parso<0.9.0,>=0.8.3 in /home/george/drought-311-venv/lib64/python3.11/site-packages (from jedi>=0.16->ipython>=6.1.0->ipywidgets) (0.8.4)\r\n",
      "Requirement already satisfied: ptyprocess>=0.5 in /home/george/drought-311-venv/lib64/python3.11/site-packages (from pexpect>4.3->ipython>=6.1.0->ipywidgets) (0.7.0)\r\n",
      "Requirement already satisfied: wcwidth in /home/george/drought-311-venv/lib64/python3.11/site-packages (from prompt-toolkit<3.1.0,>=3.0.41->ipython>=6.1.0->ipywidgets) (0.2.13)\r\n",
      "Requirement already satisfied: executing>=1.2.0 in /home/george/drought-311-venv/lib64/python3.11/site-packages (from stack-data->ipython>=6.1.0->ipywidgets) (2.0.1)\r\n",
      "Requirement already satisfied: asttokens>=2.1.0 in /home/george/drought-311-venv/lib64/python3.11/site-packages (from stack-data->ipython>=6.1.0->ipywidgets) (2.4.1)\r\n",
      "Requirement already satisfied: pure-eval in /home/george/drought-311-venv/lib64/python3.11/site-packages (from stack-data->ipython>=6.1.0->ipywidgets) (0.2.2)\r\n",
      "Requirement already satisfied: six>=1.12.0 in /home/george/drought-311-venv/lib64/python3.11/site-packages (from asttokens>=2.1.0->stack-data->ipython>=6.1.0->ipywidgets) (1.16.0)\r\n"
     ]
    },
    {
     "name": "stdout",
     "output_type": "stream",
     "text": [
      "Requirement already satisfied: pyprojroot in /home/george/drought-311-venv/lib64/python3.11/site-packages (0.3.0)\r\n",
      "Requirement already satisfied: typing-extensions in /home/george/drought-311-venv/lib64/python3.11/site-packages (from pyprojroot) (4.11.0)\r\n"
     ]
    },
    {
     "name": "stdout",
     "output_type": "stream",
     "text": [
      "Requirement already satisfied: ipywidgets in /home/george/drought-311-venv/lib64/python3.11/site-packages (8.1.2)\r\n",
      "Requirement already satisfied: comm>=0.1.3 in /home/george/drought-311-venv/lib64/python3.11/site-packages (from ipywidgets) (0.2.2)\r\n",
      "Requirement already satisfied: ipython>=6.1.0 in /home/george/drought-311-venv/lib64/python3.11/site-packages (from ipywidgets) (8.18.1)\r\n",
      "Requirement already satisfied: traitlets>=4.3.1 in /home/george/drought-311-venv/lib64/python3.11/site-packages (from ipywidgets) (5.14.3)\r\n",
      "Requirement already satisfied: widgetsnbextension~=4.0.10 in /home/george/drought-311-venv/lib64/python3.11/site-packages (from ipywidgets) (4.0.10)\r\n",
      "Requirement already satisfied: jupyterlab-widgets~=3.0.10 in /home/george/drought-311-venv/lib64/python3.11/site-packages (from ipywidgets) (3.0.10)\r\n"
     ]
    },
    {
     "name": "stdout",
     "output_type": "stream",
     "text": [
      "Requirement already satisfied: decorator in /home/george/drought-311-venv/lib64/python3.11/site-packages (from ipython>=6.1.0->ipywidgets) (5.1.1)\r\n",
      "Requirement already satisfied: jedi>=0.16 in /home/george/drought-311-venv/lib64/python3.11/site-packages (from ipython>=6.1.0->ipywidgets) (0.19.1)\r\n",
      "Requirement already satisfied: matplotlib-inline in /home/george/drought-311-venv/lib64/python3.11/site-packages (from ipython>=6.1.0->ipywidgets) (0.1.7)\r\n",
      "Requirement already satisfied: prompt-toolkit<3.1.0,>=3.0.41 in /home/george/drought-311-venv/lib64/python3.11/site-packages (from ipython>=6.1.0->ipywidgets) (3.0.43)\r\n",
      "Requirement already satisfied: pygments>=2.4.0 in /home/george/drought-311-venv/lib64/python3.11/site-packages (from ipython>=6.1.0->ipywidgets) (2.18.0)\r\n",
      "Requirement already satisfied: stack-data in /home/george/drought-311-venv/lib64/python3.11/site-packages (from ipython>=6.1.0->ipywidgets) (0.6.3)\r\n",
      "Requirement already satisfied: pexpect>4.3 in /home/george/drought-311-venv/lib64/python3.11/site-packages (from ipython>=6.1.0->ipywidgets) (4.9.0)\r\n",
      "Requirement already satisfied: parso<0.9.0,>=0.8.3 in /home/george/drought-311-venv/lib64/python3.11/site-packages (from jedi>=0.16->ipython>=6.1.0->ipywidgets) (0.8.4)\r\n",
      "Requirement already satisfied: ptyprocess>=0.5 in /home/george/drought-311-venv/lib64/python3.11/site-packages (from pexpect>4.3->ipython>=6.1.0->ipywidgets) (0.7.0)\r\n",
      "Requirement already satisfied: wcwidth in /home/george/drought-311-venv/lib64/python3.11/site-packages (from prompt-toolkit<3.1.0,>=3.0.41->ipython>=6.1.0->ipywidgets) (0.2.13)\r\n",
      "Requirement already satisfied: executing>=1.2.0 in /home/george/drought-311-venv/lib64/python3.11/site-packages (from stack-data->ipython>=6.1.0->ipywidgets) (2.0.1)\r\n",
      "Requirement already satisfied: asttokens>=2.1.0 in /home/george/drought-311-venv/lib64/python3.11/site-packages (from stack-data->ipython>=6.1.0->ipywidgets) (2.4.1)\r\n",
      "Requirement already satisfied: pure-eval in /home/george/drought-311-venv/lib64/python3.11/site-packages (from stack-data->ipython>=6.1.0->ipywidgets) (0.2.2)\r\n",
      "Requirement already satisfied: six>=1.12.0 in /home/george/drought-311-venv/lib64/python3.11/site-packages (from asttokens>=2.1.0->stack-data->ipython>=6.1.0->ipywidgets) (1.16.0)\r\n"
     ]
    }
   ],
   "source": [
    "!pip install numpy\n",
    "!pip install pandas\n",
    "!pip install geopandas \n",
    "!pip install xarray\n",
    "!pip install netCDF4\n",
    "!pip install \"dask[complete]\"\n",
    "!pip install matplotlib\n",
    "!pip install plotly\n",
    "!pip install -U kaleido\n",
    "!pip install folium\n",
    "!pip install cartopy\n",
    "!pip install ipywidgets\n",
    "!pip install pyprojroot\n",
    "!pip install ipywidgets"
   ]
  },
  {
   "cell_type": "code",
   "execution_count": 2,
   "id": "2fb1cf67-54cd-4ff1-8d20-f27370fb8cb5",
   "metadata": {},
   "outputs": [
    {
     "name": "stdout",
     "output_type": "stream",
     "text": [
      "Requirement already satisfied: jupyterlab_widgets in /home/george/drought-311-venv/lib64/python3.11/site-packages (3.0.10)\r\n"
     ]
    }
   ],
   "source": [
    "# only for JupyterLab environment\n",
    "!pip install jupyterlab_widgets   "
   ]
  },
  {
   "cell_type": "markdown",
   "id": "8aab175f-c6e0-4539-b9ba-53946240140f",
   "metadata": {},
   "source": [
    "By executing these commands, we are setting up a robust environment tailored for analyzing and visualizing our data. Now our toolkit is ready so we can proceed without any hitches!"
   ]
  }
 ],
 "metadata": {
  "kernelspec": {
   "display_name": "Python 3 (ipykernel)",
   "language": "python",
   "name": "python3"
  },
  "language_info": {
   "codemirror_mode": {
    "name": "ipython",
    "version": 3
   },
   "file_extension": ".py",
   "mimetype": "text/x-python",
   "name": "python",
   "nbconvert_exporter": "python",
   "pygments_lexer": "ipython3",
   "version": "3.11.9"
  }
 },
 "nbformat": 4,
 "nbformat_minor": 5
}