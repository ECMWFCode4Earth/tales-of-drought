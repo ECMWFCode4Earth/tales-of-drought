{
 "cells": [
  {
   "cell_type": "markdown",
   "id": "3c6c7b8a-7412-48aa-8427-4d71131bae8b",
   "metadata": {},
   "source": [
    "# The Time Machine, identify drought events"
   ]
  },
  {
   "cell_type": "markdown",
   "id": "a3a06dcf-0971-45db-9e22-ffe2f1b10e81",
   "metadata": {},
   "source": [
    "Hello there! 👋 We're excited to take you on an insightful journey through our interactive notebook designed to explore drought events across the globe over time. Our main focus will be on understanding how droughts have varied both geographically and temporally.\n",
    "\n",
    "To reach this goal we need to recognize and analyze drought occurrences worldwide from the year 1940 up to the present. We will do this by examining the Standardized Precipitation Evapotranspiration Index (SPEI) values, which help us understand moisture deficit better.\n",
    "\n",
    "📌 Since each of you has different needs and interests, we've made the notebook as interactive as possible. We'll guide you through the cells, but you'll have the freedom to choose what to focus on: the geographical area, the type of index aggregation, and the time period."
   ]
  },
  {
   "cell_type": "markdown",
   "id": "e5b472d1-3d6f-4db5-9f0d-58b18ad890c4",
   "metadata": {},
   "source": [
    "### What is SPEI?\n",
    "\n",
    "The SPEI is a powerful index used by scientists to determine drought conditions. It considers both precipitation and evapotranspiration (the sum of evaporation and plant transpiration from the Earth's surface to atmosphere) to give a standardized measure of moisture adequacy in different regions and times. You can find more info on the [dedicate page of our handbook](https://ecmwfcode4earth.github.io/tales-of-drought/chapters/02-drought-focus/indices.html)."
   ]
  },
  {
   "cell_type": "markdown",
   "id": "150f9158-58cb-4eca-9d62-a0211f9f917a",
   "metadata": {},
   "source": [
    "### Data Source\n",
    "The data we will use comes from ERA5, one of the most comprehensive atmospheric data services available. Specifically, we are working with 'nc' files, which are a type of data file used for storing complex scientific data in a format that can be accessed and processed efficiently (to get deeper see the [dedicate page](https://ecmwfcode4earth.github.io/tales-of-drought/chapters/01-climate-toolkit-for-beginners/netCDF-file.html)).\n",
    "\n",
    "Let's dive in and start our exploration to better understand the patterns and impacts of droughts around the world! 🌍"
   ]
  },
  {
   "cell_type": "markdown",
   "id": "ea26c441-eae1-4ae9-a5d7-606319acce90",
   "metadata": {},
   "source": [
    "## What we will do\n",
    "\n",
    "In this notebook, we will explore drought events from various points of view:\n",
    "1. By selecting a geographic area and a month of the year, we will observe the evolution of drought conditions from 1940 to the present using a slider of maps.\n",
    "2. We will study the same evolution using a scatterplot made with median and mean values for that area.\n",
    "2. We will delve deeper into the details with a boxplot and a standard deviation bar chart for the same month and area.\n",
    "3. We will change the time dimension by looking at the evolution of the median values for a certain year across the twelve months.\n",
    "4. Finally, we will see the evolution over a range of years of our choice via a stripe chart, split by years and months."
   ]
  },
  {
   "cell_type": "markdown",
   "id": "88657784-fd9d-46b8-87b7-019dd96b8c7a",
   "metadata": {},
   "source": [
    "## Setting Up the Environment\n",
    "Before we dive into the data analysis, we need to ensure our notebook has all the necessary tools and libraries. This step involves installing various Python packages that will help us manipulate data, create visualizations, and interact with our notebook more effectively.\n",
    "\n",
    "### What do you need to install?\n",
    "\n",
    "The installation of these packages and extensions may vary depending on the computing environment you are using. Whether it's Jupyter Notebook, JupyterLab, Google Colab, or another tool like Binder, some steps or commands might be different or unnecessary. Always tailor these installation steps to suit the specific requirements of your chosen platform to ensure smooth operation. To have more details visit [our page](https://ecmwfcode4earth.github.io/tales-of-drought/chapters/04-set-up-env/index.html).\n",
    "\n",
    "\n",
    "Here the list of the packages our notebook needs to works:\n",
    "\n",
    "**Numerical and Data Handling Libraries:**\n",
    "- `numpy`: for numerical computations.\n",
    "- `pandas`: for data manipulation and analysis.\n",
    "- `xarray`: for working with multi-dimensional arrays of data.\n",
    "- `netCDF4`: for handling and accessing data stored in .nc files (like our ERA5 data).\n",
    "- `dask`: enhances speed and scalability in data processing, useful for large datasets.\n",
    "\n",
    "**Visualization Libraries:**\n",
    "\n",
    "- `matplotlib` and `plotly`: for creating static and interactive graphs respectively.\n",
    "- `folium`: for making interactive maps.\n",
    "- `kaleido`: for exporting Plotly figures to static images (like PNG).\n",
    "\n",
    "\n",
    "**Enhancing Interactivity:**\n",
    "\n",
    "- `ipywidgets`: allows us to create interactive elements in the notebook (like sliders, dropdown menus and buttons).\n",
    "- `widgetsnbextension` and `@jupyter-widgets/jupyterlab-manager`: These are necessary for enabling and managing IPython widgets in JupyterLab.\n",
    "\n",
    "\n",
    "**Installing and Enabling Extensions**\n",
    "We use `!pip install` commands to download and install these packages from the Python Package Index (PyPI). The ! at the beginning of each command tells our Jupyter Notebook to execute these as shell commands."
   ]
  },
  {
   "cell_type": "code",
   "execution_count": null,
   "id": "bbab0e18-10f7-4d7d-b416-86ddb5ef50d1",
   "metadata": {},
   "outputs": [],
   "source": [
    "!pip install numpy \n",
    "!pip install xarray \n",
    "!pip install netCDF4 \n",
    "!pip install \"dask[complete]\"\n",
    "!pip install folium\n",
    "!pip install matplotlib \n",
    "!pip install plotly\n",
    "!pip install -U kaleido\n",
    "!pip install ipywidgets"
   ]
  },
  {
   "cell_type": "markdown",
   "id": "8aab175f-c6e0-4539-b9ba-53946240140f",
   "metadata": {},
   "source": [
    "After installing the packages, we use:\n",
    "\n",
    "- `!jupyter nbextension enable --py widgetsnbextension` command to enable IPython widget extensions in the notebook.  \n",
    "- if you are using JupyterLab environment to host and run your notebook, the command `!jupyter labextension install @jupyter-widgets/jupyterlab-manager` installs a lab extension necessary for managing widgets in JupyterLab.\n",
    "\n",
    "By executing these commands, we are setting up a robust environment tailored for analyzing and visualizing our data. Now our toolkit is ready so we can proceed without any hitches!"
   ]
  },
  {
   "cell_type": "code",
   "execution_count": null,
   "id": "d91c7dde-f2ba-4137-a236-1f516a108ee7",
   "metadata": {},
   "outputs": [],
   "source": [
    "!jupyter nbextension enable --py widgetsnbextension\n",
    "!jupyter labextension install @jupyter-widgets/jupyterlab-manager  # only for JupyterLab environment"
   ]
  },
  {
   "cell_type": "markdown",
   "id": "4ea7717c-3dc8-4653-86f8-0eb90eda9040",
   "metadata": {},
   "source": [
    "Now we need to import necessary Python libraries and modules that we'll use throughout our analysis:\n",
    "\n",
    "- `ipywidgets` and `IPython.display`: to create interactive elements (like dropdowns) and display outputs within the notebook.\n",
    "- `functools.partial`: used to create partial functions: we can fix a certain number of arguments of a function and generate a new function.\n",
    "- `datetime`: for handling dates and times.\n",
    "- `warnings`: This module is used to control the display of warnings. \n",
    "\n",
    "`warnings.filterwarnings(\"ignore\", category=RuntimeWarning)` tells Python to ignore specific runtime warnings that might not be critical to halt our analysis, making the notebook output cleaner and focusing on essential messages.\n",
    "\n",
    "You may notice that while we explicitly install some packages using `pip`, others are imported directly without a corresponding installation command. This is beacuse they are standard library, which comes bundled with Python (as `datetime`), or pre-installed with Jupyter environments  (as `ipywidgets`).\n",
    "\n",
    "We need to import also 4 custom modules from the `utils` folder: `widgets_handler`, `coordinates_retriver`, `data_preprocess` and `charts`. These modules contain custom functions tailored to handle widgets, retrieve coordinates, preprocess data, and create charts."
   ]
  },
  {
   "cell_type": "code",
   "execution_count": null,
   "id": "1ee6a0a8-84b8-4856-952e-c643cf55eece",
   "metadata": {},
   "outputs": [],
   "source": [
    "from ipywidgets import Layout, Dropdown, widgets\n",
    "from IPython.display import display, clear_output, IFrame\n",
    "from functools import partial\n",
    "import datetime\n",
    "import numpy as np\n",
    "import utils.widgets_handler as widgets_handler\n",
    "import utils.coordinates_retriver as coordinates_retriver\n",
    "import utils.data_preprocess as data_preprocess\n",
    "import utils.charts as charts\n",
    "import warnings\n",
    "warnings.filterwarnings(\"ignore\", category=RuntimeWarning)"
   ]
  },
  {
   "cell_type": "markdown",
   "id": "e6d44d19-9f80-47e4-a635-1a6dcf9418e6",
   "metadata": {},
   "source": [
    "This cell sets up the initial state and interface for user interactions concerning drought data selection based on geographical and temporal parameters:\n",
    "- The variables `country_list`, `months` and `timescales` are initialized by loading data from JSON files using functions from the `widgets_handler` module. They contain, respectively, a list of worldwide countries and their first- and second-level administrative subareas, the 12 months, and the specific periods over which the SPEI values are calculated (e.g., 1 month, 3 months, etc.).\n",
    "- The `subset_area`, `bounding_box` and `active_btn` variables are initialized to hold the state of user selections and actions.\n",
    "- The `selected` dictionary is designed to hold the current selections of various parameters like country, administrative subareas, timescale, month, and year.\n",
    "- `placeholders` provides placeholder text for each dropdown or interactive widget when no selection is made.\n",
    "- `widgets_handler.save_selection(placeholders)` function call saves the initialized placeholder values into a `selection.json` file to keep trace of the user selections."
   ]
  },
  {
   "cell_type": "code",
   "execution_count": null,
   "id": "e40255a8-dc7a-48d5-8300-b226cf7bd26c",
   "metadata": {},
   "outputs": [],
   "source": [
    "country_list = widgets_handler.read_json_to_sorted_dict('countries.json')\n",
    "months = widgets_handler.read_json_to_dict('months.json')\n",
    "timescales = widgets_handler.read_json_to_dict('timescales.json')\n",
    "subset_area = None\n",
    "bounding_box = (None, None, None, None)\n",
    "active_btn = None\n",
    "\n",
    "selected = {\n",
    "    \"country\": None,\n",
    "    \"adm1_subarea\": None,\n",
    "    \"adm2_subarea\": None,\n",
    "    \"timescale\": None,\n",
    "    \"month\": None,\n",
    "    \"year\": None,\n",
    "    \"year_range\": None\n",
    "}\n",
    "\n",
    "placeholders = {\n",
    "    \"country\": \"no country selected...\",\n",
    "    \"adm1_subarea\": \"no adm1 subarea selected...\",\n",
    "    \"adm2_subarea\": \"no adm2 subarea selected...\",\n",
    "    \"timescale\": \"no timescale selected...\",\n",
    "    \"month\": \"no month selected...\",\n",
    "    \"year\": \"no year selected...\"\n",
    "}\n",
    "widgets_handler.save_selection(placeholders)"
   ]
  },
  {
   "cell_type": "markdown",
   "id": "f68fa9a2-cbaf-426e-844e-6ec976236daf",
   "metadata": {},
   "source": [
    "The next cell sets up and configures the user interface to ensure interactivity.  \n",
    "We have dropdown widgets to select the country (or its subareas), the period (month, year, or a range of years), and the SPEI index timescale.  \n",
    "The options in these dropdowns are dynamically populated from previously loaded JSON files or generated lists (such as the list of years from 1940 to the current year).  \n",
    "A `selectors` dictionary organizes all the selector widgets for efficient access and management in the code.  \n",
    "Separate 'Get data' buttons are configured for different types of data retrieval based on the selections made via the dropdown menus.  \n",
    "An `output_area` widget is included to display results or messages dynamically based on the user’s selections and interactions with the buttons.  "
   ]
  },
  {
   "cell_type": "code",
   "execution_count": null,
   "id": "b342cf97-5e08-43fa-933b-c64276780c89",
   "metadata": {},
   "outputs": [],
   "source": [
    "# Custom style and layout for descriptions and dropdowns\n",
    "style = {'description_width': '150px'}\n",
    "dropdown_layout = Layout(width='400px', display='flex', justify_content='flex-end')\n",
    "range_layout = Layout(width='400px')\n",
    "btn_layout = Layout(width='400px')\n",
    "\n",
    "\n",
    "# Dropdown for countries\n",
    "country_names = [country['name'] for country in country_list]\n",
    "country_selector = widgets.Dropdown(\n",
    "    options=[placeholders['country']] + country_names,\n",
    "    description='Select a country:',\n",
    "    style=style,\n",
    "    layout=dropdown_layout\n",
    ")\n",
    "\n",
    "# Dropdown for subareas, initially empty\n",
    "adm1_subarea_selector = widgets.Dropdown(\n",
    "    options=[placeholders['adm1_subarea']],\n",
    "    description='a subarea of first level:',\n",
    "    style=style,\n",
    "    layout=dropdown_layout\n",
    ")\n",
    "\n",
    "adm2_subarea_selector = widgets.Dropdown(\n",
    "    options=[placeholders['adm2_subarea']],\n",
    "    description='or of second level:',\n",
    "    style=style,\n",
    "    layout=dropdown_layout\n",
    ")\n",
    "\n",
    "# Dropdown for timescales\n",
    "timescale_selector = widgets.Dropdown(\n",
    "    options=[placeholders['timescale']] + list(timescales.keys()),\n",
    "    description='Select a timescale:',\n",
    "    style=style,\n",
    "    layout=dropdown_layout\n",
    ")\n",
    "\n",
    "# Dropdown for months\n",
    "month_selector = widgets.Dropdown(\n",
    "    options=[placeholders['month']] + list(months.keys()),\n",
    "    description='Select a month:',\n",
    "    style=style,\n",
    "    layout=dropdown_layout\n",
    ")\n",
    "\n",
    "# Dropdown for years\n",
    "current_year = datetime.datetime.now().year\n",
    "years_options = [str(year) for year in range(1940, current_year + 1)]\n",
    "\n",
    "year_selector = widgets.Dropdown(\n",
    "    options=[placeholders['year']] + years_options,\n",
    "    description='Select a year:',\n",
    "    disabled=False,\n",
    "    style=style,\n",
    "    layout=dropdown_layout\n",
    ")\n",
    "\n",
    "# SelectionRangeSlider for years\n",
    "year_range_selector = widgets.SelectionRangeSlider(\n",
    "    options=years_options,\n",
    "    index=(len(years_options) - 1, len(years_options) - 1),  # Start and end at the last\n",
    "    description='Select the year range:',\n",
    "    disabled=False,\n",
    "    style=style,\n",
    "    layout=range_layout\n",
    ")\n",
    "\n",
    "selectors = {\n",
    "    \"country\" : country_selector,\n",
    "    \"adm1_subarea\": adm1_subarea_selector,\n",
    "    \"adm2_subarea\": adm2_subarea_selector,\n",
    "    \"timescale\": timescale_selector,\n",
    "    \"month\": month_selector,\n",
    "    \"year\": year_selector,\n",
    "    \"year_range\": year_range_selector    \n",
    "}\n",
    "\n",
    "\n",
    "month_widgets_btn = widgets.Button(\n",
    "    description='Get data',\n",
    "    disabled=False,\n",
    "    button_style='info', # 'success', 'info', 'warning', 'danger' or ''\n",
    "    tooltip='Click me',\n",
    "    icon='filter', # (FontAwesome names without the `fa-` prefix)month\n",
    "    layout=btn_layout\n",
    ")\n",
    "month_widgets_btn.custom_name='month_widgets_btn'\n",
    "\n",
    "\n",
    "year_widgets_btn = widgets.Button(\n",
    "    description='Get data',\n",
    "    disabled=False,\n",
    "    button_style='info', # 'success', 'info', 'warning', 'danger' or ''\n",
    "    tooltip='Click me',\n",
    "    icon='filter', # (FontAwesome names without the `fa-` prefix)\n",
    "    layout=btn_layout\n",
    ")\n",
    "year_widgets_btn.custom_name='year_widgets_btn'\n",
    "\n",
    "year_range_widgets_btn = widgets.Button(\n",
    "    description='Get data',\n",
    "    disabled=False,\n",
    "    button_style='info', # 'success', 'info', 'warning', 'danger' or ''\n",
    "    tooltip='Click me',\n",
    "    icon='filter', # (FontAwesome names without the `fa-` prefix)\n",
    "    layout=btn_layout\n",
    ")\n",
    "year_range_widgets_btn.custom_name='year_range_widgets_btn'\n",
    "\n",
    "# Output area for display updates\n",
    "output_area = widgets.Output()"
   ]
  },
  {
   "cell_type": "markdown",
   "id": "79c945ed-38ca-4a45-adbb-da89e5e3825d",
   "metadata": {},
   "source": [
    "The functions in the next cell handle user input, process data based on those inputs, and update the notebook interface accordingly. Here’s a summary of the key components:\n",
    "\n",
    "- `setup_observers` function: sets up event listeners (observers) for UI widgets, specifically for the country selector dropdown. This function ensures efficient setup by setting the observers only once. When the value of the country selector changes, it triggers a function to update related subarea dropdowns based on the selected country. It uses a custom attribute to prevent multiple instances of observer setup.\n",
    "- `update_and_get_data` function: handles data retrieval and UI updates based on user interactions, such as button clicks. It processes the selections, validates them, retrieves the relevant data, and updates the output area with the results and a map display. It ientifies which button was pressed and updates month/year selections accordingly; validates selections and, if valid, clears the output, retrieves geographic boundaries, and fetches data based on these; displays the fetched data and a map centered on the selected region.\n",
    "- `on_button_clicked` function: acts as a trigger for button clicks, calling update_and_get_data with the appropriate button identifier.\n",
    "\n",
    "The observers (event listeners) are set up via `setup_observers()` at the end of the cell to ensure all widgets are ready to handle user input as soon as the notebook is run."
   ]
  },
  {
   "cell_type": "code",
   "execution_count": null,
   "id": "b41cd5f7-0669-445b-ba86-77c599a3a9a8",
   "metadata": {},
   "outputs": [],
   "source": [
    "def setup_observers():\n",
    "    \"\"\"\n",
    "    Sets up observers for UI widgets to handle interactions and updates dynamically in a graphical user interface.\n",
    "    This function ensures that observers are only set once using a function attribute to track whether observers have\n",
    "    already been established, enhancing efficiency and preventing multiple bindings to the same event.\n",
    "\n",
    "    Observer is attached to widgets for country selection. This observer triggers specific functions when the 'value' property \n",
    "    of the widgets changes, facilitating responsive updates to the user interface\n",
    "    based on user interactions.\n",
    "\n",
    "    Notes:\n",
    "    - This function uses a custom attribute `observers_set` on itself to ensure observers are set only once.\n",
    "    \"\"\"\n",
    "    if not hasattr(setup_observers, 'observers_set'):      \n",
    "            # When 'value' changes, update_subareas function will be called to update the dropdown menus\n",
    "            # Create a partial function that includes the additional parameters\n",
    "            country_selector.observe(partial(widgets_handler.update_subareas, \n",
    "                                         country_list=country_list, \n",
    "                                         placeholders=placeholders,\n",
    "                                         adm1_subarea_selector=adm1_subarea_selector, \n",
    "                                         adm2_subarea_selector=adm2_subarea_selector), 'value')\n",
    "            # Set a flag to indicate observers are set\n",
    "            setup_observers.observers_set = True\n",
    "\n",
    "\n",
    "            \n",
    "\n",
    "def update_and_get_data(btn_name):\n",
    "    \"\"\"\n",
    "    Update and retrieve data based on user interactions and selections.\n",
    "\n",
    "    This function handles user interactions, validates selections, calculates geographic bounding boxes,\n",
    "    fetches the corresponding data subset, and updates the output area with relevant information and a map display.\n",
    "\n",
    "    Parameters:\n",
    "    btn_name (str): The name of the button that triggered the interaction.\n",
    "\n",
    "    Global Variables:\n",
    "    selected (dict): Dictionary containing current selections for various parameters.\n",
    "    placeholders (dict): Dictionary of placeholder values.\n",
    "    output_area (OutputArea): The output area widget to display messages and results.\n",
    "    subset_data (xarray.DataArray): Subset of data fetched based on the bounding box.\n",
    "    index (str): Index for the subset data, constructed from timescale value.\n",
    "    bounding_box (tuple): Bounding box coordinates (min_lon, min_lat, max_lon, max_lat) for the selected area.\n",
    "    active_btn (str): The name of the currently active button.\n",
    "\n",
    "    Steps:\n",
    "    1. Set the active button name.\n",
    "    2. Update the month and year selections based on the button interaction.\n",
    "    3. Validate the current selections.\n",
    "    4. If selections are valid:\n",
    "       a. Clear the output area.\n",
    "       b. Retrieve the geographic boundaries for the selected area.\n",
    "       c. Calculate the bounding box for the selected area.\n",
    "       d. Fetch the data subset based on the bounding box.\n",
    "       e. Determine the administrative level, selected area name, timescale, and time period.\n",
    "       f. Print information about the uploaded subset data.\n",
    "       g. Display the map with the bounding box and appropriate zoom level.\n",
    "\n",
    "\n",
    "    Notes:\n",
    "    - The function assumes the existence of utility functions within the 'uti' module for handling interactions, validations, \n",
    "      data fetching, and map display.\n",
    "    - The global variables should be properly initialized before calling this function.\n",
    "    \"\"\"\n",
    "    global selected, placeholders, output_area, subset_data, index, bounding_box, active_btn\n",
    "    map_display = None\n",
    "    active_btn = btn_name\n",
    "    widgets_handler.month_year_interaction(btn_name, month_selector, year_selector, selected, placeholders)\n",
    "    if widgets_handler.validate_selections(btn_name, selected, selectors, placeholders, output_area):\n",
    "        with output_area:\n",
    "            output_area.clear_output(wait=True)\n",
    "            coordinates = coordinates_retriver.get_boundaries(selected, country_list, placeholders)\n",
    "            # print(coordinates)\n",
    "            bounding_box = coordinates_retriver.calculate_bounding_box(coordinates)\n",
    "            # print(bounding_box)            \n",
    "                        \n",
    "            # sample_coordinates = coordinates[:3] # Showing first 3 coordinates for brevity            \n",
    "            # print('Original Coordinates Sample: ', sample_coordinates)  \n",
    "            # print('Bounding Box: ', bounding_box)\n",
    "                        \n",
    "            # Fetching data using the bounding box\n",
    "            subset_data = data_preprocess.get_xarray_data(btn_name, bounding_box, selectors, placeholders, months, timescales)\n",
    "            index = f\"SPEI{timescales[selectors['timescale'].value]}\"\n",
    "            adm_level, selected_area = widgets_handler.get_adm_level_and_area_name(selected, placeholders)\n",
    "            timescale = selected['timescale']\n",
    "            time_period = widgets_handler.get_period_of_time(btn_name, selected, placeholders)\n",
    "                \n",
    "            print(f\"SPEI subset data uploaded for {selected_area}, administrative level {adm_level}, timescale {timescale}, period {time_period}\")\n",
    "            zoom_start = 4\n",
    "            if adm_level == 'ADM1' or adm_level == 'ADM2':\n",
    "                zoom_start = 8  \n",
    "            map_display = coordinates_retriver.display_map(bounding_box, zoom_start)\n",
    "            map_iframe = coordinates_retriver.display_map_in_iframe(map_display)\n",
    "            display(map_iframe)\n",
    "\n",
    "            \n",
    "# Set up widget interaction\n",
    "def on_button_clicked(btn):\n",
    "    update_and_get_data(btn.custom_name)\n",
    "\n",
    "\n",
    "# Setup observers\n",
    "setup_observers()"
   ]
  },
  {
   "cell_type": "markdown",
   "id": "e46ae7d4-e746-4a72-ac5f-658651ef64aa",
   "metadata": {},
   "source": [
    "The cell belowed is designed to reload and set up the user interface widgets based on previously saved selections, enhancing user experience by maintaining state across sessions or after a notebook refresh. It begins by loading previously saved selections from the `selection.json` file.  \n",
    "Then it restore the widget states: the values for the country, administrative subareas, timescale, and month widgets are restored using data from the previously saved selections. If no previous data exists for a particular widget, it defaults to the placeholder value.  \n",
    "The `on_click` event for the 'Get data' button (`month_widgets_btn`) is configured to trigger the on_button_clicked function when clicked. This function is responsible for initiating the data fetching and processing based on current widget selections.  \n",
    "Finally, all the widgets along with the output area are displayed. This includes the dropdown selectors for country, subareas, and timescale, the month selector, and the button for initiating data retrieval. The output_area is where messages, errors, or the results (like maps or data summaries) will be shown after the user interacts with the widgets.\n",
    "\n",
    "\n",
    "Regarding the choice of the area, please take into account that the larger the area, the more computational power and time it will take to retrieve the data. So, if your device is not powerful, choose smaller areas, such as second-level subareas.\n",
    "\n",
    "If you click the 'Get data' button before choosing the necessary options from the dropdown menu, a message will be displayed under the widgets' block explaining what you missed. \n",
    "\n",
    "If all the selections are made, you will receive three messages:\n",
    "1. The retrieval of the coordinates for the selected area was successful ('Coordinates retrieved for...').\n",
    "2. The data retrieval was successful ('SPEI subset data uploaded for...')\n",
    "3. A map of the selected area is displayed, which can help you check if the area is the one you are interested in."
   ]
  },
  {
   "cell_type": "code",
   "execution_count": null,
   "id": "421dcff7-acda-4d8d-850a-9cb2c3e412f1",
   "metadata": {},
   "outputs": [],
   "source": [
    "# Update existing selectors\n",
    "previous_selection = widgets_handler.read_json_to_dict('selection.json')\n",
    "\n",
    "# Set up widgets with previous settings\n",
    "country_selector.value = previous_selection.get('country', placeholders['country'])\n",
    "adm1_subarea_selector.value = previous_selection.get('adm1_subarea', placeholders['adm1_subarea'])\n",
    "adm2_subarea_selector.value = previous_selection.get('adm2_subarea', placeholders['adm2_subarea'])\n",
    "timescale_selector.value = previous_selection.get('timescale', placeholders['timescale'])\n",
    "month_selector.value = previous_selection.get('month', placeholders['month'])\n",
    "month_widgets_btn.on_click(on_button_clicked)\n",
    "\n",
    "# Display widgets\n",
    "display(country_selector, adm1_subarea_selector, adm2_subarea_selector, timescale_selector, month_selector, month_widgets_btn, output_area)"
   ]
  },
  {
   "cell_type": "markdown",
   "id": "efa1bdb4-8b3f-4ff8-80a7-ab5ff21d73b8",
   "metadata": {},
   "source": [
    "Now you have retrieved the data of your interest in a variable named `subset_data[index]`, where index is the SPEI index you have chosen.\n",
    "\n",
    "Using the `data_preprocess.display_data_details` function, you can examine your data to check the following:\n",
    "- If the values chosen from the dropdown menu are correct.\n",
    "- The number of time, latitude, and longitude values present.\n",
    "- A sample of the first SPEI values."
   ]
  },
  {
   "cell_type": "code",
   "execution_count": null,
   "id": "213097ca-0df1-4d67-b180-cbf65aca2917",
   "metadata": {},
   "outputs": [],
   "source": [
    "data_preprocess.display_data_details(active_btn, selected, subset_data[index])"
   ]
  },
  {
   "cell_type": "code",
   "execution_count": null,
   "id": "7214c064-2c5b-4f15-899a-659602f371c1",
   "metadata": {},
   "outputs": [],
   "source": [
    "print(index)"
   ]
  },
  {
   "cell_type": "code",
   "execution_count": null,
   "id": "62ae67c8-759c-4281-8939-53b6a8e71ff6",
   "metadata": {},
   "outputs": [],
   "source": [
    "processed_subset, change_summary = data_preprocess.process_datarray(subset_data[index])\n",
    "print(processed_subset, '\\n')\n",
    "print('Change summary:')\n",
    "for key, val in change_summary.items():\n",
    "    print(key, val)"
   ]
  },
  {
   "cell_type": "code",
   "execution_count": null,
   "id": "df8bef5a-2c45-4be8-9169-9b63e665247e",
   "metadata": {},
   "outputs": [],
   "source": [
    "# Convert datetime objects to strings and extract the year for the slider labels\n",
    "maps_year_labels = {i: str(processed_subset.time.values[i].astype('datetime64[Y]')) for i in range(len(processed_subset.time))}\n",
    "\n",
    "maps_year_slider = widgets.SelectionSlider(\n",
    "    options=[(maps_year_labels[i], i) for i in range(len(maps_year_labels))],\n",
    "    value=0,\n",
    "    description='Year:',\n",
    "    disabled=False,\n",
    "    continuous_update=False,\n",
    "    orientation='horizontal',\n",
    "    readout=True\n",
    ")\n",
    "\n",
    "# Use a lambda to pass both ds (processed_subset) and time_index to the function\n",
    "maps_year_slider_plot = widgets.interactive(lambda time_index: charts.plot_spei_geographical_distribution(processed_subset, time_index), time_index=maps_year_slider)\n",
    "display(maps_year_slider_plot)"
   ]
  },
  {
   "cell_type": "code",
   "execution_count": null,
   "id": "7cf9e3bd-f454-4069-96c3-f92fd2728f6f",
   "metadata": {},
   "outputs": [],
   "source": [
    "stat_values = data_preprocess.compute_stats(processed_subset)"
   ]
  },
  {
   "cell_type": "code",
   "execution_count": null,
   "id": "603e5d56-e15b-46b1-b953-8a60d70f2166",
   "metadata": {},
   "outputs": [],
   "source": [
    "charts.create_scatterplot(stat_values, timescales, selected, placeholders)"
   ]
  },
  {
   "cell_type": "code",
   "execution_count": null,
   "id": "da66d52e-ffd9-4231-ae96-dce4f9a8fb64",
   "metadata": {},
   "outputs": [],
   "source": [
    "charts.create_boxplot(stat_values, timescales, selected, placeholders)"
   ]
  },
  {
   "cell_type": "code",
   "execution_count": null,
   "id": "f1c0853a-f960-4ab1-b8a2-c74120418966",
   "metadata": {},
   "outputs": [],
   "source": [
    "charts.create_std_dev_bar_chart(stat_values, timescales, selected, placeholders)"
   ]
  },
  {
   "cell_type": "code",
   "execution_count": null,
   "id": "704a12ae-dc3e-4229-92aa-c3f02faacc1e",
   "metadata": {},
   "outputs": [],
   "source": [
    "# Update existing selectors\n",
    "previous_selection = widgets_handler.read_json_to_dict('selection.json')\n",
    "\n",
    "# Set up widgets with previous settings\n",
    "country_selector.value = previous_selection.get('country', placeholders['country'])\n",
    "adm1_subarea_selector.value = previous_selection.get('adm1_subarea', placeholders['adm1_subarea'])\n",
    "adm2_subarea_selector.value = previous_selection.get('adm2_subarea', placeholders['adm2_subarea'])\n",
    "timescale_selector.value = previous_selection.get('timescale', placeholders['timescale'])\n",
    "year_selector.value = previous_selection.get('year', placeholders['year'])\n",
    "year_widgets_btn.on_click(on_button_clicked)\n",
    "\n",
    "# Display widgets\n",
    "display(country_selector, adm1_subarea_selector, adm2_subarea_selector, timescale_selector, year_selector, year_widgets_btn, output_area)"
   ]
  },
  {
   "cell_type": "code",
   "execution_count": null,
   "id": "ff180e62-8735-42b9-9fd6-08b6159f6c03",
   "metadata": {},
   "outputs": [],
   "source": [
    "data_preprocess.display_data_details(active_btn, selected, subset_data[index])"
   ]
  },
  {
   "cell_type": "code",
   "execution_count": null,
   "id": "4217b710-9f2f-4942-8e9f-3ec610246f3e",
   "metadata": {},
   "outputs": [],
   "source": [
    "processed_subset, change_summary = data_preprocess.process_datarray(subset_data[index])\n",
    "print(processed_subset, '\\n')\n",
    "print('Change summary:')\n",
    "for key, val in change_summary.items():\n",
    "    print(key, val)"
   ]
  },
  {
   "cell_type": "code",
   "execution_count": null,
   "id": "2eff3063-03bf-4685-b382-aee245c06f18",
   "metadata": {},
   "outputs": [],
   "source": [
    "stat_values = data_preprocess.compute_stats(processed_subset, full_stats=False)"
   ]
  },
  {
   "cell_type": "code",
   "execution_count": null,
   "id": "6bde9279-bcbc-4719-a5c3-938e6378468d",
   "metadata": {},
   "outputs": [],
   "source": [
    "charts.create_linechart(stat_values, timescales, selected, placeholders)"
   ]
  },
  {
   "cell_type": "code",
   "execution_count": null,
   "id": "41b6c4b2-0620-4c8c-b0e6-9d078785dc6d",
   "metadata": {},
   "outputs": [],
   "source": [
    "# Update existing selectors\n",
    "previous_selection = widgets_handler.read_json_to_dict('selection.json')\n",
    "\n",
    "# Set up widgets with previous settings\n",
    "country_selector.value = previous_selection.get('country', placeholders['country'])\n",
    "adm1_subarea_selector.value = previous_selection.get('adm1_subarea', placeholders['adm1_subarea'])\n",
    "adm2_subarea_selector.value = previous_selection.get('adm2_subarea', placeholders['adm2_subarea'])\n",
    "timescale_selector.value = previous_selection.get('timescale', placeholders['timescale'])\n",
    "year_range_selector.value = previous_selection.get('year_range')\n",
    "year_range_widgets_btn.on_click(on_button_clicked)\n",
    "\n",
    "# Display widgets\n",
    "display(country_selector, adm1_subarea_selector, adm2_subarea_selector, timescale_selector, year_range_selector, year_range_widgets_btn, output_area)"
   ]
  },
  {
   "cell_type": "code",
   "execution_count": null,
   "id": "e205916c-730e-4cd5-9ea2-7037cfd7b75e",
   "metadata": {},
   "outputs": [],
   "source": [
    "data_preprocess.display_data_details(active_btn, selected, subset_data[index])"
   ]
  },
  {
   "cell_type": "code",
   "execution_count": null,
   "id": "765633ff-786a-4834-afa1-7680c850f052",
   "metadata": {},
   "outputs": [],
   "source": [
    "processed_subset, change_summary = data_preprocess.process_datarray(subset_data[index])\n",
    "print(processed_subset, '\\n')\n",
    "print('Change summary:')\n",
    "for key, val in change_summary.items():\n",
    "    print(key, val)"
   ]
  },
  {
   "cell_type": "code",
   "execution_count": null,
   "id": "66fe84d2-44d0-4c41-b5bf-ed0fe1f51a96",
   "metadata": {},
   "outputs": [],
   "source": [
    "stat_values = data_preprocess.compute_stats(processed_subset, full_stats=False)"
   ]
  },
  {
   "cell_type": "code",
   "execution_count": null,
   "id": "8b4b21cc-d97f-4aa1-9d91-bb1ed4cd2093",
   "metadata": {},
   "outputs": [],
   "source": [
    "charts.create_stripechart(stat_values, timescales, selected, placeholders)"
   ]
  },
  {
   "cell_type": "code",
   "execution_count": null,
   "id": "bec3a084-60a8-4a95-ad8f-e38ca374362b",
   "metadata": {},
   "outputs": [],
   "source": [
    "charts.create_stripechart(stat_values, timescales, selected, placeholders, 'year')"
   ]
  },
  {
   "cell_type": "markdown",
   "id": "5a4c0743-0bf9-4ef7-9973-b1e3bde4d4f9",
   "metadata": {},
   "source": [
    "The list of countries, subareas, and their boundaries is obtained from the [geoBoundaries Global Database of Political Administrative Boundaries Database](https://www.geoboundaries.org/)."
   ]
  },
  {
   "cell_type": "code",
   "execution_count": null,
   "id": "4fbec24c-3aa1-42af-904f-c19f738e09bc",
   "metadata": {},
   "outputs": [],
   "source": []
  }
 ],
 "metadata": {
  "kernelspec": {
   "display_name": "Python 3",
   "language": "python",
   "name": "python3"
  },
  "language_info": {
   "codemirror_mode": {
    "name": "ipython",
    "version": 3
   },
   "file_extension": ".py",
   "mimetype": "text/x-python",
   "name": "python",
   "nbconvert_exporter": "python",
   "pygments_lexer": "ipython3",
   "version": "3.6.8"
  }
 },
 "nbformat": 4,
 "nbformat_minor": 5
}
